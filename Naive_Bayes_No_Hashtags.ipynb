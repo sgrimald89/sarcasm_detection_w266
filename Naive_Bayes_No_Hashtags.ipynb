{
 "cells": [
  {
   "cell_type": "code",
   "execution_count": 1,
   "metadata": {},
   "outputs": [
    {
     "name": "stdout",
     "output_type": "stream",
     "text": [
      "@DouglasLNorton @RealMAGASteve @ricktator417 @CoreyLMJones @RealEagleWings @IWillRedPillU @RodStryker @securefreedom @thebradfordfile @DonnaWR8 @MICHELL59952525 @mike_Zollo @Boyd_2650 I had to check your page &amp; see whether you were cleverly using   or one of these complete jackasses...very nice to see youre the former.|None|1\r\n",
      "@MultaniSaint No I told her its a terrible place with mean   people and she wants nothing to do with it|None|1\r\n",
      "Rather than the usual  , ridicule, shame, and assumption that people have ill intent. Sometimes people screw up. Sometimes people think they are doing enough and are mistaken. Sometimes they need help. https://t.co/aetd8D2TSr|None|1\r\n",
      "@schristakos @TenticalsIn @crypt_ghost @hortaun15 @Troll_Master101 @Unpersuaded112 @Apple Yea that was   and pubg isn’t that good of a game tbh|None|1\r\n",
      "@Ayanfx09 @hshaban The internet desperately needs a   / snark / parody font. &amp; not Comic Sans, either.|None|1\r\n",
      "@asteven79 @JinxTheSavage @Galeon_98 @KOSDFF Yes I know im being   you idiot|None|1\r\n",
      "@nicholasfilipas Of course it is.  Look at my timeline.  You know I am mostly  .|None|1\r\n",
      "@Tracker_TD Obvious   is obvious|None|1\r\n",
      "@ummmno21 Yeah it appears that inside jokes and   are taken as racist remarks....I was recently accused being a racist with a   remark.. I have siblings that are Mexican and Korean smh|None|1\r\n",
      "@meknt_ Yeah, youre CLEARLY talking to all the wrong people here. Well, theres one reason right there. The   is strong with the turtle.|None|1\r\n"
     ]
    }
   ],
   "source": [
    "!tail merged_data_v4.csv"
   ]
  },
  {
   "cell_type": "code",
   "execution_count": 2,
   "metadata": {
    "collapsed": true
   },
   "outputs": [],
   "source": [
    "from __future__ import print_function\n",
    "from __future__ import division\n",
    "import collections\n",
    "import nltk\n",
    "import numpy as np\n",
    "from nltk.tokenize.casual import TweetTokenizer\n",
    "from w266_common import utils, vocabulary\n",
    "import re\n",
    "np.random.seed(266)"
   ]
  },
  {
   "cell_type": "code",
   "execution_count": 3,
   "metadata": {},
   "outputs": [],
   "source": [
    "import csv\n",
    "tokenizer = TweetTokenizer()\n",
    "x_data = []\n",
    "labels = []\n",
    "sentences = []\n",
    "     \n",
    "  \n",
    "with open('merged_data_v4.csv', 'r') as csvfile:\n",
    "    linereader = csv.reader(csvfile, delimiter = '|')\n",
    "    for i, row in enumerate(linereader):\n",
    "        if i == 0:\n",
    "            continue\n",
    "        sentence, _, sarcasm = row\n",
    "        sentence = re.sub(\"RT @[^\\s]+:\", \"retweet\", sentence)\n",
    "        #sentences.append(sentence)\n",
    "        tokenized_words = tokenizer.tokenize(sentence)\n",
    "        x_tokens = utils.canonicalize_words(tokenized_words, hashtags =True)\n",
    "        index = np.argwhere(x_tokens==\"sarcasm\")\n",
    "        x_tokens = np.delete(x_tokens, index)\n",
    "        index = np.argwhere(x_tokens==\"sarcastic\")\n",
    "        x_tokens = np.delete(x_tokens, index)\n",
    "        x_data.append(x_tokens)\n",
    "        labels.append(int(sarcasm))\n",
    "\n",
    "\n",
    "shuffle_indices = np.random.permutation(np.arange(len(labels)))\n",
    "train_split_idx = int(0.7 * len(labels))\n",
    "test_split_idx  = int(0.9 * len(labels))\n",
    "\n",
    "train_indices = shuffle_indices[:train_split_idx]\n",
    "validation_indices = shuffle_indices[train_split_idx:test_split_idx]\n",
    "test_indices = shuffle_indices[test_split_idx:]\n",
    "\n",
    "x_data = np.array(x_data)\n",
    "labels = np.array(labels)\n",
    "train_sentences = x_data[train_indices]\n",
    "train_labels= labels[train_indices] \n",
    "validation_sentences = x_data[validation_indices]\n",
    "validation_labels = labels[validation_indices]\n",
    "test_sentences = x_data[test_indices]  \n",
    "test_labels = labels[test_indices]  \n",
    "\n"
   ]
  },
  {
   "cell_type": "code",
   "execution_count": 4,
   "metadata": {},
   "outputs": [
    {
     "name": "stdout",
     "output_type": "stream",
     "text": [
      "x_ids = {'<s>': 0, '</s>': 1, '<unk>': 2, 'HASHTAG': 3, 'ACCOUNT': 4, '.': 5, 'LINK': 6, 'the': 7, ',': 8, 'to': 9, 'retweet': 10, 'a': 11, '!': 12, 'i': 13, 'and': 14, 'of': 15, '…': 16, 'you': 17, 'is': 18, 'in': 19, 'for': 20, '’': 21, '?': 22, ':': 23, 'it': 24, 'on': 25, 'that': 26, '-': 27, 'this': 28, 'with': 29, '...': 30, 'my': 31, 'your': 32, 'be': 33, 'was': 34, 'are': 35, 'DG': 36, 'DGDG': 37, 'not': 38, ')': 39, '(': 40, 'at': 41, 's': 42, '️': 43, '&': 44, 'we': 45, 'all': 46, '/': 47, 'if': 48, 'have': 49, 'just': 50, 'so': 51, 't': 52, 'but': 53, 'like': 54, 'me': 55, 'can': 56, 'being': 57, 'what': 58, 'rt': 59, 'from': 60, 'now': 61, 'out': 62, 'by': 63, 'they': 64, 'our': 65, 'as': 66, 'he': 67, 'people': 68, 'about': 69, 'free': 70, 'no': 71, '😂': 72, 'or': 73, 'get': 74, 'how': 75, 'its': 76, 'do': 77, 'more': 78, 'will': 79, 'know': 80, '#': 81, 'DGDGDGDG': 82, 'one': 83, '$': 84, '*': 85, 'who': 86, 'an': 87, 'when': 88, 'up': 89, 'im': 90, 'DGDGDG': 91, '🔥': 92, 'good': 93, 'us': 94, 'new': 95, 'follow': 96, 'has': 97, 'here': 98, 'would': 99, 'love': 100, 'time': 101, 'best': 102, 'dont': 103, 'm': 104, 'his': 105, 'great': 106, 'see': 107, 'think': 108, ':/': 109, 'because': 110, 'right': 111, 'really': 112, 'only': 113, 'their': 114, 'need': 115, 'should': 116, 'way': 117, 'am': 118, 'some': 119, 'there': 120, 'make': 121, 'via': 122, '“': 123, 'day': 124, 'don': 125, '↴': 126, '”': 127, 'well': 128, 'were': 129, 'today': 130, 'why': 131, 'want': 132, 'had': 133, 're': 134, 'been': 135, '..': 136, 'than': 137, 'please': 138, 'thanks': 139, 'check': 140, 'sure': 141, '%': 142, 'her': 143, 'she': 144, 'most': 145, 'them': 146, 'oh': 147, 'very': 148, 'even': 149, 'go': 150, 'back': 151, 'any': 152, 'going': 153, 'lol': 154, 'too': 155, 'first': 156, 'work': 157, 'got': 158, 'into': 159, 'never': 160, 'world': 161, '⭐': 162, 'off': 163, 'over': 164, 'game': 165, 'him': 166, 'online': 167, 'win': 168, 'these': 169, 'much': 170, 'did': 171, 'then': 172, 'could': 173, 'say': 174, 'after': 175, 'still': 176, 'news': 177, 'said': 178, 'march': 179, 'someone': 180, 'thats': 181, 'u': 182, 'join': 183, 'youre': 184, 'those': 185, 'take': 186, 'tell': 187, 'everyone': 188, 'twitter': 189, 'use': 190, '+': 191, 'let': 192, 'enter': 193, 'thank': 194, 'sex': 195, 'chance': 196, 'cant': 197, 'live': 198, 'other': 199, 'quotes': 200, 'look': 201, 'life': 202, 'better': 203, 'also': 204, 'thought': 205, 'tweet': 206, 'understand': 207, 'team': 208, 'mean': 209, 'again': 210, 'media': 211, '[': 212, 'come': 213, 'keep': 214, 'gun': 215, 'looking': 216, ']': 217, 'read': 218, '>': 219, 'support': 220, 'ever': 221, 'always': 222, 'thing': 223, 'registration': 224, 'yes': 225, 'yeah': 226, 'happy': 227, 'last': 228, ';': 229, 'something': 230, 'cams': 231, 'tokkens': 232, 'every': 233, 'help': 234, 'show': 235, 'white': 236, '🕰': 237, '🎮': 238, 'left': 239, 'down': 240, 'actually': 241, 'trump': 242, 'many': 243, '🖥': 244, 'which': 245, 'nice': 246, 'latest': 247, 'account': 248, 'before': 249, 'real': 250, '❤': 251, '💎': 252, 'friends': 253, 'without': 254, 'feel': 255, 'made': 256, 'must': 257, 'job': 258, 'bad': 259, 'didnt': 260, 'give': 261, 'around': 262, 'everything': 263, 'where': 264, 'guy': 265, 'man': 266, 'years': 267, 'watch': 268, 'hey': 269, 'nothing': 270, 'airdrop': 271, 'click': 272, 'guys': 273, '🤣': 274, 'hes': 275, 'things': 276, 'funny': 277, 'guns': 278, 'anyone': 279, '@': 280, 'video': 281, 'fun': 282, 'worth': 283, 'sorry': 284, 'days': 285, 'wow': 286, 'does': 287, 'anything': 288, 'money': 289, 'crypto': 290, 'wait': 291, 'person': 292, '£': 293, 'little': 294, 'big': 295, 'school': 296, 'r': 297, 'next': 298, 'away': 299, 'through': 300, 'top': 301, 'doing': 302, 'accounts': 303, 'two': 304, 'part': 305, 'blockchain': 306, 'may': 307, 'games': 308, 'another': 309, 'needs': 310, 'makes': 311, 'since': 312, 'find': 313, 'own': 314, 'using': 315, 'such': 316, 'try': 317, 'internet': 318, 'few': 319, 'believe': 320, 'done': 321, 'having': 322, 've': 323, 'while': 324, 'getting': 325, 'says': 326, 'hope': 327, 'share': 328, 'community': 329, 'full': 330, 'wrong': 331, 'serious': 332, 'doesnt': 333, 'saying': 334, 'stop': 335, 'tag': 336, '🙄': 337, '😍': 338, '—': 339, 'year': 340, 'week': 341, 'home': 342, 'history': 343, 'god': 344, 'shit': 345, 'kids': 346, 'buy': 347, 'business': 348, '‘': 349, 'd': 350, 'coming': 351, '\\u200d': 352, 'same': 353, 'comment': 354, 'start': 355, 'sense': 356, 'put': 357, 'joke': 358, 'women': 359, 'trying': 360, 'morning': 361, 'playing': 362, 'future': 363, 'face': 364, 'care': 365, 'didn': 366, 'facebook': 367, ':)': 368, 'w': 369, 'es': 370, 'making': 371, 'already': 372, 'season': 373, 'important': 374, 'data': 375, ':@': 376, 'end': 377, 'doesn': 378, 'daily': 379, 'telegram': 380, 'hard': 381, 'old': 382, 'listen': 383, 'once': 384, 'post': 385, 'soundtwit': 386, 'fh__400inst': 387, 'stupid': 388, 'bitcoin': 389, 'giveaway': 390, 'social': 391, 'ok': 392, 'definitely': 393, 'point': 394, 'music': 395, 'h': 396, 'house': 397, 'sale': 398, 'used': 399, 'isnt': 400, 'DGDGDGDGDG': 401, 'night': 402, 'long': 403, 'DG.DGDG': 404, '✔': 405, 'guess': 406, 'glad': 407, 'ive': 408, '•': 409, 'both': 410, 'DG.DG': 411, 'song': 412, 'maybe': 413, 'humor': 414, 'amazing': 415, 'totally': 416, 'https': 417, 'change': 418, 'sometimes': 419, 'against': 420, '✨': 421, 'htt': 422, 'x': 423, 'words': 424, 'problem': 425, 'group': 426, 'hours': 427, 'lot': 428, '👉': 429, 'smart': 430, 'giving': 431, 'high': 432, 'talk': 433, 'enough': 434, 'call': 435, '🤔': 436, 'clearly': 437, 'america': 438, 'price': 439, 'summer': 440, 'international': 441, 'told': 442, '🏻': 443, 'learn': 444, 'true': 445, 'token': 446, 'black': 447, 'isn': 448, 'ill': 449, 'hate': 450, 'fans': 451, 'link': 452, '~': 453, 'service': 454, 'welcome': 455, 'apply': 456, 'else': 457, 'tweets': 458, 'article': 459, 'add': 460, 'lets': 461, 'whole': 462, 'perfect': 463, 'cool': 464, 'between': 465, 'young': 466, 'though': 467, 'spring': 468, 'million': 469, 'll': 470, 'course': 471, 'hear': 472, 'play': 473, 'might': 474, 'technology': 475, 'head': 476, 'soon': 477, 'public': 478, 'called': 479, 'open': 480, 'yet': 481, '=': 482, 'ask': 483, 'book': 484, 'less': 485, 'level': 486, 'question': 487, 'ur': 488, 'probably': 489, 'awesome': 490, 'looks': 491, 'during': 492, 'president': 493, 'government': 494, 'gonna': 495, 'boy': 496, 'story': 497, 'hilarious': 498, 'country': 499, 'each': 500, 'kind': 501, 'gets': 502, '–': 503, 'family': 504, 'view': 505, 'reason': 506, 'starting': 507, 'ico': 508, 'place': 509, 'run': 510, '👍': 511, 'bonus': 512, 'under': 513, 'font': 514, 'gift': 515, 'name': 516, 'remember': 517, 'idea': 518, 'david': 519, 'available': 520, 'platform': 521, 'laws': 522, 'dark': 523, 'case': 524, 'least': 525, 'health': 526, 'friend': 527, 'super': 528, 'company': 529, 'human': 530, '🏼': 531, 'either': 532, 'project': 533, 'men': 534, 'bring': 535, 'single': 536, 'fake': 537, 'c': 538, 'instead': 539, 'word': 540, 'market': 541, 'vocalistwithhis': 542, 'official': 543, 'loving': 544, 'ready': 545, 'b': 546, 'thinking': 547, 'children': 548, 'fucking': 549, 'simply': 550, 'tone': 551, 'second': 552, 'followers': 553, 'easy': 554, 'apparently': 555, 'favorite': 556, 'bit': 557, 'sunday': 558, 'popular': 559, 'f': 560, 'others': 561, 'until': 562, 'visit': 563, 'almost': 564, 'mind': 565, 'answer': 566, 'control': 567, 'usa': 568, 'australia': 569, 'cricket': 570, 'club': 571, 'times': 572, 'wonder': 573, 'wants': 574, 'knows': 575, 'questions': 576, 'cause': 577, 'camp': 578, 'code': 579, 'n': 580, 'works': 581, '♀': 582, 'trading': 583, 'ya': 584, 'random': 585, 'means': 586, 'global': 587, 'lives': 588, 'digital': 589, 'card': 590, '➡': 591, 'become': 592, 'DGDG/DG': 593, 'banned': 594, 'police': 595, 'yourself': 596, 'hurt': 597, 'tech': 598, 'lost': 599, 'arent': 600, 'fuck': 601, 'sounds': 602, 'ass': 603, 'ends': 604, 'tokens': 605, 'power': 606, 'obvious': 607, '📢': 608, 'able': 609, 'eth': 610, 'girls': 611, 'cryptocurrency': 612, 'took': 613, 'uk': 614, 'break': 615, 'party': 616, 'steve': 617, 'dude': 618, 'india': 619, 'towards': 620, 'myself': 621, 'ht': 622, 'largest': 623, 'war': 624, '<': 625, 'poor': 626, 'DGDG:DGDG': 627, 'miss': 628, 'forward': 629, 'following': 630, 'leave': 631, 'instagram': 632, 'stem': 633, 'possible': 634, 'working': 635, 'takes': 636, 'talking': 637, 'DGDG.DGDG': 638, 'jokes': 639, 'comes': 640, 'pretty': 641, 'beautiful': 642, '😜': 643, 'three': 644, 'website': 645, 'late': 646, 'happen': 647, 'art': 648, 'water': 649, 'spent': 650, 'hit': 651, 'seems': 652, 'kill': 653, 'missed': 654, 'pay': 655, 'plan': 656, 'users': 657, 'experience': 658, 'terrorist': 659, 'franchise': 660, 'o': 661, '🙌': 662, 'far': 663, 'china': 664, 'vs': 665, 'seen': 666, 'seriously': 667, 'shocked': 668, 'proud': 669, 'player': 670, '▶': 671, 'dreams': 672, 'forget': 673, 'turn': 674, 'minutes': 675, 'hour': 676, 'tonight': 677, 'watching': 678, 'knew': 679, 'exchange': 680, '3d': 681, 'wasnt': 682, '😉': 683, 'heres': 684, 'based': 685, 'early': 686, 'fan': 687, 'y': 688, 'calling': 689, 'id': 690, 'hands': 691, 'event': 692, 'phone': 693, 'behind': 694, 'sports': 695, 'students': 696, 'groups': 697, 'language': 698, 'obviously': 699, 'shot': 700, 'easter': 701, 'sign': 702, 'fine': 703, 'taking': 704, 'small': 705, 'attention': 706, 'center': 707, 'theres': 708, 'wont': 709, 'DG-DG': 710, 'violence': 711, 'anymore': 712, 'set': 713, 'sweet': 714, 'nra': 715, 'biggest': 716, 'page': 717, 'lovely': 718, '🏽': 719, 'killer': 720, 'wall': 721, 'protect': 722, 'v': 723, 'happened': 724, 'design': 725, 'lmao': 726, 'intelligence': 727, 'eyes': 728, 'incredible': 729, 'heard': 730, '💰': 731, 'body': 732, 'extra': 733, 'act': 734, 'stay': 735, 'absolutely': 736, 'ha': 737, 'short': 738, 'interesting': 739, '🤦': 740, 'fight': 741, 'match': 742, 'smith': 743, 'death': 744, 'air': 745, 'five': 746, 'side': 747, '🎶': 748, 'heart': 749, 'voice': 750, 'haha': 751, 'american': 752, 'dead': 753, 'tomorrow': 754, 'four': 755, 'teacher': 756, 'designer': 757, 'items': 758, '🇺': 759, 'stuff': 760, 'royal': 761, 'pick': 762, 'stream': 763, 'literally': 764, 'damn': 765, 'hell': 766, 'bc': 767, 'wanna': 768, 'radio': 769, 'vote': 770, 'went': 771, 'won': 772, 'started': 773, 'opening': 774, 'movie': 775, 'girl': 776, '✅': 777, 'perhaps': 778, 'amazon': 779, 'emoji': 780, 'move': 781, 'rights': 782, 'deal': 783, 'speak': 784, 'e': 785, 'safer': 786, 'australian': 787, 'pushing': 788, '👏': 789, 'cyber': 790, 'found': 791, 'enjoy': 792, 'note': 793, 'picks': 794, 'supposed': 795, 'theyre': 796, 'send': 797, 'personal': 798, 'dumb': 799, 'exactly': 800, 'fire': 801, 'gave': 802, 'august': 803, 'law': 804, 'wish': 805, '♂': 806, 'united': 807, 'list': 808, 'jesus': 809, 'ppl': 810, 'clean': 811, 'btc': 812, 'wasn': 813, 'city': 814, 'past': 815, 'russia': 816, 'ahead': 817, 'class': 818, 'bitch': 819, 'final': 820, 'meet': 821, 'order': 822, 'matter': 823, 'special': 824, 'crazy': 825, '🇸': 826, 'graphics': 827, 'shocking': 828, 'room': 829, 'text': 830, 'honestly': 831, 'btw': 832, 'tips': 833, 'wanted': 834, 'yay': 835, 'sad': 836, 'society': 837, 'ban': 838, 'national': 839, 'horrible': 840, 'grow': 841, 'beat': 842, '👇': 843, '💋': 844, 'smile': 845, 'finally': 846, 'truly': 847, 'review': 848, 'gaming': 849, 'industry': 850, 'comments': 851, 'across': 852, 'meant': 853, 'classic': 854, 'truth': 855, 'believing': 856, 'ball': 857, 'address': 858, 'forgot': 859, 'paul': 860, 'system': 861, 'dogs': 862, 'grade': 863, 'sell': 864, 'birthday': 865, 'breaking': 866, 'paper': 867, 'successful': 868, 'racist': 869, 'marketing': 870, 'security': 871, 'boys': 872, 'volume': 873, 'obama': 874, 'youtube': 875, '🤷': 876, 'killed': 877, 'details': 878, 'front': 879, 'irony': 880, 'omg': 881, 'silly': 882, 'dad': 883, 'response': 884, 'tv': 885, 'lie': 886, 'imagine': 887, 'competition': 888, 'safe': 889, 'drive': 890, 'league': 891, '🎉': 892, 'upon': 893, 'attack': 894, 'ceo': 895, 'recommend': 896, '！': 897, 'save': 898, 'mr': 899, 'agree': 900, 'telling': 901, 'facts': 902, 'manipulating': 903, 'hot': 904, 'winner': 905, 'college': 906, 'interested': 907, 'hogg': 908, 'luck': 909, 'car': 910, 'learning': 911, 'surprise': 912, 'cold': 913, 'lead': 914, 'moment': 915, 'laugh': 916, 'content': 917, 'hand': 918, '😒': 919, 'different': 920, 'asking': 921, 'came': 922, 'reading': 923, 'program': 924, 'john': 925, 'bio': 926, 'turned': 927, 'weekend': 928, 'sleep': 929, 'running': 930, 'okay': 931, 'fit': 932, 'stand': 933, 'total': 934, '😭': 935, 'DGDG/DGDG': 936, 'network': 937, 'trade': 938, 'ago': 939, 'earth': 940, 'political': 941, 'credit': 942, 'light': 943, 'strong': 944, 'lots': 945, 'age': 946, 'manager': 947, 'worse': 948, 'wife': 949, 'statement': 950, 'massive': 951, 'month': 952, 'nobody': 953, '🌿': 954, 'worst': 955, 'fear': 956, 'decades': 957, 'living': 958, 'problems': 959, '🙃': 960, 'red': 961, 'chat': 962, 'activist': 963, 'app': 964, 'th': 965, 'wallet': 966, 'goes': 967, 'fortnite': 968, 'church': 969, 'info': 970, 'weeks': 971, 'information': 972, 'luxuryliferss': 973, '💥': 974, 'woman': 975, 'weve': 976, 'prize': 977, 'couldnt': 978, 'heavy': 979, 'captain': 980, 'feeling': 981, '📸': 982, 'bomb': 983, 'excited': 984, 'weird': 985, 'state': 986, 'brain': 987, 'paying': 988, 'points': 989, 'position': 990, 'town': 991, 'male': 992, 'featuring': 993, 'type': 994, '💪': 995, 'sir': 996, 'added': 997, '👌': 998, 'building': 999, 'die': 1000, 'england': 1001, 'commission': 1002, 'everybody': 1003, 'americans': 1004, 'whatever': 1005, 'low': 1006, 'waiting': 1007, 'gold': 1008, 'cash': 1009, 'original': 1010, 'clear': 1011, 'hashtag': 1012, 'opinion': 1013, 'idiots': 1014, 'race': 1015, 'professional': 1016, 'deep': 1017, 'wouldnt': 1018, 'key': 1019, 'services': 1020, 'character': 1021, 'success': 1022, 'assault': 1023, 'reasons': 1024, '😎': 1025, 'rather': 1026, 'failure': 1027, 'blew': 1028, 'goal': 1029, 'ways': 1030, 'hi': 1031, 'mark': 1032, 'common': 1033, 'bag': 1034, 'cannot': 1035, 'winning': 1036, 'worked': 1037, 'whats': 1038, 'especially': 1039, 'major': 1040, 'months': 1041, 'illegal': 1042, 'results': 1043, 'thread': 1044, 'sound': 1045, 'together': 1046, 'given': 1047, 'posted': 1048, 'asked': 1049, 'access': 1050, 'ice': 1051, 'unique': 1052, '◀': 1053, 'line': 1054, 'retro': 1055, 'dare': 1056, 'politician': 1057, '🍀': 1058, 'issues': 1059, '⏬': 1060, 'straight': 1061, 'amendment': 1062, 'trust': 1063, '😀': 1064, 'edition': 1065, 'box': 1066, 'write': 1067, 'ी': 1068, 'germany': 1069, 'genuinely': 1070, 'photo': 1071, 'entered': 1072, 'image': 1073, 'assume': 1074, 'happens': 1075, 'completely': 1076, 'london': 1077, 'complete': 1078, 'getreallux': 1079, 'shop': 1080, 'insert': 1081, 'seem': 1082, '⚡': 1083, 'gb': 1084, 'celebrate': 1085, 'lucky': 1086, 'mom': 1087, 'liberal': 1088, 'donald': 1089, 'weight': 1090, 'pm': 1091, 'stories': 1092, 'campaign': 1093, 'fbi': 1094, 'child': 1095, 'taken': 1096, 'exclusive': 1097, 'folks': 1098, 'quite': 1099, 'teams': 1100, 'cloth-stagram': 1101, 'hello': 1102, 'education': 1103, 'rest': 1104, 'havent': 1105, 'communities': 1106, 'spotify': 1107, 'likes': 1108, 'l': 1109, 'needed': 1110, 'energy': 1111, 'missing': 1112, 'players': 1113, 'todays': 1114, 'dangerous': 1115, 'usually': 1116, 'vocalistwith': 1117, '😱': 1118, 'dog': 1119, 'earn': 1120, 'hair': 1121, '😊': 1122, 'de': 1123, 'loved': 1124, 'cheating': 1125, 'stock': 1126, '{': 1127, 'shenzhen': 1128, 'build': 1129, 'gone': 1130, 'yesterday': 1131, 'btpcrowdsale': 1132, 'likely': 1133, 'shooting': 1134, 'worry': 1135, 'blue': 1136, '->': 1137, 'rules': 1138, 'programming': 1139, 'companies': 1140, 'battle': 1141, 'pass': 1142, 'hits': 1143, 'fast': 1144, 'actual': 1145, 'built': 1146, 'tho': 1147, 'decentralized': 1148, 'conversation': 1149, 'reality': 1150, 'food': 1151, '2nd': 1152, 'force': 1153, 'offer': 1154, 'cuz': 1155, 'books': 1156, 'bullpen': 1157, 'v-bucks': 1158, '😁': 1159, 'star': 1160, 'mouth': 1161, 'shirt': 1162, 'adult': 1163, 'plz': 1164, 'uses': 1165, 'mike': 1166, 'simple': 1167, 'update': 1168, 'download': 1169, 'form': 1170, 'mining': 1171, 'talent': 1172, 'alert': 1173, 'rich': 1174, 'participate': 1175, 'projects': 1176, 'actions': 1177, 'thinks': 1178, 'launch': 1179, 'quality': 1180, 'friday': 1181, 'allowed': 1182, 'realize': 1183, 'lies': 1184, 'fair': 1185, 'russian': 1186, 'bets': 1187, 'investigation': 1188, 'schools': 1189, 'seeing': 1190, 'prayers': 1191, 'english': 1192, 'fiverrneed': 1193, 'draw': 1194, 'bottle': 1195, 'mobile': 1196, 'goodbye': 1197, 'version': 1198, 'speaking': 1199, '💔': 1200, 'half': 1201, 'ideas': 1202, 'kid': 1203, 'fantastic': 1204, 'DG/DG': 1205, '☝': 1206, 'difficult': 1207, 'create': 1208, 'close': 1209, 'tax': 1210, 'per': 1211, 'except': 1212, 'created': 1213, 'respect': 1214, 'emma': 1215, 'lose': 1216, 'student': 1217, 'office': 1218, 'anywhere': 1219, 'cover': 1220, 'message': 1221, 'weekly': 1222, 'kik': 1223, 'cut': 1224, 'crowd': 1225, 'film': 1226, 'paid': 1227, 'guide': 1228, 'http': 1229, 'issue': 1230, '::': 1231, 'wine': 1232, 'round': 1233, 'supply': 1234, 'increase': 1235, 'amount': 1236, 'sick': 1237, 'inside': 1238, 'bringing': 1239, 'creative': 1240, 'collection': 1241, 'blog': 1242, 'tired': 1243, 'airport': 1244, 'exciting': 1245, 'report': 1246, 'spot': 1247, 'pop': 1248, 'ground': 1249, 'wearing': 1250, 'election': 1251, 'fall': 1252, 'kinda': 1253, 'fact': 1254, 'alive': 1255, 'thoughts': 1256, 'printed': 1257, 'release': 1258, 'berlin': 1259, 'european': 1260, 'bank': 1261, 'villa': 1262, 'usd': 1263, 'pls': 1264, ':d': 1265, 'appreciate': 1266, '💕': 1267, 'drop': 1268, 'countries': 1269, 'album': 1270, 'customers': 1271, 'evil': 1272, 'touch': 1273, 'reach': 1274, 'cost': 1275, 'idk': 1276, 'qatar': 1277, '}': 1278, 'choice': 1279, 'powerful': 1280, 'calls': 1281, 'growing': 1282, 'none': 1283, 'repeating': 1284, 'hitler': 1285, 'youll': 1286, 'expect': 1287, 'ones': 1288, 'aren': 1289, 'gotta': 1290, 'argument': 1291, 'middle': 1292, 'blame': 1293, 'supporters': 1294, 'surprised': 1295, 'baby': 1296, 'sit': 1297, 'throw': 1298, 'numbers': 1299, 'videos': 1300, 'yo': 1301, 'within': 1302, 'congress': 1303, 'receive': 1304, 'wit': 1305, 'model': 1306, 'mother': 1307, 'legal': 1308, 'vision': 1309, 'helping': 1310, 'intended': 1311, 'shows': 1312, 'beyond': 1313, 'loss': 1314, 'size': 1315, 'shes': 1316, 'members': 1317, 'sales': 1318, '🙏': 1319, 'improve': 1320, 'sides': 1321, 'wonderful': 1322, 'often': 1323, '🏘': 1324, 'yall': 1325, 'fitness': 1326, 'anyway': 1327, 'detailed': 1328, 'former': 1329, 'snow': 1330, 'sitting': 1331, 'stage': 1332, 'explain': 1333, 'stars': 1334, 'DGDGDGDGDGDG': 1335, '🚀': 1336, '😘': 1337, 'artists': 1338, 'p': 1339, 'normal': 1340, 'double': 1341, 'bill': 1342, 'worlds': 1343, 'copy': 1344, 'training': 1345, 'customer': 1346, 'fancy': 1347, 'weather': 1348, 'cute': 1349, 'main': 1350, 'google': 1351, 'written': 1352, 'profile': 1353, 'drink': 1354, 'cards': 1355, 'coverage': 1356, 'cat': 1357, 'picture': 1358, 'interview': 1359, 'reply': 1360, '🎵': 1361, 'shut': 1362, 'handle': 1363, 'gonzalez': 1364, '🎹': 1365, '💙': 1366, 'coin': 1367, 'ryan': 1368, 'joe': 1369, 'ो': 1370, 'hold': 1371, 'academy': 1372, 'legit': 1373, 'adding': 1374, 'easily': 1375, 'performance': 1376, 'huge': 1377, 'master': 1378, 'leaving': 1379, 'shame': 1380, 'changing': 1381, 'perfectly': 1382, '):': 1383, 'ai': 1384, 'web': 1385, 'pack': 1386, 'ads': 1387, 'south': 1388, 'father': 1389, 'related': 1390, ':-)': 1391, 'land': 1392, 'sack': 1393, 'themselves': 1394, 'focus': 1395, 'nature': 1396, 'lat': 1397, 'tried': 1398, 'blood': 1399, 'contracts': 1400, 'site': 1401, 'catch': 1402, 'soul': 1403, 'greatest': 1404, 'physical': 1405, 'crime': 1406, 'monday': 1407, 'fault': 1408, 'action': 1409, 'lord': 1410, 'king': 1411, 'drawing': 1412, 'feed': 1413, 'received': 1414, 'showing': 1415, 'difference': 1416, '😏': 1417, 'cry': 1418, '😩': 1419, 'teachers': 1420, '✈': 1421, '™': 1422, 'favourite': 1423, '1st': 1424, 'putting': 1425, 'sent': 1426, 'including': 1427, 'couple': 1428, 'youve': 1429, 'private': 1430, 'value': 1431, 'longer': 1432, 'corrupt': 1433, 'contest': 1434, 'press': 1435, 'outside': 1436, '3rd': 1437, 'millions': 1438, 'anniversary': 1439, 'due': 1440, 'lying': 1441, 'involved': 1442, 'coffee': 1443, 'below': 1444, 'however': 1445, 'episode': 1446, 'leader': 1447, 'murdered': 1448, 'effort': 1449, 'arizona': 1450, 'la': 1451, 'mad': 1452, 'solution': 1453, 'search': 1454, '∈': 1455, 'arab': 1456, 'doha': 1457, '12th': 1458, 'europe': 1459, 'jump': 1460, 'limited': 1461, 'grab': 1462, 'award': 1463, 'caught': 1464, 'cambridge': 1465, '`': 1466, 'busy': 1467, 'quick': 1468, 'mass': 1469, 'example': 1470, 'certain': 1471, 'quote': 1472, 'couldn': 1473, 'green': 1474, 'g': 1475, 'inc': 1476, 'happening': 1477, 'track': 1478, 'piece': 1479, 'woke': 1480, 'detect': 1481, 'states': 1482, 'genius': 1483, 'moments': 1484, 'surely': 1485, ';)': 1486, 'killing': 1487, 'include': 1488, 'asshole': 1489, 'justice': 1490, 'chris': 1491, 'opportunity': 1492, 'series': 1493, 'rajasthan': 1494, 'royals': 1495, 'decides': 1496, 'york': 1497, 'symbol': 1498, 'currently': 1499, 'filled': 1500, 'yasss': 1501, 'daughter': 1502, 'dry': 1503, '👊': 1504, 'officially': 1505, 'skin': 1506, 'liberals': 1507, 'yea': 1508, 'along': 1509, 'effective': 1510, 'finish': 1511, 'xbl': 1512, 'gl': 1513, 'seas': 1514, 'flat': 1515, 'hat': 1516, 'chinese': 1517, 'computer': 1518, 'planning': 1519, 'bro': 1520, 'plus': 1521, 'da': 1522, 'upset': 1523, 'supporting': 1524, 'number': 1525, 'nation': 1526, 'later': 1527, 'luxuryhello': 1528, 'third': 1529, '30th': 1530, 'self': 1531, '♥': 1532, 'idiot': 1533, 'banking': 1534, 'brilliant': 1535, 'british': 1536, 'xbox': 1537, 'spain': 1538, 'beating': 1539, 'highly': 1540, 'fresh': 1541, 'knowing': 1542, 'whether': 1543, 'gives': 1544, 'modern': 1545, 'notificati': 1546, '♫': 1547, 'brown': 1548, 'generation': 1549, 'starts': 1550, 'ended': 1551, 'development': 1552, 'dream': 1553, 'jobs': 1554, 'youd': 1555, 'awp': 1556, 'rude': 1557, 'status': 1558, 'letter': 1559, 'bet': 1560, 'block': 1561, 'fee': 1562, 'shouldn': 1563, 'fashion': 1564, 'dm': 1565, 'tools': 1566, 'discount': 1567, 'DG/DGDG': 1568, 'financial': 1569, 'unknown': 1570, 'dear': 1571, '🔫': 1572, 'bags': 1573, '🌹': 1574, 'threats': 1575, 'west': 1576, 'fb': 1577, 'secure': 1578, 'honest': 1579, '🚨': 1580, 'born': 1581, 'debate': 1582, 'recipes': 1583, 'k': 1584, 'dramatic': 1585, 'murder': 1586, '🐕': 1587, 'ah': 1588, 'keeping': 1589, 'announce': 1590, 'saturday': 1591, 'april': 1592, 'acting': 1593, 'conference': 1594, 'judge': 1595, 'acceptable': 1596, 'chill': 1597, 'startup': 1598, 'checkout': 1599, 'expected': 1600, 'runs': 1601, 'hearing': 1602, 'apologies': 1603, 'sincere': 1604, 'secret': 1605, 'bomber': 1606, 'congratulations': 1607, 'violent': 1608, 'lunch': 1609, 'participation': 1610, 'toy': 1611, 'promo': 1612, 'announcement': 1613, 'useful': 1614, 'helps': 1615, 'gop': 1616, 'kit': 1617, '💀': 1618, 'delicious': 1619, 'businesses': 1620, 'constantly': 1621, 'fighting': 1622, 'assad': 1623, 'tweeted': 1624, 'develop': 1625, 'canada': 1626, 'worldwide': 1627, 'guarantee': 1628, 'bounty': 1629, 'local': 1630, 'overview': 1631, 'bulletproof': 1632, 'parliament': 1633, 'stormy': 1634, 't-shirts': 1635, 'healthy': 1636, 'directly': 1637, 'flight': 1638, 'standard': 1639, 'date': 1640, 'partners': 1641, 't-shirt': 1642, 'target': 1643, 'grand': 1644, 'football': 1645, 'thousands': 1646, 'laughing': 1647, 'afternoon': 1648, 'caption': 1649, 'turns': 1650, 'armed': 1651, 'apple': 1652, 'voted': 1653, 'creating': 1654, 'harder': 1655, 'driver': 1656, 'dripping': 1657, 'senior': 1658, 'lack': 1659, 'relationship': 1660, 'tip': 1661, 'nudes': 1662, 'fox': 1663, 'offended': 1664, 'advice': 1665, 'known': 1666, 'noted': 1667, 'tiny': 1668, 'proof': 1669, 'raised': 1670, 'correct': 1671, 'eye': 1672, 'invite': 1673, 'afraid': 1674, 'voucher': 1675, 'genuine': 1676, '😅': 1677, 'raise': 1678, 'ipl': 1679, 'impact': 1680, 'excellent': 1681, 'ultimate': 1682, 'threat': 1683, 'movies': 1684, 'co': 1685, 'hillary': 1686, 'band': 1687, 'similar': 1688, 'products': 1689, '★': 1690, 'trumps': 1691, 'graphite': 1692, '☘': 1693, 'recent': 1694, 'director': 1695, '🎂': 1696, 'mine': 1697, '🎁': 1698, '⬅': 1699, 'weapons': 1700, 'tells': 1701, 'paris': 1702, 'holding': 1703, '📷': 1704, 'christian': 1705, 'DGDGDG.DGDG': 1706, 'certainly': 1707, 'foundation': 1708, 'trouble': 1709, 'choose': 1710, 'af': 1711, 'term': 1712, 'met': 1713, 'possibly': 1714, 'personality': 1715, 'mood': 1716, 'test': 1717, 'evolve': 1718, 'expire': 1719, 'channel': 1720, 'politicians': 1721, 'congrats': 1722, 'unless': 1723, 'traffic': 1724, 'deleted': 1725, '💖': 1726, 'swear': 1727, '😆': 1728, 'billion': 1729, 'innocent': 1730, 'brexit': 1731, 'disgusting': 1732, 'felt': 1733, 'failed': 1734, '❄': 1735, 'highest': 1736, 'horse': 1737, 'girlfriend': 1738, 'oil': 1739, 'shoot': 1740, 'everywhere': 1741, 'deserve': 1742, 'published': 1743, 'dogland': 1744, '👀': 1745, 'bunch': 1746, 'benefits': 1747, 'fix': 1748, 'replied': 1749, 'himself': 1750, 'present': 1751, 'aint': 1752, 'cram': 1753, 'somebody': 1754, 'twice': 1755, 'hero': 1756, 'multiple': 1757, 'valley': 1758, 'healthcare': 1759, 'talks': 1760, '🏾': 1761, 'recognize': 1762, 'brand': 1763, 'actor': 1764, 'advanced': 1765, 'harsh': 1766, 'destroy': 1767, 'trx': 1768, '▪': 1769, 'skills': 1770, 'feat': 1771, 'keeps': 1772, 'characters': 1773, 'usual': 1774, 'defense': 1775, 'liked': 1776, 'applications': 1777, 'artificial': 1778, '🎧': 1779, 'ft': 1780, '😈': 1781, 'waste': 1782, 'racing': 1783, 'east': 1784, '🕊': 1785, 'syria': 1786, 'logic': 1787, 'brothers': 1788, 'looked': 1789, 'infographic': 1790, 'flash': 1791, 'policy': 1792, 'feelings': 1793, 'joking': 1794, 'exist': 1795, 'awful': 1796, 'road': 1797, 'soft': 1798, 'strip': 1799, 'junior': 1800, 'revolution': 1801, 'austin': 1802, 'claim': 1803, 'z': 1804, 'brings': 1805, 'finished': 1806, 'humans': 1807, 'comedy': 1808, 'twitch': 1809, 'scandal': 1810, 'ending': 1811, 'gorgeous': 1812, 'bucket': 1813, 'modi': 1814, 'ability': 1815, 'spin': 1816, 'boost': 1817, 'research': 1818, '❥': 1819, 'recently': 1820, 'spread': 1821, 'died': 1822, 'sun': 1823, 'ps4': 1824, 'shed': 1825, 'treats': 1826, 't.co/nd2isszilk': 1827, 'posts': 1828, 'iq': 1829, '\\U0001f92a': 1830, 'potential': 1831, 'culture': 1832, '🌎': 1833, 'refuse': 1834, 'hidden': 1835, 'purchase': 1836, 'attempt': 1837, 'decide': 1838, 'forever': 1839, 'changes': 1840, 'meme': 1841, 'soros': 1842, 'ecosystem': 1843, 'vintage': 1844, 'environment': 1845, 'sending': 1846, 'entire': 1847, 'street': 1848, 'peter': 1849, 'host': 1850, 'current': 1851, '☑': 1852, 'lady': 1853, '🙂': 1854, 'administration': 1855, 'step': 1856, 'scared': 1857, 'steps': 1858, 'whos': 1859, 'betting': 1860, '. . .': 1861, 'officers': 1862, 'epic': 1863, 'tour': 1864, 'developpements': 1865, 'tickets': 1866, 'suspect': 1867, '🐣': 1868, 'decision': 1869, 'risk': 1870, 'pre-ico': 1871, 'mini': 1872, 'ा': 1873, 'kidding': 1874, 'crap': 1875, 'positive': 1876, 'workout': 1877, '🎼': 1878, 'roll': 1879, 'spending': 1880, 'politics': 1881, 'offering': 1882, 'pro': 1883, 'till': 1884, 'announced': 1885, 'fluent': 1886, 'proceedings': 1887, 'madrid': 1888, 'arpaio': 1889, 'libera': 1890, 'क': 1891, 'द': 1892, 'garden': 1893, 'hasnt': 1894, '\\U0001f92f': 1895, 'rs': 1896, '☀': 1897, 'train': 1898, 'trends': 1899, 'hospital': 1900, 'spirit': 1901, 'ladies': 1902, '⇨': 1903, 'gain': 1904, 'diet': 1905, 'plane': 1906, 'bed': 1907, 'several': 1908, 'sounded': 1909, 'attacks': 1910, 'role': 1911, 'played': 1912, 'analytica': 1913, 'style': 1914, 'park': 1915, 'saw': 1916, 'rocks': 1917, 'further': 1918, 'royale': 1919, 'operations': 1920, 'republicans': 1921, 'promote': 1922, 'tough': 1923, 'indeed': 1924, 'software': 1925, 'seconds': 1926, 'podcast': 1927, 'source': 1928, 'reveals': 1929, 'title': 1930, 'winter': 1931, 'career': 1932, 'eating': 1933, 'absolute': 1934, 'peoples': 1935, 'ca': 1936, 'provide': 1937, 'haven': 1938, 'assistant': 1939, 'enjoying': 1940, 'spend': 1941, 'boss': 1942, 'non': 1943, 'maga': 1944, 'sh': 1945, 'broke': 1946, 'somewhat': 1947, 'ltc': 1948, 'wars': 1949, 'near': 1950, 'featured': 1951, 'nfl': 1952, 'prevention': 1953, 'activists': 1954, 'ride': 1955, 'dinner': 1956, 'trolling': 1957, 'playlist': 1958, 'flag': 1959, 'standing': 1960, 'shift': 1961, 'tr': 1962, 'currency': 1963, 'daniels': 1964, 'conservative': 1965, 'cell': 1966, 'anime': 1967, 'clever': 1968, 'powell': 1969, 'bull': 1970, 'mathematics': 1971, 'analyst': 1972, 'fund': 1973, 'base': 1974, 'drugs': 1975, 'integration': 1976, 'duh': 1977, 'victory': 1978, 'minute': 1979, 'leadership': 1980, 'talented': 1981, 'meaning': 1982, 'etc': 1983, 'quiet': 1984, 'strongest': 1985, 'subject': 1986, 'junhoe': 1987, 'uploades': 1988, 'yunhyeong': 1989, 'finger': 1990, 'wins': 1991, 'camera': 1992, 'trip': 1993, 'd12': 1994, 'experts': 1995, 'harry': 1996, 'remove': 1997, 'machine': 1998, 'gee': 1999, 'urge': 2000, 'switch': 2001, 'shopping': 2002, 'parents': 2003, 'basic': 2004, 'expensive': 2005, 'silence': 2006, 'minister': 2007, '📻': 2008, 'DGDG-DGDG': 2009, 'station': 2010, 'falls': 2011, 'passive': 2012, '🌸': 2013, 'babies': 2014, 'goodness': 2015, '🇧': 2016, 'sister': 2017, 'realized': 2018, 'classes': 2019, 'register': 2020, 'individual': 2021, 'charge': 2022, 'putin': 2023, 'terrible': 2024, 'intelligent': 2025, 'pics': 2026, 'becoming': 2027, 'organization': 2028, 'jimmy': 2029, 'attitude': 2030, 'lips': 2031, 'dating': 2032, 'basically': 2033, 'branch': 2034, 'mentally': 2035, '🇬': 2036, 'hopefully': 2037, 'cup': 2038, 'rock': 2039, '⏩': 2040, '⏪': 2041, 'enjoyed': 2042, 'wireless': 2043, 'suddenly': 2044, 'refugees': 2045, 'agreement': 2046, 'sentence': 2047, 'chase': 2048, 'crisis': 2049, 'decided': 2050, 'shown': 2051, 'yup': 2052, 'co-founder': 2053, 'aimed': 2054, 'humanity': 2055, 'taught': 2056, 'science': 2057, 'hunting': 2058, 'DGDG.DG': 2059, 'strategy': 2060, 'wondering': 2061, 'earlier': 2062, 'large': 2063, 'investors': 2064, 'meeting': 2065, 'walk': 2066, '😋': 2067, 'gay': 2068, 'growth': 2069, 'satire': 2070, 'citizens': 2071, 'followed': 2072, 'stable': 2073, 'considered': 2074, 'freedom': 2075, 'jay': 2076, 'asset': 2077, 'commit': 2078, 'wear': 2079, 'shi': 2080, 'lazy': 2081, '्': 2082, 'named': 2083, 'distributes': 2084, 'walking': 2085, 'necessary': 2086, 'blocked': 2087, 'bigger': 2088, 'allow': 2089, 'dirty': 2090, 'process': 2091, 'friendly': 2092, 'everyday': 2093, 'initial': 2094, 'village': 2095, 'disappointed': 2096, 'chocolate': 2097, 'begin': 2098, '📈': 2099, 'stick': 2100, 'planet': 2101, 'store': 2102, '🇲': 2103, 'speaks': 2104, 'custom': 2105, 'loves': 2106, 'area': 2107, 'cases': 2108, 'included': 2109, 'victim': 2110, 'injured': 2111, 'became': 2112, 'st': 2113, '\\U0001f9df': 2114, 'wild': 2115, 'parkland': 2116, 'launches': 2117, 'sucks': 2118, 'ratings': 2119, '🌟': 2120, 'sexy': 2121, 'remark': 2122, 'dollar': 2123, 'valid': 2124, 'oracle': 2125, 'wisdom': 2126, 'ticket': 2127, 'rain': 2128, 'bug': 2129, 'shipping': 2130, 'nonsense': 2131, 'iphone': 2132, 'golden': 2133, 'comic': 2134, 'cops': 2135, 'steal': 2136, 'classy': 2137, 'cheat': 2138, 'device': 2139, 'democrat': 2140, 'importance': 2141, 'seat': 2142, 'board': 2143, '21st': 2144, 'snap': 2145, 'hollywood': 2146, 'emerging': 2147, 'cc': 2148, 'hypocrisy': 2149, 'color': 2150, 'offense': 2151, 'calm': 2152, 'bombs': 2153, 'dealing': 2154, 'simon': 2155, 'cos': 2156, 'appreciated': 2157, 'retweeted': 2158, 'summit': 2159, 'daniel': 2160, 'aside': 2161, 'bs': 2162, 'military': 2163, 'knife': 2164, 'shout': 2165, 'general': 2166, 'bullet': 2167, 'partnership': 2168, 'ho': 2169, 'kitchen': 2170, 'therapy': 2171, 'professor': 2172, 'speech': 2173, 'centre': 2174, 'tackle': 2175, 'solo': 2176, 'italian': 2177, 'district': 2178, 'medical': 2179, 'rising': 2180, 'repeat': 2181, 'fully': 2182, 'fail': 2183, 'finest': 2184, 'mens': 2185, 'sugar': 2186, 'balanced': 2187, 'greenbriar': 2188, 'luxury': 2189, 'held': 2190, 'western': 2191, 'releases': 2192, 'attained': 2193, 'wealth': 2194, 'space': 2195, 'opportunities': 2196, 'schnorr': 2197, 'signatures': 2198, 'confidential': 2199, 'falling': 2200, 'options': 2201, 'leaders': 2202, 'zero': 2203, '😝': 2204, 'above': 2205, 'prepaid': 2206, 'refill': 2207, 'reporting': 2208, '😨': 2209, 'loyal': 2210, 'protocol': 2211, 'statistics': 2212, 'cape': 2213, 'extreme': 2214, 'figure': 2215, 'wake': 2216, 'mental': 2217, 'lisa': 2218, 'erc': 2219, 'tongue': 2220, 'mate': 2221, 'confused': 2222, 'matt': 2223, 'zuckerberg': 2224, 'tim': 2225, 'helped': 2226, 'responsible': 2227, 'opinions': 2228, 'nah': 2229, 'mystery': 2230, 'romantic': 2231, 'continue': 2232, 'wise': 2233, 'san': 2234, 'context': 2235, '💯': 2236, 'windows': 2237, '🏆': 2238, 'bus': 2239, 'terrorism': 2240, 'introduce': 2241, 'cpr': 2242, 'automatically': 2243, 'joy': 2244, '【': 2245, 'khan': 2246, 'praise': 2247, 'rated': 2248, 'pr': 2249, 'angry': 2250, 'pulled': 2251, 'wrote': 2252, 'rolling': 2253, 'engineer': 2254, 'sexual': 2255, 'scotland': 2256, 'sing': 2257, 'mission': 2258, 'cryptobank': 2259, 'sector': 2260, 'paradigm': 2261, 'otherwise': 2262, 'regard': 2263, 'faith': 2264, '👑': 2265, 'noticed': 2266, 'travel': 2267, 'honesty': 2268, 'carry': 2269, 'snark': 2270, 'spice': 2271, 'range': 2272, 'inauguration': 2273, 'brought': 2274, 'disagree': 2275, '😮': 2276, 'prefer': 2277, 'ben': 2278, 'reached': 2279, 'sport': 2280, 'nope': 2281, 'fly': 2282, 'events': 2283, 'nearly': 2284, 'bar': 2285, 'systems': 2286, 'prove': 2287, 'cloud': 2288, 'explaining': 2289, 'perfected': 2290, 'fat': 2291, 'progressive': 2292, 'cuts': 2293, 'pictures': 2294, 'bless': 2295, 'ath': 2296, 'quickly': 2297, 'allows': 2298, 'goals': 2299, 'driving': 2300, 'mexico': 2301, '🤗': 2302, 'net': 2303, 'primary': 2304, 'demand': 2305, 'android': 2306, 'porn': 2307, 'gif': 2308, 'mar': 2309, 'DGDGDG.DG': 2310, 'registering': 2311, 'shouldnt': 2312, 'theyve': 2313, '🍷': 2314, 'safely': 2315, 'answers': 2316, 'prison': 2317, 'xrp': 2318, 'jack': 2319, 'memes': 2320, 'predictions': 2321, 'concept': 2322, 'andrew': 2323, '🌷': 2324, 'promise': 2325, 'yoga': 2326, '✌': 2327, 'expert': 2328, 'crimes': 2329, 'humour': 2330, 'excuse': 2331, 'avoid': 2332, 'analysis': 2333, '19th': 2334, 'according': 2335, 'extended': 2336, 'average': 2337, 'exists': 2338, 'shared': 2339, 'wtf': 2340, 'े': 2341, 'lower': 2342, 'depends': 2343, 'crying': 2344, 'north': 2345, 'picking': 2346, 'turning': 2347, 'medium': 2348, 'union': 2349, 'families': 2350, 'investment': 2351, 'amp': 2352, 'glass': 2353, 'propaganda': 2354, '☕': 2355, 'fav': 2356, 'puts': 2357, 'entertaining': 2358, 'un': 2359, 'farm': 2360, 'treat': 2361, 'patience': 2362, '10x': 2363, 'selection': 2364, 'egg': 2365, 'whose': 2366, 'negative': 2367, 'pull': 2368, 'corporate': 2369, 'path': 2370, 'criminal': 2371, 'thankful': 2372, 'greater': 2373, 'animal': 2374, 'mention': 2375, 'bbc': 2376, 'relationships': 2377, 'female': 2378, 'session': 2379, 'nintendo': 2380, 'depression': 2381, 'watches': 2382, 'nba': 2383, 'stupidity': 2384, 'otppay': 2385, 'rate': 2386, 'worthy': 2387, 'translate': 2388, 'ex': 2389, 'bought': 2390, 'study': 2391, '💞': 2392, 'era': 2393, 'al': 2394, 'bot': 2395, 'smell': 2396, 'resources': 2397, 'court': 2398, 'afford': 2399, 'odds': 2400, 'emojis': 2401, 'besides': 2402, 'jeff': 2403, 'door': 2404, 'hiring': 2405, 'construct': 2406, 'email': 2407, 'sky': 2408, 'anonymous': 2409, 'biased': 2410, 'benefit': 2411, 'teen': 2412, 'ignore': 2413, 'agreeing': 2414, 'steel': 2415, 'pure': 2416, 'tests': 2417, 'journalism': 2418, 'crack': 2419, 'giant': 2420, 'augmented': 2421, 'reports': 2422, 'full-time': 2423, 'tad': 2424, 'conservatives': 2425, 'dj': 2426, 'xd': 2427, 'german': 2428, 'pointing': 2429, 'bolton': 2430, '💜': 2431, 'hoping': 2432, 'communication': 2433, 'easier': 2434, 'q': 2435, 'bch': 2436, 'cups': 2437, 'non-stop': 2438, 'tend': 2439, 'yrs': 2440, 'owners': 2441, 'ashamed': 2442, 'listening': 2443, '😐': 2444, 'warm': 2445, 'connect': 2446, 'van': 2447, 'letters': 2448, 'slow': 2449, 'bear': 2450, 'educated': 2451, 'accept': 2452, 'return': 2453, 'recognition': 2454, 'measure': 2455, 'preventive': 2456, 'beauty': 2457, 'activities': 2458, 'solve': 2459, 'ignorant': 2460, 'presidential': 2461, 'candidate': 2462, 'speaker': 2463, 'watched': 2464, 'island': 2465, 'winners': 2466, 'interest': 2467, 'dc': 2468, 'bsc': 2469, 'graduate': 2470, 'army': 2471, 'broken': 2472, 'begins': 2473, 'tron': 2474, 'evening': 2475, 'beer': 2476, 'led': 2477, 'executive': 2478, 'extremely': 2479, 'breaks': 2480, 'backed': 2481, 'ann': 2482, 'ar': 2483, 'mac': 2484, 'tries': 2485, 'delivered': 2486, 'fucked': 2487, 'kane': 2488, 'federal': 2489, 'attorney': 2490, 'hunt': 2491, 'constitution': 2492, 'safety': 2493, 'models': 2494, 'elementary': 2495, 'ireland': 2496, 'teens': 2497, 'ad': 2498, 'explanation': 2499, 'attended': 2500, 'sebastian': 2501, 'document': 2502, 'loud': 2503, 'privacy': 2504, 'michael': 2505, 'santa': 2506, 'hiphop': 2507, 'se': 2508, 'approach': 2509, 'sea': 2510, 'vital': 2511, 'aggressive': 2512, 'everyones': 2513, 'popcorn': 2514, 'answering': 2515, 'rally': 2516, 'ultra': 2517, 'disc': 2518, 'technical': 2519, 'location': 2520, 'gi': 2521, 'womens': 2522, '😕': 2523, 'queen': 2524, '】': 2525, 'score': 2526, 'cares': 2527, 'understanding': 2528, 'interactions': 2529, 'pool': 2530, 'batman': 2531, 'twist': 2532, 'bias': 2533, 'inner': 2534, 'treated': 2535, 'smiles': 2536, 'expertise': 2537, 'pc': 2538, 'socially': 2539, '🎸': 2540, 'forum': 2541, 'bike': 2542, 'strategies': 2543, 'background': 2544, 'famous': 2545, 'author': 2546, 'passed': 2547, 'whoever': 2548, 'channels': 2549, 'teach': 2550, 'advantage': 2551, 'presale': 2552, 'lil': 2553, 'jason': 2554, 'dick': 2555, 'j': 2556, 'older': 2557, 'heartbroken': 2558, 'rap': 2559, 'ts': 2560, 'income': 2561, 'disease': 2562, 'exercise': 2563, 'user': 2564, 'son': 2565, 'signed': 2566, 'george': 2567, 'developer': 2568, 'bright': 2569, 'feels': 2570, 'torturing': 2571, 'venerating': 2572, 'cabal': 2573, 'shootings': 2574, 'attractive': 2575, 'lovers': 2576, 'james': 2577, 'unit': 2578, 'xx': 2579, 'fill': 2580, 'tiger': 2581, 'woods': 2582, 'texts': 2583, 'faced': 2584, 'border': 2585, 'taste': 2586, 'profit': 2587, 'picked': 2588, 'battery': 2589, 'guidance': 2590, 'tbh': 2591, 'ain': 2592, '‼': 2593, 'permission': 2594, 'eat': 2595, 'rolled': 2596, 'coach': 2597, 'wor': 2598, 'application': 2599, 'bye': 2600, 'binance': 2601, 'closed': 2602, 'eu': 2603, 'member': 2604, 'sharing': 2605, 'product': 2606, 'cars': 2607, 'economy': 2608, 'saudi': 2609, 'prince': 2610, 'work.if': 2611, 'racism': 2612, 'champ': 2613, 'fuel': 2614, 'troll': 2615, 'predict': 2616, 'require': 2617, 'kimmel': 2618, '_': 2619, 'landscape': 2620, 'mix': 2621, 'leads': 2622, 'progress': 2623, 'blacks': 2624, 'giants': 2625, 'contain': 2626, 'offensive': 2627, 'hrs': 2628, 'various': 2629, 'inappropriate': 2630, 'stood': 2631, 'drinking': 2632, 'knowledge': 2633, 'rasing': 2634, 'loans': 2635, 'basis': 2636, 'frame': 2637, 'regular': 2638, 'changed': 2639, 'dr': 2640, 'screen': 2641, 'tinder': 2642, 'yours': 2643, 'penny': 2644, 'closes': 2645, 'aware': 2646, 'traditional': 2647, 'restaurant': 2648, '😃': 2649, 'escape': 2650, 'writer': 2651, 'cake': 2652, 'wouldn': 2653, 'mistakes': 2654, 'housing': 2655, 'leading': 2656, 'owner': 2657, 'blatant': 2658, 'communit': 2659, 'hotel': 2660, 'africa': 2661, 'tune': 2662, 'piss': 2663, 'trend': 2664, 'behavior': 2665, 'places': 2666, 'heroes': 2667, 'failing': 2668, 'yep': 2669, '😬': 2670, 'DG:DGDG': 2671, 'killers': 2672, '26th': 2673, 'burn': 2674, 'electric': 2675, 'evolution': 2676, 'edge': 2677, '💿': 2678, 'protesting': 2679, 'muslim': 2680, 'immediately': 2681, 'livestream': 2682, 'graphic': 2683, 'rifle': 2684, 'gotten': 2685, 'respond': 2686, 'dress': 2687, 'useless': 2688, 'kills': 2689, 'emotional': 2690, 'robert': 2691, 'holy': 2692, 'checks': 2693, 'wed': 2694, '🗡': 2695, 'chicago': 2696, 'forgive': 2697, 'confident': 2698, 'july': 2699, 'bottom': 2700, 'willing': 2701, 'colors': 2702, 'onion': 2703, 'select': 2704, 'ज': 2705, 'व': 2706, 'ं': 2707, 'ि': 2708, 'mans': 2709, '🎾': 2710, 'purpose': 2711, 'crore': 2712, 'ing': 2713, 'washington': 2714, 'insurance': 2715, 'goodies': 2716, 'hint': 2717, 'martin': 2718, '🆒': 2719, 'ally': 2720, 'types': 2721, 'zone': 2722, 'waves': 2723, 'bureau': 2724, 'county': 2725, 'stress': 2726, '💩': 2727, 'warming': 2728, 'mode': 2729, 'horror': 2730, 'brief': 2731, 'active': 2732, 'river': 2733, 'pe': 2734, '10k': 2735, 'basketball': 2736, 'govt': 2737, 'agent': 2738, 'chose': 2739, 'innovative': 2740, 'stocks': 2741, '🖤': 2742, 'cop': 2743, 'properly': 2744, 'officer': 2745, 'reposting': 2746, 'issued': 2747, 'goin': 2748, 'audience': 2749, 'faux': 2750, 'robots': 2751, 'notice': 2752, 'replies': 2753, 'slut': 2754, 'cum': 2755, 'wedding': 2756, 'politically': 2757, 'claiming': 2758, 'remarks': 2759, 'doubt': 2760, 'hardware': 2761, 'protection': 2762, 'panel': 2763, 'throat': 2764, 'innovation': 2765, 'marketplace': 2766, 'transparency': 2767, 'detail': 2768, 'stopped': 2769, 'solutions': 2770, 'championship': 2771, 'definition': 2772, '.  .': 2773, '. .': 2774, 'referral': 2775, 'peek': 2776, 'supports': 2777, 'balls': 2778, 'werent': 2779, 'flaws': 2780, 'comfort': 2781, 'weekends': 2782, 'talked': 2783, 'tool': 2784, 'realise': 2785, 'dean': 2786, 'trailer': 2787, 'glasses': 2788, 'cnn': 2789, 'challenges': 2790, 'gov': 2791, 'uploaded': 2792, 'peaceful': 2793, 'elite': 2794, 'sort': 2795, 'deals': 2796, 'DGDGDGDGDGDGDGDGDGDG': 2797, 'isis': 2798, 'artist': 2799, 'husband': 2800, 'finance': 2801, 'pain': 2802, 'lyrics': 2803, 'print': 2804, 'DGDGDGDG.DGDG': 2805, 'gender': 2806, 'enterprise': 2807, 'task': 2808, 'bjp': 2809, 'prizes': 2810, 'ios': 2811, '►': 2812, 'lowest': 2813, 'videography': 2814, 'assets': 2815, 'ny': 2816, '💝': 2817, 'plays': 2818, 'canadian': 2819, 'houses': 2820, 'chart': 2821, 'express': 2822, 'def': 2823, 'professionals': 2824, 'somehow': 2825, 'square': 2826, 'blonde': 2827, 'piano': 2828, 'celebrating': 2829, 'colour': 2830, 'crash': 2831, 'hottest': 2832, 'decent': 2833, 'beings': 2834, 'potus': 2835, 'recharge': 2836, 'sees': 2837, 'redbubble': 2838, 'period': 2839, 'objects': 2840, 'announcing': 2841, 'wouldve': 2842, 'clam': 2843, 'festival': 2844, 'intense': 2845, 'combat': 2846, 'pants': 2847, 'walked': 2848, 'overwatch': 2849, '😠': 2850, 'concern': 2851, 'selling': 2852, 'learned': 2853, 'offers': 2854, 'flip': 2855, 'drunk': 2856, 'alcohol': 2857, 'wishing': 2858, 'ram': 2859, 'cap': 2860, 'proves': 2861, 'tolerate': 2862, 'compilation': 2863, 'slap': 2864, 'butt': 2865, 'golf': 2866, 'prime': 2867, 'bitcointalk': 2868, '-->': 2869, 'revenge': 2870, 'hitting': 2871, 'duke': 2872, 'creator': 2873, 'ethereum': 2874, 'letting': 2875, 'hahaha': 2876, 'centreville': 2877, 'sayings': 2878, 'treatment': 2879, 'cohen': 2880, 'trudeau': 2881, 'midnight': 2882, 'belgium': 2883, 'hitler-stalin-mao-fidel': 2884, 'castroetc.open': 2885, 'eli': 2886, 'shane': 2887, 'reverse': 2888, 'receiving': 2889, 'draft': 2890, 'schedule': 2891, '\\U0001f9d0': 2892, 'democracy': 2893, 'practice': 2894, 'ka': 2895, 'wh': 2896, 'annual': 2897, 'bitrace': 2898, 'narrative': 2899, 'anytime': 2900, 'concerned': 2901, 'ed': 2902, 'provides': 2903, 'devices': 2904, '4k': 2905, 'blu-ray': 2906, 'milk': 2907, 'bodies': 2908, 'region': 2909, 'fixed': 2910, 'developing': 2911, 'matters': 2912, 'plants': 2913, 'hurts': 2914, 'responding': 2915, 'fellow': 2916, 'fish': 2917, 'majority': 2918, 'returns': 2919, 'cheeky': 2920, 'item': 2921, 'DGDGDGDG-DGDG-': 2922, 'memories': 2923, 'puppet': 2924, 'forced': 2925, 'increased': 2926, 'prices': 2927, 'beach': 2928, 'dance': 2929, 'hates': 2930, 'jealous': 2931, 'fearless': 2932, 'capable': 2933, 'updates': 2934, 'relatable': 2935, 'efforts': 2936, 'offend': 2937, 'theyd': 2938, 'operation': 2939, 'technologies': 2940, 'remix': 2941, 'guilty': 2942, 'honey': 2943, 'follower': 2944, 'stands': 2945, 'balance': 2946, 'neil': 2947, 'writing': 2948, 'creativity': 2949, 'bundle': 2950, 'tweeting': 2951, 'disgrace': 2952, 'marched': 2953, 'arrested': 2954, 'sarah': 2955, 'suggestion': 2956, 'shower': 2957, 'owning': 2958, 'disney': 2959, 'transform': 2960, 'ignorance': 2961, 'irrelevant': 2962, 'fintech': 2963, 'toward': 2964, 'davis': 2965, 'wa': 2966, 'variety': 2967, '🗽': 2968, 'markets': 2969, 'cheated': 2970, 'tricks': 2971, '-DG.DG': 2972, 'guest': 2973, 'comfy': 2974, 'ltd': 2975, 'globally': 2976, 'fyi': 2977, 'accepts': 2978, 'false': 2979, 'requirements': 2980, 'cs': 2981, 'signing': 2982, 'defending': 2983, 'insightful': 2984, 'rapper': 2985, '💫': 2986, 'correctly': 2987, 'democrats': 2988, 'november': 2989, 'manner': 2990, 'DGDG-DGDGDGDGDG': 2991, 'hop': 2992, 'scene': 2993, 'elections': 2994, 'pissed': 2995, 'decade': 2996, 'pregnant': 2997, 'studio': 2998, 'joining': 2999, 'photos': 3000, 'staying': 3001, 'signs': 3002, 'tea': 3003, 'innovations': 3004, 'fl': 3005, 'targeted': 3006, 'dan': 3007, 'autistic': 3008, 'satoshi': 3009, 'ne': 3010, 'represent': 3011, 'moves': 3012, '10th': 3013, 'awards': 3014, 'gm': 3015, 'maintain': 3016, 'entrepreneurs': 3017, 'incredibly': 3018, 'planned': 3019, 'treating': 3020, 'beware': 3021, 'blessed': 3022, 'annoying': 3023, 'ce': 3024, 'bin': 3025, 'cent': 3026, 'discuss': 3027, 'contact': 3028, 'figured': 3029, 'belief': 3030, 'decisions': 3031, 'champions': 3032, 'harassment': 3033, 'served': 3034, 'threatened': 3035, 'coins': 3036, 'institute': 3037, 'acts': 3038, '💛': 3039, 'visa': 3040, 'sexually': 3041, 'proper': 3042, 'moron': 3043, 'pump': 3044, 'genieico': 3045, 'pleasure': 3046, 'luv': 3047, 'dose': 3048, 'thx': 3049, 'warning': 3050, 'lane': 3051, '2v2': 3052, '1nd': 3053, 'staff': 3054, 'laughter': 3055, ':(': 3056, 'although': 3057, 'dollars': 3058, 'pride': 3059, 'rape': 3060, 'continues': 3061, 'carrying': 3062, 'meets': 3063, 'doctor': 3064, 'wrestling': 3065, '🎥': 3066, 'performing': 3067, 'foot': 3068, 'confuse': 3069, 'mostly': 3070, 'kept': 3071, 'emotionally': 3072, 'nazi': 3073, 'evidence': 3074, 'released': 3075, '💚': 3076, 'anti-gun': 3077, '🏁': 3078, 'dvd': 3079, 'french': 3080, 'surprisingly': 3081, 'mi': 3082, 'criticism': 3083, 'insults': 3084, '⏰': 3085, 'playoffs': 3086, 'prints': 3087, 'admit': 3088, 'uber': 3089, 'savage': 3090, 'retail': 3091, 'sites': 3092, 'criminals': 3093, 'organized': 3094, 'drug': 3095, 'speed': 3096, 'limit': 3097, 'sacked': 3098, 'baseball': 3099, 'alone': 3100, 'despite': 3101, '📉': 3102, 'cross': 3103, 'bloody': 3104, '🇾': 3105, '🔴': 3106, 'bird': 3107, 'robotina': 3108, 'unarmed': 3109, 'coat': 3110, '💻': 3111, '📹': 3112, 'hire': 3113, 'ridiculous': 3114, 'package': 3115, 'buses': 3116, 'advisor': 3117, 'cryptocurrencies': 3118, 'capturing': 3119, 'oops': 3120, 'deer': 3121, 'deserved': 3122, 'myth': 3123, 'advertising': 3124, 'clarify': 3125, 'witty': 3126, 'sass': 3127, 'gin': 3128, 'robot': 3129, '😑': 3130, '🔜': 3131, 'fr': 3132, 'budget': 3133, 'previous': 3134, '🍌': 3135, '😹': 3136, 'targeting': 3137, 'hehe': 3138, 'partner': 3139, 'protest': 3140, 'sold': 3141, '➽': 3142, 'smoke': 3143, 'proven': 3144, 'ह': 3145, '😫': 3146, 'protecting': 3147, 'em': 3148, 'answered': 3149, 'invest': 3150, 'anti': 3151, 'sincerely': 3152, 'theft': 3153, 'mail': 3154, 'comp': 3155, 'soooo': 3156, 'entertainment': 3157, 'guessed': 3158, 'mf': 3159, 'hussain': 3160, 'climate': 3161, 'collusion': 3162, 'taxes': 3163, 'pre': 3164, 'february': 3165, 'personally': 3166, 'christ': 3167, 'promises': 3168, 'netflix': 3169, 'everytime': 3170, 'seo': 3171, 'religion': 3172, 'toronto': 3173, 'operator': 3174, 'brokerage': 3175, 'heavily': 3176, 'israel': 3177, 'ashley': 3178, 'covered': 3179, 'ii': 3180, 'blind': 3181, 'familiar': 3182, 'scary': 3183, 'feet': 3184, 'economic': 3185, 'funded': 3186, 'gym': 3187, 'faces': 3188, '⚽': 3189, 'trophy': 3190, 'dump': 3191, 'casino': 3192, 'appeal': 3193, 'tae': 3194, 'kindle': 3195, 'desert': 3196, '⛓': 3197, 'apology': 3198, '💗': 3199, 'en': 3200, 'ransomware': 3201, 'comedic': 3202, 'sleeping': 3203, 'smartphone': 3204, 'dum': 3205, 'swing': 3206, '⃣': 3207, 'dying': 3208, 'emails': 3209, 'truck': 3210, 'sponsors': 3211, 'rolls': 3212, 'overall': 3213, 'grew': 3214, 'clip': 3215, 'worker': 3216, 'journalists': 3217, 'tape': 3218, 'thebeyondersltd': 3219, 'shoulder': 3220, 'replaced': 3221, 'moore': 3222, 'insulting': 3223, 'magazine': 3224, 'bray': 3225, 'triggered': 3226, 'bomoso': 3227, 'beginning': 3228, 'mo4ch': 3229, 'succeed': 3230, 'long-term': 3231, 'mount': 3232, '4g': 3233, 'signal': 3234, 'petition': 3235, 'animals': 3236, '\\U0001f92e': 3237, 'neither': 3238, 'thick': 3239, 'includes': 3240, 'precious': 3241, 'hamper': 3242, 'ignoring': 3243, 'ours': 3244, 'meddling': 3245, 'stressed': 3246, '「': 3247, 'chemistry': 3248, 'matches': 3249, '」': 3250, 'throwing': 3251, 'focusing': 3252, 'regulatory': 3253, 'knives': 3254, 'bills': 3255, 'assistance': 3256, 'push': 3257, 'certified': 3258, 'bash': 3259, 'showed': 3260, 'plenty': 3261, 'boots': 3262, 'worried': 3263, 'playful': 3264, 'endorsement': 3265, 'pitch': 3266, 'gods': 3267, 'scoring': 3268, 'sensitive': 3269, 'complain': 3270, 'bleeding': 3271, 'protesters': 3272, 'debugging': 3273, 'fabricated': 3274, 'tbolton': 3275, 'choosing': 3276, 'rob': 3277, 'compared': 3278, 'apologize': 3279, 'cafe': 3280, 'located': 3281, 'mandatory': 3282, 'six': 3283, 'doctors': 3284, 'cub': 3285, 'separate': 3286, 'liverpool': 3287, 'almighty': 3288, 'scientific': 3289, 'delivery': 3290, 'wales': 3291, 'dope': 3292, 'abstract': 3293, 'introduction': 3294, 'launching': 3295, 'colin': 3296, 'responsibility': 3297, 'choices': 3298, 'indian': 3299, 'songs': 3300, 'identity': 3301, 'cheesecake': 3302, 'audio': 3303, 'discovered': 3304, 'condition': 3305, 'codes': 3306, 'jumps': 3307, '⚠': 3308, 'immigration': 3309, 'attend': 3310, 'betfred': 3311, 'cats': 3312, 'yourselves': 3313, 'allowing': 3314, 'holland': 3315, 'muslims': 3316, 'buyout': 3317, 'declined': 3318, 'ether': 3319, 'dash': 3320, 'signature': 3321, 'praised': 3322, 'focused': 3323, 'dropped': 3324, 'buying': 3325, 'merely': 3326, 'catalan': 3327, 'mountain': 3328, 'inspirational': 3329, 'nhl': 3330, 'inanimate': 3331, 'mess': 3332, 'developers': 3333, 'arrives': 3334, 'perth': 3335, 'fourth': 3336, 'industrial': 3337, 'soldier': 3338, 'sincerity': 3339, 'zones': 3340, 'torn': 3341, 'rub': 3342, 'ear': 3343, 'reviews': 3344, 'names': 3345, 'grocery': 3346, 'window': 3347, 'reaction': 3348, 'rpg': 3349, 'emotion': 3350, 'dat': 3351, 'jim': 3352, 'ups': 3353, 'kansas': 3354, 'nations': 3355, 'asses': 3356, 'eight': 3357, 'setting': 3358, '🍕': 3359, 'situation': 3360, 'ton': 3361, 'nights': 3362, 'thrilled': 3363, '😇': 3364, 'nathan': 3365, 'narendra': 3366, 'mushrooms': 3367, 'overrated': 3368, 'crews': 3369, 'whitelist': 3370, 'payments': 3371, 'beth': 3372, 'diamond': 3373, 'sc': 3374, 'impressive': 3375, 'closer': 3376, 'consistent': 3377, 'huawei': 3378, 'lo': 3379, 'noise': 3380, '🇦': 3381, '🇮': 3382, 'whitepaper': 3383, 'natural': 3384, 'forest': 3385, 'stating': 3386, 'mikal': 3387, 'leg-spinner': 3388, 'quetta': 3389, 'warne': 3390, 'hopping': 3391, 'navy': 3392, 'invented': 3393, 'publicly': 3394, 'effect': 3395, 'jailing': 3396, 'ncaa': 3397, 'hockey': 3398, 'candy': 3399, 'pizza': 3400, 'currencies': 3401, 'peace': 3402, 'holiday': 3403, 'formula': 3404, '\\U0001f929': 3405, 'entry': 3406, 'chain': 3407, 'hdr': 3408, 'hd': 3409, 'salary': 3410, 'deliver': 3411, 'firm': 3412, 'bombing': 3413, '<DG': 3414, 'url': 3415, 'advocate': 3416, 'authority': 3417, 'description': 3418, 'aims': 3419, 'kyle': 3420, 'mainstream': 3421, 'whoa': 3422, 'stealthcrypto': 3423, 'next-generation': 3424, 'florida': 3425, 'dickhead': 3426, 'leeds': 3427, 'phones': 3428, 'hmmm': 3429, 'sends': 3430, '🤓': 3431, '✊': 3432, 't.co': 3433, 'drake': 3434, 'participating': 3435, 'seasons': 3436, 'shy': 3437, 'overly': 3438, 'filmed': 3439, 'sext': 3440, 'fixing': 3441, 'stronger': 3442, 'mock': 3443, 'pal': 3444, 'trq': 3445, 'coincrowd-sale': 3446, 'challenge': 3447, 'pic': 3448, 'occasion': 3449, 'stomach': 3450, 'painful': 3451, 'cybersecurity': 3452, 'rocking': 3453, 'reliable': 3454, 'floor': 3455, 'detecting': 3456, 'wellbeing': 3457, 'cure': 3458, 'roman': 3459, 'charity': 3460, 'gp': 3461, 'wing': 3462, 'marches': 3463, 'unbiased': 3464, 'manage': 3465, 'reunion': 3466, 'discern': 3467, 'nor': 3468, 'costs': 3469, 'survive': 3470, 'richard': 3471, 'cherry': 3472, 'harvest': 3473, 'distance': 3474, 'anger': 3475, 'capital': 3476, 'beliefs': 3477, 'attacked': 3478, 'clinton': 3479, 'shocker': 3480, 'rise': 3481, 'wishes': 3482, 'gig': 3483, 'literal': 3484, 'consultancy': 3485, 'expand': 3486, 'tutorial': 3487, 'streaming': 3488, 'outrage': 3489, 'nyc': 3490, 'pressure': 3491, 'hierarchy': 3492, 'degrees': 3493, 'hmm': 3494, '➖': 3495, 'quit': 3496, 'crown': 3497, 'douglas': 3498, 'pitching': 3499, 'tokenintelligence': 3500, 'delightful': 3501, 'chips': 3502, '🎙': 3503, 'meter': 3504, 'brother': 3505, 'va': 3506, 'quiz': 3507, 'manufacturing': 3508, 'scores': 3509, 'sunshine': 3510, 'russians': 3511, 'scandals': 3512, 'initiative': 3513, 'minority': 3514, 'participants': 3515, '🍺': 3516, 'novel': 3517, 'assholes': 3518, 'contract': 3519, 'expecting': 3520, 'iconic': 3521, 'friendships': 3522, 'coz': 3523, 'mistake': 3524, 'survival': 3525, 'pair': 3526, 'phil': 3527, '😄': 3528, 'condemn': 3529, 'tree': 3530, '👈': 3531, 'deposit': 3532, 'bout': 3533, 'roy': 3534, 'strict': 3535, 'logical': 3536, 'sochi': 3537, 'mins': 3538, 'mesh': 3539, 'indies': 3540, 'fuckin': 3541, 'tours': 3542, 'floris': 3543, 'talal': 3544, 'corruption': 3545, 'cows': 3546, 'linda': 3547, 'setup': 3548, 'bat': 3549, 'grid': 3550, 'plot': 3551, 'immune': 3552, 'scully': 3553, 'eventually': 3554, 'uneducated': 3555, 'britain': 3556, 'conspiracy': 3557, 'awww': 3558, 'ik': 3559, 'apart': 3560, 'pleased': 3561, 'liking': 3562, 'console': 3563, 'leaves': 3564, 'load': 3565, 'expression': 3566, 'maker': 3567, 'accused': 3568, 'banning': 3569, 'tribute': 3570, 'contents': 3571, 'poll': 3572, 'estimates': 3573, 'nicer': 3574, 'believes': 3575, 'responsive': 3576, 'comfortable': 3577, 'raising': 3578, 'kb': 3579, 'convey': 3580, 'studying': 3581, 'considering': 3582, '25th': 3583, 'jacket': 3584, 'accurate': 3585, 'posting': 3586, 'wick': 3587, 'gosh': 3588, 'cities': 3589, 'flow': 3590, '📣': 3591, 'cto': 3592, 'tl': 3593, 'fabulous': 3594, 'aka': 3595, 'cast': 3596, 'shah': 3597, '❣': 3598, 'ring': 3599, 'tgt': 3600, 'moved': 3601, 'struggle': 3602, 'dailybrian': 3603, 'alex': 3604, '<-': 3605, 'pill': 3606, 'drills': 3607, 'episodes': 3608, 'totes': 3609, 'प': 3610, 'य': 3611, 'र': 3612, 'saved': 3613, 'suggest': 3614, 'offered': 3615, 'visual': 3616, 'summary': 3617, 'minds': 3618, 'fc': 3619, 'anxiety': 3620, 'whilst': 3621, 'hannity': 3622, 'identify': 3623, 'roe': 3624, 'wade.why': 3625, 'provider': 3626, 'rule': 3627, 'stated': 3628, 'voting': 3629, 'adventure': 3630, 'thus': 3631, 'bigotry': 3632, 'daddy': 3633, 'memory': 3634, 'providing': 3635, 'victims': 3636, '👣': 3637, 'promotion': 3638, 'positivity': 3639, 'pun': 3640, 'photoshopped': 3641, 'wheel': 3642, 'danger': 3643, 'solidarity': 3644, 'breakfast': 3645, '🙈': 3646, 'wrap': 3647, '😔': 3648, 'invitation': 3649, 'pet': 3650, 'hr': 3651, 'vid': 3652, 'ga': 3653, 'lake': 3654, 'inspired': 3655, 'rose': 3656, 'contribute': 3657, 'sin': 3658, 'instant': 3659, 'penis': 3660, 'influence': 3661, 'checked': 3662, 'marching': 3663, 'ourselves': 3664, 'editor': 3665, 'bullets': 3666, 'DG-DGDG': 3667, 'sappy': 3668, 'performs': 3669, 'horny': 3670, 'emergency': 3671, 'mueller': 3672, 'keys': 3673, 'sharp': 3674, '🎞': 3675, '📀': 3676, '📽': 3677, '🎬': 3678, '📼': 3679, 'suits': 3680, 'serial': 3681, 'slightly': 3682, '27th': 3683, 'wanting': 3684, 'serve': 3685, 'vibes': 3686, 'subscribe': 3687, 'hide': 3688, 'affair': 3689, 'formule': 3690, 'pibbleblockchain': 3691, 'monetized': 3692, 'interior': 3693, 'snarky': 3694, 'pages': 3695, 'smarter': 3696, 'opposite': 3697, 'aqu': 3698, 'impossible': 3699, 'therefore': 3700, 'attacking': 3701, 'secured': 3702, 'miles': 3703, 'mile': 3704, 'jafa': 3705, '📲': 3706, 'civilians': 3707, 'tha': 3708, 'bhai': 3709, 'mo': 3710, 'realised': 3711, 'values': 3712, 'accepted': 3713, 'salt': 3714, 'counting': 3715, 'critical': 3716, 'sadly': 3717, 'blown': 3718, 'programme': 3719, '🤑': 3720, 'rewards': 3721, 'pastor': 3722, 'shaking': 3723, 'boarding': 3724, 'marvel': 3725, 'photography': 3726, 'smiling': 3727, 'weapon': 3728, 'causes': 3729, 'enemy': 3730, 'fights': 3731, 'tw': 3732, 'fool': 3733, 'loses': 3734, 'cook': 3735, 'threw': 3736, 'assuming': 3737, 'ripple': 3738, 'required': 3739, 'listing': 3740, 'shoulders': 3741, 'journey': 3742, 'angel': 3743, 'teaching': 3744, 'trezor': 3745, 'cousin': 3746, 'hydro-quebec': 3747, 'melbourne': 3748, 'reference': 3749, 'unlike': 3750, 'marijuana': 3751, 'underrated': 3752, 'vettel': 3753, 'lewis': 3754, 'pushed': 3755, 'central': 3756, 'poster': 3757, 'fed': 3758, 'bullshit': 3759, 'classics': 3760, 'parental': 3761, '50s': 3762, 'winds': 3763, 'sets': 3764, 'lights': 3765, 'outstanding': 3766, 'stellar': 3767, 'insane': 3768, 'masters': 3769, 'punjabi': 3770, 'stunning': 3771, '🍒': 3772, 'frustrating': 3773, 'itself': 3774, 'shock': 3775, 'matchday': 3776, 'anthony': 3777, 'shouting': 3778, 'challenged': 3779, 'shots': 3780, 'display': 3781, 'throws': 3782, 'hiding': 3783, 'awkward': 3784, 'normally': 3785, 'advance': 3786, 'trilogy': 3787, 'lied': 3788, 'kunal': 3789, 'bulls': 3790, 'disabled': 3791, 'consider': 3792, 'waterproof': 3793, 'outfit': 3794, 'scott': 3795, 'concert': 3796, '💃': 3797, 'abuse': 3798, 'manipulated': 3799, 'outdoors': 3800, 'extinction': 3801, 'resting': 3802, 'imma': 3803, 'remind': 3804, 'thru': 3805, 'broad': 3806, 'millie': 3807, 'hydro': 3808, 'impression': 3809, 'haters': 3810, 'illuminati': 3811, 'hacked': 3812, 'requestsyour': 3813, 'connectedhttps': 3814, 't.co/gulmsgzzn7white': 3815, 'aussie': 3816, 'experienced': 3817, 'pope': 3818, '®': 3819, 'faster': 3820, 'sparking': 3821, 'billionaire': 3822, 'wood': 3823, 'arabic': 3824, 'jordan': 3825, 'hats': 3826, '😡': 3827, 'population': 3828, 'silent': 3829, 'pioneer': 3830, '❞': 3831, 'salty': 3832, 'hang': 3833, 'commercials': 3834, 'targets': 3835, 'reveal': 3836, 'hosting': 3837, 'fusion': 3838, 'topics': 3839, 'gap': 3840, 'debut': 3841, 'pos': 3842, 'kevin': 3843, 'happiness': 3844, 'gifts': 3845, 'brina': 3846, 'mexican': 3847, '🌶': 3848, 'workload': 3849, 'vouchers': 3850, 'athletes': 3851, '🚗': 3852, 'combination': 3853, 'friendship': 3854, 'fam': 3855, 'recorded': 3856, 'parking': 3857, 'heck': 3858, 'estate': 3859, 'officials': 3860, 'logo': 3861, 'crave': 3862, 'barrel': 3863, 'pruitt': 3864, 'marketmonkeyuk': 3865, 'libyan': 3866, 'races': 3867, 'malta': 3868, 'editing': 3869, '🐰': 3870, 'elected': 3871, 'meal': 3872, 'tick': 3873, '(DG': 3874, 'bathroom': 3875, 'worries': 3876, 'views': 3877, 'halts': 3878, '😻': 3879, 'gasp': 3880, '🥁': 3881, 'abt': 3882, 'meansget': 3883, 'surprises': 3884, 'ap': 3885, 'discussion': 3886, 'television': 3887, 'equally': 3888, 'donny': 3889, 'agb': 3890, 'nielsen': 3891, 'openly': 3892, 'commercial': 3893, 'ahhh': 3894, 'roof': 3895, 'lange': 3896, '⠀': 3897, 'bizarre': 3898, 'invited': 3899, 'singing': 3900, 'nail': 3901, 'charles': 3902, 'furniture': 3903, 'sink': 3904, 'slumber': 3905, 'copper': 3906, '👎': 3907, 'beast': 3908, 'trap': 3909, 'wind': 3910, 'sean': 3911, 'viewers': 3912, 'douchebag': 3913, 'southgate': 3914, 'seemed': 3915, 'texas': 3916, 'ana': 3917, 'unfair': 3918, 'ranking': 3919, 'completed': 3920, 'ueno': 3921, 'sources': 3922, 'selfishness': 3923, 'schoolers': 3924, 'foreign': 3925, 'tony': 3926, 'tories': 3927, 'yard': 3928, 'dragging': 3929, 'joined': 3930, 'lte': 3931, 'huh': 3932, 'clock': 3933, 'amateur': 3934, 'electronics': 3935, 'interference': 3936, 'spectrum': 3937, 'beloved': 3938, 'property': 3939, 'timing': 3940, 'scenes': 3941, 'scratch': 3942, '4am': 3943, 'listed': 3944, 'trusted': 3945, 'ni': 3946, 'baglietto': 3947, '46m': 3948, 'superyacht': 3949, 'trans': 3950, 'retweets': 3951, 'permanent': 3952, 'academia': 3953, 'premiere': 3954, 'manmade': 3955, 'floa': 3956, 'discography': 3957, 'savings': 3958, 'sensible': 3959, 'steak': 3960, 'subs': 3961, 'pleasant': 3962, 'automatic': 3963, 'vehicles': 3964, 'ronda': 3965, 'rousey': 3966, 'nurse': 3967, 'pakistan': 3968, 'disproportionately': 3969, 'entirely': 3970, 'filter': 3971, 'heels': 3972, 'announces': 3973, 'launched': 3974, 'wet': 3975, 'horribly': 3976, 'purposely': 3977, 'journalist': 3978, 'storm': 3979, 'japan': 3980, 'korea': 3981, 'headache': 3982, 'hashtags': 3983, 'xvg': 3984, 'jeffbullas': 3985, 'demonstration': 3986, 'segment': 3987, 'persona': 3988, 'dancing': 3989, 'distribution': 3990, 'semester': 3991, 'mindless': 3992, 'josh': 3993, 'neighborhood': 3994, 'mario': 3995, 'rep': 3996, 'heritage': 3997, 'peer': 3998, 'stiles': 3999, 'wolf': 4000, 'cancer': 4001, '. ...': 4002, 'comprehension': 4003, 'lmfaoooo': 4004, 'ffs': 4005, 'thermo': 4006, 'fisher': 4007, 'passion': 4008, 'eric': 4009, 'meaningful': 4010, 'si': 4011, 'sang': 4012, 'supporter': 4013, 'clothing': 4014, 'brad': 4015, 'metal': 4016, 'tunnel': 4017, 'eastern': 4018, 'ghouta': 4019, 'drops': 4020, 'bullying': 4021, 'creates': 4022, 'rare': 4023, 'notches': 4024, 'billion.over': 4025, '🌍': 4026, 'tuned': 4027, '🌺': 4028, 'topic': 4029, 'xinfin': 4030, 'singapore': 4031, 'supported': 4032, 'analysts': 4033, 'yessss': 4034, 'stoff': 4035, 'ideal': 4036, 'hearts': 4037, 'pittsburgh': 4038, 'misunderstood': 4039, 'increases': 4040, 'employees': 4041, 'undertaker': 4042, 'tok': 4043, 'condemned': 4044, 'homepage': 4045, 'pops': 4046, 'hub': 4047, '15th': 4048, 'rite': 4049, 'jail': 4050, 'jordi': 4051, 'turull': 4052, 'carme': 4053, 'forcadell': 4054, 'transaction': 4055, 'forgotten': 4056, 'ferrari': 4057, 'scum': 4058, 'pinch': 4059, 'recognized': 4060, 'verizon': 4061, 'naked': 4062, 'booth': 4063, 'presenting': 4064, 'shoprite': 4065, 'flavor': 4066, 'crowdfund': 4067, 'taylor': 4068, 'fruits': 4069, 'abiding': 4070, 'flew': 4071, 'merging': 4072, 'onto': 4073, 'management': 4074, 'cooking': 4075, 'drama': 4076, 'selfish': 4077, '😵': 4078, 'di': 4079, 'sneak': 4080, 'woo': 4081, 'celebration': 4082, 'darren': 4083, 'merger': 4084, 'install': 4085, 'decider': 4086, 'neolite': 4087, 'peoplecomment': 4088, 'supplytoken': 4089, 'nlt': 4090, 'field': 4091, 'penalty': 4092, 'rig': 4093, 'exact': 4094, 'nerd': 4095, 'frustrated': 4096, 'geeks': 4097, 'navami': 4098, 'ramas': 4099, 'solid': 4100, 'screw': 4101, 'loyola': 4102, 'deserves': 4103, 'unite': 4104, 'footage': 4105, 'obamas': 4106, 'nick': 4107, 'satisfying': 4108, 'spaces': 4109, 'platforms': 4110, 'sunrise': 4111, 'democratic': 4112, 'lamp': 4113, 'dev': 4114, 'kickstarter': 4115, 'allegations': 4116, 'accusing': 4117, 'againfollow': 4118, 'likejoin': 4119, 'anncomment': 4120, 'post.https': 4121, 't.co/gma8qirf1cf…': 4122, 'exit': 4123, 'radcliffe': 4124, 'cigarette': 4125, 'p2p': 4126, 'unnecessary': 4127, 'typical': 4128, 'hunter': 4129, 'promoting': 4130, 'francisco': 4131, 'alright': 4132, 'ten': 4133, 'senseless': 4134, 'williams': 4135, 'remote': 4136, 'saleclosedbid': 4137, 'successfully': 4138, 'witch': 4139, 'features': 4140, 'robe': 4141, 'ruffle': 4142, 'jaune': 4143, 'justin': 4144, 'columbus': 4145, 'errors': 4146, '❓': 4147, 'wharf': 4148, 'designing': 4149, 'opens': 4150, 'replace': 4151, 'surgery': 4152, 'higher': 4153, 'input': 4154, 'reminder': 4155, 'teeth': 4156, 'demonstrating': 4157, 'applying': 4158, 'prix': 4159, '→': 4160, 'raging': 4161, 'disrespectful': 4162, 'pace': 4163, 'brighter': 4164, 'opponents': 4165, 'principle': 4166, 'acknowledge': 4167, 'potter': 4168, 'painting': 4169, 'hai': 4170, 'pocket': 4171, 'ship': 4172, 'scottish': 4173, 'heaven': 4174, 'sylva': 4175, 'fischer': 4176, 'algorithms': 4177, 'olivier': 4178, 'forgues': 4179, 'breath': 4180, 'communicate': 4181, 'fade': 4182, 'defend': 4183, 'moscow': 4184, 'thieves': 4185, 'sweetie': 4186, '♪': 4187, 'kicked': 4188, 'f1': 4189, 'worldopoly': 4190, 'investing': 4191, 'productive': 4192, 'cya': 4193, 'momentum': 4194, 'capacity': 4195, 'france': 4196, 'barbwires': 4197, 'gifs': 4198, 'prolly': 4199, '🏏': 4200, 'itd': 4201, 'vast': 4202, 'server': 4203, 'versions': 4204, 'allied': 4205, 'circle': 4206, 'colluding': 4207, 'retirement': 4208, 'closest': 4209, 'ministry': 4210, 'forces': 4211, 'employee': 4212, 'secretly': 4213, 'spanish': 4214, 'owe': 4215, '_desi': 4216, 'raid': 4217, 'comparing': 4218, 'bts': 4219, 'correlation': 4220, '👐': 4221, 'prey': 4222, 'illusions': 4223, 'puerto': 4224, 'employment': 4225, 'patch': 4226, 'certificate': 4227, '😳': 4228, 'organic': 4229, 'negativity': 4230, 'nic': 4231, 'strength': 4232, 'verified': 4233, 'kentucky': 4234, 'underway': 4235, 'parody': 4236, 'admitting': 4237, 'components': 4238, 'onomora': 4239, 'guessing': 4240, 'bastards': 4241, 'counter': 4242, 'buddy': 4243, 'flashlight': 4244, 'revealing': 4245, 'hack': 4246, 'shitty': 4247, 'criticized': 4248, 'dye': 4249, 'boxed': 4250, 'associate': 4251, 'unli': 4252, 'congressman': 4253, 'organisation': 4254, 'bowie': 4255, 'shamed': 4256, 'adds': 4257, 'mlk': 4258, 'reasonable': 4259, 'dodge': 4260, 'noon': 4261, 'nodes': 4262, 'corner': 4263, 'londons': 4264, 'avoiding': 4265, 'conditions': 4266, 'cleaning': 4267, 'nutrition': 4268, 'med': 4269, 'hated': 4270, 'painted': 4271, 'casa': 4272, 'los': 4273, 'treasure': 4274, 'mercedes': 4275, 'ver': 4276, 'misread': 4277, 'slick': 4278, '➤': 4279, 'saturated': 4280, 'persons': 4281, 'actors': 4282, 'grayson': 4283, 'coherent': 4284, 'significant': 4285, 'depth': 4286, 'scan': 4287, 'amused': 4288, 'specialist': 4289, 'trial': 4290, 'belle': 4291, '😤': 4292, 'association': 4293, 'whenever': 4294, 'physically': 4295, 'bald': 4296, 'berniebro': 4297, 'repeatedly': 4298, 'classroom': 4299, 'cells': 4300, 'laundry': 4301, 'brag': 4302, 'cleared': 4303, 'addressing': 4304, 'twelve': 4305, 'conclusion': 4306, 'nose': 4307, 'elses': 4308, 'schiff': 4309, 'asf': 4310, 'learnt': 4311, 'athereum': 4312, 'participantsand': 4313, 'roseberry': 4314, 'cotbed': 4315, 'ugh': 4316, 'ruining': 4317, 'tactics': 4318, 'ty': 4319, 'snapchat': 4320, 'powers': 4321, 'troubled': 4322, 'terrorists': 4323, 'blast': 4324, 'inches': 4325, 'pa': 4326, 'forth': 4327, 'sits': 4328, 'basement': 4329, 'flop': 4330, 'affairs': 4331, 'catalog': 4332, 'microsoft': 4333, 'somewhere': 4334, 'wrestler': 4335, 'opponent': 4336, 'sr': 4337, '´': 4338, 'algorithm': 4339, 'nuts': 4340, 'divide': 4341, 'meat': 4342, 'pirates': 4343, 'yesurs': 4344, 'fairy': 4345, 'unlikely': 4346, 'shape': 4347, 'asc': 4348, 'idc': 4349, 'gear': 4350, 'behalf': 4351, 'springs': 4352, 'drawn': 4353, 'favor': 4354, '»': 4355, 'discover': 4356, 'engage': 4357, 'tampa': 4358, 'cowan': 4359, 'lease': 4360, 'hateful': 4361, 'grown': 4362, 'yahoo': 4363, 'direct': 4364, 'links': 4365, 'amounts': 4366, 'oz': 4367, 'travels': 4368, 'fascism': 4369, 'pee': 4370, 'sucking': 4371, 'lands': 4372, 'tees': 4373, 'shirts': 4374, 'fck': 4375, 'ironic': 4376, 'bored': 4377, 'guard': 4378, 'kings': 4379, 'affect': 4380, 'bowl': 4381, 'california': 4382, 'filing': 4383, 'informed': 4384, 'fell': 4385, 'peeps': 4386, 'thunder': 4387, 'tap': 4388, 'tunic': 4389, 'nwt': 4390, 'shri': 4391, 'marital': 4392, 'ranked': 4393, 'edinburgh': 4394, 'alonso': 4395, 'agencies': 4396, 'hopes': 4397, 'xmr': 4398, 'tampering': 4399, 'avail': 4400, 'gates': 4401, 'mulder': 4402, 'conflict': 4403, 'childs': 4404, 'salah': 4405, 'enemies': 4406, 'ninja': 4407, 'confidence': 4408, 'blanket': 4409, 'masses': 4410, 'crew': 4411, 'barry': 4412, 'grey': 4413, 'asks': 4414, 'countless': 4415, 'iraq': 4416, 'hows': 4417, 'tears': 4418, 'lounge': 4419, '🤘': 4420, 'ball-tampering': 4421, 'linked': 4422, 'acct': 4423, 'upside': 4424, 'december': 4425, 'fanatics': 4426, '❛': 4427, '❜': 4428, 'buzzfeed': 4429, 'researcher': 4430, 'heavenly': 4431, 'mallows': 4432, 'hamp': 4433, 'lou': 4434, 'curse': 4435, 'mckinsey': 4436, 'chunk': 4437, 'object': 4438, 'sassy': 4439, 'halfway': 4440, 'independent': 4441, 'java': 4442, 'lmaoooo': 4443, 'mature': 4444, 'accessible': 4445, 'keyboard': 4446, 'md': 4447, 'finding': 4448, 'pinned': 4449, 'moral': 4450, 'frowned': 4451, 'chemical': 4452, 'gaining': 4453, 'exams': 4454, '29th': 4455, 'merkel': 4456, 'db': 4457, 'industries': 4458, 'ownership': 4459, 'sony': 4460, 'decorated': 4461, 'coupon': 4462, 'coaching': 4463, 'milf': 4464, 'apps': 4465, 'sarsour': 4466, 'lawyer': 4467, 'mla': 4468, 'btcusd': 4469, 'spoke': 4470, 'destroyed': 4471, 'violin': 4472, 'misses': 4473, 'pornstar': 4474, 'arrived': 4475, 'adom': 4476, 'fm': 4477, 'morris': 4478, 'freaking': 4479, 'coo': 4480, 'bloggers': 4481, 'theme': 4482, 'theatre': 4483, 'sahil': 4484, 'driven': 4485, 'asian': 4486, 'fest': 4487, 'relate': 4488, 'abs': 4489, 'muscles': 4490, 'darling': 4491, 'gabriel': 4492, 'sis': 4493, 'imply': 4494, 'jones': 4495, 'cm': 4496, 'bend': 4497, 'susceptible': 4498, 'francis': 4499, 'maintaining': 4500, 'twins': 4501, 'brave': 4502, 'relevant': 4503, 'spelling': 4504, 'punctuation': 4505, 'tokyo': 4506, 'barcelona': 4507, 'shoes': 4508, 'webmd': 4509, 'spectacular': 4510, 'fictional': 4511, 'universe': 4512, 'ranging': 4513, 'abandon': 4514, 'accusations': 4515, 'giggles': 4516, 'entering': 4517, 'scorpio': 4518, 'pointed': 4519, 'legacy': 4520, 'defeat': 4521, 'rifles': 4522, 'sweat': 4523, 'debunk': 4524, 'prevent': 4525, 'ray': 4526, 'ridge': 4527, 'supportive': 4528, 'degree': 4529, 'thenextweb': 4530, 'crossed': 4531, 'plea': 4532, 'teenager': 4533, 'hv': 4534, '＆': 4535, 'lover': 4536, 'lately': 4537, 'moving': 4538, 'creation': 4539, 'routine': 4540, 'self-driving': 4541, 'researchers': 4542, 'misogyny': 4543, 'aquarium': 4544, 'improved': 4545, 'fi': 4546, 'psycho': 4547, 'inspiring': 4548, 'derelict': 4549, 'vegas': 4550, 'punished': 4551, 'doj': 4552, 'nervous': 4553, 'levels': 4554, 'tote': 4555, 'shoving': 4556, 'alliance': 4557, 'twisting': 4558, 'wasting': 4559, 'spoiler': 4560, 'headline': 4561, 'hill': 4562, 'articles': 4563, 'feature': 4564, 'starbucks': 4565, 'sooooo': 4566, 'zealand': 4567, 'awhile': 4568, 'egg-citing': 4569, 'childhood': 4570, '😪': 4571, 'exam': 4572, 'electronic': 4573, 'leverage': 4574, 'clap': 4575, 'bitcoins': 4576, 'discovering': 4577, 'intention': 4578, 'dam': 4579, 'measured': 4580, 'mats': 4581, 'participated': 4582, 'asia': 4583, 'garbage': 4584, 'italy': 4585, 'fired': 4586, 'funniest': 4587, 'presence': 4588, 'recipe': 4589, 'investments': 4590, 'gc': 4591, 'arrest': 4592, 'knees': 4593, '-DG.DGDG': 4594, 'mutual': 4595, 'tradition': 4596, 'palm': 4597, 'pan': 4598, '✍': 4599, 'toys': 4600, 'stone': 4601, 'curtain': 4602, 'sooner': 4603, 'crowdsale': 4604, 'petty': 4605, 'shooters': 4606, 'arm': 4607, 'visitors': 4608, 'deportation': 4609, 'brooklyn': 4610, 'bridgekarl': 4611, 'struss': 4612, 'nails': 4613, 'tuesday': 4614, 'designs': 4615, 'ridicule': 4616, 'differently': 4617, 'alleged': 4618, 'gratis': 4619, '🤢': 4620, 'rebounds': 4621, 'ubinet': 4622, 'apartment': 4623, 'rewarded': 4624, '9am': 4625, 'mentioned': 4626, 'ps4https': 4627, 'adults': 4628, 'gilgamesh': 4629, '🤙': 4630, 'candidates': 4631, 'itunes': 4632, 'joint': 4633, 'volumes': 4634, 'grumpy': 4635, 'flagship': 4636, 'aim': 4637, 'techinsider': 4638, 'affiliate': 4639, 'guitar': 4640, 'concerning': 4641, 'din': 4642, 'motivation': 4643, 'existence': 4644, 'birth': 4645, 'rescued': 4646, 'nightmare': 4647, 'superb': 4648, 'june': 4649, 'reads': 4650, 'max': 4651, 'irish': 4652, 'creators': 4653, 'hodgepodgedays': 4654, 'thriller': 4655, 'heh': 4656, 'tolerant': 4657, 'hacking': 4658, 'terms': 4659, 'wheres': 4660, 'naughty': 4661, 'reported': 4662, 'result': 4663, 'auto': 4664, 'gangs': 4665, 'wrist': 4666, 'pen': 4667, 'updated': 4668, 'smoking': 4669, '-DGDG.DGDG': 4670, 'queue': 4671, 'suppose': 4672, 'explore': 4673, 'youth': 4674, 'kudos': 4675, 'latter': 4676, 'dedicated': 4677, 'typing': 4678, 're-read': 4679, 'iii': 4680, 'babe': 4681, 'preparing': 4682, 'pac': 4683, 'DG:': 4684, 'nfc': 4685, 'visits': 4686, 'client': 4687, 'hmmmm': 4688, 'persuade': 4689, 'phrase': 4690, 'ego': 4691, 'smells': 4692, 'billionaires': 4693, 'egold': 4694, '3200eth': 4695, 'wives': 4696, 'southern': 4697, 'lobby': 4698, '05btc': 4699, 'giveaway.follow': 4700, 'ड': 4701, 'ु': 4702, 'ख': 4703, 'म': 4704, 'ठ': 4705, 'ग': 4706, 'स': 4707, 'न': 4708, 'arriving': 4709, 'connecticut': 4710, 'ebook': 4711, 'adelaide': 4712, '😲': 4713, '\\U0001f928': 4714, '🎤': 4715, 'hamilton': 4716, '😓': 4717, 'physics': 4718, 'celia': 4719, 'hedge': 4720, 'providers': 4721, 'forhttps': 4722, 't.co/oi5lbuorzp': 4723, 'crn': 4724, 'punk': 4725, 'eliminate': 4726, 'nirav': 4727, 'seized': 4728, 'paintings': 4729, 'cro': 4730, 'shining': 4731, 'highlight': 4732, 'residential': 4733, 'ave': 4734, 'ent': 4735, 'obsessed': 4736, 'frederic': 4737, 'surprising': 4738, 'embarrassed': 4739, 'needing': 4740, 'convo': 4741, 'msm': 4742, 'insider': 4743, 'butter': 4744, 'doors': 4745, 'dates': 4746, 'thier': 4747, 'smiled': 4748, 'del': 4749, 'tera': 4750, 'lived': 4751, 'demo': 4752, 'controlling': 4753, 'agenda': 4754, 'ranting': 4755, 'eden': 4756, 'blockchains': 4757, 'claims': 4758, 'fave': 4759, 'jewish': 4760, 'playstation': 4761, 'stan': 4762, 'min': 4763, 'luvelli': 4764, 'hypothetical': 4765, 'interpreted': 4766, 'hunters': 4767, 'romance': 4768, 'kappa': 4769, 'suspicious': 4770, 'ford': 4771, 'clue': 4772, 'mistaken': 4773, '🏒': 4774, 'ummm': 4775, 'cane': 4776, 'insights': 4777, 'religious': 4778, 'scream': 4779, 'conditt': 4780, 'allies': 4781, 'cheap': 4782, 'prick': 4783, 'exceeded': 4784, 'softcap': 4785, 'alternate': 4786, 'appointment': 4787, 'republican': 4788, 'cycle': 4789, 'chocolat': 4790, 'rhetorical': 4791, 'grabs': 4792, 'bible': 4793, 'causing': 4794, 'apologise': 4795, 'asompo': 4796, 'alan': 4797, 'toss': 4798, 'shake-up': 4799, 'transferred': 4800, 'lottery': 4801, 'delete': 4802, 'opened': 4803, 'slaves': 4804, '🐍': 4805, 'insult': 4806, 'sombra': 4807, 'premium': 4808, 'silver': 4809, 'sunglasses': 4810, 'cynicism': 4811, 'aguero': 4812, 'dived': 4813, 'albert': 4814, 'whom': 4815, '2018https': 4816, 'brock': 4817, 'lesnar': 4818, 'ambassador': 4819, 'courtesy': 4820, 'founding': 4821, 'warner': 4822, 'engineering': 4823, 'pocs': 4824, 'dumbass': 4825, 'influencers': 4826, 'detected': 4827, 'adoption': 4828, 'bitches': 4829, 'logitech': 4830, 'powered': 4831, 'clown': 4832, 'lasting': 4833, 'ky': 4834, 'harassed': 4835, 'describe': 4836, 'fits': 4837, 'alexa': 4838, 'patrick': 4839, 'andy': 4840, 'cby': 4841, 'illinois': 4842, '☺': 4843, 'leather': 4844, 'files': 4845, 'stephen': 4846, 'waited': 4847, '🎀': 4848, 'undertones': 4849, 'tragedy': 4850, '🔒': 4851, 'cannabis': 4852, 'universal': 4853, 'watson': 4854, 'languages': 4855, 'dunno': 4856, '--->': 4857, 'creepy': 4858, 'cdl': 4859, 'medicine': 4860, 'secrets': 4861, 'understood': 4862, 'purusai': 4863, '்': 4864, 'fascinating': 4865, 'narcissist': 4866, 'atlanta': 4867, 'trainer': 4868, 'garrett': 4869, 'aggression': 4870, 'belong': 4871, 'admits': 4872, 'scout': 4873, '\\\\': 4874, 'demands': 4875, 'conway': 4876, 'intelligently': 4877, 'elaborate': 4878, 'corbyn': 4879, 'refund': 4880, 'smartest': 4881, 'consequences': 4882, 'hurry': 4883, 'enthusiasm': 4884, 'suit': 4885, 'googling': 4886, 'biting': 4887, 'hackers': 4888, 'lefts': 4889, 'carol': 4890, 'shoutout': 4891, 'limits': 4892, 'unattractive': 4893, 'odds.bet': 4894, '❝': 4895, 'bancroft': 4896, 'dunh': 4897, 'invested': 4898, 'courses': 4899, 'fierce': 4900, '2d': 4901, 'shipped': 4902, 'monthly': 4903, 'hugs': 4904, 'mentions': 4905, '😌': 4906, 'bastard': 4907, 'trolls': 4908, 'rookie': 4909, 'phase': 4910, '🙆': 4911, 'workers': 4912, 'jazz': 4913, 'administrator': 4914, 'trending': 4915, 'dave': 4916, '4th': 4917, 'seed': 4918, 'streets': 4919, 'marco': 4920, 'losing': 4921, 'wave': 4922, 'accidentally': 4923, 'liar': 4924, 'estonia': 4925, 'oc': 4926, 'monkey': 4927, 'lunacy': 4928, 'blocking': 4929, 'goods': 4930, 'mikequindazzi': 4931, 'spen': 4932, 'iowa': 4933, 'infrastructure': 4934, 'ecom': 4935, 'fastest': 4936, 'raw': 4937, 'activity': 4938, 'suck': 4939, 'tariffs': 4940, 'cruise': 4941, 'basket': 4942, 'entitled': 4943, 'placed': 4944, 'rent': 4945, 'arena': 4946, '.   .': 4947, 'vibe': 4948, 'bankers': 4949, '👤': 4950, 'nradio': 4951, 'carplay': 4952, 'thug': 4953, 'harvard': 4954, 'sam': 4955, 'mcdonalds': 4956, 'seattle': 4957, 'manages': 4958, 'referring': 4959, 'unable': 4960, 'boosting': 4961, 'techcrunch': 4962, 'japanese': 4963, 'retarded': 4964, 'beef': 4965, 'eatcheapandhealthy': 4966, 'fees': 4967, 'gamer': 4968, 'constitutional': 4969, 'thoughtful': 4970, 'louis': 4971, 'atzmon': 4972, 'integrity': 4973, 'staring': 4974, 'bang': 4975, 'canterbury': 4976, 'defensive': 4977, '\\U0001f9e2': 4978, 'believable': 4979, '📱': 4980, 'boat': 4981, 'warfare': 4982, 'multiplayer': 4983, 'option': 4984, 'questionable': 4985, 'caution': 4986, 'monitoring': 4987, 'messages': 4988, 'whatsoever': 4989, 'lamborghini': 4990, '💐': 4991, 'root': 4992, 'toxic': 4993, '█': 4994, 'table': 4995, 'predicting': 4996, 'blahhh': 4997, 'lip': 4998, 'sri': 4999}\n",
      "[10, 907, 19, 1282, 32, 2740, 3, 19, 1459, 22, 2, 97, 7, 552, 1736, 2, 15, 3, 2, 16]\n"
     ]
    }
   ],
   "source": [
    "vocab = vocabulary.Vocabulary(utils.flatten(train_sentences),5000)\n",
    "x_ids = vocab.words_to_ids(train_sentences[0])\n",
    "print(\"x_ids =\", vocab.word_to_id)\n",
    "print(x_ids)"
   ]
  },
  {
   "cell_type": "code",
   "execution_count": null,
   "metadata": {
    "collapsed": true
   },
   "outputs": [],
   "source": [
    "\n"
   ]
  },
  {
   "cell_type": "code",
   "execution_count": 5,
   "metadata": {},
   "outputs": [
    {
     "name": "stdout",
     "output_type": "stream",
     "text": [
      "[[10, 907, 19, 1282, 32, 2740, 3, 19, 1459, 22, 2, 97, 7, 552, 1736, 2, 15, 3, 2, 16], [10, 77, 38, 96, 3, 3, 3, 3, 3, 6, 6], [90, 630, 2, 82, 4, 5, 6, 3], [59, 23, 2, 370, 3, 3, 3, 20, 3, 3, 41, 761, 790, 571, 237, 43, 244, 43, 238, 252, 6], [50, 158, 342, 20, 7, 3210, 1015, 8, 14, 961, 1737, 18, 151, 14, 2, 18, 151, 9, 2, 12, 14, 2, 18, 151, 12, 72, 72, 3, 3], [85, 85, 96, 28, 248, 9, 1904, 553, 12, 85, 85, 3, 3, 3, 3, 3, 3, 3, 3, 3, 3, 37], [58, 18, 7, 394, 15, 1374, 9, 7, 206, 5, 430, 68, 116, 33, 609, 9, 762, 89, 25, 7, 358, 1375, 6], [10, 69, 9, 763, 677, 324, 45, 2, 28, 2398, 89, 5, 335, 63, 1460, 19, 7, 962, 14, 174, 2, 2, 104, 3, 3], [28, 18, 176, 117, 78, 828, 8, 68, 3, 4, 6], [269, 8, 13, 108, 17, 79, 54, 169, 2, 5, 1461, 2741, 8, 1462, 146, 249, 64, 35, 1130, 5, 421, 6, 3, 3], [138, 59, 48, 17, 54, 12, 12, 3, 3, 36, 554, 2, 1583, 51, 152, 2, 56, 3901, 7, 1905, 6], [4, 4, 53, 17, 57, 11, 1016, 2, 2, 29, 3211, 14, 46, 116, 33, 609, 9, 1375, 2399, 32, 1906, 2127, 9, 1219, 85, 85], [138, 59, 3, 3, 3, 3, 2, 3902, 703, 3903, 6], [10, 66, 7, 2128, 3212, 159, 2, 14, 7, 2, 3904, 159, 11, 1017, 3905, 24, 21, 42, 101, 9, 2, 69, 83, 15, 31, 46, 52, 16], [286, 2, 8, 139, 20, 431, 2, 87, 733, 403, 2, 88, 64, 49, 1283, 239, 12, 26, 34, 106, 12, 2, 258, 12], [10, 13, 791, 11, 1907, 2129, 19, 31, 829, 1131, 14, 2, 3906, 18, 7, 506, 5, 3, 3, 16], [10, 35, 45, 1284, 343, 29, 11, 95, 963, 22, 22, 1285, 594, 278, 19, 1069, 262, 82, 14, 555, 519, 908, 87, 16], [4, 76, 51, 170, 282, 12, 1286, 792, 233, 552, 15, 24, 5], [3, 3, 347, 61, 23, 84, 37, 2, 2, 2, 2, 432, 1376, 2128, 1220, 8, 447, 27, 70, 2130, 6, 6], [216, 20, 7, 102, 793, 704, 964, 22, 317, 169, 36, 794, 20, 705, 16, 6, 3, 3]]\n"
     ]
    }
   ],
   "source": [
    "list_of_train_ids = list(map(vocab.words_to_ids, train_sentences))\n",
    "print(list_of_train_ids[0:20])\n",
    "\n",
    "\n",
    "list_of_validation_ids = list(map(vocab.words_to_ids, validation_sentences))\n",
    "\n",
    "list_of_test_ids = list(map(vocab.words_to_ids, test_sentences))\n"
   ]
  },
  {
   "cell_type": "code",
   "execution_count": 6,
   "metadata": {},
   "outputs": [
    {
     "data": {
      "text/plain": [
       "Counter({2: 3,\n",
       "         3: 2,\n",
       "         7: 1,\n",
       "         10: 1,\n",
       "         15: 1,\n",
       "         16: 1,\n",
       "         19: 2,\n",
       "         22: 1,\n",
       "         32: 1,\n",
       "         97: 1,\n",
       "         552: 1,\n",
       "         907: 1,\n",
       "         1282: 1,\n",
       "         1459: 1,\n",
       "         1736: 1,\n",
       "         2740: 1})"
      ]
     },
     "execution_count": 6,
     "metadata": {},
     "output_type": "execute_result"
    }
   ],
   "source": [
    "collections.Counter(list_of_train_ids[0])"
   ]
  },
  {
   "cell_type": "code",
   "execution_count": 7,
   "metadata": {
    "collapsed": true
   },
   "outputs": [],
   "source": [
    "from scipy.sparse import csr_matrix \n",
    "def sparsify_data(list_of_ids):\n",
    "    row_indices = []\n",
    "    col_indices = []\n",
    "    values = []\n",
    "    rows = len(list_of_ids)\n",
    "\n",
    "    for row, x_ids in enumerate(list_of_ids):\n",
    "        x_fdict = collections.Counter(x_ids)\n",
    "        for wordid, count in x_fdict.items():\n",
    "            row_indices.append(row)       \n",
    "            col_indices.append(wordid)  # column is word id\n",
    "            values.append(count)        # value is count\n",
    "    x_sparse = csr_matrix((values, (row_indices, col_indices)),\n",
    "                              shape=[rows, vocab.size])\n",
    "    return x_sparse"
   ]
  },
  {
   "cell_type": "code",
   "execution_count": 8,
   "metadata": {
    "collapsed": true
   },
   "outputs": [],
   "source": [
    "x_train_sparse = sparsify_data(list_of_train_ids)\n",
    "x_validation_sparse = sparsify_data(list_of_validation_ids)\n",
    "x_test_sparse = sparsify_data(list_of_test_ids)\n"
   ]
  },
  {
   "cell_type": "code",
   "execution_count": null,
   "metadata": {
    "collapsed": true
   },
   "outputs": [],
   "source": []
  },
  {
   "cell_type": "code",
   "execution_count": 9,
   "metadata": {},
   "outputs": [
    {
     "name": "stdout",
     "output_type": "stream",
     "text": [
      " acc: 89.78%, recall: 90.58%, precision: 89.54%, f1: 90.06%,\n"
     ]
    }
   ],
   "source": [
    "from sklearn.naive_bayes import MultinomialNB\n",
    "from sklearn.metrics import f1_score, accuracy_score, recall_score, precision_score\n",
    "\n",
    "nb = MultinomialNB(alpha =  1)\n",
    "nb.fit(x_train_sparse, train_labels)\n",
    "y_pred = nb.predict(x_test_sparse)\n",
    "\n",
    "\n",
    "\n",
    "\n",
    "\n",
    "f1 = f1_score(test_labels, y_pred)\n",
    "acc = accuracy_score(test_labels, y_pred)\n",
    "recall = recall_score(test_labels, y_pred)\n",
    "precision = precision_score(test_labels, y_pred)\n",
    "print(\" acc: {:.02%}, recall: {:.02%}, precision: {:.02%}, f1: {:.02%},\".format(acc, recall, precision, f1))\n"
   ]
  },
  {
   "cell_type": "code",
   "execution_count": 10,
   "metadata": {
    "collapsed": true
   },
   "outputs": [],
   "source": [
    "linear_weights = nb.feature_log_prob_[1,:] - nb.feature_log_prob_[0,:]  # populate this with actual values\n",
    "\n",
    "top_negative_features = np.argsort(linear_weights)[0:40]\n",
    "top_positive_features = np.argsort(-linear_weights)[0:40]\n"
   ]
  },
  {
   "cell_type": "code",
   "execution_count": 11,
   "metadata": {},
   "outputs": [
    {
     "name": "stdout",
     "output_type": "stream",
     "text": [
      "Most negative features:\n",
      "  ↴ (-5.27)\n",
      "  ⭐ (-4.90)\n",
      "  registration (-4.61)\n",
      "  cams (-4.58)\n",
      "  tokkens (-4.58)\n",
      "  🕰 (-4.52)\n",
      "  🎮 (-4.52)\n",
      "  🖥 (-4.50)\n",
      "  💎 (-4.46)\n",
      "  airdrop (-4.37)\n",
      "  blockchain (-4.22)\n",
      "  telegram (-3.99)\n",
      "  es (-3.99)\n",
      "  bitcoin (-3.97)\n",
      "  ✔ (-3.89)\n",
      "  token (-3.82)\n",
      "  ico (-3.67)\n",
      "  enter (-3.63)\n",
      "  £ (-3.57)\n",
      "  ➡ (-3.52)\n",
      "  camp (-3.52)\n",
      "  📢 (-3.49)\n",
      "  tokens (-3.49)\n",
      "  DGDG:DGDG (-3.46)\n",
      "  cryptocurrency (-3.46)\n",
      "  rt (-3.39)\n",
      "  3d (-3.35)\n",
      "  💰 (-3.32)\n",
      "  items (-3.28)\n",
      "  giveaway (-3.26)\n",
      "  crypto (-3.16)\n",
      "  🔥 (-3.13)\n",
      "  competition (-3.10)\n",
      "  recommend (-3.10)\n",
      "  ！ (-3.10)\n",
      "  decades (-3.05)\n",
      "  🌿 (-3.05)\n",
      "  th (-3.00)\n",
      "  wallet (-3.00)\n",
      "  luxuryliferss (-3.00)\n",
      "\n",
      "Most positive features:\n",
      "  fh__400inst (3.85)\n",
      "  soundtwit (3.85)\n",
      "  isnt (3.79)\n",
      "  font (3.55)\n",
      "  vocalistwithhis (3.47)\n",
      "  tone (3.47)\n",
      "  jokes (3.31)\n",
      "  shocked (3.27)\n",
      "  🤦 (3.16)\n",
      "  :@ (3.16)\n",
      "  funny (3.12)\n",
      "  mean (3.11)\n",
      "  oh (3.10)\n",
      "  wasn (3.08)\n",
      "  yeah (3.06)\n",
      "  humor (3.06)\n",
      "  btw (3.03)\n",
      "  lol (3.03)\n",
      "  clearly (3.01)\n",
      "  racist (2.99)\n",
      "  🤷 (2.99)\n",
      "  actually (2.98)\n",
      "  🙃 (2.94)\n",
      "  worse (2.94)\n",
      "  weird (2.89)\n",
      "  blew (2.83)\n",
      "  wouldnt (2.83)\n",
      "  dare (2.83)\n",
      "  failure (2.83)\n",
      "  yes (2.82)\n",
      "  joke (2.80)\n",
      "  genuinely (2.78)\n",
      "  insert (2.78)\n",
      "  assume (2.78)\n",
      "  gb (2.78)\n",
      "  quite (2.78)\n",
      "  😱 (2.78)\n",
      "  vocalistwith (2.78)\n",
      "  happens (2.78)\n",
      "  bit (2.72)\n"
     ]
    }
   ],
   "source": [
    "print(\"Most negative features:\")\n",
    "for idx in top_negative_features:\n",
    "    print(\"  {:s} ({:.02f})\".format(vocab.id_to_word[idx], \n",
    "                                    linear_weights[idx]))\n",
    "print(\"\")\n",
    "print(\"Most positive features:\")\n",
    "for idx in top_positive_features:\n",
    "    print(\"  {:s} ({:.02f})\".format(vocab.id_to_word[idx], \n",
    "                                    linear_weights[idx]))\n",
    "    \n"
   ]
  },
  {
   "cell_type": "markdown",
   "metadata": {},
   "source": [
    "###### "
   ]
  },
  {
   "cell_type": "code",
   "execution_count": 41,
   "metadata": {},
   "outputs": [
    {
     "data": {
      "text/plain": [
       "[[47.70712957655121, 798],\n",
       " [36.29367782018636, 1280],\n",
       " [28.600256408010722, 878],\n",
       " [26.022679456585692, 382],\n",
       " [20.569259061312636, 1347],\n",
       " [19.759983697753285, 293],\n",
       " [17.704214995808456, 1052],\n",
       " [17.101258354116965, 398],\n",
       " [15.680636636976402, 926],\n",
       " [15.189714793847244, 1044],\n",
       " [14.664824077661876, 114],\n",
       " [14.222251975696111, 881],\n",
       " [13.669001398900861, 650],\n",
       " [13.373677160950081, 739],\n",
       " [12.945793218025585, 1196],\n",
       " [12.315031737121217, 462],\n",
       " [12.057274294477665, 663],\n",
       " [12.057274294477665, 906],\n",
       " [11.371224870577393, 1134],\n",
       " [10.730745554696654, 37],\n",
       " [9.7218270635102613, 229],\n",
       " [9.5179221004238102, 1209],\n",
       " [9.0842846584690022, 174],\n",
       " [9.0357115632584524, 1019],\n",
       " [8.9916358560216167, 299],\n",
       " [8.9532812981314436, 150],\n",
       " [8.7018979531910787, 487],\n",
       " [8.5371731760765783, 84],\n",
       " [8.1438074439992931, 96],\n",
       " [7.8153505717342568, 1186],\n",
       " [7.6576491408283971, 675],\n",
       " [7.6439918033544245, 894],\n",
       " [7.5001069377825047, 107],\n",
       " [7.2103788690493786, 454],\n",
       " [7.1931690394921475, 481],\n",
       " [7.1615826712470891, 639],\n",
       " [7.1546414948198844, 191],\n",
       " [7.0414574217940498, 857],\n",
       " [6.9143672994925822, 450],\n",
       " [6.5396542681430674, 291],\n",
       " [6.0830641191930681, 748],\n",
       " [6.0132735909593862, 1295],\n",
       " [5.9123186407788637, 1181],\n",
       " [5.6878679622668642, 956],\n",
       " [5.6809028430488979, 1128],\n",
       " [5.449289478503033, 939],\n",
       " [5.3608629036602835, 868],\n",
       " [5.3594879352806686, 296],\n",
       " [5.1587043957398748, 87],\n",
       " [5.1587043957398748, 348],\n",
       " [5.1587043957398748, 616],\n",
       " [5.1227508152982182, 1198],\n",
       " [5.1152942193381961, 19],\n",
       " [5.0982158088002194, 572],\n",
       " [4.9204015911544161, 927],\n",
       " [4.6609386799518404, 693],\n",
       " [4.6172247079188935, 1109],\n",
       " [4.46317739304817, 741],\n",
       " [4.1230805824737757, 513],\n",
       " [4.1230547604902199, 479],\n",
       " [4.0387383317518868, 86],\n",
       " [3.9740298712759596, 153],\n",
       " [3.842663993525079, 16],\n",
       " [3.8031523202737247, 1284],\n",
       " [3.8005223771122303, 979],\n",
       " [3.7493037343487714, 12],\n",
       " [3.7192811504886976, 508],\n",
       " [3.6759734985190562, 210],\n",
       " [3.6167506667811793, 600],\n",
       " [3.6083085357127231, 31],\n",
       " [3.6068646011754453, 936],\n",
       " [3.2706368747612657, 729],\n",
       " [3.2617417843806038, 1143],\n",
       " [3.1944320232490355, 557],\n",
       " [3.1451926821473535, 279],\n",
       " [3.0208421945019666, 702],\n",
       " [2.9613456669559639, 211],\n",
       " [2.9416113775140786, 54],\n",
       " [2.9081054405031637, 728],\n",
       " [2.8662922292040385, 1346],\n",
       " [2.8385799416288648, 1214],\n",
       " [2.7074602000036805, 219],\n",
       " [2.6460855836343953, 589],\n",
       " [2.5738256799974693, 1231],\n",
       " [2.5106725607207636, 1202],\n",
       " [2.4760756498174956, 133],\n",
       " [2.4688033759430112, 1239],\n",
       " [2.4265075349500478, 1065],\n",
       " [2.3205931905588955, 943],\n",
       " [2.3099108637938883, 990],\n",
       " [2.2994853456455999, 1033],\n",
       " [2.2785020894760422, 1281],\n",
       " [2.2785020894760422, 1338],\n",
       " [2.2550588501129027, 605],\n",
       " [2.1343228072805545, 580],\n",
       " [2.1338120476407738, 955],\n",
       " [2.1245341592028808, 1221],\n",
       " [2.0621301698954824, 520],\n",
       " [1.9775559003726197, 637],\n",
       " [1.9282206009283414, 1312],\n",
       " [1.8963839393268245, 396],\n",
       " [1.8498983512776803, 217],\n",
       " [1.8348462196309185, 733],\n",
       " [1.8035778250159069, 298],\n",
       " [1.7635296134493217, 1349],\n",
       " [1.7468208170379569, 923],\n",
       " [1.712423950564343, 920],\n",
       " [1.661797922642414, 945],\n",
       " [1.5167695210630114, 568],\n",
       " [1.5028177496389219, 591],\n",
       " [1.4968573675705841, 1088],\n",
       " [1.4891776330246032, 1062],\n",
       " [1.37293944305884, 1110],\n",
       " [1.1971866592787421, 910],\n",
       " [1.1912302422316827, 471],\n",
       " [1.182584729843569, 1069],\n",
       " [1.0518778512086513, 3],\n",
       " [1.0350095280129779, 692],\n",
       " [1.0118684776722944, 505],\n",
       " [1.0097412938035575, 371],\n",
       " [0.99444149251441161, 221],\n",
       " [0.99444149251441161, 389],\n",
       " [0.99444149251441161, 488],\n",
       " [0.99444149251441161, 577],\n",
       " [0.99444149251441161, 1085],\n",
       " [0.95386795761848475, 430],\n",
       " [0.83616756169639928, 579],\n",
       " [0.80043158702025607, 732],\n",
       " [0.74093508821661658, 276],\n",
       " [0.72419254872535532, 558],\n",
       " [0.61592221410649017, 916],\n",
       " [0.52046875685171301, 534],\n",
       " [0.40876098925679116, 699],\n",
       " [0.38685780875874798, 1158],\n",
       " [0.2587080263938617, 70],\n",
       " [0.23478283900033148, 502],\n",
       " [0.17269308740029032, 314],\n",
       " [0.12144949929991355, 586]]"
      ]
     },
     "execution_count": 41,
     "metadata": {},
     "output_type": "execute_result"
    }
   ],
   "source": [
    "predictions = nb.predict(x_test_sparse)\n",
    "wrong = predictions != test_labels\n",
    "logits = nb.predict_log_proba(x_test_sparse)\n",
    "\n",
    "def incorrect_confidence(wrong, logits, predictions):\n",
    "    indeces = np.where(wrong)\n",
    "    wrong_predictions = predictions[indeces]\n",
    "    wrong_logits = logits[indeces]\n",
    "    \n",
    "    return [[wrong_logits[i][value] - wrong_logits[i][1-value], indeces[0][i]] for i, value in enumerate(wrong_predictions)]\n",
    "\n",
    "sorted(incorrect_confidence(wrong, logits, predictions), key = lambda logit: -logit[0])\n",
    "\n",
    "\n",
    "\n",
    "#[a] -  nb.predict_log_proba(x_test_sparse)[wrong][1-a]"
   ]
  },
  {
   "cell_type": "code",
   "execution_count": 42,
   "metadata": {},
   "outputs": [
    {
     "name": "stdout",
     "output_type": "stream",
     "text": [
      "['LINK' '…' '…' '…' '…' '…' '…' '…' '…' '…' '…' '…' '…' '…' '…' '…' '…' '…'\n",
      " '…' '…' '…' 'once' 'upon' 'a' 'time' '(' 'spin' ')' 'featuring' 'ACCOUNT'\n",
      " 'of' 'd12' 'HASHTAG' 'HASHTAG' 'HASHTAG' 'HASHTAG' 'HASHTAG' 'HASHTAG'\n",
      " 'HASHTAG' 'HASHTAG' 'HASHTAG' 'HASHTAG' 'HASHTAG' 'HASHTAG' 'HASHTAG'\n",
      " 'HASHTAG']\n",
      "1\n",
      "0\n"
     ]
    }
   ],
   "source": [
    "index = 798\n",
    "print(test_sentences[index])\n",
    "print(test_labels[index])\n",
    "print(predictions[index])"
   ]
  },
  {
   "cell_type": "code",
   "execution_count": 37,
   "metadata": {},
   "outputs": [
    {
     "name": "stdout",
     "output_type": "stream",
     "text": [
      "['a' 'thought-provoking' 'image' 'of' 'the' 'day' 'HASHTAG' 'HASHTAG'\n",
      " 'HASHTAG' 'HASHTAG' 'HASHTAG' 'HASHTAG' 'HASHTAG' 'HASHTAG' 'HASHTAG'\n",
      " 'HASHTAG' 'HASHTAG' 'HASHTAG' 'HASHTAG' 'HASHTAG' 'HASHTAG' 'HASHTAG'\n",
      " 'HASHTAG' 'HASHTAG' 'HASHTAG' 'HASHTAG' 'HASHTAG' 'HASHTAG' 'HASHTAG'\n",
      " 'HASHTAG' 'HASHTAG' 'LINK']\n",
      "1\n",
      "0\n"
     ]
    }
   ],
   "source": [
    "index = 1280\n",
    "print(test_sentences[index])\n",
    "print(test_labels[index])\n",
    "print(predictions[index])"
   ]
  },
  {
   "cell_type": "code",
   "execution_count": 38,
   "metadata": {},
   "outputs": [
    {
     "name": "stdout",
     "output_type": "stream",
     "text": [
      "['what' 'is' 'with' 'that' '?' 'theyre' 'only' 'going' 'to' 'blame' 'the'\n",
      " 'guns' 'now' '?' 'no' 'people' '?' 'at' 'all' '?' 'oh' 'yeah' 'they'\n",
      " 'will' 'blame' 'trump' '.' 'there' 'is' 'no' 'agenda' 'though' '...'\n",
      " 'LINK']\n",
      "0\n",
      "1\n"
     ]
    }
   ],
   "source": [
    "index = 878\n",
    "print(test_sentences[index])\n",
    "print(test_labels[index])\n",
    "print(predictions[index])"
   ]
  },
  {
   "cell_type": "code",
   "execution_count": 39,
   "metadata": {},
   "outputs": [
    {
     "name": "stdout",
     "output_type": "stream",
     "text": [
      "['check' 'this' 'out' '🔜' 'LINK' 'HASHTAG' 'HASHTAG' 'HASHTAG' 'HASHTAG'\n",
      " 'HASHTAG' 'HASHTAG' 'HASHTAG' 'HASHTAG' 'HASHTAG' 'HASHTAG' 'HASHTAG'\n",
      " 'HASHTAG' 'HASHTAG' 'HASHTAG' 'HASHTAG' 'HASHTAG' 'HASHTAG' 'HASHTAG'\n",
      " 'HASHTAG']\n",
      "1\n",
      "0\n"
     ]
    }
   ],
   "source": [
    "index = 382\n",
    "print(test_sentences[index])\n",
    "print(test_labels[index])\n",
    "print(predictions[index])"
   ]
  },
  {
   "cell_type": "code",
   "execution_count": 40,
   "metadata": {},
   "outputs": [
    {
     "name": "stdout",
     "output_type": "stream",
     "text": [
      "['retweet' 'not' 'sure' 'about' 'the' 'cricket' 'ball' ',' 'but' 'bancroft'\n",
      " '’' 's' 'balls' 'must' 'be' 'reverse-swinging' 'quiet' 'a' 'bit' 'after'\n",
      " 'yesterday' '’' 's' 'events' '.' '😂' '😂' '😂' '…']\n",
      "0\n",
      "1\n"
     ]
    }
   ],
   "source": [
    "index = 1347\n",
    "print(test_sentences[index])\n",
    "print(test_labels[index])\n",
    "print(predictions[index])"
   ]
  },
  {
   "cell_type": "code",
   "execution_count": null,
   "metadata": {
    "collapsed": true
   },
   "outputs": [],
   "source": []
  }
 ],
 "metadata": {
  "kernelspec": {
   "display_name": "Python 3",
   "language": "python",
   "name": "python3"
  },
  "language_info": {
   "codemirror_mode": {
    "name": "ipython",
    "version": 3
   },
   "file_extension": ".py",
   "mimetype": "text/x-python",
   "name": "python",
   "nbconvert_exporter": "python",
   "pygments_lexer": "ipython3",
   "version": "3.6.3"
  }
 },
 "nbformat": 4,
 "nbformat_minor": 2
}
