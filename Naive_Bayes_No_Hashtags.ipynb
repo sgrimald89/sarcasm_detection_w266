{
 "cells": [
  {
   "cell_type": "code",
   "execution_count": 1,
   "metadata": {},
   "outputs": [
    {
     "name": "stdout",
     "output_type": "stream",
     "text": [
      "@DouglasLNorton @RealMAGASteve @ricktator417 @CoreyLMJones @RealEagleWings @IWillRedPillU @RodStryker @securefreedom @thebradfordfile @DonnaWR8 @MICHELL59952525 @mike_Zollo @Boyd_2650 I had to check your page &amp; see whether you were cleverly using   or one of these complete jackasses...very nice to see youre the former.|None|1\r\n",
      "@MultaniSaint No I told her its a terrible place with mean   people and she wants nothing to do with it|None|1\r\n",
      "Rather than the usual  , ridicule, shame, and assumption that people have ill intent. Sometimes people screw up. Sometimes people think they are doing enough and are mistaken. Sometimes they need help. https://t.co/aetd8D2TSr|None|1\r\n",
      "@schristakos @TenticalsIn @crypt_ghost @hortaun15 @Troll_Master101 @Unpersuaded112 @Apple Yea that was   and pubg isn’t that good of a game tbh|None|1\r\n",
      "@Ayanfx09 @hshaban The internet desperately needs a   / snark / parody font. &amp; not Comic Sans, either.|None|1\r\n",
      "@asteven79 @JinxTheSavage @Galeon_98 @KOSDFF Yes I know im being   you idiot|None|1\r\n",
      "@nicholasfilipas Of course it is.  Look at my timeline.  You know I am mostly  .|None|1\r\n",
      "@Tracker_TD Obvious   is obvious|None|1\r\n",
      "@ummmno21 Yeah it appears that inside jokes and   are taken as racist remarks....I was recently accused being a racist with a   remark.. I have siblings that are Mexican and Korean smh|None|1\r\n",
      "@meknt_ Yeah, youre CLEARLY talking to all the wrong people here. Well, theres one reason right there. The   is strong with the turtle.|None|1\r\n"
     ]
    }
   ],
   "source": [
    "!tail merged_data_v4.csv"
   ]
  },
  {
   "cell_type": "code",
   "execution_count": 2,
   "metadata": {
    "collapsed": true
   },
   "outputs": [],
   "source": [
    "from __future__ import print_function\n",
    "from __future__ import division\n",
    "import collections\n",
    "import nltk\n",
    "import numpy as np\n",
    "from nltk.tokenize.casual import TweetTokenizer\n",
    "from w266_common import utils, vocabulary\n",
    "import re\n",
    "np.random.seed(266)"
   ]
  },
  {
   "cell_type": "code",
   "execution_count": 3,
   "metadata": {},
   "outputs": [],
   "source": [
    "import csv\n",
    "tokenizer = TweetTokenizer()\n",
    "x_data = []\n",
    "labels = []\n",
    "sentences = []\n",
    "     \n",
    "  \n",
    "with open('merged_data_v4.csv', 'r') as csvfile:\n",
    "    linereader = csv.reader(csvfile, delimiter = '|')\n",
    "    for i, row in enumerate(linereader):\n",
    "        if i == 0:\n",
    "            continue\n",
    "        sentence, _, sarcasm = row\n",
    "        sentence = re.sub(\"RT @[^\\s]+:\", \"retweet\", sentence)\n",
    "        #sentences.append(sentence)\n",
    "        tokenized_words = tokenizer.tokenize(sentence)\n",
    "        x_tokens = utils.canonicalize_words(tokenized_words, hashtags =True)\n",
    "        index = np.argwhere(x_tokens==\"sarcasm\")\n",
    "        x_tokens = np.delete(x_tokens, index)\n",
    "        index = np.argwhere(x_tokens==\"sarcastic\")\n",
    "        x_tokens = np.delete(x_tokens, index)\n",
    "        x_data.append(x_tokens)\n",
    "        labels.append(int(sarcasm))\n",
    "\n",
    "\n",
    "shuffle_indices = np.random.permutation(np.arange(len(labels)))\n",
    "train_split_idx = int(0.7 * len(labels))\n",
    "test_split_idx  = int(0.9 * len(labels))\n",
    "\n",
    "train_indices = shuffle_indices[:train_split_idx]\n",
    "validation_indices = shuffle_indices[train_split_idx:test_split_idx]\n",
    "test_indices = shuffle_indices[test_split_idx:]\n",
    "\n",
    "x_data = np.array(x_data)\n",
    "labels = np.array(labels)\n",
    "train_sentences = x_data[train_indices]\n",
    "train_labels= labels[train_indices] \n",
    "validation_sentences = x_data[validation_indices]\n",
    "validation_labels = labels[validation_indices]\n",
    "test_sentences = x_data[test_indices]  \n",
    "test_labels = labels[test_indices]  \n",
    "\n"
   ]
  },
  {
   "cell_type": "code",
   "execution_count": 4,
   "metadata": {},
   "outputs": [
    {
     "name": "stdout",
     "output_type": "stream",
     "text": [
      "x_ids = {'<s>': 0, '</s>': 1, '<unk>': 2, 'HASHTAG': 3, 'ACCOUNT': 4, '.': 5, 'LINK': 6, 'the': 7, ',': 8, 'to': 9, 'retweet': 10, 'a': 11, '!': 12, 'i': 13, 'and': 14, 'of': 15, '…': 16, 'you': 17, 'is': 18, 'in': 19, 'for': 20, '’': 21, '?': 22, ':': 23, 'it': 24, 'on': 25, 'that': 26, '-': 27, 'this': 28, 'with': 29, '...': 30, 'my': 31, 'your': 32, 'be': 33, 'was': 34, 'are': 35, 'DG': 36, 'DGDG': 37, 'not': 38, ')': 39, '(': 40, 'at': 41, 's': 42, '️': 43, '&': 44, 'we': 45, 'all': 46, '/': 47, 'if': 48, 'have': 49, 'just': 50, 'so': 51, 't': 52, 'but': 53, 'like': 54, 'me': 55, 'can': 56, 'being': 57, 'what': 58, 'rt': 59, 'from': 60, 'now': 61, 'out': 62, 'by': 63, 'they': 64, 'our': 65, 'as': 66, 'he': 67, 'people': 68, 'about': 69, 'free': 70, 'no': 71, '😂': 72, 'or': 73, 'get': 74, 'how': 75, 'its': 76, 'do': 77, 'more': 78, 'will': 79, 'know': 80, '#': 81, 'DGDGDGDG': 82, 'one': 83, '$': 84, '*': 85, 'who': 86, 'an': 87, 'when': 88, 'up': 89, 'im': 90, 'DGDGDG': 91, '🔥': 92, 'good': 93, 'us': 94, 'new': 95, 'follow': 96, 'has': 97, 'here': 98, 'would': 99, 'love': 100, 'time': 101, 'best': 102, 'dont': 103, 'm': 104, 'his': 105, 'great': 106, 'see': 107, 'think': 108, ':/': 109, 'because': 110, 'right': 111, 'really': 112, 'only': 113, 'their': 114, 'need': 115, 'should': 116, 'way': 117, 'am': 118, 'some': 119, 'there': 120, 'make': 121, 'via': 122, '“': 123, 'day': 124, 'don': 125, '↴': 126, '”': 127, 'well': 128, 'were': 129, 'today': 130, 'why': 131, 'want': 132, 'had': 133, 're': 134, 'been': 135, '..': 136, 'than': 137, 'please': 138, 'thanks': 139, 'check': 140, 'sure': 141, '%': 142, 'her': 143, 'she': 144, 'most': 145, 'them': 146, 'oh': 147, 'very': 148, 'even': 149, 'go': 150, 'back': 151, 'any': 152, 'going': 153, 'lol': 154, 'too': 155, 'first': 156, 'work': 157, 'got': 158, 'into': 159, 'never': 160, 'world': 161, '⭐': 162, 'off': 163, 'over': 164, 'game': 165, 'him': 166, 'online': 167, 'win': 168, 'these': 169, 'much': 170, 'did': 171, 'then': 172, 'could': 173, 'say': 174, 'after': 175, 'still': 176, 'news': 177, 'said': 178, 'march': 179, 'someone': 180, 'thats': 181, 'u': 182, 'join': 183, 'youre': 184, 'those': 185, 'take': 186, 'tell': 187, 'everyone': 188, 'twitter': 189, 'use': 190, '+': 191, 'let': 192, 'enter': 193, 'thank': 194, 'sex': 195, 'chance': 196, 'cant': 197, 'live': 198, 'other': 199, 'quotes': 200, 'look': 201, 'life': 202, 'better': 203, 'also': 204, 'thought': 205, 'tweet': 206, 'understand': 207, 'team': 208, 'mean': 209, 'again': 210, 'media': 211, '[': 212, 'come': 213, 'keep': 214, 'gun': 215, 'looking': 216, ']': 217, 'read': 218, '>': 219, 'support': 220, 'ever': 221, 'always': 222, 'thing': 223, 'registration': 224, 'yes': 225, 'yeah': 226, 'happy': 227, 'last': 228, ';': 229, 'something': 230, 'cams': 231, 'tokkens': 232, 'every': 233, 'help': 234, 'show': 235, 'white': 236, '🕰': 237, '🎮': 238, 'left': 239, 'down': 240, 'actually': 241, 'trump': 242, 'many': 243, '🖥': 244, 'which': 245, 'nice': 246, 'latest': 247, 'account': 248, 'before': 249, 'real': 250, '❤': 251, '💎': 252, 'friends': 253, 'without': 254, 'feel': 255, 'made': 256, 'must': 257, 'job': 258, 'bad': 259, 'didnt': 260, 'give': 261, 'around': 262, 'everything': 263, 'where': 264, 'guy': 265, 'man': 266, 'years': 267, 'watch': 268, 'hey': 269, 'nothing': 270, 'airdrop': 271, 'click': 272, 'guys': 273, '🤣': 274, 'hes': 275, 'things': 276, 'funny': 277, 'guns': 278, 'anyone': 279, '@': 280, 'video': 281, 'fun': 282, 'worth': 283, 'sorry': 284, 'days': 285, 'wow': 286, 'does': 287, 'anything': 288, 'money': 289, 'crypto': 290, 'wait': 291, 'person': 292, '£': 293, 'little': 294, 'big': 295, 'school': 296, 'r': 297, 'next': 298, 'away': 299, 'through': 300, 'top': 301, 'doing': 302, 'accounts': 303, 'two': 304, 'part': 305, 'blockchain': 306, 'may': 307, 'games': 308, 'another': 309, 'needs': 310, 'makes': 311, 'since': 312, 'find': 313, 'own': 314, 'using': 315, 'such': 316, 'try': 317, 'internet': 318, 'few': 319, 'believe': 320, 'done': 321, 'having': 322, 've': 323, 'while': 324, 'getting': 325, 'says': 326, 'hope': 327, 'share': 328, 'community': 329, 'full': 330, 'wrong': 331, 'serious': 332, 'doesnt': 333, 'saying': 334, 'stop': 335, 'tag': 336, '🙄': 337, '😍': 338, '—': 339, 'year': 340, 'week': 341, 'home': 342, 'history': 343, 'god': 344, 'shit': 345, 'kids': 346, 'buy': 347, 'business': 348, '‘': 349, 'd': 350, 'coming': 351, '\\u200d': 352, 'same': 353, 'comment': 354, 'start': 355, 'sense': 356, 'put': 357, 'joke': 358, 'women': 359, 'trying': 360, 'morning': 361, 'playing': 362, 'future': 363, 'face': 364, 'care': 365, 'didn': 366, 'facebook': 367, ':)': 368, 'w': 369, 'es': 370, 'making': 371, 'already': 372, 'season': 373, 'important': 374, 'data': 375, ':@': 376, 'end': 377, 'doesn': 378, 'daily': 379, 'telegram': 380, 'hard': 381, 'old': 382, 'listen': 383, 'once': 384, 'post': 385, 'soundtwit': 386, 'fh__400inst': 387, 'stupid': 388, 'bitcoin': 389, 'giveaway': 390, 'social': 391, 'ok': 392, 'definitely': 393, 'point': 394, 'music': 395, 'h': 396, 'house': 397, 'sale': 398, 'used': 399, 'isnt': 400, 'DGDGDGDGDG': 401, 'night': 402, 'long': 403, 'DG.DGDG': 404, '✔': 405, 'guess': 406, 'glad': 407, 'ive': 408, '•': 409, 'both': 410, 'DG.DG': 411, 'song': 412, 'maybe': 413, 'humor': 414, 'amazing': 415, 'totally': 416, 'https': 417, 'change': 418, 'sometimes': 419, 'against': 420, '✨': 421, 'htt': 422, 'x': 423, 'words': 424, 'problem': 425, 'group': 426, 'hours': 427, 'lot': 428, '👉': 429, 'smart': 430, 'giving': 431, 'high': 432, 'talk': 433, 'enough': 434, 'call': 435, '🤔': 436, 'clearly': 437, 'america': 438, 'price': 439, 'summer': 440, 'international': 441, 'told': 442, '🏻': 443, 'learn': 444, 'true': 445, 'token': 446, 'black': 447, 'isn': 448, 'ill': 449, 'hate': 450, 'fans': 451, 'link': 452, '~': 453, 'service': 454, 'welcome': 455, 'apply': 456, 'else': 457, 'tweets': 458, 'article': 459, 'add': 460, 'lets': 461, 'whole': 462, 'perfect': 463, 'cool': 464, 'between': 465, 'young': 466, 'though': 467, 'spring': 468, 'million': 469, 'll': 470, 'course': 471, 'hear': 472, 'play': 473, 'might': 474, 'technology': 475, 'head': 476, 'soon': 477, 'public': 478, 'called': 479, 'open': 480, 'yet': 481, '=': 482, 'ask': 483, 'book': 484, 'less': 485, 'level': 486, 'question': 487, 'ur': 488, 'probably': 489, 'awesome': 490, 'looks': 491, 'during': 492, 'president': 493, 'government': 494, 'gonna': 495, 'boy': 496, 'story': 497, 'hilarious': 498, 'country': 499, 'each': 500, 'kind': 501, 'gets': 502, '–': 503, 'family': 504, 'view': 505, 'reason': 506, 'starting': 507, 'ico': 508, 'place': 509, 'run': 510, '👍': 511, 'bonus': 512, 'under': 513, 'font': 514, 'gift': 515, 'name': 516, 'remember': 517, 'idea': 518, 'david': 519, 'available': 520, 'platform': 521, 'laws': 522, 'dark': 523, 'case': 524, 'least': 525, 'health': 526, 'friend': 527, 'super': 528, 'company': 529, 'human': 530, '🏼': 531, 'either': 532, 'project': 533, 'men': 534, 'bring': 535, 'single': 536, 'fake': 537, 'c': 538, 'instead': 539, 'word': 540, 'market': 541, 'vocalistwithhis': 542, 'official': 543, 'loving': 544, 'ready': 545, 'b': 546, 'thinking': 547, 'children': 548, 'fucking': 549, 'simply': 550, 'tone': 551, 'second': 552, 'followers': 553, 'easy': 554, 'apparently': 555, 'favorite': 556, 'bit': 557, 'sunday': 558, 'popular': 559, 'f': 560, 'others': 561, 'until': 562, 'visit': 563, 'almost': 564, 'mind': 565, 'answer': 566, 'control': 567, 'usa': 568, 'australia': 569, 'cricket': 570, 'club': 571, 'times': 572, 'wonder': 573, 'wants': 574, 'knows': 575, 'questions': 576, 'cause': 577, 'camp': 578, 'code': 579, 'n': 580, 'works': 581, '♀': 582, 'trading': 583, 'ya': 584, 'random': 585, 'means': 586, 'global': 587, 'lives': 588, 'digital': 589, 'card': 590, '➡': 591, 'become': 592, 'DGDG/DG': 593, 'banned': 594, 'police': 595, 'yourself': 596, 'hurt': 597, 'tech': 598, 'lost': 599, 'arent': 600, 'fuck': 601, 'sounds': 602, 'ass': 603, 'ends': 604, 'tokens': 605, 'power': 606, 'obvious': 607, '📢': 608, 'able': 609, 'eth': 610, 'girls': 611, 'cryptocurrency': 612, 'took': 613, 'uk': 614, 'break': 615, 'party': 616, 'steve': 617, 'dude': 618, 'india': 619, 'towards': 620, 'myself': 621, 'ht': 622, 'largest': 623, 'war': 624, '<': 625, 'poor': 626, 'DGDG:DGDG': 627, 'miss': 628, 'forward': 629, 'following': 630, 'leave': 631, 'instagram': 632, 'stem': 633, 'possible': 634, 'working': 635, 'takes': 636, 'talking': 637, 'DGDG.DGDG': 638, 'jokes': 639, 'comes': 640, 'pretty': 641, 'beautiful': 642, '😜': 643, 'three': 644, 'website': 645, 'late': 646, 'happen': 647, 'art': 648, 'water': 649, 'spent': 650, 'hit': 651, 'seems': 652, 'kill': 653, 'missed': 654, 'pay': 655, 'plan': 656, 'users': 657, 'experience': 658, 'terrorist': 659, 'franchise': 660, 'o': 661, '🙌': 662, 'far': 663, 'china': 664, 'vs': 665, 'seen': 666, 'seriously': 667, 'shocked': 668, 'proud': 669, 'player': 670, '▶': 671, 'dreams': 672, 'forget': 673, 'turn': 674, 'minutes': 675, 'hour': 676, 'tonight': 677, 'watching': 678, 'knew': 679, 'exchange': 680, '3d': 681, 'wasnt': 682, '😉': 683, 'heres': 684, 'based': 685, 'early': 686, 'fan': 687, 'y': 688, 'calling': 689, 'id': 690, 'hands': 691, 'event': 692, 'phone': 693, 'behind': 694, 'sports': 695, 'students': 696, 'groups': 697, 'language': 698, 'obviously': 699, 'shot': 700, 'easter': 701, 'sign': 702, 'fine': 703, 'taking': 704, 'small': 705, 'attention': 706, 'center': 707, 'theres': 708, 'wont': 709, 'DG-DG': 710, 'violence': 711, 'anymore': 712, 'set': 713, 'sweet': 714, 'nra': 715, 'biggest': 716, 'page': 717, 'lovely': 718, '🏽': 719, 'killer': 720, 'wall': 721, 'protect': 722, 'v': 723, 'happened': 724, 'design': 725, 'lmao': 726, 'intelligence': 727, 'eyes': 728, 'incredible': 729, 'heard': 730, '💰': 731, 'body': 732, 'extra': 733, 'act': 734, 'stay': 735, 'absolutely': 736, 'ha': 737, 'short': 738, 'interesting': 739, '🤦': 740, 'fight': 741, 'match': 742, 'smith': 743, 'death': 744, 'air': 745, 'five': 746, 'side': 747, '🎶': 748, 'heart': 749, 'voice': 750, 'haha': 751, 'american': 752, 'dead': 753, 'tomorrow': 754, 'four': 755, 'teacher': 756, 'designer': 757, 'items': 758, '🇺': 759, 'stuff': 760, 'royal': 761, 'pick': 762, 'stream': 763, 'literally': 764, 'damn': 765, 'hell': 766, 'bc': 767, 'wanna': 768, 'radio': 769, 'vote': 770, 'went': 771, 'won': 772, 'started': 773, 'opening': 774, 'movie': 775, 'girl': 776, '✅': 777, 'perhaps': 778, 'amazon': 779, 'emoji': 780, 'move': 781, 'rights': 782, 'deal': 783, 'speak': 784, 'e': 785, 'safer': 786, 'australian': 787, 'pushing': 788, '👏': 789, 'cyber': 790, 'found': 791, 'enjoy': 792, 'note': 793, 'picks': 794, 'supposed': 795, 'theyre': 796, 'send': 797, 'personal': 798, 'dumb': 799, 'exactly': 800, 'fire': 801, 'gave': 802, 'august': 803, 'law': 804, 'wish': 805, '♂': 806, 'united': 807, 'list': 808, 'jesus': 809, 'ppl': 810, 'clean': 811, 'btc': 812, 'wasn': 813, 'city': 814, 'past': 815, 'russia': 816, 'ahead': 817, 'class': 818, 'bitch': 819, 'final': 820, 'meet': 821, 'order': 822, 'matter': 823, 'special': 824, 'crazy': 825, '🇸': 826, 'graphics': 827, 'shocking': 828, 'room': 829, 'text': 830, 'honestly': 831, 'btw': 832, 'tips': 833, 'wanted': 834, 'yay': 835, 'sad': 836, 'society': 837, 'ban': 838, 'national': 839, 'horrible': 840, 'grow': 841, 'beat': 842, '👇': 843, '💋': 844, 'smile': 845, 'finally': 846, 'truly': 847, 'review': 848, 'gaming': 849, 'industry': 850, 'comments': 851, 'across': 852, 'meant': 853, 'classic': 854, 'truth': 855, 'believing': 856, 'ball': 857, 'address': 858, 'forgot': 859, 'paul': 860, 'system': 861, 'dogs': 862, 'grade': 863, 'sell': 864, 'birthday': 865, 'breaking': 866, 'paper': 867, 'successful': 868, 'racist': 869, 'marketing': 870, 'security': 871, 'boys': 872, 'volume': 873, 'obama': 874, 'youtube': 875, '🤷': 876, 'killed': 877, 'details': 878, 'front': 879, 'irony': 880, 'omg': 881, 'silly': 882, 'dad': 883, 'response': 884, 'tv': 885, 'lie': 886, 'imagine': 887, 'competition': 888, 'safe': 889, 'drive': 890, 'league': 891, '🎉': 892, 'upon': 893, 'attack': 894, 'ceo': 895, 'recommend': 896, '！': 897, 'save': 898, 'mr': 899, 'agree': 900, 'telling': 901, 'facts': 902, 'manipulating': 903, 'hot': 904, 'winner': 905, 'college': 906, 'interested': 907, 'hogg': 908, 'luck': 909, 'car': 910, 'learning': 911, 'surprise': 912, 'cold': 913, 'lead': 914, 'moment': 915, 'laugh': 916, 'content': 917, 'hand': 918, '😒': 919, 'different': 920, 'asking': 921, 'came': 922, 'reading': 923, 'program': 924, 'john': 925, 'bio': 926, 'turned': 927, 'weekend': 928, 'sleep': 929, 'running': 930, 'okay': 931, 'fit': 932, 'stand': 933, 'total': 934, '😭': 935, 'DGDG/DGDG': 936, 'network': 937, 'trade': 938, 'ago': 939, 'earth': 940, 'political': 941, 'credit': 942, 'light': 943, 'strong': 944, 'lots': 945, 'age': 946, 'manager': 947, 'worse': 948, 'wife': 949, 'statement': 950, 'massive': 951, 'month': 952, 'nobody': 953, '🌿': 954, 'worst': 955, 'fear': 956, 'decades': 957, 'living': 958, 'problems': 959, '🙃': 960, 'red': 961, 'chat': 962, 'activist': 963, 'app': 964, 'th': 965, 'wallet': 966, 'goes': 967, 'fortnite': 968, 'church': 969, 'info': 970, 'weeks': 971, 'information': 972, 'luxuryliferss': 973, '💥': 974, 'woman': 975, 'weve': 976, 'prize': 977, 'couldnt': 978, 'heavy': 979, 'captain': 980, 'feeling': 981, '📸': 982, 'bomb': 983, 'excited': 984, 'weird': 985, 'state': 986, 'brain': 987, 'paying': 988, 'points': 989, 'position': 990, 'town': 991, 'male': 992, 'featuring': 993, 'type': 994, '💪': 995, 'sir': 996, 'added': 997, '👌': 998, 'building': 999, 'die': 1000, 'england': 1001, 'commission': 1002, 'everybody': 1003, 'americans': 1004, 'whatever': 1005, 'low': 1006, 'waiting': 1007, 'gold': 1008, 'cash': 1009, 'original': 1010, 'clear': 1011, 'hashtag': 1012, 'opinion': 1013, 'idiots': 1014, 'race': 1015, 'professional': 1016, 'deep': 1017, 'wouldnt': 1018, 'key': 1019, 'services': 1020, 'character': 1021, 'success': 1022, 'assault': 1023, 'reasons': 1024, '😎': 1025, 'rather': 1026, 'failure': 1027, 'blew': 1028, 'goal': 1029, 'ways': 1030, 'hi': 1031, 'mark': 1032, 'common': 1033, 'bag': 1034, 'cannot': 1035, 'winning': 1036, 'worked': 1037, 'whats': 1038, 'especially': 1039, 'major': 1040, 'months': 1041, 'illegal': 1042, 'results': 1043, 'thread': 1044, 'sound': 1045, 'together': 1046, 'given': 1047, 'posted': 1048, 'asked': 1049, 'access': 1050, 'ice': 1051, 'unique': 1052, '◀': 1053, 'line': 1054, 'retro': 1055, 'dare': 1056, 'politician': 1057, '🍀': 1058, 'issues': 1059, '⏬': 1060, 'straight': 1061, 'amendment': 1062, 'trust': 1063, '😀': 1064, 'edition': 1065, 'box': 1066, 'write': 1067, 'ी': 1068, 'germany': 1069, 'genuinely': 1070, 'photo': 1071, 'entered': 1072, 'image': 1073, 'assume': 1074, 'happens': 1075, 'completely': 1076, 'london': 1077, 'complete': 1078, 'getreallux': 1079, 'shop': 1080, 'insert': 1081, 'seem': 1082, '⚡': 1083, 'gb': 1084, 'celebrate': 1085, 'lucky': 1086, 'mom': 1087, 'liberal': 1088, 'donald': 1089, 'weight': 1090, 'pm': 1091, 'stories': 1092, 'campaign': 1093, 'fbi': 1094, 'child': 1095, 'taken': 1096, 'exclusive': 1097, 'folks': 1098, 'quite': 1099, 'teams': 1100, 'cloth-stagram': 1101, 'hello': 1102, 'education': 1103, 'rest': 1104, 'havent': 1105, 'communities': 1106, 'spotify': 1107, 'likes': 1108, 'l': 1109, 'needed': 1110, 'energy': 1111, 'missing': 1112, 'players': 1113, 'todays': 1114, 'dangerous': 1115, 'usually': 1116, 'vocalistwith': 1117, '😱': 1118, 'dog': 1119, 'earn': 1120, 'hair': 1121, '😊': 1122, 'de': 1123, 'loved': 1124, 'cheating': 1125, 'stock': 1126, '{': 1127, 'shenzhen': 1128, 'build': 1129, 'gone': 1130, 'yesterday': 1131, 'btpcrowdsale': 1132, 'likely': 1133, 'shooting': 1134, 'worry': 1135, 'blue': 1136, '->': 1137, 'rules': 1138, 'programming': 1139, 'companies': 1140, 'battle': 1141, 'pass': 1142, 'hits': 1143, 'fast': 1144, 'actual': 1145, 'built': 1146, 'tho': 1147, 'decentralized': 1148, 'conversation': 1149, 'reality': 1150, 'food': 1151, '2nd': 1152, 'force': 1153, 'offer': 1154, 'cuz': 1155, 'books': 1156, 'bullpen': 1157, 'v-bucks': 1158, '😁': 1159, 'star': 1160, 'mouth': 1161, 'shirt': 1162, 'adult': 1163, 'plz': 1164, 'uses': 1165, 'mike': 1166, 'simple': 1167, 'update': 1168, 'download': 1169, 'form': 1170, 'mining': 1171, 'talent': 1172, 'alert': 1173, 'rich': 1174, 'participate': 1175, 'projects': 1176, 'actions': 1177, 'thinks': 1178, 'launch': 1179, 'quality': 1180, 'friday': 1181, 'allowed': 1182, 'realize': 1183, 'lies': 1184, 'fair': 1185, 'russian': 1186, 'bets': 1187, 'investigation': 1188, 'schools': 1189, 'seeing': 1190, 'prayers': 1191, 'english': 1192, 'fiverrneed': 1193, 'draw': 1194, 'bottle': 1195, 'mobile': 1196, 'goodbye': 1197, 'version': 1198, 'speaking': 1199, '💔': 1200, 'half': 1201, 'ideas': 1202, 'kid': 1203, 'fantastic': 1204, 'DG/DG': 1205, '☝': 1206, 'difficult': 1207, 'create': 1208, 'close': 1209, 'tax': 1210, 'per': 1211, 'except': 1212, 'created': 1213, 'respect': 1214, 'emma': 1215, 'lose': 1216, 'student': 1217, 'office': 1218, 'anywhere': 1219, 'cover': 1220, 'message': 1221, 'weekly': 1222, 'kik': 1223, 'cut': 1224, 'crowd': 1225, 'film': 1226, 'paid': 1227, 'guide': 1228, 'http': 1229, 'issue': 1230, '::': 1231, 'wine': 1232, 'round': 1233, 'supply': 1234, 'increase': 1235, 'amount': 1236, 'sick': 1237, 'inside': 1238, 'bringing': 1239, 'creative': 1240, 'collection': 1241, 'blog': 1242, 'tired': 1243, 'airport': 1244, 'exciting': 1245, 'report': 1246, 'spot': 1247, 'pop': 1248, 'ground': 1249, 'wearing': 1250, 'election': 1251, 'fall': 1252, 'kinda': 1253, 'fact': 1254, 'alive': 1255, 'thoughts': 1256, 'printed': 1257, 'release': 1258, 'berlin': 1259, 'european': 1260, 'bank': 1261, 'villa': 1262, 'usd': 1263, 'pls': 1264, ':d': 1265, 'appreciate': 1266, '💕': 1267, 'drop': 1268, 'countries': 1269, 'album': 1270, 'customers': 1271, 'evil': 1272, 'touch': 1273, 'reach': 1274, 'cost': 1275, 'idk': 1276, 'qatar': 1277, '}': 1278, 'choice': 1279, 'powerful': 1280, 'calls': 1281, 'growing': 1282, 'none': 1283, 'repeating': 1284, 'hitler': 1285, 'youll': 1286, 'expect': 1287, 'ones': 1288, 'aren': 1289, 'gotta': 1290, 'argument': 1291, 'middle': 1292, 'blame': 1293, 'supporters': 1294, 'surprised': 1295, 'baby': 1296, 'sit': 1297, 'throw': 1298, 'numbers': 1299, 'videos': 1300, 'yo': 1301, 'within': 1302, 'congress': 1303, 'receive': 1304, 'wit': 1305, 'model': 1306, 'mother': 1307, 'legal': 1308, 'vision': 1309, 'helping': 1310, 'intended': 1311, 'shows': 1312, 'beyond': 1313, 'loss': 1314, 'size': 1315, 'shes': 1316, 'members': 1317, 'sales': 1318, '🙏': 1319, 'improve': 1320, 'sides': 1321, 'wonderful': 1322, 'often': 1323, '🏘': 1324, 'yall': 1325, 'fitness': 1326, 'anyway': 1327, 'detailed': 1328, 'former': 1329, 'snow': 1330, 'sitting': 1331, 'stage': 1332, 'explain': 1333, 'stars': 1334, 'DGDGDGDGDGDG': 1335, '🚀': 1336, '😘': 1337, 'artists': 1338, 'p': 1339, 'normal': 1340, 'double': 1341, 'bill': 1342, 'worlds': 1343, 'copy': 1344, 'training': 1345, 'customer': 1346, 'fancy': 1347, 'weather': 1348, 'cute': 1349, 'main': 1350, 'google': 1351, 'written': 1352, 'profile': 1353, 'drink': 1354, 'cards': 1355, 'coverage': 1356, 'cat': 1357, 'picture': 1358, 'interview': 1359, 'reply': 1360, '🎵': 1361, 'shut': 1362, 'handle': 1363, 'gonzalez': 1364, '🎹': 1365, '💙': 1366, 'coin': 1367, 'ryan': 1368, 'joe': 1369, 'ो': 1370, 'hold': 1371, 'academy': 1372, 'legit': 1373, 'adding': 1374, 'easily': 1375, 'performance': 1376, 'huge': 1377, 'master': 1378, 'leaving': 1379, 'shame': 1380, 'changing': 1381, 'perfectly': 1382, '):': 1383, 'ai': 1384, 'web': 1385, 'pack': 1386, 'ads': 1387, 'south': 1388, 'father': 1389, 'related': 1390, ':-)': 1391, 'land': 1392, 'sack': 1393, 'themselves': 1394, 'focus': 1395, 'nature': 1396, 'lat': 1397, 'tried': 1398, 'blood': 1399, 'contracts': 1400, 'site': 1401, 'catch': 1402, 'soul': 1403, 'greatest': 1404, 'physical': 1405, 'crime': 1406, 'monday': 1407, 'fault': 1408, 'action': 1409, 'lord': 1410, 'king': 1411, 'drawing': 1412, 'feed': 1413, 'received': 1414, 'showing': 1415, 'difference': 1416, '😏': 1417, 'cry': 1418, '😩': 1419, 'teachers': 1420, '✈': 1421, '™': 1422, 'favourite': 1423, '1st': 1424, 'putting': 1425, 'sent': 1426, 'including': 1427, 'couple': 1428, 'youve': 1429, 'private': 1430, 'value': 1431, 'longer': 1432, 'corrupt': 1433, 'contest': 1434, 'press': 1435, 'outside': 1436, '3rd': 1437, 'millions': 1438, 'anniversary': 1439, 'due': 1440, 'lying': 1441, 'involved': 1442, 'coffee': 1443, 'below': 1444, 'however': 1445, 'episode': 1446, 'leader': 1447, 'murdered': 1448, 'effort': 1449, 'arizona': 1450, 'la': 1451, 'mad': 1452, 'solution': 1453, 'search': 1454, '∈': 1455, 'arab': 1456, 'doha': 1457, '12th': 1458, 'europe': 1459, 'jump': 1460, 'limited': 1461, 'grab': 1462, 'award': 1463, 'caught': 1464, 'cambridge': 1465, '`': 1466, 'busy': 1467, 'quick': 1468, 'mass': 1469, 'example': 1470, 'certain': 1471, 'quote': 1472, 'couldn': 1473, 'green': 1474, 'g': 1475, 'inc': 1476, 'happening': 1477, 'track': 1478, 'piece': 1479, 'woke': 1480, 'detect': 1481, 'states': 1482, 'genius': 1483, 'moments': 1484, 'surely': 1485, ';)': 1486, 'killing': 1487, 'include': 1488, 'asshole': 1489, 'justice': 1490, 'chris': 1491, 'opportunity': 1492, 'series': 1493, 'rajasthan': 1494, 'royals': 1495, 'decides': 1496, 'york': 1497, 'symbol': 1498, 'currently': 1499, 'filled': 1500, 'yasss': 1501, 'daughter': 1502, 'dry': 1503, '👊': 1504, 'officially': 1505, 'skin': 1506, 'liberals': 1507, 'yea': 1508, 'along': 1509, 'effective': 1510, 'finish': 1511, 'xbl': 1512, 'gl': 1513, 'seas': 1514, 'flat': 1515, 'hat': 1516, 'chinese': 1517, 'computer': 1518, 'planning': 1519, 'bro': 1520, 'plus': 1521, 'da': 1522, 'upset': 1523, 'supporting': 1524, 'number': 1525, 'nation': 1526, 'later': 1527, 'luxuryhello': 1528, 'third': 1529, '30th': 1530, 'self': 1531, '♥': 1532, 'idiot': 1533, 'banking': 1534, 'brilliant': 1535, 'british': 1536, 'xbox': 1537, 'spain': 1538, 'beating': 1539, 'highly': 1540, 'fresh': 1541, 'knowing': 1542, 'whether': 1543, 'gives': 1544, 'modern': 1545, 'notificati': 1546, '♫': 1547, 'brown': 1548, 'generation': 1549, 'starts': 1550, 'ended': 1551, 'development': 1552, 'dream': 1553, 'jobs': 1554, 'youd': 1555, 'awp': 1556, 'rude': 1557, 'status': 1558, 'letter': 1559, 'bet': 1560, 'block': 1561, 'fee': 1562, 'shouldn': 1563, 'fashion': 1564, 'dm': 1565, 'tools': 1566, 'discount': 1567, 'DG/DGDG': 1568, 'financial': 1569, 'unknown': 1570, 'dear': 1571, '🔫': 1572, 'bags': 1573, '🌹': 1574, 'threats': 1575, 'west': 1576, 'fb': 1577, 'secure': 1578, 'honest': 1579, '🚨': 1580, 'born': 1581, 'debate': 1582, 'recipes': 1583, 'k': 1584, 'dramatic': 1585, 'murder': 1586, '🐕': 1587, 'ah': 1588, 'keeping': 1589, 'announce': 1590, 'saturday': 1591, 'april': 1592, 'acting': 1593, 'conference': 1594, 'judge': 1595, 'acceptable': 1596, 'chill': 1597, 'startup': 1598, 'checkout': 1599, 'expected': 1600, 'runs': 1601, 'hearing': 1602, 'apologies': 1603, 'sincere': 1604, 'secret': 1605, 'bomber': 1606, 'congratulations': 1607, 'violent': 1608, 'lunch': 1609, 'participation': 1610, 'toy': 1611, 'promo': 1612, 'announcement': 1613, 'useful': 1614, 'helps': 1615, 'gop': 1616, 'kit': 1617, '💀': 1618, 'delicious': 1619, 'businesses': 1620, 'constantly': 1621, 'fighting': 1622, 'assad': 1623, 'tweeted': 1624, 'develop': 1625, 'canada': 1626, 'worldwide': 1627, 'guarantee': 1628, 'bounty': 1629, 'local': 1630, 'overview': 1631, 'bulletproof': 1632, 'parliament': 1633, 'stormy': 1634, 't-shirts': 1635, 'healthy': 1636, 'directly': 1637, 'flight': 1638, 'standard': 1639, 'date': 1640, 'partners': 1641, 't-shirt': 1642, 'target': 1643, 'grand': 1644, 'football': 1645, 'thousands': 1646, 'laughing': 1647, 'afternoon': 1648, 'caption': 1649, 'turns': 1650, 'armed': 1651, 'apple': 1652, 'voted': 1653, 'creating': 1654, 'harder': 1655, 'driver': 1656, 'dripping': 1657, 'senior': 1658, 'lack': 1659, 'relationship': 1660, 'tip': 1661, 'nudes': 1662, 'fox': 1663, 'offended': 1664, 'advice': 1665, 'known': 1666, 'noted': 1667, 'tiny': 1668, 'proof': 1669, 'raised': 1670, 'correct': 1671, 'eye': 1672, 'invite': 1673, 'afraid': 1674, 'voucher': 1675, 'genuine': 1676, '😅': 1677, 'raise': 1678, 'ipl': 1679, 'impact': 1680, 'excellent': 1681, 'ultimate': 1682, 'threat': 1683, 'movies': 1684, 'co': 1685, 'hillary': 1686, 'band': 1687, 'similar': 1688, 'products': 1689, '★': 1690, 'trumps': 1691, 'graphite': 1692, '☘': 1693, 'recent': 1694, 'director': 1695, '🎂': 1696, 'mine': 1697, '🎁': 1698, '⬅': 1699, 'weapons': 1700, 'tells': 1701, 'paris': 1702, 'holding': 1703, '📷': 1704, 'christian': 1705, 'DGDGDG.DGDG': 1706, 'certainly': 1707, 'foundation': 1708, 'trouble': 1709, 'choose': 1710, 'af': 1711, 'term': 1712, 'met': 1713, 'possibly': 1714, 'personality': 1715, 'mood': 1716, 'test': 1717, 'evolve': 1718, 'expire': 1719, 'channel': 1720, 'politicians': 1721, 'congrats': 1722, 'unless': 1723, 'traffic': 1724, 'deleted': 1725, '💖': 1726, 'swear': 1727, '😆': 1728, 'billion': 1729, 'innocent': 1730, 'brexit': 1731, 'disgusting': 1732, 'felt': 1733, 'failed': 1734, '❄': 1735, 'highest': 1736, 'horse': 1737, 'girlfriend': 1738, 'oil': 1739, 'shoot': 1740, 'everywhere': 1741, 'deserve': 1742, 'published': 1743, 'dogland': 1744, '👀': 1745, 'bunch': 1746, 'benefits': 1747, 'fix': 1748, 'replied': 1749, 'himself': 1750, 'present': 1751, 'aint': 1752, 'cram': 1753, 'somebody': 1754, 'twice': 1755, 'hero': 1756, 'multiple': 1757, 'valley': 1758, 'healthcare': 1759, 'talks': 1760, '🏾': 1761, 'recognize': 1762, 'brand': 1763, 'actor': 1764, 'advanced': 1765, 'harsh': 1766, 'destroy': 1767, 'trx': 1768, '▪': 1769, 'skills': 1770, 'feat': 1771, 'keeps': 1772, 'characters': 1773, 'usual': 1774, 'defense': 1775, 'liked': 1776, 'applications': 1777, 'artificial': 1778, '🎧': 1779, 'ft': 1780, '😈': 1781, 'waste': 1782, 'racing': 1783, 'east': 1784, '🕊': 1785, 'syria': 1786, 'logic': 1787, 'brothers': 1788, 'looked': 1789, 'infographic': 1790, 'flash': 1791, 'policy': 1792, 'feelings': 1793, 'joking': 1794, 'exist': 1795, 'awful': 1796, 'road': 1797, 'soft': 1798, 'strip': 1799, 'junior': 1800, 'revolution': 1801, 'austin': 1802, 'claim': 1803, 'z': 1804, 'brings': 1805, 'finished': 1806, 'humans': 1807, 'comedy': 1808, 'twitch': 1809, 'scandal': 1810, 'ending': 1811, 'gorgeous': 1812, 'bucket': 1813, 'modi': 1814, 'ability': 1815, 'spin': 1816, 'boost': 1817, 'research': 1818, '❥': 1819, 'recently': 1820, 'spread': 1821, 'died': 1822, 'sun': 1823, 'ps4': 1824, 'shed': 1825, 'treats': 1826, 't.co/nd2isszilk': 1827, 'posts': 1828, 'iq': 1829, '\\U0001f92a': 1830, 'potential': 1831, 'culture': 1832, '🌎': 1833, 'refuse': 1834, 'hidden': 1835, 'purchase': 1836, 'attempt': 1837, 'decide': 1838, 'forever': 1839, 'changes': 1840, 'meme': 1841, 'soros': 1842, 'ecosystem': 1843, 'vintage': 1844, 'environment': 1845, 'sending': 1846, 'entire': 1847, 'street': 1848, 'peter': 1849, 'host': 1850, 'current': 1851, '☑': 1852, 'lady': 1853, '🙂': 1854, 'administration': 1855, 'step': 1856, 'scared': 1857, 'steps': 1858, 'whos': 1859, 'betting': 1860, '. . .': 1861, 'officers': 1862, 'epic': 1863, 'tour': 1864, 'developpements': 1865, 'tickets': 1866, 'suspect': 1867, '🐣': 1868, 'decision': 1869, 'risk': 1870, 'pre-ico': 1871, 'mini': 1872, 'ा': 1873, 'kidding': 1874, 'crap': 1875, 'positive': 1876, 'workout': 1877, '🎼': 1878, 'roll': 1879, 'spending': 1880, 'politics': 1881, 'offering': 1882, 'pro': 1883, 'till': 1884, 'announced': 1885, 'fluent': 1886, 'proceedings': 1887, 'madrid': 1888, 'arpaio': 1889, 'libera': 1890, 'क': 1891, 'द': 1892, 'garden': 1893, 'hasnt': 1894, '\\U0001f92f': 1895, 'rs': 1896, '☀': 1897, 'train': 1898, 'trends': 1899, 'hospital': 1900, 'spirit': 1901, 'ladies': 1902, '⇨': 1903, 'gain': 1904, 'diet': 1905, 'plane': 1906, 'bed': 1907, 'several': 1908, 'sounded': 1909, 'attacks': 1910, 'role': 1911, 'played': 1912, 'analytica': 1913, 'style': 1914, 'park': 1915, 'saw': 1916, 'rocks': 1917, 'further': 1918, 'royale': 1919, 'operations': 1920, 'republicans': 1921, 'promote': 1922, 'tough': 1923, 'indeed': 1924, 'software': 1925, 'seconds': 1926, 'podcast': 1927, 'source': 1928, 'reveals': 1929, 'title': 1930, 'winter': 1931, 'career': 1932, 'eating': 1933, 'absolute': 1934, 'peoples': 1935, 'ca': 1936, 'provide': 1937, 'haven': 1938, 'assistant': 1939, 'enjoying': 1940, 'spend': 1941, 'boss': 1942, 'non': 1943, 'maga': 1944, 'sh': 1945, 'broke': 1946, 'somewhat': 1947, 'ltc': 1948, 'wars': 1949, 'near': 1950, 'featured': 1951, 'nfl': 1952, 'prevention': 1953, 'activists': 1954, 'ride': 1955, 'dinner': 1956, 'trolling': 1957, 'playlist': 1958, 'flag': 1959, 'standing': 1960, 'shift': 1961, 'tr': 1962, 'currency': 1963, 'daniels': 1964, 'conservative': 1965, 'cell': 1966, 'anime': 1967, 'clever': 1968, 'powell': 1969, 'bull': 1970, 'mathematics': 1971, 'analyst': 1972, 'fund': 1973, 'base': 1974, 'drugs': 1975, 'integration': 1976, 'duh': 1977, 'victory': 1978, 'minute': 1979, 'leadership': 1980, 'talented': 1981, 'meaning': 1982, 'etc': 1983, 'quiet': 1984, 'strongest': 1985, 'subject': 1986, 'junhoe': 1987, 'uploades': 1988, 'yunhyeong': 1989, 'finger': 1990, 'wins': 1991, 'camera': 1992, 'trip': 1993, 'd12': 1994, 'experts': 1995, 'harry': 1996, 'remove': 1997, 'machine': 1998, 'gee': 1999, 'urge': 2000, 'switch': 2001, 'shopping': 2002, 'parents': 2003, 'basic': 2004, 'expensive': 2005, 'silence': 2006, 'minister': 2007, '📻': 2008, 'DGDG-DGDG': 2009, 'station': 2010, 'falls': 2011, 'passive': 2012, '🌸': 2013, 'babies': 2014, 'goodness': 2015, '🇧': 2016, 'sister': 2017, 'realized': 2018, 'classes': 2019, 'register': 2020, 'individual': 2021, 'charge': 2022, 'putin': 2023, 'terrible': 2024, 'intelligent': 2025, 'pics': 2026, 'becoming': 2027, 'organization': 2028, 'jimmy': 2029, 'attitude': 2030, 'lips': 2031, 'dating': 2032, 'basically': 2033, 'branch': 2034, 'mentally': 2035, '🇬': 2036, 'hopefully': 2037, 'cup': 2038, 'rock': 2039, '⏩': 2040, '⏪': 2041, 'enjoyed': 2042, 'wireless': 2043, 'suddenly': 2044, 'refugees': 2045, 'agreement': 2046, 'sentence': 2047, 'chase': 2048, 'crisis': 2049, 'decided': 2050, 'shown': 2051, 'yup': 2052, 'co-founder': 2053, 'aimed': 2054, 'humanity': 2055, 'taught': 2056, 'science': 2057, 'hunting': 2058, 'DGDG.DG': 2059, 'strategy': 2060, 'wondering': 2061, 'earlier': 2062, 'large': 2063, 'investors': 2064, 'meeting': 2065, 'walk': 2066, '😋': 2067, 'gay': 2068, 'growth': 2069, 'satire': 2070, 'citizens': 2071, 'followed': 2072, 'stable': 2073, 'considered': 2074, 'freedom': 2075, 'jay': 2076, 'asset': 2077, 'commit': 2078, 'wear': 2079, 'shi': 2080, 'lazy': 2081, '्': 2082, 'named': 2083, 'distributes': 2084, 'walking': 2085, 'necessary': 2086, 'blocked': 2087, 'bigger': 2088, 'allow': 2089, 'dirty': 2090, 'process': 2091, 'friendly': 2092, 'everyday': 2093, 'initial': 2094, 'village': 2095, 'disappointed': 2096, 'chocolate': 2097, 'begin': 2098, '📈': 2099, 'stick': 2100, 'planet': 2101, 'store': 2102, '🇲': 2103, 'speaks': 2104, 'custom': 2105, 'loves': 2106, 'area': 2107, 'cases': 2108, 'included': 2109, 'victim': 2110, 'injured': 2111, 'became': 2112, 'st': 2113, '\\U0001f9df': 2114, 'wild': 2115, 'parkland': 2116, 'launches': 2117, 'sucks': 2118, 'ratings': 2119, '🌟': 2120, 'sexy': 2121, 'remark': 2122, 'dollar': 2123, 'valid': 2124, 'oracle': 2125, 'wisdom': 2126, 'ticket': 2127, 'rain': 2128, 'bug': 2129, 'shipping': 2130, 'nonsense': 2131, 'iphone': 2132, 'golden': 2133, 'comic': 2134, 'cops': 2135, 'steal': 2136, 'classy': 2137, 'cheat': 2138, 'device': 2139, 'democrat': 2140, 'importance': 2141, 'seat': 2142, 'board': 2143, '21st': 2144, 'snap': 2145, 'hollywood': 2146, 'emerging': 2147, 'cc': 2148, 'hypocrisy': 2149, 'color': 2150, 'offense': 2151, 'calm': 2152, 'bombs': 2153, 'dealing': 2154, 'simon': 2155, 'cos': 2156, 'appreciated': 2157, 'retweeted': 2158, 'summit': 2159, 'daniel': 2160, 'aside': 2161, 'bs': 2162, 'military': 2163, 'knife': 2164, 'shout': 2165, 'general': 2166, 'bullet': 2167, 'partnership': 2168, 'ho': 2169, 'kitchen': 2170, 'therapy': 2171, 'professor': 2172, 'speech': 2173, 'centre': 2174, 'tackle': 2175, 'solo': 2176, 'italian': 2177, 'district': 2178, 'medical': 2179, 'rising': 2180, 'repeat': 2181, 'fully': 2182, 'fail': 2183, 'finest': 2184, 'mens': 2185, 'sugar': 2186, 'balanced': 2187, 'greenbriar': 2188, 'luxury': 2189, 'held': 2190, 'western': 2191, 'releases': 2192, 'attained': 2193, 'wealth': 2194, 'space': 2195, 'opportunities': 2196, 'schnorr': 2197, 'signatures': 2198, 'confidential': 2199, 'falling': 2200, 'options': 2201, 'leaders': 2202, 'zero': 2203, '😝': 2204, 'above': 2205, 'prepaid': 2206, 'refill': 2207, 'reporting': 2208, '😨': 2209, 'loyal': 2210, 'protocol': 2211, 'statistics': 2212, 'cape': 2213, 'extreme': 2214, 'figure': 2215, 'wake': 2216, 'mental': 2217, 'lisa': 2218, 'erc': 2219, 'tongue': 2220, 'mate': 2221, 'confused': 2222, 'matt': 2223, 'zuckerberg': 2224, 'tim': 2225, 'helped': 2226, 'responsible': 2227, 'opinions': 2228, 'nah': 2229, 'mystery': 2230, 'romantic': 2231, 'continue': 2232, 'wise': 2233, 'san': 2234, 'context': 2235, '💯': 2236, 'windows': 2237, '🏆': 2238, 'bus': 2239, 'terrorism': 2240, 'introduce': 2241, 'cpr': 2242, 'automatically': 2243, 'joy': 2244, '【': 2245, 'khan': 2246, 'praise': 2247, 'rated': 2248, 'pr': 2249, 'angry': 2250, 'pulled': 2251, 'wrote': 2252, 'rolling': 2253, 'engineer': 2254, 'sexual': 2255, 'scotland': 2256, 'sing': 2257, 'mission': 2258, 'cryptobank': 2259, 'sector': 2260, 'paradigm': 2261, 'otherwise': 2262, 'regard': 2263, 'faith': 2264, '👑': 2265, 'noticed': 2266, 'travel': 2267, 'honesty': 2268, 'carry': 2269, 'snark': 2270, 'spice': 2271, 'range': 2272, 'inauguration': 2273, 'brought': 2274, 'disagree': 2275, '😮': 2276, 'prefer': 2277, 'ben': 2278, 'reached': 2279, 'sport': 2280, 'nope': 2281, 'fly': 2282, 'events': 2283, 'nearly': 2284, 'bar': 2285, 'systems': 2286, 'prove': 2287, 'cloud': 2288, 'explaining': 2289, 'perfected': 2290, 'fat': 2291, 'progressive': 2292, 'cuts': 2293, 'pictures': 2294, 'bless': 2295, 'ath': 2296, 'quickly': 2297, 'allows': 2298, 'goals': 2299, 'driving': 2300, 'mexico': 2301, '🤗': 2302, 'net': 2303, 'primary': 2304, 'demand': 2305, 'android': 2306, 'porn': 2307, 'gif': 2308, 'mar': 2309, 'DGDGDG.DG': 2310, 'registering': 2311, 'shouldnt': 2312, 'theyve': 2313, '🍷': 2314, 'safely': 2315, 'answers': 2316, 'prison': 2317, 'xrp': 2318, 'jack': 2319, 'memes': 2320, 'predictions': 2321, 'concept': 2322, 'andrew': 2323, '🌷': 2324, 'promise': 2325, 'yoga': 2326, '✌': 2327, 'expert': 2328, 'crimes': 2329, 'humour': 2330, 'excuse': 2331, 'avoid': 2332, 'analysis': 2333, '19th': 2334, 'according': 2335, 'extended': 2336, 'average': 2337, 'exists': 2338, 'shared': 2339, 'wtf': 2340, 'े': 2341, 'lower': 2342, 'depends': 2343, 'crying': 2344, 'north': 2345, 'picking': 2346, 'turning': 2347, 'medium': 2348, 'union': 2349, 'families': 2350, 'investment': 2351, 'amp': 2352, 'glass': 2353, 'propaganda': 2354, '☕': 2355, 'fav': 2356, 'puts': 2357, 'entertaining': 2358, 'un': 2359, 'farm': 2360, 'treat': 2361, 'patience': 2362, '10x': 2363, 'selection': 2364, 'egg': 2365, 'whose': 2366, 'negative': 2367, 'pull': 2368, 'corporate': 2369, 'path': 2370, 'criminal': 2371, 'thankful': 2372, 'greater': 2373, 'animal': 2374, 'mention': 2375, 'bbc': 2376, 'relationships': 2377, 'female': 2378, 'session': 2379, 'nintendo': 2380, 'depression': 2381, 'watches': 2382, 'nba': 2383, 'stupidity': 2384, 'otppay': 2385, 'rate': 2386, 'worthy': 2387, 'translate': 2388, 'ex': 2389, 'bought': 2390, 'study': 2391, '💞': 2392, 'era': 2393, 'al': 2394, 'bot': 2395, 'smell': 2396, 'resources': 2397, 'court': 2398, 'afford': 2399, 'odds': 2400, 'emojis': 2401, 'besides': 2402, 'jeff': 2403, 'door': 2404, 'hiring': 2405, 'construct': 2406, 'email': 2407, 'sky': 2408, 'anonymous': 2409, 'biased': 2410, 'benefit': 2411, 'teen': 2412, 'ignore': 2413, 'agreeing': 2414, 'steel': 2415, 'pure': 2416, 'tests': 2417, 'journalism': 2418, 'crack': 2419, 'giant': 2420, 'augmented': 2421, 'reports': 2422, 'full-time': 2423, 'tad': 2424, 'conservatives': 2425, 'dj': 2426, 'xd': 2427, 'german': 2428, 'pointing': 2429, 'bolton': 2430, '💜': 2431, 'hoping': 2432, 'communication': 2433, 'easier': 2434, 'q': 2435, 'bch': 2436, 'cups': 2437, 'non-stop': 2438, 'tend': 2439, 'yrs': 2440, 'owners': 2441, 'ashamed': 2442, 'listening': 2443, '😐': 2444, 'warm': 2445, 'connect': 2446, 'van': 2447, 'letters': 2448, 'slow': 2449, 'bear': 2450, 'educated': 2451, 'accept': 2452, 'return': 2453, 'recognition': 2454, 'measure': 2455, 'preventive': 2456, 'beauty': 2457, 'activities': 2458, 'solve': 2459, 'ignorant': 2460, 'presidential': 2461, 'candidate': 2462, 'speaker': 2463, 'watched': 2464, 'island': 2465, 'winners': 2466, 'interest': 2467, 'dc': 2468, 'bsc': 2469, 'graduate': 2470, 'army': 2471, 'broken': 2472, 'begins': 2473, 'tron': 2474, 'evening': 2475, 'beer': 2476, 'led': 2477, 'executive': 2478, 'extremely': 2479, 'breaks': 2480, 'backed': 2481, 'ann': 2482, 'ar': 2483, 'mac': 2484, 'tries': 2485, 'delivered': 2486, 'fucked': 2487, 'kane': 2488, 'federal': 2489, 'attorney': 2490, 'hunt': 2491, 'constitution': 2492, 'safety': 2493, 'models': 2494, 'elementary': 2495, 'ireland': 2496, 'teens': 2497, 'ad': 2498, 'explanation': 2499}\n",
      "[10, 907, 19, 1282, 32, 2, 3, 19, 1459, 22, 2, 97, 7, 552, 1736, 2, 15, 3, 2, 16]\n"
     ]
    }
   ],
   "source": [
    "vocab = vocabulary.Vocabulary(utils.flatten(train_sentences),2500)\n",
    "x_ids = vocab.words_to_ids(train_sentences[0])\n",
    "print(\"x_ids =\", vocab.word_to_id)\n",
    "print(x_ids)"
   ]
  },
  {
   "cell_type": "code",
   "execution_count": null,
   "metadata": {
    "collapsed": true
   },
   "outputs": [],
   "source": [
    "\n"
   ]
  },
  {
   "cell_type": "code",
   "execution_count": 5,
   "metadata": {},
   "outputs": [
    {
     "name": "stdout",
     "output_type": "stream",
     "text": [
      "[[10, 907, 19, 1282, 32, 2, 3, 19, 1459, 22, 2, 97, 7, 552, 1736, 2, 15, 3, 2, 16], [10, 77, 38, 96, 3, 3, 3, 3, 3, 6, 6], [90, 630, 2, 82, 4, 5, 6, 3], [59, 23, 2, 370, 3, 3, 3, 20, 3, 3, 41, 761, 790, 571, 237, 43, 244, 43, 238, 252, 6], [50, 158, 342, 20, 7, 2, 1015, 8, 14, 961, 1737, 18, 151, 14, 2, 18, 151, 9, 2, 12, 14, 2, 18, 151, 12, 72, 72, 3, 3], [85, 85, 96, 28, 248, 9, 1904, 553, 12, 85, 85, 3, 3, 3, 3, 3, 3, 3, 3, 3, 3, 37], [58, 18, 7, 394, 15, 1374, 9, 7, 206, 5, 430, 68, 116, 33, 609, 9, 762, 89, 25, 7, 358, 1375, 6], [10, 69, 9, 763, 677, 324, 45, 2, 28, 2398, 89, 5, 335, 63, 1460, 19, 7, 962, 14, 174, 2, 2, 104, 3, 3], [28, 18, 176, 117, 78, 828, 8, 68, 3, 4, 6], [269, 8, 13, 108, 17, 79, 54, 169, 2, 5, 1461, 2, 8, 1462, 146, 249, 64, 35, 1130, 5, 421, 6, 3, 3], [138, 59, 48, 17, 54, 12, 12, 3, 3, 36, 554, 2, 1583, 51, 152, 2, 56, 2, 7, 1905, 6], [4, 4, 53, 17, 57, 11, 1016, 2, 2, 29, 2, 14, 46, 116, 33, 609, 9, 1375, 2399, 32, 1906, 2127, 9, 1219, 85, 85], [138, 59, 3, 3, 3, 3, 2, 2, 703, 2, 6], [10, 66, 7, 2128, 2, 159, 2, 14, 7, 2, 2, 159, 11, 1017, 2, 24, 21, 42, 101, 9, 2, 69, 83, 15, 31, 46, 52, 16], [286, 2, 8, 139, 20, 431, 2, 87, 733, 403, 2, 88, 64, 49, 1283, 239, 12, 26, 34, 106, 12, 2, 258, 12], [10, 13, 791, 11, 1907, 2129, 19, 31, 829, 1131, 14, 2, 2, 18, 7, 506, 5, 3, 3, 16], [10, 35, 45, 1284, 343, 29, 11, 95, 963, 22, 22, 1285, 594, 278, 19, 1069, 262, 82, 14, 555, 519, 908, 87, 16], [4, 76, 51, 170, 282, 12, 1286, 792, 233, 552, 15, 24, 5], [3, 3, 347, 61, 23, 84, 37, 2, 2, 2, 2, 432, 1376, 2128, 1220, 8, 447, 27, 70, 2130, 6, 6], [216, 20, 7, 102, 793, 704, 964, 22, 317, 169, 36, 794, 20, 705, 16, 6, 3, 3]]\n"
     ]
    }
   ],
   "source": [
    "list_of_train_ids = list(map(vocab.words_to_ids, train_sentences))\n",
    "print(list_of_train_ids[0:20])\n",
    "\n",
    "\n",
    "list_of_validation_ids = list(map(vocab.words_to_ids, validation_sentences))\n",
    "\n",
    "list_of_test_ids = list(map(vocab.words_to_ids, test_sentences))\n"
   ]
  },
  {
   "cell_type": "code",
   "execution_count": 6,
   "metadata": {},
   "outputs": [
    {
     "data": {
      "text/plain": [
       "Counter({2: 4,\n",
       "         3: 2,\n",
       "         7: 1,\n",
       "         10: 1,\n",
       "         15: 1,\n",
       "         16: 1,\n",
       "         19: 2,\n",
       "         22: 1,\n",
       "         32: 1,\n",
       "         97: 1,\n",
       "         552: 1,\n",
       "         907: 1,\n",
       "         1282: 1,\n",
       "         1459: 1,\n",
       "         1736: 1})"
      ]
     },
     "execution_count": 6,
     "metadata": {},
     "output_type": "execute_result"
    }
   ],
   "source": [
    "collections.Counter(list_of_train_ids[0])"
   ]
  },
  {
   "cell_type": "code",
   "execution_count": 7,
   "metadata": {
    "collapsed": true
   },
   "outputs": [],
   "source": [
    "from scipy.sparse import csr_matrix \n",
    "def sparsify_data(list_of_ids):\n",
    "    row_indices = []\n",
    "    col_indices = []\n",
    "    values = []\n",
    "    rows = len(list_of_ids)\n",
    "\n",
    "    for row, x_ids in enumerate(list_of_ids):\n",
    "        x_fdict = collections.Counter(x_ids)\n",
    "        for wordid, count in x_fdict.items():\n",
    "            row_indices.append(row)       \n",
    "            col_indices.append(wordid)  # column is word id\n",
    "            values.append(count)        # value is count\n",
    "    x_sparse = csr_matrix((values, (row_indices, col_indices)),\n",
    "                              shape=[rows, vocab.size])\n",
    "    return x_sparse"
   ]
  },
  {
   "cell_type": "code",
   "execution_count": 8,
   "metadata": {
    "collapsed": true
   },
   "outputs": [],
   "source": [
    "x_train_sparse = sparsify_data(list_of_train_ids)\n",
    "x_validation_sparse = sparsify_data(list_of_validation_ids)\n",
    "x_test_sparse = sparsify_data(list_of_test_ids)\n"
   ]
  },
  {
   "cell_type": "code",
   "execution_count": null,
   "metadata": {
    "collapsed": true
   },
   "outputs": [],
   "source": []
  },
  {
   "cell_type": "code",
   "execution_count": 9,
   "metadata": {},
   "outputs": [
    {
     "name": "stdout",
     "output_type": "stream",
     "text": [
      " acc: 89.56%, recall: 90.43%, precision: 89.27%, f1: 89.85%,\n"
     ]
    }
   ],
   "source": [
    "from sklearn.naive_bayes import MultinomialNB\n",
    "from sklearn.metrics import f1_score, accuracy_score, recall_score, precision_score\n",
    "\n",
    "nb = MultinomialNB(alpha =  1)\n",
    "nb.fit(x_train_sparse, train_labels)\n",
    "y_pred = nb.predict(x_test_sparse)\n",
    "\n",
    "\n",
    "\n",
    "\n",
    "\n",
    "f1 = f1_score(test_labels, y_pred)\n",
    "acc = accuracy_score(test_labels, y_pred)\n",
    "recall = recall_score(test_labels, y_pred)\n",
    "precision = precision_score(test_labels, y_pred)\n",
    "print(\" acc: {:.02%}, recall: {:.02%}, precision: {:.02%}, f1: {:.02%},\".format(acc, recall, precision, f1))\n"
   ]
  },
  {
   "cell_type": "code",
   "execution_count": 10,
   "metadata": {
    "collapsed": true
   },
   "outputs": [],
   "source": [
    "linear_weights = nb.feature_log_prob_[1,:] - nb.feature_log_prob_[0,:]  # populate this with actual values\n",
    "\n",
    "top_negative_features = np.argsort(linear_weights)[0:40]\n",
    "top_positive_features = np.argsort(-linear_weights)[0:40]\n"
   ]
  },
  {
   "cell_type": "code",
   "execution_count": 11,
   "metadata": {},
   "outputs": [
    {
     "name": "stdout",
     "output_type": "stream",
     "text": [
      "Most negative features:\n",
      "  ↴ (-5.27)\n",
      "  ⭐ (-4.90)\n",
      "  registration (-4.61)\n",
      "  tokkens (-4.58)\n",
      "  cams (-4.58)\n",
      "  🎮 (-4.52)\n",
      "  🕰 (-4.52)\n",
      "  🖥 (-4.50)\n",
      "  💎 (-4.47)\n",
      "  airdrop (-4.38)\n",
      "  blockchain (-4.22)\n",
      "  telegram (-3.99)\n",
      "  es (-3.99)\n",
      "  bitcoin (-3.97)\n",
      "  ✔ (-3.89)\n",
      "  token (-3.82)\n",
      "  ico (-3.67)\n",
      "  enter (-3.63)\n",
      "  £ (-3.57)\n",
      "  camp (-3.52)\n",
      "  ➡ (-3.52)\n",
      "  tokens (-3.49)\n",
      "  📢 (-3.49)\n",
      "  cryptocurrency (-3.46)\n",
      "  DGDG:DGDG (-3.46)\n",
      "  rt (-3.40)\n",
      "  3d (-3.35)\n",
      "  💰 (-3.32)\n",
      "  items (-3.28)\n",
      "  giveaway (-3.26)\n",
      "  crypto (-3.16)\n",
      "  🔥 (-3.13)\n",
      "  ！ (-3.10)\n",
      "  competition (-3.10)\n",
      "  recommend (-3.10)\n",
      "  decades (-3.05)\n",
      "  🌿 (-3.05)\n",
      "  luxuryliferss (-3.00)\n",
      "  wallet (-3.00)\n",
      "  th (-3.00)\n",
      "\n",
      "Most positive features:\n",
      "  soundtwit (3.85)\n",
      "  fh__400inst (3.85)\n",
      "  isnt (3.79)\n",
      "  font (3.55)\n",
      "  vocalistwithhis (3.47)\n",
      "  tone (3.47)\n",
      "  jokes (3.31)\n",
      "  shocked (3.27)\n",
      "  🤦 (3.16)\n",
      "  :@ (3.16)\n",
      "  funny (3.12)\n",
      "  mean (3.11)\n",
      "  oh (3.10)\n",
      "  wasn (3.08)\n",
      "  humor (3.05)\n",
      "  yeah (3.05)\n",
      "  btw (3.03)\n",
      "  lol (3.02)\n",
      "  clearly (3.01)\n",
      "  racist (2.99)\n",
      "  🤷 (2.99)\n",
      "  actually (2.97)\n",
      "  worse (2.94)\n",
      "  🙃 (2.94)\n",
      "  weird (2.89)\n",
      "  dare (2.83)\n",
      "  failure (2.83)\n",
      "  blew (2.83)\n",
      "  wouldnt (2.83)\n",
      "  yes (2.82)\n",
      "  joke (2.79)\n",
      "  genuinely (2.77)\n",
      "  assume (2.77)\n",
      "  happens (2.77)\n",
      "  gb (2.77)\n",
      "  quite (2.77)\n",
      "  vocalistwith (2.77)\n",
      "  insert (2.77)\n",
      "  😱 (2.77)\n",
      "  actual (2.71)\n"
     ]
    }
   ],
   "source": [
    "print(\"Most negative features:\")\n",
    "for idx in top_negative_features:\n",
    "    print(\"  {:s} ({:.02f})\".format(vocab.id_to_word[idx], \n",
    "                                    linear_weights[idx]))\n",
    "print(\"\")\n",
    "print(\"Most positive features:\")\n",
    "for idx in top_positive_features:\n",
    "    print(\"  {:s} ({:.02f})\".format(vocab.id_to_word[idx], \n",
    "                                    linear_weights[idx]))\n",
    "    \n"
   ]
  },
  {
   "cell_type": "markdown",
   "metadata": {},
   "source": [
    "###### "
   ]
  },
  {
   "cell_type": "code",
   "execution_count": null,
   "metadata": {},
   "outputs": [],
   "source": []
  },
  {
   "cell_type": "code",
   "execution_count": null,
   "metadata": {
    "collapsed": true
   },
   "outputs": [],
   "source": []
  }
 ],
 "metadata": {
  "kernelspec": {
   "display_name": "Python 3",
   "language": "python",
   "name": "python3"
  },
  "language_info": {
   "codemirror_mode": {
    "name": "ipython",
    "version": 3
   },
   "file_extension": ".py",
   "mimetype": "text/x-python",
   "name": "python",
   "nbconvert_exporter": "python",
   "pygments_lexer": "ipython3",
   "version": "3.6.3"
  }
 },
 "nbformat": 4,
 "nbformat_minor": 2
}
