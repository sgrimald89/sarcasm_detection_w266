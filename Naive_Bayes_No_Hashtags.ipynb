{
 "cells": [
  {
   "cell_type": "code",
   "execution_count": 2,
   "metadata": {
    "collapsed": true
   },
   "outputs": [],
   "source": [
    "from __future__ import print_function\n",
    "from __future__ import division\n",
    "import collections\n",
    "import nltk\n",
    "import numpy as np\n",
    "from nltk.tokenize.casual import TweetTokenizer\n",
    "from w266_common import utils, vocabulary\n",
    "import re\n",
    "np.random.seed(266)"
   ]
  },
  {
   "cell_type": "code",
   "execution_count": 3,
   "metadata": {
    "collapsed": true
   },
   "outputs": [],
   "source": [
    "import csv\n",
    "tokenizer = TweetTokenizer()\n",
    "x_data = []\n",
    "labels = []\n",
    "sentences = []\n",
    "     \n",
    "  \n",
    "with open('dta/merged_data_v3.csv', 'r') as csvfile:\n",
    "    linereader = csv.reader(csvfile, delimiter = '|')\n",
    "    for i, row in enumerate(linereader):\n",
    "        if i == 0:\n",
    "            continue\n",
    "        sentence, _, sarcasm = row\n",
    "        sentence = re.sub(\"RT @[^\\s]+:\", \"retweet\", sentence)\n",
    "        #sentences.append(sentence)\n",
    "        tokenized_words = tokenizer.tokenize(sentence)\n",
    "        x_tokens = utils.canonicalize_words(tokenized_words, hashtags =True)\n",
    "        index = np.argwhere(x_tokens==\"sarcasm\")\n",
    "        x_tokens = np.delete(x_tokens, index)\n",
    "        index = np.argwhere(x_tokens==\"sarcastic\")\n",
    "        x_tokens = np.delete(x_tokens, index)\n",
    "        x_data.append(x_tokens)\n",
    "        labels.append(int(sarcasm))\n",
    "\n",
    "\n",
    "shuffle_indices = np.random.permutation(np.arange(len(labels)))\n",
    "train_split_idx = int(0.7 * len(labels))\n",
    "test_split_idx  = int(0.9 * len(labels))\n",
    "\n",
    "train_indices = shuffle_indices[:train_split_idx]\n",
    "validation_indices = shuffle_indices[train_split_idx:test_split_idx]\n",
    "test_indices = shuffle_indices[test_split_idx:]\n",
    "\n",
    "x_data = np.array(x_data)\n",
    "labels = np.array(labels)\n",
    "train_sentences = x_data[train_indices]\n",
    "train_labels= labels[train_indices] \n",
    "validation_sentences = x_data[validation_indices]\n",
    "validation_labels = labels[validation_indices]\n",
    "test_sentences = x_data[test_indices]  \n",
    "test_labels = labels[test_indices]  \n",
    "\n"
   ]
  },
  {
   "cell_type": "code",
   "execution_count": 4,
   "metadata": {},
   "outputs": [
    {
     "name": "stdout",
     "output_type": "stream",
     "text": [
      "x_ids = {'<s>': 0, '</s>': 1, '<unk>': 2, 'HASHTAG': 3, 'ACCOUNT': 4, 'LINK': 5, '.': 6, 'the': 7, 'to': 8, ',': 9, 'retweet': 10, '!': 11, 'a': 12, '…': 13, 'of': 14, 'and': 15, 'is': 16, 'you': 17, 'in': 18, '?': 19, 'i': 20, 'for': 21, '-': 22, ':': 23, '...': 24, 'on': 25, '’': 26, 'this': 27, 'that': 28, 'it': 29, 'with': 30, 'DG': 31, 'be': 32, 'your': 33, 'DGDG': 34, 'my': 35, 'are': 36, 'we': 37, '&': 38, 'at': 39, 'all': 40, 'have': 41, '️': 42, ')': 43, 'so': 44, 'can': 45, '(': 46, 'not': 47, 's': 48, 'into': 49, 'rt': 50, '/': 51, 'just': 52, 'now': 53, 'guy': 54, 'no': 55, 'what': 56, 'out': 57, 'was': 58, 'our': 59, 'me': 60, 'from': 61, 'they': 62, 'like': 63, 'by': 64, 'will': 65, 'how': 66, 'happen': 67, 'but': 68, 'if': 69, 'believes': 70, 'couldnt': 71, 'straight': 72, 't': 73, 'nicer': 74, 'ex': 75, 'walking': 76, '#': 77, 'agent': 78, 'free': 79, 'its': 80, 'about': 81, 'get': 82, 'do': 83, 'more': 84, 'as': 85, 'people': 86, '😂': 87, 'his': 88, 'up': 89, '$': 90, 'DGDGDG': 91, 'who': 92, 'DGDGDGDG': 93, 'an': 94, 'he': 95, 'one': 96, 'us': 97, 'has': 98, 'or': 99, 'when': 100, 'here': 101, 'im': 102, 'new': 103, 'time': 104, 'good': 105, 'follow': 106, 'great': 107, 'best': 108, 'know': 109, 'their': 110, 'oh': 111, 'really': 112, 'via': 113, 'should': 114, '🔥': 115, 'why': 116, 'only': 117, 'see': 118, 'because': 119, 'make': 120, 'right': 121, 'dont': 122, '*': 123, 'there': 124, 'day': 125, 'love': 126, 'would': 127, ':/': 128, 'today': 129, 'well': 130, 'am': 131, 'please': 132, 'been': 133, 'way': 134, 'think': 135, 'sure': 136, '↴': 137, 'want': 138, 'need': 139, 'thats': 140, 'than': 141, 'some': 142, 'them': 143, 'check': 144, '“': 145, '..': 146, 'being': 147, 'were': 148, 'most': 149, 'thanks': 150, 'm': 151, 'go': 152, 'had': 153, 'march': 154, '”': 155, 'after': 156, 'don': 157, 'work': 158, 'quotes': 159, 'over': 160, 'win': 161, 'world': 162, 'never': 163, '⭐': 164, 'back': 165, 'her': 166, 'say': 167, 'hey': 168, 'those': 169, 'going': 170, '%': 171, 'first': 172, 'news': 173, 'enter': 174, 'join': 175, 'said': 176, '🤣': 177, 'didnt': 178, 'look': 179, 'game': 180, 'these': 181, 'left': 182, 'give': 183, 'any': 184, 'too': 185, 'gun': 186, 'did': 187, 'online': 188, 'yes': 189, 'let': 190, 'someone': 191, 'she': 192, 'very': 193, 'off': 194, 'life': 195, 'other': 196, 'then': 197, 'live': 198, 'must': 199, 'much': 200, 'could': 201, 'again': 202, 'white': 203, 'person': 204, 'latest': 205, 'even': 206, 'ask': 207, 'mind': 208, 'trump': 209, 'something': 210, 'thank': 211, '🕰': 212, 'many': 213, 'hard': 214, 'another': 215, 'every': 216, 'got': 217, 'sex': 218, 'take': 219, '>': 220, 'man': 221, 'always': 222, 'keep': 223, 'yeah': 224, 'last': 225, 'david': 226, 'wow': 227, 're': 228, '🙄': 229, '🎮': 230, 'without': 231, 'DGDGDGDGDG': 232, 'top': 233, 'fan': 234, '@': 235, 'money': 236, 'better': 237, '💎': 238, 'everyone': 239, '+': 240, '🖥': 241, 'ever': 242, 'worth': 243, 'sarcasm': 244, 'youre': 245, ']': 246, 'also': 247, 'thing': 248, 'community': 249, '[': 250, 'happy': 251, 'registration': 252, 'where': 253, 'team': 254, 'cant': 255, 'guns': 256, 'thought': 257, '£': 258, 'anyone': 259, 'chance': 260, 'real': 261, 'brexit': 262, 'job': 263, 'before': 264, 'cams': 265, 'tokkens': 266, 'surprise': 267, 'next': 268, 'down': 269, 'lol': 270, 'years': 271, 'games': 272, 'still': 273, 'come': 274, 'use': 275, 'giveaway': 276, 'd': 277, 'kids': 278, 'nothing': 279, 'read': 280, 'andrew': 281, 'changed': 282, 'days': 283, ';': 284, 'since': 285, 'history': 286, 'token': 287, 'mean': 288, 'school': 289, 'own': 290, 'little': 291, 'guys': 292, 'davis': 293, 'airdrop': 294, 'show': 295, 'help': 296, 'things': 297, 'start': 298, 'wait': 299, 'makes': 300, 'him': 301, 'doing': 302, 'lets': 303, 'https': 304, 'watch': 305, 'made': 306, 'marr': 307, 'blockchain': 308, 'tweet': 309, 'share': 310, 'twitter': 311, 'previ': 312, 'bad': 313, 'does': 314, 'DG.DG': 315, 'important': 316, 'find': 317, 'friends': 318, 'nice': 319, 'looking': 320, 'daily': 321, 'buy': 322, 'glad': 323, 'away': 324, 'long': 325, 'home': 326, 'fun': 327, 'anything': 328, 'women': 329, 'facebook': 330, 'stop': 331, 'r': 332, 'crypto': 333, 'feel': 334, 'data': 335, 'post': 336, 'try': 337, 'business': 338, 'tell': 339, 'which': 340, 'both': 341, 'needs': 342, 'spring': 343, 'few': 344, 'telegram': 345, 'music': 346, 'open': 347, 'sale': 348, 'shocked': 349, 'es': 350, 'once': 351, 'says': 352, 'year': 353, 'click': 354, 'using': 355, 'tag': 356, 'high': 357, 'morning': 358, 'season': 359, 'having': 360, 'run': 361, 'u': 362, '‘': 363, 'face': 364, 'two': 365, '❤': 366, 'definitely': 367, 'service': 368, 'through': 369, 'old': 370, 'coming': 371, 'add': 372, 'social': 373, 'market': 374, 'somebody': 375, 'change': 376, 'bring': 377, 'summer': 378, 'such': 379, 'around': 380, 'part': 381, 'big': 382, 'seems': 383, '\\u200d': 384, 'media': 385, 'actually': 386, 'same': 387, 'maybe': 388, 'may': 389, 'ico': 390, 'while': 391, 'arent': 392, 'form': 393, 'night': 394, 'during': 395, '~': 396, 'hilarious': 397, 'visit': 398, 'case': 399, 'making': 400, 'getting': 401, 'wrong': 402, 'favorite': 403, 'sunday': 404, 'learn': 405, 'call': 406, '📢': 407, 'official': 408, 'bonus': 409, 'soon': 410, 'forget': 411, 'isnt': 412, 'internet': 413, 'lowest': 414, '🏻': 415, 'intelligence': 416, 'everything': 417, 'support': 418, 'kind': 419, 'DGDGDGDGDGDG': 420, '✨': 421, 'hes': 422, 'book': 423, 'problem': 424, 'future': 425, 'finally': 426, 'funny': 427, 'welcome': 428, 'club': 429, 'done': 430, 'working': 431, 'blog': 432, 'thinking': 433, 'children': 434, 'lot': 435, 'hours': 436, 'laws': 437, 'price': 438, 'DG.DGDG': 439, 'beautiful': 440, 'usa': 441, 'true': 442, 'men': 443, 'group': 444, 'million': 445, '👍': 446, 'video': 447, 'week': 448, 'super': 449, 'name': 450, 'believe': 451, 'house': 452, 'probably': 453, 'end': 454, 'company': 455, 'available': 456, 'power': 457, 'didn': 458, 'already': 459, 'illegal': 460, 'bitcoin': 461, 'between': 462, 'play': 463, 'least': 464, 'followers': 465, 'exchange': 466, 'htt': 467, 'e': 468, 'care': 469, 'gets': 470, 'perfect': 471, 'hour': 472, 'trading': 473, 'else': 474, 'link': 475, '😜': 476, 'playing': 477, 'whole': 478, 'human': 479, 'hate': 480, 'trying': 481, 'fake': 482, 'yet': 483, 'president': 484, 'sometimes': 485, 'uk': 486, '=': 487, 'giving': 488, 'boy': 489, 'hear': 490, 'camp': 491, 'hope': 492, 'single': 493, 'doesnt': 494, 'w': 495, 'project': 496, 'lives': 497, 'pay': 498, 'god': 499, 'plan': 500, 've': 501, '🤔': 502, 'friend': 503, 'safe': 504, ':)': 505, 'eth': 506, 'put': 507, 'words': 508, 'totally': 509, 'article': 510, 'remember': 511, '✔': 512, 'means': 513, 'ends': 514, 'song': 515, 'franchise': 516, 'full': 517, 'listen': 518, 'guess': 519, 'tonight': 520, 'though': 521, 'reason': 522, 'vs': 523, 'isn': 524, 'winner': 525, 'national': 526, 'sorry': 527, 'rights': 528, 'users': 529, 'under': 530, 'goes': 531, 'l': 532, 'awesome': 533, 'each': 534, 'website': 535, 'DGDG.DGDG': 536, 'digital': 537, '🚀': 538, '🏼': 539, 'ok': 540, 'n': 541, 'shocking': 542, 'phone': 543, 'special': 544, 'might': 545, 'easter': 546, 'place': 547, 'vote': 548, 'international': 549, 'apply': 550, 'amazing': 551, 'event': 552, 'b': 553, 'black': 554, 'joke': 555, 'forward': 556, 'wonder': 557, 'shot': 558, 'credit': 559, 'ready': 560, 'proud': 561, 'country': 562, 'issue': 563, 'fans': 564, 'story': 565, 'horrible': 566, 'earth': 567, 'gift': 568, 'question': 569, 'yourself': 570, 'running': 571, 'comes': 572, 'redbubble': 573, 'coin': 574, 'america': 575, 'weird': 576, 'break': 577, 'view': 578, 'picture': 579, 'public': 580, 'poor': 581, 'simply': 582, '—': 583, 'young': 584, 'move': 585, 'stem': 586, 'competition': 587, 'ी': 588, 'f': 589, 'used': 590, 'lovely': 591, 'australia': 592, 'talent': 593, 'excited': 594, 'enjoy': 595, 'control': 596, 'popular': 597, 'told': 598, 'apparently': 599, 'c': 600, 'picks': 601, 'comment': 602, 'attack': 603, 'students': 604, 'dreams': 605, 'course': 606, 'understand': 607, 'largest': 608, 'account': 609, 'against': 610, 'easy': 611, 'DGDG/DG': 612, '😒': 613, 'food': 614, 'instead': 615, 'drink': 616, 'opening': 617, 'shit': 618, 'platform': 619, 'address': 620, 'saying': 621, 'ive': 622, 'seen': 623, 'order': 624, 'bank': 625, 'cool': 626, 'total': 627, 'party': 628, 'create': 629, 'ceo': 630, 'american': 631, 'upon': 632, 'point': 633, 'points': 634, 'hashtag': 635, 'ice': 636, 'idea': 637, 'death': 638, 'talk': 639, 'following': 640, 'lie': 641, 'recommend': 642, '1st': 643, 'fine': 644, 'myself': 645, 'royal': 646, 'brand': 647, 'april': 648, '😉': 649, 'pretty': 650, 'possible': 651, 'behind': 652, 'starting': 653, 'fair': 654, 'almost': 655, 'paying': 656, 'terrorist': 657, 'build': 658, 'art': 659, 'doesn': 660, 'DGDG/DGDG': 661, 'loving': 662, '➡': 663, '♀': 664, 'knows': 665, 'meet': 666, 'details': 667, 'fuck': 668, 'choice': 669, 'h': 670, 'kik': 671, 'list': 672, 'weeks': 673, 'security': 674, 'works': 675, 'failure': 676, 'breaking': 677, 'kill': 678, 'members': 679, 'successful': 680, 'enough': 681, 'cash': 682, 'violence': 683, 'smart': 684, 'ill': 685, 'police': 686, 'far': 687, 'marketing': 688, 'incredible': 689, 'sense': 690, '💰': 691, 'second': 692, 'ban': 693, 'yay': 694, 'blue': 695, '🇺': 696, 'looks': 697, 'taking': 698, 'ya': 699, 'gonna': 700, 'sounds': 701, 'past': 702, 'supply': 703, 'talking': 704, 'family': 705, 'cricket': 706, 'fit': 707, 'attention': 708, 'fund': 709, 'pick': 710, 'll': 711, 'gb': 712, 'blew': 713, 'miss': 714, 'girl': 715, '🙌': 716, 'ball': 717, 'started': 718, 'sides': 719, 'tokens': 720, 'technology': 721, 'male': 722, 'based': 723, 'anymore': 724, 'sweet': 725, 'sign': 726, 'european': 727, 'health': 728, '🇸': 729, 'industry': 730, 'red': 731, 'united': 732, 'heart': 733, 'write': 734, '👇': 735, 'fast': 736, 'nra': 737, '😎': 738, 'announce': 739, 'ones': 740, 'speak': 741, 'nudes': 742, 'takes': 743, 'o': 744, 'city': 745, 'americans': 746, 'helping': 747, 'league': 748, 'bullpen': 749, 'DGDG:DGDG': 750, 'movie': 751, 'law': 752, 'save': 753, 'small': 754, 'tech': 755, 'wont': 756, 'mother': 757, 'war': 758, 'hands': 759, 'times': 760, 'called': 761, 'wall': 762, 'usd': 763, 'smith': 764, 'level': 765, 'fee': 766, 'class': 767, 'happened': 768, 'dare': 769, 'commission': 770, 'dangerous': 771, 'cyber': 772, 'clearly': 773, 'five': 774, 'fire': 775, 'moment': 776, 'lead': 777, 'building': 778, 'banned': 779, 'forgot': 780, 'birthday': 781, 'code': 782, 'friday': 783, 'ो': 784, 'luxuryliferss': 785, 'word': 786, 'three': 787, 'featuring': 788, 'fox': 789, 'theyre': 790, 'protect': 791, 'politicians': 792, 'main': 793, '<': 794, 'head': 795, 'matter': 796, 'added': 797, 'able': 798, 'tax': 799, 'car': 800, 'network': 801, 'biggest': 802, 'prize': 803, '🎉': 804, 'classic': 805, 'truth': 806, 'assault': 807, '–': 808, 'seth': 809, 'system': 810, '😍': 811, 'ur': 812, 'state': 813, 'wants': 814, 'road': 815, 'wallet': 816, 'water': 817, 'humor': 818, 'evil': 819, 'items': 820, '🏆': 821, 'act': 822, 'experience': 823, 'pass': 824, 'bill': 825, 'photoshopped': 826, 'government': 827, 'y': 828, 'shooting': 829, 'month': 830, 'trade': 831, 'difference': 832, 'hit': 833, 'eat': 834, 'symbol': 835, 'weekend': 836, 'india': 837, 'states': 838, 'powell': 839, 'spin': 840, 'fix': 841, 'drive': 842, 'campaign': 843, 'match': 844, 'spread': 845, 'double': 846, 'id': 847, 'completely': 848, '！': 849, 'dream': 850, 'v': 851, '・': 852, 'global': 853, 'heres': 854, 'youve': 855, 'imagine': 856, '🙏': 857, 'others': 858, 'months': 859, 'rich': 860, 'congress': 861, 'cold': 862, 'lose': 863, 'spent': 864, 'theres': 865, 'tomorrow': 866, 'btc': 867, 'offer': 868, 'customer': 869, 'rs': 870, 'four': 871, 'entered': 872, 'risk': 873, 'absolutely': 874, '📸': 875, 'wonderful': 876, 'launch': 877, 'knew': 878, 'massive': 879, 'worked': 880, 'access': 881, 'allowed': 882, 'fucking': 883, 'ht': 884, 'england': 885, 'arizona': 886, 'feeling': 887, 'note': 888, 'huge': 889, 'heard': 890, 'wanted': 891, 'step': 892, 'extra': 893, 'steve': 894, 'girls': 895, 'schools': 896, '😱': 897, '👉': 898, 'air': 899, 'number': 900, '🤦': 901, 't-shirts': 902, '3d': 903, 'stock': 904, 'leave': 905, 'turn': 906, '👏': 907, 'along': 908, 'set': 909, 'partnership': 910, 'below': 911, 'instagram': 912, 'de': 913, 'planned': 914, 'trust': 915, 'deal': 916, 'found': 917, 'luck': 918, 'different': 919, 'cloth-stagram': 920, 'exciting': 921, 'gaming': 922, 'obama': 923, 'hits': 924, 'todays': 925, 'image': 926, 'helped': 927, 'sad': 928, 'whats': 929, 'physical': 930, 'ideas': 931, 'less': 932, 'wouldnt': 933, 'starts': 934, 'went': 935, 'truly': 936, 'living': 937, 'g': 938, 'information': 939, 'groups': 940, 'teacher': 941, 'asking': 942, 'normally': 943, 'room': 944, 'update': 945, 'expensive': 946, 'watching': 947, 'review': 948, 'bit': 949, '):': 950, 'contest': 951, 'safer': 952, 'exactly': 953, '♂': 954, 'stuff': 955, '✈': 956, 'genius': 957, 'idiots': 958, 'issues': 959, '🎁': 960, 'front': 961, 'player': 962, 'hair': 963, 'random': 964, 'snow': 965, 'sir': 966, 'send': 967, 'throw': 968, 'surprised': 969, 'sleeping': 970, 'either': 971, 'inside': 972, 'quite': 973, 'sports': 974, 'track': 975, 'size': 976, 'क': 977, 'द': 978, 'ा': 979, 'getreallux': 980, 'answer': 981, 'dear': 982, 'google': 983, 'photo': 984, 'pushing': 985, 'decided': 986, 'education': 987, 'killer': 988, 'jay': 989, 'happens': 990, '👊': 991, 'crazy': 992, 'gave': 993, 'info': 994, 'chat': 995, 'stay': 996, 'app': 997, 'download': 998, 'volume': 999, 'potential': 1000, 'given': 1001, 'learning': 1002, 'p': 1003, 'beat': 1004, 'tv': 1005, 'ahead': 1006, 'line': 1007, 'report': 1008, 'eyes': 1009, 'posted': 1010, 'card': 1011, 'australian': 1012, 'respect': 1013, 'bio': 1014, '▶': 1015, 'until': 1016, 'father': 1017, 'loved': 1018, 'won': 1019, 'coffee': 1020, 'midnight': 1021, 'monday': 1022, 'become': 1023, 'projects': 1024, '♫': 1025, 'artists': 1026, 'close': 1027, 'hi': 1028, 'missed': 1029, 'supposed': 1030, 'prison': 1031, 'damn': 1032, 'rules': 1033, 'citizens': 1034, 'age': 1035, 'interesting': 1036, 'youll': 1037, 'richs': 1038, 'roommate': 1039, 'dov': 1040, 'friedman': 1041, 'sponsors': 1042, 'minutes': 1043, 'safety': 1044, 'tips': 1045, 'bombs': 1046, 'hot': 1047, 'lost': 1048, 'sending': 1049, 'series': 1050, 'middle': 1051, 'worry': 1052, 'award': 1053, 'manipulating': 1054, 'believing': 1055, 'strategy': 1056, 'guard': 1057, '🤷': 1058, '🏽': 1059, 'radio': 1060, 'amendment': 1061, 'final': 1062, 'lucky': 1063, 'spain': 1064, 'joe': 1065, 'quality': 1066, 'manager': 1067, 'yoga': 1068, 'questions': 1069, 'vintage': 1070, 'box': 1071, 'celebrate': 1072, 'edition': 1073, 'shes': 1074, 'position': 1075, 'product': 1076, 'towards': 1077, 'development': 1078, 'longer': 1079, 'DG/DG': 1080, 'center': 1081, 'jobs': 1082, 'ha': 1083, 'dead': 1084, 'printed': 1085, 'body': 1086, '🙃': 1087, 'race': 1088, 'pop': 1089, 'site': 1090, 'release': 1091, 'bottle': 1092, 'model': 1093, 'mike': 1094, 'page': 1095, 'finish': 1096, 'interested': 1097, 'privacy': 1098, 'especially': 1099, 'nature': 1100, 'bin': 1101, 'liberals': 1102, 'improve': 1103, 'yesterday': 1104, 'russian': 1105, 'wearing': 1106, 'bucket': 1107, 'john': 1108, 'clean': 1109, 'allow': 1110, '15th': 1111, 'govt': 1112, 'agree': 1113, '⬅': 1114, 'problems': 1115, 'reached': 1116, 'early': 1117, 'modi': 1118, 'weapons': 1119, '💋': 1120, 'deep': 1121, '😘': 1122, 'cryptocurrency': 1123, 'college': 1124, 'english': 1125, 'academy': 1126, 'announced': 1127, 'prayers': 1128, 'per': 1129, 'standing': 1130, '🏘': 1131, 'everybody': 1132, 'fortnite': 1133, 'fashion': 1134, 'reasons': 1135, 'legal': 1136, 'solution': 1137, 'short': 1138, 'train': 1139, 'decades': 1140, 'dude': 1141, 'bomb': 1142, 'paper': 1143, 'x': 1144, 'interview': 1145, '🌟': 1146, 'professional': 1147, 'madrid': 1148, 'london': 1149, '🎶': 1150, 'growth': 1151, 'response': 1152, 'racist': 1153, 'perhaps': 1154, 'came': 1155, 'donald': 1156, 'side': 1157, 'land': 1158, 'greatest': 1159, 'serious': 1160, 'turned': 1161, 'mr': 1162, 'havent': 1163, 'scared': 1164, 'town': 1165, '🌸': 1166, 'bringing': 1167, 'analyst': 1168, 'tweets': 1169, 'wasnt': 1170, 'together': 1171, 'dark': 1172, 'retro': 1173, 'angela': 1174, 'stressed': 1175, 'themselves': 1176, 'lat': 1177, 'facts': 1178, 'woman': 1179, 'activities': 1180, 'master': 1181, 'flat': 1182, '®': 1183, 'players': 1184, 'involved': 1185, 'DG-DG': 1186, 'th': 1187, 'increase': 1188, 'rather': 1189, 'े': 1190, '😝': 1191, 'wine': 1192, 'lots': 1193, 'obvious': 1194, 'mom': 1195, 'mail': 1196, 'd12': 1197, 'surely': 1198, 'speaking': 1199, 'nobody': 1200, 'taken': 1201, 'officially': 1202, 'v-bucks': 1203, 'episode': 1204, 'user': 1205, 'pro': 1206, 'ended': 1207, 'sleep': 1208, 'clear': 1209, 'version': 1210, 'saudi': 1211, 'prince': 1212, 'linda': 1213, 'babies': 1214, 'often': 1215, 'seem': 1216, 'mine': 1217, '2nd': 1218, 'forever': 1219, 'hat': 1220, 'partners': 1221, 'bolton': 1222, 'pack': 1223, 'spotify': 1224, 'currency': 1225, 'hub': 1226, 'dollars': 1227, 'ppl': 1228, 'waste': 1229, 'raised': 1230, 'kid': 1231, 'died': 1232, 'except': 1233, 'published': 1234, '☕': 1235, 'youtube': 1236, 'folks': 1237, 'realize': 1238, 'worthy': 1239, 'hand': 1240, 'hell': 1241, 'collection': 1242, 'garbage': 1243, 'defense': 1244, 'bed': 1245, 'bug': 1246, 'round': 1247, 'hopping': 1248, 'hobby': 1249, 'color': 1250, '.  .': 1251, 'fear': 1252, 'rest': 1253, 'star': 1254, '•': 1255, 'goodies': 1256, 'reading': 1257, 'store': 1258, 'test': 1259, 'proceedings': 1260, 'arpaio': 1261, 'libera': 1262, 'crime': 1263, 'russia': 1264, 'benefits': 1265, 'fantastic': 1266, 'liberal': 1267, 'generation': 1268, 'stick': 1269, 'detailed': 1270, 'canada': 1271, 'career': 1272, 'epic': 1273, 'park': 1274, 'hold': 1275, 'took': 1276, 'grand': 1277, '⇨': 1278, 'banking': 1279, 'wife': 1280, 'none': 1281, 'reporting': 1282, 'lies': 1283, 'usually': 1284, 'brilliant': 1285, 'merkel': 1286, 'board': 1287, 'simple': 1288, 'delightful': 1289, 'sexy': 1290, 'fight': 1291, 'sick': 1292, 'whos': 1293, 'ft': 1294, 'okay': 1295, '👌': 1296, 'piece': 1297, 'content': 1298, 'freedom': 1299, 'impact': 1300, 'busy': 1301, 'moving': 1302, 'disappointed': 1303, 'grade': 1304, 'awp': 1305, 'theyve': 1306, 'leader': 1307, 'example': 1308, 'currently': 1309, 'sun': 1310, '्': 1311, 'ं': 1312, 'cut': 1313, 'accounts': 1314, 'value': 1315, 'draw': 1316, 'plz': 1317, 'sitting': 1318, 'seriously': 1319, 'stories': 1320, 'drugs': 1321, 'dating': 1322, 'area': 1323, '🌷': 1324, 'writing': 1325, 'blame': 1326, 'celebration': 1327, 'background': 1328, 'space': 1329, 'tho': 1330, 'firm': 1331, 'ground': 1332, 'entire': 1333, 'created': 1334, 'stupid': 1335, '21st': 1336, 'murdered': 1337, 'soros': 1338, 'weve': 1339, 'instant': 1340, 'deserve': 1341, 'mention': 1342, 'whatever': 1343, 'fully': 1344, 'environment': 1345, 'anniversary': 1346, 'yea': 1347, 'jump': 1348, 'light': 1349, 'amazon': 1350, 'soul': 1351, 'creating': 1352, 'violent': 1353, 'reach': 1354, 'cause': 1355, 'cost': 1356, 'child': 1357, '😊': 1358, 'yup': 1359, 'winning': 1360, 'ago': 1361, 'attacks': 1362, 'success': 1363, 'insulting': 1364, 'taxes': 1365, 'era': 1366, 'youth': 1367, '12th': 1368, 'offers': 1369, 'paid': 1370, 'energy': 1371, 'autistic': 1372, 'powerful': 1373, 'film': 1374, 'anyway': 1375, 'skin': 1376, 'cafe': 1377, 'crore': 1378, 'bounty': 1379, 'goal': 1380, 'coverage': 1381, 'bomber': 1382, 'engineer': 1383, 'military': 1384, 'stream': 1385, '`': 1386, 'student': 1387, 'program': 1388, 'weekly': 1389, 'villa': 1390, 'trumps': 1391, 'upset': 1392, 'DGDGDG.DGDG': 1393, 'border': 1394, 'written': 1395, 'remove': 1396, 'claim': 1397, 'medical': 1398, 'driving': 1399, 'complete': 1400, 'design': 1401, 'die': 1402, 'featured': 1403, 'da': 1404, 'mark': 1405, 'betting': 1406, 'caught': 1407, '😩': 1408, '💕': 1409, 'church': 1410, 'thread': 1411, 'jesus': 1412, '🐣': 1413, 'sharing': 1414, 'families': 1415, 'major': 1416, 'modern': 1417, 'society': 1418, 'played': 1419, 'rain': 1420, 'omg': 1421, 'supporters': 1422, 'airport': 1423, 'british': 1424, 'tip': 1425, 'trip': 1426, 'ipl': 1427, 'baby': 1428, 'hypocrisy': 1429, '🚨': 1430, 'killed': 1431, 'deutsche': 1432, 'governed': 1433, 'street': 1434, 'filled': 1435, 'cities': 1436, 'binance': 1437, 'bulletproof': 1438, 'confidential': 1439, 'certain': 1440, 'winners': 1441, 'checkout': 1442, 'flight': 1443, 'steal': 1444, 'ai': 1445, 'beer': 1446, 'effort': 1447, 'needed': 1448, '. . .': 1449, 'programming': 1450, 'scandal': 1451, '🍀': 1452, 'millions': 1453, 'conversation': 1454, 'usual': 1455, 'hurt': 1456, 'ज': 1457, 'व': 1458, 'ि': 1459, 'beauty': 1460, 'gay': 1461, '⏬': 1462, 'seeing': 1463, 'performance': 1464, 'leaders': 1465, 'killing': 1466, '😫': 1467, 'austin': 1468, 'mining': 1469, 'status': 1470, 'bbc': 1471, 'chicago': 1472, 'common': 1473, 'protection': 1474, 'begin': 1475, 'fresh': 1476, '°': 1477, 'allows': 1478, 'mass': 1479, 'protecting': 1480, 'near': 1481, 'blood': 1482, 'corrupt': 1483, 'talal': 1484, 'cent': 1485, 'sarsour': 1486, 'connect': 1487, 'opportunities': 1488, 'junhoe': 1489, 'yunhyeong': 1490, 'mirror': 1491, '😑': 1492, 'block': 1493, 'ride': 1494, 'study': 1495, 'beginning': 1496, 'pm': 1497, 'parenthood': 1498, 'record': 1499, 'roll': 1500, 'opportunity': 1501, 'ji': 1502, 'christian': 1503, 'election': 1504, 'insert': 1505, 'congrats': 1506, 'leading': 1507, 'gold': 1508, 'hosting': 1509, 'cows': 1510, 'thoughts': 1511, 'mar': 1512, 'honestly': 1513, 'xrp': 1514, 'arab': 1515, 'doha': 1516, 'qatar': 1517, 'august': 1518, 'vouchers': 1519, 'berlin': 1520, 'flag': 1521, 'assets': 1522, 'educated': 1523, 'ads': 1524, 'superpower': 1525, 'injured': 1526, '⏰': 1527, 'adult': 1528, 'built': 1529, 'spending': 1530, 'customers': 1531, 'battle': 1532, 'self': 1533, 'sell': 1534, 'captain': 1535, 'brown': 1536, 'inspired': 1537, 'mobile': 1538, 'unique': 1539, 'eli': 1540, 'received': 1541, 'judge': 1542, 'actions': 1543, 'policy': 1544, 'yasss': 1545, 'southern': 1546, 'puerto': 1547, 'sales': 1548, 'animal': 1549, 'graphics': 1550, 'designer': 1551, 'ass': 1552, 'tried': 1553, 'changing': 1554, 'court': 1555, 'comments': 1556, 'songs': 1557, 'positive': 1558, 'training': 1559, 'shirt': 1560, 'bunch': 1561, 'south': 1562, 'wired': 1563, 'obviously': 1564, 'practice': 1565, 'xbox': 1566, 'ps4': 1567, 'daughter': 1568, 'murder': 1569, 'gone': 1570, 'style': 1571, 'threat': 1572, '♥': 1573, 'adding': 1574, 'cars': 1575, 'decides': 1576, 'traffic': 1577, '4th': 1578, 'east': 1579, 'healthcare': 1580, 'apple': 1581, 'crowd': 1582, 'bet': 1583, 'statement': 1584, 'hearing': 1585, 'classy': 1586, 'tricks': 1587, 'models': 1588, 'grab': 1589, 'voice': 1590, 'growing': 1591, 'tihosay': 1592, 'robots': 1593, 'late': 1594, '💯': 1595, 'putting': 1596, 'officers': 1597, 'cum': 1598, 'assistant': 1599, 'DGDG-DGDGDGDGDG': 1600, '🎂': 1601, 'failed': 1602, 'guide': 1603, 'green': 1604, '🎵': 1605, 'calls': 1606, 'outside': 1607, 'k': 1608, 'thousands': 1609, 'fall': 1610, 'activist': 1611, 'hogg': 1612, 'planning': 1613, 'earn': 1614, 'overview': 1615, 'tr': 1616, 'personal': 1617, 'couple': 1618, 'saturday': 1619, 'brain': 1620, 'attempt': 1621, 'artificial': 1622, 'channel': 1623, 'cry': 1624, 'shift': 1625, 'stand': 1626, '💫': 1627, 'individual': 1628, 'threats': 1629, 'spend': 1630, 'cambridge': 1631, 'former': 1632, 'graphite': 1633, 'limit': 1634, 'broke': 1635, 'boys': 1636, 'technologies': 1637, 'cards': 1638, 'billion': 1639, 'cheating': 1640, 'current': 1641, 'terrorism': 1642, 'photos': 1643, 'base': 1644, 'quick': 1645, 'bought': 1646, 'warm': 1647, 'football': 1648, 'low': 1649, 'indeed': 1650, '::': 1651, 'shootings': 1652, 'son': 1653, 'china': 1654, 'videos': 1655, 'cc': 1656, 'mi': 1657, 'turns': 1658, '🇬': 1659, '🇧': 1660, 'likely': 1661, 'touch': 1662, '˚': 1663, 'exist': 1664, 'ar': 1665, 'useful': 1666, 'btpcrowdsale': 1667, 'loss': 1668, 'brought': 1669, 'receive': 1670, 'wanting': 1671, 'weather': 1672, 'half': 1673, 'bar': 1674, 'caption': 1675, 'uploades': 1676, 'racing': 1677, 'uses': 1678, 'brave': 1679, 'pre-sale': 1680, '💩': 1681, 'integrity': 1682, 'sit': 1683, 'aint': 1684, 'non': 1685, 'financial': 1686, 'theyll': 1687, '😀': 1688, 'extremely': 1689, '☀': 1690, 'tune': 1691, 'yall': 1692, 'considered': 1693, 'bitrace': 1694, 'amount': 1695, 'plane': 1696, 'language': 1697, 'killers': 1698, 'elected': 1699, 'nah': 1700, 'sold': 1701, 'known': 1702, 'brings': 1703, 'shout': 1704, '📚': 1705, 'signed': 1706, 'books': 1707, 'workout': 1708, '💪': 1709, 'tweeted': 1710, 'chase': 1711, 'dress': 1712, 'carry': 1713, 'thinks': 1714, 'businesses': 1715, 'insult': 1716, 'hairflip': 1717, 'doodle': 1718, 'action': 1719, 'masternode': 1720, 'selection': 1721, 'corruption': 1722, 'wise': 1723, 'office': 1724, 'falls': 1725, 'holding': 1726, 'pc': 1727, 'ways': 1728, 'goodbye': 1729, 'yrs': 1730, 'ah': 1731, 'walk': 1732, 'highly': 1733, 'cannot': 1734, 'teams': 1735, 'telling': 1736, 'raw': 1737, 'justice': 1738, 'shame': 1739, 'catch': 1740, 'proof': 1741, 'decentralized': 1742, 'innovation': 1743, 'il': 1744, 'worse': 1745, 'shipping': 1746, 'services': 1747, 'sadly': 1748, 'DGDG.DG': 1749, 'vital': 1750, 'shoot': 1751, 'similar': 1752, 'yo': 1753, 'rico': 1754, 'nation': 1755, 'trends': 1756, 'related': 1757, 'names': 1758, 'figure': 1759, 'decision': 1760, 'governor': 1761, 'calling': 1762, 'november': 1763, 'playoffs': 1764, 'chemical': 1765, 'frame': 1766, 'fault': 1767, 'updated': 1768, 'europe': 1769, 'loves': 1770, 'fam': 1771, 'directly': 1772, 'voucher': 1773, 'muslim': 1774, 'fact': 1775, 'drop': 1776, 'infographic': 1777, 'crash': 1778, '🤗': 1779, 'fail': 1780, '🐰': 1781, 'bag': 1782, 'communities': 1783, 'rajasthan': 1784, 'royals': 1785, '😏': 1786, 'date': 1787, 'shower': 1788, 'across': 1789, 'systems': 1790, 'oz': 1791, 'director': 1792, 'zero': 1793, 'dad': 1794, 'bus': 1795, 'stars': 1796, 'participate': 1797, 'etc': 1798, 'cpr': 1799, 'cares': 1800, 'feet': 1801, 'exclusive': 1802, 'waiting': 1803, 'alive': 1804, 'inauguration': 1805, '🌻': 1806, 'goodness': 1807, '📣': 1808, 'sea': 1809, 'taught': 1810, 'device': 1811, 'bets': 1812, 'text': 1813, 'aware': 1814, 'bureau': 1815, 'buyout': 1816, 'declined': 1817, 'developer': 1818, 'dog': 1819, 'role': 1820, 'cops': 1821, 'http': 1822, '😃': 1823, 'rise': 1824, 'rocking': 1825, 'wireless': 1826, 'sound': 1827, '🏁': 1828, 'claims': 1829, 'bc': 1830, 'emma': 1831, 'matters': 1832, 'keeping': 1833, 'federal': 1834, '{': 1835, '}': 1836, 'stunning': 1837, 'registering': 1838, 'deposit': 1839, 'commit': 1840, 'supporting': 1841, 'fellow': 1842, 'wanna': 1843, 'resources': 1844, 'schnorr': 1845, 'signatures': 1846, 'charge': 1847, 'fruits': 1848, '🔜': 1849, 'oil': 1850, 'anywhere': 1851, '◀': 1852, 'contracts': 1853, 'closer': 1854, 'method': 1855, 'visa': 1856, 'selling': 1857, 'roman': 1858, 'secure': 1859, 'key': 1860, 'crews': 1861, 'speed': 1862, 'effective': 1863, 'constitution': 1864, 'st': 1865, 'wins': 1866, '🙂': 1867, 'products': 1868, 'west': 1869, 'bundle': 1870, 'analytica': 1871, '☘': 1872, '🌿': 1873, 'leg': 1874, 'counting': 1875, 'runs': 1876, 'events': 1877, 'shed': 1878, 'dr': 1879, 'cell': 1880, 'phones': 1881, 'criminals': 1882, 'station': 1883, 'gis': 1884, 'favourite': 1885, 'gif': 1886, 'ह': 1887, 'member': 1888, '🥇': 1889, 'teachers': 1890, 'easily': 1891, 'mix': 1892, '30th': 1893, 'parents': 1894, 'opinion': 1895, 'loading': 1896, 'DG/DGDG': 1897, '❗': 1898, 'period': 1899, 'ad': 1900, 'concept': 1901, 'assume': 1902, '3rd': 1903, 'sexual': 1904, 'estate': 1905, 'asked': 1906, 'original': 1907, 'hiring': 1908, 'sees': 1909, 'willing': 1910, 'headset': 1911, 'anime': 1912, 'rewards': 1913, 'lord': 1914, 'infrastructure': 1915, 'mo4ch': 1916, 'guest': 1917, 'shared': 1918, 'pants': 1919, 'beyond': 1920, 'shouldn': 1921, 'lower': 1922, 'register': 1923, 'management': 1924, 'checks': 1925, 'gorgeous': 1926, 'dan': 1927, 'difficult': 1928, 'dev': 1929, 'logo': 1930, '2a': 1931, 'agreement': 1932, 'sext': 1933, 'asompo': 1934, 'trillion': 1935, ':d': 1936, 'jimmy': 1937, 'prod': 1938, 'among': 1939, 'fat': 1940, 'disease': 1941, 'roe': 1942, 'wade.why': 1943, 'weight': 1944, 'recall': 1945, 'tradition': 1946, 'protesters': 1947, 'arrived': 1948, 'custom': 1949, 'income': 1950, '🇷': 1951, 'integration': 1952, 'sites': 1953, 'religion': 1954, '😅': 1955, 'payments': 1956, 'programs': 1957, 'pp': 1958, 'fundingdo': 1959, 'sport': 1960, 'cop': 1961, 'input': 1962, 'yep': 1963, 'fancy': 1964, 'couldn': 1965, 'twitch': 1966, 'announcement': 1967, 'communication': 1968, 'putin': 1969, 'syria': 1970, 'aaron': 1971, 'cups': 1972, 'huh': 1973, 'automatically': 1974, 'kinda': 1975, 'hannity': 1976, 'george': 1977, 'peter': 1978, 'digitalprice': 1979, 'expanding': 1980, 'thx': 1981, 'understanding': 1982, 'advanced': 1983, 'paris': 1984, 'developpements': 1985, 'literally': 1986, 'champ': 1987, 'guessed': 1988, 'android': 1989, 'reported': 1990, 'islam': 1991, 'heroes': 1992, 'paintings': 1993, 'watches': 1994, 'express': 1995, 'limited': 1996, 'remind': 1997, 'targeted': 1998, 'basketball': 1999, 'changes': 2000, 'stomach': 2001, 'schedule': 2002, 'fish': 2003, 'dumb': 2004, 'cram': 2005, 'culture': 2006, 'copy': 2007, 'prices': 2008, 'worst': 2009, 'hunting': 2010, 'impossible': 2011, '🍷': 2012, 'meh': 2013, 'grown': 2014, 'budget': 2015, 'magic': 2016, 'owners': 2017, 'spen': 2018, 'hasnt': 2019, 'strongest': 2020, 'communit': 2021, 'novel': 2022, 'rocks': 2023, 'ridiculous': 2024, 'khan': 2025, 'recently': 2026, 'cuts': 2027, 'conservative': 2028, 'character': 2029, 'holy': 2030, 'patrolling': 2031, 'science': 2032, 'bhai': 2033, 'minister': 2034, 'hiding': 2035, 'unless': 2036, 'bags': 2037, '😄': 2038, 'whether': 2039, 'worried': 2040, 'raise': 2041, 'boxed': 2042, 'finger': 2043, 'gender': 2044, 'eye': 2045, 'parkland': 2046, 'la': 2047, 'slow': 2048, 'cup': 2049, 'ours': 2050, 'cat': 2051, 'mins': 2052, 'icos': 2053, 'centreville': 2054, 'hello': 2055, 'setting': 2056, 'zone': 2057, 'reply': 2058, 'reports': 2059, '25th': 2060, 'importance': 2061, 'advisor': 2062, 'wood': 2063, 'visual': 2064, 'journey': 2065, 'owning': 2066, 'door': 2067, 'armed': 2068, 'lunch': 2069, 'local': 2070, 'required': 2071, '🎾': 2072, 'pull': 2073, 'spot': 2074, 'conference': 2075, 'later': 2076, 'marvel': 2077, 'wi': 2078, 'above': 2079, 'simon': 2080, 'boots': 2081, 'penis': 2082, 'bigger': 2083, 'limits': 2084, 'storm': 2085, 'lmao': 2086, 'terrorists': 2087, 'haters': 2088, 'type': 2089, 'escape': 2090, 'leads': 2091, 'shall': 2092, 'reveals': 2093, 'listing': 2094, 'shows': 2095, 'ethereum': 2096, 'analysis': 2097, 'btw': 2098, 'harassment': 2099, 'lying': 2100, 'missing': 2101, '📻': 2102, '🎧': 2103, 'apps': 2104, 'bath': 2105, 'places': 2106, 'banning': 2107, 'relevant': 2108, 'stable': 2109, 'county': 2110, 'feed': 2111, 'deleted': 2112, '👑': 2113, '💝': 2114, '🆒': 2115, 'refuse': 2116, 'hire': 2117, ':-)': 2118, 'institute': 2119, 'develop': 2120, 'nodes': 2121, 'minds': 2122, 'purpose': 2123, 'junior': 2124, 'tired': 2125, 'safely': 2126, 'chinese': 2127, 'repeating': 2128, 'hitler': 2129, 'germany': 2130, 'puts': 2131, '😆': 2132, 'showed': 2133, 'package': 2134, 'glass': 2135, 'promoting': 2136, 'warning': 2137, 'teach': 2138, 'passed': 2139, 'san': 2140, 'francisco': 2141, 'advice': 2142, 'beach': 2143, 'survive': 2144, 'nuts': 2145, 'majority': 2146, 'century': 2147, 'congratulations': 2148, 'software': 2149, 'voting': 2150, 'retail': 2151, 'doubt': 2152, 'cryptocurrencies': 2153, 'dm': 2154, '⟹': 2155, 'japan': 2156, 'certainly': 2157, 'afford': 2158, 'stellar': 2159, 'speech': 2160, 'expect': 2161, 'strong': 2162, 'message': 2163, 'western': 2164, 'laugh': 2165, 'egg': 2166, 'french': 2167, 'mad': 2168, 'tea': 2169, 'lake': 2170, 'screen': 2171, 'smartphone': 2172, 'adults': 2173, 'mexico': 2174, 'reaching': 2175, 'terrible': 2176, '🤢': 2177, 'afraid': 2178, 'bitch': 2179, 'urgent': 2180, 'hospital': 2181, 'stands': 2182, 'humans': 2183, 'bike': 2184, 'gop': 2185, 'transactions': 2186, 'recent': 2187, 'reasonable': 2188, 'regular': 2189, 'investors': 2190, '🏾': 2191, 'experts': 2192, 'values': 2193, 'DGDGDGDG.DGDG': 2194, 'dirty': 2195, 'प': 2196, 'य': 2197, 'israel': 2198, 'promote': 2199, 'inc': 2200, 'older': 2201, 'provide': 2202, 'filing': 2203, 'paul': 2204, 'jokes': 2205, 'drug': 2206, 'markets': 2207, 'purchase': 2208, 'anthony': 2209, 'conditt': 2210, 'travel': 2211, 'eating': 2212, 'likes': 2213, 'dogs': 2214, 'rule': 2215, 'innocent': 2216, '👀': 2217, 'bro': 2218, 'leadership': 2219, 'partner': 2220, 'investment': 2221, ';)': 2222, '->': 2223, 'fiverrneed': 2224, 'gym': 2225, 'operation': 2226, 'soft': 2227, 'shots': 2228, 'dance': 2229, 'however': 2230, 'feelings': 2231, 'cuz': 2232, '🏿': 2233, 'mouth': 2234, 'due': 2235, 'wake': 2236, 'activists': 2237, 'seat': 2238, 'tablet': 2239, 'awards': 2240, '☝': 2241, 'flow': 2242, 'initial': 2243, 'invite': 2244, 'accuracy': 2245, 'countries': 2246, 'fb': 2247, 'decide': 2248, 'losing': 2249, 'experienced': 2250, 'balls': 2251, 'mentally': 2252, 'tournament': 2253, 'worlds': 2254, 'union': 2255, 'grow': 2256, 'reverse': 2257, 'legit': 2258, 'salty': 2259, '🇲': 2260, '🇾': 2261, 'universe': 2262, 'moments': 2263, 'winds': 2264, '❄': 2265, '😬': 2266, 'steel': 2267, 'machines': 2268, 'stocks': 2269, 'poster': 2270, 'founder': 2271, 'host': 2272, '💔': 2273, '➤': 2274, 'distributes': 2275, 'smell': 2276, 'signal': 2277, 'responsible': 2278, 'universal': 2279, 'luvelli': 2280, 'shut': 2281, 'uber': 2282, 'self-driving': 2283, 'noise': 2284, 'wed': 2285, 'wave': 2286, 'identity': 2287, 'hackers': 2288, 'tongue': 2289, 'pain': 2290, 'unexpected': 2291, 'shock': 2292, '😭': 2293, '😓': 2294, 'panel': 2295, 'farm': 2296, 'mulder': 2297, 'scully': 2298, 'vision': 2299, 'gain': 2300, 'gross': 2301, 'fools': 2302, 'disarm': 2303, 'burning': 2304, 'soo': 2305, 'fed': 2306, 'delivery': 2307, 'trouble': 2308, 'porn': 2309, 'priority': 2310, '🇰': 2311, 'korean': 2312, 'biased': 2313, 'tour': 2314, 'nazi': 2315, 'administration': 2316, 'sh': 2317, 'feat': 2318, 'religious': 2319, 'wordpress': 2320, 'benefit': 2321, 'unit': 2322, 'pleasure': 2323, '⚡': 2324, 'discussing': 2325, 'ship': 2326, 'broken': 2327, 'winter': 2328, 'general': 2329, 'msm': 2330, 'till': 2331, 'pre': 2332, 'evolution': 2333, 'tim': 2334, 'oracle': 2335, 'hardware': 2336, 'muslims': 2337, 'band': 2338, 'strict': 2339, 'solve': 2340, 'potatoes': 2341, 'fixing': 2342, 'dvd': 2343, 'downtown': 2344, 'wore': 2345, 'cap': 2346, 'channels': 2347, 'reserved': 2348, 'hide': 2349, 'favour': 2350, 'duh': 2351, 'disagree': 2352, 'advance': 2353, 'borders': 2354, 'bingo': 2355, 'edge': 2356, 'breath': 2357, 'webmd': 2358, 'aid': 2359, '🌏': 2360, 'senior': 2361, 'dash': 2362, 'republicans': 2363, 'mathematics': 2364, 'shop': 2365, 'absolute': 2366, 'scandals': 2367, 'sterlite': 2368, 'copper': 2369, 'miles': 2370, '☺': 2371, 'evening': 2372, 'staff': 2373, 'ignore': 2374, 'nirav': 2375, 'seized': 2376, 'mf': 2377, 'hussain': 2378, 'cro': 2379, 'became': 2380, 'jordan': 2381, 'queens': 2382, 'breathtaking': 2383, 'force': 2384, 'heaven': 2385, 'florida': 2386, 'file': 2387, 'enjoying': 2388, 'demo': 2389, 'capturing': 2390, 'reposting': 2391, 'useless': 2392, 'solo': 2393, 'session': 2394, 'lego': 2395, 'recipes': 2396, 'prime': 2397, 'dying': 2398, 'bullets': 2399, 'bodies': 2400, '🍻': 2401, 'reality': 2402, 'promo': 2403, 'feature': 2404, 'map': 2405, 'disney': 2406, 'shooter': 2407, 'tweeting': 2408, 'mikal': 2409, 'leg-spinner': 2410, 'quetta': 2411, 'fuckin': 2412, 'presidency': 2413, 'illuminati': 2414, 'politics': 2415, 'ga': 2416, 'chantilly': 2417, 'highlands': 2418, 'pac': 2419, 'saw': 2420, 'respond': 2421, 'print': 2422, 'debate': 2423, 'monsta': 2424, 'cover': 2425, 'prepare': 2426, 'clothing': 2427, 'listening': 2428, 'lack': 2429, 'standard': 2430, 'floral': 2431, 'cake': 2432, 'include': 2433, 'advantage': 2434, '❥': 2435, 'source': 2436, 'offended': 2437, 'farms': 2438, 'association': 2439, 'ugly': 2440, 'merchandise': 2441, 'cancer': 2442, 'stage': 2443, 'applications': 2444, 'africa': 2445, 'basically': 2446, 'wouldn': 2447, 'van': 2448, '💛': 2449, 'democracy': 2450, 'cute': 2451, 'surfaces': 2452, 'launching': 2453, 'evidence': 2454, 'golf': 2455, 'hmmm': 2456, 'wishes': 2457, 'forgive': 2458, 'driver': 2459, 'keeps': 2460, 'foreign': 2461, 'foot': 2462, 'xd': 2463, 'luxuryhello': 2464, 'sack': 2465, 'finest': 2466, 'kg': 2467, 'chris': 2468, '▪': 2469, 'ransomware': 2470, 'ki': 2471, 'duty': 2472, '🙈': 2473, 'electric': 2474, 'cheat': 2475, 'cooper': 2476, 'kerr': 2477, 'starters': 2478, 'blacks': 2479, 'recorded': 2480, 'founding': 2481, 'angry': 2482, 'pwas': 2483, 'vue.js': 2484, 'le': 2485, 'magazine': 2486, 'figured': 2487, 'victim': 2488, 'wound': 2489, 'dns': 2490, 'italy': 2491, 'un': 2492, 'reminder': 2493, 'obamas': 2494, 'presale': 2495, 'hunter': 2496, 'floor': 2497, 'ticket': 2498, 'parental': 2499, 'psl': 2500, 'sc': 2501, 'talks': 2502, 'creative': 2503, '🙅': 2504, 'poll': 2505, 'informed': 2506, 'sucks': 2507, 'remudo': 2508, 'tells': 2509, 'pure': 2510, 'entertainment': 2511, 'route': 2512, 'within': 2513, 'nope': 2514, 'gangs': 2515, 'unknown': 2516, 'fucked': 2517, 'announcing': 2518, 'amazed': 2519, 'gives': 2520, 'steps': 2521, 'sends': 2522, 'championship': 2523, 'xbl': 2524, 'drawing': 2525, 'gl': 2526, 'seas': 2527, '💿': 2528, 'angel': 2529, 'asshole': 2530, 'sprinklers': 2531, 'baseball': 2532, 'bts': 2533, 'clearview': 2534, 'interest': 2535, 'politician': 2536, 'gonzalez': 2537, 'expire': 2538, 'dc': 2539, 'variety': 2540, 'gee': 2541, 'shocker': 2542, 'discuss': 2543, 'paypal': 2544, 'stops': 2545, 'mood': 2546, 'exercise': 2547, 'movement': 2548, 'fbi': 2549, 'james': 2550, 'arm': 2551, 'fly': 2552, 'goods': 2553, 'accessories': 2554, 'actor': 2555, 'mandatory': 2556, 'humanity': 2557, 'companies': 2558, 'stopped': 2559, 'protocol': 2560, 'plain': 2561, 'appreciate': 2562, 'tree': 2563, 'payment': 2564, 'seoul': 2565, 'bright': 2566, 'harsh': 2567, 'surgery': 2568, 'taste': 2569, 'obsessed': 2570, 'sky': 2571, 'core': 2572, 'irony': 2573, 'blocked': 2574, 'met': 2575, 'manning': 2576, 'fearsome': 2577, 'reportedly': 2578, 'cigarette': 2579, 'donny': 2580, 'cricketer': 2581, 'coins': 2582, 'approach': 2583, 'pride': 2584, 'santander': 2585, 'large': 2586, 'cross': 2587, 'requires': 2588, 'thankful': 2589, 'elementary': 2590, 'arabic': 2591, 'lang': 2592, 'rifle': 2593, 'centre': 2594, 'workers': 2595, 'tee': 2596, 'haven': 2597, 'fav': 2598, 'fitness': 2599, 'ts': 2600, 'casino': 2601, 'perfected': 2602, 'torturing': 2603, 'refugees': 2604, 'venerating': 2605, 'cabal': 2606, 'tough': 2607, 'cloud': 2608, 'fucks': 2609, 'explained': 2610, 'introduce': 2611, 'studying': 2612, 'bird': 2613, 'cape': 2614, 'tinder': 2615, 'ka': 2616, 'easier': 2617, 'finds': 2618, 'criminal': 2619, '☆': 2620, '💦': 2621, 'employment': 2622, 'perfectly': 2623, 'candidate': 2624, 'peace': 2625, 'buses': 2626, 'tool': 2627, 'loan': 2628, 'avoid': 2629, 'housing': 2630, 'permission': 2631, 'fabulous': 2632, 'tampering': 2633, 'abt': 2634, 'personality': 2635, 'chips': 2636, 'rare': 2637, 'ड': 2638, 'ु': 2639, 'ख': 2640, 'म': 2641, 'ठ': 2642, 'ग': 2643, 'स': 2644, 'न': 2645, 'results': 2646, 'crisis': 2647, 'scientists': 2648, 'spots': 2649, 'lyrics': 2650, 'intelligent': 2651, '✅': 2652, '🤑': 2653, 'california': 2654, 'updates': 2655, 'logic': 2656, 'web': 2657, 'fears': 2658, 'depends': 2659, 'plans': 2660, 'iq': 2661, 'gi': 2662, 'wisdom': 2663, 'silly': 2664, 'july': 2665, 'startup': 2666, 'trailer': 2667, 'protein': 2668, 'node': 2669, 'actual': 2670, 'closed': 2671, 'inches': 2672, 'talented': 2673, 'female': 2674, 'corporate': 2675, 'elder': 2676, 'onomora': 2677, 'harder': 2678, 'ca': 2679, 'analytics': 2680, '‼': 2681, 'harry': 2682, 'tourbillon': 2683, 'awww': 2684, 'diet': 2685, 'arriving': 2686, 'covered': 2687, 'drinking': 2688, 'holiday': 2689, 'picked': 2690, 'options': 2691, 'startups': 2692, 'techcrunch': 2693, 'insider': 2694, 'fruit': 2695, 'plastic': 2696, 'pom': 2697, 'contact': 2698, 'process': 2699, 'animals': 2700, 'matches': 2701, 'deserves': 2702, 'se': 2703, 'maintaining': 2704, 'amp': 2705, 'minute': 2706, 'refill': 2707, 'urge': 2708, 'methods': 2709, 'glow': 2710, 'kudos': 2711, 'co': 2712, 'opened': 2713, 'emoji': 2714, 'thrilled': 2715, 'promotion': 2716, 'pictures': 2717, 'conway': 2718, 'classes': 2719, 'term': 2720, 'critical': 2721, 'resource': 2722, 'garden': 2723, 'concern': 2724, 'voters': 2725, '😲': 2726, '🏃': 2727, 'shopping': 2728, 'organization': 2729, 'prevention': 2730, 'continues': 2731, 'explain': 2732, 'marching': 2733, 'nahi': 2734, 'cream': 2735, 'burn': 2736, 'everywhere': 2737, 'surprising': 2738, 'staring': 2739, 'nations': 2740, 'research': 2741, 'sweat': 2742, 'agile': 2743, 'field': 2744, 'kidding': 2745, 'deserved': 2746, 'coach': 2747, 'switch': 2748, 'shoulder': 2749, 'ending': 2750, 'fred': 2751, 'trial': 2752, 'injection': 2753, 'cybersecurity': 2754, 'los': 2755, 'stress': 2756, 'album': 2757, 'wrestling': 2758, 'mill': 2759, 'pool': 2760, 'democrat': 2761, 'marital': 2762, 'liked': 2763, 'honest': 2764, 'giant': 2765, '-->': 2766, 'suddenly': 2767, 'finished': 2768, 'characters': 2769, 'lange': 2770, 'alert': 2771, 'wasn': 2772, 'exploits': 2773, 'nail': 2774, 'applying': 2775, 'further': 2776, 'mo': 2777, 'seconds': 2778, 'fatigue': 2779, 'depression': 2780, 'musk': 2781, 'blogger': 2782, 'title': 2783, '📷': 2784, '😋': 2785, 'serial': 2786, '😮': 2787, 'supports': 2788, 'skill': 2789, 'beard': 2790, 'combination': 2791, 'ltd': 2792, 'jacket': 2793, 'monkey': 2794, 'king': 2795, '4g': 2796, 'integrated': 2797, 'specialist': 2798, '🍕': 2799, 'constantly': 2800, 'formula': 2801, 'kicked': 2802, 'pc-xbox-ps': 2803, 'snowing': 2804, 'caused': 2805, 'tn': 2806, '🥁': 2807, 'rising': 2808, 'victory': 2809, 'decorate': 2810, '=)': 2811, 'manage': 2812, 'carter': 2813, 'pregnant': 2814, 'committed': 2815, 'kimmel': 2816, 'swing': 2817, 'owned': 2818, 'owns': 2819, 'launched': 2820, 'ensure': 2821, 'joined': 2822, 'embarrassed': 2823, 'ladies': 2824, 'liking': 2825, 'rude': 2826, 'employee': 2827, 'passive': 2828, '➖': 2829, 'foul': 2830, 'legislation': 2831, 'handy': 2832, 'forgotten': 2833, 'tbolton': 2834, 'ho': 2835, 'hang': 2836, 'wild': 2837, 'accept': 2838, 'abroad': 2839, 'exid': 2840, 'teaser': 2841, 'diversity': 2842, 'standardized': 2843, 'lazy': 2844, 'blahhh': 2845, 'sink': 2846, 'crew': 2847, 'bye': 2848, 'rock': 2849, 'resolved': 2850, 'xyo': 2851, 'blockchains': 2852, 'rank': 2853, 'piss': 2854, 'republic': 2855, 'def': 2856, 'outstanding': 2857, 'seasons': 2858, 'passport': 2859, 'assuming': 2860, 'sister': 2861, 'smartphones': 2862, 'treating': 2863, 'expected': 2864, 'hamper': 2865, '🎤': 2866, 'ten': 2867, 'hopefully': 2868, 'charity': 2869, 'becoming': 2870, 'collusion': 2871, 'pray': 2872, 'fluent': 2873, 'accurate': 2874, 'miranda': 2875, 'generate': 2876, 'revenue': 2877, 'sean': 2878, 'finance': 2879, 'anna': 2880, 'sovereignty': 2881, 'pursuit': 2882, 'react': 2883, 'choose': 2884, 'sort': 2885, 'specially': 2886, 'actors': 2887, 'playlist': 2888, 'knife': 2889, 'giants': 2890, 'drawn': 2891, 'comeback': 2892, 'ed': 2893, 'bch': 2894, 'ltc': 2895, 'xmr': 2896, 'besides': 2897, 'flying': 2898, 'brock': 2899, 'suck': 2900, 'legacy': 2901, 'filmed': 2902, 'secured': 2903, 'attacked': 2904, 'allegations': 2905, 'narendra': 2906, 'confused': 2907, 'chaiwala': 2908, 'wondered': 2909, 'semifinals': 2910, 'query': 2911, 'pocs': 2912, 'loyola': 2913, 'measures': 2914, 'arming': 2915, 'location': 2916, 'listed': 2917, 'crap': 2918, 'focus': 2919, 'continue': 2920, 'marches': 2921, 'gods': 2922, 'ability': 2923, 'suppose': 2924, 'asset': 2925, 'royale': 2926, 'mode': 2927, 'client': 2928, 'insurance': 2929, 'ethical': 2930, 'improvement': 2931, 'delicious': 2932, 'innovations': 2933, 'ear': 2934, 'garage': 2935, 'fixed': 2936, 'judas': 2937, 'cardio': 2938, 'boring': 2939, 'hundreds': 2940, 'addresses': 2941, 'hotel': 2942, 'trx': 2943, 'tools': 2944, 'democrats': 2945, 'wrote': 2946, 'praise': 2947, 'shane': 2948, 'warne': 2949, 'trap': 2950, 'bloody': 2951, 'distributing': 2952, 'associate': 2953, 'va': 2954, 'fo': 2955, 'weak': 2956, 'utah': 2957, 'semi': 2958, 'offensive': 2959, 'headlines': 2960, 'apr': 2961, 'doctors': 2962, 'mate': 2963, 'nutrition': 2964, 'lied': 2965, 'wear': 2966, 'challenged': 2967, 'carefully': 2968, 'civilian': 2969, 'entering': 2970, 'si': 2971, 'console': 2972, 'kick': 2973, 'nap': 2974, 'heavy': 2975, 'fighting': 2976, 'weapon': 2977, 'served': 2978, 'judgement': 2979, 'holder': 2980, 'pace': 2981, 'adsigma': 2982, 'poisoning': 2983, 'contribute': 2984, 'z': 2985, 'rainbow': 2986, 'normal': 2987, '⃣': 2988, 'buying': 2989, 'mattress': 2990, 'proper': 2991, 'represent': 2992, 'quote': 2993, 'developers': 2994, 'principle': 2995, 'destroy': 2996, 'intended': 2997, 'mental': 2998, 'streaming': 2999, 'raspberry': 3000, 'whoa': 3001, 'explaining': 3002, 'q': 3003, '🎀': 3004, 'walls': 3005, 'shouldnt': 3006, 'airdropping': 3007, 'acts': 3008, 'pointing': 3009, 'snyder': 3010, 'fn': 3011, 'karma': 3012, 'guyprotected': 3013, 'inthe': 3014, 'correctly': 3015, 'popcorn': 3016, 'agents': 3017, 'cutting': 3018, 'iii': 3019, 'rd': 3020, 'acc': 3021, 'spotlight': 3022, 'lived': 3023, 'mn': 3024, 'computer': 3025, 'engineering': 3026, 'itty': 3027, 'bitty': 3028, 'hodgepodgedays': 3029, 'herndon': 3030, 'removed': 3031, 'multiplayer': 3032, 'suspicious': 3033, 'crossed': 3034, 'helps': 3035, 'snack': 3036, '10th': 3037, '✌': 3038, '🐥': 3039, 'differently': 3040, 'disgrace': 3041, 'bite': 3042, 'aka': 3043, 'stove': 3044, 'files': 3045, 'seeds': 3046, '18th': 3047, 'auditing': 3048, 'wrestlemania': 3049, 'ig': 3050, 'glitch': 3051, 'specific': 3052, '👈': 3053, 'iphone': 3054, 'shape': 3055, 'handle': 3056, 'ronald_vanloon': 3057, 'connecticut': 3058, 'prizes': 3059, 'danger': 3060, 'pic': 3061, '👤': 3062, 'emergency': 3063, 'investments': 3064, 'mini': 3065, 'frightened': 3066, 'trophy': 3067, 'cleaning': 3068, 'moved': 3069, 'lit': 3070, 'north': 3071, 'isolation': 3072, 'including': 3073, 'plays': 3074, 'thus': 3075, 'sentence.hes': 3076, 'dublin': 3077, 'font': 3078, 'officer': 3079, 'born': 3080, 'shake-up': 3081, 'transferred': 3082, 'anytime': 3083, 'sarah': 3084, 'generator': 3085, 'gps': 3086, 'indonesia': 3087, 'slut': 3088, 'beings': 3089, 'devops': 3090, 'camo': 3091, 'knight': 3092, 'trilogy': 3093, 'impression': 3094, 'husband': 3095, 'girlfriend': 3096, 'hop': 3097, '🐷': 3098, 'victims': 3099, 'purchased': 3100, 'explosive': 3101, 'complicated': 3102, 'prove': 3103, 'mckinsey': 3104, 'estimates': 3105, 'skills': 3106, 'duke': 3107, 'throws': 3108, 'dick': 3109, 'crying': 3110, 'alone': 3111, 'participation': 3112, 'j': 3113, 'hows': 3114, 'lyft': 3115, 'traditional': 3116, 'relate': 3117, 'wide': 3118, 'range': 3119, 'chocolate': 3120, 'lovers': 3121, 'alexa': 3122, 'sooooo': 3123, 'smile': 3124, 'bull': 3125, 'prevent': 3126, 'consumer': 3127, 'evolve': 3128, 'vibes': 3129, 'subscribe': 3130, 'chandelier': 3131, 'legs': 3132, 'narrative': 3133, 'friendly': 3134, 'attend': 3135, 'held': 3136, 'destroyed': 3137, 'ancient': 3138, 'hack': 3139, 'invited': 3140, 'hockey': 3141, 'boho': 3142, 'arguing': 3143, '19th': 3144, 'enjoyed': 3145, 'moscow': 3146, 'permanent': 3147, 'madness': 3148, 'anthem': 3149, 'meant': 3150, 'stones': 3151, 'melania': 3152, 'ecosystem': 3153, 'alonso': 3154, 'naughty': 3155, 'pitch': 3156, 'table': 3157, 'appreciated': 3158, 'vegetables': 3159, 'beans': 3160, 'promise': 3161, 'meddling': 3162, 'agenda': 3163, 'surprises': 3164, 'tutorial': 3165, 'compilation': 3166, 'interviews': 3167, '🤝': 3168, 'arrest': 3169, 'organized': 3170, 'fights': 3171, 'gas': 3172, 'toddler': 3173, 'heads': 3174, 'queen': 3175, 'leather': 3176, 'agency': 3177, 'lee': 3178, '💖': 3179, 'plate': 3180, 'eur': 3181, 'economic': 3182, 'hrs': 3183, 'maga': 3184, 'hmm': 3185, 'branch': 3186, 'scale': 3187, '🎈': 3188, 'toward': 3189, '📲': 3190, 'present': 3191, 'protesting': 3192, 'classroom': 3193, 'ridge': 3194, 'several': 3195, 'inspiration': 3196, 'boobs': 3197, 'quiet': 3198, 'felt': 3199, 'released': 3200, 'operator': 3201, 'anti': 3202, 'row': 3203, 'search': 3204, 'sydney': 3205, '\\U0001f928': 3206, 'unli': 3207, 'third': 3208, 'curtain': 3209, 'rate': 3210, 'cs': 3211, 'dollar': 3212, 'category': 3213, 'trend': 3214, 'charles': 3215, 'quietly': 3216, 'ref': 3217, 'mueller': 3218, 'mcdavid': 3219, 'funko': 3220, 'historical': 3221, 'seattle': 3222, 'option': 3223, 'negative': 3224, 'investigation': 3225, 'root': 3226, 'cub': 3227, 'unity': 3228, '😹': 3229, 'bsc': 3230, 'statistics': 3231, 'graduate': 3232, 'cheap': 3233, 'treats': 3234, 'pls': 3235, 'replies': 3236, 'beautifully': 3237, 'alexandria': 3238, 'looked': 3239, 'rounds': 3240, '4k': 3241, 'dinner': 3242, 'apartment': 3243, 'introducing': 3244, 'qykbar': 3245, 'qyk': 3246, 'consume': 3247, 'alcohol': 3248, 'cloud.qyk': 3249, 'mortgage': 3250, 'offered': 3251, 'champagne': 3252, 'driven': 3253, 'multiple': 3254, 'marched': 3255, 'rolled': 3256, 'meansget': 3257, 'penalty': 3258, 'entry': 3259, 'reliable': 3260, 'reputation': 3261, 'engage': 3262, 'hahaha': 3263, 'punishment': 3264, 'hydro': 3265, 'paradigm': 3266, 'interactions': 3267, 'answered': 3268, 'ripple': 3269, 'operating': 3270, 'asiimov': 3271, 'ain': 3272, 'christmas': 3273, 'require': 3274, 'volatility': 3275, 'fired': 3276, 'codes': 3277, 'btcusd': 3278, 'hillarys': 3279, 'oclock': 3280, 'spike': 3281, 'robotics': 3282, 'demand': 3283, 'fascinating': 3284, 'elite': 3285, 'overdose': 3286, 'remain': 3287, 'metallica': 3288, 'correct': 3289, 'wednesday': 3290, '🌍': 3291, 'wi-fi': 3292, 'luxury': 3293, 'landon': 3294, 'quot': 3295, 'ps4https': 3296, 'basket': 3297, 'meat': 3298, 'harvest': 3299, 'net': 3300, 'cast': 3301, 'conservatives': 3302, 'anti-gun': 3303, 'rally': 3304, 'constitutional': 3305, 'inspirational': 3306, 'debt': 3307, '⠀': 3308, 'DG:DGDG': 3309, 'named': 3310, 'suspect': 3311, 'lady': 3312, 'expert': 3313, 'machine': 3314, 'edit': 3315, 'canadian': 3316, 'houses': 3317, 'philadelphia': 3318, 'ne': 3319, 'authority': 3320, 'accounting': 3321, 'vr': 3322, 'disgusting': 3323, 'spree': 3324, 'promises': 3325, 'uneducated': 3326, 'strapped': 3327, 'plus': 3328, '💥': 3329, 'podcast': 3330, 't-shirt': 3331, 'suit': 3332, 'ignoring': 3333, 'michigan': 3334, 'lamborghini': 3335, 'bear': 3336, 'babe': 3337, '😻': 3338, 'standards': 3339, 'indians': 3340, 'combinator': 3341, 'w18': 3342, 'keys': 3343, 'republican': 3344, 'production': 3345, 'followed': 3346, 'tracks': 3347, 'blogspot': 3348, 'pulling': 3349, 'aged': 3350, 'र': 3351, 'exposed': 3352, 'inner': 3353, 'circle': 3354, '∈': 3355, 'increases': 3356, 'hyped': 3357, 'derby': 3358, 'perform': 3359, '. .': 3360, 'naked': 3361, 'hmmmm': 3362, 'sunshine': 3363, 'drunk': 3364, 'merely': 3365, 'coral': 3366, 'pink': 3367, 'saved': 3368, 'tiny': 3369, 'clients': 3370, 'views': 3371, 'racism': 3372, 'led': 3373, 'writer': 3374, 'sooo': 3375, 'hr': 3376, 'therapy': 3377, 'operations': 3378, 'spray': 3379, 'condition': 3380, 'african': 3381, 'ty': 3382, 'trauma': 3383, 'youd': 3384, 'nights': 3385, 'matt': 3386, 'irish': 3387, 'retweeted': 3388, 'strategic': 3389, 'bs': 3390, 'prepaid': 3391, 'organic': 3392, 'scary': 3393, 'himself': 3394, 'meme': 3395, 'max': 3396, 'crave': 3397, 'planet': 3398, 'vegan': 3399, '🌎': 3400, 'venture': 3401, 'cia': 3402, 'showing': 3403, 'crimes': 3404, 'concepts': 3405, 'civil': 3406, 'voted': 3407, 'perish': 3408, 'researchers': 3409, 'aren': 3410, 'currencies': 3411, 'ivanka': 3412, 'socially': 3413, 'breakfast': 3414, 'preparing': 3415, '⚽': 3416, '🎼': 3417, 'floris': 3418, '™': 3419, 'lightning': 3420, 'labs': 3421, 'ra': 3422, 'officials': 3423, 'stopping': 3424, 'amirite': 3425, 'jail': 3426, 'catalan': 3427, 'speaker': 3428, 'brother': 3429, 'invest': 3430, 'bills': 3431, 'thier': 3432, 'scheduled': 3433, 'twisting': 3434, 'necessary': 3435, 'score': 3436, 'trolls': 3437, 'photography': 3438, 'meaning': 3439, 'michael': 3440, 'DGDGDGDGDGDGDG': 3441, '👫': 3442, 'navratri': 3443, 'revolve': 3444, 'mouthwatering': 3445, 'arbi': 3446, 'kadhi': 3447, 'samak': 3448, 'rice': 3449, 'flames': 3450, 'annual': 3451, 'pe': 3452, 'turning': 3453, 'offering': 3454, 'worker': 3455, 'patience': 3456, 'degrees': 3457, 'exhibition': 3458, 'podcasts': 3459, 'ambassador': 3460, 'wellness': 3461, 'russians': 3462, 'meaningful': 3463, 'hacking': 3464, 'year-old': 3465, 'rifles': 3466, 'donuts': 3467, 'opinions': 3468, 'cousin': 3469, '24h': 3470, 'eh': 3471, 'perspective': 3472, 'shown': 3473, 'ver': 3474, 'checking': 3475, 'suffering': 3476, 'complaints': 3477, 'ugh': 3478, 'affect': 3479, 'warrant': 3480, 'enforcement': 3481, 'mature': 3482, 'anonymous': 3483, 'bomoso': 3484, 'eu': 3485, 'combat': 3486, 't.co/vwkbxtdmee': 3487, 'extinction': 3488, 'beating': 3489, 'german': 3490, 'consistent': 3491, 'pet': 3492, 'pulled': 3493, 'nintendo': 3494, 'ledger': 3495, 'duo': 3496, 'mera': 3497, 'swaraj': 3498, 'serves': 3499, 'veterans': 3500, ':(': 3501, '5th': 3502, 'contents': 3503, 'heavenly': 3504, 'mallows': 3505, 'hamp': 3506, 'seek': 3507, 'awful': 3508, 'angeles': 3509, 'agrees': 3510, 'races': 3511, 'launches': 3512, '😁': 3513, 'climate': 3514, 'purge': 3515, 'types': 3516, 'journalism': 3517, 'billionaire': 3518, 'tshirt': 3519, 'womens': 3520, 'trucks': 3521, 'amongst': 3522, 'wherein': 3523, 'tony': 3524, 'topic': 3525, 'efforts': 3526, 'bridge': 3527, 'kansas': 3528, 'hai': 3529, 'idea.how': 3530, 'ungrateful': 3531, 'heathen': 3532, 'bastards': 3533, 'hates': 3534, 'lines': 3535, 'regard': 3536, 'profile': 3537, 'mohammed': 3538, 'relatives': 3539, 'excellent': 3540, '💬': 3541, 'herald': 3542, 'headline': 3543, 'successfully': 3544, 'vehicles': 3545, 'relationship': 3546, 'clue': 3547, 'posting': 3548, 'allah': 3549, 'singer': 3550, 'episodes': 3551, 'cnn': 3552, 'blind': 3553, 'owner': 3554, 'membership': 3555, 'unlike': 3556, 'pinned': 3557, 'doors': 3558, 'tears': 3559, 'lifetime': 3560, 'result': 3561, 'meeting': 3562, 'cases': 3563, 'otherwise': 3564, 'wealth': 3565, 'basic': 3566, 'beta': 3567, '⤵': 3568, 'soooo': 3569, 'anxiety': 3570, 'ranking': 3571, 'aws': 3572, 'influence': 3573, 'twice': 3574, 'heading': 3575, 'mess': 3576, 'baltimore': 3577, 'addition': 3578, '2018https': 3579, 'gin': 3580, 'notice': 3581, 'cooking': 3582, 'haha': 3583, 'frieza': 3584, 'innovative': 3585, 'pakistan': 3586, 'solid': 3587, 'activity': 3588, 'sharia': 3589, 'returns': 3590, 'accepts': 3591, 'ibiza': 3592, 'chanting': 3593, '🐶': 3594, 'everyday': 3595, 'possibly': 3596, '50s': 3597, 'cherry': 3598, 'enthusiasm': 3599, 'skychain': 3600, 'germanys': 3601, 'dusseldorf': 3602, 'causestense': 3603, 'pilots': 3604, 'passengers': 3605, 'protest': 3606, 'solved': 3607, 'belief': 3608, '💤': 3609, 'tesla': 3610, 'encourage': 3611, 'bobby': 3612, 'yellen': 3613, 'glenn': 3614, 'bonfire': 3615, 'beka': 3616, 'entrepreneur': 3617, 'schoolers': 3618, 'disinvited': 3619, 'condemned': 3620, 'hadnt': 3621, 'follows': 3622, 'passes': 3623, 'branded': 3624, 'hail': 3625, 'mania': 3626, '🤞': 3627, '🔊': 3628, 'steady': 3629, 'lte': 3630, 'hero': 3631, 'ownership': 3632, 'demanding': 3633, 'proving': 3634, 'aims': 3635, 'asia': 3636, 'silicon': 3637, 'valley': 3638, 'gardens': 3639, 'department': 3640, 'superbowl': 3641, 'f1': 3642, 'pumpkin': 3643, 'sounded': 3644, '🎸': 3645, 'legends': 3646, 'deals': 3647, 'popularity': 3648, '7m': 3649, '7b': 3650, 'theft': 3651, 'digest': 3652, 'peeps': 3653, 'touchy': 3654, 'sniff': 3655, 'º': 3656, 'gui': 3657, 'nearly': 3658, 'slick': 3659, 'seed': 3660, 'construct': 3661, 'risks': 3662, 'addressing': 3663, 'confuse': 3664, '15s': 3665, 'fell': 3666, 'audio': 3667, 'dried': 3668, 'jailed': 3669, 'grayson': 3670, 'duels': 3671, 'attacking': 3672, 'canes': 3673, 'whatnot.apparently': 3674, 'archaic': 3675, 'back.just': 3676, 'publish': 3677, 'warming': 3678, 'powered': 3679, 'visitors': 3680, 'crowdfund': 3681, 'festival': 3682, 'psychology': 3683, 'ashamed': 3684, 'japanese': 3685, 'commercials': 3686, 'bot': 3687, 'yahoo': 3688, 'thru': 3689, 'childrens': 3690, 'feels': 3691, 'argument': 3692, 'claiming': 3693, 'lip': 3694, 'jess': 3695, 'glynne': 3696, 'macklemore': 3697, 'caplen': 3698, 'fundamentals': 3699, 'serenity': 3700, 'whitepaper': 3701, 'bash': 3702, 'engine': 3703, 'daniel': 3704, 'australians': 3705, 'blondes': 3706, 'hollywood': 3707, 'dis': 3708, 'faith': 3709, 'venue': 3710, 'telegra': 3711, 'preserve': 3712, 'peak': 3713, 'DG.DGDGDGDGDGDGDG': 3714, '-DG.DGDGDGDGDGDGDGDG': 3715, 'DG.DGDGDGDGDGDG': 3716, '-DG.DGDGDGDGDG': 3717, 'crunchy': 3718, 'citizen': 3719, 'mentioned': 3720, 'checked': 3721, 'advocating': 3722, 'application': 3723, 'stanford': 3724, 'unsuccessful': 3725, '🇮': 3726, 'easiest': 3727, 'socialism': 3728, 'jared': 3729, 'realization': 3730, 'teen': 3731, 'rebublican': 3732, 'socal': 3733, 'nam': 3734, 'gap': 3735, 'ronda': 3736, 'rousey': 3737, 'jazz': 3738, 'singing': 3739, 'symptoms': 3740, 'dietary': 3741, 'tuesday': 3742, 'backing': 3743, 'assad': 3744, 'evils': 3745, 'thy': 3746, 'shutters': 3747, 'silver': 3748, 'carriers': 3749, '😈': 3750, 'private': 3751, 'divide': 3752, 'restlessness': 3753, 'luckily': 3754, 'courtesy': 3755, 'slips': 3756, 'cad': 3757, 'DGDG-DGDG': 3758, 'btg': 3759, 'hurts': 3760, 'incoming': 3761, 'objects': 3762, 'lo': 3763, 'lesnar': 3764, 'deserving': 3765, 'wh': 3766, 'grandkids': 3767, 'grateful': 3768, 'literal': 3769, 'insomnia': 3770, 'indian': 3771, 'pieces': 3772, 'bible': 3773, 'combine': 3774, 'restart': 3775, 'romania': 3776, 'mile': 3777, 'wish': 3778, 'egotists': 3779, 'consecutive': 3780, '1am': 3781, 'accusing': 3782, '🍒': 3783, 'gina': 3784, 'sings': 3785, 'vocabulary': 3786, 'complex': 3787, 'overall': 3788, 'fetch': 3789, 'issuer': 3790, 'flattering': 3791, 'eight': 3792, 'reduce': 3793, 'detection': 3794, 'guards': 3795, 'retired': 3796, 'practices': 3797, 'changer': 3798, 'presentation': 3799, 'mall': 3800, 'upload': 3801, 'bulk': 3802, 'bedroom': 3803, 'overwatch': 3804, 'population': 3805, 'creators': 3806, 'jl': 3807, 'abilities': 3808, 'dehydrates': 3809, 'easilyeveryone': 3810, 'communicate': 3811, 'valued': 3812, 'participated': 3813, 'kings': 3814, 'gamer': 3815, 'dedicated': 3816, 'recruitment': 3817, 'finserve': 3818, 'description': 3819, 'wars': 3820, 'overrated': 3821, 'forest': 3822, 'pence': 3823, 'trains': 3824, 'privatised': 3825, 'mistakes': 3826, 'decent': 3827, 'superior': 3828, 'letting': 3829, 'designed': 3830, 'spice': 3831, 'kitchen': 3832, 'tragedy': 3833, 'securitys': 3834, 'trippy': 3835, 'wth': 3836, 'becomes': 3837, 'worldopoly': 3838, 'spy': 3839, 'remains': 3840, 'comedic': 3841, 'undertones': 3842, 'quiz': 3843, 'filter': 3844, 'maps': 3845, 'plugin': 3846, 'hall': 3847, '💗': 3848, 'intro': 3849, 'blow': 3850, 'fairfax': 3851, 'mavro': 3852, 'prepared': 3853, 'kimgarst': 3854, 'jeez': 3855, 'skyrim': 3856, 'dropped': 3857, 'hated': 3858, 'joking': 3859, 'journalist': 3860, 'charging': 3861, 'tx': 3862, 'satoshi': 3863, '€': 3864, 'denizens': 3865, 'throughout': 3866, 'pyramid': 3867, 'ordered': 3868, 'exchanges': 3869, 'albany': 3870, 'fortunate': 3871, 'decisive': 3872, 'policies': 3873, 'bitcoins': 3874, 'stayed': 3875, 'parchment': 3876, 'quill': 3877, 'pen': 3878, 'pounds': 3879, 'organizations': 3880, 'hosted': 3881, 'thought-provoking': 3882, 'jewelry': 3883, 'sporting': 3884, '3novices': 3885, 'darling': 3886, 'nats': 3887, 'pal': 3888, 'emojis': 3889, 'work.if': 3890, 'mens': 3891, 'hypocritical': 3892, 'rolling': 3893, 'gifs': 3894, 'criteria': 3895, 'maintain': 3896, 'mechanism': 3897, 'legally': 3898, 'circumstances': 3899, 'hype': 3900, 'inch': 3901, 'unicorn': 3902, 'blatantly': 3903, 'itself': 3904, 'unite': 3905, 'raising': 3906, 'bias': 3907, 'grain': 3908, 'patriot': 3909, 'conspiracy': 3910, 'staged': 3911, 'university': 3912, 'gen': 3913, 'spelling': 3914, 'lia': 3915, 'racists': 3916, 'links': 3917, 'contain': 3918, 'aluminum': 3919, 'salts': 3920, 'excel': 3921, 'revolutionary': 3922, 'cheats': 3923, 'advise': 3924, 'etiquette': 3925, 'amber': 3926, 'nicolas': 3927, 'wouldve': 3928, 'jailing': 3929, 'political': 3930, 'opponents': 3931, 'tolerate': 3932, 'consultation': 3933, 'ethnic': 3934, 'lifestyles': 3935, 'loose': 3936, 'illness': 3937, 'ky': 3938, 'psycho': 3939, 'catholic': 3940, 'abusing': 3941, 'monsters': 3942, 'wtfmusicvideos': 3943, 'coast': 3944, 'stupidest': 3945, 'intellectual': 3946, 'situation': 3947, 'contractors': 3948, 'theyd': 3949, 'mexican': 3950, 'immigrants': 3951, 'impose': 3952, 'average': 3953, 'relatable': 3954, 'ally': 3955, 'fathers': 3956, 'homophobia': 3957, 'hybrid': 3958, 'camera': 3959, 'aussie': 3960, 'dominance': 3961, 'tap': 3962, 'decorative': 3963, 'square': 3964, 'display': 3965, 'resting': 3966, 'guitar': 3967, 'satire': 3968, 'wreath': 3969, '👠': 3970, 'pineapple': 3971, 'reboot': 3972, 'matchday': 3973, 'saving': 3974, 'firms': 3975, 'billions': 3976, 'regulatory': 3977, 'convinced': 3978, 'botox': 3979, 'struggling': 3980, 'daisuke': 3981, 'wakabayashi': 3982, 'airdrops': 3983, 'counsel': 3984, 'fountain': 3985, 'parking': 3986, 'cheers': 3987, 'chill': 3988, 'holds': 3989, 'chant': 3990, 'orange': 3991, 'whose': 3992, 'wtf': 3993, 'recenter': 3994, 'bornjfk': 3995, 'luv': 3996, 'x-files': 3997, 'sf': 3998, 'wif': 3999, 'hasse': 4000, 'cared': 4001, 'central': 4002, 'nahhhhh': 4003, 'personalised': 4004, 'flockbn': 4005, 'crooks': 4006, 'hollow': 4007, 'thursday': 4008, 'pre-order': 4009, 'eagle': 4010, 'courses': 4011, 'aside': 4012, 'ego': 4013, '1000s': 4014, 'ireland': 4015, 'vienna': 4016, 'ag': 4017, 'rummaging': 4018, 'sunset': 4019, 'rugby': 4020, 'pair': 4021, 'andalou': 4022, 'combined': 4023, 'ɑnd': 4024, 'brighten': 4025, 'scotland': 4026, 'zones': 4027, 'languages': 4028, 'helene': 4029, 'thomas': 4030, 'gibbons-neff': 4031, 'approves': 4032, 'transgender': 4033, 'troops': 4034, 'gig': 4035, 'extreme': 4036, 'mock': 4037, 'drills': 4038, 'tourney': 4039, 'well-built': 4040, 'deflect': 4041, 'subscribers': 4042, 'nervous': 4043, 'dozens': 4044, 'discussion': 4045, 'earbuds': 4046, 'unprecedented': 4047, 'criticism': 4048, 'reformed': 4049, 'introduction': 4050, 'segment': 4051, 'teaching': 4052, 'juneeeeeeya': 4053, 'latecomer': 4054, 'hati': 4055, 'clothes-sta': 4056, 'belgium': 4057, 'humankind': 4058, 'willow': 4059, 'springs': 4060, 'ooooh': 4061, 'letter': 4062, 'fatal': 4063, 'movies': 4064, 'defend': 4065, 'adulting': 4066, 'styles': 4067, 'diggy': 4068, 'goo': 4069, 'documentary': 4070, 'monetized': 4071, 'undermine': 4072, 'audacity': 4073, 'spectacular': 4074, 'legislative': 4075, 'sb': 4076, 'christians': 4077, 'archive': 4078, 'ohh': 4079, 'nradio': 4080, 'carplay': 4081, '🚗': 4082, 'teeth': 4083, 'auction': 4084, 'river': 4085, 'monopoly': 4086, 'amounts': 4087, 'aggressive': 4088, 'editor': 4089, 'wifes': 4090, 'transact': 4091, 'wrap': 4092, 'mmmm': 4093, 'believable': 4094, 'tank': 4095, 're-sale': 4096, 'comforting': 4097, 'married': 4098, 'karachi': 4099, '🇵': 4100, '🏏': 4101, 'funded': 4102, 'radical': 4103, 'coz': 4104, 'christina': 4105, 'dowd': 4106, 'guilty': 4107, 'employ': 4108, 'payroll': 4109, 'scenes': 4110, '4am': 4111, 'finishing': 4112, 'sets': 4113, 'judging': 4114, 'blown': 4115, 'architecture': 4116, 'ruins': 4117, 'belle': 4118, 'excuses': 4119, 'botw': 4120, 'jessica': 4121, 'famous': 4122, 'fraud': 4123, 'propaganda': 4124, 'backfiring': 4125, 'winnebago': 4126, 'rv': 4127, 'contained': 4128, 'propane': 4129, 'microwave': 4130, 'cooker': 4131, 'longest': 4132, 'shines': 4133, 'shamed': 4134, '🇩': 4135, '🇪': 4136, 'library': 4137, 'architect': 4138, 'em': 4139, 'alts': 4140, 'matching': 4141, 'concerned': 4142, 'noon': 4143, 'lasting': 4144, 'senate': 4145, 'vault': 4146, 'altcoin': 4147, 'object': 4148, 'attractive': 4149, 'torn': 4150, 'acl': 4151, 'heck': 4152, 'promised': 4153, 'amd': 4154, 'punches': 4155, 'fa': 4156, 'clash': 4157, 'clever': 4158, 'contributed': 4159, 'document': 4160, 'regretful': 4161, 'louder': 4162, 'dean': 4163, 'fave': 4164, 'precious': 4165, 'portfolio': 4166, 'grouphttps': 4167, 'younger': 4168, 'trim': 4169, 'corporation': 4170, 'unattractive': 4171, 'odds.bet': 4172, 'aloe': 4173, 'vera': 4174, 'plant': 4175, 'medicinal': 4176, 'overcome': 4177, 'dodge': 4178, 'mt': 4179, 'galaxy': 4180, 'pun': 4181, 'outlook': 4182, 'slide': 4183, 'wales': 4184, 'mixologist': 4185, 'multiply': 4186, 'savings': 4187, 'errors': 4188, '🇱': 4189, 'hoped': 4190, 'designs': 4191, 'tommy': 4192, 'clicking': 4193, 'hardest': 4194, 'virtually': 4195, 'dancing': 4196, 'editing': 4197, 'upcoming': 4198, 'effect': 4199, 'counts': 4200, 'pad': 4201, 'peek': 4202, 'betinas': 4203, 'frida': 4204, 'limited-time': 4205, 'begun': 4206, 'abandon': 4207, 'affair': 4208, 'vid': 4209, 'consideration': 4210, 'monitor': 4211, '--->': 4212, 'sustainable': 4213, 'warfare': 4214, 'bigot': 4215, 'sprint': 4216, 'quicker': 4217, 'roberts': 4218, 'foe': 4219, 'district': 4220, 'shooters': 4221, 'stormy': 4222, 'skies': 4223, 'palm': 4224, 'investmentbitrace': 4225, 'usp-s': 4226, 'orion': 4227, 'like-go': 4228, 'friend-put': 4229, 'realer': 4230, 'ghost': 4231, 'dees': 4232, 'musing': 4233, 'fernando': 4234, 'clarify': 4235, 'traders': 4236, 'crowds': 4237, 'commercial': 4238, 'credible': 4239, 'joytoken': 4240, 'macdonald': 4241, 'asia-pacific': 4242, 'forum': 4243, 'engaged': 4244, 'bedtime': 4245, 'tomfoolery': 4246, 'advocate': 4247, 'manipulated': 4248, 'transparency': 4249, 'ratings': 4250, 'someday': 4251, 'idiot': 4252, 'framework': 4253, 'consensus': 4254, 'grains': 4255, 'lentils': 4256, '💃': 4257, '\\U0001f9d0': 4258, 'blocksafe': 4259, '😶': 4260, '😐': 4261, 'alexander': 4262, 'yakovenko': 4263, 'distinguish': 4264, 'omnitude': 4265, 'painter': 4266, 'learned': 4267, 'clutch': 4268, 'immigration': 4269, 'chile': 4270, 'jeju': 4271, 'canal': 4272, 'unable': 4273, 'sing': 4274, 'ala': 4275, 'hillary': 4276, 'cmon': 4277, 'count': 4278, 'stan': 4279, 'horses': 4280, 'loyal': 4281, 'lottery': 4282, 'happiness': 4283, 'flop': 4284, 'bugatti': 4285, 'shenzhen': 4286, 'foundation': 4287, '26th': 4288, 'spicy': 4289, 'meal': 4290, 'progress': 4291, 'padding': 4292, 'racer': 4293, 'stretch': 4294, 'surprisingly': 4295, 'expo': 4296, 'arrive': 4297, 'capital': 4298, 'backyard': 4299, 'chosen': 4300, 'ops': 4301, 'hong': 4302, 'kong': 4303, 'chicken': 4304, 'eatcheapandhealthy': 4305, 'wwe': 4306, 'wheres': 4307, 'taxis': 4308, 'lights': 4309, 'indy': 4310, 'native': 4311, 'barcelona': 4312, 'proves': 4313, 'spill': 4314, 'visited': 4315, 'desk': 4316, 'determine': 4317, 'natural': 4318, 'distance': 4319, 'earphone': 4320, 'constituents': 4321, 'cross-border': 4322, 'tan': 4323, 'walks': 4324, 'ray': 4325, 'disc': 4326, 'cena': 4327, 'undertaker': 4328, 'happening': 4329, 'productive': 4330, 'votes': 4331, 'parts': 4332, 'punching': 4333, 'continuous': 4334, '💀': 4335, 'marines': 4336, 'construction': 4337, 'romance': 4338, 'regarding': 4339, 'dictate': 4340, 'yvonne': 4341, 'ridley': 4342, 'semitism': 4343, 'sparkling': 4344, 'referenced': 4345, 'congressman': 4346, 'mans': 4347, 'customs': 4348, 'traded': 4349, 'disregard': 4350, 'flu': 4351, 'alarm': 4352, '7am': 4353, 'wrist': 4354, 'controller': 4355, 'usb': 4356, 'robot': 4357, 'roseberry': 4358, 'cotbed': 4359, 'beginners': 4360, 'earning': 4361, 'pu': 4362, 'mornings': 4363, 'suffer': 4364, 'consider': 4365, 'emotional': 4366, 'greenbriar': 4367, 'cock': 4368, '1tb': 4369, 'thieves': 4370, '27th': 4371, 'ep': 4372, 'typical': 4373, 'boutique': 4374, 'increasing': 4375, 'whoever': 4376, 'pissing': 4377, '💜': 4378, 'clemson': 4379, 'offline': 4380, 'focused': 4381, '.   .': 4382, 'mutual': 4383, 'goals': 4384, 'thermo': 4385, 'fisher': 4386, 'scientific': 4387, 'twenty': 4388, 'fiction': 4389, 'afternoon': 4390, 'racial': 4391, 'increased': 4392, 'faster': 4393, 'scenario': 4394, 'watched': 4395, 'mat': 4396, 'cnnpolitics': 4397, 'DGDGDG/DG': 4398, 'DG-DG-': 4399, 'earlier': 4400, 'emerging': 4401, 'sylva': 4402, 'fischer': 4403, 'algorithms': 4404, 'olivier': 4405, 'forgues': 4406, 'versions': 4407, 'madhuri': 4408, 'reel': 4409, '😛': 4410, 'install': 4411, 'approaches': 4412, 'farmers': 4413, 'photographs': 4414, '500k': 4415, 'bend': 4416, 'solidarity': 4417, 'defiance': 4418, 'assassi': 4419, 'helpful': 4420, 'treehouse': 4421, 'monetary': 4422, 'achieve': 4423, 'tgif': 4424, 'freaky': 4425, '🍆': 4426, 'ncaa': 4427, 'uhd': 4428, 'freeview': 4429, 'awareness': 4430, 'lifes': 4431, 'puns': 4432, 'assigned': 4433, 'assist': 4434, 'cosmetics': 4435, 'prosperity': 4436, 'ultimate': 4437, 'worship': 4438, 'consistency': 4439, 'kb': 4440, 'declared': 4441, 'murdoch': 4442, 'robust': 4443, 'abou': 4444, 'challenges': 4445, 'ideal': 4446, 'suitable': 4447, 'fries': 4448, 'recipe': 4449, 'standings': 4450, 'exercising': 4451, 'preventing': 4452, 'emails': 4453, 'messages': 4454, 'dawn': 4455, 'thorne': 4456, 'teenager': 4457, 'meets': 4458, '🏀': 4459, '😨': 4460, 'brands': 4461, 'peru': 4462, 'debugging': 4463, 'pointless': 4464, 'freaking': 4465, 'futurism': 4466, 'diner': 4467, 'repair': 4468, 'cashier': 4469, 'stole': 4470, 'itd': 4471, 'trudeau': 4472, 'macron': 4473, 'demerit': 4474, 'fees': 4475, 'upto': 4476, 'pcs': 4477, 'nurse': 4478, 'choices': 4479, 'sole': 4480, 'amazingly': 4481, 'coherent': 4482, '💸': 4483, 'aim': 4484, 'vulnerability': 4485, 'participants': 4486, 'millie': 4487, 'copied': 4488, 'dak': 4489, 'freely': 4490, 'vests': 4491, 'miami': 4492, 'rely': 4493, 'bitmex': 4494, 'camelot': 4495, 'somehow': 4496, 'globally': 4497, 'prix': 4498, 'sebastian': 4499, 'conquer': 4500, 'animenewsnet': 4501, 'notes': 4502, 'serve': 4503, 'ironmith': 4504, 'trek': 4505, 'grocery': 4506, 'unanswered': 4507, 'crushed': 4508, 'toss': 4509, 'economy': 4510, 'influencers': 4511, 'honour': 4512, 'vaccination': 4513, 'fixy': 4514, 'kills': 4515, 'leaked': 4516, 'memo': 4517, 'knowledge': 4518, 'cube': 4519, 'lil': 4520, 'rite': 4521, 'fairness': 4522, 'harvested': 4523, 'decorated': 4524, 'tendency': 4525, 'watered': 4526, 'co-founder': 4527, 'pitching': 4528, 'tokenintelligence': 4529, 'aimed': 4530, 'workplace': 4531, 'sector': 4532, 'pills': 4533, 'have.loan': 4534, 'fighter': 4535, 'wedding': 4536, 'qualification': 4537, 'therefore': 4538, 'everytime': 4539, 'deer': 4540, 'matched': 4541, 'bros': 4542, 'kay': 4543, 'enhanced': 4544, 'lighting': 4545, 'thick': 4546, 'good-looking': 4547, 'reviews': 4548, 'lebron': 4549, 'thankfully': 4550, 'improved': 4551, 'accomplished': 4552, 'communist': 4553, 'beside': 4554, 'areas': 4555, 'hiphop': 4556, 'cheese': 4557, 'patriots': 4558, 'lent': 4559, 'pittsburgh': 4560, '2why': 4561, 'mattershttps': 4562, 't.co/5lptrr8tlb': 4563, 'developing': 4564, 'getaway': 4565, 'outer': 4566, 'reference': 4567, 'well-reputed': 4568, 'universities': 4569, 'cointelegraph': 4570, 'electronic': 4571, 'gameplay': 4572, 'prosecutor': 4573, 'slightly': 4574, 'tone': 4575, 'extended': 4576, 'foresee': 4577, 'cannabis': 4578, 'stumble': 4579, 'numb-minded': 4580, 'winston': 4581, 'histoire': 4582, 'tees': 4583, 'shirts': 4584, 'exam': 4585, 'load': 4586, 'instructions': 4587, 'domain': 4588, 'sugar': 4589, 'hentai': 4590, 'clip': 4591, 'casually': 4592, 'mud': 4593, 'whatsoever': 4594, 'natalie': 4595, 'awake': 4596, 'cane': 4597, 'lawn': 4598, 'honor': 4599, 'sessions': 4600, 'lesbian': 4601, 'reveal': 4602, 'alpha': 4603, 'i40': 4604, 'solutions': 4605, 'technical': 4606, 'sci': 4607, 'numeric': 4608, 'identify': 4609, 'recognize': 4610, 'geeks': 4611, 'hearthstone': 4612, 'warcraft': 4613, '10x': 4614, 'cardpack': 4615, 'roads': 4616, 'dune': 4617, 'developed': 4618, 'boxes': 4619, 'bff': 4620, 'peckish': 4621, 'whitelisted': 4622, 'jeff': 4623, 'flake': 4624, 'freebie': 4625, 'sim': 4626, 'organisations': 4627, 'qualified': 4628, 'candidates': 4629, 'unfortunately': 4630, 'represents': 4631, 'isis': 4632, 'materials': 4633, 'couples': 4634, 't.co/nd2isszilk': 4635, 'mrs': 4636, 'pr': 4637, 'et': 4638, 'tu': 4639, 'tumblr': 4640, 'blogging': 4641, 'shoving': 4642, '😔': 4643, 'dennis': 4644, 'deplorables': 4645, '🐕': 4646, 'dogland': 4647, 'teamed': 4648, 'dealing': 4649, 'definition': 4650, 'opposition': 4651, 'sscfeeling': 4652, 'like-आमच': 4653, 'कध': 4654, 'ण': 4655, 'knowing': 4656, 'whenever': 4657, 'brightest': 4658, 'colluding': 4659, 'retirement': 4660, 'marred': 4661, '. ...': 4662, 'closest': 4663, 'ministry': 4664, 'laundry': 4665, 'fur': 4666, 'chunky': 4667, 'bobble': 4668, 'indiana': 4669, 'deficits': 4670, 'successor': 4671, 'waited': 4672, 'min': 4673, 'llewyn': 4674, '1960s': 4675, 'vinyl': 4676, 'boyfriend': 4677, 'accepted': 4678, 'jealous': 4679, 'satisfy': 4680, 'everyones': 4681, 'wears': 4682, 'arms': 4683, 'yaar': 4684, 'carries': 4685, 'dicks': 4686, 'replaced': 4687, 'moe': 4688, 'ignorance': 4689, 'quickly': 4690, 'suggestion': 4691, 'sweater': 4692, 'breitling': 4693, 'introduces': 4694, 'navitimer': 4695, 'pee': 4696, 'puffed': 4697, 'cheeks': 4698, 'chutzpah': 4699, 'motivation': 4700, 'heritage': 4701, 'spelled': 4702, 'effectively': 4703, 'stronger': 4704, 'repurpose': 4705, 'creation': 4706, 'wondering': 4707, 'treatment': 4708, 'flashlight': 4709, 'rape': 4710, '😳': 4711, 'campus': 4712, 'invitation': 4713, 'confucius': 4714, 'hydro-quebec': 4715, 'cricketers': 4716, 'gates': 4717, 'ipads': 4718, 'breaks': 4719, 'perry': 4720, 'ellis': 4721, 'arrogance': 4722, 'mao': 4723, 'zedong': 4724, 'consigned': 4725, 'studies': 4726, 'whores': 4727, 'happily': 4728, 'sr': 4729, 'back-to-backs': 4730, 'tied': 4731, 'addiction': 4732, 'telangana': 4733, 'moon': 4734, 'darker': 4735, 'treated': 4736, 'shri': 4737, 'crony': 4738, 'fossil': 4739, 'cleaner': 4740, 'pics': 4741, 'minimum': 4742, 'jedi': 4743, 'milk': 4744, 'physician': 4745, 'mission': 4746, 'balloons': 4747, 'admin': 4748, 'obsession': 4749, 'awhile': 4750, 'presenting': 4751, 'bagel': 4752, 'donut': 4753, 'carbs': 4754, 'succeed': 4755, 'independence': 4756, 'dab': 4757, 'bluetooth': 4758, 'lifestyle': 4759, 'bans': 4760, 'kit': 4761, 'studio': 4762, 'neighborhoods': 4763, 'susceptible': 4764, 'techniques': 4765, 'yaaas': 4766, '💚': 4767, 'silent': 4768, '🎆': 4769, 'scala': 4770, 'denver': 4771, 'lion': 4772, 'campuses': 4773, 'lindsey': 4774, 'educators': 4775, 'prefer': 4776, 'abuse': 4777, 'images': 4778, 'skyfchain': 4779, '💞': 4780, 'parent': 4781, 'priced': 4782, 'fade': 4783, 'concerns': 4784, 'unhealthy': 4785, 'ecommerce': 4786, 'diversified': 4787, 'xiaomi': 4788, 'redmi': 4789, 'gearbest': 4790, 'expressing': 4791, 'DG/': 4792, 'writers': 4793, 'dey': 4794, 'methodist': 4795, 'liberty': 4796, 'tables': 4797, 'rotten': 4798, 'eggs': 4799, 'subliminal': 4800, 'apocalypse': 4801, 'summary': 4802, 'commerce': 4803, '✊': 4804, 'DGDG-DG': 4805, 'third-party': 4806, 'samples': 4807, 'categories': 4808, 'brag': 4809, 'cleared': 4810, 'remote': 4811, 'gt-r': 4812, 'flowers': 4813, '。': 4814, '∩': 4815, 'hacked': 4816, 'threw': 4817, '\\U0001f92e': 4818, 'ost': 4819, 'quarter': 4820, 'comp': 4821, 'implement': 4822, 'gosh': 4823, 'spare': 4824, 'sincerely': 4825, 'reeeeeeeehhhhhhaaaaaaalllly': 4826, 'outdoors': 4827, '👾': 4828, 'mln': 4829, 'colorado': 4830, 'releases': 4831, 'assaulted': 4832, 'barrel': 4833, 'hdr': 4834, 'six': 4835, 'steam': 4836, 'bancroft': 4837, 'logan': 4838, 'ii': 4839, '9pm': 4840, 'eastern.https': 4841, 't.co/j9gpwrlevmlooking': 4842, 'youall.some': 4843, 'unattributed': 4844, 'unsubstantiated': 4845, 'unproven': 4846, 'unbiased': 4847, 'whistleblower': 4848, 'jill': 4849, 'percentage': 4850, 'moron': 4851, 'belong': 4852, 'connecting': 4853, 'expecting': 4854, 'lightroom': 4855, '😵': 4856, 'butter': 4857, 'cripple': 4858, 'erectile': 4859, 'dysfunction': 4860, 'alternate': 4861, 'geez': 4862, 'gbp': 4863, 'booking': 4864, 'toy': 4865, 'accused': 4866, 'renowned': 4867, 'landscape': 4868, 'photographer': 4869, 'coward': 4870, 'adds': 4871, 'peaceful': 4872, 'select': 4873, 'educational': 4874, 'harvard': 4875, 'basis': 4876, 'dining': 4877, 'degree': 4878, 'terror': 4879, 'closely': 4880, 'asks': 4881, 'kindle': 4882, 'tories': 4883, 'woo': 4884, 'heh': 4885, 'recon': 4886, 'v-buc': 4887, 'sahil': 4888, 'shah': 4889, 'laughter': 4890, 'journalists': 4891, 'household': 4892, 'algeria': 4893, 'ms': 4894, 'ria': 4895, 'chua': 4896, 'harvesting': 4897, 'manufacturing': 4898, 'requestsyour': 4899, 'connectedhttps': 4900, 't.co/gulmsgzzn7white': 4901, '✴': 4902, 'facing': 4903, 'bruce': 4904, 'messed': 4905, 'lineup': 4906, 'tyler': 4907, 'disabilities': 4908, 'strength': 4909, 'deck': 4910, 'comply': 4911, 'politicize': 4912, '¡': 4913, 'employees': 4914, 'engineers': 4915, 'whew': 4916, 'iconic': 4917, 'mommy': 4918, 'remix': 4919, 'transaction': 4920, 'texas': 4921, 'greek': 4922, 'toilet': 4923, 'cheer': 4924, 'repux': 4925, 'attachment': 4926, 'hamhuis': 4927, 'honka': 4928, 'designing': 4929, 'targets': 4930, 'dental': 4931, 'volunteers': 4932, 'produced': 4933, 'animation': 4934, 'suggest': 4935, 'caveat': 4936, 'excercise': 4937, 'strange': 4938, 'soldier': 4939, 'draft': 4940, '\\U0001f92a': 4941, 'hook': 4942, 'slams': 4943, 'dramatic': 4944, 'lc': 4945, 'um': 4946, 'rough': 4947, 'topics': 4948, 'shepherd': 4949, 'salt': 4950, 'reservation': 4951, 'pre-ico': 4952, 'kennedy': 4953, 'refuses': 4954, 'marijuana': 4955, 'scalability': 4956, 'capable': 4957, 'al': 4958, 'misinformation': 4959, 'deliver': 4960, 'ammo': 4961, '😤': 4962, '⊙': 4963, 'fantasy': 4964, 'unlimited': 4965, 'visits': 4966, 'toolbox': 4967, 'wildlife': 4968, 'council': 4969, 'adventure': 4970, 'intimidate': 4971, 'neutral': 4972, '🇨': 4973, '🇦': 4974, 'w1': 4975, 'ipu': 4976, 'zipper': 4977, 'halter': 4978, 'leakage': 4979, 'coupon': 4980, 'wscodtv': 4981, 'fairly': 4982, 'doc': 4983, 'squat': 4984, 'db': 4985, '☠': 4986, 'implementation': 4987, 'blk': 4988, 'pathetic': 4989, 'poc': 4990, '_': 4991, 'mob': 4992, '📋': 4993, 'significant': 4994, 'issued': 4995, 'allowing': 4996, 'totes': 4997, 'responsibility': 4998, 'sources': 4999}\n",
      "[10, 71, 67, 8, 12, 74, 54, 24, 3, 3, 75, 22, 3, 78, 70, 3, 16, 76, 72, 49, 13]\n"
     ]
    }
   ],
   "source": [
    "vocab = vocabulary.Vocabulary(utils.flatten(train_sentences),5000)\n",
    "x_ids = vocab.words_to_ids(train_sentences[0])\n",
    "print(\"x_ids =\", vocab.word_to_id)\n",
    "print(x_ids)"
   ]
  },
  {
   "cell_type": "code",
   "execution_count": null,
   "metadata": {
    "collapsed": true
   },
   "outputs": [],
   "source": [
    "\n"
   ]
  },
  {
   "cell_type": "code",
   "execution_count": 5,
   "metadata": {},
   "outputs": [
    {
     "name": "stdout",
     "output_type": "stream",
     "text": [
      "[[10, 71, 67, 8, 12, 74, 54, 24, 3, 3, 75, 22, 3, 78, 70, 3, 16, 76, 72, 49, 13], [10, 3610, 15, 2, 905, 330, 156, 311, 529, 3611, 2781, 5, 3, 3, 3, 77, 589, 13], [10, 3612, 306, 7, 2267, 733, 9, 29, 26, 48, 117, 21, 2, 396, 396, 396, 366, 42, 3, 3, 3, 3, 77, 5], [10, 906, 169, 2268, 194, 19, 2269, 53, 1922, 21, 7, 125, 6, 839, 342, 8, 331, 704, 11, 377, 165, 3613, 11, 3], [2782, 2270, 629, 3, 336, 231, 1325, 12, 786, 11, 5, 3, 3, 3, 66, 8, 734, 12, 107, 2783, 356, 21, 983, 38, 529, 3], [984, 14, 7, 125, 2784, 2785, 3, 3, 3, 3, 3, 3, 5], [20, 557, 92, 7, 225, 787, 36, 170, 8, 32, 19, 3, 3], [10, 3, 3614, 343, 3, 64, 3615, 3, 5, 5], [10, 666, 3, 2271, 38, 630, 3616, 2, 6, 3616, 16, 12, 2786, 3617, 15, 3, 2, 18, 3, 9, 630, 14, 3, 13], [10, 2, 8, 56, 7, 3, 16, 985, 9, 213, 631, 357, 3618, 83, 47, 1326, 289, 1652, 25, 256, 15, 122, 2, 7, 2, 13], [5, 13, 13, 13, 13, 13, 13, 13, 13, 13, 13, 13, 13, 13, 13, 13, 13, 13, 13, 13, 13, 13, 351, 632, 12, 104, 46, 840, 43, 788, 4, 14, 1197, 3, 3, 3, 3, 3, 3, 3, 3, 3, 3, 3, 3, 3, 3, 3], [10, 25, 35, 134, 8, 91, 465, 9, 44, 20, 986, 8, 2272, 12, 3, 21, 40, 14, 35, 465, 11, 5], [10, 111, 140, 12, 267, 19, 22, 214, 262, 234, 281, 307, 178, 207, 116, 226, 293, 45, 282, 88, 208, 25, 88, 312, 13], [227, 2787, 907, 492, 88, 705, 2788, 88, 2789, 908, 30, 88, 987, 5], [4, 4, 123, 2, 11, 123, 1198, 47, 11, 11], [10, 2273, 3, 38, 88, 1653, 148, 3619, 61, 1199, 39, 3, 2274, 47, 12, 493, 204, 3620, 7, 988, 3, 13], [227, 11, 169, 2790, 2, 179, 2, 8, 32, 124, 3], [4, 140, 20, 112, 105, 633, 11, 3621, 257, 14, 28, 6, 20, 109, 239, 3622, 7, 437, 44, 28, 65, 367, 841, 29, 6, 20, 109, 69, 20, 842, 89, 7, 2, 30, 35, 2, 909, 39, 34, 1200, 3623, 60, 6, 3], [10, 3, 3, 3, 3, 3, 3, 294, 3, 407, 3, 2275, 79, 2, 13], [149, 3, 159, 23, 34, 397, 159, 3, 159, 3, 3, 24, 5, 5]]\n"
     ]
    }
   ],
   "source": [
    "list_of_train_ids = list(map(vocab.words_to_ids, train_sentences))\n",
    "print(list_of_train_ids[0:20])\n",
    "\n",
    "\n",
    "list_of_validation_ids = list(map(vocab.words_to_ids, validation_sentences))\n",
    "\n",
    "list_of_test_ids = list(map(vocab.words_to_ids, test_sentences))\n"
   ]
  },
  {
   "cell_type": "code",
   "execution_count": 6,
   "metadata": {},
   "outputs": [
    {
     "data": {
      "text/plain": [
       "Counter({3: 4,\n",
       "         8: 1,\n",
       "         10: 1,\n",
       "         12: 1,\n",
       "         13: 1,\n",
       "         16: 1,\n",
       "         22: 1,\n",
       "         24: 1,\n",
       "         49: 1,\n",
       "         54: 1,\n",
       "         67: 1,\n",
       "         70: 1,\n",
       "         71: 1,\n",
       "         72: 1,\n",
       "         74: 1,\n",
       "         75: 1,\n",
       "         76: 1,\n",
       "         78: 1})"
      ]
     },
     "execution_count": 6,
     "metadata": {},
     "output_type": "execute_result"
    }
   ],
   "source": [
    "collections.Counter(list_of_train_ids[0])"
   ]
  },
  {
   "cell_type": "code",
   "execution_count": 7,
   "metadata": {
    "collapsed": true
   },
   "outputs": [],
   "source": [
    "from scipy.sparse import csr_matrix \n",
    "def sparsify_data(list_of_ids):\n",
    "    row_indices = []\n",
    "    col_indices = []\n",
    "    values = []\n",
    "    rows = len(list_of_ids)\n",
    "\n",
    "    for row, x_ids in enumerate(list_of_ids):\n",
    "        x_fdict = collections.Counter(x_ids)\n",
    "        for wordid, count in x_fdict.items():\n",
    "            row_indices.append(row)       \n",
    "            col_indices.append(wordid)  # column is word id\n",
    "            values.append(count)        # value is count\n",
    "    x_sparse = csr_matrix((values, (row_indices, col_indices)),\n",
    "                              shape=[rows, vocab.size])\n",
    "    return x_sparse"
   ]
  },
  {
   "cell_type": "code",
   "execution_count": 8,
   "metadata": {
    "collapsed": true
   },
   "outputs": [],
   "source": [
    "x_train_sparse = sparsify_data(list_of_train_ids)\n",
    "x_validation_sparse = sparsify_data(list_of_validation_ids)\n",
    "x_test_sparse = sparsify_data(list_of_test_ids)\n"
   ]
  },
  {
   "cell_type": "code",
   "execution_count": null,
   "metadata": {
    "collapsed": true
   },
   "outputs": [],
   "source": []
  },
  {
   "cell_type": "code",
   "execution_count": 9,
   "metadata": {},
   "outputs": [
    {
     "name": "stdout",
     "output_type": "stream",
     "text": [
      " acc: 86.14%, recall: 87.76%, precision: 84.82%, f1: 86.27%,\n"
     ]
    }
   ],
   "source": [
    "from sklearn.naive_bayes import MultinomialNB\n",
    "from sklearn.metrics import f1_score, accuracy_score, recall_score, precision_score\n",
    "\n",
    "nb = MultinomialNB(alpha =  1)\n",
    "nb.fit(x_train_sparse, train_labels)\n",
    "y_pred = nb.predict(x_test_sparse)\n",
    "\n",
    "\n",
    "\n",
    "\n",
    "\n",
    "f1 = f1_score(test_labels, y_pred)\n",
    "acc = accuracy_score(test_labels, y_pred)\n",
    "recall = recall_score(test_labels, y_pred)\n",
    "precision = precision_score(test_labels, y_pred)\n",
    "print(\" acc: {:.02%}, recall: {:.02%}, precision: {:.02%}, f1: {:.02%},\".format(acc, recall, precision, f1))\n"
   ]
  },
  {
   "cell_type": "code",
   "execution_count": 10,
   "metadata": {
    "collapsed": true
   },
   "outputs": [],
   "source": [
    "linear_weights = nb.feature_log_prob_[1,:] - nb.feature_log_prob_[0,:]  # populate this with actual values\n",
    "\n",
    "top_negative_features = np.argsort(linear_weights)[0:40]\n",
    "top_positive_features = np.argsort(-linear_weights)[0:40]\n"
   ]
  },
  {
   "cell_type": "code",
   "execution_count": 11,
   "metadata": {},
   "outputs": [
    {
     "name": "stdout",
     "output_type": "stream",
     "text": [
      "Most negative features:\n",
      "  🔥 (-5.02)\n",
      "  ↴ (-4.66)\n",
      "  ⭐ (-4.46)\n",
      "  🕰 (-4.16)\n",
      "  🎮 (-4.11)\n",
      "  💎 (-4.07)\n",
      "  🖥 (-4.05)\n",
      "  registration (-4.02)\n",
      "  tokkens (-3.98)\n",
      "  cams (-3.98)\n",
      "  giveaway (-3.94)\n",
      "  token (-3.92)\n",
      "  airdrop (-3.87)\n",
      "  blockchain (-3.81)\n",
      "  crypto (-3.71)\n",
      "  rt (-3.68)\n",
      "  enter (-3.66)\n",
      "  telegram (-3.66)\n",
      "  es (-3.66)\n",
      "  summer (-3.51)\n",
      "  ico (-3.48)\n",
      "  latest (-3.46)\n",
      "  📢 (-3.41)\n",
      "  bitcoin (-3.30)\n",
      "  camp (-3.26)\n",
      "  ✔ (-3.18)\n",
      "  digital (-3.14)\n",
      "  🚀 (-3.14)\n",
      "  easter (-3.14)\n",
      "  international (-3.14)\n",
      "  coin (-3.09)\n",
      "  ➡ (-2.99)\n",
      "  recommend (-2.99)\n",
      "  DGDGDGDGDG (-2.95)\n",
      "  💰 (-2.94)\n",
      "  technology (-2.88)\n",
      "  tokens (-2.88)\n",
      "  fee (-2.82)\n",
      "  usd (-2.82)\n",
      "  DGDG:DGDG (-2.82)\n",
      "\n",
      "Most positive features:\n",
      "  straight (5.47)\n",
      "  nicer (5.46)\n",
      "  ex (5.46)\n",
      "  couldnt (4.77)\n",
      "  walking (4.76)\n",
      "  agent (4.75)\n",
      "  believes (4.07)\n",
      "  sarcasm (3.94)\n",
      "  happen (3.89)\n",
      "  surprise (3.87)\n",
      "  marr (3.72)\n",
      "  previ (3.69)\n",
      "  oh (3.57)\n",
      "  guy (3.53)\n",
      "  form (3.39)\n",
      "  lol (3.15)\n",
      "  🤣 (3.13)\n",
      "  redbubble (3.00)\n",
      "  wonder (3.00)\n",
      "  quotes (3.00)\n",
      "  shot (3.00)\n",
      "  ी (3.00)\n",
      "  😒 (2.95)\n",
      "  ice (2.90)\n",
      "  yay (2.84)\n",
      "  sense (2.84)\n",
      "  gb (2.79)\n",
      "  blew (2.79)\n",
      "  face (2.79)\n",
      "  bullpen (2.73)\n",
      "  nudes (2.73)\n",
      "  dare (2.73)\n",
      "  ो (2.73)\n",
      "  clearly (2.73)\n",
      "  😂 (2.72)\n",
      "  seems (2.70)\n",
      "  assault (2.66)\n",
      "  photoshopped (2.66)\n",
      "  davis (2.64)\n",
      "  hilarious (2.63)\n"
     ]
    }
   ],
   "source": [
    "print(\"Most negative features:\")\n",
    "for idx in top_negative_features:\n",
    "    print(\"  {:s} ({:.02f})\".format(vocab.id_to_word[idx], \n",
    "                                    linear_weights[idx]))\n",
    "print(\"\")\n",
    "print(\"Most positive features:\")\n",
    "for idx in top_positive_features:\n",
    "    print(\"  {:s} ({:.02f})\".format(vocab.id_to_word[idx], \n",
    "                                    linear_weights[idx]))\n",
    "    \n"
   ]
  },
  {
   "cell_type": "markdown",
   "metadata": {},
   "source": [
    "###### "
   ]
  },
  {
   "cell_type": "code",
   "execution_count": 12,
   "metadata": {},
   "outputs": [
    {
     "data": {
      "text/plain": [
       "[[22.88759193778526, 428],\n",
       " [19.719630660407091, 122],\n",
       " [17.705800035489261, 21],\n",
       " [17.647464772685197, 499],\n",
       " [17.079760841568572, 526],\n",
       " [15.607175595868057, 342],\n",
       " [15.239575608006248, 500],\n",
       " [13.465934798743831, 847],\n",
       " [12.911635022491254, 775],\n",
       " [12.731874485355803, 270],\n",
       " [12.731874485355803, 290],\n",
       " [12.613876708571979, 409],\n",
       " [10.59898655166063, 208],\n",
       " [10.563503535385053, 621],\n",
       " [10.169012968955258, 540],\n",
       " [9.8198183489286635, 410],\n",
       " [9.6347684301714764, 740],\n",
       " [9.2541991695932779, 406],\n",
       " [9.0379504096087544, 84],\n",
       " [8.9631887529136236, 115],\n",
       " [8.6155393906980748, 314],\n",
       " [8.5684120460569204, 858],\n",
       " [8.2805447054170713, 493],\n",
       " [7.9076596361223892, 585],\n",
       " [7.7955209563144194, 271],\n",
       " [7.7150847668723088, 395],\n",
       " [7.1347360482703266, 466],\n",
       " [7.1323109556846873, 53],\n",
       " [7.0786912380987133, 19],\n",
       " [6.7755616870452116, 450],\n",
       " [6.6448351452550867, 281],\n",
       " [6.3489216615514295, 855],\n",
       " [6.0588688585214641, 640],\n",
       " [5.8794771696242449, 473],\n",
       " [5.2927659784418779, 678],\n",
       " [5.2088330576929422, 423],\n",
       " [5.1800723251210741, 176],\n",
       " [5.0947906946950638, 413],\n",
       " [5.0739746315172098, 652],\n",
       " [4.958220864076111, 582],\n",
       " [4.8239455541214795, 22],\n",
       " [4.7856098659729582, 708],\n",
       " [4.5080192015618223, 1],\n",
       " [4.4225900344217735, 486],\n",
       " [4.3062878192199037, 378],\n",
       " [4.1018859668156153, 331],\n",
       " [3.9976519080710133, 715],\n",
       " [3.9595049981937223, 675],\n",
       " [3.8574024775680513, 697],\n",
       " [3.740520230268146, 823],\n",
       " [3.5385811107051381, 219],\n",
       " [3.4681574164205529, 655],\n",
       " [3.4432483735614028, 459],\n",
       " [3.4185131517570539, 278],\n",
       " [3.4138812913109859, 100],\n",
       " [3.400884436546761, 367],\n",
       " [3.2007530990766782, 101],\n",
       " [3.1336168540817084, 80],\n",
       " [2.8921026410563684, 844],\n",
       " [2.8525104726910513, 280],\n",
       " [2.7859467920189047, 645],\n",
       " [2.7810900109619752, 190],\n",
       " [2.7810900109619752, 376],\n",
       " [2.5939920973289716, 470],\n",
       " [2.5486106181958235, 300],\n",
       " [2.527426846403614, 34],\n",
       " [2.5031974108735753, 343],\n",
       " [2.4845146546819024, 422],\n",
       " [2.4562373381347697, 265],\n",
       " [2.430208091741564, 259],\n",
       " [2.430208091741564, 293],\n",
       " [2.430208091741564, 471],\n",
       " [2.4231656749120418, 98],\n",
       " [2.2721262210255304, 693],\n",
       " [2.1842083170045044, 562],\n",
       " [2.1204831884293753, 700],\n",
       " [2.0245384083524414, 673],\n",
       " [1.9776278849530797, 758],\n",
       " [1.8503222315668211, 667],\n",
       " [1.8051194560768806, 517],\n",
       " [1.7510060989878866, 648],\n",
       " [1.72877835323726, 81],\n",
       " [1.6670354139203312, 636],\n",
       " [1.6569480785074973, 616],\n",
       " [1.5791264636333793, 574],\n",
       " [1.5702902507813405, 657],\n",
       " [1.514049033889286, 547],\n",
       " [1.4754135655172718, 16],\n",
       " [1.4429567478036063, 802],\n",
       " [1.3609791867356265, 258],\n",
       " [1.256102344857652, 421],\n",
       " [1.2179811061851069, 242],\n",
       " [1.192363878839501, 352],\n",
       " [1.1531348912738721, 288],\n",
       " [1.1172894700110589, 119],\n",
       " [1.0517531494652701, 756],\n",
       " [1.0173016659355056, 11],\n",
       " [1.005701951744669, 532],\n",
       " [0.98911566293003261, 737],\n",
       " [0.90362203297303267, 370],\n",
       " [0.8820232368163019, 78],\n",
       " [0.87363912927134635, 630],\n",
       " [0.84859242927382184, 835],\n",
       " [0.83280609118455118, 659],\n",
       " [0.73251371499208062, 579],\n",
       " [0.59611975863073496, 419],\n",
       " [0.5735103882222532, 165],\n",
       " [0.57113628241548042, 71],\n",
       " [0.51364237692791903, 541],\n",
       " [0.49078313257737705, 402],\n",
       " [0.4906650074075074, 448],\n",
       " [0.48206741615847193, 432],\n",
       " [0.45562367527151082, 252],\n",
       " [0.42089122550459024, 355],\n",
       " [0.4067501389959034, 605],\n",
       " [0.3033351947765226, 231],\n",
       " [0.1990064016948736, 528],\n",
       " [0.13830913329587702, 65],\n",
       " [0.11110797577154585, 696],\n",
       " [0.073100091767884123, 195],\n",
       " [0.064554459613106019, 519]]"
      ]
     },
     "execution_count": 12,
     "metadata": {},
     "output_type": "execute_result"
    }
   ],
   "source": [
    "predictions = nb.predict(x_test_sparse)\n",
    "wrong = predictions != test_labels\n",
    "logits = nb.predict_log_proba(x_test_sparse)\n",
    "\n",
    "def incorrect_confidence(wrong, logits, predictions):\n",
    "    indeces = np.where(wrong)\n",
    "    wrong_predictions = predictions[indeces]\n",
    "    wrong_logits = logits[indeces]\n",
    "    \n",
    "    return [[wrong_logits[i][value] - wrong_logits[i][1-value], indeces[0][i]] for i, value in enumerate(wrong_predictions)]\n",
    "\n",
    "sorted(incorrect_confidence(wrong, logits, predictions), key = lambda logit: -logit[0])\n",
    "\n",
    "\n",
    "\n",
    "#[a] -  nb.predict_log_proba(x_test_sparse)[wrong][1-a]"
   ]
  },
  {
   "cell_type": "code",
   "execution_count": 14,
   "metadata": {},
   "outputs": [
    {
     "name": "stdout",
     "output_type": "stream",
     "text": [
      "['hangover' '!' '🍺' 'HASHTAG' 'HASHTAG' 'HASHTAG' 'HASHTAG' 'HASHTAG'\n",
      " 'HASHTAG' 'HASHTAG' 'HASHTAG' 'HASHTAG' 'HASHTAG' 'HASHTAG' 'HASHTAG'\n",
      " 'HASHTAG' 'HASHTAG' 'HASHTAG' 'HASHTAG' 'HASHTAG' 'HASHTAG' 'HASHTAG'\n",
      " 'HASHTAG' 'HASHTAG' 'HASHTAG' 'HASHTAG' 'HASHTAG' 'HASHTAG' 'HASHTAG'\n",
      " 'HASHTAG' 'HASHTAG' 'HASHTAG' 'HASHTAG' 'HASHTAG' 'HASHTAG' '💋' 'LINK']\n",
      "1\n",
      "0\n"
     ]
    }
   ],
   "source": [
    "index = 428\n",
    "print(test_sentences[index])\n",
    "print(test_labels[index])\n",
    "print(predictions[index])"
   ]
  },
  {
   "cell_type": "code",
   "execution_count": 15,
   "metadata": {},
   "outputs": [
    {
     "name": "stdout",
     "output_type": "stream",
     "text": [
      "['this' 'one' 'enter' 'gan' '!' '!' '!' '-' '-' '-' 'follow' 'ACCOUNT' '-'\n",
      " '-' 'HASHTAG' 'HASHTAG' 'HASHTAG' 'HASHTAG' 'HASHTAG' 'HASHTAG' 'HASHTAG'\n",
      " 'HASHTAG' 'HASHTAG' 'HASHTAG' 'HASHTAG' 'HASHTAG' 'HASHTAG' 'HASHTAG'\n",
      " 'HASHTAG' 'HASHTAG' 'HASHTAG' 'HASHTAG' 'HASHTAG' 'HASHTAG' 'HASHTAG'\n",
      " 'LINK']\n",
      "1\n",
      "0\n"
     ]
    }
   ],
   "source": [
    "index = 122\n",
    "print(test_sentences[index])\n",
    "print(test_labels[index])\n",
    "print(predictions[index])"
   ]
  },
  {
   "cell_type": "code",
   "execution_count": 16,
   "metadata": {},
   "outputs": [
    {
     "name": "stdout",
     "output_type": "stream",
     "text": [
      "['LINK' '…' '…' '…' '…' '…' '…' '…' '…' '…' '…' '…' '…' '…' '…' '…' '…' '…'\n",
      " '…' 'once' 'upon' 'a' 'time' '(' 'spin' ')' 'featuring' 'ACCOUNT' 'of'\n",
      " 'd12' 'HASHTAG' 'HASHTAG' 'HASHTAG' 'HASHTAG' 'HASHTAG' 'HASHTAG'\n",
      " 'HASHTAG' 'HASHTAG' 'HASHTAG' 'HASHTAG' 'HASHTAG' 'HASHTAG' 'HASHTAG'\n",
      " 'HASHTAG' '#' 'hiphop' 'HASHTAG']\n",
      "1\n",
      "0\n"
     ]
    }
   ],
   "source": [
    "index =21\n",
    "print(test_sentences[index])\n",
    "print(test_labels[index])\n",
    "print(predictions[index])"
   ]
  },
  {
   "cell_type": "code",
   "execution_count": 18,
   "metadata": {},
   "outputs": [
    {
     "name": "stdout",
     "output_type": "stream",
     "text": [
      "['meme' 'war' '!' 'a' 'massive' 'collection' '.' 'LINK' 'HASHTAG' 'HASHTAG'\n",
      " 'HASHTAG' 'HASHTAG' 'HASHTAG' 'HASHTAG' 'HASHTAG' 'HASHTAG' 'HASHTAG'\n",
      " 'HASHTAG' 'HASHTAG' 'HASHTAG' 'HASHTAG' 'HASHTAG' 'HASHTAG' 'HASHTAG'\n",
      " 'HASHTAG' 'HASHTAG' 'HASHTAG' 'HASHTAG' 'HASHTAG']\n",
      "1\n",
      "0\n"
     ]
    }
   ],
   "source": [
    "index = 270\n",
    "print(test_sentences[index])\n",
    "print(test_labels[index])\n",
    "print(predictions[index])"
   ]
  },
  {
   "cell_type": "code",
   "execution_count": 20,
   "metadata": {},
   "outputs": [
    {
     "name": "stdout",
     "output_type": "stream",
     "text": [
      "['wide' 'awake' 'for' 'once' 'HASHTAG' 'HASHTAG' 'HASHTAG' 'HASHTAG'\n",
      " 'HASHTAG' 'HASHTAG' 'HASHTAG' 'HASHTAG' 'HASHTAG' 'HASHTAG' 'HASHTAG'\n",
      " 'HASHTAG' 'HASHTAG' ':/' '/' 't.co/fuubiehpxu']\n",
      "1\n",
      "0\n"
     ]
    }
   ],
   "source": [
    "index = 208\n",
    "print(test_sentences[index])\n",
    "print(test_labels[index])\n",
    "print(predictions[index])"
   ]
  },
  {
   "cell_type": "code",
   "execution_count": null,
   "metadata": {
    "collapsed": true
   },
   "outputs": [],
   "source": [
    "# No hashtag model has a big problem when a message is made up of many hashtags"
   ]
  }
 ],
 "metadata": {
  "kernelspec": {
   "display_name": "Python 3",
   "language": "python",
   "name": "python3"
  },
  "language_info": {
   "codemirror_mode": {
    "name": "ipython",
    "version": 3
   },
   "file_extension": ".py",
   "mimetype": "text/x-python",
   "name": "python",
   "nbconvert_exporter": "python",
   "pygments_lexer": "ipython3",
   "version": "3.6.1"
  }
 },
 "nbformat": 4,
 "nbformat_minor": 2
}
