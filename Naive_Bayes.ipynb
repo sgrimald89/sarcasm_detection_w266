{
 "cells": [
  {
   "cell_type": "code",
   "execution_count": 173,
   "metadata": {
    "collapsed": true
   },
   "outputs": [],
   "source": [
    "from __future__ import print_function\n",
    "from __future__ import division\n",
    "import collections\n",
    "import nltk\n",
    "import numpy as np\n",
    "from nltk.tokenize.casual import TweetTokenizer\n",
    "from w266_common import utils, vocabulary\n"
   ]
  },
  {
   "cell_type": "code",
   "execution_count": 174,
   "metadata": {},
   "outputs": [
    {
     "name": "stdout",
     "output_type": "stream",
     "text": [
      "@donttrythis Dam there must be a tell of a lot of mentally ill people in the USA. I mean more than most 1st world countries. Must be something in the water or how they are  brought up.  |You are wronghttps://twitter.com/tlorens/status/977254283354746886 …|1\r\n",
      "@marcoPalba @CNNPolitics @CNN Yup because they look bad azz banning them wont do anything.  |Most of us want a ban on ARs and that is it. Stricter background checks too.|1\r\n",
      "@DanTheBeepMan @danabrams Shouldnt have beeped the man, dood. #livepd   #fulldisclosure #hesnotbuyingpizza|Dan the Beep Man 👮‍♂️🚔 on Twitter:  Don t think I have that much money!|1\r\n",
      "@prrobbins My wife says the same thing to me.Wife: You need to adapt to me, not  expect me to you.Me: WTF is this world coming to. Lol.😂   😜 https://t.co/zSmCUpPe8z|Traders need to adapt to the market. Not expect the market to adapt to them. |1\r\n",
      "@prrobbins Now if my wife &amp; girlfriend could just get along... Blahhh Lol.😂 😂 💩   #kidding 😜 https://t.co/YgQjztfivl|Happy wife. Happy life.|1\r\n",
      "@csmonitor I call for Hollywood to stop making all violent movies and all music refrain from violent lyrics ... 🤣 |Trevon Bosley is a Chicago teenager who lost his brother to gun violence. He spoke at #MarchForOurLives in the nation s capital.pic.twitter.com/x8MBugwmpv|1\r\n",
      "@BroadStBull Im sure Hakstol will have the best possible lineup suited up tomorrow. No worries.    #nhlcoach|Updated standings. Devils and Panthers win Sat. to put pressure on #Flyers. Jackets finally lose.pic.twitter.com/2WpxFZydE6|1\r\n",
      "@JennSmith64 We all LOVE morgane. (  ) https://t.co/jgk5XO15xW|None|1\r\n",
      "@Tokaise Well, you know,... ummm, uuuuuuhhh, now that you mention it, uhhhh you must be a racist for asking such a question!  |Question: When Democrats say voter I.D. is racist. Isn t saying that racist? Aren t they assuming a certain  race or races aren t smart enough to get I.D. And if they aren t smart enough to get I.D. Should they really be deciding on who runs our government?pic.twitter.com/blKgpawZlB|1\r\n",
      "@FLAVOLS @robbysoave History?  It was made by a bunch of old white heterosexual guys. What do they know?   |They don’t teach history anymore apparently|1\r\n"
     ]
    }
   ],
   "source": [
    "!tail merged_data_v3.csv"
   ]
  },
  {
   "cell_type": "code",
   "execution_count": 203,
   "metadata": {},
   "outputs": [],
   "source": [
    "import csv\n",
    "tokenizer = TweetTokenizer()\n",
    "x_data = []\n",
    "labels = []\n",
    "sentences = []\n",
    "class PaddingAndTruncating:\n",
    "    def __init__(self, max_len):\n",
    "        self.max_len = max_len\n",
    "    \n",
    "    def pad_or_truncate(self, sentence):\n",
    "        sen_len = len(sentence)\n",
    "        paddings = self.max_len - sen_len\n",
    "        if paddings >=0:\n",
    "            return sentence + [\"<PADDING>\"] * paddings\n",
    "        return sentence[0:paddings]\n",
    "        \n",
    "PadAndTrunc = PaddingAndTruncating(10)\n",
    "        \n",
    "  \n",
    "with open('merged_data_v3.csv', 'r') as csvfile:\n",
    "    linereader = csv.reader(csvfile, delimiter = '|')\n",
    "    for i, row in enumerate(linereader):\n",
    "        if i == 0:\n",
    "            continue\n",
    "        sentence, _, sarcasm = row\n",
    "        #sentences.append(sentence)\n",
    "        tokenized_words = PadAndTrunc.pad_or_truncate(tokenizer.tokenize(sentence))\n",
    "        x_tokens = utils.canonicalize_words(tokenized_words, hashtags = False)\n",
    "        index = np.argwhere(x_tokens==\"sarcasm\")\n",
    "        x_tokens = np.delete(x_tokens, index)\n",
    "        index = np.argwhere(x_tokens==\"sarcastic\")\n",
    "        x_tokens = np.delete(x_tokens, index)\n",
    "        x_data.append(x_tokens)\n",
    "        labels.append(int(sarcasm))\n",
    "\n",
    "\n",
    "shuffle_indices = np.random.permutation(np.arange(len(labels)))\n",
    "train_split_idx = int(0.6 * len(labels))\n",
    "test_split_idx  = int(0.9 * len(labels))\n",
    "\n",
    "train_indices = shuffle_indices[:train_split_idx]\n",
    "validation_indices = shuffle_indices[train_split_idx:test_split_idx]\n",
    "test_indices = shuffle_indices[test_split_idx:]\n",
    "\n",
    "x_data = np.array(x_data)\n",
    "labels = np.array(labels)\n",
    "train_sentences = x_data[train_indices]\n",
    "train_labels= labels[train_indices] \n",
    "validation_sentences = x_data[validation_indices]\n",
    "validation_labels = labels[validation_indices]\n",
    "test_sentences = x_data[test_indices]  \n",
    "test_labels = labels[test_indices]  \n",
    "\n"
   ]
  },
  {
   "cell_type": "code",
   "execution_count": 204,
   "metadata": {},
   "outputs": [
    {
     "name": "stdout",
     "output_type": "stream",
     "text": [
      "x_ids = {'<s>': 0, '</s>': 1, '<unk>': 2, 'ACCOUNT': 3, ':': 4, 'rt': 5, '<padding>': 6, 'to': 7, 'the': 8, 'a': 9, ',': 10, '.': 11, '!': 12, 'LINK': 13, 'i': 14, 'is': 15, 'of': 16, 'for': 17, 'you': 18, '...': 19, 'in': 20, 'and': 21, '?': 22, '’': 23, '-': 24, 'on': 25, 'this': 26, 'guy': 27, 'that': 28, 'happen': 29, 'it': 30, 'couldnt': 31, 'nicer': 32, 'with': 33, 'DG': 34, 'are': 35, 'my': 36, 'we': 37, 'so': 38, 'your': 39, 'DGDG': 40, 'can': 41, 'at': 42, 'have': 43, 'if': 44, 'how': 45, 'what': 46, 'just': 47, 'be': 48, 's': 49, 'out': 50, 'all': 51, 'not': 52, 'like': 53, 'its': 54, 'but': 55, 'me': 56, '(': 57, 'by': 58, 'no': 59, 'about': 60, 'new': 61, '&': 62, 'our': 63, 'oh': 64, 'now': 65, 'do': 66, 'good': 67, 'from': 68, 'best': 69, 't': 70, '#funny': 71, 'was': 72, 'they': 73, 'when': 74, 'one': 75, 'please': 76, '/': 77, 'will': 78, 'people': 79, 'free': 80, 'get': 81, 'love': 82, 'im': 83, 'DGDGDGDG': 84, 'quotes': 85, 'he': 86, 'as': 87, 'great': 88, 'an': 89, 'has': 90, 'more': 91, '$': 92, 'who': 93, '…': 94, 'really': 95, 'time': 96, '🔥': 97, 'well': 98, '*': 99, '😂': 100, 'why': 101, 'know': 102, 'thats': 103, 'check': 104, 'am': 105, 'up': 106, 'only': 107, 'DGDGDG': 108, 'day': 109, 'dont': 110, 'us': 111, 'see': 112, 'today': 113, 'via': 114, 'follow': 115, 'had': 116, 'think': 117, ')': 118, '️': 119, '#win': 120, 'thanks': 121, 'there': 122, 'want': 123, 'need': 124, '#blockchain': 125, 'yeah': 126, 'latest': 127, 'should': 128, 'win': 129, '#music': 130, 'been': 131, 'wow': 132, 'make': 133, 'online': 134, 'sex': 135, '#news': 136, 'news': 137, '#': 138, 'another': 139, 'here': 140, 'm': 141, 'being': 142, 'were': 143, 'back': 144, 'right': 145, 'live': 146, 'would': 147, 'because': 148, 'hey': 149, 'sure': 150, 'some': 151, 'their': 152, 'hard': 153, 'cams': 154, 'surprise': 155, '#job': 156, '“': 157, '#bitcoin': 158, 'yes': 159, 'going': 160, 'those': 161, '#breaking': 162, 'work': 163, 'never': 164, 'said': 165, 'don': 166, '↴': 167, 'happy': 168, 'someone': 169, 'go': 170, 'or': 171, '#giveaway': 172, '#school': 173, 'first': 174, 'airdrop': 175, 'looking': 176, 'every': 177, 'most': 178, 'sarcasm': 179, 'wait': 180, 'way': 181, '#tshirt': 182, 'than': 183, 'very': 184, 'after': 185, 'games': 186, 'these': 187, '#memes': 188, 'es': 189, '#elementary': 190, 'top': 191, 'white': 192, 'always': 193, 'her': 194, 'thought': 195, 'trump': 196, 'come': 197, '#health': 198, 'cant': 199, 'youre': 200, 'over': 201, 'left': 202, 'everyone': 203, 'thank': 204, 'ever': 205, 'keep': 206, 'look': 207, 'take': 208, 'much': 209, 'nice': 210, 'man': 211, 'his': 212, '[': 213, 'daily': 214, '#blog': 215, 'join': 216, 'thing': 217, 'nothing': 218, 'spring': 219, 'read': 220, '#love': 221, 'DG.DG': 222, '..': 223, 'real': 224, 'hilarious': 225, 'giveaway': 226, 'anyone': 227, 'life': 228, '#architecture': 229, 'days': 230, '#home': 231, '#jokes': 232, 'last': 233, 'help': 234, 'made': 235, 'many': 236, 'got': 237, '##funnyquotes': 238, '##funnysayings': 239, 'again': 240, '#photography': 241, 'crypto': 242, 'token': 243, '#interiordesign': 244, '#decoration': 245, '#puns': 246, 'watch': 247, 'stop': 248, 'lowest': 249, 'into': 250, '+': 251, 'team': 252, '#nowplaying': 253, '#programming': 254, 'march': 255, 'did': 256, '@': 257, 'where': 258, 'guys': 259, 'bad': 260, 'form': 261, '#wit': 262, 'sometimes': 263, 'shocked': 264, ']': 265, '#cryptocurrency': 266, 'game': 267, 'still': 268, '#competition': 269, 'glad': 270, 'say': 271, 'such': 272, 'must': 273, 'hes': 274, 'could': 275, 'enter': 276, 'call': 277, 'year': 278, 'start': 279, 'twitter': 280, 'money': 281, 'share': 282, 'community': 283, 'world': 284, '#twitter': 285, 'home': 286, '>': 287, 'redbubble': 288, 'kids': 289, 'shocking': 290, '#socialmedia': 291, '#facebook': 292, '”': 293, 'DGDGDGDGDG': 294, '#fortnite': 295, 'lol': 296, 'off': 297, 'finally': 298, 'let': 299, '#nra': 300, 'tweet': 301, 'u': 302, 'didnt': 303, 'down': 304, 'does': 305, 'sunday': 306, 'seems': 307, 'old': 308, 'show': 309, 'long': 310, '‘': 311, 'little': 312, 'says': 313, 'video': 314, 'cool': 315, 'guns': 316, 'funny': 317, 'getting': 318, 'mean': 319, '#stem': 320, 're': 321, 'favorite': 322, 'since': 323, 'forward': 324, 'things': 325, 'find': 326, 'sale': 327, 'change': 328, 'friends': 329, 'luxuryliferss': 330, 'fun': 331, 'giving': 332, 'also': 333, 'arent': 334, 'away': 335, 'she': 336, '#robotics': 337, 'hear': 338, 'DGDGDGDGDGDG': 339, 'remember': 340, 'job': 341, 'article': 342, 'which': 343, 'then': 344, 'lets': 345, '%': 346, 'using': 347, 'use': 348, '#satoshi': 349, 'give': 350, 'women': 351, 'god': 352, 'him': 353, 'bitcoin': 354, 'gb': 355, '#airdrop': 356, '#lol': 357, 'around': 358, 'two': 359, '#luxury': 360, '#live': 361, 'making': 362, 'years': 363, '#fun': 364, 'part': 365, 'tonight': 366, 'history': 367, '#rock': 368, 'ico': 369, 'wonder': 370, '–': 371, 'black': 372, 'service': 373, 'morning': 374, '#marchforourlives': 375, 'click': 376, 'makes': 377, 'excited': 378, 'try': 379, 'beautiful': 380, 'once': 381, 'run': 382, 'following': 383, 'towards': 384, 'easter': 385, '#fashion': 386, 'isnt': 387, 'next': 388, 'blog': 389, 'getreallux': 390, '#pop': 391, 'post': 392, 'incredible': 393, '🚀': 394, '#airdropnew': 395, 'almost': 396, 'hour': 397, 'without': 398, 'chance': 399, 'buy': 400, 'needs': 401, 'classic': 402, 'super': 403, 'other': 404, 'art': 405, 'them': 406, 'dreams': 407, 'd': 408, 'same': 409, 'takes': 410, 'else': 411, '#fitness': 412, 'india': 413, 'ive': 414, 'recommend': 415, 'big': 416, '3d': 417, 'wrong': 418, 'looks': 419, 'gun': 420, 'joke': 421, 'usa': 422, 'playing': 423, 'add': 424, 'bring': 425, 'company': 426, 'united': 427, 'president': 428, 'important': 429, '#livebroadcasting': 430, 'media': 431, 'pushing': 432, 'face': 433, '#business': 434, 'saying': 435, 'ask': 436, 'worth': 437, '£': 438, 'running': 439, '=': 440, 'school': 441, 'meet': 442, 'intelligence': 443, 'artists': 444, 'learn': 445, 'maybe': 446, ':)': 447, '#earn_money': 448, 'crazy': 449, 'perfect': 450, 'case': 451, 'announce': 452, 'official': 453, '#ethereum': 454, 'data': 455, 'story': 456, 'view': 457, 'totally': 458, 'men': 459, 'sounds': 460, 'may': 461, 'doing': 462, '🤣': 463, 'mother': 464, 'everything': 465, 'isn': 466, 'open': 467, 'create': 468, 'listen': 469, 'hours': 470, 'support': 471, 'seth': 472, 'even': 473, '❤': 474, 'goes': 475, 'true': 476, 'coming': 477, 'put': 478, 'pretty': 479, 'amazing': 480, 'project': 481, 'believe': 482, 'social': 483, 'problem': 484, '#summercamp': 485, 'theres': 486, 'week': 487, 'having': 488, '📢': 489, 'size': 490, 'internet': 491, 'nra': 492, '♫': 493, '#lastfm': 494, 'awesome': 495, 'fuck': 496, 'before': 497, 'facebook': 498, 'times': 499, 'feel': 500, 'digital': 501, 'guess': 502, ';': 503, 'happened': 504, 'family': 505, 'reached': 506, 'won': 507, 'welcome': 508, 'talking': 509, '😍': 510, 'better': 511, 'winner': 512, '2nd': 513, 'ok': 514, 'vintage': 515, 'yet': 516, 'cricket': 517, 'center': 518, 'definitely': 519, 'theyre': 520, 'racing': 521, 'something': 522, 'single': 523, '⏬': 524, 'understand': 525, 'season': 526, 'entered': 527, '👍': 528, 'yay': 529, 'business': 530, 'instagram': 531, 'done': 532, 'speak': 533, 'australia': 534, 'lot': 535, 'DG.DGDG': 536, '#rt': 537, 'idea': 538, 'fans': 539, 'exactly': 540, 'commission': 541, 'music': 542, 'food': 543, 'fund': 544, '#dance': 545, 'master': 546, 'already': 547, 'high': 548, 'million': 549, 'breaking': 550, 'exchange': 551, 'words': 552, 'ready': 553, '#crypto': 554, 'question': 555, '#hiring': 556, 'opening': 557, 'proud': 558, 'knows': 559, 'points': 560, 'national': 561, 'night': 562, '#wrestlemania': 563, 'through': 564, '#like': 565, 'update': 566, 't-shirts': 567, 'printed': 568, 'vs': 569, 'mike': 570, 'wants': 571, 'international': 572, ':/': 573, 'class': 574, 'probably': 575, 'european': 576, 'health': 577, 'todays': 578, '#classes': 579, '#designing': 580, '#tech': 581, 'richs': 582, 'roommate': 583, 'dov': 584, 'friedman': 585, 'spent': 586, '#weekend': 587, 'might': 588, '🎁': 589, 'designer': 590, 'took': 591, 'feeling': 592, 'shit': 593, '#bloggersrequired': 594, '#bloggerssparkle': 595, 'tips': 596, 'end': 597, 'uk': 598, '#food': 599, 'works': 600, 'interesting': 601, 'government': 602, 'any': 603, 'five': 604, 'least': 605, 'card': 606, 'blockchain': 607, 'simple': 608, 'shot': 609, 'miss': 610, 'awp': 611, 'name': 612, 'girl': 613, 'turned': 614, 'human': 615, 'massive': 616, 'battle': 617, 'behind': 618, 'save': 619, 'pay': 620, 'book': 621, 'whats': 622, 'currency': 623, 'fine': 624, '#humour': 625, 'watching': 626, 'working': 627, 'dare': 628, 'ya': 629, 'enough': 630, 'hands': 631, 'male': 632, 'match': 633, 'award': 634, 'fortnite': 635, '🎉': 636, 'knew': 637, 'competition': 638, 'power': 639, '✨': 640, 'girls': 641, 'both': 642, 'drink': 643, 've': 644, 'farms': 645, 'against': 646, 'sorry': 647, 'picture': 648, 'seen': 649, 'market': 650, '🇺': 651, '🇸': 652, 'rajasthan': 653, 'royals': 654, 'act': 655, 'found': 656, 'earth': 657, '#porn': 658, '#technology': 659, '#modeling': 660, 'ahead': 661, 'trying': 662, '®': 663, 'car': 664, 'professional': 665, 'group': 666, 'hope': 667, '▶': 668, 'double': 669, 'marketing': 670, 'xbox': 671, 'hits': 672, 'customer': 673, 'actually': 674, 'photo': 675, 'tell': 676, '#luxurycars': 677, '#art': 678, 'sending': 679, 'english': 680, '#np': 681, 'strong': 682, 'came': 683, 'america': 684, 'public': 685, 'enjoy': 686, 'successful': 687, 'spread': 688, 'young': 689, '#gaming': 690, 'sweet': 691, 'code': 692, 'given': 693, 'song': 694, 'drive': 695, 'plz': 696, 'bill': 697, 'house': 698, '🏻': 699, 'price': 700, 'system': 701, 'helped': 702, 'event': 703, 'throw': 704, 'uses': 705, 'unique': 706, 'talk': 707, 'prince': 708, 'police': 709, 'bombs': 710, 'play': 711, 'word': 712, 'biggest': 713, 'mr': 714, 'friend': 715, 'trust': 716, 'club': 717, '#iphone': 718, 'build': 719, '#marketing': 720, 'four': 721, 'lost': 722, 'superpower': 723, 'students': 724, '🏘': 725, 'plan': 726, 'nudes': 727, '#photos': 728, 'wall': 729, 'ball': 730, 'finish': 731, '#kids': 732, 'privacy': 733, 'damn': 734, 'imagine': 735, 'lose': 736, 'fire': 737, 'city': 738, 'brand': 739, 'website': 740, 'sad': 741, 'birthday': 742, 'members': 743, 'fake': 744, 'popular': 745, 'killer': 746, 'course': 747, 'angela': 748, 'merkel': 749, 'monday': 750, 'congress': 751, 'league': 752, 'global': 753, '<': 754, '#opportunity': 755, '#aptask': 756, 'centreville': 757, 'decades': 758, 'manipulating': 759, 'extra': 760, 'blue': 761, 'random': 762, '🍀': 763, 'lives': 764, 'own': 765, 'heres': 766, 'dear': 767, '#btc': 768, '#supercars': 769, 'too': 770, 'set': 771, 'planning': 772, 'photoshopped': 773, '~': 774, 'whole': 775, '#capital': 776, 'bin': 777, 'missed': 778, 'evil': 779, 'prize': 780, '🙄': 781, 'delightful': 782, '#bethereum': 783, 'jesus': 784, 'safe': 785, 'lucky': 786, 'states': 787, 'sick': 788, 'anymore': 789, '#twitch': 790, 'light': 791, 'message': 792, 'cricketer': 793, 'radio': 794, 'questions': 795, 'DGDG.DGDG': 796, 'brilliant': 797, 'gift': 798, 'report': 799, 'whos': 800, 'gets': 801, 'ft': 802, '#photo': 803, '📷': 804, 'sports': 805, 'soon': 806, 'tea': 807, 'shooting': 808, 'poor': 809, 'write': 810, 'sir': 811, 'hair': 812, 'telegram': 813, '#follow': 814, '#ico': 815, 'safety': 816, '🙌': 817, 'person': 818, 'truth': 819, 'weekly': 820, 'yesterday': 821, 'ur': 822, 'cold': 823, 'retweet': 824, 'design': 825, 'obvious': 826, 'ah': 827, 'during': 828, 'garbage': 829, 'bringing': 830, '#realestate': 831, 'added': 832, 'david': 833, 'tag': 834, 'lie': 835, 'anything': 836, 'fucks': 837, '#funnytshirt': 838, 'bank': 839, 'needed': 840, 'difference': 841, 'short': 842, 'park': 843, 'pass': 844, '#bloggerssupportingbloggers': 845, '#life': 846, 'powerful': 847, 'beat': 848, 'mind': 849, '#anime': 850, '✈': 851, '📸': 852, 'fucking': 853, '💫': 854, 'photography': 855, 'easy': 856, 'chicago': 857, 'gave': 858, 'starting': 859, 'tweeted': 860, 'star': 861, 'forgot': 862, 'artificial': 863, 'improve': 864, 'point': 865, 'account': 866, 'months': 867, 'ceo': 868, 'small': 869, 'guard': 870, 'heard': 871, 'turns': 872, 'americans': 873, '#android': 874, 'aint': 875, 'yoga': 876, 'sitting': 877, 'while': 878, 'less': 879, 'assets': 880, '🐣': 881, 'went': 882, 'posted': 883, 'franchise': 884, 'decides': 885, 'sack': 886, 'party': 887, 'teacher': 888, 'started': 889, 'flat': 890, 'kik': 891, '#funnyquotes': 892, 'association': 893, 'head': 894, 'yea': 895, 'junhoe': 896, '#girls': 897, 'boy': 898, 'austin': 899, 'dude': 900, 'inside': 901, '#usa': 902, 'manager': 903, '#DGDG': 904, 'followers': 905, 'o': 906, '#team': 907, '#photooftheday': 908, 'ban': 909, 'used': 910, 'graphite': 911, '☘': 912, 'comes': 913, 'hit': 914, '#ai': 915, 'forget': 916, '#humor': 917, 'classy': 918, '#science': 919, 'nature': 920, '#carnivore': 921, '#paradigm': 922, '#interactions': 923, '#venture': 924, 'buyout': 925, 'declined': 926, 'shout': 927, 'church': 928, 'attacks': 929, 'bomber': 930, 'written': 931, 'governed': 932, 'doesn': 933, 'taking': 934, '#politics': 935, 'worse': 936, '#stemcamps': 937, 'currently': 938, 'loading': 939, 'weeks': 940, 'late': 941, 'asking': 942, 'hi': 943, 'london': 944, 'quite': 945, '#game': 946, 'future': 947, 'sense': 948, 'r': 949, 'yup': 950, 'bitrace': 951, 'until': 952, 'myself': 953, 'amazon': 954, 'politician': 955, 'brave': 956, 'shift': 957, 'celebration': 958, 'celebrate': 959, 'under': 960, 'date': 961, 'bunch': 962, '🎶': 963, '#brand': 964, 'california': 965, 'DGDG/DG': 966, 'ppl': 967, 'reason': 968, 'sexy': 969, 'murdered': 970, 'minutes': 971, 'month': 972, 'technologies': 973, '#spring': 974, 'hashtag': 975, '#new': 976, 'youtube': 977, 'hell': 978, '#retweet': 979, 'pre-ico': 980, 'worry': 981, 'leave': 982, 'usd': 983, 'break': 984, 'mark': 985, 'mine': 986, 'attention': 987, 'wonderful': 988, 'weather': 989, 'wont': 990, 'kerr': 991, 'starters': 992, 'photos': 993, 'confused': 994, 'detailed': 995, 'overview': 996, 'projects': 997, 'effort': 998, 'cut': 999, 'planned': 1000, 'parenthood': 1001, 'pp': 1002, 'pitch': 1003, '👉': 1004, 'partnership': 1005, 'steel': 1006, 'between': 1007, '#grlpwr': 1008, 'self': 1009, 'deal': 1010, 'fancy': 1011, 'generation': 1012, '#branding': 1013, 'illegal': 1014, '#startup': 1015, 'second': 1016, 'epic': 1017, 'didn': 1018, 'red': 1019, '#travel': 1020, 'gonna': 1021, 'quality': 1022, 'users': 1023, 'DGDG/DGDG': 1024, 'feet': 1025, '\\u200d': 1026, '#breakingnews': 1027, 'btc': 1028, 'text': 1029, 'airport': 1030, 'state': 1031, 'berlin': 1032, 'allowed': 1033, 'film': 1034, 'fox': 1035, 'trumps': 1036, 'weekend': 1037, 'become': 1038, 'da': 1039, '#truth': 1040, 'player': 1041, 'based': 1042, 'changes': 1043, 'guide': 1044, 'mining': 1045, '#trx': 1046, 'w': 1047, 'congrats': 1048, '#trump': 1049, 'turn': 1050, 'hate': 1051, 'kid': 1052, 'sales': 1053, 'gold': 1054, 'major': 1055, 'told': 1056, '🥇': 1057, 'okay': 1058, 'fantastic': 1059, 'calling': 1060, 'teams': 1061, 'paper': 1062, '#innovation': 1063, 'control': 1064, '#reality': 1065, '#data': 1066, '#education': 1067, 'brain': 1068, 'terrorist': 1069, 'kill': 1070, 'side': 1071, 'DGDG:DGDG': 1072, 'lord': 1073, '#yoga': 1074, 'omg': 1075, 'step': 1076, 'available': 1077, 'worthy': 1078, 'law': 1079, 'access': 1080, 'yourself': 1081, 'wife': 1082, 'nobody': 1083, 'talent': 1084, '⇨': 1085, '#bitcointalk': 1086, 'place': 1087, 'april': 1088, 'thinking': 1089, 'smart': 1090, 'note': 1091, 'credit': 1092, '#irony': 1093, 'water': 1094, '⭐': 1095, 'scared': 1096, 'issue': 1097, 'usually': 1098, '#football': 1099, 'fit': 1100, 'greatest': 1101, 'episode': 1102, 'australian': 1103, 'shows': 1104, 'theyve': 1105, 'growing': 1106, 'site': 1107, 'children': 1108, '#graphic_design': 1109, 'villa': 1110, 'collection': 1111, 'saudi': 1112, 'talal': 1113, 'clean': 1114, 'duke': 1115, '😊': 1116, 'caption': 1117, 'special': 1118, '#foxnews': 1119, '#future': 1120, '#beauty': 1121, '#vibes': 1122, '#tonystark': 1123, '#mobileapp': 1124, '#worldtbday': 1125, '#everydayability': 1126, '・': 1127, 'sign': 1128, 'featured': 1129, 'lovely': 1130, '#seo': 1131, 'england': 1132, 'DGDGDGDG.DGDG': 1133, 'campaign': 1134, 'experience': 1135, 'movie': 1136, 'created': 1137, 'cash': 1138, 'technology': 1139, 'lead': 1140, 'santander': 1141, 'claim': 1142, 'bounty': 1143, 'legendary': 1144, 'peter': 1145, 'common': 1146, 'lady': 1147, 'raised': 1148, 'tech': 1149, 'throws': 1150, 'agree': 1151, 'fear': 1152, 'seriously': 1153, 'violent': 1154, 'main': 1155, 'others': 1156, '🤑': 1157, 'tip': 1158, 'instead': 1159, 'member': 1160, 'west': 1161, 'race': 1162, 'reporting': 1163, '#npr': 1164, 'shake-up': 1165, 'finished': 1166, 'intro': 1167, 'google': 1168, 'royale': 1169, 'review': 1170, 'daughter': 1171, 'key': 1172, 'deals': 1173, 'cum': 1174, 'though': 1175, 'platform': 1176, 'v': 1177, 'yasss': 1178, '💯': 1179, 'anthony': 1180, 'conditt': 1181, '#morning': 1182, 'information': 1183, 'bar': 1184, 'huge': 1185, 'bet': 1186, 'impact': 1187, 'problems': 1188, 'list': 1189, 'spending': 1190, 'middle': 1191, 'y': 1192, 'gone': 1193, 'dog': 1194, 'claims': 1195, 'supporting': 1196, 'sit': 1197, 'switch': 1198, 'nope': 1199, 'schools': 1200, 'writing': 1201, 'pop': 1202, 'estate': 1203, 'iq': 1204, '#gin': 1205, 'apply': 1206, 'ass': 1207, '🤔': 1208, 'physical': 1209, 'babies': 1210, 'number': 1211, 'proof': 1212, 'political': 1213, 'movement': 1214, 'country': 1215, 'yep': 1216, 'girlfriend': 1217, 'success': 1218, 'tool': 1219, '#app': 1220, 'final': 1221, 'british': 1222, 'summer': 1223, 'doodle': 1224, 'cryptocurrency': 1225, 'standing': 1226, 'outside': 1227, 'repeating': 1228, '#radio': 1229, 'pre-sale': 1230, '#nsfw': 1231, 'area': 1232, 'medical': 1233, 'graphics': 1234, 'dating': 1235, 'death': 1236, '#DGDGDG': 1237, '#tron': 1238, 'creating': 1239, '#easter': 1240, '#hiphop': 1241, 'stomach': 1242, 'fat': 1243, 'moment': 1244, 'goodbye': 1245, 'pants': 1246, 'songs': 1247, 'highly': 1248, 'reading': 1249, 'israel': 1250, '#listen': 1251, 'mom': 1252, 'dad': 1253, 'bro': 1254, 'japan': 1255, 'de': 1256, 'order': 1257, 'anxiety': 1258, 'xbl': 1259, 'offers': 1260, 'players': 1261, 'stuff': 1262, 'clearly': 1263, '#quotes': 1264, 'senior': 1265, 'heart': 1266, '#following': 1267, 'participation': 1268, 'across': 1269, 'ending': 1270, 'victims': 1271, '#maga': 1272, 'cause': 1273, 'bitcoins': 1274, '3rd': 1275, 'role': 1276, 'issues': 1277, 'secret': 1278, 'nah': 1279, 'perfectly': 1280, 'means': 1281, 'few': 1282, 'approach': 1283, 'speed': 1284, 'rules': 1285, '):': 1286, '🚨': 1287, 'governor': 1288, 'security': 1289, 'send': 1290, 'florida': 1291, 'hypocrisy': 1292, 'stunning': 1293, '#healthcare': 1294, 'liberal': 1295, '#legos': 1296, 'prayers': 1297, 'co-founder': 1298, 'study': 1299, '#tits': 1300, '#adult': 1301, '#girl': 1302, 'model': 1303, 'ai': 1304, '#image': 1305, 'warning': 1306, 'board': 1307, 'flight': 1308, '#cricket': 1309, '#free': 1310, 'different': 1311, 'trudeau': 1312, 'upon': 1313, 'worst': 1314, 'conway': 1315, 'anime': 1316, 'marching': 1317, 'seeing': 1318, 'modi': 1319, 'teachers': 1320, '#freebiefriday': 1321, 'tweets': 1322, '🌷': 1323, '📻': 1324, 'learning': 1325, 'van': 1326, 'healthcare': 1327, 'sea': 1328, 'gee': 1329, 'hotel': 1330, 'tricks': 1331, 'hearing': 1332, 'registering': 1333, 'binance': 1334, 'complete': 1335, 'full': 1336, '🏁': 1337, 'answer': 1338, 'DGDGDG.DGDG': 1339, 'decide': 1340, 'perspective': 1341, 'beast': 1342, 'possible': 1343, 'supposed': 1344, 'shirt': 1345, 'father': 1346, 'donald': 1347, 'studying': 1348, 'surfaces': 1349, 'ps4': 1350, 'trading': 1351, 'phone': 1352, 'c': 1353, 'fiverrneed': 1354, 'grow': 1355, 'military': 1356, 'communities': 1357, 'youve': 1358, '#xboxone': 1359, 'brings': 1360, 'cuz': 1361, 'hot': 1362, 'exciting': 1363, 'three': 1364, '#newmusic': 1365, 'hold': 1366, 'prison': 1367, 'hasnt': 1368, 'talented': 1369, 'largest': 1370, 'tomorrow': 1371, 'sun': 1372, 'hello': 1373, 'engineer': 1374, 'coffee': 1375, 'starts': 1376, 'scary': 1377, 'genius': 1378, 'train': 1379, 'obviously': 1380, '#media': 1381, 'jobs': 1382, '#oneliner': 1383, 'contest': 1384, 'ronda': 1385, 'rousey': 1386, 'simply': 1387, 'bsc': 1388, 'mathematics': 1389, 'roman': 1390, 'wise': 1391, 'idiots': 1392, 'visit': 1393, 'doubt': 1394, 'bug': 1395, 'close': 1396, 'jailing': 1397, 'strategy': 1398, '🏆': 1399, 'fail': 1400, 'electric': 1401, 'map': 1402, 'stories': 1403, 'called': 1404, 'verge': 1405, '#people': 1406, '🔜': 1407, '#video': 1408, 'flow': 1409, '10k': 1410, 'lmao': 1411, 'casino': 1412, '#luxurywatch': 1413, 'shocker': 1414, 'revival': 1415, 'contain': 1416, '#sports': 1417, 'ours': 1418, 'killing': 1419, '💥': 1420, '`': 1421, '#donaldtrump': 1422, '😒': 1423, 'ji': 1424, 'beauty': 1425, 'cheat': 1426, 'likes': 1427, 'alert': 1428, 'fav': 1429, '#amazon': 1430, 'culture': 1431, '#history': 1432, '#china': 1433, 'college': 1434, 'calls': 1435, 'id': 1436, 'french': 1437, 'lied': 1438, 'reveals': 1439, 'strict': 1440, '#iot': 1441, '#learning': 1442, 'DGDG.DG': 1443, 'society': 1444, '#xbox': 1445, '#latio': 1446, 'introducing': 1447, 'qykbar': 1448, 'fight': 1449, 'chat': 1450, 'drugs': 1451, 'score': 1452, 'john': 1453, '#poetry': 1454, 'ends': 1455, 'milk': 1456, 'bus': 1457, 'thread': 1458, 'lat': 1459, 'autistic': 1460, 'dance': 1461, 'difficult': 1462, '—': 1463, 'interested': 1464, ':-)': 1465, 'rich': 1466, 'facts': 1467, 'winter': 1468, 'personal': 1469, 'fair': 1470, 'interior': 1471, 'industry': 1472, 'thankful': 1473, 'arming': 1474, 'deep': 1475, 'fluent': 1476, 'friendship': 1477, 'laws': 1478, 'pre': 1479, '#xyo': 1480, 'conversation': 1481, 'blogger': 1482, 'promoting': 1483, 'wallet': 1484, '#vt': 1485, '#newspost': 1486, 'andrew': 1487, 'mad': 1488, 'awww': 1489, 'china': 1490, 'muslims': 1491, 'herndon': 1492, 'rate': 1493, 'unless': 1494, 'ugh': 1495, 'skychain': 1496, 'friday': 1497, '#friday': 1498, 'attract': 1499, '😝': 1500, 'cannot': 1501, '🎥': 1502, 'specialist': 1503, 'driving': 1504, 'heroes': 1505, '#trading': 1506, 'together': 1507, '#design': 1508, 'favourite': 1509, 'travel': 1510, 'meh': 1511, '#doodle': 1512, '#meh': 1513, '#wtf': 1514, 'nations': 1515, 'flag': 1516, 'waiting': 1517, 'fresh': 1518, 'treating': 1519, 'bonus': 1520, 'hentai': 1521, 'fully': 1522, 'living': 1523, 'fact': 1524, 'literally': 1525, 'paid': 1526, 'asked': 1527, '#bounty': 1528, 'ice': 1529, 'sleep': 1530, '#cloudact': 1531, 'changing': 1532, 'rights': 1533, 'reach': 1534, '#digitalmarketing': 1535, '♂': 1536, '#youtube': 1537, 'shock': 1538, 'fee': 1539, 'per': 1540, 'winds': 1541, 'germanys': 1542, 'dusseldorf': 1543, 'causestense': 1544, 'link': 1545, 'cute': 1546, 'channel': 1547, 'millions': 1548, 'banned': 1549, 'classroom': 1550, '#wizebot': 1551, 'sweat': 1552, 'bolton': 1553, 'blockchains': 1554, 'legit': 1555, 'value': 1556, '🎵': 1557, 'fall': 1558, 'weird': 1559, 'worlds': 1560, '#cambridge': 1561, '#analytica': 1562, '#money': 1563, 'x': 1564, 'cover': 1565, '#blues': 1566, 'baby': 1567, 'winning': 1568, 'store': 1569, 'keeps': 1570, '#style': 1571, 'rock': 1572, 'choose': 1573, 'hannity': 1574, 'b': 1575, 'queen': 1576, 'chase': 1577, 'loves': 1578, 'version': 1579, 'boring': 1580, 'addition': 1581, 'apple': 1582, 'emoji': 1583, 'represent': 1584, '#thank': 1585, 'demand': 1586, '#mossy': 1587, 'glenn': 1588, '#panorama': 1589, 'bonfire': 1590, 'mcnair': 1591, 'ones': 1592, 'benefits': 1593, 'woman': 1594, 'fred': 1595, 'personalised': 1596, 'bags': 1597, 'dark': 1598, '🥁': 1599, '🇬': 1600, '🇧': 1601, 'developed': 1602, '#are': 1603, 'missk': 1604, 'ed': 1605, 'folks': 1606, 'drop': 1607, 'clearview': 1608, '#clearviewes': 1609, 'advance': 1610, 'challenged': 1611, 'mention': 1612, 'worker': 1613, 'cybersecurity': 1614, 'pool': 1615, 'became': 1616, 'wanted': 1617, 'cards': 1618, '⚔': 1619, 'ipl': 1620, 'bit': 1621, 'finds': 1622, '#day': 1623, 'impossible': 1624, 'teach': 1625, 'shots': 1626, 'edition': 1627, 'age': 1628, 'often': 1629, 'huh': 1630, '#ginamiller': 1631, 'lovers': 1632, 'poster': 1633, 'wasnt': 1634, 'clear': 1635, 'bible': 1636, '#bible': 1637, 'announcement': 1638, 'published': 1639, 'near': 1640, 'smell': 1641, 'reasonable': 1642, '#boobs': 1643, '#milf': 1644, '#sex': 1645, '#pussy': 1646, '#cum': 1647, 'conference': 1648, 'decorated': 1649, 'soldier': 1650, 'christian': 1651, 'rest': 1652, 'reasons': 1653, 'empty': 1654, 'round': 1655, '#amazing': 1656, '#snowflakes': 1657, 'strength': 1658, 'korean': 1659, 'management': 1660, 'analyst': 1661, 'fairfax': 1662, 'bts': 1663, 'pack': 1664, 'returns': 1665, 'ripple': 1666, 'launch': 1667, '#oogachaka': 1668, '#guardiansofthegalaxy': 1669, 'arabic': 1670, 'kg': 1671, 'shame': 1672, 'DGDG-DGDGDGDGDG': 1673, 'level': 1674, '1st': 1675, 'beating': 1676, 'leads': 1677, 'perhaps': 1678, 'ended': 1679, 'land': 1680, 'perfected': 1681, 'gotta': 1682, 'nyc': 1683, 'development': 1684, 'focus': 1685, 'exchanges': 1686, '4th': 1687, '#jazz': 1688, 'arrives': 1689, 'tired': 1690, 'muslim': 1691, 'killers': 1692, 'jealous': 1693, 'tried': 1694, 'nirav': 1695, 'rs': 1696, 'mandatory': 1697, '#bitcoins': 1698, 'spin': 1699, 'featuring': 1700, 'owned': 1701, '#tips': 1702, '#periscope': 1703, 'l': 1704, 'g': 1705, 'instant': 1706, 'saturday': 1707, 'tune': 1708, 'loving': 1709, 'warm': 1710, 'journey': 1711, 'related': 1712, 'positive': 1713, 'track': 1714, 'ads': 1715, 'robots': 1716, 'glow': 1717, '#spotify': 1718, '#todays': 1719, '50s': 1720, 'cares': 1721, '#amwriting': 1722, 'shes': 1723, '#rap': 1724, 'caught': 1725, 'apps': 1726, 'russian': 1727, 'defense': 1728, '#lookyounger': 1729, 'pictures': 1730, 'creativity': 1731, 'raw': 1732, 'segment': 1733, 'therapy': 1734, 'happens': 1735, 'wouldnt': 1736, 'third': 1737, 'plastic': 1738, 'checkout': 1739, '#ann': 1740, 'luck': 1741, 'each': 1742, '#opensource': 1743, 'lazy': 1744, 'tariffs': 1745, 'indeed': 1746, 'standard': 1747, 'purchased': 1748, 'scientists': 1749, '#eth': 1750, 'protect': 1751, 'eu': 1752, 'able': 1753, 'king': 1754, 'horse': 1755, '#metal': 1756, 'lights': 1757, 'coin': 1758, 'record': 1759, 'types': 1760, 'twitch': 1761, 'required': 1762, 'christmas': 1763, 'म': 1764, 'broke': 1765, 'prints': 1766, 'beyond': 1767, 'mera': 1768, 'technical': 1769, '👌': 1770, 'DG/DG': 1771, 'pdata': 1772, 'hillary': 1773, 'thoughts': 1774, 'agile': 1775, 'james': 1776, 'frame': 1777, 'meme': 1778, 'war': 1779, 'pick': 1780, 'mckinsey': 1781, 'institute': 1782, '#mgi': 1783, 'humans': 1784, 'mo4ch': 1785, 'search': 1786, 'completely': 1787, 'east': 1788, 'associate': 1789, 'jailed': 1790, 'davis': 1791, 'shop': 1792, 'none': 1793, 'horrible': 1794, 'straight': 1795, 'opportunities': 1796, 'opportunity': 1797, 'n': 1798, 'snowing': 1799, 'companies': 1800, 'especially': 1801, 'digitalprice': 1802, 'expanding': 1803, 'masternode': 1804, 'actions': 1805, 'beer': 1806, 'jordan': 1807, 'integrity': 1808, 'bc': 1809, '#awesome': 1810, '#bluehand': 1811, '#bluehandrising': 1812, '😀': 1813, 'past': 1814, 'progress': 1815, 'sprinklers': 1816, 'relationship': 1817, 'career': 1818, 'multiple': 1819, 'matter': 1820, 'voice': 1821, 'science': 1822, 'gender': 1823, 'print': 1824, 'meeting': 1825, 'research': 1826, 'christians': 1827, 'grocery': 1828, 'filing': 1829, 'connect': 1830, '#sundaymorning': 1831, 'draw': 1832, 'quick': 1833, 'aaron': 1834, 'wasn': 1835, 'parents': 1836, 'increase': 1837, 'refs': 1838, '🌟': 1839, 'details': 1840, 'invest': 1841, 'office': 1842, 'sport': 1843, 'stock': 1844, 'kidding': 1845, 'brief': 1846, '#russia': 1847, 'walk': 1848, 'supporters': 1849, 'blood': 1850, 'donny': 1851, 'network': 1852, 'session': 1853, 'square': 1854, '#coffee': 1855, 'changed': 1856, 'lifetime': 1857, '#big': 1858, 'asylum': 1859, '∈': 1860, '#snowday': 1861, 'recent': 1862, 'youd': 1863, 'putin': 1864, 'luxuryhello': 1865, '#burjkhalifa': 1866, 'sancoj': 1867, 'nintendo': 1868, 'writer': 1869, 'apologize': 1870, 'congratulations': 1871, '#play': 1872, 'twenty': 1873, 'training': 1874, 'afraid': 1875, 'awful': 1876, 'former': 1877, 'lego': 1878, 'robotics': 1879, 'assault': 1880, '#nature': 1881, 'comments': 1882, 'potential': 1883, '24h': 1884, 'e': 1885, 'analytics': 1886, 'doesnt': 1887, '#bigdata': 1888, 'test': 1889, 'far': 1890, 'dangerous': 1891, 'youth': 1892, 'opponents': 1893, 'everybody': 1894, 'll': 1895, 'cost': 1896, 'soft': 1897, 'prefer': 1898, 'milestone': 1899, 'chris': 1900, '🏽': 1901, '#token': 1902, 'brexit': 1903, 'attack': 1904, 'football': 1905, 'chantilly': 1906, 'surely': 1907, '#song': 1908, 'style': 1909, 'democracy': 1910, 'sides': 1911, 'foreign': 1912, '#markzuckerberg': 1913, 'tells': 1914, 'breakfast': 1915, 'feed': 1916, 'luvelli': 1917, 'blame': 1918, 'bottle': 1919, 'shenzhen': 1920, 'pitching': 1921, 'apparently': 1922, 'soros': 1923, 'environment': 1924, 'bed': 1925, 'kind': 1926, '😉': 1927, 'mill': 1928, 'sharing': 1929, 'tokens': 1930, 'victory': 1931, '♥': 1932, '！': 1933, 'narrative': 1934, 'communication': 1935, 'adecules': 1936, 'royal': 1937, 'george': 1938, 'piece': 1939, 'honestly': 1940, 'sehun': 1941, 'keeping': 1942, 'anyway': 1943, '🌎': 1944, 'tim': 1945, 'monsters': 1946, 'centre': 1947, 'ridge': 1948, '#centreridgees': 1949, 'satisfyingly': 1950, 'vietnamese': 1951, 'pho': 1952, 'recipe': 1953, '#organic': 1954, '#cooking': 1955, '#kryll': 1956, 'hiding': 1957, 'target': 1958, 'reveal': 1959, 'drug': 1960, 'believes': 1961, 'mo': 1962, 'grand': 1963, 'paradigm': 1964, 'interactions': 1965, 'ubinet': 1966, 'learned': 1967, 'clocks': 1968, '#daretobedifferent': 1969, '#golf': 1970, '#apparel': 1971, '#accessories': 1972, 'answered': 1973, '#gorgeous': 1974, 'amount': 1975, 'onboard': 1976, 'DG/DGDG': 1977, 'foul': 1978, 'hitters': 1979, '⌛': 1980, '➖': 1981, 'fuckin': 1982, 'held': 1983, 'anna': 1984, 'cub': 1985, '#cubrunes': 1986, 'hollywood': 1987, 'extended': 1988, 'darling': 1989, 'codes': 1990, 'ar': 1991, 'opinion': 1992, 'falls': 1993, 'lifestyle': 1994, 'bravo': 1995, 'asiimov': 1996, 'product': 1997, '#japan': 1998, 'instrumental': 1999}\n",
      "[1400, 785, 1401, 426, 1402, 108, 1937, 2, 11, 1938]\n"
     ]
    }
   ],
   "source": [
    "vocab = vocabulary.Vocabulary(utils.flatten(train_sentences),2000)\n",
    "x_ids = vocab.words_to_ids(train_sentences[0])\n",
    "print(\"x_ids =\", vocab.word_to_id)\n",
    "print(x_ids)"
   ]
  },
  {
   "cell_type": "code",
   "execution_count": null,
   "metadata": {
    "collapsed": true
   },
   "outputs": [],
   "source": [
    "\n"
   ]
  },
  {
   "cell_type": "code",
   "execution_count": 205,
   "metadata": {},
   "outputs": [
    {
     "name": "stdout",
     "output_type": "stream",
     "text": [
      "[[1400, 785, 1401, 426, 1402, 108, 1937, 2, 11, 1938], [3, 44, 18, 23, 321, 205, 20, 124, 16, 2], [3, 52, 592, 184, 786, 8, 233, 359, 940, 11], [5, 3, 4, 157, 2, 146, 293, 2, 13, 6], [117, 37, 35, 60, 7, 81, 9, 158, 248, 382], [5, 3, 4, 35, 8, 1403, 476, 22, 35, 73], [46, 9, 1939, 16, 593, 2, 1940, 10, 2, 23], [5, 3, 4, 339, 1941, 531, 146, 138, 34, 13], [427, 787, 10, 18, 43, 272, 9, 88, 428, 12], [38, 65, 9, 61, 1136, 15, 477, 50, 1404, 2], [18, 273, 340, 28, 1942, 79, 168, 15, 91, 429], [2, 49, 294, 295, 2, 172, 10, 2, 33, 2], [3, 274, 532, 9, 88, 341, 16, 941, 223, 101], [3, 18, 47, 2, 36, 178, 322, 2, 16, 51], [1405, 4, 39, 260, 2, 2, 2, 275, 133, 18], [5, 3, 4, 101, 66, 1406, 206, 679, 111, 26], [5, 3, 4, 17, 161, 16, 18, 942, 44, 14], [323, 74, 66, 37, 533, 680, 20, 534, 10, 1943], [5, 3, 4, 52, 788, 789, 12, 12, 12, 790], [169, 1137, 9, 2, 342, 60, 2, 2, 11, 234]]\n"
     ]
    }
   ],
   "source": [
    "list_of_train_ids = list(map(vocab.words_to_ids, train_sentences))\n",
    "print(list_of_train_ids[0:20])\n",
    "\n",
    "\n",
    "list_of_validation_ids = list(map(vocab.words_to_ids, validation_sentences))\n",
    "\n",
    "list_of_test_ids = list(map(vocab.words_to_ids, test_sentences))\n"
   ]
  },
  {
   "cell_type": "code",
   "execution_count": 206,
   "metadata": {},
   "outputs": [
    {
     "data": {
      "text/plain": [
       "Counter({2: 1,\n",
       "         11: 1,\n",
       "         108: 1,\n",
       "         426: 1,\n",
       "         785: 1,\n",
       "         1400: 1,\n",
       "         1401: 1,\n",
       "         1402: 1,\n",
       "         1937: 1,\n",
       "         1938: 1})"
      ]
     },
     "execution_count": 206,
     "metadata": {},
     "output_type": "execute_result"
    }
   ],
   "source": [
    "collections.Counter(list_of_train_ids[0])"
   ]
  },
  {
   "cell_type": "code",
   "execution_count": 207,
   "metadata": {
    "collapsed": true
   },
   "outputs": [],
   "source": [
    "from scipy.sparse import csr_matrix \n",
    "def sparsify_data(list_of_ids):\n",
    "    row_indices = []\n",
    "    col_indices = []\n",
    "    values = []\n",
    "    rows = len(list_of_ids)\n",
    "\n",
    "    for row, x_ids in enumerate(list_of_ids):\n",
    "        x_fdict = collections.Counter(x_ids)\n",
    "        for wordid, count in x_fdict.items():\n",
    "            row_indices.append(row)       \n",
    "            col_indices.append(wordid)  # column is word id\n",
    "            values.append(count)        # value is count\n",
    "    x_sparse = csr_matrix((values, (row_indices, col_indices)),\n",
    "                              shape=[rows, vocab.size])\n",
    "    return x_sparse"
   ]
  },
  {
   "cell_type": "code",
   "execution_count": 208,
   "metadata": {
    "collapsed": true
   },
   "outputs": [],
   "source": [
    "x_train_sparse = sparsify_data(list_of_train_ids)\n",
    "x_validation_sparse = sparsify_data(list_of_validation_ids)\n",
    "x_test_sparse = sparsify_data(list_of_test_ids)\n"
   ]
  },
  {
   "cell_type": "code",
   "execution_count": null,
   "metadata": {},
   "outputs": [],
   "source": []
  },
  {
   "cell_type": "code",
   "execution_count": 214,
   "metadata": {},
   "outputs": [
    {
     "name": "stdout",
     "output_type": "stream",
     "text": [
      " acc: 79.73%, recall: 69.84%, precision: 87.50%, f1: 77.68%,\n"
     ]
    }
   ],
   "source": [
    "from sklearn.naive_bayes import MultinomialNB\n",
    "from sklearn.metrics import f1_score, accuracy_score, recall_score, precision_score\n",
    "\n",
    "nb = MultinomialNB(alpha =  100)\n",
    "nb.fit(x_train_sparse, train_labels)\n",
    "y_pred = nb.predict(x_test_sparse)\n",
    "\n",
    "\n",
    "\n",
    "\n",
    "\n",
    "f1 = f1_score(test_labels, y_pred)\n",
    "acc = accuracy_score(test_labels, y_pred)\n",
    "recall = recall_score(test_labels, y_pred)\n",
    "precision = precision_score(test_labels, y_pred)\n",
    "print(\" acc: {:.02%}, recall: {:.02%}, precision: {:.02%}, f1: {:.02%},\".format(acc, recall, precision, f1))\n"
   ]
  },
  {
   "cell_type": "code",
   "execution_count": 215,
   "metadata": {
    "collapsed": true
   },
   "outputs": [],
   "source": [
    "linear_weights = nb.feature_log_prob_[1,:] - nb.feature_log_prob_[0,:]  # populate this with actual values\n",
    "\n",
    "top_negative_features = np.argsort(linear_weights)[0:10]\n",
    "top_positive_features = np.argsort(-linear_weights)[0:10]\n"
   ]
  },
  {
   "cell_type": "code",
   "execution_count": 216,
   "metadata": {},
   "outputs": [
    {
     "name": "stdout",
     "output_type": "stream",
     "text": [
      "Most negative features:\n",
      "  rt (-0.98)\n",
      "  : (-0.96)\n",
      "  DG (-0.55)\n",
      "  - (-0.50)\n",
      "  🔥 (-0.47)\n",
      "  <unk> (-0.43)\n",
      "  for (-0.42)\n",
      "  our (-0.42)\n",
      "  DGDGDGDG (-0.41)\n",
      "  #win (-0.40)\n",
      "\n",
      "Most positive features:\n",
      "  ... (1.26)\n",
      "  guy (1.19)\n",
      "  couldnt (1.19)\n",
      "  nicer (1.19)\n",
      "  happen (1.16)\n",
      "  <padding> (1.12)\n",
      "  i (0.86)\n",
      "  . (0.72)\n",
      "  oh (0.66)\n",
      "  ’ (0.63)\n"
     ]
    }
   ],
   "source": [
    "print(\"Most negative features:\")\n",
    "for idx in top_negative_features:\n",
    "    print(\"  {:s} ({:.02f})\".format(vocab.id_to_word[idx], \n",
    "                                    linear_weights[idx]))\n",
    "print(\"\")\n",
    "print(\"Most positive features:\")\n",
    "for idx in top_positive_features:\n",
    "    print(\"  {:s} ({:.02f})\".format(vocab.id_to_word[idx], \n",
    "                                    linear_weights[idx]))\n",
    "    \n"
   ]
  },
  {
   "cell_type": "markdown",
   "metadata": {},
   "source": [
    "###### "
   ]
  },
  {
   "cell_type": "code",
   "execution_count": 201,
   "metadata": {},
   "outputs": [
    {
     "data": {
      "text/plain": [
       "array(['rt', 'ACCOUNT', ':', 'the', 'ACCOUNT', 'has', 'not', 'tweeted',\n",
       "       'once', 'today', 'on', 'this', 'day', 'of', 'the',\n",
       "       '#marchforourlives', 'they', 'have', 'absolutely', 'nothing', 'to',\n",
       "       'say', '.', 'i', 'urge', '…'],\n",
       "      dtype='<U17')"
      ]
     },
     "execution_count": 201,
     "metadata": {},
     "output_type": "execute_result"
    }
   ],
   "source": []
  },
  {
   "cell_type": "code",
   "execution_count": null,
   "metadata": {
    "collapsed": true
   },
   "outputs": [],
   "source": []
  }
 ],
 "metadata": {
  "kernelspec": {
   "display_name": "Python 3",
   "language": "python",
   "name": "python3"
  },
  "language_info": {
   "codemirror_mode": {
    "name": "ipython",
    "version": 3
   },
   "file_extension": ".py",
   "mimetype": "text/x-python",
   "name": "python",
   "nbconvert_exporter": "python",
   "pygments_lexer": "ipython3",
   "version": "3.6.3"
  }
 },
 "nbformat": 4,
 "nbformat_minor": 2
}
