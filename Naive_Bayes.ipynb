{
 "cells": [
  {
   "cell_type": "code",
   "execution_count": 1,
   "metadata": {
    "collapsed": true
   },
   "outputs": [],
   "source": [
    "from __future__ import print_function\n",
    "from __future__ import division\n",
    "import collections\n",
    "import nltk\n",
    "import numpy as np\n",
    "from nltk.tokenize.casual import TweetTokenizer\n",
    "from w266_common import utils, vocabulary\n"
   ]
  },
  {
   "cell_type": "code",
   "execution_count": 2,
   "metadata": {},
   "outputs": [
    {
     "name": "stdout",
     "output_type": "stream",
     "text": [
      "@donttrythis Dam there must be a tell of a lot of mentally ill people in the USA. I mean more than most 1st world countries. Must be something in the water or how they are  brought up. |You are wronghttps://twitter.com/tlorens/status/977254283354746886 …|1\r\n",
      "@marcoPalba @CNNPolitics @CNN Yup because they look bad azz banning them wont do anything. |Most of us want a ban on ARs and that is it. Stricter background checks too.|1\r\n",
      "@DanTheBeepMan @danabrams Shouldnt have beeped the man, dood. #livepd  #fulldisclosure #hesnotbuyingpizza|Dan the Beep Man 👮‍♂️🚔 on Twitter:  Don t think I have that much money!|1\r\n",
      "@prrobbins My wife says the same thing to me.Wife: You need to adapt to me, not  expect me to you.Me: WTF is this world coming to. Lol.😂  😜 https://t.co/zSmCUpPe8z|Traders need to adapt to the market. Not expect the market to adapt to them. |1\r\n",
      "@prrobbins Now if my wife &amp; girlfriend could just get along... Blahhh Lol.😂 😂 💩  #kidding 😜 https://t.co/YgQjztfivl|Happy wife. Happy life.|1\r\n",
      "@csmonitor I call for Hollywood to stop making all violent movies and all music refrain from violent lyrics ... 🤣|Trevon Bosley is a Chicago teenager who lost his brother to gun violence. He spoke at #MarchForOurLives in the nation s capital.pic.twitter.com/x8MBugwmpv|1\r\n",
      "@BroadStBull Im sure Hakstol will have the best possible lineup suited up tomorrow. No worries.   #nhlcoach|Updated standings. Devils and Panthers win Sat. to put pressure on #Flyers. Jackets finally lose.pic.twitter.com/2WpxFZydE6|1\r\n",
      "@JennSmith64 We all LOVE morgane. ( ) https://t.co/jgk5XO15xW|None|1\r\n",
      "@Tokaise Well, you know,... ummm, uuuuuuhhh, now that you mention it, uhhhh you must be a racist for asking such a question! |Question: When Democrats say voter I.D. is racist. Isn t saying that racist? Aren t they assuming a certain  race or races aren t smart enough to get I.D. And if they aren t smart enough to get I.D. Should they really be deciding on who runs our government?pic.twitter.com/blKgpawZlB|1\r\n",
      "@FLAVOLS @robbysoave History?  It was made by a bunch of old white heterosexual guys. What do they know?  |They don’t teach history anymore apparently|1\r\n"
     ]
    }
   ],
   "source": [
    "!tail dta/merged_data_v2.csv"
   ]
  },
  {
   "cell_type": "code",
   "execution_count": 3,
   "metadata": {},
   "outputs": [],
   "source": [
    "import csv\n",
    "tokenizer = TweetTokenizer()\n",
    "x_data = []\n",
    "labels = []\n",
    "with open('dta/merged_data_v2.csv', 'r') as csvfile:\n",
    "    linereader = csv.reader(csvfile, delimiter = '|')\n",
    "    for i, row in enumerate(linereader):\n",
    "        if i == 0:\n",
    "            continue\n",
    "        sentence, _, sarcasm = row\n",
    "        x_tokens = utils.canonicalize_words(tokenizer.tokenize(sentence), hashtags = True)\n",
    "        x_data.append(x_tokens)\n",
    "        labels.append(int(sarcasm))\n",
    "\n",
    "\n",
    "rng = np.random.RandomState(5)\n",
    "rng.shuffle(x_data)  # in-place\n",
    "train_split_idx = int(0.7 * len(labels))\n",
    "test_split_idx  = int(0.9 * len(labels))\n",
    "\n",
    "train_sentences = x_data[:train_split_idx]\n",
    "train_labels= labels[:train_split_idx] \n",
    "validation_sentences = x_data[train_split_idx:test_split_idx]\n",
    "validation_labels = labels[train_split_idx:test_split_idx]\n",
    "test_sentences = x_data[test_split_idx:]  \n",
    "test_labels = labels[test_split_idx:]  "
   ]
  },
  {
   "cell_type": "code",
   "execution_count": 4,
   "metadata": {},
   "outputs": [
    {
     "name": "stdout",
     "output_type": "stream",
     "text": [
      "x_ids = {'<s>': 0, '</s>': 1, '<unk>': 2, 'HASHTAG': 3, 'ACCOUNT': 4, 'LINK': 5, '.': 6, ':': 7, 'the': 8, 'rt': 9, ',': 10, 'to': 11, '!': 12, 'a': 13, '…': 14, 'of': 15, 'and': 16, 'i': 17, 'you': 18, 'for': 19, '?': 20, 'in': 21, 'is': 22, '’': 23, 'on': 24, '-': 25, 'this': 26, '...': 27, 'it': 28, 'that': 29, 'with': 30, 'DG': 31, 'DGDG': 32, 'your': 33, 'are': 34, 'be': 35, 'my': 36, '️': 37, '&': 38, 'we': 39, 'so': 40, 'have': 41, 's': 42, 'all': 43, ')': 44, '(': 45, 'not': 46, 'at': 47, '/': 48, 'just': 49, 'like': 50, 'can': 51, 'out': 52, 'was': 53, 'now': 54, 'me': 55, '#': 56, 'our': 57, 'free': 58, 'its': 59, 'if': 60, 'from': 61, 'no': 62, 'as': 63, 'what': 64, 'will': 65, 'by': 66, 'how': 67, 'get': 68, '😂': 69, 'they': 70, 'follow': 71, 't': 72, 'but': 73, 'us': 74, 'new': 75, 'people': 76, 'he': 77, 'here': 78, 'more': 79, '🔥': 80, 'an': 81, 'quotes': 82, '$': 83, 'has': 84, 'DGDGDGDG': 85, 'up': 86, 'do': 87, 'about': 88, 'one': 89, 'time': 90, 'or': 91, 'im': 92, 'who': 93, 'best': 94, 'good': 95, 'when': 96, 'right': 97, 'know': 98, 'great': 99, 'love': 100, 'their': 101, '*': 102, 'there': 103, 'via': 104, 'why': 105, 'm': 106, 'been': 107, '🤣': 108, 'make': 109, 'should': 110, 'only': 111, 'DGDGDG': 112, 'really': 113, 'would': 114, ':/': 115, '↴': 116, 'well': 117, 'am': 118, 'were': 119, 'see': 120, 'because': 121, 'some': 122, 'day': 123, 'check': 124, 'want': 125, 'his': 126, 'white': 127, 'need': 128, 'dont': 129, 'sure': 130, '“': 131, 'way': 132, '⭐': 133, '”': 134, 'world': 135, 'back': 136, 'please': 137, 'win': 138, 'march': 139, 'work': 140, 'first': 141, '+': 142, 'them': 143, 'oh': 144, 'today': 145, 'thanks': 146, 'any': 147, 'life': 148, 'don': 149, 'click': 150, 'go': 151, 'think': 152, 'had': 153, 'very': 154, 'most': 155, 'over': 156, 'live': 157, 'latest': 158, 'wait': 159, 'game': 160, 'give': 161, 'thats': 162, 'than': 163, 'take': 164, 'much': 165, 'going': 166, 're': 167, 'sex': 168, 'gun': 169, 'money': 170, 'something': 171, 'hey': 172, 'these': 173, 'online': 174, 'where': 175, 'guy': 176, 'being': 177, '%': 178, '🎮': 179, '..': 180, 'other': 181, 'must': 182, '🕰': 183, 'got': 184, 'happy': 185, 'hilarious': 186, 'thing': 187, 'enter': 188, 'said': 189, 'let': 190, 'thank': 191, 'still': 192, 'never': 193, '🖥': 194, '💎': 195, 'join': 196, 'after': 197, 'retweet': 198, 'cams': 199, 'news': 200, 'ever': 201, 'made': 202, 'say': 203, 'registration': 204, 'tokkens': 205, 'keep': 206, 'man': 207, 'cant': 208, 'around': 209, 'could': 210, 'chance': 211, 'her': 212, 'does': 213, 'even': 214, 'many': 215, 'into': 216, 'data': 217, 'look': 218, 'too': 219, 'did': 220, 'yes': 221, 'those': 222, 'year': 223, 'friends': 224, 'open': 225, 'him': 226, 'little': 227, 'wow': 228, '@': 229, 'tweet': 230, 'always': 231, 'better': 232, 'read': 233, 'anyone': 234, 'then': 235, 'sarcasm': 236, 'real': 237, 'looking': 238, 'guns': 239, 'another': 240, 'team': 241, '[': 242, 'doing': 243, 'lol': 244, 'daily': 245, 'use': 246, '🙄': 247, 'watch': 248, 'support': 249, 'business': 250, 'nothing': 251, 'years': 252, 'everything': 253, 'call': 254, ';': 255, ']': 256, 'yeah': 257, 'every': 258, 'shocked': 259, 'come': 260, 'since': 261, 'everyone': 262, 'bad': 263, 'job': 264, 'twitter': 265, 'video': 266, 'things': 267, 'guys': 268, 'makes': 269, 'off': 270, 'show': 271, 'down': 272, 'hear': 273, 'trump': 274, 'next': 275, 'community': 276, 'group': 277, 'spring': 278, 'such': 279, 'mean': 280, 'once': 281, 'again': 282, '>': 283, 'wrong': 284, 'stop': 285, '£': 286, 'someone': 287, 'last': 288, 'DGDGDGDGDG': 289, 'favorite': 290, 'thought': 291, 'through': 292, 'both': 293, 'own': 294, 'making': 295, 'days': 296, 'person': 297, 'find': 298, 'using': 299, 'which': 300, 'youre': 301, 'without': 302, 'help': 303, 'week': 304, 'she': 305, 'airdrop': 306, 'r': 307, 'face': 308, '=': 309, 'yet': 310, 'service': 311, 'coming': 312, 'h': 313, 'before': 314, 'available': 315, 'may': 316, 'school': 317, 'view': 318, 'president': 319, 'tell': 320, '👉': 321, 'picture': 322, 'share': 323, 'listen': 324, 'anything': 325, 'top': 326, 'tag': 327, 'finally': 328, '➡': 329, 'against': 330, 'lot': 331, 'words': 332, 'facebook': 333, 'home': 334, 'wants': 335, 'u': 336, 'issue': 337, 'weird': 338, 'says': 339, 'maybe': 340, 'hes': 341, 'token': 342, 'away': 343, 'gift': 344, 'sometimes': 345, 'experience': 346, 'hours': 347, 'control': 348, 'c': 349, 'photoshopped': 350, 'https': 351, 'start': 352, 'part': 353, 'giveaway': 354, 'hate': 355, 'awesome': 356, 'telegram': 357, 'sale': 358, 'kids': 359, 'big': 360, 'kind': 361, 'buy': 362, '❤': 363, 'phone': 364, 'women': 365, 'government': 366, 'club': 367, 'guess': 368, 'feel': 369, 'while': 370, 'though': 371, 'social': 372, 'book': 373, 'fair': 374, 'funny': 375, 'sarcastic': 376, 'ends': 377, 'fun': 378, 'es': 379, '😒': 380, 'few': 381, 'form': 382, 'd': 383, 'full': 384, 'add': 385, 'house': 386, 'followers': 387, '🏻': 388, 'bitcoin': 389, '•': 390, 'card': 391, 'change': 392, 'two': 393, 'rights': 394, 'high': 395, 'proud': 396, 'totally': 397, 'added': 398, 'media': 399, 'lives': 400, 'having': 401, 'games': 402, 'water': 403, 'long': 404, 'ask': 405, 'friend': 406, 'song': 407, 'also': 408, 'learn': 409, 'morning': 410, 'left': 411, 'seems': 412, 'nice': 413, 'doesnt': 414, 'between': 415, 'future': 416, 'blockchain': 417, 'trying': 418, 'health': 419, 'terrorist': 420, 'l': 421, 'comment': 422, 'old': 423, 'apply': 424, 'boy': 425, 'crypto': 426, 'problem': 427, 'worth': 428, '▶': 429, 'DG.DG': 430, 'wonder': 431, 'done': 432, 'illegal': 433, 'fans': 434, 'american': 435, 'tonight': 436, 'remember': 437, 'starting': 438, 'try': 439, 'hour': 440, 'run': 441, 'myself': 442, 'competition': 443, 'goes': 444, 'male': 445, 'pay': 446, 'somebody': 447, 'htt': 448, 'platform': 449, 'laws': 450, 'true': 451, 'told': 452, 'history': 453, 'power': 454, 'glad': 455, '！': 456, 'loving': 457, 'stressed': 458, '1st': 459, 'risk': 460, 'giving': 461, 'less': 462, 'beautiful': 463, 'tokens': 464, 'yay': 465, 'y': 466, 'model': 467, 'public': 468, 'working': 469, 'point': 470, 'side': 471, 'playing': 472, 'young': 473, 'single': 474, 'definitely': 475, 'normally': 476, 'sides': 477, 'heres': 478, 'actually': 479, 'vs': 480, 'care': 481, 'visit': 482, 'easter': 483, 'based': 484, 'else': 485, 'end': 486, 'mother': 487, 'girl': 488, 'bombs': 489, 'bomb': 490, 'turned': 491, 'reason': 492, '–': 493, 'system': 494, 'black': 495, 'opening': 496, 'war': 497, 'photo': 498, 'forward': 499, 'update': 500, 'least': 501, 'bank': 502, 'arent': 503, 'DGDGDGDGDGDG': 504, 'youtube': 505, 'pick': 506, '🤔': 507, 'poor': 508, 'cricket': 509, 'w': 510, 'looks': 511, 'human': 512, 'soon': 513, 'ht': 514, 'digital': 515, 'welcome': 516, 'million': 517, 'theyre': 518, 'link': 519, 'police': 520, 'enjoy': 521, '😉': 522, 'hands': 523, 'believe': 524, 'country': 525, 'enough': 526, 'spin': 527, 'featuring': 528, 'safe': 529, 'popular': 530, 'mobile': 531, 'break': 532, 'dream': 533, '💥': 534, 'original': 535, 'b': 536, 'bring': 537, 'build': 538, 'cash': 539, 'town': 540, 'city': 541, 'dreams': 542, 'merkel': 543, 'jay': 544, 'powell': 545, 'trading': 546, 'company': 547, 'works': 548, 'items': 549, 'security': 550, 'eth': 551, '📢': 552, 'able': 553, 'questions': 554, 'ha': 555, 'already': 556, 'children': 557, 'happen': 558, 'ी': 559, '~': 560, 'official': 561, 'lucky': 562, 'winner': 563, 'amazing': 564, 'coin': 565, 'ico': 566, 'different': 567, 'might': 568, 'DGDGDG.DGDG': 569, 'development': 570, 'become': 571, 'kill': 572, 'americans': 573, 'season': 574, 'fast': 575, 'report': 576, 'probably': 577, 'possible': 578, 'bonus': 579, 'sounds': 580, 'whole': 581, 'name': 582, 'pm': 583, 'upon': 584, 'stem': 585, 'summer': 586, 'perfect': 587, 'sense': 588, 'clearly': 589, 'id': 590, 'imagine': 591, 'didnt': 592, 'DGDG:DGDG': 593, 'light': 594, 'award': 595, 'simply': 596, '◀': 597, 'lowest': 598, 'needs': 599, 'story': 600, 'article': 601, 'ok': 602, 'austin': 603, 'bomber': 604, 'warning': 605, 'cities': 606, 'p': 607, 'same': 608, 'save': 609, 'lovely': 610, 'moments': 611, 'pop': 612, 'gets': 613, 'apparently': 614, 'play': 615, 'angela': 616, 'deutsche': 617, 'center': 618, 'choice': 619, 'killed': 620, 'sports': 621, 'seen': 622, 'thinking': 623, 'international': 624, 'largest': 625, 'sorry': 626, 'attack': 627, 'dangerous': 628, 'project': 629, 'important': 630, 'shes': 631, '✨': 632, 'shot': 633, ':)': 634, 'under': 635, 'theres': 636, 'website': 637, '❥': 638, 'theyve': 639, 'death': 640, 'ahead': 641, 'box': 642, 'info': 643, 'trumps': 644, 'post': 645, 'ur': 646, 'heart': 647, 'stay': 648, 'camp': 649, '—': 650, 'cool': 651, 'd12': 652, '👏': 653, 'trade': 654, 'position': 655, 'law': 656, 'tip': 657, 'collection': 658, 'usa': 659, 'took': 660, '🎉': 661, 'seth': 662, 'lets': 663, 'running': 664, 'exciting': 665, 'earth': 666, 'ways': 667, 'night': 668, 'DG/DG': 669, 'gaming': 670, 've': 671, 'sir': 672, 'details': 673, 'spotify': 674, 'speak': 675, '🙌': 676, 'society': 677, 'google': 678, 'knows': 679, 'paying': 680, 'states': 681, 'god': 682, 'ill': 683, '🏼': 684, 'put': 685, 'course': 686, 'worthy': 687, 'cyber': 688, 'politicians': 689, 'issues': 690, 'text': 691, '👍': 692, 'art': 693, 'missed': 694, 'marketing': 695, 'delightful': 696, 'went': 697, 'wall': 698, 'isnt': 699, 'australia': 700, 'behind': 701, 'cambridge': 702, 'hope': 703, 'internet': 704, 'campaign': 705, 'stands': 706, 'waste': 707, '🍀': 708, '☘': 709, 'sunday': 710, 'nra': 711, 'n': 712, 'vote': 713, 'tweets': 714, 'order': 715, 'idea': 716, 'didn': 717, 'safety': 718, 'student': 719, 'students': 720, 'download': 721, '⬅': 722, 'word': 723, 'uk': 724, 'write': 725, 'hold': 726, 'tough': 727, 'luxuryhello': 728, 'villa': 729, 'communities': 730, 'birthday': 731, 'california': 732, 'national': 733, 'during': 734, 'england': 735, 'technology': 736, '😀': 737, 'line': 738, 'move': 739, 'takes': 740, 'analyst': 741, 'waiting': 742, '♥': 743, 'youd': 744, 'minutes': 745, 'bill': 746, 'music': 747, '😜': 748, '😝': 749, 'redbubble': 750, 'hashtag': 751, 'recall': 752, 'ancient': 753, 'll': 754, 'truly': 755, 'mark': 756, 'case': 757, 'reasons': 758, 'store': 759, 'shop': 760, 'btc': 761, 'network': 762, 'shooting': 763, 'touch': 764, 'genius': 765, 'pushing': 766, 'towards': 767, 'fear': 768, 'special': 769, 'forget': 770, 'facts': 771, 'captain': 772, '🏆': 773, 'train': 774, 'past': 775, 'goal': 776, 'getting': 777, 'understand': 778, 'used': 779, '‘': 780, 'second': 781, '\\u200d': 782, 'means': 783, 'royal': 784, 'family': 785, 'snow': 786, 'talk': 787, 'manager': 788, 'super': 789, 'track': 790, 'luxuryliferss': 791, 'pro': 792, 'governed': 793, 'head': 794, 'ो': 795, 'dating': 796, 'ice': 797, 'dollar': 798, 'services': 799, 'cause': 800, '🇺': 801, '🇸': 802, 'exchange': 803, 'countries': 804, 'program': 805, 'men': 806, 'killing': 807, 'studying': 808, 'leg': 809, 'ps4': 810, 'hard': 811, 'awp': 812, 'graphite': 813, '🌿': 814, '->': 815, 'india': 816, 'brilliant': 817, 'users': 818, 'america': 819, 'app': 820, '⃣': 821, 'sun': 822, 'sick': 823, 'interested': 824, 'calling': 825, 'streaming': 826, 'radio': 827, 'decided': 828, 'crisis': 829, 'state': 830, 'answer': 831, 'question': 832, 'okay': 833, 'until': 834, 'create': 835, 'shootings': 836, 'absolutely': 837, 'blog': 838, 'friday': 839, 'sign': 840, 'hand': 841, 'stuff': 842, '3rd': 843, 'mexico': 844, 'mind': 845, 'dead': 846, 'DG-DG': 847, '🥇': 848, 'inauguration': 849, 'doesn': 850, 'ar': 851, 'wife': 852, 'per': 853, 'decide': 854, 'miss': 855, 'ready': 856, '🍬': 857, '🎶': 858, 'saturday': 859, 'extra': 860, 'party': 861, '🚨': 862, 'hang': 863, 'listening': 864, 'richs': 865, 'roommate': 866, 'dov': 867, 'friedman': 868, '💪': 869, 'prison': 870, 'knew': 871, 'commission': 872, 'found': 873, 'car': 874, 'pretty': 875, 'intelligence': 876, 'destroyed': 877, 'decentralized': 878, 'protect': 879, 'dark': 880, 'shit': 881, 'crazy': 882, 'paid': 883, 'fine': 884, 'role': 885, 'either': 886, 'ya': 887, 'management': 888, 'customer': 889, 'congress': 890, 'date': 891, 'almost': 892, 'china': 893, 'steve': 894, 'fake': 895, 'incredible': 896, 'groups': 897, 'stock': 898, 'graduate': 899, 'junior': 900, 'cape': 901, 'yo': 902, 'account': 903, 'russia': 904, 'customers': 905, 'industry': 906, 'seriously': 907, 'contest': 908, '►': 909, 'comes': 910, 'aint': 911, 'kik': 912, 'wine': 913, 'glass': 914, 'getreallux': 915, 'whatever': 916, 'allowed': 917, 'everybody': 918, 'banned': 919, 'total': 920, 'others': 921, 'weekly': 922, 'learning': 923, 'ा': 924, 'effort': 925, 'lost': 926, 'क': 927, 'द': 928, 'isn': 929, 'reading': 930, 'drugs': 931, 'started': 932, 'lots': 933, 'each': 934, 'de': 935, 'couldnt': 936, 'smart': 937, 'amendment': 938, 'information': 939, 'ago': 940, 'fire': 941, 'artists': 942, 'bets': 943, 'safer': 944, 'points': 945, '😃': 946, '❄': 947, 'exactly': 948, 'hits': 949, 'gave': 950, '˚': 951, 'bird': 952, 'o': 953, 'christian': 954, 'supply': 955, 'sound': 956, 'product': 957, ':(': 958, 'wouldnt': 959, 'driver': 960, 'shocking': 961, 'tax': 962, 'tech': 963, 'teachers': 964, 'needed': 965, 'beat': 966, 'mail': 967, 'express': 968, 'body': 969, 'anyway': 970, 'falls': 971, 'congrats': 972, 'bhakts': 973, 'citizens': 974, 'garbage': 975, 'deep': 976, 'obviously': 977, 'detailed': 978, 'hell': 979, 'participate': 980, '🎼': 981, 'racist': 982, 'cup': 983, 'difficult': 984, 'ii': 985, 'term': 986, 'dare': 987, 'code': 988, 'tho': 989, 'clean': 990, 'front': 991, 'talking': 992, 'office': 993, 'half': 994, 'stream': 995, 'fixed': 996, 'graphics': 997, 'player': 998, 'streets': 999, 'surprised': 1000, 'amazon': 1001, 'shout': 1002, '🎵': 1003, 'main': 1004, 'web': 1005, 'april': 1006, 'photos': 1007, 'known': 1008, 'soros': 1009, 'far': 1010, 'DG.DGDG': 1011, 'problems': 1012, 'gain': 1013, 'earn': 1014, 'sharing': 1015, 'donald': 1016, 'european': 1017, 'indeed': 1018, 'design': 1019, 'generation': 1020, 'members': 1021, '😁': 1022, 'havent': 1023, 'matter': 1024, 'fact': 1025, 'saudi': 1026, 'prince': 1027, 'fox': 1028, 'linda': 1029, 'mental': 1030, 'parents': 1031, 'policy': 1032, 'road': 1033, 'limited': 1034, 'advance': 1035, 'bottle': 1036, '🙂': 1037, 'p2p': 1038, 'child': 1039, 'pass': 1040, 'language': 1041, 'missing': 1042, 'sales': 1043, 'lead': 1044, 'price': 1045, 'shed': 1046, 'ground': 1047, 'ads': 1048, 'address': 1049, 'horse': 1050, 'apocalypse': 1051, 'likes': 1052, 'league': 1053, 'above': 1054, 'DGDG/DG': 1055, 'mentally': 1056, 'message': 1057, 'asked': 1058, 'truth': 1059, 'bsc': 1060, 'mathematics': 1061, 'statistics': 1062, 'entire': 1063, 'australian': 1064, 'stick': 1065, 'rather': 1066, 'asking': 1067, '🤦': 1068, '♀': 1069, 'football': 1070, 'stunning': 1071, 'directly': 1072, 'weve': 1073, 'thinks': 1074, 'fashion': 1075, 'movie': 1076, 'successful': 1077, 'decision': 1078, 'wonderful': 1079, 'wont': 1080, 'happened': 1081, 'omg': 1082, 'violent': 1083, 'egg': 1084, 'weapons': 1085, 'size': 1086, 'bit': 1087, 'grown': 1088, 'figure': 1089, 'yesterday': 1090, 'massive': 1091, 'along': 1092, 'small': 1093, 'image': 1094, 'site': 1095, 'normal': 1096, 'participation': 1097, 'four': 1098, 'े': 1099, '्': 1100, 'seeing': 1101, 'hero': 1102, 'conway': 1103, 'action': 1104, '✅': 1105, '☝': 1106, 'notificati': 1107, 'protection': 1108, 'housing': 1109, 'gonna': 1110, 'crime': 1111, 'analytica': 1112, 'hearing': 1113, 'violence': 1114, 'place': 1115, 'forgot': 1116, 'baby': 1117, 'church': 1118, 'difference': 1119, 'moment': 1120, 'racing': 1121, 'firm': 1122, 'beyond': 1123, 'weeks': 1124, 'together': 1125, 'double': 1126, 'sh': 1127, 'blame': 1128, '💰': 1129, 'sell': 1130, 'cryptocurrency': 1131, 'nudes': 1132, 'middle': 1133, 'anymore': 1134, 'plz': 1135, 'david': 1136, 'easy': 1137, 'yourself': 1138, 'sleeping': 1139, 'quality': 1140, 'race': 1141, '👌': 1142, 'photography': 1143, 'respect': 1144, 'ive': 1145, 'air': 1146, 'xbox': 1147, 'fam': 1148, 'products': 1149, 'written': 1150, 'jesus': 1151, 'bio': 1152, 'mood': 1153, 'dogs': 1154, 'instagram': 1155, 'expanding': 1156, 'hosting': 1157, 'selection': 1158, ':d': 1159, 'chocolate': 1160, 'cost': 1161, 'couple': 1162, 'early': 1163, 'hmmmm': 1164, 'beating': 1165, 'low': 1166, 'assault': 1167, 'accuracy': 1168, 'x': 1169, 'fit': 1170, 'crowd': 1171, 'excited': 1172, 'virtual': 1173, 'three': 1174, 'involved': 1175, 'reply': 1176, 'terrorism': 1177, 'trend': 1178, 'requesting': 1179, 'ram': 1180, 'valuable': 1181, 'saying': 1182, 'teams': 1183, 'current': 1184, 'stupid': 1185, 'upset': 1186, 'discover': 1187, 'vital': 1188, 'given': 1189, 'dinner': 1190, 'slow': 1191, 'file': 1192, 'finance': 1193, '😘': 1194, 'remove': 1195, 'ah': 1196, 'living': 1197, 'ours': 1198, 'championship': 1199, 'short': 1200, 'market': 1201, 'fortnite': 1202, 'dm': 1203, 'joke': 1204, 'yea': 1205, 'billion': 1206, 'brought': 1207, 'status': 1208, 'worlds': 1209, 'fully': 1210, 'tea': 1211, 'seem': 1212, 'shut': 1213, 'except': 1214, 'lord': 1215, 'canada': 1216, 'receive': 1217, 'confused': 1218, 'journalist': 1219, 'tweeting': 1220, 'bar': 1221, 'sucks': 1222, 'privacy': 1223, 'favourite': 1224, 'gif': 1225, 'players': 1226, '30th': 1227, '🔂': 1228, 'global': 1229, 'sleep': 1230, 'rock': 1231, 'simple': 1232, '😅': 1233, 'george': 1234, 'victim': 1235, 'taking': 1236, 'e': 1237, 'currently': 1238, 'lie': 1239, 'fed': 1240, 'solve': 1241, 'became': 1242, 'yours': 1243, 'list': 1244, 'madrid': 1245, 'spain': 1246, 'joe': 1247, 'gear': 1248, 'hi': 1249, 'michael': 1250, 'brain': 1251, 'android': 1252, 'kid': 1253, 'former': 1254, 'mining': 1255, 'damn': 1256, 'hit': 1257, 'cards': 1258, 'ended': 1259, 'bin': 1260, 'talal': 1261, 'corruption': 1262, 'cows': 1263, '21st': 1264, 'cent': 1265, 'prize': 1266, 'pack': 1267, 'ad': 1268, 'dude': 1269, 'rasing': 1270, 'rising': 1271, 'pain': 1272, 'ability': 1273, 'anime': 1274, 'wasnt': 1275, 'rest': 1276, 'none': 1277, 'selling': 1278, 'huge': 1279, 'sarsour': 1280, 'maga': 1281, 'attention': 1282, 'freedom': 1283, '👊': 1284, 'process': 1285, 'door': 1286, 'test': 1287, 'drive': 1288, 'feet': 1289, 'woman': 1290, 'presale': 1291, 'bullet': 1292, 'strict': 1293, 'valley': 1294, 'cute': 1295, 'subs': 1296, 'period': 1297, 'usual': 1298, 'plus': 1299, 'japan': 1300, 'smith': 1301, 'associate': 1302, 'academy': 1303, 'networks': 1304, 'cloth-stagram': 1305, 'strong': 1306, 'holding': 1307, 'worry': 1308, 'legit': 1309, 'basketball': 1310, 'investigation': 1311, 'xrp': 1312, 'calls': 1313, 'tinder': 1314, 'credit': 1315, 'thousands': 1316, 'millions': 1317, 'puts': 1318, 'political': 1319, 'plan': 1320, 'later': 1321, 'duh': 1322, '2nd': 1323, 'blocked': 1324, 'certain': 1325, 'religious': 1326, 'bundle': 1327, 'feeling': 1328, 'assume': 1329, 'parental': 1330, 'options': 1331, '3d': 1332, 'meet': 1333, 'throws': 1334, 'dear': 1335, 'standard': 1336, 'within': 1337, 'rich': 1338, 'sends': 1339, 'bought': 1340, 'environment': 1341, 'perhaps': 1342, 'offer': 1343, 'adult': 1344, 'thread': 1345, 'horrible': 1346, 'filmed': 1347, 'contact': 1348, 'highly': 1349, 'educated': 1350, 'cut': 1351, 'fairfax': 1352, 'powerful': 1353, 'f': 1354, 'youve': 1355, 'fb': 1356, 'treat': 1357, 'trillion': 1358, 'following': 1359, 'planning': 1360, 'liberals': 1361, 'tomorrow': 1362, '😍': 1363, 'permission': 1364, 'epic': 1365, 'ज': 1366, 'व': 1367, 'ं': 1368, 'ि': 1369, 'books': 1370, 'number': 1371, 'zero': 1372, 'random': 1373, 'revolution': 1374, 'sort': 1375, 'liked': 1376, 'mom': 1377, 'content': 1378, ':-)': 1379, '. .': 1380, 'drop': 1381, '📚': 1382, 'goodies': 1383, 'dance': 1384, 'hot': 1385, 'nails': 1386, 'keyboard': 1387, 'putting': 1388, 'expert': 1389, 'united': 1390, 'drink': 1391, 'winning': 1392, 'age': 1393, 'bc': 1394, 'reporting': 1395, 'believing': 1396, 'leader': 1397, '🙏': 1398, 'checkout': 1399, 'st': 1400, 'gartner': 1401, 'suppose': 1402, 'spread': 1403, 'john': 1404, 'bolton': 1405, 'leave': 1406, 'guide': 1407, '♫': 1408, 'bet': 1409, 'strategy': 1410, 'spent': 1411, 'mouse': 1412, 'cell': 1413, 'reverse': 1414, 'gay': 1415, 'democrat': 1416, 'accounts': 1417, 'nations': 1418, 'breaking': 1419, 'review': 1420, 'experts': 1421, 'speech': 1422, 'conference': 1423, 'consider': 1424, 'integration': 1425, 'luck': 1426, 'fight': 1427, 'act': 1428, 'nearly': 1429, 'secure': 1430, 'filled': 1431, '💩': 1432, 'tools': 1433, 'partner': 1434, '✔': 1435, 'supposed': 1436, 'payment': 1437, '°': 1438, 'phones': 1439, 'estate': 1440, 'including': 1441, 'pure': 1442, 'nature': 1443, 'ethereum': 1444, 'package': 1445, 'DGDGDG.DGDGDG': 1446, 'adecules': 1447, 'reposting': 1448, 'surfaces': 1449, 'offering': 1450, 'paper': 1451, 'key': 1452, 'knowledge': 1453, 'g': 1454, 'below': 1455, 'infrastructure': 1456, 'digitalprice': 1457, 'masternode': 1458, 'minute': 1459, 'emergency': 1460, 'resting': 1461, 'anniversary': 1462, 'rainbow': 1463, 'protesting': 1464, 'personal': 1465, 'board': 1466, 'entering': 1467, 'legal': 1468, 'measures': 1469, 'arming': 1470, 'ideas': 1471, 'conservatives': 1472, 'sink': 1473, 'sexual': 1474, 'turn': 1475, 'loss': 1476, '🐰': 1477, '💞': 1478, 'lady': 1479, '⚔': 1480, 'gender': 1481, 'education': 1482, 'threats': 1483, 'afraid': 1484, 'assistance': 1485, 'individual': 1486, 'bounty': 1487, 'daughter': 1488, 'obvious': 1489, 'hitler': 1490, 'putin': 1491, 'holiday': 1492, 'fucking': 1493, 'argument': 1494, 'deal': 1495, 'rocks': 1496, 'backwards': 1497, 'close': 1498, 'systems': 1499, 'scandal': 1500, 'accounting': 1501, 'western': 1502, 'tendency': 1503, 'holland': 1504, 'codes': 1505, 'dollars': 1506, 'military': 1507, '⇨': 1508, 'folks': 1509, 'consumer': 1510, 'gorgeous': 1511, 'sky': 1512, 'cloud': 1513, 'held': 1514, 'russian': 1515, 'secret': 1516, 'election': 1517, 'runs': 1518, 'mode': 1519, 'ultra': 1520, 'ai': 1521, 'access': 1522, 'admits': 1523, 'solutions': 1524, 'closing': 1525, 'protein': 1526, 'candy': 1527, 'taste': 1528, 'ca': 1529, 'rolled': 1530, 'star': 1531, 'sitting': 1532, 'spend': 1533, 'transformation': 1534, 'whos': 1535, 'battle': 1536, 'user': 1537, 'exist': 1538, 'password': 1539, 'recommend': 1540, 'toy': 1541, 'changes': 1542, '🏽': 1543, 'reality': 1544, '🙊': 1545, 'loading': 1546, 'terrorists': 1547, 'z': 1548, 'partnership': 1549, 'wish': 1550, '👇': 1551, 'proceedings': 1552, 'arpaio': 1553, 'arizona': 1554, 'libera': 1555, 'breeze': 1556, 'wired': 1557, 'leadership': 1558, 'mi': 1559, 'type': 1560, 'energy': 1561, 'scared': 1562, 'june': 1563, 'lose': 1564, 'signed': 1565, 'hunting': 1566, 'expect': 1567, 'warm': 1568, 'inside': 1569, 'hopes': 1570, 'bombings': 1571, 'airport': 1572, 'wave': 1573, 'rage': 1574, 'chips': 1575, 'stable': 1576, 'tr': 1577, 'yasss': 1578, '🇨': 1579, 'mac': 1580, 'membership': 1581, 'park': 1582, 'level': 1583, 'five': 1584, 'times': 1585, 'series': 1586, 'skills': 1587, 'hair': 1588, 'serious': 1589, 'paypal': 1590, 'load': 1591, 'represents': 1592, 'holy': 1593, 'trends': 1594, '😑': 1595, 'ball': 1596, 'kevin': 1597, 'places': 1598, 'anonymous': 1599, 'begin': 1600, 'fucks': 1601, 'realize': 1602, 'parkland': 1603, 'victims': 1604, 'set': 1605, 'blue': 1606, 'gop': 1607, 'adding': 1608, 'giants': 1609, 'female': 1610, 'frustrated': 1611, 'essential': 1612, 'gp': 1613, 'bless': 1614, 'harder': 1615, 'humanity': 1616, 'step': 1617, 'lower': 1618, 'taken': 1619, 'wind-up': 1620, 'puppet': 1621, 'celebrate': 1622, 'v-bucks': 1623, '🇦': 1624, 'announce': 1625, 'helping': 1626, 'businesses': 1627, 'winners': 1628, 'wales': 1629, 'english': 1630, 'arab': 1631, 'doha': 1632, 'qatar': 1633, '12th': 1634, 'august': 1635, 'junhoe': 1636, 'hat': 1637, 'yunhyeong': 1638, 'useful': 1639, 'thx': 1640, 'visual': 1641, 'journey': 1642, 'land': 1643, 'infographic': 1644, 'dumb': 1645, 'named': 1646, '1980s': 1647, 'complete': 1648, 'rape': 1649, 'root': 1650, 'hundreds': 1651, 'charge': 1652, 'likely': 1653, 'boots': 1654, 'winter': 1655, 'unknown': 1656, 'coach': 1657, 'brief': 1658, 'speaking': 1659, 'exercise': 1660, 'shri': 1661, 'arrested': 1662, '🚩': 1663, 'apple': 1664, 'draw': 1665, '26th': 1666, 'eu': 1667, 'brown': 1668, 'red': 1669, 'flow': 1670, 'visa': 1671, 'programming': 1672, 'th': 1673, 'grade': 1674, 'superpower': 1675, 'historical': 1676, '💛': 1677, 'watching': 1678, 'bags': 1679, '\\u200b': 1680, 'activities': 1681, 'various': 1682, '🎂': 1683, 'opinion': 1684, 'ass': 1685, 'tool': 1686, 'rajasthan': 1687, 'royals': 1688, 'decides': 1689, 'parliament': 1690, 'event': 1691, 'response': 1692, 'sites': 1693, 'enforcement': 1694, 'cum': 1695, 'decent': 1696, 'buses': 1697, 'cover': 1698, 'among': 1699, 'murdered': 1700, 'hollywood': 1701, 'example': 1702, 'supporters': 1703, 'relax': 1704, 'value': 1705, 'coffee': 1706, 'answering': 1707, 'chose': 1708, 'instead': 1709, 'volume': 1710, 'bus': 1711, 'punishment': 1712, 'hub': 1713, 'wanted': 1714, 'investors': 1715, 'absolute': 1716, 'trust': 1717, '😤': 1718, 'selfie': 1719, 'bot': 1720, 'dc': 1721, 'opportunity': 1722, 'basically': 1723, 'wouldn': 1724, 'application': 1725, 'weekend': 1726, 'rules': 1727, 'yall': 1728, 'slick': 1729, 'whats': 1730, 'bro': 1731, 'msm': 1732, 'film': 1733, 'reported': 1734, 'emotional': 1735, 'skin': 1736, 'ultimate': 1737, 'economy': 1738, 'folding': 1739, 'planned': 1740, 'remix': 1741, 'chaiwala': 1742, 'pants': 1743, 'spells': 1744, 'gone': 1745, '📸': 1746, 'author': 1747, 'meme': 1748, 'solution': 1749, 'bullets': 1750, 'quite': 1751, 'stories': 1752, 'v': 1753, 'apps': 1754, 'verizon': 1755, 'anywhere': 1756, 'machine': 1757, 'ह': 1758, 'surely': 1759, 'mine': 1760, 'प': 1761, 'य': 1762, 'fuck': 1763, 'device': 1764, 'played': 1765, 'die': 1766, 'whether': 1767, 'hook': 1768, 'nowplaying': 1769, 'matt': 1770, 'raising': 1771, 'ka': 1772, 'lived': 1773, 'garden': 1774, 'hop': 1775, 'ep': 1776, '. . .': 1777, 'throw': 1778, 'hopefully': 1779, 'frieza': 1780, 'murder': 1781, 'mystery': 1782, 'bear': 1783, 'engineer': 1784, 'software': 1785, 'http': 1786, 'distributes': 1787, 'deserve': 1788, 'cheap': 1789, 'citizen': 1790, 'round': 1791, 'bucks': 1792, 'due': 1793, 'strongest': 1794, 'monday': 1795, 'vouchers': 1796, 'marched': 1797, 'mlk': 1798, 'selma': 1799, 'self-defen': 1800, 'flower': 1801, 'movement': 1802, 'politics': 1803, 'especially': 1804, 'sector': 1805, 'room': 1806, 'jobs': 1807, 'driving': 1808, 'fantastic': 1809, 'carry': 1810, 'worked': 1811, 'father': 1812, '<': 1813, 'disease': 1814, 'speaker': 1815, 'chicago': 1816, 'doubt': 1817, 'songs': 1818, 'beauty': 1819, 'bitcoins': 1820, 'videos': 1821, 'trailer': 1822, 'co-founder': 1823, 'ribbon': 1824, 'italy': 1825, 'explained': 1826, 'outstanding': 1827, '🍷': 1828, 'obama': 1829, 'avail': 1830, 'goodness': 1831, 'loves': 1832, 'muslims': 1833, 'wanna': 1834, 'rite': 1835, 'print': 1836, '💚': 1837, 'pakistan': 1838, 'nation': 1839, 'families': 1840, 'harry': 1841, 'symbol': 1842, 'hogg': 1843, 'animal': 1844, 'bbc': 1845, 'poll': 1846, 'usd': 1847, 'cups': 1848, 'launch': 1849, 'technologies': 1850, 'episodes': 1851, 'called': 1852, 'predictions': 1853, 'common': 1854, 'helped': 1855, 'daniels': 1856, 'champ': 1857, 'channel': 1858, 'centralized': 1859, 'ho': 1860, 'pre-ico': 1861, 'starts': 1862, 'tickets': 1863, 'london': 1864, '💯': 1865, 'podcast': 1866, 'chat': 1867, 'bots': 1868, 'heavy': 1869, '🤞': 1870, 'thoughts': 1871, 'florida': 1872, 'betting': 1873, 'odds': 1874, 'cars': 1875, 'manage': 1876, 'quit': 1877, 'decades': 1878, 'manipulating': 1879, 'invest': 1880, 'clothing': 1881, 'samsung': 1882, 'headset': 1883, 'friends-rt': 1884, 'brexit': 1885, 'court': 1886, 'ban': 1887, 'union': 1888, 'doodle': 1889, 'lovers': 1890, 'meant': 1891, 'prez': 1892, 'anna': 1893, 'herndon': 1894, 'yup': 1895, 'proof': 1896, 'talented': 1897, 'ransomware': 1898, 'halts': 1899, 'major': 1900, 'insane': 1901, 'referral': 1902, 'hello': 1903, 'building': 1904, 'agenda': 1905, 'annual': 1906, 'irony': 1907, 'node': 1908, 'voice': 1909, 'veterans': 1910, 'won': 1911, 'completely': 1912, 'search': 1913, 'schools': 1914, 'suffer': 1915, 'kodak': 1916, 'ji': 1917, 'uses': 1918, 'cheat': 1919, 'surprise': 1920, 'claim': 1921, 'hasnt': 1922, 'amongst': 1923, 'wherein': 1924, 'marital': 1925, 'interesting': 1926, 'ending': 1927, 'DGDG/DGDG': 1928, 'risked': 1929, 'lifetime': 1930, 'bed': 1931, 'athletic': 1932, 'months': 1933, '\\U0001f92c': 1934, 'serves': 1935, 'owner': 1936, 'late': 1937, 'teacher': 1938, 'changing': 1939, 'consultant': 1940, 'DG:DGDG': 1941, 'banking': 1942, 'panel': 1943, '😆': 1944, 'dress': 1945, 'wireless': 1946, 'traffic': 1947, 'minister': 1948, 'asset': 1949, '🆒': 1950, 'host': 1951, 'ceo': 1952, 'mulder': 1953, 'aren': 1954, 'ticket': 1955, 'station': 1956, 'mr': 1957, 'comic': 1958, 'updates': 1959, 'motion': 1960, 'kinda': 1961, 'profile': 1962, 'gamers': 1963, 'actor': 1964, 'features': 1965, 'DGDG-DGDGDGDGDG': 1966, 'blew': 1967, '👣': 1968, 'greatest': 1969, 'wayne': 1970, 'mikequindazzi': 1971, 'keeping': 1972, 'wasn': 1973, 'naked': 1974, 'clip': 1975, 'agreement': 1976, 'DGDGDGDG.DGDG': 1977, '€': 1978, 'metal': 1979, 'notifications': 1980, '🐷': 1981, 'speed': 1982, 'DGDG.DGDG': 1983, '💟': 1984, 'dvd': 1985, 'initial': 1986, 'landscaper': 1987, 'tree': 1988, 'ex': 1989, 'mankind': 1990, '☀': 1991, '🐕': 1992, 'dogland': 1993, 'ones': 1994, 'activity': 1995, 'samples': 1996, 'lightning': 1997, 'raised': 1998, 'bored': 1999, 'wise': 2000, 'custom': 2001, 'cheesecake': 2002, 'shipped': 2003, 'perishable': 2004, 'arrows': 2005, 'pointing': 2006, 'leaves': 2007, 'cake': 2008, 'okvsho': 2009, 'recipe': 2010, 'fail': 2011, 'harvesting': 2012, 'ppl': 2013, 'mcnamee': 2014, 'explains': 2015, 'investing': 2016, 'criminals': 2017, 'penalty': 2018, 'guards': 2019, 'retired': 2020, 'relatable': 2021, 'easier': 2022, 'witch': 2023, 'hunt': 2024, 'toolbox': 2025, 'q': 2026, 'spike': 2027, 'commit': 2028, 'realization': 2029, 'beside': 2030, 'wicked': 2031, 'balls': 2032, 'fuckin': 2033, 'guaranteed': 2034, 'weight': 2035, 'reminds': 2036, 'taxpayers': 2037, 'currency': 2038, 'earnings': 2039, 'bmw': 2040, 'fanatics': 2041, 'awaited': 2042, 'hip-hop': 2043, 'candles': 2044, '👑': 2045, 'closes': 2046, 'psl': 2047, 'sophisticated': 2048, 'ape': 2049, 'loyal': 2050, 'unarmed': 2051, 'visited': 2052, 'height': 2053, 'ratings': 2054, 'mediocre': 2055, 'womens': 2056, 'sport': 2057, 'sing': 2058, 'ala': 2059, 'provided': 2060, 'pockets': 2061, 'lies': 2062, 'topic': 2063, 'operating': 2064, 'tok': 2065, 'brand': 2066, 'fighting': 2067, 'silly': 2068, 'lunch': 2069, '😭': 2070, 'however': 2071, 'foreign': 2072, 'earned': 2073, 'income': 2074, 'savings': 2075, 'stenwood': 2076, '😎': 2077, 'remarks': 2078, 'yr': 2079, 'lifestyle': 2080, 'phase': 2081, 'bearish': 2082, 'recently': 2083, 'feminist': 2084, 'ruining': 2085, 'invite': 2086, 'formula': 2087, 'kicked': 2088, 'f1': 2089, 'ideal': 2090, 'increase': 2091, 'tune': 2092, '📣': 2093, 'biggest': 2094, 'btcusd': 2095, 'bitmex': 2096, 'binance': 2097, 'kitchen': 2098, 'bench': 2099, 'trouble': 2100, 'protesters': 2101, 'downtown': 2102, 'sacramento': 2103, 'demanding': 2104, 'justice': 2105, 'channels': 2106, 'nope': 2107, 'patience': 2108, 'strength': 2109, 'ipad': 2110, 'tablet': 2111, 'raspberry': 2112, 'bigger': 2113, 'geez': 2114, 'professional': 2115, 'designer': 2116, 'interview': 2117, 'stress': 2118, '™': 2119, 'chest': 2120, 'tattoo': 2121, 'ramnath': 2122, 'goenka': 2123, 'abhisar': 2124, 'sharma': 2125, 'charging': 2126, '₹': 2127, 'modi': 2128, 'connecting': 2129, 'verge': 2130, 'area': 2131, 'food': 2132, 'companies': 2133, 'healthy': 2134, 'bitmain': 2135, 'antminer': 2136, 'seller': 2137, 'ship': 2138, 'evening': 2139, 'agree': 2140, 'pasting': 2141, 'helps': 2142, 'allowing': 2143, 'managers': 2144, 'miami': 2145, 'hotel': 2146, 'wins': 2147, 'smile': 2148, 'protests': 2149, 'actors': 2150, 'showed': 2151, 'spots': 2152, 'success': 2153, 'ecosystem': 2154, '😊': 2155, 'reasonable': 2156, 'turning': 2157, 'master': 2158, 'characters': 2159, 'amirite': 2160, 'computer': 2161, 'washington': 2162, 'myriad': 2163, '℅': 2164, 'exclusive': 2165, 'shock': 2166, 'anti': 2167, 'lender': 2168, 'traveling': 2169, 'fulfill': 2170, 'covenant': 2171, 'crown': 2172, 'min': 2173, 'bitch': 2174, 'insult': 2175, 'insert': 2176, 'insulting': 2177, 'hairflip': 2178, 'cancer': 2179, 'sad': 2180, 'relevant': 2181, 'outlook': 2182, 'updated': 2183, 'improved': 2184, 'conversation': 2185, 'mne': 2186, 'nut': 2187, 'employees': 2188, 'engineers': 2189, 'cia': 2190, 'innovations': 2191, 'ear': 2192, 'source': 2193, 'teeth': 2194, 'anthony': 2195, 'conditt': 2196, 'gates': 2197, 'accurate': 2198, 'af': 2199, 'constituents': 2200, 'tak': 2201, 'homophobia': 2202, 'markdowns': 2203, 'youll': 2204, 'disarm': 2205, 'average': 2206, 'hardware': 2207, 'several': 2208, 'na': 2209, 'bukhara': 2210, 'met': 2211, 'walk': 2212, 'winds': 2213, '✈': 2214, 'intense': 2215, 'experienced': 2216, 'johnson': 2217, 'tongue': 2218, 'instant': 2219, 'sentence.hes': 2220, 'teenager': 2221, 'premium': 2222, 'ueno': 2223, 'zoo': 2224, 'posting': 2225, 'ak': 2226, 'criminal': 2227, 'similar': 2228, 'alive': 2229, '🇬': 2230, '🇧': 2231, 'pitch': 2232, 'handle': 2233, 'shift': 2234, 'toward': 2235, 'fill': 2236, 'dms': 2237, 'ffs': 2238, 'theyll': 2239, 'greenbriar': 2240, 'crap': 2241, 'clutch': 2242, 'wide': 2243, 'refreshing': 2244, 'liberal': 2245, 'fears': 2246, 'mil': 2247, 'owners': 2248, 'boring': 2249, 'blind': 2250, 'faith': 2251, 'served': 2252, 'documents': 2253, 'yessss': 2254, 'stoff': 2255, 'survive': 2256, 'jim': 2257, 'parsons': 2258, 'gonzalez': 2259, 'debate': 2260, 'cnn': 2261, 'evil': 2262, 'meanwhile': 2263, 'discussing': 2264, 'tooth': 2265, 'alone': 2266, 'storage': 2267, 'debt': 2268, 'un': 2269, 'sister': 2270, 'ensure': 2271, 'regulatory': 2272, 'prosperity': 2273, 'plays': 2274, 'mumbai-ahmedabad': 2275, 'priced': 2276, 'trains': 2277, 'indian': 2278, 'dam': 2279, 'lollydaskal': 2280, 'laugh': 2281, 'swear': 2282, '10x': 2283, 'heck': 2284, 'advertisements': 2285, 'unbiased': 2286, 'bitcom': 2287, 'jason': 2288, 'eye': 2289, 'older': 2290, 'telling': 2291, 'hiphop': 2292, 'lied': 2293, 'approaching': 2294, 'peopleto': 2295, 'switch': 2296, 'actual': 2297, 'disgusting': 2298, 'north': 2299, 'aka': 2300, 'heard': 2301, 'korea': 2302, 'push': 2303, 'finest': 2304, 'cricketers': 2305, 'payments': 2306, 'amp': 2307, 'literature': 2308, 'rates': 2309, 'reach': 2310, 'improve': 2311, 'further': 2312, 'walking': 2313, '4g': 2314, 'caption': 2315, 'wearing': 2316, 'bucket': 2317, 'uploades': 2318, 'neglected': 2319, 'clue': 2320, 'nor': 2321, 'aid': 2322, 'fools': 2323, 'roseberry': 2324, 'cotbed': 2325, 'ts': 2326, 'cs': 2327, 'examples': 2328, 'va': 2329, 'hospital': 2330, 'flight': 2331, 'enjoyed': 2332, 'northern': 2333, 'catch': 2334, 'ltc': 2335, 'trx': 2336, 'captaincy': 2337, 'attempted': 2338, 'abuse': 2339, 'classroom': 2340, 'neither': 2341, 'entertainment': 2342, '🎾': 2343, 'pair': 2344, 'annie': 2345, 'colour': 2346, 'snug': 2347, 'pixie': 2348, 'letting': 2349, 'hiring': 2350, 'coaching': 2351, 'persona': 2352, 'promo': 2353, 'trolls': 2354, 'yrs': 2355, 'suddenly': 2356, 'correct': 2357, 'recovered': 2358, 'iphone': 2359, 'iq': 2360, 'gi': 2361, 'communicate': 2362, 'kickstart': 2363, 'itunes': 2364, 'freshest': 2365, 'milk': 2366, 'leather': 2367, 'nazis': 2368, 'em': 2369, 'merely': 2370, 'numeric': 2371, 'reporter': 2372, 'came': 2373, 'los': 2374, 'coral': 2375, 'eggs': 2376, 'lying': 2377, 'hypocrisy': 2378, 'funded': 2379, 'waking': 2380, 'blown': 2381, 'prevent': 2382, 'mull': 2383, 'pinckneys': 2384, 'gin': 2385, 'setup': 2386, 'huh': 2387, '😈': 2388, 'legacy': 2389, 'andrew': 2390, 'indiana': 2391, 'novel': 2392, 'nyc': 2393, 'quote': 2394, 'ridge': 2395, 'physical': 2396, 'DGDGDGDGDGDGDGDGDGDG': 2397, 'millie': 2398, 'copied': 2399, 'dak': 2400, 'youtuber': 2401, 'chances': 2402, 'debating': 2403, 'jafa': 2404, 'iplt': 2405, 'successfull': 2406, 'sporting': 2407, 'champalimaud': 2408, 'writing': 2409, 'letters': 2410, 'franchise': 2411, 'sack': 2412, 'engine': 2413, 'referendum': 2414, 'conspiracy': 2415, 'designing': 2416, 'remudo': 2417, 'scan': 2418, 'picks': 2419, 'halfway': 2420, 'oxford': 2421, 'relationship': 2422, 'fi': 2423, 'globe': 2424, 'claims': 2425, 'charles': 2426, 'obsessed': 2427, 'steals': 2428, 'miles': 2429, 'focus': 2430, 'continue': 2431, 'shopping': 2432, 'movies': 2433, 'lyrics': 2434, 'tmt': 2435, 'learned': 2436, 'voting': 2437, 'alongside': 2438, 'prints': 2439, 'mugs': 2440, 'tariffs': 2441, 'region': 2442, 'trans': 2443, '🙃': 2444, 'vision': 2445, 'planet': 2446, 'jordan': 2447, 'bleeding': 2448, 'introducing': 2449, 'believable': 2450, 'bringing': 2451, 'classes': 2452, 'aged': 2453, 'counsel': 2454, 'assuming': 2455, 'advocating': 2456, 'killers': 2457, 'sit': 2458, 'advice': 2459, '🍜': 2460, 'rand': 2461, 'logic': 2462, 'investment': 2463, 'kudos': 2464, 'existence': 2465, 'suitable': 2466, 'DGDGDGDG-DGDGDGDG': 2467, 'brings': 2468, 'arabic': 2469, 'smartphone': 2470, 'brothers': 2471, 'attachment': 2472, 'south': 2473, 'africa': 2474, 'staring': 2475, 'mirror': 2476, 'goals': 2477, 'dailybrian': 2478, 'rd': 2479, 'complaining': 2480, 'square': 2481, 'napkins': 2482, 'swans': 2483, 'fitness': 2484, 'stars': 2485, 'mentioned': 2486, 'enterprise': 2487, 'regulations': 2488, 'friendship': 2489, 'trudeau': 2490, 'soul': 2491, 'actions': 2492, 'en': 2493, 'sweat': 2494, 'painting': 2495, 'wet': 2496, 'shame': 2497, 'europe': 2498, 'terrible': 2499}\n",
      "[9, 4, 7, 1144, 6, 3, 3, 3, 3, 3, 3, 3, 5, 514, 14]\n"
     ]
    }
   ],
   "source": [
    "vocab = vocabulary.Vocabulary(utils.flatten(train_sentences), 2500)\n",
    "x_ids = vocab.words_to_ids(train_sentences[0])\n",
    "print(\"x_ids =\", vocab.word_to_id)\n",
    "print(x_ids)"
   ]
  },
  {
   "cell_type": "code",
   "execution_count": null,
   "metadata": {
    "collapsed": true
   },
   "outputs": [],
   "source": [
    "\n"
   ]
  },
  {
   "cell_type": "code",
   "execution_count": 5,
   "metadata": {},
   "outputs": [
    {
     "name": "stdout",
     "output_type": "stream",
     "text": [
      "[[9, 4, 7, 1144, 6, 3, 3, 3, 3, 3, 3, 3, 5, 514, 14], [4, 228, 36, 395, 1982, 704, 22, 807, 28, 145, 12, 4, 5], [4, 3, 3, 4, 4, 3, 19, 4, 4, 91, 2, 11, 3, 3, 705, 12, 5, 3], [328, 20, 40, 639, 107, 808, 105, 13, 952, 706, 24, 89, 809, 19, 13, 370, 20, 162, 46, 13, 707, 15, 170, 47, 43, 6, 5], [1145, 2, 4, 3, 3, 11, 3, 13, 515, 1146, 2, 428, 286, 1983, 61, 4, 3, 5], [9, 4, 7, 1984, 75, 354, 1984, 19, 89, 562, 563, 49, 9, 38, 71, 19, 26, 564, 429, 37, 2, 2, 2, 2, 1985, 2, 2, 28, 23, 42, 953, 14], [1448, 4, 7, 3, 3, 3, 3, 3, 3, 3, 3, 3, 3, 3, 3, 3, 3, 3, 3, 3, 3, 3, 3, 3, 3, 5], [465, 310, 240, 1147, 241, 1449, 810, 810, 175, 466, 23, 43, 229, 27, 516, 11, 8, 1148, 371, 4, 3, 5], [9, 4, 7, 1986, 565, 1450, 45, 566, 44, 2, 170, 10, 2, 115, 48, 2, 1451, 255, 5], [2, 7, 31, 6, 467, 7, 2, 2, 48, 112, 567, 2, 15, 1149, 2, 2, 5, 3, 3, 5], [1987, 1988, 2, 2, 811, 1987, 25, 2, 2, 25, 242, 329, 5, 256, 3, 3, 3, 3, 3, 3, 3, 3, 3, 5], [4, 26, 2, 16, 2, 230, 53, 1150, 66, 287, 30, 8, 2, 131, 17, 100, 1151, 134, 21, 101, 1152, 6, 67, 154, 954, 6, 1151, 114, 41, 107, 396, 6], [9, 4, 7, 708, 812, 813, 3, 7, 709, 37, 150, 5, 814, 50, 142, 9, 142, 71, 74, 4, 14], [9, 4, 7, 2, 1989, 7, 1990, 2, 2, 1452, 354, 12, 5, 3, 3, 3], [710, 1153, 1991, 37, 3, 3, 3, 3, 3, 3, 3, 3, 3, 14, 5], [3, 60, 18, 100, 1154, 1992, 71, 74, 24, 1155, 815, 1993, 5, 5], [4, 257, 10, 73, 39, 43, 98, 29, 18, 34, 49, 397, 330, 640, 10, 370, 8, 711, 22, 19, 8, 97, 11, 151, 24, 13, 807, 2, 6], [4, 22, 192, 2, 222, 24, 36, 2, 64, 92, 243, 17, 120, 6, 70, 568, 63, 117, 49, 151, 97, 641, 16, 109, 28, 2, 11, 109, 1994, 288, 1995, 24, 8, 2, 468, 1453, 63, 117, 6, 3, 3], [83, 569, 25, 2, 43, 3, 955, 2, 289, 2, 3, 2, 27, 5, 3, 3, 5], [4, 4, 4, 4, 1996, 953, 712, 6, 1454, 6, 20, 20, 20, 51, 46, 39, 109, 2, 61, 28, 19, 2, 2, 86, 2, 712, 2, 20, 20, 20]]\n"
     ]
    }
   ],
   "source": [
    "list_of_train_ids = list(map(vocab.words_to_ids, train_sentences))\n",
    "print(list_of_train_ids[0:20])\n",
    "\n",
    "\n",
    "list_of_validation_ids = list(map(vocab.words_to_ids, validation_sentences))\n",
    "\n",
    "list_of_test_ids = list(map(vocab.words_to_ids, test_sentences))\n"
   ]
  },
  {
   "cell_type": "code",
   "execution_count": 6,
   "metadata": {},
   "outputs": [
    {
     "data": {
      "text/plain": [
       "Counter({3: 7, 4: 1, 5: 1, 6: 1, 7: 1, 9: 1, 14: 1, 514: 1, 1144: 1})"
      ]
     },
     "execution_count": 6,
     "metadata": {},
     "output_type": "execute_result"
    }
   ],
   "source": [
    "collections.Counter(list_of_train_ids[0])"
   ]
  },
  {
   "cell_type": "code",
   "execution_count": 7,
   "metadata": {
    "collapsed": true
   },
   "outputs": [],
   "source": [
    "from scipy.sparse import csr_matrix \n",
    "def sparsify_data(list_of_ids):\n",
    "    row_indices = []\n",
    "    col_indices = []\n",
    "    values = []\n",
    "    rows = len(list_of_ids)\n",
    "\n",
    "    for row, x_ids in enumerate(list_of_ids):\n",
    "        x_fdict = collections.Counter(x_ids)\n",
    "        for wordid, count in x_fdict.items():\n",
    "            row_indices.append(row)       \n",
    "            col_indices.append(wordid)  # column is word id\n",
    "            values.append(count)        # value is count\n",
    "    x_sparse = csr_matrix((values, (row_indices, col_indices)),\n",
    "                              shape=[rows, vocab.size])\n",
    "    return x_sparse"
   ]
  },
  {
   "cell_type": "code",
   "execution_count": 8,
   "metadata": {
    "collapsed": true
   },
   "outputs": [],
   "source": [
    "x_train_sparse = sparsify_data(list_of_train_ids)\n",
    "x_validation_sparse = sparsify_data(list_of_validation_ids)\n",
    "x_test_sparse = sparsify_data(list_of_test_ids)\n"
   ]
  },
  {
   "cell_type": "code",
   "execution_count": 13,
   "metadata": {},
   "outputs": [
    {
     "name": "stdout",
     "output_type": "stream",
     "text": [
      " acc: 27.78%, recall: 27.78%, precision: 100.00%, f1: 43.48%,\n"
     ]
    }
   ],
   "source": [
    "from sklearn.naive_bayes import MultinomialNB\n",
    "from sklearn.metrics import f1_score, accuracy_score, recall_score, precision_score\n",
    "\n",
    "nb = MultinomialNB(alpha =  1e-8)\n",
    "nb.fit(x_train_sparse, train_labels)\n",
    "y_pred = nb.predict(x_test_sparse)\n",
    "\n",
    "f1 = f1_score(test_labels, y_pred)\n",
    "acc = accuracy_score(test_labels, y_pred)\n",
    "recall = recall_score(test_labels, y_pred)\n",
    "precision = precision_score(test_labels, y_pred)\n",
    "print(\" acc: {:.02%}, recall: {:.02%}, precision: {:.02%}, f1: {:.02%},\".format(acc, recall, precision, f1))\n"
   ]
  },
  {
   "cell_type": "code",
   "execution_count": null,
   "metadata": {},
   "outputs": [],
   "source": []
  },
  {
   "cell_type": "code",
   "execution_count": 10,
   "metadata": {},
   "outputs": [
    {
     "data": {
      "text/plain": [
       "0"
      ]
     },
     "execution_count": 10,
     "metadata": {},
     "output_type": "execute_result"
    }
   ],
   "source": [
    "y_pred[7]"
   ]
  },
  {
   "cell_type": "markdown",
   "metadata": {},
   "source": [
    "###### "
   ]
  },
  {
   "cell_type": "code",
   "execution_count": null,
   "metadata": {
    "collapsed": true
   },
   "outputs": [],
   "source": []
  }
 ],
 "metadata": {
  "kernelspec": {
   "display_name": "Python 3",
   "language": "python",
   "name": "python3"
  },
  "language_info": {
   "codemirror_mode": {
    "name": "ipython",
    "version": 3
   },
   "file_extension": ".py",
   "mimetype": "text/x-python",
   "name": "python",
   "nbconvert_exporter": "python",
   "pygments_lexer": "ipython3",
   "version": "3.6.3"
  }
 },
 "nbformat": 4,
 "nbformat_minor": 2
}
