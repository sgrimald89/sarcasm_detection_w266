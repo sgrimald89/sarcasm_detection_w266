{
 "cells": [
  {
   "cell_type": "code",
   "execution_count": 1,
   "metadata": {},
   "outputs": [
    {
     "name": "stdout",
     "output_type": "stream",
     "text": [
      "@donttrythis Dam there must be a tell of a lot of mentally ill people in the USA. I mean more than most 1st world countries. Must be something in the water or how they are  brought up.  |You are wronghttps://twitter.com/tlorens/status/977254283354746886 …|1\r\n",
      "@marcoPalba @CNNPolitics @CNN Yup because they look bad azz banning them wont do anything.  |Most of us want a ban on ARs and that is it. Stricter background checks too.|1\r\n",
      "@DanTheBeepMan @danabrams Shouldnt have beeped the man, dood. #livepd   #fulldisclosure #hesnotbuyingpizza|Dan the Beep Man 👮‍♂️🚔 on Twitter:  Don t think I have that much money!|1\r\n",
      "@prrobbins My wife says the same thing to me.Wife: You need to adapt to me, not  expect me to you.Me: WTF is this world coming to. Lol.😂   😜 https://t.co/zSmCUpPe8z|Traders need to adapt to the market. Not expect the market to adapt to them. |1\r\n",
      "@prrobbins Now if my wife &amp; girlfriend could just get along... Blahhh Lol.😂 😂 💩   #kidding 😜 https://t.co/YgQjztfivl|Happy wife. Happy life.|1\r\n",
      "@csmonitor I call for Hollywood to stop making all violent movies and all music refrain from violent lyrics ... 🤣 |Trevon Bosley is a Chicago teenager who lost his brother to gun violence. He spoke at #MarchForOurLives in the nation s capital.pic.twitter.com/x8MBugwmpv|1\r\n",
      "@BroadStBull Im sure Hakstol will have the best possible lineup suited up tomorrow. No worries.    #nhlcoach|Updated standings. Devils and Panthers win Sat. to put pressure on #Flyers. Jackets finally lose.pic.twitter.com/2WpxFZydE6|1\r\n",
      "@JennSmith64 We all LOVE morgane. (  ) https://t.co/jgk5XO15xW|None|1\r\n",
      "@Tokaise Well, you know,... ummm, uuuuuuhhh, now that you mention it, uhhhh you must be a racist for asking such a question!  |Question: When Democrats say voter I.D. is racist. Isn t saying that racist? Aren t they assuming a certain  race or races aren t smart enough to get I.D. And if they aren t smart enough to get I.D. Should they really be deciding on who runs our government?pic.twitter.com/blKgpawZlB|1\r\n",
      "@FLAVOLS @robbysoave History?  It was made by a bunch of old white heterosexual guys. What do they know?   |They don’t teach history anymore apparently|1\r\n"
     ]
    }
   ],
   "source": [
    "!tail merged_data_v3.csv"
   ]
  },
  {
   "cell_type": "code",
   "execution_count": 23,
   "metadata": {
    "collapsed": true
   },
   "outputs": [],
   "source": [
    "from __future__ import print_function\n",
    "from __future__ import division\n",
    "import collections\n",
    "import nltk\n",
    "import numpy as np\n",
    "from nltk.tokenize.casual import TweetTokenizer\n",
    "from w266_common import utils, vocabulary\n",
    "import re\n",
    "np.random.seed(266)"
   ]
  },
  {
   "cell_type": "code",
   "execution_count": 24,
   "metadata": {
    "collapsed": true
   },
   "outputs": [],
   "source": [
    "import csv\n",
    "tokenizer = TweetTokenizer()\n",
    "x_data = []\n",
    "labels = []\n",
    "sentences = []\n",
    "     \n",
    "  \n",
    "with open('merged_data_v3.csv', 'r') as csvfile:\n",
    "    linereader = csv.reader(csvfile, delimiter = '|')\n",
    "    for i, row in enumerate(linereader):\n",
    "        if i == 0:\n",
    "            continue\n",
    "        sentence, _, sarcasm = row\n",
    "        sentence = re.sub(\"RT @[^\\s]+:\", \"retweet\", sentence)\n",
    "        #sentences.append(sentence)\n",
    "        tokenized_words = tokenizer.tokenize(sentence)\n",
    "        x_tokens = utils.canonicalize_words(tokenized_words, hashtags =False)\n",
    "        index = np.argwhere(x_tokens==\"sarcasm\")\n",
    "        x_tokens = np.delete(x_tokens, index)\n",
    "        index = np.argwhere(x_tokens==\"sarcastic\")\n",
    "        x_tokens = np.delete(x_tokens, index)\n",
    "        x_data.append(x_tokens)\n",
    "        labels.append(int(sarcasm))\n",
    "\n",
    "\n",
    "shuffle_indices = np.random.permutation(np.arange(len(labels)))\n",
    "train_split_idx = int(0.7 * len(labels))\n",
    "test_split_idx  = int(0.9 * len(labels))\n",
    "\n",
    "train_indices = shuffle_indices[:train_split_idx]\n",
    "validation_indices = shuffle_indices[train_split_idx:test_split_idx]\n",
    "test_indices = shuffle_indices[test_split_idx:]\n",
    "\n",
    "x_data = np.array(x_data)\n",
    "labels = np.array(labels)\n",
    "train_sentences = x_data[train_indices]\n",
    "train_labels= labels[train_indices] \n",
    "validation_sentences = x_data[validation_indices]\n",
    "validation_labels = labels[validation_indices]\n",
    "test_sentences = x_data[test_indices]  \n",
    "test_labels = labels[test_indices]  \n",
    "\n"
   ]
  },
  {
   "cell_type": "code",
   "execution_count": 25,
   "metadata": {},
   "outputs": [
    {
     "name": "stdout",
     "output_type": "stream",
     "text": [
      "x_ids = {'<s>': 0, '</s>': 1, '<unk>': 2, 'ACCOUNT': 3, 'LINK': 4, '.': 5, 'the': 6, 'to': 7, ',': 8, 'retweet': 9, '!': 10, 'a': 11, '…': 12, 'of': 13, 'and': 14, 'is': 15, 'you': 16, 'in': 17, '?': 18, 'i': 19, 'for': 20, '-': 21, ':': 22, '...': 23, 'on': 24, '’': 25, 'this': 26, 'that': 27, 'it': 28, 'with': 29, 'DG': 30, 'be': 31, 'your': 32, 'DGDG': 33, 'my': 34, 'are': 35, 'we': 36, '&': 37, 'at': 38, 'all': 39, 'have': 40, '️': 41, ')': 42, 'so': 43, 'can': 44, '(': 45, 'not': 46, 's': 47, 'into': 48, 'rt': 49, '/': 50, 'just': 51, 'now': 52, 'guy': 53, 'no': 54, 'what': 55, '#maga': 56, 'out': 57, 'was': 58, 'our': 59, 'me': 60, 'from': 61, 'they': 62, 'like': 63, 'by': 64, 'will': 65, 'how': 66, 'happen': 67, 'but': 68, 'if': 69, 'believes': 70, 'couldnt': 71, 'straight': 72, 't': 73, 'nicer': 74, 'ex': 75, '#fbi': 76, 'walking': 77, '#': 78, '#fbicorruption': 79, 'agent': 80, '#comey': 81, 'free': 82, 'its': 83, 'about': 84, 'get': 85, 'do': 86, 'more': 87, 'as': 88, 'people': 89, '😂': 90, 'his': 91, 'up': 92, '$': 93, 'DGDGDG': 94, 'who': 95, '#funny': 96, 'DGDGDGDG': 97, 'an': 98, 'he': 99, '#blockchain': 100, 'one': 101, 'us': 102, 'has': 103, 'or': 104, 'when': 105, 'here': 106, 'im': 107, 'new': 108, 'time': 109, 'good': 110, 'follow': 111, 'great': 112, 'best': 113, 'know': 114, 'their': 115, 'oh': 116, 'really': 117, '#bitcoin': 118, 'via': 119, 'should': 120, '🔥': 121, 'why': 122, 'only': 123, 'see': 124, '#music': 125, 'because': 126, 'make': 127, 'right': 128, 'dont': 129, '*': 130, 'there': 131, 'day': 132, 'love': 133, 'would': 134, ':/': 135, '#win': 136, 'today': 137, 'well': 138, 'am': 139, 'please': 140, 'been': 141, 'way': 142, 'think': 143, 'sure': 144, '↴': 145, 'want': 146, 'need': 147, 'thats': 148, '#news': 149, 'than': 150, 'some': 151, 'them': 152, 'check': 153, '“': 154, '..': 155, 'being': 156, 'were': 157, 'most': 158, 'thanks': 159, 'm': 160, 'go': 161, '#lol': 162, 'had': 163, 'march': 164, '#job': 165, '”': 166, 'after': 167, '#giveaway': 168, 'don': 169, 'work': 170, 'quotes': 171, 'over': 172, 'win': 173, 'world': 174, 'never': 175, '⭐': 176, 'back': 177, 'her': 178, 'say': 179, 'hey': 180, 'those': 181, 'going': 182, '%': 183, 'first': 184, 'news': 185, 'enter': 186, 'join': 187, 'said': 188, '🤣': 189, '#fashion': 190, 'didnt': 191, 'look': 192, 'game': 193, 'these': 194, 'left': 195, '#cryptocurrency': 196, 'give': 197, 'any': 198, '#jokes': 199, 'too': 200, '#health': 201, 'gun': 202, 'did': 203, 'online': 204, '#humor': 205, 'yes': 206, 'let': 207, '#love': 208, 'someone': 209, 'she': 210, 'very': 211, 'off': 212, 'life': 213, 'other': 214, 'then': 215, '#hiring': 216, 'live': 217, 'must': 218, 'much': 219, '#memes': 220, 'could': 221, 'again': 222, 'white': 223, 'person': 224, 'latest': 225, 'even': 226, '#puns': 227, 'ask': 228, 'mind': 229, '#ico': 230, 'trump': 231, 'something': 232, 'thank': 233, '🕰': 234, 'many': 235, 'hard': 236, 'another': 237, 'every': 238, 'got': 239, 'sex': 240, 'take': 241, '>': 242, '#business': 243, 'man': 244, 'always': 245, 'keep': 246, 'yeah': 247, '#photography': 248, 'last': 249, 'david': 250, 'wow': 251, '#fun': 252, 're': 253, '🙄': 254, '#crypto': 255, '🎮': 256, 'without': 257, 'DGDGDGDGDG': 258, 'top': 259, 'fan': 260, '@': 261, 'money': 262, 'better': 263, '💎': 264, 'everyone': 265, '+': 266, '🖥': 267, 'ever': 268, 'worth': 269, 'sarcasm': 270, 'youre': 271, ']': 272, 'also': 273, '#tech': 274, 'thing': 275, 'community': 276, '[': 277, 'happy': 278, 'registration': 279, 'where': 280, 'team': 281, 'cant': 282, 'guns': 283, '#marchforourlives': 284, 'thought': 285, '£': 286, 'anyone': 287, 'chance': 288, 'real': 289, 'brexit': 290, '#fortnite': 291, 'job': 292, 'before': 293, '#socialmedia': 294, 'cams': 295, 'tokkens': 296, 'surprise': 297, 'next': 298, 'down': 299, 'lol': 300, 'years': 301, '#education': 302, 'games': 303, 'still': 304, 'come': 305, 'use': 306, 'giveaway': 307, 'd': 308, 'kids': 309, 'nothing': 310, 'read': 311, 'andrew': 312, 'changed': 313, 'days': 314, ';': 315, 'since': 316, 'history': 317, 'token': 318, 'mean': 319, '#tshirt': 320, 'school': 321, 'own': 322, 'little': 323, '#ethereum': 324, 'guys': 325, 'davis': 326, 'airdrop': 327, 'show': 328, 'help': 329, 'things': 330, '#competition': 331, 'start': 332, '#nra': 333, 'wait': 334, 'makes': 335, '#facebook': 336, 'him': 337, '#breaking': 338, 'doing': 339, 'lets': 340, 'https': 341, 'watch': 342, 'made': 343, '#blog': 344, 'marr': 345, 'blockchain': 346, 'tweet': 347, 'share': 348, 'twitter': 349, 'previ': 350, '#home': 351, 'bad': 352, 'does': 353, 'DG.DG': 354, 'important': 355, 'find': 356, 'friends': 357, 'nice': 358, 'looking': 359, 'daily': 360, 'buy': 361, 'glad': 362, '#school': 363, 'away': 364, 'long': 365, 'home': 366, '#luxury': 367, 'fun': 368, 'anything': 369, 'women': 370, 'facebook': 371, 'stop': 372, 'r': 373, 'crypto': 374, 'feel': 375, 'data': 376, 'post': 377, '#technology': 378, 'try': 379, 'business': 380, 'tell': 381, 'which': 382, 'both': 383, 'needs': 384, 'spring': 385, '#retweet': 386, '#careerarc': 387, 'few': 388, 'telegram': 389, '#life': 390, 'music': 391, 'open': 392, 'sale': 393, 'shocked': 394, '#style': 395, 'es': 396, 'once': 397, '#humour': 398, 'says': 399, '#btc': 400, 'year': 401, 'click': 402, 'using': 403, 'tag': 404, 'high': 405, 'morning': 406, 'season': 407, 'having': 408, 'run': 409, 'u': 410, '‘': 411, '#architecture': 412, 'face': 413, 'two': 414, '#kids': 415, '#elementary': 416, '❤': 417, 'definitely': 418, 'service': 419, 'through': 420, 'old': 421, '#prize': 422, 'coming': 423, 'add': 424, 'social': 425, 'market': 426, 'somebody': 427, 'change': 428, 'bring': 429, 'summer': 430, 'such': 431, 'around': 432, '#twitter': 433, '#nowplaying': 434, 'part': 435, 'big': 436, '#decoration': 437, 'seems': 438, '\\u200d': 439, '#robotics': 440, '#quotes': 441, 'media': 442, '#live': 443, 'actually': 444, 'same': 445, 'maybe': 446, 'may': 447, 'ico': 448, 'while': 449, 'arent': 450, 'form': 451, 'night': 452, 'during': 453, '#programming': 454, '~': 455, 'hilarious': 456, '#funnyquotes': 457, 'visit': 458, 'case': 459, 'making': 460, 'getting': 461, '#peace': 462, 'wrong': 463, '#interiordesign': 464, 'favorite': 465, '#marketing': 466, 'sunday': 467, 'learn': 468, 'call': 469, '#art': 470, '📢': 471, '#tron': 472, '#gaming': 473, 'official': 474, 'bonus': 475, 'soon': 476, 'forget': 477, 'isnt': 478, 'internet': 479, 'lowest': 480, '🏻': 481, 'intelligence': 482, 'everything': 483, 'support': 484, 'kind': 485, 'DGDGDGDGDGDG': 486, '✨': 487, 'hes': 488, 'book': 489, '#rock': 490, 'problem': 491, 'future': 492, 'finally': 493, 'funny': 494, 'welcome': 495, 'club': 496, '#wit': 497, '#nobel': 498, 'done': 499, 'working': 500, 'blog': 501, 'thinking': 502, 'children': 503, 'lot': 504, 'hours': 505, '#ai': 506, 'laws': 507, '#funnysayings': 508, '#cricket': 509, 'price': 510, 'DG.DGDG': 511, 'beautiful': 512, 'usa': 513, 'true': 514, 'men': 515, 'group': 516, 'million': 517, '👍': 518, 'video': 519, 'week': 520, '#startup': 521, 'super': 522, '#iot': 523, 'name': 524, 'believe': 525, 'house': 526, 'probably': 527, 'end': 528, 'company': 529, '#comedy': 530, 'available': 531, 'power': 532, 'didn': 533, 'already': 534, 'illegal': 535, 'bitcoin': 536, '#cybersecurity': 537, 'between': 538, 'play': 539, 'least': 540, 'followers': 541, 'exchange': 542, 'htt': 543, 'e': 544, '#pop': 545, 'care': 546, 'gets': 547, 'perfect': 548, 'hour': 549, 'trading': 550, 'else': 551, 'link': 552, '#tokensale': 553, '😜': 554, 'playing': 555, 'whole': 556, 'human': 557, 'hate': 558, 'trying': 559, 'fake': 560, 'yet': 561, 'president': 562, 'sometimes': 563, 'uk': 564, '=': 565, 'giving': 566, 'boy': 567, 'hear': 568, 'camp': 569, 'hope': 570, 'single': 571, 'doesnt': 572, 'w': 573, 'project': 574, 'lives': 575, 'pay': 576, 'god': 577, 'plan': 578, 've': 579, '🤔': 580, 'friend': 581, 'safe': 582, ':)': 583, 'eth': 584, 'put': 585, 'words': 586, 'totally': 587, 'article': 588, 'remember': 589, '#wrestlemania': 590, '#airdrop': 591, '✔': 592, 'means': 593, 'ends': 594, '#eth': 595, '#ripple': 596, 'song': 597, 'franchise': 598, '#fintech': 599, 'full': 600, 'listen': 601, 'guess': 602, 'tonight': 603, 'though': 604, 'reason': 605, 'vs': 606, 'isn': 607, 'winner': 608, 'national': 609, 'sorry': 610, 'rights': 611, 'users': 612, '#newmusic': 613, '#hot': 614, 'under': 615, '#followme': 616, 'goes': 617, 'l': 618, 'awesome': 619, 'each': 620, 'website': 621, 'DGDG.DGDG': 622, 'digital': 623, '🚀': 624, '🏼': 625, 'ok': 626, 'n': 627, 'shocking': 628, 'phone': 629, 'special': 630, 'might': 631, 'easter': 632, 'place': 633, 'vote': 634, 'international': 635, 'apply': 636, 'amazing': 637, 'event': 638, '#fitness': 639, '#modeling': 640, '#follow': 641, 'b': 642, '#security': 643, 'black': 644, 'joke': 645, 'forward': 646, 'wonder': 647, '#snarky': 648, '#rt': 649, 'shot': 650, 'credit': 651, 'ready': 652, 'proud': 653, 'country': 654, 'issue': 655, 'fans': 656, 'story': 657, 'horrible': 658, '#yankees': 659, 'earth': 660, 'gift': 661, 'question': 662, 'yourself': 663, 'running': 664, '#dance': 665, 'comes': 666, 'redbubble': 667, 'coin': 668, 'america': 669, 'weird': 670, '#science': 671, 'break': 672, 'view': 673, 'picture': 674, 'public': 675, 'poor': 676, 'simply': 677, '—': 678, 'young': 679, '#work': 680, 'move': 681, 'stem': 682, 'competition': 683, 'ी': 684, 'f': 685, 'used': 686, 'lovely': 687, 'australia': 688, 'talent': 689, 'excited': 690, '#history': 691, 'enjoy': 692, 'control': 693, 'popular': 694, 'told': 695, 'apparently': 696, 'c': 697, 'picks': 698, 'comment': 699, 'attack': 700, 'students': 701, 'dreams': 702, '#hiphop': 703, 'course': 704, 'understand': 705, 'largest': 706, 'account': 707, 'against': 708, 'easy': 709, 'DGDG/DG': 710, '😒': 711, 'food': 712, 'instead': 713, 'drink': 714, '#beauty': 715, 'opening': 716, 'shit': 717, 'platform': 718, 'address': 719, 'saying': 720, 'ive': 721, '#travel': 722, 'seen': 723, 'order': 724, 'bank': 725, 'cool': 726, '#reality': 727, 'total': 728, 'party': 729, 'create': 730, 'ceo': 731, 'american': 732, 'upon': 733, 'point': 734, 'points': 735, 'hashtag': 736, 'ice': 737, 'idea': 738, 'death': 739, 'talk': 740, 'following': 741, '#trx': 742, '#india': 743, 'lie': 744, 'recommend': 745, '1st': 746, 'fine': 747, '#oneliner': 748, 'myself': 749, 'royal': 750, 'brand': 751, 'april': 752, '😉': 753, 'pretty': 754, 'possible': 755, '#DGDGDG': 756, 'behind': 757, 'starting': 758, 'fair': 759, 'almost': 760, 'paying': 761, 'terrorist': 762, 'build': 763, 'art': 764, 'doesn': 765, 'DGDG/DGDG': 766, 'loving': 767, '➡': 768, '♀': 769, 'knows': 770, '#tips': 771, 'meet': 772, '#rap': 773, '#satoshi': 774, 'details': 775, 'fuck': 776, '#ausgp': 777, 'choice': 778, 'h': 779, 'kik': 780, 'list': 781, 'weeks': 782, 'security': 783, 'works': 784, 'failure': 785, 'breaking': 786, 'kill': 787, 'members': 788, 'successful': 789, 'enough': 790, 'cash': 791, 'violence': 792, 'smart': 793, '#food': 794, 'ill': 795, '#data': 796, 'police': 797, 'far': 798, 'marketing': 799, '#anime': 800, 'incredible': 801, '#linkinbio': 802, '#podcast': 803, 'sense': 804, '#jobs': 805, '💰': 806, 'second': 807, 'ban': 808, '#2a': 809, 'yay': 810, 'blue': 811, '🇺': 812, 'looks': 813, 'taking': 814, 'ya': 815, 'gonna': 816, 'sounds': 817, 'past': 818, 'supply': 819, '#sunday': 820, 'talking': 821, 'family': 822, '#airdropnew': 823, 'cricket': 824, 'fit': 825, '#notfeelingit': 826, '#next': 827, 'attention': 828, 'fund': 829, 'pick': 830, 'll': 831, 'gb': 832, 'blew': 833, '#pinstripepride': 834, 'miss': 835, 'girl': 836, '#twitch': 837, '🙌': 838, 'ball': 839, 'started': 840, 'sides': 841, 'tokens': 842, 'technology': 843, '#cute': 844, 'male': 845, 'based': 846, 'anymore': 847, 'sweet': 848, 'sign': 849, '#stemcamps': 850, 'european': 851, 'health': 852, '🇸': 853, 'industry': 854, '#breakingnews': 855, 'red': 856, '#nsfw': 857, 'united': 858, 'heart': 859, 'write': 860, '👇': 861, 'fast': 862, 'nra': 863, '😎': 864, 'announce': 865, '#politics': 866, 'ones': 867, 'speak': 868, 'nudes': 869, 'takes': 870, 'o': 871, '#usa': 872, '#iphone': 873, 'city': 874, 'americans': 875, 'helping': 876, 'league': 877, '#stanton': 878, 'bullpen': 879, 'DGDG:DGDG': 880, 'movie': 881, 'law': 882, 'save': 883, 'small': 884, 'tech': 885, 'wont': 886, 'mother': 887, 'war': 888, 'hands': 889, '#sex': 890, 'times': 891, 'called': 892, 'wall': 893, 'usd': 894, '#game': 895, 'smith': 896, 'level': 897, '#photos': 898, 'fee': 899, 'class': 900, 'happened': 901, '#bethereum': 902, 'dare': 903, 'commission': 904, 'dangerous': 905, '#stem': 906, 'cyber': 907, 'clearly': 908, 'five': 909, 'fire': 910, '#writer': 911, 'moment': 912, 'lead': 913, 'building': 914, 'banned': 915, 'forgot': 916, '#infosec': 917, 'birthday': 918, 'code': 919, 'friday': 920, 'ो': 921, 'luxuryliferss': 922, 'word': 923, 'three': 924, 'featuring': 925, '#itunes': 926, '#cloud': 927, 'fox': 928, 'theyre': 929, 'protect': 930, 'politicians': 931, 'main': 932, '<': 933, 'head': 934, 'matter': 935, '#spotify': 936, 'added': 937, 'able': 938, 'tax': 939, 'car': 940, 'network': 941, 'biggest': 942, 'prize': 943, '🎉': 944, 'classic': 945, '#jokeoftheday': 946, 'truth': 947, '#meme': 948, 'assault': 949, '#podernfamily': 950, '–': 951, 'seth': 952, 'system': 953, '😍': 954, 'ur': 955, 'state': 956, 'wants': 957, '#radio': 958, '#digital': 959, 'road': 960, 'wallet': 961, 'water': 962, 'humor': 963, 'evil': 964, 'items': 965, '#poshmark': 966, '#shopmycloset': 967, '🏆': 968, 'act': 969, 'experience': 970, 'pass': 971, 'bill': 972, 'photoshopped': 973, 'government': 974, 'y': 975, 'shooting': 976, '#irony': 977, 'month': 978, 'trade': 979, 'difference': 980, '#funquotes': 981, 'hit': 982, 'eat': 983, 'symbol': 984, 'weekend': 985, 'india': 986, 'states': 987, 'powell': 988, 'spin': 989, '#lmao': 990, 'fix': 991, 'drive': 992, '#earn_money': 993, 'campaign': 994, 'match': 995, 'spread': 996, '#like': 997, 'double': 998, 'id': 999, 'completely': 1000, '#weekend': 1001, '！': 1002, 'dream': 1003, '#free': 1004, 'v': 1005, '・': 1006, 'global': 1007, 'heres': 1008, 'youve': 1009, '#watch': 1010, 'imagine': 1011, '🙏': 1012, 'others': 1013, '#youtube': 1014, 'months': 1015, 'rich': 1016, 'congress': 1017, 'cold': 1018, 'lose': 1019, 'spent': 1020, 'theres': 1021, 'tomorrow': 1022, '#yoga': 1023, 'btc': 1024, 'offer': 1025, 'customer': 1026, 'rs': 1027, 'four': 1028, 'entered': 1029, 'risk': 1030, 'absolutely': 1031, '#realestate': 1032, '📸': 1033, 'wonderful': 1034, 'launch': 1035, '#follwme': 1036, 'knew': 1037, 'massive': 1038, 'worked': 1039, 'access': 1040, 'allowed': 1041, 'fucking': 1042, 'ht': 1043, 'england': 1044, 'arizona': 1045, 'feeling': 1046, 'note': 1047, '#np': 1048, 'huge': 1049, 'heard': 1050, 'wanted': 1051, 'step': 1052, '#gift': 1053, 'extra': 1054, 'steve': 1055, '#xbox': 1056, 'girls': 1057, 'schools': 1058, '😱': 1059, '👉': 1060, 'air': 1061, 'number': 1062, '🤦': 1063, 't-shirts': 1064, '3d': 1065, '#mobile': 1066, 'stock': 1067, '#cars': 1068, 'leave': 1069, 'turn': 1070, '#photo': 1071, '👏': 1072, 'along': 1073, 'set': 1074, 'partnership': 1075, 'below': 1076, 'instagram': 1077, '#quote': 1078, 'de': 1079, 'planned': 1080, 'trust': 1081, 'deal': 1082, 'found': 1083, 'luck': 1084, '#eos': 1085, 'different': 1086, 'cloth-stagram': 1087, 'exciting': 1088, 'gaming': 1089, 'obama': 1090, 'hits': 1091, 'todays': 1092, 'image': 1093, 'helped': 1094, 'sad': 1095, 'whats': 1096, 'physical': 1097, 'ideas': 1098, 'less': 1099, 'wouldnt': 1100, 'starts': 1101, 'went': 1102, 'truly': 1103, '#satire': 1104, 'living': 1105, 'g': 1106, 'information': 1107, 'groups': 1108, 'teacher': 1109, 'asking': 1110, 'normally': 1111, '#trum': 1112, 'room': 1113, 'update': 1114, 'expensive': 1115, 'watching': 1116, '#summercamp': 1117, 'review': 1118, 'bit': 1119, '):': 1120, '#morning': 1121, 'contest': 1122, 'safer': 1123, 'exactly': 1124, '♂': 1125, 'stuff': 1126, '✈': 1127, 'genius': 1128, 'idiots': 1129, '#party': 1130, '#author': 1131, 'issues': 1132, '#money': 1133, '🎁': 1134, 'front': 1135, '#people': 1136, 'player': 1137, 'hair': 1138, 'random': 1139, 'snow': 1140, 'sir': 1141, 'send': 1142, 'throw': 1143, 'surprised': 1144, 'sleeping': 1145, '#funwallart': 1146, 'either': 1147, '#agile': 1148, '#follome': 1149, '#blogginggals': 1150, 'inside': 1151, 'quite': 1152, 'sports': 1153, 'track': 1154, '#porn': 1155, '#sayings': 1156, 'size': 1157, 'क': 1158, 'द': 1159, 'ा': 1160, 'getreallux': 1161, '#luxurycars': 1162, '#supercars': 1163, 'answer': 1164, 'dear': 1165, 'google': 1166, 'photo': 1167, 'pushing': 1168, 'decided': 1169, 'education': 1170, 'killer': 1171, 'jay': 1172, 'happens': 1173, '👊': 1174, 'crazy': 1175, 'gave': 1176, 'info': 1177, 'chat': 1178, 'stay': 1179, 'app': 1180, 'download': 1181, 'volume': 1182, 'potential': 1183, 'given': 1184, 'learning': 1185, 'p': 1186, 'beat': 1187, 'tv': 1188, 'ahead': 1189, 'line': 1190, 'report': 1191, 'eyes': 1192, '#token': 1193, 'posted': 1194, 'card': 1195, 'australian': 1196, 'respect': 1197, '#success': 1198, 'bio': 1199, '▶': 1200, 'until': 1201, 'father': 1202, 'loved': 1203, 'won': 1204, 'coffee': 1205, 'midnight': 1206, 'monday': 1207, 'become': 1208, 'projects': 1209, '♫': 1210, 'artists': 1211, 'close': 1212, 'hi': 1213, 'missed': 1214, 'supposed': 1215, 'prison': 1216, 'damn': 1217, '#dystopiancomedy': 1218, 'rules': 1219, 'citizens': 1220, 'age': 1221, 'interesting': 1222, 'youll': 1223, 'richs': 1224, 'roommate': 1225, 'dov': 1226, 'friedman': 1227, '#sethrich': 1228, '#americafirstmedia': 1229, '#hisnamewassethrich': 1230, 'sponsors': 1231, 'minutes': 1232, 'safety': 1233, 'tips': 1234, 'bombs': 1235, 'hot': 1236, 'lost': 1237, '#livebroadcasting': 1238, 'sending': 1239, 'series': 1240, 'middle': 1241, 'worry': 1242, 'award': 1243, 'manipulating': 1244, 'believing': 1245, 'strategy': 1246, 'guard': 1247, '🤷': 1248, '🏽': 1249, 'radio': 1250, 'amendment': 1251, 'final': 1252, '#football': 1253, 'lucky': 1254, 'spain': 1255, 'joe': 1256, '#corbyn': 1257, '#newsnight': 1258, '#innovation': 1259, 'quality': 1260, '#social': 1261, '#easter': 1262, '#uk': 1263, 'manager': 1264, '#startups': 1265, 'yoga': 1266, 'questions': 1267, 'vintage': 1268, 'box': 1269, 'celebrate': 1270, 'edition': 1271, 'shes': 1272, 'position': 1273, 'product': 1274, 'towards': 1275, '#ideas': 1276, 'development': 1277, 'longer': 1278, 'DG/DG': 1279, 'center': 1280, 'jobs': 1281, 'ha': 1282, '#future': 1283, 'dead': 1284, 'printed': 1285, 'body': 1286, '🙃': 1287, 'race': 1288, '#trump': 1289, '#bloggersrequired': 1290, '#bloggerssparkle': 1291, '#bloggerssupportingbloggers': 1292, '#grlpwr': 1293, '#readme': 1294, '#secrets': 1295, '#whathappensnext': 1296, '#saywhat': 1297, '#yesshedid': 1298, '#prepareyourselves': 1299, '#xxx': 1300, 'pop': 1301, '#machinelearning': 1302, '#seo': 1303, '#media': 1304, 'site': 1305, 'release': 1306, 'bottle': 1307, '#michigan': 1308, 'model': 1309, '#sports': 1310, '#laughter': 1311, 'mike': 1312, 'page': 1313, 'finish': 1314, '#thehollowcrown': 1315, 'interested': 1316, 'privacy': 1317, 'especially': 1318, 'nature': 1319, 'bin': 1320, 'liberals': 1321, 'improve': 1322, '#luxurywatch': 1323, '#luxurylife': 1324, 'yesterday': 1325, 'russian': 1326, '#motivation': 1327, 'wearing': 1328, 'bucket': 1329, 'john': 1330, 'clean': 1331, 'allow': 1332, '15th': 1333, 'govt': 1334, 'agree': 1335, '⬅': 1336, 'problems': 1337, 'reached': 1338, 'early': 1339, 'modi': 1340, 'weapons': 1341, '#lastfm': 1342, '💋': 1343, '#laugh': 1344, 'deep': 1345, '😘': 1346, '#podcasts': 1347, 'cryptocurrency': 1348, 'college': 1349, 'english': 1350, 'academy': 1351, 'announced': 1352, 'prayers': 1353, 'per': 1354, '#spring': 1355, 'standing': 1356, '#amwriting': 1357, '🏘': 1358, 'everybody': 1359, 'fortnite': 1360, 'fashion': 1361, '#un': 1362, 'reasons': 1363, '#royalcyberclub': 1364, 'legal': 1365, 'solution': 1366, '#women': 1367, 'short': 1368, '#sundaymorning': 1369, 'train': 1370, 'decades': 1371, 'dude': 1372, 'bomb': 1373, 'paper': 1374, 'x': 1375, 'interview': 1376, '🌟': 1377, 'professional': 1378, 'madrid': 1379, 'london': 1380, '🎶': 1381, '#design': 1382, 'growth': 1383, '#leadership': 1384, 'response': 1385, 'racist': 1386, 'perhaps': 1387, 'came': 1388, 'donald': 1389, 'side': 1390, 'land': 1391, 'greatest': 1392, '#dubai': 1393, 'serious': 1394, '#bigbizpro': 1395, 'turned': 1396, 'mr': 1397, 'havent': 1398, 'scared': 1399, 'town': 1400, '🌸': 1401, 'bringing': 1402, 'analyst': 1403, 'tweets': 1404, 'wasnt': 1405, 'together': 1406, 'dark': 1407, 'retro': 1408, '#giftideas': 1409, 'angela': 1410, 'stressed': 1411, 'themselves': 1412, 'lat': 1413, '#smm': 1414, 'facts': 1415, 'woman': 1416, 'activities': 1417, 'master': 1418, 'flat': 1419, '®': 1420, 'players': 1421, 'involved': 1422, 'DG-DG': 1423, 'th': 1424, 'increase': 1425, 'rather': 1426, 'े': 1427, '😝': 1428, 'wine': 1429, 'lots': 1430, 'obvious': 1431, 'mom': 1432, 'mail': 1433, 'd12': 1434, '#brandnew': 1435, '#midwest': 1436, '#underground': 1437, '#spin': 1438, '#bars': 1439, '#swag': 1440, 'surely': 1441, 'speaking': 1442, 'nobody': 1443, 'taken': 1444, 'officially': 1445, 'v-bucks': 1446, 'episode': 1447, '#wellness': 1448, 'user': 1449, 'pro': 1450, 'ended': 1451, 'sleep': 1452, '#clothing': 1453, 'clear': 1454, 'version': 1455, 'saudi': 1456, 'prince': 1457, 'linda': 1458, 'babies': 1459, '#diet': 1460, 'often': 1461, 'seem': 1462, 'mine': 1463, '2nd': 1464, 'forever': 1465, 'hat': 1466, 'partners': 1467, 'bolton': 1468, 'pack': 1469, 'spotify': 1470, '#image': 1471, 'currency': 1472, 'hub': 1473, 'dollars': 1474, '#altcoin': 1475, 'ppl': 1476, 'waste': 1477, 'raised': 1478, 'kid': 1479, 'died': 1480, '#girls': 1481, 'except': 1482, 'published': 1483, '☕': 1484, '#coffee': 1485, 'youtube': 1486, '#memesdaily': 1487, 'folks': 1488, 'realize': 1489, 'worthy': 1490, 'hand': 1491, 'hell': 1492, 'collection': 1493, '#podcasting': 1494, 'garbage': 1495, 'defense': 1496, 'bed': 1497, 'bug': 1498, '#change': 1499, 'round': 1500, 'hopping': 1501, 'hobby': 1502, 'color': 1503, '.  .': 1504, 'fear': 1505, 'rest': 1506, 'star': 1507, '#wine': 1508, '#sexy': 1509, '•': 1510, 'goodies': 1511, 'reading': 1512, '#cnn': 1513, 'store': 1514, '#trending': 1515, '#wooplr': 1516, 'test': 1517, 'proceedings': 1518, 'arpaio': 1519, 'libera': 1520, 'crime': 1521, 'russia': 1522, 'benefits': 1523, '#vote': 1524, 'fantastic': 1525, 'liberal': 1526, 'generation': 1527, 'stick': 1528, 'detailed': 1529, 'canada': 1530, '#nature': 1531, 'career': 1532, 'epic': 1533, 'park': 1534, '#entrepreneur': 1535, 'hold': 1536, 'took': 1537, 'grand': 1538, '#us': 1539, '⇨': 1540, '#foxnews': 1541, 'banking': 1542, 'wife': 1543, 'none': 1544, 'reporting': 1545, 'lies': 1546, 'usually': 1547, 'brilliant': 1548, 'merkel': 1549, 'board': 1550, 'simple': 1551, 'delightful': 1552, 'sexy': 1553, 'fight': 1554, 'sick': 1555, 'whos': 1556, 'ft': 1557, 'okay': 1558, '👌': 1559, 'piece': 1560, 'content': 1561, 'freedom': 1562, 'impact': 1563, 'busy': 1564, 'moving': 1565, 'disappointed': 1566, 'grade': 1567, '#gamer': 1568, 'awp': 1569, 'theyve': 1570, '#bigdata': 1571, 'leader': 1572, 'example': 1573, 'currently': 1574, 'sun': 1575, '्': 1576, 'ं': 1577, 'cut': 1578, 'accounts': 1579, 'value': 1580, 'draw': 1581, 'plz': 1582, '#retro': 1583, 'sitting': 1584, 'seriously': 1585, '#branding': 1586, 'stories': 1587, 'drugs': 1588, 'dating': 1589, 'area': 1590, '🌷': 1591, 'writing': 1592, 'blame': 1593, '#d12': 1594, 'celebration': 1595, '#bounty': 1596, 'background': 1597, 'space': 1598, 'tho': 1599, '#jazz': 1600, 'firm': 1601, 'ground': 1602, '#logo': 1603, 'entire': 1604, 'created': 1605, 'stupid': 1606, '#crowdfunding': 1607, '21st': 1608, 'murdered': 1609, 'soros': 1610, 'weve': 1611, 'instant': 1612, 'deserve': 1613, 'mention': 1614, '#ps4': 1615, '#lifestyle': 1616, 'whatever': 1617, 'fully': 1618, 'environment': 1619, 'anniversary': 1620, 'yea': 1621, 'jump': 1622, 'light': 1623, 'amazon': 1624, 'soul': 1625, 'creating': 1626, 'violent': 1627, 'reach': 1628, 'cause': 1629, 'cost': 1630, 'child': 1631, '😊': 1632, 'yup': 1633, 'winning': 1634, '#workout': 1635, 'ago': 1636, 'attacks': 1637, 'success': 1638, '#bestfriends': 1639, 'insulting': 1640, '#DGDG': 1641, 'taxes': 1642, 'era': 1643, '#darkhumor': 1644, 'youth': 1645, '12th': 1646, '#teachingjobs': 1647, 'offers': 1648, 'paid': 1649, 'energy': 1650, 'autistic': 1651, 'powerful': 1652, 'film': 1653, 'anyway': 1654, 'skin': 1655, 'cafe': 1656, '#dontattackme': 1657, '#spoiltbread': 1658, 'crore': 1659, 'bounty': 1660, 'goal': 1661, 'coverage': 1662, 'bomber': 1663, 'engineer': 1664, 'military': 1665, 'stream': 1666, '`': 1667, 'student': 1668, '#soundcloud': 1669, 'program': 1670, 'weekly': 1671, 'villa': 1672, 'trumps': 1673, '#awesome': 1674, 'upset': 1675, 'DGDGDG.DGDG': 1676, 'border': 1677, 'written': 1678, 'remove': 1679, 'claim': 1680, 'medical': 1681, '#cool': 1682, 'driving': 1683, 'complete': 1684, 'design': 1685, 'die': 1686, '#bch': 1687, 'featured': 1688, 'da': 1689, '#truth': 1690, 'mark': 1691, 'betting': 1692, 'caught': 1693, '😩': 1694, '💕': 1695, 'church': 1696, '#video': 1697, 'thread': 1698, 'jesus': 1699, '#DGDGDGDG': 1700, '#guns': 1701, '🐣': 1702, 'sharing': 1703, 'families': 1704, '#career': 1705, '#linux': 1706, 'major': 1707, '#xboxone': 1708, '#digitalmarketing': 1709, 'modern': 1710, 'society': 1711, 'played': 1712, 'rain': 1713, 'omg': 1714, 'supporters': 1715, 'airport': 1716, 'british': 1717, 'tip': 1718, 'trip': 1719, 'ipl': 1720, 'baby': 1721, '#world': 1722, 'hypocrisy': 1723, '#futurist': 1724, '#opportunity': 1725, '🚨': 1726, 'killed': 1727, 'deutsche': 1728, 'governed': 1729, 'street': 1730, 'filled': 1731, '#deeplearning': 1732, 'cities': 1733, 'binance': 1734, '#dystopia': 1735, '#fact': 1736, 'bulletproof': 1737, 'confidential': 1738, 'certain': 1739, 'winners': 1740, 'checkout': 1741, 'flight': 1742, 'steal': 1743, 'ai': 1744, 'beer': 1745, 'effort': 1746, 'needed': 1747, '. . .': 1748, '#tits': 1749, 'programming': 1750, 'scandal': 1751, '🍀': 1752, 'millions': 1753, 'conversation': 1754, 'usual': 1755, 'hurt': 1756, 'ज': 1757, 'व': 1758, 'ि': 1759, 'beauty': 1760, '#etsy': 1761, '#bitcointalk': 1762, 'gay': 1763, '⏬': 1764, 'seeing': 1765, 'performance': 1766, 'leaders': 1767, 'killing': 1768, '😫': 1769, 'austin': 1770, '#children': 1771, 'mining': 1772, '#fakenews': 1773, 'status': 1774, '#writers': 1775, '#marchmadness': 1776, 'bbc': 1777, '#mannkibaat': 1778, '#worldtbday': 1779, '#team': 1780, '#sv2': 1781, '#mclaren': 1782, '#friends': 1783, 'chicago': 1784, '#journalism': 1785, 'common': 1786, 'protection': 1787, 'begin': 1788, 'fresh': 1789, '°': 1790, 'allows': 1791, 'mass': 1792, 'protecting': 1793, 'near': 1794, 'blood': 1795, 'corrupt': 1796, 'talal': 1797, 'cent': 1798, 'sarsour': 1799, '#weightloss': 1800, '#fantasy': 1801, 'connect': 1802, 'opportunities': 1803, 'junhoe': 1804, 'yunhyeong': 1805, 'mirror': 1806, '😑': 1807, 'block': 1808, 'ride': 1809, 'study': 1810, 'beginning': 1811, 'pm': 1812, 'parenthood': 1813, 'record': 1814, 'roll': 1815, 'opportunity': 1816, 'ji': 1817, 'christian': 1818, 'election': 1819, 'insert': 1820, 'congrats': 1821, 'leading': 1822, 'gold': 1823, 'hosting': 1824, 'cows': 1825, 'thoughts': 1826, 'mar': 1827, 'honestly': 1828, 'xrp': 1829, 'arab': 1830, 'doha': 1831, 'qatar': 1832, 'august': 1833, 'vouchers': 1834, 'berlin': 1835, 'flag': 1836, '#sandpapergate': 1837, '#contest': 1838, 'assets': 1839, 'educated': 1840, 'ads': 1841, 'superpower': 1842, 'injured': 1843, '⏰': 1844, '#veterans': 1845, '#trends': 1846, 'adult': 1847, 'built': 1848, 'spending': 1849, 'customers': 1850, 'battle': 1851, 'self': 1852, 'sell': 1853, 'captain': 1854, 'brown': 1855, 'inspired': 1856, '#sale': 1857, 'mobile': 1858, '#online': 1859, 'unique': 1860, '#wordpress': 1861, '#time': 1862, 'eli': 1863, 'received': 1864, 'judge': 1865, 'actions': 1866, 'policy': 1867, 'yasss': 1868, 'southern': 1869, 'puerto': 1870, 'sales': 1871, 'animal': 1872, '#god': 1873, '#goals': 1874, '#retrogaming': 1875, 'graphics': 1876, 'designer': 1877, 'ass': 1878, 'tried': 1879, 'changing': 1880, 'court': 1881, '#guncontrol': 1882, '#beautiful': 1883, 'comments': 1884, 'songs': 1885, 'positive': 1886, 'training': 1887, 'shirt': 1888, 'bunch': 1889, 'south': 1890, 'wired': 1891, '#google': 1892, 'obviously': 1893, 'practice': 1894, 'xbox': 1895, 'ps4': 1896, 'daughter': 1897, '#tokens': 1898, 'murder': 1899, 'gone': 1900, 'style': 1901, '#wallart': 1902, 'threat': 1903, '♥': 1904, 'adding': 1905, 'cars': 1906, '#britishsummertime': 1907, 'decides': 1908, 'traffic': 1909, '4th': 1910, 'east': 1911, 'healthcare': 1912, '#it': 1913, '#artist': 1914, '#apple': 1915, 'apple': 1916, 'crowd': 1917, 'bet': 1918, '#entrepreneurs': 1919, 'statement': 1920, 'hearing': 1921, 'classy': 1922, 'tricks': 1923, 'models': 1924, 'grab': 1925, 'voice': 1926, 'growing': 1927, 'tihosay': 1928, 'robots': 1929, 'late': 1930, '💯': 1931, 'putting': 1932, 'officers': 1933, 'cum': 1934, 'assistant': 1935, '#mobileapp': 1936, '#amazon': 1937, '#aptask': 1938, 'DGDG-DGDGDGDGDG': 1939, '🎂': 1940, 'failed': 1941, '#joke': 1942, '#f1': 1943, 'guide': 1944, 'green': 1945, '🎵': 1946, '#games': 1947, 'calls': 1948, 'outside': 1949, 'k': 1950, 'thousands': 1951, 'fall': 1952, 'activist': 1953, 'hogg': 1954, 'planning': 1955, 'earn': 1956, 'overview': 1957, 'tr': 1958, 'personal': 1959, 'couple': 1960, '#community': 1961, 'saturday': 1962, 'brain': 1963, 'attempt': 1964, 'artificial': 1965, 'channel': 1966, 'cry': 1967, '#shopping': 1968, '#new': 1969, 'shift': 1970, 'stand': 1971, '#writing': 1972, '💫': 1973, 'individual': 1974, '#altcoins': 1975, 'threats': 1976, 'spend': 1977, 'cambridge': 1978, 'former': 1979, 'graphite': 1980, 'limit': 1981, 'broke': 1982, 'boys': 1983, 'technologies': 1984, 'cards': 1985, 'billion': 1986, 'cheating': 1987, 'current': 1988, '#homedecor': 1989, 'terrorism': 1990, 'photos': 1991, '#austinbombings': 1992, 'base': 1993, '#snarkyq': 1994, 'quick': 1995, 'bought': 1996, 'warm': 1997, '#brand': 1998, '#livepd': 1999, 'football': 2000, 'low': 2001, 'indeed': 2002, '#thinkbig': 2003, '#mentor': 2004, '#lifeisbeautif': 2005, '::': 2006, '#photooftheday': 2007, 'shootings': 2008, 'son': 2009, 'china': 2010, '#viral': 2011, 'videos': 2012, 'cc': 2013, 'mi': 2014, 'turns': 2015, '#dataviz': 2016, '🇬': 2017, '🇧': 2018, 'likely': 2019, 'touch': 2020, '˚': 2021, 'exist': 2022, '#shop': 2023, 'ar': 2024, 'useful': 2025, 'btpcrowdsale': 2026, 'loss': 2027, 'brought': 2028, 'receive': 2029, 'wanting': 2030, 'weather': 2031, 'half': 2032, 'bar': 2033, '#college': 2034, '#book': 2035, 'caption': 2036, 'uploades': 2037, 'racing': 2038, 'uses': 2039, '#silly': 2040, 'brave': 2041, '#california': 2042, 'pre-sale': 2043, '#binance': 2044, '#forex': 2045, '#erc20': 2046, '#trade': 2047, '#deals': 2048, '💩': 2049, 'integrity': 2050, 'sit': 2051, 'aint': 2052, 'non': 2053, 'financial': 2054, 'theyll': 2055, '😀': 2056, 'extremely': 2057, '☀': 2058, 'tune': 2059, '#rnb': 2060, 'yall': 2061, 'considered': 2062, 'bitrace': 2063, 'amount': 2064, '#trading': 2065, 'plane': 2066, 'language': 2067, 'killers': 2068, 'elected': 2069, 'nah': 2070, 'sold': 2071, 'known': 2072, 'brings': 2073, 'shout': 2074, '📚': 2075, 'signed': 2076, 'books': 2077, '#parody': 2078, 'workout': 2079, '💪': 2080, 'tweeted': 2081, 'chase': 2082, 'dress': 2083, 'carry': 2084, 'thinks': 2085, 'businesses': 2086, 'insult': 2087, 'hairflip': 2088, 'doodle': 2089, 'action': 2090, '#datascience': 2091, 'masternode': 2092, 'selection': 2093, 'corruption': 2094, 'wise': 2095, 'office': 2096, 'falls': 2097, 'holding': 2098, 'pc': 2099, 'ways': 2100, 'goodbye': 2101, '#cryptocur': 2102, 'yrs': 2103, '#snow': 2104, '#savaus': 2105, 'ah': 2106, 'walk': 2107, 'highly': 2108, '#instagram': 2109, 'cannot': 2110, 'teams': 2111, 'telling': 2112, 'raw': 2113, 'justice': 2114, 'shame': 2115, 'catch': 2116, 'proof': 2117, 'decentralized': 2118, 'innovation': 2119, 'il': 2120, 'worse': 2121, 'shipping': 2122, 'services': 2123, 'sadly': 2124, '#monday': 2125, '#girl': 2126, 'DGDG.DG': 2127, '#doodle': 2128, '#wtf': 2129, 'vital': 2130, '#russian': 2131, 'shoot': 2132, 'similar': 2133, 'yo': 2134, 'rico': 2135, 'nation': 2136, '#thanks': 2137, 'trends': 2138, '#onlinemarketing': 2139, 'related': 2140, 'names': 2141, 'figure': 2142, 'decision': 2143, 'governor': 2144, 'calling': 2145, 'november': 2146, '#listen': 2147, 'playoffs': 2148, 'chemical': 2149, 'frame': 2150, 'fault': 2151, 'updated': 2152, '#freebiefriday': 2153, 'europe': 2154, 'loves': 2155, 'fam': 2156, '#telegram': 2157, 'directly': 2158, 'voucher': 2159, 'muslim': 2160, 'fact': 2161, 'drop': 2162, '#picture': 2163, 'infographic': 2164, 'crash': 2165, '🤗': 2166, 'fail': 2167, '🐰': 2168, 'bag': 2169, '#winning': 2170, '#neo': 2171, 'communities': 2172, '#burjkhalifa': 2173, '#emaar': 2174, '#luxuryproperty': 2175, '#connect2earth': 2176, '#lifetalks2018': 2177, 'rajasthan': 2178, 'royals': 2179, '😏': 2180, 'date': 2181, 'shower': 2182, 'across': 2183, 'systems': 2184, '#metal': 2185, 'oz': 2186, '#opensource': 2187, '#hr': 2188, '#ps4pro': 2189, '#blogger': 2190, 'director': 2191, 'zero': 2192, 'dad': 2193, 'bus': 2194, 'stars': 2195, 'participate': 2196, 'etc': 2197, 'cpr': 2198, 'cares': 2199, 'feet': 2200, '#family': 2201, 'exclusive': 2202, '#gospel': 2203, 'waiting': 2204, 'alive': 2205, 'inauguration': 2206, '🌻': 2207, 'goodness': 2208, '#oldies': 2209, '📣': 2210, 'sea': 2211, 'taught': 2212, '#punintended': 2213, 'device': 2214, 'bets': 2215, 'text': 2216, '#study': 2217, 'aware': 2218, 'bureau': 2219, '#vibes': 2220, '#tonystark': 2221, '#everydayability': 2222, '#startv': 2223, '#amazing': 2224, '#paradigm': 2225, '#interactions': 2226, '#venture': 2227, '#capital': 2228, 'buyout': 2229, 'declined': 2230, 'developer': 2231, 'dog': 2232, 'role': 2233, 'cops': 2234, 'http': 2235, '😃': 2236, 'rise': 2237, 'rocking': 2238, 'wireless': 2239, 'sound': 2240, '🏁': 2241, 'claims': 2242, 'bc': 2243, 'emma': 2244, 'matters': 2245, 'keeping': 2246, '#finance': 2247, 'federal': 2248, '#support': 2249, '{': 2250, '}': 2251, '#webdesign': 2252, 'stunning': 2253, 'registering': 2254, 'deposit': 2255, 'commit': 2256, 'supporting': 2257, 'fellow': 2258, 'wanna': 2259, 'resources': 2260, 'schnorr': 2261, 'signatures': 2262, 'charge': 2263, 'fruits': 2264, '🔜': 2265, 'oil': 2266, 'anywhere': 2267, '◀': 2268, 'contracts': 2269, 'closer': 2270, '#inspiration': 2271, '#cdnpoli': 2272, 'method': 2273, 'visa': 2274, 'selling': 2275, 'roman': 2276, 'secure': 2277, 'key': 2278, 'crews': 2279, 'speed': 2280, '#firstdayofspring': 2281, '#carnivore': 2282, 'effective': 2283, 'constitution': 2284, 'st': 2285, 'wins': 2286, '#american': 2287, '🙂': 2288, 'products': 2289, 'west': 2290, 'bundle': 2291, '#saturday': 2292, 'analytica': 2293, '☘': 2294, '🌿': 2295, 'leg': 2296, '#charity': 2297, 'counting': 2298, 'runs': 2299, 'events': 2300, 'shed': 2301, 'dr': 2302, 'cell': 2303, 'phones': 2304, 'criminals': 2305, 'station': 2306, 'gis': 2307, 'favourite': 2308, 'gif': 2309, 'ह': 2310, '#prizes': 2311, 'member': 2312, '🥇': 2313, 'teachers': 2314, 'easily': 2315, 'mix': 2316, '30th': 2317, 'parents': 2318, 'opinion': 2319, 'loading': 2320, 'DG/DGDG': 2321, '#amateur': 2322, '#playstation': 2323, '❗': 2324, 'period': 2325, '#fungifts': 2326, '#printables': 2327, '#newhome': 2328, '#wall': 2329, '#forbestfriend': 2330, 'ad': 2331, '#80s': 2332, 'concept': 2333, '#analytics': 2334, 'assume': 2335, '3rd': 2336, 'sexual': 2337, 'estate': 2338, 'asked': 2339, 'original': 2340, '#btu': 2341, 'hiring': 2342, '#mondaymotivation': 2343, 'sees': 2344, '#sundayfunday': 2345, 'willing': 2346, 'headset': 2347, 'anime': 2348, 'rewards': 2349, 'lord': 2350, '#psl2018': 2351, 'infrastructure': 2352, 'mo4ch': 2353, 'guest': 2354, 'shared': 2355, '#hilarious': 2356, 'pants': 2357, 'beyond': 2358, 'shouldn': 2359, '#trypod': 2360, 'lower': 2361, '#bizarre': 2362, 'register': 2363, '#stevesmith': 2364, 'management': 2365, '#fridayfeeling': 2366, 'checks': 2367, 'gorgeous': 2368, '#summer': 2369, 'dan': 2370, '#chicago': 2371, 'difficult': 2372, 'dev': 2373, 'logo': 2374, '2a': 2375, 'agreement': 2376, 'sext': 2377, 'asompo': 2378, 'trillion': 2379, ':d': 2380, 'jimmy': 2381, 'prod': 2382, 'among': 2383, 'fat': 2384, 'disease': 2385, 'roe': 2386, 'wade.why': 2387, 'weight': 2388, 'recall': 2389, 'tradition': 2390, 'protesters': 2391, '#model': 2392, 'arrived': 2393, 'custom': 2394, 'income': 2395, '🇷': 2396, 'integration': 2397, 'sites': 2398, 'religion': 2399, '😅': 2400, 'payments': 2401, 'programs': 2402, 'pp': 2403, 'fundingdo': 2404, '#investing': 2405, 'sport': 2406, '#romance': 2407, '#xyo': 2408, '#today': 2409, '#space': 2410, '#britain': 2411, '#russia': 2412, 'cop': 2413, '#song': 2414, '#chil': 2415, '#freshsound': 2416, '#tunein': 2417, 'input': 2418, '#onpoli': 2419, 'yep': 2420, 'fancy': 2421, 'couldn': 2422, 'twitch': 2423, 'announcement': 2424, 'communication': 2425, '#creative': 2426, '#hea': 2427, 'putin': 2428, 'syria': 2429, 'aaron': 2430, 'cups': 2431, 'huh': 2432, 'automatically': 2433, 'kinda': 2434, 'hannity': 2435, 'george': 2436, '#happiness': 2437, '#javascript': 2438, 'peter': 2439, 'digitalprice': 2440, 'expanding': 2441, 'thx': 2442, 'understanding': 2443, 'advanced': 2444, 'paris': 2445, 'developpements': 2446, 'literally': 2447, 'champ': 2448, 'guessed': 2449, 'android': 2450, 'reported': 2451, '#wizebot': 2452, 'islam': 2453, 'heroes': 2454, 'paintings': 2455, 'watches': 2456, 'express': 2457, 'limited': 2458, 'remind': 2459, 'targeted': 2460, 'basketball': 2461, 'changes': 2462, 'stomach': 2463, '#techno': 2464, 'schedule': 2465, 'fish': 2466, 'dumb': 2467, '#worldrecord': 2468, 'cram': 2469, '#24ho': 2470, 'culture': 2471, '#developer': 2472, 'copy': 2473, 'prices': 2474, 'worst': 2475, 'hunting': 2476, 'impossible': 2477, '🍷': 2478, '#pun': 2479, '#haha': 2480, 'meh': 2481, '#meh': 2482, '#mom': 2483, 'grown': 2484, '#men': 2485, 'budget': 2486, '#subscribe': 2487, 'magic': 2488, '#view': 2489, 'owners': 2490, 'spen': 2491, 'hasnt': 2492, '#cryptomadness': 2493, 'strongest': 2494, 'communit': 2495, '#starwars': 2496, 'novel': 2497, '#japan': 2498, '#bluehand': 2499, '#bluehandrising': 2500, '#bluehandfamily': 2501, 'rocks': 2502, 'ridiculous': 2503, 'khan': 2504, 'recently': 2505, 'cuts': 2506, 'conservative': 2507, 'character': 2508, 'holy': 2509, '#googleplay': 2510, 'patrolling': 2511, 'science': 2512, 'bhai': 2513, 'minister': 2514, 'hiding': 2515, 'unless': 2516, 'bags': 2517, '#soccer': 2518, '😄': 2519, 'whether': 2520, 'worried': 2521, 'raise': 2522, 'boxed': 2523, 'finger': 2524, '#designer': 2525, 'gender': 2526, 'eye': 2527, 'parkland': 2528, 'la': 2529, '#plannedparenthood': 2530, 'slow': 2531, 'cup': 2532, 'ours': 2533, 'cat': 2534, 'mins': 2535, 'icos': 2536, 'centreville': 2537, 'hello': 2538, 'setting': 2539, 'zone': 2540, 'reply': 2541, '#content': 2542, '#cartoon': 2543, '#day': 2544, 'reports': 2545, '25th': 2546, '#bbc': 2547, 'importance': 2548, 'advisor': 2549, 'wood': 2550, '#frame': 2551, 'visual': 2552, 'journey': 2553, 'owning': 2554, 'door': 2555, '#smallbusiness': 2556, 'armed': 2557, '#internationaldayofhappiness': 2558, 'lunch': 2559, 'local': 2560, 'required': 2561, '🎾': 2562, '#ltc': 2563, '#xvg': 2564, 'pull': 2565, 'spot': 2566, 'conference': 2567, 'later': 2568, 'marvel': 2569, '#movies': 2570, 'wi': 2571, '#healthcare': 2572, 'above': 2573, '#contentmarketing': 2574, 'simon': 2575, 'boots': 2576, '#housemusic': 2577, 'penis': 2578, 'bigger': 2579, 'limits': 2580, 'storm': 2581, 'lmao': 2582, 'terrorists': 2583, 'haters': 2584, '#funniest': 2585, '#roadtrip': 2586, '#annoyed': 2587, 'type': 2588, 'escape': 2589, 'leads': 2590, 'shall': 2591, 'reveals': 2592, 'listing': 2593, 'shows': 2594, 'ethereum': 2595, 'analysis': 2596, '#wow': 2597, '#ether': 2598, 'btw': 2599, 'harassment': 2600, 'lying': 2601, 'missing': 2602, '#laughteristhebestmedicine': 2603, '📻': 2604, '🎧': 2605, '#ecommerce': 2606, 'apps': 2607, 'bath': 2608, '#tuesdaythoughts': 2609, '#block': 2610, 'places': 2611, 'banning': 2612, 'relevant': 2613, 'stable': 2614, 'county': 2615, 'feed': 2616, 'deleted': 2617, '👑': 2618, '💝': 2619, '🆒': 2620, 'refuse': 2621, 'hire': 2622, '#formula1': 2623, ':-)': 2624, 'institute': 2625, 'develop': 2626, 'nodes': 2627, 'minds': 2628, 'purpose': 2629, 'junior': 2630, '#careers': 2631, 'tired': 2632, 'safely': 2633, 'chinese': 2634, 'repeating': 2635, 'hitler': 2636, 'germany': 2637, 'puts': 2638, '😆': 2639, 'showed': 2640, 'package': 2641, 'glass': 2642, 'promoting': 2643, 'warning': 2644, '#blonde': 2645, 'teach': 2646, 'passed': 2647, 'san': 2648, 'francisco': 2649, '#conference': 2650, 'advice': 2651, 'beach': 2652, 'survive': 2653, 'nuts': 2654, 'majority': 2655, 'century': 2656, 'congratulations': 2657, 'software': 2658, 'voting': 2659, 'retail': 2660, 'doubt': 2661, 'cryptocurrencies': 2662, 'dm': 2663, '⟹': 2664, 'japan': 2665, 'certainly': 2666, '#90s': 2667, 'afford': 2668, '#exercise': 2669, 'stellar': 2670, 'speech': 2671, '#losangeles': 2672, 'expect': 2673, 'strong': 2674, 'message': 2675, 'western': 2676, 'laugh': 2677, 'egg': 2678, 'french': 2679, 'mad': 2680, 'tea': 2681, 'lake': 2682, 'screen': 2683, '#event': 2684, 'smartphone': 2685, 'adults': 2686, '#ass': 2687, '#pussy': 2688, '#fiction': 2689, 'mexico': 2690, 'reaching': 2691, '#android': 2692, 'terrible': 2693, '🤢': 2694, '#donaldtrump': 2695, '#adult': 2696, 'afraid': 2697, 'bitch': 2698, '#funnytshirt': 2699, 'urgent': 2700, 'hospital': 2701, 'stands': 2702, 'humans': 2703, '#company': 2704, '#ekdoteen': 2705, '#like4like': 2706, 'bike': 2707, 'gop': 2708, 'transactions': 2709, 'recent': 2710, 'reasonable': 2711, 'regular': 2712, 'investors': 2713, '🏾': 2714, 'experts': 2715, 'values': 2716, 'DGDGDGDG.DGDG': 2717, 'dirty': 2718, 'प': 2719, 'य': 2720, '#wa': 2721, 'israel': 2722, 'promote': 2723, 'inc': 2724, 'older': 2725, 'provide': 2726, 'filing': 2727, 'paul': 2728, 'jokes': 2729, 'drug': 2730, 'markets': 2731, 'purchase': 2732, 'anthony': 2733, 'conditt': 2734, '#porno': 2735, 'travel': 2736, 'eating': 2737, 'likes': 2738, 'dogs': 2739, 'rule': 2740, 'innocent': 2741, '👀': 2742, 'bro': 2743, '#play': 2744, 'leadership': 2745, 'partner': 2746, 'investment': 2747, ';)': 2748, '->': 2749, 'fiverrneed': 2750, '#graphic_design': 2751, '#card': 2752, '#flyer': 2753, '#cover': 2754, '#resume': 2755, '#ads_design': 2756, '#instagram_ads': 2757, '#background_removehttps': 2758, 'gym': 2759, 'operation': 2760, 'soft': 2761, 'shots': 2762, '#etsyshop': 2763, 'dance': 2764, '#computeritservices': 2765, '#python': 2766, 'however': 2767, 'feelings': 2768, 'cuz': 2769, '🏿': 2770, '#pslfinalinkarachi': 2771, 'mouth': 2772, 'due': 2773, 'wake': 2774, 'activists': 2775, 'seat': 2776, 'tablet': 2777, 'awards': 2778, '☝': 2779, 'flow': 2780, '#government': 2781, 'initial': 2782, '#neveragain': 2783, '#sassy': 2784, 'invite': 2785, 'accuracy': 2786, 'countries': 2787, 'fb': 2788, 'decide': 2789, '#sciencefiction': 2790, 'losing': 2791, '#bitcoi': 2792, 'experienced': 2793, '#vacation': 2794, 'balls': 2795, 'mentally': 2796, 'tournament': 2797, 'worlds': 2798, 'union': 2799, 'grow': 2800, '#auspol': 2801, 'reverse': 2802, '#group': 2803, '#blowjob': 2804, 'legit': 2805, 'salty': 2806, '🇲': 2807, '🇾': 2808, '#ann': 2809, '#gymrewards': 2810, '#tokenssale': 2811, 'universe': 2812, '#rrbc': 2813, 'moments': 2814, 'winds': 2815, '❄': 2816, '😬': 2817, 'steel': 2818, 'machines': 2819, 'stocks': 2820, 'poster': 2821, 'founder': 2822, 'host': 2823, '💔': 2824, '➤': 2825, '#neocash': 2826, 'distributes': 2827, 'smell': 2828, '#clip': 2829, '#followback': 2830, 'signal': 2831, 'responsible': 2832, 'universal': 2833, 'luvelli': 2834, 'shut': 2835, '#blues': 2836, '#soul': 2837, '#soulmusic': 2838, 'uber': 2839, 'self-driving': 2840, 'noise': 2841, 'wed': 2842, 'wave': 2843, 'identity': 2844, 'hackers': 2845, 'tongue': 2846, 'pain': 2847, 'unexpected': 2848, 'shock': 2849, '😭': 2850, '😓': 2851, 'panel': 2852, 'farm': 2853, 'mulder': 2854, 'scully': 2855, 'vision': 2856, 'gain': 2857, '#ipad': 2858, '#saas': 2859, '#cardstack': 2860, '#dapps': 2861, 'gross': 2862, 'fools': 2863, 'disarm': 2864, 'burning': 2865, 'soo': 2866, 'fed': 2867, 'delivery': 2868, 'trouble': 2869, 'porn': 2870, 'priority': 2871, '#students': 2872, '🇰': 2873, 'korean': 2874, 'biased': 2875, '#indiedev': 2876, '#icomarketi': 2877, 'tour': 2878, 'nazi': 2879, 'administration': 2880, 'sh': 2881, '#todays': 2882, 'feat': 2883, 'religious': 2884, '#singing': 2885, '#london': 2886, 'wordpress': 2887, 'benefit': 2888, 'unit': 2889, '#comeback': 2890, 'pleasure': 2891, '⚡': 2892, '#market': 2893, 'discussing': 2894, '#seaofthieves': 2895, 'ship': 2896, 'broken': 2897, 'winter': 2898, 'general': 2899, 'msm': 2900, 'till': 2901, 'pre': 2902, 'evolution': 2903, 'tim': 2904, 'oracle': 2905, 'hardware': 2906, '#geolocation': 2907, 'muslims': 2908, 'band': 2909, 'strict': 2910, 'solve': 2911, 'potatoes': 2912, 'fixing': 2913, '#litecoin': 2914, 'dvd': 2915, 'downtown': 2916, 'wore': 2917, 'cap': 2918, 'channels': 2919, 'reserved': 2920, '#shoot': 2921, 'hide': 2922, 'favour': 2923, '#shame': 2924, 'duh': 2925, 'disagree': 2926, 'advance': 2927, '#cloudcomputing': 2928, '#digitaltransformation': 2929, 'borders': 2930, 'bingo': 2931, 'edge': 2932, 'breath': 2933, 'webmd': 2934, 'aid': 2935, '🌏': 2936, '#dystopian': 2937, '#fx': 2938, 'senior': 2939, 'dash': 2940, 'republicans': 2941, 'mathematics': 2942, 'shop': 2943, 'absolute': 2944, 'scandals': 2945, '#cr': 2946, 'sterlite': 2947, 'copper': 2948, '#isupportsterlitecopper': 2949, '#sterliteco': 2950, '#hoop': 2951, 'miles': 2952, '☺': 2953, 'evening': 2954, 'staff': 2955, 'ignore': 2956, 'nirav': 2957, 'seized': 2958, 'mf': 2959, 'hussain': 2960, 'cro': 2961, '#snapchat': 2962, 'became': 2963, 'jordan': 2964, 'queens': 2965, 'breathtaking': 2966, 'force': 2967, 'heaven': 2968, 'florida': 2969, '#research': 2970, 'file': 2971, 'enjoying': 2972, 'demo': 2973, 'capturing': 2974, 'reposting': 2975, '#weather': 2976, '#sky': 2977, '#landscape': 2978, 'useless': 2979, 'solo': 2980, 'session': 2981, 'lego': 2982, '#public': 2983, 'recipes': 2984, 'prime': 2985, 'dying': 2986, 'bullets': 2987, 'bodies': 2988, '🍻': 2989, '#trance': 2990, '#me': 2991, 'reality': 2992, 'promo': 2993, '#makeup': 2994, 'feature': 2995, 'map': 2996, 'disney': 2997, 'shooter': 2998, 'tweeting': 2999, 'mikal': 3000, 'leg-spinner': 3001, 'quetta': 3002, 'fuckin': 3003, '#iheartradio': 3004, 'presidency': 3005, 'illuminati': 3006, 'politics': 3007, 'ga': 3008, 'chantilly': 3009, 'highlands': 3010, 'pac': 3011, 'saw': 3012, 'respond': 3013, '#hypocrisy': 3014, 'print': 3015, '#bigsurprise': 3016, 'debate': 3017, 'monsta': 3018, 'cover': 3019, 'prepare': 3020, 'clothing': 3021, 'listening': 3022, 'lack': 3023, 'standard': 3024, '#england': 3025, 'floral': 3026, 'cake': 3027, 'include': 3028, 'advantage': 3029, '❥': 3030, '#indie': 3031, '#my50top': 3032, '#50top': 3033, '#topmusic': 3034, '#classes': 3035, '#designing': 3036, '#legos': 3037, '#well': 3038, 'source': 3039, 'offended': 3040, 'farms': 3041, 'association': 3042, 'ugly': 3043, 'merchandise': 3044, '#apparel': 3045, 'cancer': 3046, 'stage': 3047, 'applications': 3048, 'africa': 3049, 'basically': 3050, 'wouldn': 3051, 'van': 3052, '💛': 3053, 'democracy': 3054, '#happy': 3055, 'cute': 3056, 'surfaces': 3057, 'launching': 3058, 'evidence': 3059, 'golf': 3060, 'hmmm': 3061, 'wishes': 3062, 'forgive': 3063, '#vintage': 3064, 'driver': 3065, 'keeps': 3066, 'foreign': 3067, '#iota': 3068, '#xrp': 3069, 'foot': 3070, 'xd': 3071, 'luxuryhello': 3072, 'sack': 3073, 'finest': 3074, 'kg': 3075, 'chris': 3076, '▪': 3077, '#giveawayalert': 3078, '#president': 3079, '#jewelry': 3080, 'ransomware': 3081, 'ki': 3082, 'duty': 3083, '🙈': 3084, '#edm': 3085, 'electric': 3086, 'cheat': 3087, '#balltampering': 3088, '#nyt': 3089, 'cooper': 3090, '#urbaninstatweet': 3091, '#themeparkbloggerstatus': 3092, '#follo': 3093, '#marriedlife': 3094, '#desertplan': 3095, '#silverlining': 3096, 'kerr': 3097, 'starters': 3098, '#firekerr': 3099, '#letsgowarriorslive': 3100, 'blacks': 3101, 'recorded': 3102, 'founding': 3103, 'angry': 3104, 'pwas': 3105, 'vue.js': 3106, '#verge': 3107, 'le': 3108, 'magazine': 3109, '#thank': 3110, 'figured': 3111, 'victim': 3112, 'wound': 3113, 'dns': 3114, 'italy': 3115, 'un': 3116, 'reminder': 3117, '#code': 3118, 'obamas': 3119, 'presale': 3120, '#engineering': 3121, 'hunter': 3122, 'floor': 3123, 'ticket': 3124, 'parental': 3125, 'psl': 3126, 'sc': 3127, 'talks': 3128, 'creative': 3129, '#narcissism': 3130, '🙅': 3131, 'poll': 3132, 'informed': 3133, 'sucks': 3134, 'remudo': 3135, 'tells': 3136, 'pure': 3137, '#movie': 3138, 'entertainment': 3139, 'route': 3140, 'within': 3141, '#drone': 3142, '#futurism': 3143, 'nope': 3144, 'gangs': 3145, '#liberallogic': 3146, 'unknown': 3147, 'fucked': 3148, 'announcing': 3149, 'amazed': 3150, 'gives': 3151, 'steps': 3152, 'sends': 3153, 'championship': 3154, '#championship': 3155, 'xbl': 3156, 'drawing': 3157, 'gl': 3158, 'seas': 3159, '💿': 3160, 'angel': 3161, '#scrum': 3162, 'asshole': 3163, 'sprinklers': 3164, 'baseball': 3165, 'bts': 3166, 'clearview': 3167, '#clearviewes': 3168, 'interest': 3169, 'politician': 3170, 'gonzalez': 3171, 'expire': 3172, 'dc': 3173, 'variety': 3174, '#artwork': 3175, 'gee': 3176, 'shocker': 3177, '#nigeria': 3178, 'discuss': 3179, 'paypal': 3180, '#cash': 3181, '#enoughisenough': 3182, 'stops': 3183, '#privacy': 3184, 'mood': 3185, 'exercise': 3186, 'movement': 3187, 'fbi': 3188, 'james': 3189, '#smh': 3190, 'arm': 3191, 'fly': 3192, 'goods': 3193, 'accessories': 3194, 'actor': 3195, 'mandatory': 3196, 'humanity': 3197, 'companies': 3198, 'stopped': 3199, 'protocol': 3200, 'plain': 3201, 'appreciate': 3202, '#politicstoday': 3203, 'tree': 3204, '#stupid': 3205, 'payment': 3206, 'seoul': 3207, 'bright': 3208, 'harsh': 3209, 'surgery': 3210, 'taste': 3211, 'obsessed': 3212, 'sky': 3213, 'core': 3214, '#country': 3215, '#onair': 3216, 'irony': 3217, 'blocked': 3218, '#deletefacebook': 3219, '#freedom': 3220, 'met': 3221, 'manning': 3222, 'fearsome': 3223, 'reportedly': 3224, 'cigarette': 3225, 'donny': 3226, 'cricketer': 3227, 'coins': 3228, 'approach': 3229, 'pride': 3230, 'santander': 3231, 'large': 3232, 'cross': 3233, 'requires': 3234, '#climate': 3235, '#make': 3236, 'thankful': 3237, 'elementary': 3238, 'arabic': 3239, 'lang': 3240, 'rifle': 3241, 'centre': 3242, 'workers': 3243, '#nudes': 3244, '#nude': 3245, '#story': 3246, 'tee': 3247, '#smile': 3248, 'haven': 3249, 'fav': 3250, 'fitness': 3251, 'ts': 3252, 'casino': 3253, '#portrait': 3254, '#anal': 3255, '#milf': 3256, 'perfected': 3257, 'torturing': 3258, 'refugees': 3259, 'venerating': 3260, 'cabal': 3261, '#worldwide': 3262, 'tough': 3263, 'cloud': 3264, 'fucks': 3265, 'explained': 3266, 'introduce': 3267, 'studying': 3268, 'bird': 3269, 'cape': 3270, 'tinder': 3271, 'ka': 3272, 'easier': 3273, 'finds': 3274, 'criminal': 3275, '#researchpreneur': 3276, '☆': 3277, '💦': 3278, 'employment': 3279, 'perfectly': 3280, 'candidate': 3281, '#organic': 3282, 'peace': 3283, 'buses': 3284, 'tool': 3285, 'loan': 3286, '#bitcoincash': 3287, '#launch': 3288, 'avoid': 3289, 'housing': 3290, 'permission': 3291, 'fabulous': 3292, 'tampering': 3293, '#golf': 3294, 'abt': 3295, 'personality': 3296, 'chips': 3297, 'rare': 3298, 'ड': 3299, 'ु': 3300, 'ख': 3301, 'म': 3302, '#मर': 3303, 'ठ': 3304, 'ग': 3305, 'स': 3306, '#मज': 3307, 'न': 3308, '#vyang': 3309, '#thrive': 3310, 'results': 3311, 'crisis': 3312, 'scientists': 3313, 'spots': 3314, 'lyrics': 3315, '#ux': 3316, '#indian': 3317, '#mother': 3318, 'intelligent': 3319, '✅': 3320, '🤑': 3321, 'california': 3322, '#artificialintelligence': 3323, 'updates': 3324, '#profit': 3325, '#gold': 3326, 'logic': 3327, 'web': 3328, '#sweepstakes': 3329, '#australia': 3330, 'fears': 3331, 'depends': 3332, 'plans': 3333, 'iq': 3334, '#gin': 3335, '#prizedraw': 3336, 'gi': 3337, 'wisdom': 3338, 'silly': 3339, '#fragrance': 3340, 'july': 3341, '#laughterallweekend': 3342, 'startup': 3343, '#hd': 3344, 'trailer': 3345, 'protein': 3346, 'node': 3347, 'actual': 3348, 'closed': 3349, 'inches': 3350, 'talented': 3351, '#70s': 3352, '#painting': 3353, 'female': 3354, '#streamer': 3355, 'corporate': 3356, 'elder': 3357, 'onomora': 3358, 'harder': 3359, 'ca': 3360, 'analytics': 3361, '#desperate': 3362, '‼': 3363, 'harry': 3364, 'tourbillon': 3365, 'awww': 3366, '#caffeine': 3367, 'diet': 3368, 'arriving': 3369, 'covered': 3370, 'drinking': 3371, '#customerservice': 3372, 'holiday': 3373, 'picked': 3374, 'options': 3375, 'startups': 3376, 'techcrunch': 3377, '#blogging': 3378, 'insider': 3379, 'fruit': 3380, 'plastic': 3381, '#exams': 3382, 'pom': 3383, 'contact': 3384, '#thinkbigsundaywithmarsha': 3385, 'process': 3386, 'animals': 3387, 'matches': 3388, 'deserves': 3389, '#sales': 3390, 'se': 3391, '#livepdnation': 3392, '#vr': 3393, 'maintaining': 3394, '#stream': 3395, 'amp': 3396, 'minute': 3397, 'refill': 3398, 'urge': 3399, 'methods': 3400, 'glow': 3401, 'kudos': 3402, 'co': 3403, 'opened': 3404, 'emoji': 3405, 'thrilled': 3406, 'promotion': 3407, 'pictures': 3408, 'conway': 3409, '#birthday': 3410, 'classes': 3411, 'term': 3412, 'critical': 3413, '#follow4follow': 3414, 'resource': 3415, 'garden': 3416, 'concern': 3417, 'voters': 3418, '😲': 3419, '🏃': 3420, 'shopping': 3421, 'organization': 3422, 'prevention': 3423, 'continues': 3424, 'explain': 3425, 'marching': 3426, 'nahi': 3427, 'cream': 3428, 'burn': 3429, 'everywhere': 3430, 'surprising': 3431, 'staring': 3432, 'nations': 3433, 'research': 3434, 'sweat': 3435, '#joyful': 3436, '#kindleunlimited': 3437, 'agile': 3438, '#coaching': 3439, 'field': 3440, 'kidding': 3441, 'deserved': 3442, '#tr': 3443, 'coach': 3444, 'switch': 3445, 'shoulder': 3446, 'ending': 3447, 'fred': 3448, '#pdata': 3449, '#opirium': 3450, 'trial': 3451, '#thoughts': 3452, 'injection': 3453, '#pentest': 3454, '#aviation': 3455, 'cybersecurity': 3456, 'los': 3457, '#respect': 3458, 'stress': 3459, 'album': 3460, 'wrestling': 3461, 'mill': 3462, 'pool': 3463, '#ipl2018': 3464, 'democrat': 3465, 'marital': 3466, 'liked': 3467, 'honest': 3468, 'giant': 3469, '-->': 3470, 'suddenly': 3471, '#cumshot': 3472, '#doggystyle': 3473, 'finished': 3474, 'characters': 3475, '#yr': 3476, '#yr45': 3477, 'lange': 3478, 'alert': 3479, 'wasn': 3480, 'exploits': 3481, 'nail': 3482, 'applying': 3483, 'further': 3484, 'mo': 3485, 'seconds': 3486, '#girlgamer': 3487, '#leagueoflegends': 3488, 'fatigue': 3489, '#boring': 3490, '#techhouse': 3491, 'depression': 3492, 'musk': 3493, 'blogger': 3494, 'title': 3495, '📷': 3496, '😋': 3497, 'serial': 3498, '😮': 3499, 'supports': 3500, 'skill': 3501, 'beard': 3502, 'combination': 3503, 'ltd': 3504, 'jacket': 3505, 'monkey': 3506, 'king': 3507, '4g': 3508, 'integrated': 3509, 'specialist': 3510, '#apply': 3511, '#mgmt': 3512, '🍕': 3513, '#quoteoftheday': 3514, 'constantly': 3515, 'formula': 3516, 'kicked': 3517, '#cibsunday': 3518, '#drinks': 3519, 'pc-xbox-ps': 3520, 'snowing': 3521, 'caused': 3522, '#bigdatahttps': 3523, 'tn': 3524, '🥁': 3525, 'rising': 3526, 'victory': 3527, 'decorate': 3528, '=)': 3529, 'manage': 3530, '#doctailor': 3531, '#smartcontract': 3532, 'carter': 3533, 'pregnant': 3534, '#phone': 3535, '#print': 3536, 'committed': 3537, 'kimmel': 3538, 'swing': 3539, 'owned': 3540, 'owns': 3541, 'launched': 3542, '#repost': 3543, '#chat': 3544, 'ensure': 3545, 'joined': 3546, 'embarrassed': 3547, 'ladies': 3548, 'liking': 3549, 'rude': 3550, 'employee': 3551, '#interview': 3552, '#exam': 3553, '#parents': 3554, 'passive': 3555, '➖': 3556, 'foul': 3557, 'legislation': 3558, 'handy': 3559, 'forgotten': 3560, 'tbolton': 3561, 'ho': 3562, 'hang': 3563, 'wild': 3564, 'accept': 3565, 'abroad': 3566, '#exid': 3567, 'exid': 3568, '#내일해': 3569, 'teaser': 3570, '#하니': 3571, '#정화2018': 3572, '#teaser': 3573, '#컴백': 3574, 'diversity': 3575, 'standardized': 3576, '#stocks': 3577, 'lazy': 3578, 'blahhh': 3579, 'sink': 3580, 'crew': 3581, 'bye': 3582, 'rock': 3583, '#elearning': 3584, '#ukedchat': 3585, '#microsoft': 3586, 'resolved': 3587, 'xyo': 3588, 'blockchains': 3589, '#sub': 3590, 'rank': 3591, 'piss': 3592, 'republic': 3593, 'def': 3594, 'outstanding': 3595, '#cryptonews': 3596, 'seasons': 3597, '#funnymemes': 3598, 'passport': 3599, 'assuming': 3600, 'sister': 3601, 'smartphones': 3602, 'treating': 3603, '#babes': 3604, '#night': 3605, '#wife': 3606, 'expected': 3607, 'hamper': 3608, '🎤': 3609, 'ten': 3610, 'hopefully': 3611, 'charity': 3612, 'becoming': 3613, 'collusion': 3614, 'pray': 3615, 'fluent': 3616, 'accurate': 3617, 'miranda': 3618, 'generate': 3619, 'revenue': 3620, 'sean': 3621, 'finance': 3622, 'anna': 3623, 'sovereignty': 3624, 'pursuit': 3625, 'react': 3626, '#webdevelopment': 3627, 'choose': 3628, 'sort': 3629, '#purefitblog': 3630, '#medical': 3631, 'specially': 3632, 'actors': 3633, 'playlist': 3634, 'knife': 3635, 'giants': 3636, 'drawn': 3637, 'comeback': 3638, '#pm': 3639, 'ed': 3640, 'bch': 3641, 'ltc': 3642, 'xmr': 3643, '#wakeupamerica': 3644, '#republicans': 3645, '#resist': 3646, '#resistance': 3647, '#verified': 3648, '#actorlife': 3649, 'besides': 3650, 'flying': 3651, 'brock': 3652, 'suck': 3653, 'legacy': 3654, '#bible': 3655, '#greatnorthernmarch': 3656, 'filmed': 3657, 'secured': 3658, 'attacked': 3659, 'allegations': 3660, 'narendra': 3661, 'confused': 3662, 'chaiwala': 3663, 'wondered': 3664, 'semifinals': 3665, 'query': 3666, 'pocs': 3667, 'loyola': 3668, '#datadriven': 3669, 'measures': 3670, 'arming': 3671, '#house': 3672, 'location': 3673, 'listed': 3674, 'crap': 3675, 'focus': 3676, 'continue': 3677, 'marches': 3678, '#sun': 3679, 'gods': 3680, 'ability': 3681, 'suppose': 3682, 'asset': 3683, '#management': 3684, 'royale': 3685, 'mode': 3686, 'client': 3687, 'insurance': 3688, 'ethical': 3689, 'improvement': 3690, '#beats': 3691, '#glutenfree': 3692, 'delicious': 3693, 'innovations': 3694, 'ear': 3695, 'garage': 3696, 'fixed': 3697, '#shoes': 3698, '#drunk': 3699, '#cheers': 3700, 'judas': 3701, '#married': 3702, 'cardio': 3703, 'boring': 3704, 'hundreds': 3705, 'addresses': 3706, '#joking': 3707, '#sunrise': 3708, 'hotel': 3709, '#english': 3710, '#spanish': 3711, '#turkish': 3712, 'trx': 3713, 'tools': 3714, 'democrats': 3715, 'wrote': 3716, 'praise': 3717, 'shane': 3718, 'warne': 3719, '#cri': 3720, 'trap': 3721, '#foodie': 3722, 'bloody': 3723, 'distributing': 3724, 'associate': 3725, '#retail': 3726, 'va': 3727, 'fo': 3728, 'weak': 3729, 'utah': 3730, 'semi': 3731, 'offensive': 3732, '#think2018': 3733, 'headlines': 3734, 'apr': 3735, 'doctors': 3736, 'mate': 3737, 'nutrition': 3738, 'lied': 3739, '#stereotypes': 3740, '#laughs': 3741, 'wear': 3742, 'challenged': 3743, 'carefully': 3744, '#th': 3745, 'civilian': 3746, 'entering': 3747, 'si': 3748, 'console': 3749, '#logodesign': 3750, '#graphics': 3751, 'kick': 3752, 'nap': 3753, 'heavy': 3754, 'fighting': 3755, 'weapon': 3756, 'served': 3757, 'judgement': 3758, 'holder': 3759, 'pace': 3760, '#why': 3761, 'adsigma': 3762, 'poisoning': 3763, '#real': 3764, '#cambridge': 3765, '#analytica': 3766, '#invested': 3767, 'contribute': 3768, 'z': 3769, 'rainbow': 3770, 'normal': 3771, '⃣': 3772, 'buying': 3773, 'mattress': 3774, 'proper': 3775, '#tomorrow': 3776, 'represent': 3777, '#sem': 3778, 'quote': 3779, 'developers': 3780, 'principle': 3781, 'destroy': 3782, 'intended': 3783, 'mental': 3784, 'streaming': 3785, 'raspberry': 3786, 'whoa': 3787, '#gasup': 3788, 'explaining': 3789, 'q': 3790, '🎀': 3791, 'walls': 3792, 'shouldnt': 3793, '#ccw': 3794, 'airdropping': 3795, 'acts': 3796, 'pointing': 3797, 'snyder': 3798, '#fineart': 3799, '#decor': 3800, '#tshirts': 3801, '#storytelling': 3802, 'fn': 3803, '#1a': 3804, '#motivational': 3805, '#linkedin': 3806, 'karma': 3807, '#cctvfrom': 3808, '#bank': 3809, '#robbery': 3810, 'guyprotected': 3811, 'inthe': 3812, 'correctly': 3813, 'popcorn': 3814, 'agents': 3815, '#tennis': 3816, 'cutting': 3817, '#nytimes': 3818, '#doge': 3819, '#xmr': 3820, 'iii': 3821, 'rd': 3822, 'acc': 3823, 'spotlight': 3824, 'lived': 3825, '#minecraftmodding': 3826, 'mn': 3827, '#computer': 3828, 'computer': 3829, 'engineering': 3830, 'itty': 3831, 'bitty': 3832, 'hodgepodgedays': 3833, '#stuttgart': 3834, '#germany': 3835, '#earth': 3836, '#iq': 3837, 'herndon': 3838, '#playing': 3839, 'removed': 3840, 'multiplayer': 3841, 'suspicious': 3842, 'crossed': 3843, 'helps': 3844, 'snack': 3845, '10th': 3846, '✌': 3847, '#selfie': 3848, '🐥': 3849, 'differently': 3850, 'disgrace': 3851, '#ausvsa': 3852, 'bite': 3853, 'aka': 3854, 'stove': 3855, '#naija': 3856, 'files': 3857, 'seeds': 3858, '18th': 3859, '#affiliatemarketing': 3860, '#mlm': 3861, 'auditing': 3862, '#wwe': 3863, 'wrestlemania': 3864, '#cryptocurrencies': 3865, 'ig': 3866, 'glitch': 3867, '#all': 3868, '#ifttt': 3869, 'specific': 3870, '👈': 3871, 'iphone': 3872, 'shape': 3873, '#tiredaf': 3874, '#camp': 3875, '#program': 3876, 'handle': 3877, '#urban': 3878, '#presale': 3879, 'ronald_vanloon': 3880, 'connecticut': 3881, 'prizes': 3882, '#pakistan': 3883, 'danger': 3884, '#images': 3885, 'pic': 3886, '👤': 3887, 'emergency': 3888, 'investments': 3889, 'mini': 3890, 'frightened': 3891, 'trophy': 3892, 'cleaning': 3893, 'moved': 3894, 'lit': 3895, 'north': 3896, 'isolation': 3897, '#designs': 3898, 'including': 3899, 'plays': 3900, 'thus': 3901, '#narcissisticabuse': 3902, '#thursday': 3903, 'sentence.hes': 3904, '#learning': 3905, 'dublin': 3906, 'font': 3907, 'officer': 3908, 'born': 3909, 'shake-up': 3910, 'transferred': 3911, 'anytime': 3912, 'sarah': 3913, '#sarcast': 3914, 'generator': 3915, 'gps': 3916, 'indonesia': 3917, '#drones': 3918, '#gadgets': 3919, 'slut': 3920, '#outfit': 3921, 'beings': 3922, '#bitcoins': 3923, '#bcash': 3924, 'devops': 3925, 'camo': 3926, '#computers': 3927, 'knight': 3928, 'trilogy': 3929, 'impression': 3930, 'husband': 3931, 'girlfriend': 3932, 'hop': 3933, '🐷': 3934, '#italy': 3935, 'victims': 3936, 'purchased': 3937, '#feedly': 3938, 'explosive': 3939, 'complicated': 3940, 'prove': 3941, 'mckinsey': 3942, '#mgi': 3943, 'estimates': 3944, '#productivity-boostingopportunities': 3945, 'skills': 3946, 'duke': 3947, 'throws': 3948, 'dick': 3949, 'crying': 3950, 'alone': 3951, 'participation': 3952, 'j': 3953, 'hows': 3954, 'lyft': 3955, 'traditional': 3956, 'relate': 3957, 'wide': 3958, 'range': 3959, 'chocolate': 3960, 'lovers': 3961, 'alexa': 3962, 'sooooo': 3963, 'smile': 3964, 'bull': 3965, 'prevent': 3966, 'consumer': 3967, 'evolve': 3968, '#emmagonzalez': 3969, '#emma': 3970, 'vibes': 3971, 'subscribe': 3972, '#passion': 3973, 'chandelier': 3974, '#guncontrolnow': 3975, 'legs': 3976, 'narrative': 3977, '#sdgs': 3978, 'friendly': 3979, 'attend': 3980, 'held': 3981, '#snowflakes': 3982, 'destroyed': 3983, 'ancient': 3984, 'hack': 3985, 'invited': 3986, 'hockey': 3987, 'boho': 3988, 'arguing': 3989, '19th': 3990, 'enjoyed': 3991, 'moscow': 3992, 'permanent': 3993, 'madness': 3994, 'anthem': 3995, 'meant': 3996, 'stones': 3997, 'melania': 3998, '#blockch': 3999, 'ecosystem': 4000, '#inspirational': 4001, 'alonso': 4002, 'naughty': 4003, '#sparkle': 4004, 'pitch': 4005, 'table': 4006, '#stockmarket': 4007, '#china': 4008, 'appreciated': 4009, 'vegetables': 4010, 'beans': 4011, 'promise': 4012, 'meddling': 4013, 'agenda': 4014, 'surprises': 4015, 'tutorial': 4016, 'compilation': 4017, 'interviews': 4018, '🤝': 4019, 'arrest': 4020, 'organized': 4021, 'fights': 4022, 'gas': 4023, '#espn': 4024, 'toddler': 4025, '#thailand': 4026, 'heads': 4027, 'queen': 4028, 'leather': 4029, 'agency': 4030, 'lee': 4031, '💖': 4032, '#cambridgeanalytica': 4033, 'plate': 4034, 'eur': 4035, '#freedomofspeech': 4036, 'economic': 4037, 'hrs': 4038, 'maga': 4039, '#pa': 4040, '#recipes': 4041, '#musichttps': 4042, 'hmm': 4043, 'branch': 4044, '#iartg': 4045, '#early': 4046, 'scale': 4047, '🎈': 4048, '#popular': 4049, '#snap': 4050, 'toward': 4051, '#emoji': 4052, '📲': 4053, 'present': 4054, 'protesting': 4055, 'classroom': 4056, 'ridge': 4057, 'several': 4058, 'inspiration': 4059, 'boobs': 4060, '#horny': 4061, 'quiet': 4062, 'felt': 4063, 'released': 4064, 'operator': 4065, 'anti': 4066, 'row': 4067, 'search': 4068, 'sydney': 4069, '#vettel': 4070, '\\U0001f928': 4071, 'unli': 4072, 'third': 4073, 'curtain': 4074, 'rate': 4075, 'cs': 4076, 'dollar': 4077, '#boy': 4078, 'category': 4079, '#selfcare': 4080, '#king': 4081, 'trend': 4082, '#fitfam': 4083, 'charles': 4084, '#app': 4085, 'quietly': 4086, 'ref': 4087, 'mueller': 4088, '#album': 4089, 'mcdavid': 4090, 'funko': 4091, 'historical': 4092, 'seattle': 4093, 'option': 4094, 'negative': 4095, '#theresistance': 4096, 'investigation': 4097, 'root': 4098, 'cub': 4099, 'unity': 4100, '#gamedev': 4101, '#blockchai': 4102, '😹': 4103, 'bsc': 4104, 'statistics': 4105, 'graduate': 4106, 'cheap': 4107, 'treats': 4108, 'pls': 4109, 'replies': 4110, 'beautifully': 4111, 'alexandria': 4112, '#terror': 4113, 'looked': 4114, 'rounds': 4115, '4k': 4116, 'dinner': 4117, 'apartment': 4118, 'introducing': 4119, 'qykbar': 4120, 'qyk': 4121, 'consume': 4122, 'alcohol': 4123, 'cloud.qyk': 4124, 'mortgage': 4125, 'offered': 4126, 'champagne': 4127, 'driven': 4128, '#videography': 4129, 'multiple': 4130, 'marched': 4131, '#airdr': 4132, '#accessories': 4133, 'rolled': 4134, '#rob': 4135, '#aaron': 4136, '#liv': 4137, '#washing': 4138, '#gunreformnow': 4139, 'meansget': 4140, 'penalty': 4141, 'entry': 4142, 'reliable': 4143, 'reputation': 4144, 'engage': 4145, '#tgif': 4146, '#stormysunday': 4147, '#strawman': 4148, 'hahaha': 4149, 'punishment': 4150, '#beer': 4151, '#lmfao': 4152, 'hydro': 4153, 'paradigm': 4154, 'interactions': 4155, 'answered': 4156, 'ripple': 4157, 'operating': 4158, 'asiimov': 4159, 'ain': 4160, 'christmas': 4161, 'require': 4162, 'volatility': 4163, '#nauticus': 4164, 'fired': 4165, 'codes': 4166, 'btcusd': 4167, 'hillarys': 4168, '#wearit': 4169, 'oclock': 4170, '#clock': 4171, '#following': 4172, 'spike': 4173, 'robotics': 4174, 'demand': 4175, 'fascinating': 4176, 'elite': 4177, 'overdose': 4178, 'remain': 4179, 'metallica': 4180, 'correct': 4181, 'wednesday': 4182, '🌍': 4183, 'wi-fi': 4184, 'luxury': 4185, 'landon': 4186, 'quot': 4187, 'ps4https': 4188, 'basket': 4189, 'meat': 4190, 'harvest': 4191, 'net': 4192, 'cast': 4193, 'conservatives': 4194, 'anti-gun': 4195, 'rally': 4196, 'constitutional': 4197, 'inspirational': 4198, 'debt': 4199, '#gunviolence': 4200, '#marchforourlivesdc': 4201, '⠀': 4202, 'DG:DGDG': 4203, 'named': 4204, 'suspect': 4205, '#escuchando': 4206, 'lady': 4207, 'expert': 4208, 'machine': 4209, 'edit': 4210, '#twitchclips': 4211, 'canadian': 4212, 'houses': 4213, 'philadelphia': 4214, 'ne': 4215, 'authority': 4216, 'accounting': 4217, 'vr': 4218, 'disgusting': 4219, '#single': 4220, 'spree': 4221, 'promises': 4222, 'uneducated': 4223, 'strapped': 4224, '#cr_uk': 4225, '#negativemarketing': 4226, 'plus': 4227, '💥': 4228, '#drama': 4229, 'podcast': 4230, 't-shirt': 4231, 'suit': 4232, 'ignoring': 4233, 'michigan': 4234, 'lamborghini': 4235, 'bear': 4236, 'babe': 4237, '😻': 4238, 'standards': 4239, 'indians': 4240, '#inboundmarketing': 4241, '#dapp': 4242, 'combinator': 4243, 'w18': 4244, 'keys': 4245, '#logic': 4246, 'republican': 4247, 'production': 4248, '#cry': 4249, 'followed': 4250, '#cyber': 4251, '#newyork': 4252, '#france': 4253, '#florida': 4254, 'tracks': 4255, 'blogspot': 4256, 'pulling': 4257, 'aged': 4258, '#feminism': 4259, 'र': 4260, 'exposed': 4261, 'inner': 4262, 'circle': 4263, '∈': 4264, 'increases': 4265, 'hyped': 4266, 'derby': 4267, 'perform': 4268, '. .': 4269, 'naked': 4270, 'hmmmm': 4271, 'sunshine': 4272, '#mining': 4273, 'drunk': 4274, 'merely': 4275, 'coral': 4276, 'pink': 4277, 'saved': 4278, 'tiny': 4279, 'clients': 4280, '#sad': 4281, 'views': 4282, '#tshirtdesign': 4283, 'racism': 4284, 'led': 4285, '#etsyfinds': 4286, 'writer': 4287, 'sooo': 4288, 'hr': 4289, 'therapy': 4290, 'operations': 4291, '#banking': 4292, 'spray': 4293, 'condition': 4294, 'african': 4295, 'ty': 4296, '#pens': 4297, 'trauma': 4298, 'youd': 4299, 'nights': 4300, 'matt': 4301, 'irish': 4302, 'retweeted': 4303, 'strategic': 4304, 'bs': 4305, '#bot': 4306, 'prepaid': 4307, 'organic': 4308, 'scary': 4309, 'himself': 4310, 'meme': 4311, 'max': 4312, 'crave': 4313, 'planet': 4314, 'vegan': 4315, '🌎': 4316, 'venture': 4317, 'cia': 4318, 'showing': 4319, 'crimes': 4320, 'concepts': 4321, 'civil': 4322, 'voted': 4323, 'perish': 4324, 'researchers': 4325, 'aren': 4326, 'currencies': 4327, 'ivanka': 4328, 'socially': 4329, '#singapore': 4330, 'breakfast': 4331, 'preparing': 4332, '⚽': 4333, '🎼': 4334, 'floris': 4335, '™': 4336, '#earthtomoon': 4337, '#troll': 4338, 'lightning': 4339, 'labs': 4340, '#filecoin': 4341, 'ra': 4342, 'officials': 4343, 'stopping': 4344, '#sport': 4345, '#realmadrid': 4346, '#americangods': 4347, 'amirite': 4348, 'jail': 4349, 'catalan': 4350, 'speaker': 4351, '#bat': 4352, 'brother': 4353, 'invest': 4354, 'bills': 4355, 'thier': 4356, 'scheduled': 4357, 'twisting': 4358, 'necessary': 4359, 'score': 4360, 'trolls': 4361, 'photography': 4362, 'meaning': 4363, 'michael': 4364, 'DGDGDGDGDGDGDG': 4365, '👫': 4366, 'navratri': 4367, 'revolve': 4368, 'mouthwatering': 4369, 'arbi': 4370, 'kadhi': 4371, 'samak': 4372, 'rice': 4373, 'flames': 4374, 'annual': 4375, 'pe': 4376, '#military': 4377, '#mexico': 4378, 'turning': 4379, 'offering': 4380, '#featureme': 4381, 'worker': 4382, '#prayer': 4383, '#epic': 4384, '#witty': 4385, 'patience': 4386, 'degrees': 4387, '#plz': 4388, '#wisdom': 4389, 'exhibition': 4390, '#terrorist': 4391, 'podcasts': 4392, '#events': 4393, 'ambassador': 4394, 'wellness': 4395, 'russians': 4396, '#lean': 4397, '#agilecoach': 4398, '#advice': 4399, '#agiletips': 4400, 'meaningful': 4401, 'hacking': 4402, 'year-old': 4403, 'rifles': 4404, 'donuts': 4405, 'opinions': 4406, 'cousin': 4407, '24h': 4408, 'eh': 4409, 'perspective': 4410, 'shown': 4411, 'ver': 4412, '#congress': 4413, '#sundaymotivation': 4414, 'checking': 4415, 'suffering': 4416, 'complaints': 4417, 'ugh': 4418, 'affect': 4419, '#city': 4420, 'warrant': 4421, 'enforcement': 4422, 'mature': 4423, 'anonymous': 4424, 'bomoso': 4425, 'eu': 4426, 'combat': 4427, 't.co/vwkbxtdmee': 4428, 'extinction': 4429, 'beating': 4430, 'german': 4431, 'consistent': 4432, 'pet': 4433, '#p2p': 4434, 'pulled': 4435, '#now': 4436, '#not': 4437, '#nostalgia': 4438, 'nintendo': 4439, 'ledger': 4440, 'duo': 4441, 'mera': 4442, 'swaraj': 4443, 'serves': 4444, 'veterans': 4445, ':(': 4446, '5th': 4447, 'contents': 4448, 'heavenly': 4449, 'mallows': 4450, 'hamp': 4451, 'seek': 4452, 'awful': 4453, 'angeles': 4454, 'agrees': 4455, 'races': 4456, 'launches': 4457, '😁': 4458, 'climate': 4459, 'purge': 4460, 'types': 4461, 'journalism': 4462, '#virtualreality': 4463, 'billionaire': 4464, 'tshirt': 4465, '#ipl': 4466, '#nfl': 4467, 'womens': 4468, 'trucks': 4469, 'amongst': 4470, 'wherein': 4471, 'tony': 4472, 'topic': 4473, 'efforts': 4474, 'bridge': 4475, '#markzuckerberg': 4476, 'kansas': 4477, '#smallbiz': 4478, 'hai': 4479, '#atheistday': 4480, 'idea.how': 4481, 'ungrateful': 4482, 'heathen': 4483, 'bastards': 4484, 'hates': 4485, 'lines': 4486, 'regard': 4487, 'profile': 4488, 'mohammed': 4489, 'relatives': 4490, 'excellent': 4491, '#weekendvibes': 4492, '💬': 4493, 'herald': 4494, 'headline': 4495, '#crochet': 4496, 'successfully': 4497, 'vehicles': 4498, '#webdev': 4499, 'relationship': 4500, 'clue': 4501, 'posting': 4502, 'allah': 4503, 'singer': 4504, '#colinpowelles': 4505, 'episodes': 4506, 'cnn': 4507, 'blind': 4508, 'owner': 4509, 'membership': 4510, 'unlike': 4511, '#piercing': 4512, '#ride': 4513, '#pornstar': 4514, '#creampie': 4515, '#bigdick': 4516, '#czech': 4517, '#wet': 4518, '#closeup': 4519, '#gangbang': 4520, 'pinned': 4521, 'doors': 4522, 'tears': 4523, 'lifetime': 4524, '#parenting': 4525, 'result': 4526, 'meeting': 4527, 'cases': 4528, 'otherwise': 4529, 'wealth': 4530, 'basic': 4531, 'beta': 4532, '⤵': 4533, 'soooo': 4534, '#abc': 4535, 'anxiety': 4536, 'ranking': 4537, 'aws': 4538, 'influence': 4539, 'twice': 4540, 'heading': 4541, '#fatloss': 4542, '#chimaera': 4543, 'mess': 4544, 'baltimore': 4545, '#potus': 4546, '#cyberframe': 4547, 'addition': 4548, '#share': 4549, '#wattpad': 4550, '2018https': 4551, '#kidding': 4552, 'gin': 4553, '#spoonie': 4554, 'notice': 4555, 'cooking': 4556, '#saturdaymorning': 4557, 'haha': 4558, 'frieza': 4559, 'innovative': 4560, 'pakistan': 4561, 'solid': 4562, 'activity': 4563, '#examwarriors': 4564, 'sharia': 4565, '#musicnews': 4566, '#dank': 4567, '#ar': 4568, 'returns': 4569, '#bluewave2018': 4570, '#psl3': 4571, 'accepts': 4572, 'ibiza': 4573, '#thisisboring': 4574, '#thissucks': 4575, '#boo': 4576, '#cmpunk': 4577, 'chanting': 4578, '🐶': 4579, 'everyday': 4580, 'possibly': 4581, '#deephouse': 4582, '#oregon': 4583, '50s': 4584, '#marijuana': 4585, 'cherry': 4586, '#parties': 4587, 'enthusiasm': 4588, 'skychain': 4589, 'germanys': 4590, 'dusseldorf': 4591, 'causestense': 4592, 'pilots': 4593, 'passengers': 4594, 'protest': 4595, 'solved': 4596, '#update': 4597, 'belief': 4598, '💤': 4599, 'tesla': 4600, 'encourage': 4601, '#spacex': 4602, '#elonmusk': 4603, 'bobby': 4604, 'yellen': 4605, '#fomc': 4606, '#photographer': 4607, '#mossy': 4608, 'glenn': 4609, '#panorama': 4610, 'bonfire': 4611, '#ambit': 4612, 'beka': 4613, 'entrepreneur': 4614, '#msm': 4615, 'schoolers': 4616, '#andrewpollock': 4617, 'disinvited': 4618, 'condemned': 4619, '#en': 4620, 'hadnt': 4621, 'follows': 4622, 'passes': 4623, '#intelligence': 4624, 'branded': 4625, 'hail': 4626, 'mania': 4627, '#paginanuova': 4628, '#thursdaythoughts': 4629, '🤞': 4630, '#dog': 4631, '🔊': 4632, 'steady': 4633, 'lte': 4634, '#service': 4635, 'hero': 4636, 'ownership': 4637, 'demanding': 4638, 'proving': 4639, 'aims': 4640, 'asia': 4641, 'silicon': 4642, 'valley': 4643, 'gardens': 4644, 'department': 4645, '#garden': 4646, 'superbowl': 4647, '#bobsrepair': 4648, 'f1': 4649, 'pumpkin': 4650, '#manufacturing': 4651, 'sounded': 4652, '🎸': 4653, 'legends': 4654, 'deals': 4655, 'popularity': 4656, '7m': 4657, '7b': 4658, 'theft': 4659, '#drawings': 4660, '#manga': 4661, 'digest': 4662, 'peeps': 4663, 'touchy': 4664, 'sniff': 4665, 'º': 4666, 'gui': 4667, 'nearly': 4668, 'slick': 4669, '#progress': 4670, 'seed': 4671, '#decentralized': 4672, 'construct': 4673, 'risks': 4674, 'addressing': 4675, '#thexfiles': 4676, 'confuse': 4677, '#isntitfunnywhen': 4678, '#istandul': 4679, '#tur': 4680, '#cushion': 4681, '15s': 4682, '#nintendoswitch': 4683, '#moon': 4684, 'fell': 4685, 'audio': 4686, 'dried': 4687, 'jailed': 4688, 'grayson': 4689, 'duels': 4690, 'attacking': 4691, 'canes': 4692, 'whatnot.apparently': 4693, 'archaic': 4694, 'back.just': 4695, '#kickstarter': 4696, 'publish': 4697, 'warming': 4698, '#customers': 4699, 'powered': 4700, 'visitors': 4701, 'crowdfund': 4702, 'festival': 4703, '#indiegogo': 4704, 'psychology': 4705, 'ashamed': 4706, 'japanese': 4707, 'commercials': 4708, 'bot': 4709, 'yahoo': 4710, 'thru': 4711, 'childrens': 4712, 'feels': 4713, '#teachers': 4714, 'argument': 4715, 'claiming': 4716, 'lip': 4717, 'jess': 4718, 'glynne': 4719, 'macklemore': 4720, 'caplen': 4721, '#fridayfun': 4722, '#giveitatry': 4723, '#dothis': 4724, '#dontreallydothis': 4725, 'fundamentals': 4726, '#unit': 4727, '#ferrari': 4728, 'serenity': 4729, 'whitepaper': 4730, 'bash': 4731, 'engine': 4732, 'daniel': 4733, 'australians': 4734, 'blondes': 4735, '#rockmusic': 4736, '#popmusic': 4737, 'hollywood': 4738, 'dis': 4739, 'faith': 4740, 'venue': 4741, 'telegra': 4742, 'preserve': 4743, 'peak': 4744, 'DG.DGDGDGDGDGDGDG': 4745, '-DG.DGDGDGDGDGDGDGDG': 4746, 'DG.DGDGDGDGDGDG': 4747, '-DG.DGDGDGDGDG': 4748, '#usd': 4749, '#substratum': 4750, '#eu': 4751, '#hits': 4752, '#disco': 4753, 'crunchy': 4754, 'citizen': 4755, '#currency': 4756, 'mentioned': 4757, '#thesarcasme': 4758, 'checked': 4759, 'advocating': 4760, 'application': 4761, '#assaultweaponsban': 4762, 'stanford': 4763, '#rip': 4764, 'unsuccessful': 4765, '🇮': 4766, 'easiest': 4767, 'socialism': 4768, 'jared': 4769, 'realization': 4770, 'teen': 4771, 'rebublican': 4772, 'socal': 4773, 'nam': 4774, '#couple': 4775, 'gap': 4776, 'ronda': 4777, 'rousey': 4778, 'jazz': 4779, 'singing': 4780, '#nottingham': 4781, '#cocktails': 4782, '#vocals': 4783, '#cat': 4784, '#best': 4785, '#informative': 4786, '#helpful': 4787, '#korea': 4788, 'symptoms': 4789, '#lifequotes': 4790, 'dietary': 4791, 'tuesday': 4792, 'backing': 4793, 'assad': 4794, 'evils': 4795, 'thy': 4796, 'shutters': 4797, 'silver': 4798, 'carriers': 4799, '#dreamers': 4800, '😈': 4801, 'private': 4802, '#supplychain': 4803, '#ioe': 4804, '#arti': 4805, 'divide': 4806, '#calm': 4807, '#modest': 4808, 'restlessness': 4809, 'luckily': 4810, 'courtesy': 4811, 'slips': 4812, '#cambridgeanalytics': 4813, 'cad': 4814, 'DGDG-DGDG': 4815, 'btg': 4816, 'hurts': 4817, 'incoming': 4818, 'objects': 4819, 'lo': 4820, 'lesnar': 4821, 'deserving': 4822, 'wh': 4823, 'grandkids': 4824, 'grateful': 4825, 'literal': 4826, 'insomnia': 4827, 'indian': 4828, 'pieces': 4829, 'bible': 4830, '#jesus': 4831, 'combine': 4832, 'restart': 4833, 'romania': 4834, 'mile': 4835, '#buildthewall': 4836, 'wish': 4837, '#victory': 4838, '#really': 4839, 'egotists': 4840, 'consecutive': 4841, '1am': 4842, 'accusing': 4843, '🍒': 4844, '#ads': 4845, 'gina': 4846, '#ginamiller': 4847, 'sings': 4848, 'vocabulary': 4849, 'complex': 4850, 'overall': 4851, 'fetch': 4852, 'issuer': 4853, '#blockchainhttps': 4854, 'flattering': 4855, '#markanthonyconditt': 4856, 'eight': 4857, 'reduce': 4858, 'detection': 4859, '#bigbrother': 4860, 'guards': 4861, 'retired': 4862, 'practices': 4863, '#thechewb': 4864, 'changer': 4865, 'presentation': 4866, 'mall': 4867, 'upload': 4868, 'bulk': 4869, 'bedroom': 4870, 'overwatch': 4871, 'population': 4872, 'creators': 4873, 'jl': 4874, 'abilities': 4875, 'dehydrates': 4876, 'easilyeveryone': 4877, '#heros': 4878, 'communicate': 4879, 'valued': 4880, '#fortnitebr': 4881, '#fortnitebattleroyal': 4882, 'participated': 4883, 'kings': 4884, 'gamer': 4885, '#supportsmallstreamers': 4886, '#mixer': 4887, '#fashionweek': 4888, '#look': 4889, 'dedicated': 4890, 'recruitment': 4891, 'finserve': 4892, 'description': 4893, '#illegal': 4894, 'wars': 4895, '#lego': 4896, '#smallyoutuber': 4897, 'overrated': 4898, 'forest': 4899, 'pence': 4900, '#rockandroll': 4901, '#electronica': 4902, '#tight': 4903, '#followers': 4904, '#f4f': 4905, '#followforfollow': 4906, 'trains': 4907, 'privatised': 4908, 'mistakes': 4909, 'decent': 4910, 'superior': 4911, 'letting': 4912, '#recipe': 4913, 'designed': 4914, 'spice': 4915, 'kitchen': 4916, 'tragedy': 4917, 'securitys': 4918, '#amazonprime': 4919, 'trippy': 4920, '#sukkhi': 4921, '#drugs': 4922, '#drink': 4923, 'wth': 4924, '#dragonball': 4925, '#bulma': 4926, '#oppai': 4927, 'becomes': 4928, 'worldopoly': 4929, '#animes': 4930, 'spy': 4931, 'remains': 4932, 'comedic': 4933, 'undertones': 4934, '#womentellall': 4935, 'quiz': 4936, '#meditation': 4937, 'filter': 4938, 'maps': 4939, 'plugin': 4940, 'hall': 4941, '💗': 4942, 'intro': 4943, '#reverbnation': 4944, 'blow': 4945, 'fairfax': 4946, '#fairfaxvillaes': 4947, 'mavro': 4948, 'prepared': 4949, '#mavro': 4950, '#cryptocurre': 4951, 'kimgarst': 4952, '#pacoarmero': 4953, 'jeez': 4954, 'skyrim': 4955, 'dropped': 4956, 'hated': 4957, 'joking': 4958, 'journalist': 4959, 'charging': 4960, 'tx': 4961, 'satoshi': 4962, '€': 4963, 'denizens': 4964, '#eat': 4965, 'throughout': 4966, '#funnypics': 4967, 'pyramid': 4968, 'ordered': 4969, '#moscow': 4970, 'exchanges': 4971, '#ysign': 4972, 'albany': 4973, 'fortunate': 4974, 'decisive': 4975, 'policies': 4976, '#etu': 4977, 'bitcoins': 4978, '#austinbombing': 4979, 'stayed': 4980, 'parchment': 4981, 'quill': 4982, 'pen': 4983, 'pounds': 4984, 'organizations': 4985, 'hosted': 4986, '#justsayin': 4987, '#blessed': 4988, 'thought-provoking': 4989, '#tpiotd': 4990, '#absurd': 4991, '#futball': 4992, '#3novices': 4993, 'jewelry': 4994, 'sporting': 4995, '3novices': 4996, '#europe': 4997, 'darling': 4998, '#monstax': 4999}\n",
      "[9, 71, 67, 7, 11, 74, 53, 23, 56, 79, 75, 21, 76, 80, 70, 81, 15, 77, 72, 48, 12]\n"
     ]
    }
   ],
   "source": [
    "vocab = vocabulary.Vocabulary(utils.flatten(train_sentences),5000)\n",
    "x_ids = vocab.words_to_ids(train_sentences[0])\n",
    "print(\"x_ids =\", vocab.word_to_id)\n",
    "print(x_ids)"
   ]
  },
  {
   "cell_type": "code",
   "execution_count": null,
   "metadata": {
    "collapsed": true
   },
   "outputs": [],
   "source": [
    "\n"
   ]
  },
  {
   "cell_type": "code",
   "execution_count": 26,
   "metadata": {},
   "outputs": [
    {
     "name": "stdout",
     "output_type": "stream",
     "text": [
      "[[9, 71, 67, 7, 11, 74, 53, 23, 56, 79, 75, 21, 76, 80, 70, 81, 15, 77, 72, 48, 12], [9, 4600, 14, 2, 1069, 371, 167, 349, 612, 4601, 3493, 4, 2, 4602, 4603, 78, 685, 12], [9, 4604, 343, 6, 2818, 859, 8, 28, 25, 47, 123, 20, 2, 455, 455, 455, 417, 41, 2, 2, 2, 2, 78, 4], [9, 1070, 181, 2819, 212, 18, 2820, 52, 2361, 20, 6, 132, 5, 988, 384, 7, 372, 821, 10, 429, 177, 4605, 10, 4606], [3494, 2821, 730, 344, 377, 257, 1592, 11, 923, 10, 4, 2, 2, 2, 66, 7, 860, 11, 112, 3495, 404, 20, 1166, 37, 612, 2], [1167, 13, 6, 132, 3496, 3497, 248, 1071, 470, 2007, 4607, 2, 4], [19, 647, 95, 6, 249, 924, 35, 182, 7, 31, 18, 590, 2], [9, 4608, 4609, 385, 4610, 64, 4611, 248, 4, 4], [9, 772, 4612, 2822, 37, 731, 4613, 2, 5, 4613, 15, 11, 3498, 4614, 14, 100, 2, 17, 2, 8, 731, 13, 2, 12], [9, 2, 7, 55, 6, 4615, 15, 1168, 8, 235, 732, 405, 4616, 86, 46, 1593, 321, 2008, 24, 283, 14, 129, 2, 6, 2, 12], [4, 12, 12, 12, 12, 12, 12, 12, 12, 12, 12, 12, 12, 12, 12, 12, 12, 12, 12, 12, 12, 12, 397, 733, 11, 109, 45, 989, 42, 925, 3, 13, 1434, 613, 614, 1435, 1308, 1436, 1437, 1438, 162, 990, 1439, 614, 1440, 1594, 773, 2362], [9, 24, 34, 142, 7, 94, 541, 8, 43, 19, 1169, 7, 2823, 11, 168, 20, 39, 13, 34, 541, 10, 4], [9, 116, 148, 11, 297, 18, 21, 236, 290, 260, 312, 345, 191, 228, 122, 250, 326, 44, 313, 91, 229, 24, 91, 350, 12], [251, 3499, 1072, 570, 91, 822, 3500, 91, 3501, 1073, 29, 91, 1170, 4], [3, 3, 130, 2, 10, 130, 1441, 46, 10, 10], [9, 2824, 4617, 37, 91, 2009, 157, 4618, 61, 1442, 38, 284, 2825, 46, 11, 571, 224, 4619, 6, 1171, 4620, 12], [251, 10, 181, 3502, 2, 192, 2, 7, 31, 131, 1776], [3, 148, 19, 117, 110, 734, 10, 4621, 285, 13, 27, 5, 19, 114, 265, 4622, 6, 507, 43, 27, 65, 418, 991, 28, 5, 19, 114, 69, 19, 992, 92, 6, 2, 29, 34, 2, 1074, 38, 33, 1443, 4623, 60, 5, 2], [9, 118, 774, 993, 196, 100, 823, 327, 2826, 471, 2826, 2827, 82, 2, 12], [158, 96, 171, 22, 33, 456, 171, 457, 171, 508, 648, 23, 4, 4]]\n"
     ]
    }
   ],
   "source": [
    "list_of_train_ids = list(map(vocab.words_to_ids, train_sentences))\n",
    "print(list_of_train_ids[0:20])\n",
    "\n",
    "\n",
    "list_of_validation_ids = list(map(vocab.words_to_ids, validation_sentences))\n",
    "\n",
    "list_of_test_ids = list(map(vocab.words_to_ids, test_sentences))\n"
   ]
  },
  {
   "cell_type": "code",
   "execution_count": 27,
   "metadata": {},
   "outputs": [
    {
     "data": {
      "text/plain": [
       "Counter({7: 1,\n",
       "         9: 1,\n",
       "         11: 1,\n",
       "         12: 1,\n",
       "         15: 1,\n",
       "         21: 1,\n",
       "         23: 1,\n",
       "         48: 1,\n",
       "         53: 1,\n",
       "         56: 1,\n",
       "         67: 1,\n",
       "         70: 1,\n",
       "         71: 1,\n",
       "         72: 1,\n",
       "         74: 1,\n",
       "         75: 1,\n",
       "         76: 1,\n",
       "         77: 1,\n",
       "         79: 1,\n",
       "         80: 1,\n",
       "         81: 1})"
      ]
     },
     "execution_count": 27,
     "metadata": {},
     "output_type": "execute_result"
    }
   ],
   "source": [
    "collections.Counter(list_of_train_ids[0])"
   ]
  },
  {
   "cell_type": "code",
   "execution_count": 28,
   "metadata": {
    "collapsed": true
   },
   "outputs": [],
   "source": [
    "from scipy.sparse import csr_matrix \n",
    "def sparsify_data(list_of_ids):\n",
    "    row_indices = []\n",
    "    col_indices = []\n",
    "    values = []\n",
    "    rows = len(list_of_ids)\n",
    "\n",
    "    for row, x_ids in enumerate(list_of_ids):\n",
    "        x_fdict = collections.Counter(x_ids)\n",
    "        for wordid, count in x_fdict.items():\n",
    "            row_indices.append(row)       \n",
    "            col_indices.append(wordid)  # column is word id\n",
    "            values.append(count)        # value is count\n",
    "    x_sparse = csr_matrix((values, (row_indices, col_indices)),\n",
    "                              shape=[rows, vocab.size])\n",
    "    return x_sparse"
   ]
  },
  {
   "cell_type": "code",
   "execution_count": 29,
   "metadata": {
    "collapsed": true
   },
   "outputs": [],
   "source": [
    "x_train_sparse = sparsify_data(list_of_train_ids)\n",
    "x_validation_sparse = sparsify_data(list_of_validation_ids)\n",
    "x_test_sparse = sparsify_data(list_of_test_ids)\n"
   ]
  },
  {
   "cell_type": "code",
   "execution_count": null,
   "metadata": {
    "collapsed": true
   },
   "outputs": [],
   "source": []
  },
  {
   "cell_type": "code",
   "execution_count": 30,
   "metadata": {},
   "outputs": [
    {
     "name": "stdout",
     "output_type": "stream",
     "text": [
      " acc: 91.29%, recall: 93.07%, precision: 89.76%, f1: 91.38%,\n"
     ]
    }
   ],
   "source": [
    "from sklearn.naive_bayes import MultinomialNB\n",
    "from sklearn.metrics import f1_score, accuracy_score, recall_score, precision_score\n",
    "\n",
    "nb = MultinomialNB(alpha =  0.1)\n",
    "nb.fit(x_train_sparse, train_labels)\n",
    "y_pred = nb.predict(x_test_sparse)\n",
    "\n",
    "\n",
    "\n",
    "\n",
    "\n",
    "f1 = f1_score(test_labels, y_pred)\n",
    "acc = accuracy_score(test_labels, y_pred)\n",
    "recall = recall_score(test_labels, y_pred)\n",
    "precision = precision_score(test_labels, y_pred)\n",
    "print(\" acc: {:.02%}, recall: {:.02%}, precision: {:.02%}, f1: {:.02%},\".format(acc, recall, precision, f1))\n"
   ]
  },
  {
   "cell_type": "code",
   "execution_count": 31,
   "metadata": {
    "collapsed": true
   },
   "outputs": [],
   "source": [
    "linear_weights = nb.feature_log_prob_[1,:] - nb.feature_log_prob_[0,:]  # populate this with actual values\n",
    "\n",
    "top_negative_features = np.argsort(linear_weights)[0:100]\n",
    "top_positive_features = np.argsort(-linear_weights)[0:100]\n"
   ]
  },
  {
   "cell_type": "code",
   "execution_count": 32,
   "metadata": {},
   "outputs": [
    {
     "name": "stdout",
     "output_type": "stream",
     "text": [
      "Most negative features:\n",
      "  🔥 (-7.32)\n",
      "  #win (-7.14)\n",
      "  ↴ (-6.96)\n",
      "  #job (-6.84)\n",
      "  #giveaway (-6.82)\n",
      "  ⭐ (-6.76)\n",
      "  #hiring (-6.53)\n",
      "  #ico (-6.45)\n",
      "  🕰 (-6.45)\n",
      "  #photography (-6.40)\n",
      "  🎮 (-6.40)\n",
      "  💎 (-6.36)\n",
      "  🖥 (-6.34)\n",
      "  registration (-6.30)\n",
      "  #fortnite (-6.27)\n",
      "  cams (-6.27)\n",
      "  tokkens (-6.27)\n",
      "  #education (-6.25)\n",
      "  giveaway (-6.22)\n",
      "  token (-6.20)\n",
      "  airdrop (-6.16)\n",
      "  #competition (-6.14)\n",
      "  blockchain (-6.09)\n",
      "  crypto (-5.99)\n",
      "  telegram (-5.94)\n",
      "  #careerarc (-5.94)\n",
      "  es (-5.94)\n",
      "  #architecture (-5.88)\n",
      "  #elementary (-5.88)\n",
      "  summer (-5.79)\n",
      "  #nowplaying (-5.79)\n",
      "  #decoration (-5.79)\n",
      "  #robotics (-5.79)\n",
      "  #live (-5.76)\n",
      "  ico (-5.76)\n",
      "  #programming (-5.76)\n",
      "  #interiordesign (-5.72)\n",
      "  📢 (-5.69)\n",
      "  #tron (-5.69)\n",
      "  #ai (-5.65)\n",
      "  #rock (-5.65)\n",
      "  #startup (-5.61)\n",
      "  bitcoin (-5.57)\n",
      "  #cybersecurity (-5.57)\n",
      "  #iot (-5.57)\n",
      "  camp (-5.53)\n",
      "  #pop (-5.53)\n",
      "  #tokensale (-5.53)\n",
      "  #airdrop (-5.45)\n",
      "  ✔ (-5.45)\n",
      "  #eth (-5.45)\n",
      "  #fintech (-5.45)\n",
      "  digital (-5.40)\n",
      "  🚀 (-5.40)\n",
      "  easter (-5.40)\n",
      "  #modeling (-5.40)\n",
      "  #security (-5.40)\n",
      "  international (-5.40)\n",
      "  #dance (-5.35)\n",
      "  coin (-5.35)\n",
      "  #hiphop (-5.30)\n",
      "  #history (-5.30)\n",
      "  ➡ (-5.25)\n",
      "  recommend (-5.25)\n",
      "  #trx (-5.25)\n",
      "  #blockchain (-5.20)\n",
      "  #satoshi (-5.19)\n",
      "  #data (-5.19)\n",
      "  #anime (-5.19)\n",
      "  #jobs (-5.19)\n",
      "  💰 (-5.19)\n",
      "  #airdropnew (-5.13)\n",
      "  tokens (-5.13)\n",
      "  technology (-5.13)\n",
      "  #stemcamps (-5.13)\n",
      "  #breakingnews (-5.13)\n",
      "  #nsfw (-5.13)\n",
      "  DGDG:DGDG (-5.07)\n",
      "  #sex (-5.07)\n",
      "  #photos (-5.07)\n",
      "  #game (-5.07)\n",
      "  fee (-5.07)\n",
      "  #bethereum (-5.07)\n",
      "  #stem (-5.07)\n",
      "  #infosec (-5.07)\n",
      "  luxuryliferss (-5.07)\n",
      "  usd (-5.07)\n",
      "  👇 (-5.07)\n",
      "  – (-5.00)\n",
      "  #radio (-5.00)\n",
      "  #digital (-5.00)\n",
      "  wallet (-5.00)\n",
      "  items (-5.00)\n",
      "  symbol (-5.00)\n",
      "  #shopmycloset (-5.00)\n",
      "  #poshmark (-5.00)\n",
      "  #cars (-4.92)\n",
      "  #mobile (-4.92)\n",
      "  3d (-4.92)\n",
      "  👉 (-4.92)\n",
      "\n",
      "Most positive features:\n",
      "  straight (7.76)\n",
      "  nicer (7.76)\n",
      "  ex (7.76)\n",
      "  #fbicorruption (7.75)\n",
      "  #comey (7.74)\n",
      "  #puns (6.37)\n",
      "  sarcasm (6.23)\n",
      "  surprise (6.15)\n",
      "  marr (5.99)\n",
      "  previ (5.97)\n",
      "  #humour (5.81)\n",
      "  form (5.66)\n",
      "  #funnyquotes (5.62)\n",
      "  #wit (5.55)\n",
      "  #nobel (5.55)\n",
      "  #funnysayings (5.52)\n",
      "  couldnt (5.36)\n",
      "  walking (5.35)\n",
      "  #wrestlemania (5.35)\n",
      "  agent (5.35)\n",
      "  #snarky (5.25)\n",
      "  shot (5.25)\n",
      "  #yankees (5.25)\n",
      "  redbubble (5.25)\n",
      "  ी (5.25)\n",
      "  wonder (5.25)\n",
      "  😒 (5.20)\n",
      "  ice (5.15)\n",
      "  #oneliner (5.15)\n",
      "  #linkinbio (5.09)\n",
      "  sense (5.09)\n",
      "  yay (5.09)\n",
      "  #notfeelingit (5.03)\n",
      "  #next (5.03)\n",
      "  gb (5.03)\n",
      "  blew (5.03)\n",
      "  #pinstripepride (5.03)\n",
      "  bullpen (4.97)\n",
      "  ो (4.97)\n",
      "  #writer (4.97)\n",
      "  clearly (4.97)\n",
      "  dare (4.97)\n",
      "  nudes (4.97)\n",
      "  #stanton (4.97)\n",
      "  #jokeoftheday (4.90)\n",
      "  assault (4.90)\n",
      "  #funquotes (4.90)\n",
      "  #irony (4.90)\n",
      "  photoshopped (4.90)\n",
      "  😱 (4.83)\n",
      "  #follwme (4.83)\n",
      "  spin (4.83)\n",
      "  🤦 (4.83)\n",
      "  #sayings (4.75)\n",
      "  क (4.75)\n",
      "  #follome (4.75)\n",
      "  द (4.75)\n",
      "  #funwallart (4.75)\n",
      "  #satire (4.75)\n",
      "  normally (4.75)\n",
      "  #trum (4.75)\n",
      "  #author (4.75)\n",
      "  genius (4.75)\n",
      "  either (4.75)\n",
      "  sleeping (4.75)\n",
      "  snow (4.75)\n",
      "  #saywhat (4.66)\n",
      "  #whathappensnext (4.66)\n",
      "  #secrets (4.66)\n",
      "  supposed (4.66)\n",
      "  damn (4.66)\n",
      "  #dystopiancomedy (4.66)\n",
      "  🙃 (4.66)\n",
      "  richs (4.66)\n",
      "  roommate (4.66)\n",
      "  dov (4.66)\n",
      "  #bloggerssparkle (4.66)\n",
      "  #yesshedid (4.66)\n",
      "  🤷 (4.66)\n",
      "  #sethrich (4.66)\n",
      "  #americafirstmedia (4.66)\n",
      "  #hisnamewassethrich (4.66)\n",
      "  bombs (4.66)\n",
      "  #readme (4.66)\n",
      "  #grlpwr (4.66)\n",
      "  #bloggerssupportingbloggers (4.66)\n",
      "  friedman (4.66)\n",
      "  #bloggersrequired (4.66)\n",
      "  #corbyn (4.66)\n",
      "  #prepareyourselves (4.66)\n",
      "  #newsnight (4.66)\n",
      "  happens (4.66)\n",
      "  donald (4.57)\n",
      "  #thehollowcrown (4.57)\n",
      "  stressed (4.57)\n",
      "  themselves (4.57)\n",
      "  bomb (4.57)\n",
      "  obvious (4.57)\n",
      "  weapons (4.57)\n",
      "  #laughter (4.57)\n"
     ]
    }
   ],
   "source": [
    "print(\"Most negative features:\")\n",
    "for idx in top_negative_features:\n",
    "    print(\"  {:s} ({:.02f})\".format(vocab.id_to_word[idx], \n",
    "                                    linear_weights[idx]))\n",
    "print(\"\")\n",
    "print(\"Most positive features:\")\n",
    "for idx in top_positive_features:\n",
    "    print(\"  {:s} ({:.02f})\".format(vocab.id_to_word[idx], \n",
    "                                    linear_weights[idx]))\n",
    "    \n"
   ]
  },
  {
   "cell_type": "markdown",
   "metadata": {},
   "source": [
    "###### "
   ]
  },
  {
   "cell_type": "code",
   "execution_count": 33,
   "metadata": {},
   "outputs": [
    {
     "data": {
      "text/plain": [
       "[[15.172775344358001, 847],\n",
       " [14.858707921132066, 342],\n",
       " [13.723222623617403, 300],\n",
       " [13.162974880450918, 775],\n",
       " [10.863130523286884, 585],\n",
       " [10.261285083799635, 409],\n",
       " [9.3387965012992424, 271],\n",
       " [8.9189436864144795, 410],\n",
       " [8.9144734435272994, 395],\n",
       " [8.5526324422810092, 855],\n",
       " [8.2717336523696758, 621],\n",
       " [7.846998993208274, 582],\n",
       " [7.4284224516452184, 314],\n",
       " [7.196788002883693, 540],\n",
       " [7.1379676658479525, 22],\n",
       " [7.133130087057566, 309],\n",
       " [6.9897404184783625, 858],\n",
       " [6.6935535112847333, 421],\n",
       " [6.6526044252227052, 423],\n",
       " [6.1708852917625165, 473],\n",
       " [6.0629983848161828, 516],\n",
       " [5.6179598168017435, 176],\n",
       " [5.5790522744720761, 823],\n",
       " [5.3259676617831815, 740],\n",
       " [4.9687829301614599, 652],\n",
       " [4.8438186869711757, 1],\n",
       " [4.7170290776762727, 219],\n",
       " [4.6668713134522193, 53],\n",
       " [4.3251269769910721, 115],\n",
       " [4.3249368031507629, 360],\n",
       " [3.9076820784171105, 281],\n",
       " [3.7912750849772294, 378],\n",
       " [3.7135865458869759, 715],\n",
       " [3.5938081382608971, 466],\n",
       " [3.5506399284272732, 459],\n",
       " [3.4579146430325594, 547],\n",
       " [3.2677924678257, 640],\n",
       " [3.2427611713378042, 98],\n",
       " [3.1982601530773707, 278],\n",
       " [3.0821158914178284, 370],\n",
       " [3.0527364713614134, 756],\n",
       " [2.8522618485520184, 493],\n",
       " [2.7542144948674263, 565],\n",
       " [2.5985965770278625, 259],\n",
       " [2.5985965770278625, 293],\n",
       " [2.5985965770278625, 471],\n",
       " [2.5538250429379445, 84],\n",
       " [2.2633025632339923, 675],\n",
       " [2.2241748877877967, 258],\n",
       " [1.8811471583279129, 231],\n",
       " [1.7676888402212114, 693],\n",
       " [1.7409664170697283, 280],\n",
       " [1.7154494049310927, 402],\n",
       " [1.6950112327056956, 636],\n",
       " [1.5113683171733783, 352],\n",
       " [1.5106671399246352, 708],\n",
       " [1.3831669913381575, 519],\n",
       " [1.363167560765902, 737],\n",
       " [1.3231980606029197, 288],\n",
       " [1.2761530909265844, 242],\n",
       " [1.2392628821493545, 776],\n",
       " [1.2378277926422072, 572],\n",
       " [1.1343501835528045, 11],\n",
       " [0.92958748940804981, 657],\n",
       " [0.90591033831705658, 541],\n",
       " [0.87263384492953833, 81],\n",
       " [0.86443780763318046, 659],\n",
       " [0.83439560045948724, 355],\n",
       " [0.71739614217518977, 59],\n",
       " [0.67818939157109526, 532],\n",
       " [0.5759731887676196, 528],\n",
       " [0.55727448262180701, 327],\n",
       " [0.55721910823956478, 101],\n",
       " [0.40183248321756082, 286],\n",
       " [0.11566858620841458, 190],\n",
       " [0.11566858620841458, 376]]"
      ]
     },
     "execution_count": 33,
     "metadata": {},
     "output_type": "execute_result"
    }
   ],
   "source": [
    "predictions = nb.predict(x_test_sparse)\n",
    "wrong = predictions != test_labels\n",
    "logits = nb.predict_log_proba(x_test_sparse)\n",
    "\n",
    "def incorrect_confidence(wrong, logits, predictions):\n",
    "    indeces = np.where(wrong)\n",
    "    wrong_predictions = predictions[indeces]\n",
    "    wrong_logits = logits[indeces]\n",
    "    \n",
    "    return [[wrong_logits[i][value] - wrong_logits[i][1-value], indeces[0][i]] for i, value in enumerate(wrong_predictions)]\n",
    "\n",
    "sorted(incorrect_confidence(wrong, logits, predictions), key = lambda logit: -logit[0])\n"
   ]
  },
  {
   "cell_type": "code",
   "execution_count": 34,
   "metadata": {},
   "outputs": [
    {
     "name": "stdout",
     "output_type": "stream",
     "text": [
      "['ACCOUNT' 'ACCOUNT' 'that' 'was' 'very' 'thoughtful' '&' 'supportive' 'of'\n",
      " 'mr' '.' 'kraft' '.' 'all' 'the' 'other' '#nfl' 'teams' 'should' 'have'\n",
      " 'done' 'the' 'same' 'thing' '!']\n",
      "0\n",
      "1\n"
     ]
    }
   ],
   "source": [
    "index = 847\n",
    "print(test_sentences[index])\n",
    "print(test_labels[index])\n",
    "print(predictions[index])"
   ]
  },
  {
   "cell_type": "code",
   "execution_count": 18,
   "metadata": {},
   "outputs": [
    {
     "name": "stdout",
     "output_type": "stream",
     "text": [
      "['finished' 'a' 'way' 'out' 'with' 'ACCOUNT' 'yesterday' 'night' '.' 'i'\n",
      " 'really' 'like' 'the' 'game' '.' 'it' '’' 's' 'a' 'story' 'drive' 'coop'\n",
      " 'game' 'with' 'cool' 'protagonists' '.' 'DG-DG' 'hours' 'of' 'good' 'fun'\n",
      " ',' 'tension' 'and' 'surprises' '.' 'especially' 'during' 'the' 'final'\n",
      " 'hours' ',' 'this' 'game' 'feels' 'like' 'a' 'blockbuster' 'movie' '.'\n",
      " '#awayout' '#gaming']\n",
      "0\n",
      "1\n"
     ]
    }
   ],
   "source": [
    "index = 342\n",
    "print(test_sentences[index])\n",
    "print(test_labels[index])\n",
    "print(predictions[index])"
   ]
  },
  {
   "cell_type": "code",
   "execution_count": 36,
   "metadata": {},
   "outputs": [
    {
     "name": "stdout",
     "output_type": "stream",
     "text": [
      "['so' 'happy' 'the' 'old' '#conservative' ',' 'bigoted' ',' 'xenophobic'\n",
      " ',' 'homophobic' 'gun' 'idiots' 'are' 'dying' 'off' 'and' 'the' 'smart'\n",
      " 'new' 'kids' 'will' 'be' 'able' 'to' 'vote' 'this' 'november' '.' 'yup'\n",
      " '.' 'i' 'said' 'it' '.' 'good' 'riddance' 'to' 'trash' '.' '#gop' '#nra'\n",
      " '#bluewave' '#bluewave2018' '#racist' '#trumpsamerikkka' '#nazis' '#maga'\n",
      " '#marchforourlives']\n",
      "0\n",
      "1\n"
     ]
    }
   ],
   "source": [
    "index = 300\n",
    "print(test_sentences[index])\n",
    "print(test_labels[index])\n",
    "print(predictions[index])"
   ]
  },
  {
   "cell_type": "code",
   "execution_count": 37,
   "metadata": {},
   "outputs": [
    {
     "name": "stdout",
     "output_type": "stream",
     "text": [
      "['always' 'knew' 'this' 'was' 'false.but' 'heres' 'the' 'question' ','\n",
      " 'what' 'should' 'a' 'person' 'do' 'if' 'taken' 'to' 'an' 'atm' 'under'\n",
      " 'duress' '?' 'any' 'help' '?' 'LINK']\n",
      "0\n",
      "1\n"
     ]
    }
   ],
   "source": [
    "index = 775\n",
    "print(test_sentences[index])\n",
    "print(test_labels[index])\n",
    "print(predictions[index])"
   ]
  },
  {
   "cell_type": "code",
   "execution_count": 45,
   "metadata": {},
   "outputs": [
    {
     "name": "stdout",
     "output_type": "stream",
     "text": [
      "['#epl' 'goalkeepers' 'lookin' 'like' 'studs' 'today' '.' '#france'\n",
      " '#colombia' '#lloris' '#ospina' 'LINK']\n",
      "1\n",
      "0\n"
     ]
    }
   ],
   "source": [
    "index = 715\n",
    "print(test_sentences[index])\n",
    "print(test_labels[index])\n",
    "print(predictions[index])"
   ]
  },
  {
   "cell_type": "code",
   "execution_count": 39,
   "metadata": {},
   "outputs": [
    {
     "name": "stdout",
     "output_type": "stream",
     "text": [
      "\n",
      "Most positive emoji features:\n",
      "  😒 (5.20)\n",
      "  😱 (4.83)\n",
      "  🤦 (4.83)\n",
      "  🙃 (4.66)\n",
      "  🤷 (4.66)\n"
     ]
    }
   ],
   "source": [
    "top_emojis = [\"😒\",\"🤦\",\"🤷\",\"🙃\",\"😱\"]\n",
    "print(\"\")\n",
    "print(\"Most positive emoji features:\")\n",
    "for idx in top_positive_features:\n",
    "    word = vocab.id_to_word[idx]\n",
    "    if word in top_emojis:\n",
    "        print(\"  {:s} ({:.02f})\".format(vocab.id_to_word[idx], \n",
    "                                    linear_weights[idx]))\n"
   ]
  },
  {
   "cell_type": "code",
   "execution_count": null,
   "metadata": {
    "collapsed": true
   },
   "outputs": [],
   "source": []
  }
 ],
 "metadata": {
  "kernelspec": {
   "display_name": "Python 3",
   "language": "python",
   "name": "python3"
  },
  "language_info": {
   "codemirror_mode": {
    "name": "ipython",
    "version": 3
   },
   "file_extension": ".py",
   "mimetype": "text/x-python",
   "name": "python",
   "nbconvert_exporter": "python",
   "pygments_lexer": "ipython3",
   "version": "3.6.3"
  }
 },
 "nbformat": 4,
 "nbformat_minor": 2
}
