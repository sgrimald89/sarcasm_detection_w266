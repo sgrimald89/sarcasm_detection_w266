{
 "cells": [
  {
   "cell_type": "code",
   "execution_count": 1,
   "metadata": {},
   "outputs": [
    {
     "name": "stdout",
     "output_type": "stream",
     "text": [
      "@DouglasLNorton @RealMAGASteve @ricktator417 @CoreyLMJones @RealEagleWings @IWillRedPillU @RodStryker @securefreedom @thebradfordfile @DonnaWR8 @MICHELL59952525 @mike_Zollo @Boyd_2650 I had to check your page &amp; see whether you were cleverly using   or one of these complete jackasses...very nice to see youre the former.|None|1\r\n",
      "@MultaniSaint No I told her its a terrible place with mean   people and she wants nothing to do with it|None|1\r\n",
      "Rather than the usual  , ridicule, shame, and assumption that people have ill intent. Sometimes people screw up. Sometimes people think they are doing enough and are mistaken. Sometimes they need help. https://t.co/aetd8D2TSr|None|1\r\n",
      "@schristakos @TenticalsIn @crypt_ghost @hortaun15 @Troll_Master101 @Unpersuaded112 @Apple Yea that was   and pubg isn’t that good of a game tbh|None|1\r\n",
      "@Ayanfx09 @hshaban The internet desperately needs a   / snark / parody font. &amp; not Comic Sans, either.|None|1\r\n",
      "@asteven79 @JinxTheSavage @Galeon_98 @KOSDFF Yes I know im being   you idiot|None|1\r\n",
      "@nicholasfilipas Of course it is.  Look at my timeline.  You know I am mostly  .|None|1\r\n",
      "@Tracker_TD Obvious   is obvious|None|1\r\n",
      "@ummmno21 Yeah it appears that inside jokes and   are taken as racist remarks....I was recently accused being a racist with a   remark.. I have siblings that are Mexican and Korean smh|None|1\r\n",
      "@meknt_ Yeah, youre CLEARLY talking to all the wrong people here. Well, theres one reason right there. The   is strong with the turtle.|None|1\r\n"
     ]
    }
   ],
   "source": [
    "!tail merged_data_v4.csv"
   ]
  },
  {
   "cell_type": "code",
   "execution_count": 2,
   "metadata": {
    "collapsed": true
   },
   "outputs": [],
   "source": [
    "from __future__ import print_function\n",
    "from __future__ import division\n",
    "import collections\n",
    "import nltk\n",
    "import numpy as np\n",
    "from nltk.tokenize.casual import TweetTokenizer\n",
    "from w266_common import utils, vocabulary\n",
    "import re\n",
    "np.random.seed(266)"
   ]
  },
  {
   "cell_type": "code",
   "execution_count": 3,
   "metadata": {
    "collapsed": true
   },
   "outputs": [],
   "source": [
    "import csv\n",
    "tokenizer = TweetTokenizer()\n",
    "x_data = []\n",
    "labels = []\n",
    "sentences = []\n",
    "     \n",
    "  \n",
    "with open('merged_data_v4.csv', 'r') as csvfile:\n",
    "    linereader = csv.reader(csvfile, delimiter = '|')\n",
    "    for i, row in enumerate(linereader):\n",
    "        if i == 0:\n",
    "            continue\n",
    "        sentence, _, sarcasm = row\n",
    "        sentence = re.sub(\"RT @[^\\s]+:\", \"retweet\", sentence)\n",
    "        #sentences.append(sentence)\n",
    "        tokenized_words = tokenizer.tokenize(sentence)\n",
    "        x_tokens = utils.canonicalize_words(tokenized_words, hashtags =False)\n",
    "        index = np.argwhere(x_tokens==\"sarcasm\")\n",
    "        x_tokens = np.delete(x_tokens, index)\n",
    "        index = np.argwhere(x_tokens==\"sarcastic\")\n",
    "        x_tokens = np.delete(x_tokens, index)\n",
    "        x_data.append(x_tokens)\n",
    "        labels.append(int(sarcasm))\n",
    "\n",
    "\n",
    "shuffle_indices = np.random.permutation(np.arange(len(labels)))\n",
    "train_split_idx = int(0.7 * len(labels))\n",
    "test_split_idx  = int(0.9 * len(labels))\n",
    "\n",
    "train_indices = shuffle_indices[:train_split_idx]\n",
    "validation_indices = shuffle_indices[train_split_idx:test_split_idx]\n",
    "test_indices = shuffle_indices[test_split_idx:]\n",
    "\n",
    "x_data = np.array(x_data)\n",
    "labels = np.array(labels)\n",
    "train_sentences = x_data[train_indices]\n",
    "train_labels= labels[train_indices] \n",
    "validation_sentences = x_data[validation_indices]\n",
    "validation_labels = labels[validation_indices]\n",
    "test_sentences = x_data[test_indices]  \n",
    "test_labels = labels[test_indices]  \n",
    "\n"
   ]
  },
  {
   "cell_type": "code",
   "execution_count": 4,
   "metadata": {},
   "outputs": [
    {
     "name": "stdout",
     "output_type": "stream",
     "text": [
      "x_ids = {'<s>': 0, '</s>': 1, '<unk>': 2, 'ACCOUNT': 3, '.': 4, 'LINK': 5, 'the': 6, ',': 7, 'to': 8, 'retweet': 9, 'a': 10, '!': 11, 'i': 12, 'and': 13, 'of': 14, '…': 15, 'you': 16, 'is': 17, 'in': 18, 'for': 19, '’': 20, '?': 21, ':': 22, 'it': 23, 'on': 24, 'that': 25, '-': 26, 'this': 27, 'with': 28, '...': 29, 'my': 30, 'your': 31, 'be': 32, 'was': 33, 'are': 34, 'DG': 35, 'DGDG': 36, 'not': 37, ')': 38, '(': 39, 'at': 40, 's': 41, '️': 42, '&': 43, 'we': 44, 'all': 45, '/': 46, 'if': 47, 'have': 48, 'just': 49, 'so': 50, 't': 51, 'but': 52, 'like': 53, 'me': 54, 'can': 55, 'being': 56, 'what': 57, 'rt': 58, 'from': 59, 'now': 60, 'out': 61, 'by': 62, 'they': 63, 'our': 64, 'as': 65, 'he': 66, 'people': 67, 'about': 68, 'free': 69, 'no': 70, '😂': 71, 'or': 72, 'get': 73, 'how': 74, 'its': 75, 'do': 76, 'more': 77, 'will': 78, 'know': 79, '#': 80, 'DGDGDGDG': 81, 'one': 82, '$': 83, '*': 84, 'who': 85, 'an': 86, 'when': 87, 'up': 88, 'im': 89, 'DGDGDG': 90, '🔥': 91, '#blockchain': 92, 'good': 93, 'us': 94, 'new': 95, 'follow': 96, 'has': 97, 'here': 98, '#music': 99, 'would': 100, 'love': 101, '#bitcoin': 102, 'time': 103, 'best': 104, 'dont': 105, 'm': 106, 'his': 107, 'great': 108, 'see': 109, 'think': 110, ':/': 111, 'because': 112, 'right': 113, 'really': 114, 'only': 115, 'their': 116, 'need': 117, '#win': 118, 'should': 119, 'way': 120, 'am': 121, 'some': 122, 'there': 123, 'make': 124, 'via': 125, '“': 126, 'day': 127, 'don': 128, '↴': 129, '”': 130, 'well': 131, '#news': 132, 'were': 133, 'today': 134, 'why': 135, 'want': 136, '#funny': 137, 'had': 138, 're': 139, 'been': 140, '..': 141, 'than': 142, 'please': 143, 'thanks': 144, 'check': 145, 'sure': 146, '%': 147, 'her': 148, 'she': 149, 'most': 150, 'them': 151, 'oh': 152, 'very': 153, 'even': 154, 'go': 155, 'back': 156, '#giveaway': 157, '#cryptocurrency': 158, 'any': 159, 'going': 160, 'lol': 161, 'too': 162, 'first': 163, 'work': 164, 'got': 165, 'into': 166, 'never': 167, 'world': 168, '⭐': 169, 'off': 170, 'over': 171, 'game': 172, 'him': 173, 'online': 174, 'win': 175, 'these': 176, '#fashion': 177, 'much': 178, 'did': 179, 'then': 180, 'could': 181, 'say': 182, 'after': 183, '#photography': 184, 'still': 185, 'news': 186, 'said': 187, '#job': 188, 'march': 189, 'someone': 190, 'thats': 191, 'u': 192, 'join': 193, '#love': 194, 'youre': 195, 'those': 196, 'take': 197, 'tell': 198, 'everyone': 199, '#ico': 200, 'twitter': 201, 'use': 202, '+': 203, 'let': 204, 'enter': 205, 'thank': 206, '#lol': 207, 'sex': 208, 'chance': 209, 'cant': 210, 'live': 211, 'other': 212, 'quotes': 213, 'look': 214, 'life': 215, 'better': 216, '#crypto': 217, 'also': 218, 'thought': 219, 'tweet': 220, 'understand': 221, 'team': 222, 'mean': 223, 'again': 224, 'media': 225, '[': 226, 'come': 227, 'keep': 228, 'gun': 229, 'looking': 230, ']': 231, 'read': 232, '>': 233, 'support': 234, 'ever': 235, 'always': 236, 'thing': 237, 'registration': 238, 'yes': 239, 'yeah': 240, 'happy': 241, 'last': 242, ';': 243, 'something': 244, 'cams': 245, 'tokkens': 246, 'every': 247, 'help': 248, 'show': 249, 'white': 250, '🕰': 251, '🎮': 252, '#health': 253, 'left': 254, 'down': 255, 'actually': 256, 'trump': 257, 'many': 258, '🖥': 259, 'which': 260, 'nice': 261, '#hiring': 262, '#business': 263, 'latest': 264, 'account': 265, 'before': 266, 'real': 267, '❤': 268, '💎': 269, 'friends': 270, 'without': 271, 'feel': 272, 'made': 273, 'must': 274, 'job': 275, 'bad': 276, 'didnt': 277, 'give': 278, 'around': 279, '#tech': 280, '#ethereum': 281, 'everything': 282, 'where': 283, 'guy': 284, 'man': 285, '#socialmedia': 286, 'years': 287, '#nra': 288, 'watch': 289, '#jokes': 290, 'hey': 291, 'nothing': 292, 'airdrop': 293, 'click': 294, 'guys': 295, '🤣': 296, '#school': 297, 'hes': 298, 'things': 299, 'funny': 300, 'guns': 301, 'anyone': 302, '@': 303, 'video': 304, '#competition': 305, 'fun': 306, 'worth': 307, 'sorry': 308, 'days': 309, 'wow': 310, '#education': 311, '#ai': 312, 'does': 313, 'anything': 314, 'money': 315, 'crypto': 316, '#breaking': 317, 'wait': 318, '#marchforourlives': 319, 'person': 320, '£': 321, 'little': 322, 'big': 323, 'school': 324, 'r': 325, '#puns': 326, 'next': 327, 'away': 328, 'through': 329, 'top': 330, 'doing': 331, 'accounts': 332, 'two': 333, 'part': 334, 'blockchain': 335, 'may': 336, 'games': 337, 'another': 338, 'needs': 339, 'makes': 340, '#memes': 341, 'since': 342, 'find': 343, 'own': 344, 'using': 345, 'such': 346, 'try': 347, '#nowplaying': 348, 'internet': 349, 'few': 350, 'believe': 351, 'done': 352, 'having': 353, 've': 354, 'while': 355, 'getting': 356, 'says': 357, 'hope': 358, 'share': 359, '#technology': 360, 'community': 361, 'full': 362, 'wrong': 363, 'serious': 364, 'doesnt': 365, 'saying': 366, 'stop': 367, 'tag': 368, '🙄': 369, '😍': 370, '—': 371, 'year': 372, 'week': 373, 'home': 374, 'history': 375, 'god': 376, '#luxury': 377, 'shit': 378, 'kids': 379, 'buy': 380, 'business': 381, '‘': 382, '#fortnite': 383, 'd': 384, 'coming': 385, '\\u200d': 386, 'same': 387, '#fun': 388, '#style': 389, 'comment': 390, '#humor': 391, 'start': 392, 'sense': 393, 'put': 394, 'joke': 395, '#pop': 396, '#rock': 397, 'women': 398, '#careerarc': 399, 'trying': 400, 'morning': 401, 'playing': 402, 'future': 403, 'face': 404, 'care': 405, '#btc': 406, '#life': 407, '#cricket': 408, '#live': 409, 'didn': 410, 'facebook': 411, ':)': 412, 'w': 413, 'es': 414, '#elementary': 415, '#home': 416, 'making': 417, 'already': 418, 'season': 419, 'important': 420, 'data': 421, '#twitter': 422, ':@': 423, '#iot': 424, 'end': 425, 'doesn': 426, 'daily': 427, 'telegram': 428, '#cybersecurity': 429, 'hard': 430, 'old': 431, '#robotics': 432, 'listen': 433, 'once': 434, 'post': 435, 'soundtwit': 436, 'fh__400inst': 437, 'stupid': 438, 'bitcoin': 439, 'giveaway': 440, '#gaming': 441, 'social': 442, 'ok': 443, 'definitely': 444, '#blog': 445, 'point': 446, 'music': 447, 'h': 448, '#programming': 449, '#retweet': 450, 'house': 451, '#kids': 452, 'sale': 453, 'used': 454, 'isnt': 455, 'DGDGDGDGDG': 456, 'night': 457, 'long': 458, 'DG.DGDG': 459, '✔': 460, 'guess': 461, '#art': 462, 'glad': 463, 'ive': 464, '•': 465, 'both': 466, '#bigdata': 467, 'DG.DG': 468, 'song': 469, 'maybe': 470, 'humor': 471, 'amazing': 472, 'totally': 473, 'https': 474, 'change': 475, 'sometimes': 476, 'against': 477, '#rt': 478, '✨': 479, 'htt': 480, 'x': 481, 'words': 482, 'problem': 483, '#fintech': 484, 'group': 485, 'hours': 486, 'lot': 487, '👉': 488, 'smart': 489, 'giving': 490, 'high': 491, '#facebook': 492, 'talk': 493, 'enough': 494, 'call': 495, '#tron': 496, '🤔': 497, 'clearly': 498, 'america': 499, 'price': 500, 'summer': 501, 'international': 502, 'told': 503, '🏻': 504, 'learn': 505, 'true': 506, 'token': 507, 'black': 508, 'isn': 509, 'ill': 510, 'hate': 511, 'fans': 512, 'link': 513, '~': 514, 'service': 515, 'welcome': 516, 'apply': 517, '#interiordesign': 518, '#architecture': 519, 'else': 520, 'tweets': 521, 'article': 522, 'add': 523, 'lets': 524, 'whole': 525, 'perfect': 526, 'cool': 527, 'between': 528, 'young': 529, 'though': 530, 'spring': 531, 'million': 532, 'll': 533, 'course': 534, 'hear': 535, 'play': 536, 'might': 537, 'technology': 538, 'head': 539, '#eth': 540, 'soon': 541, 'public': 542, 'called': 543, 'open': 544, '#free': 545, 'yet': 546, '=': 547, 'ask': 548, '#decoration': 549, 'book': 550, 'less': 551, 'level': 552, 'question': 553, 'ur': 554, '#marketing': 555, 'probably': 556, 'awesome': 557, 'looks': 558, 'during': 559, 'president': 560, 'government': 561, 'gonna': 562, 'boy': 563, 'story': 564, 'hilarious': 565, 'country': 566, 'each': 567, 'kind': 568, 'gets': 569, '–': 570, 'family': 571, 'view': 572, 'reason': 573, 'starting': 574, 'ico': 575, 'place': 576, 'run': 577, '👍': 578, 'bonus': 579, 'under': 580, 'font': 581, 'gift': 582, 'name': 583, 'remember': 584, 'idea': 585, 'david': 586, 'available': 587, 'platform': 588, 'laws': 589, 'dark': 590, 'case': 591, 'least': 592, 'health': 593, 'friend': 594, 'super': 595, 'company': 596, '#funnyquotes': 597, '#anime': 598, 'human': 599, '🏼': 600, 'either': 601, 'project': 602, 'men': 603, 'bring': 604, 'single': 605, 'fake': 606, 'c': 607, 'instead': 608, 'word': 609, 'market': 610, '#ausgp': 611, 'vocalistwithhis': 612, 'official': 613, 'loving': 614, 'ready': 615, 'b': 616, 'thinking': 617, 'children': 618, '#media': 619, 'fucking': 620, 'simply': 621, 'tone': 622, 'second': 623, 'followers': 624, '#fitness': 625, 'easy': 626, 'apparently': 627, 'favorite': 628, 'bit': 629, '#hiphop': 630, 'sunday': 631, '#trx': 632, 'popular': 633, '#science': 634, 'f': 635, 'others': 636, 'until': 637, 'visit': 638, 'almost': 639, 'mind': 640, 'answer': 641, 'control': 642, 'usa': 643, 'australia': 644, 'cricket': 645, 'club': 646, 'times': 647, 'wonder': 648, 'wants': 649, 'knows': 650, '#data': 651, 'questions': 652, '#girls': 653, 'cause': 654, 'camp': 655, '#jobs': 656, 'code': 657, 'n': 658, '#maga': 659, 'works': 660, '♀': 661, 'trading': 662, 'ya': 663, 'random': 664, '#newmusic': 665, 'means': 666, 'global': 667, 'lives': 668, 'digital': 669, 'card': 670, '➡': 671, 'become': 672, 'DGDG/DG': 673, '#follow': 674, '#followme': 675, 'banned': 676, '#airdrop': 677, 'police': 678, 'yourself': 679, 'hurt': 680, 'tech': 681, '#humour': 682, '#tokensale': 683, 'lost': 684, 'arent': 685, '#history': 686, 'fuck': 687, 'sounds': 688, 'ass': 689, 'ends': 690, 'tokens': 691, 'power': 692, '#yoga': 693, 'obvious': 694, '📢': 695, 'able': 696, 'eth': 697, 'girls': 698, 'cryptocurrency': 699, '#travel': 700, 'took': 701, 'uk': 702, 'break': 703, 'party': 704, '#india': 705, '#ripple': 706, 'steve': 707, 'dude': 708, 'india': 709, 'towards': 710, 'myself': 711, 'ht': 712, 'largest': 713, 'war': 714, '<': 715, 'poor': 716, 'DGDG:DGDG': 717, 'miss': 718, 'forward': 719, 'following': 720, 'leave': 721, 'instagram': 722, 'stem': 723, 'possible': 724, '#funnysayings': 725, 'working': 726, 'takes': 727, 'talking': 728, 'DGDG.DGDG': 729, 'jokes': 730, 'comes': 731, 'pretty': 732, 'beautiful': 733, '😜': 734, 'three': 735, 'website': 736, '#satoshi': 737, 'late': 738, 'happen': 739, 'art': 740, 'water': 741, 'spent': 742, 'hit': 743, 'seems': 744, 'kill': 745, 'missed': 746, 'pay': 747, 'plan': 748, 'users': 749, '#radio': 750, '#startup': 751, 'experience': 752, 'terrorist': 753, '#innovation': 754, 'franchise': 755, '#tips': 756, 'o': 757, '🙌': 758, 'far': 759, 'china': 760, 'vs': 761, 'seen': 762, 'seriously': 763, 'shocked': 764, 'proud': 765, 'player': 766, '#security': 767, '▶': 768, 'dreams': 769, 'forget': 770, 'turn': 771, 'minutes': 772, 'hour': 773, 'tonight': 774, '#comedy': 775, 'watching': 776, 'knew': 777, 'exchange': 778, '3d': 779, 'wasnt': 780, '😉': 781, 'heres': 782, '#rap': 783, 'based': 784, 'early': 785, 'fan': 786, 'y': 787, 'calling': 788, 'id': 789, '#np': 790, '#oneliner': 791, 'hands': 792, 'event': 793, 'phone': 794, 'behind': 795, 'sports': 796, 'students': 797, 'groups': 798, 'language': 799, 'obviously': 800, 'shot': 801, 'easter': 802, 'sign': 803, 'fine': 804, 'taking': 805, 'small': 806, 'attention': 807, 'center': 808, '#machinelearning': 809, 'theres': 810, 'wont': 811, 'DG-DG': 812, '#breakingnews': 813, '#game': 814, '#photo': 815, 'violence': 816, 'anymore': 817, 'set': 818, 'sweet': 819, 'nra': 820, 'biggest': 821, 'page': 822, 'lovely': 823, '🏽': 824, 'killer': 825, '#dance': 826, 'wall': 827, '#world': 828, 'protect': 829, 'v': 830, 'happened': 831, 'design': 832, 'lmao': 833, '#quotes': 834, 'intelligence': 835, 'eyes': 836, '#2a': 837, 'incredible': 838, 'heard': 839, '💰': 840, 'body': 841, 'extra': 842, 'act': 843, 'stay': 844, 'absolutely': 845, 'ha': 846, '#snarky': 847, '#spotify': 848, '#success': 849, 'short': 850, 'interesting': 851, '🤦': 852, 'fight': 853, '#datascience': 854, 'match': 855, 'smith': 856, 'death': 857, 'air': 858, 'five': 859, 'side': 860, '🎶': 861, 'heart': 862, 'voice': 863, 'haha': 864, 'american': 865, 'dead': 866, 'tomorrow': 867, 'four': 868, '#hot': 869, '#infosec': 870, 'teacher': 871, 'designer': 872, 'items': 873, '🇺': 874, '#reality': 875, '#sports': 876, 'stuff': 877, '#airdropnew': 878, '#food': 879, 'royal': 880, 'pick': 881, 'stream': 882, 'literally': 883, 'damn': 884, 'hell': 885, '#tshirt': 886, 'bc': 887, 'wanna': 888, 'radio': 889, '#youtube': 890, 'vote': 891, 'went': 892, 'won': 893, 'started': 894, 'opening': 895, 'movie': 896, 'girl': 897, '✅': 898, 'perhaps': 899, 'amazon': 900, 'emoji': 901, '#iphone': 902, 'move': 903, 'rights': 904, 'deal': 905, 'speak': 906, 'e': 907, 'safer': 908, 'australian': 909, 'pushing': 910, '👏': 911, '#weekend': 912, 'cyber': 913, 'found': 914, 'enjoy': 915, 'note': 916, 'picks': 917, 'supposed': 918, 'theyre': 919, 'send': 920, 'personal': 921, 'dumb': 922, 'exactly': 923, 'fire': 924, 'gave': 925, 'august': 926, 'law': 927, 'wish': 928, '#work': 929, '♂': 930, 'united': 931, '#stemcamps': 932, 'list': 933, 'jesus': 934, 'ppl': 935, 'clean': 936, 'btc': 937, 'wasn': 938, 'city': 939, '#easter': 940, '#party': 941, 'past': 942, 'russia': 943, '#wrestlemania': 944, 'ahead': 945, 'class': 946, 'bitch': 947, 'final': 948, 'meet': 949, 'order': 950, 'matter': 951, 'special': 952, 'crazy': 953, '#poshmark': 954, '#shopmycloset': 955, '🇸': 956, 'graphics': 957, 'shocking': 958, 'room': 959, 'text': 960, 'honestly': 961, '#modeling': 962, 'btw': 963, 'tips': 964, 'wanted': 965, 'yay': 966, 'sad': 967, '#twitch': 968, 'society': 969, 'ban': 970, 'national': 971, 'horrible': 972, 'grow': 973, '#linkinbio': 974, 'beat': 975, '#entrepreneur': 976, '👇': 977, '💋': 978, 'smile': 979, 'finally': 980, 'truly': 981, 'review': 982, 'gaming': 983, 'industry': 984, '#social': 985, 'comments': 986, 'across': 987, 'meant': 988, '#branding': 989, 'classic': 990, 'truth': 991, '#ideas': 992, '#digitalmarketing': 993, '#porn': 994, 'believing': 995, '#earn_money': 996, 'ball': 997, '#seo': 998, 'address': 999, 'forgot': 1000, 'paul': 1001, 'system': 1002, 'dogs': 1003, 'grade': 1004, 'sell': 1005, 'birthday': 1006, 'breaking': 1007, 'paper': 1008, 'successful': 1009, 'racist': 1010, 'marketing': 1011, 'security': 1012, 'boys': 1013, 'volume': 1014, 'obama': 1015, 'youtube': 1016, '🤷': 1017, 'killed': 1018, 'details': 1019, 'front': 1020, '#beauty': 1021, 'irony': 1022, 'omg': 1023, 'silly': 1024, 'dad': 1025, 'response': 1026, 'tv': 1027, 'lie': 1028, 'imagine': 1029, 'competition': 1030, 'safe': 1031, 'drive': 1032, 'league': 1033, '🎉': 1034, 'upon': 1035, 'attack': 1036, 'ceo': 1037, '#logo': 1038, 'recommend': 1039, '！': 1040, 'save': 1041, 'mr': 1042, 'agree': 1043, 'telling': 1044, 'facts': 1045, '#sex': 1046, 'manipulating': 1047, 'hot': 1048, 'winner': 1049, 'college': 1050, '#teachingjobs': 1051, 'interested': 1052, '#cute': 1053, 'hogg': 1054, 'luck': 1055, 'car': 1056, 'learning': 1057, 'surprise': 1058, 'cold': 1059, '#dubai': 1060, 'lead': 1061, 'moment': 1062, 'laugh': 1063, 'content': 1064, 'hand': 1065, '😒': 1066, 'different': 1067, 'asking': 1068, 'came': 1069, '#politics': 1070, 'reading': 1071, 'program': 1072, '#eos': 1073, 'john': 1074, 'bio': 1075, 'turned': 1076, 'weekend': 1077, 'sleep': 1078, 'running': 1079, 'okay': 1080, 'fit': 1081, 'stand': 1082, 'total': 1083, '😭': 1084, 'DGDG/DGDG': 1085, 'network': 1086, 'trade': 1087, 'ago': 1088, 'earth': 1089, 'political': 1090, 'credit': 1091, 'light': 1092, 'strong': 1093, 'lots': 1094, 'age': 1095, 'manager': 1096, 'worse': 1097, 'wife': 1098, 'statement': 1099, '#DGDGDG': 1100, '#bigbizpro': 1101, 'massive': 1102, 'month': 1103, 'nobody': 1104, '🌿': 1105, 'worst': 1106, 'fear': 1107, 'decades': 1108, 'living': 1109, 'problems': 1110, '🙃': 1111, 'red': 1112, 'chat': 1113, 'activist': 1114, 'app': 1115, '#podcast': 1116, '#artist': 1117, 'th': 1118, 'wallet': 1119, 'goes': 1120, 'fortnite': 1121, '#ps4': 1122, 'church': 1123, '#nature': 1124, 'info': 1125, 'weeks': 1126, 'information': 1127, 'luxuryliferss': 1128, '#wine': 1129, '💥': 1130, 'woman': 1131, 'weve': 1132, '#yankees': 1133, 'prize': 1134, 'couldnt': 1135, 'heavy': 1136, '#watch': 1137, 'captain': 1138, 'feeling': 1139, '📸': 1140, 'bomb': 1141, 'excited': 1142, 'weird': 1143, 'state': 1144, 'brain': 1145, 'paying': 1146, 'points': 1147, 'position': 1148, 'town': 1149, 'male': 1150, '#today': 1151, '#xbox': 1152, 'featuring': 1153, '#cloud': 1154, '#bethereum': 1155, 'type': 1156, '💪': 1157, 'sir': 1158, 'added': 1159, '👌': 1160, 'building': 1161, 'die': 1162, 'england': 1163, 'commission': 1164, 'everybody': 1165, '#itunes': 1166, 'americans': 1167, 'whatever': 1168, 'low': 1169, 'waiting': 1170, 'gold': 1171, 'cash': 1172, 'original': 1173, 'clear': 1174, 'hashtag': 1175, 'opinion': 1176, 'idiots': 1177, 'race': 1178, 'professional': 1179, 'deep': 1180, 'wouldnt': 1181, 'key': 1182, '#smm': 1183, 'services': 1184, 'character': 1185, 'success': 1186, 'assault': 1187, 'reasons': 1188, '😎': 1189, 'rather': 1190, 'failure': 1191, 'blew': 1192, 'goal': 1193, 'ways': 1194, 'hi': 1195, 'mark': 1196, 'common': 1197, 'bag': 1198, 'cannot': 1199, 'winning': 1200, 'worked': 1201, 'whats': 1202, 'especially': 1203, 'major': 1204, 'months': 1205, 'illegal': 1206, 'results': 1207, 'thread': 1208, 'sound': 1209, 'together': 1210, 'given': 1211, 'posted': 1212, '#livebroadcasting': 1213, 'asked': 1214, 'access': 1215, '#card': 1216, '#flyer': 1217, 'ice': 1218, 'unique': 1219, '◀': 1220, 'line': 1221, 'retro': 1222, 'dare': 1223, 'politician': 1224, '🍀': 1225, 'issues': 1226, '⏬': 1227, '#nsfw': 1228, '#foxnews': 1229, 'straight': 1230, 'amendment': 1231, 'trust': 1232, '😀': 1233, 'edition': 1234, 'box': 1235, 'write': 1236, 'ी': 1237, '#stream': 1238, '#wooplr': 1239, 'germany': 1240, 'genuinely': 1241, '#stem': 1242, 'photo': 1243, 'entered': 1244, 'image': 1245, 'assume': 1246, 'happens': 1247, 'completely': 1248, 'london': 1249, 'complete': 1250, 'getreallux': 1251, 'shop': 1252, '#photos': 1253, 'insert': 1254, 'seem': 1255, '#digital': 1256, '⚡': 1257, 'gb': 1258, 'celebrate': 1259, 'lucky': 1260, 'mom': 1261, 'liberal': 1262, 'donald': 1263, 'weight': 1264, 'pm': 1265, '#realestate': 1266, '#football': 1267, 'stories': 1268, 'campaign': 1269, 'fbi': 1270, 'child': 1271, 'taken': 1272, '#gift': 1273, 'exclusive': 1274, 'folks': 1275, 'quite': 1276, 'teams': 1277, 'cloth-stagram': 1278, 'hello': 1279, 'education': 1280, 'rest': 1281, 'havent': 1282, 'communities': 1283, 'spotify': 1284, 'likes': 1285, 'l': 1286, 'needed': 1287, '#video': 1288, 'energy': 1289, 'missing': 1290, 'players': 1291, '#graphic_design': 1292, '#cover': 1293, '#resume': 1294, '#ads_design': 1295, '#instagram_ads': 1296, '#blogger': 1297, 'todays': 1298, 'dangerous': 1299, 'usually': 1300, 'vocalistwith': 1301, '😱': 1302, 'dog': 1303, 'earn': 1304, 'hair': 1305, '😊': 1306, 'de': 1307, 'loved': 1308, '#xxx': 1309, '#books': 1310, 'cheating': 1311, 'stock': 1312, '{': 1313, 'shenzhen': 1314, 'build': 1315, 'gone': 1316, 'yesterday': 1317, 'btpcrowdsale': 1318, 'likely': 1319, 'shooting': 1320, 'worry': 1321, 'blue': 1322, '->': 1323, 'rules': 1324, 'programming': 1325, 'companies': 1326, 'battle': 1327, 'pass': 1328, 'hits': 1329, 'fast': 1330, 'actual': 1331, 'built': 1332, 'tho': 1333, 'decentralized': 1334, 'conversation': 1335, 'reality': 1336, 'food': 1337, '2nd': 1338, 'force': 1339, 'offer': 1340, '#usa': 1341, 'cuz': 1342, 'books': 1343, 'bullpen': 1344, '#pinstripepride': 1345, 'v-bucks': 1346, '😁': 1347, 'star': 1348, '#weightloss': 1349, 'mouth': 1350, 'shirt': 1351, 'adult': 1352, 'plz': 1353, 'uses': 1354, '#trending': 1355, 'mike': 1356, 'simple': 1357, 'update': 1358, 'download': 1359, 'form': 1360, 'mining': 1361, 'talent': 1362, 'alert': 1363, 'rich': 1364, 'participate': 1365, 'projects': 1366, 'actions': 1367, 'thinks': 1368, 'launch': 1369, '#sexy': 1370, 'quality': 1371, '#author': 1372, 'friday': 1373, '#bitcointalk': 1374, '#xboxone': 1375, 'allowed': 1376, 'realize': 1377, 'lies': 1378, 'fair': 1379, 'russian': 1380, 'bets': 1381, 'investigation': 1382, 'schools': 1383, 'seeing': 1384, '#britishsummertime': 1385, 'prayers': 1386, 'english': 1387, 'fiverrneed': 1388, 'draw': 1389, 'bottle': 1390, 'mobile': 1391, 'goodbye': 1392, 'version': 1393, 'speaking': 1394, '💔': 1395, 'half': 1396, 'ideas': 1397, 'kid': 1398, 'fantastic': 1399, 'DG/DG': 1400, '☝': 1401, 'difficult': 1402, 'create': 1403, 'close': 1404, 'tax': 1405, 'per': 1406, 'except': 1407, 'created': 1408, 'respect': 1409, 'emma': 1410, 'lose': 1411, 'student': 1412, 'office': 1413, 'anywhere': 1414, 'cover': 1415, 'message': 1416, '#diet': 1417, '#lmao': 1418, '#lifestyle': 1419, 'weekly': 1420, '#fiction': 1421, 'kik': 1422, 'cut': 1423, 'crowd': 1424, '#change': 1425, 'film': 1426, '#soundcloud': 1427, '#inspiration': 1428, 'paid': 1429, 'guide': 1430, 'http': 1431, '#deeplearning': 1432, '#stanton': 1433, 'issue': 1434, '::': 1435, 'wine': 1436, 'round': 1437, 'supply': 1438, 'increase': 1439, 'amount': 1440, 'sick': 1441, 'inside': 1442, 'bringing': 1443, 'creative': 1444, 'collection': 1445, 'blog': 1446, 'tired': 1447, '#supercars': 1448, '#cars': 1449, '#writer': 1450, '#women': 1451, 'airport': 1452, 'exciting': 1453, 'report': 1454, 'spot': 1455, 'pop': 1456, 'ground': 1457, 'wearing': 1458, 'election': 1459, 'fall': 1460, 'kinda': 1461, '#viral': 1462, 'fact': 1463, 'alive': 1464, 'thoughts': 1465, 'printed': 1466, 'release': 1467, 'berlin': 1468, 'european': 1469, 'bank': 1470, 'villa': 1471, 'usd': 1472, 'pls': 1473, '#money': 1474, '#gamer': 1475, ':d': 1476, 'appreciate': 1477, '💕': 1478, 'drop': 1479, 'countries': 1480, 'album': 1481, 'customers': 1482, '#design': 1483, 'evil': 1484, 'touch': 1485, '#token': 1486, 'reach': 1487, 'cost': 1488, 'idk': 1489, 'qatar': 1490, '}': 1491, 'choice': 1492, 'powerful': 1493, 'calls': 1494, 'growing': 1495, 'none': 1496, 'repeating': 1497, 'hitler': 1498, 'youll': 1499, '#apple': 1500, 'expect': 1501, 'ones': 1502, 'aren': 1503, 'gotta': 1504, 'argument': 1505, 'middle': 1506, '#nfl': 1507, 'blame': 1508, 'supporters': 1509, 'surprised': 1510, 'baby': 1511, 'sit': 1512, '#artificialintelligence': 1513, '#london': 1514, '#motivation': 1515, 'throw': 1516, 'numbers': 1517, 'videos': 1518, 'yo': 1519, 'within': 1520, 'congress': 1521, '#photooftheday': 1522, 'receive': 1523, 'wit': 1524, 'model': 1525, 'mother': 1526, 'legal': 1527, 'vision': 1528, 'helping': 1529, 'intended': 1530, 'shows': 1531, 'beyond': 1532, 'loss': 1533, '#sales': 1534, 'size': 1535, 'shes': 1536, 'members': 1537, 'sales': 1538, '🙏': 1539, '#like': 1540, 'improve': 1541, 'sides': 1542, '#balltampering': 1543, 'wonderful': 1544, 'often': 1545, '🏘': 1546, 'yall': 1547, 'fitness': 1548, 'anyway': 1549, 'detailed': 1550, 'former': 1551, '#luxurycars': 1552, 'snow': 1553, 'sitting': 1554, 'stage': 1555, '#invest': 1556, 'explain': 1557, 'stars': 1558, 'DGDGDGDGDGDG': 1559, '🚀': 1560, '😘': 1561, '#app': 1562, 'artists': 1563, 'p': 1564, 'normal': 1565, '#burjkhalifa': 1566, '#emaar': 1567, '#luxuryproperty': 1568, '#connect2earth': 1569, '#lifetalks2018': 1570, '#trading': 1571, 'double': 1572, 'bill': 1573, '#wordpress': 1574, 'worlds': 1575, 'copy': 1576, 'training': 1577, '#meme': 1578, 'customer': 1579, 'fancy': 1580, 'weather': 1581, 'cute': 1582, 'main': 1583, '#f1': 1584, 'google': 1585, 'written': 1586, 'profile': 1587, 'drink': 1588, 'cards': 1589, 'coverage': 1590, 'cat': 1591, 'picture': 1592, 'interview': 1593, 'reply': 1594, '🎵': 1595, 'shut': 1596, 'handle': 1597, 'gonzalez': 1598, '🎹': 1599, '💙': 1600, 'coin': 1601, 'ryan': 1602, 'joe': 1603, 'ो': 1604, 'hold': 1605, 'academy': 1606, 'legit': 1607, 'adding': 1608, 'easily': 1609, 'performance': 1610, 'huge': 1611, 'master': 1612, 'leaving': 1613, 'shame': 1614, 'changing': 1615, '#quote': 1616, 'perfectly': 1617, '):': 1618, 'ai': 1619, 'web': 1620, 'pack': 1621, 'ads': 1622, '#ml': 1623, 'south': 1624, '#follome': 1625, '#follwme': 1626, 'father': 1627, 'related': 1628, '#summercamp': 1629, ':-)': 1630, 'land': 1631, 'sack': 1632, 'themselves': 1633, 'focus': 1634, 'nature': 1635, 'lat': 1636, 'tried': 1637, 'blood': 1638, 'contracts': 1639, 'site': 1640, 'catch': 1641, 'soul': 1642, '#shop': 1643, 'greatest': 1644, 'physical': 1645, 'crime': 1646, '#workout': 1647, '#google': 1648, 'monday': 1649, '#coffee': 1650, 'fault': 1651, 'action': 1652, 'lord': 1653, 'king': 1654, 'drawing': 1655, '#mobile': 1656, 'feed': 1657, '#gamedev': 1658, 'received': 1659, 'showing': 1660, 'difference': 1661, '😏': 1662, 'cry': 1663, '😩': 1664, '#android': 1665, 'teachers': 1666, '#giftideas': 1667, '#background_removehttps': 1668, '✈': 1669, '™': 1670, 'favourite': 1671, '1st': 1672, 'putting': 1673, 'sent': 1674, 'including': 1675, '#model': 1676, 'couple': 1677, 'youve': 1678, 'private': 1679, '#nyc': 1680, 'value': 1681, 'longer': 1682, 'corrupt': 1683, 'contest': 1684, 'press': 1685, '#porno': 1686, 'outside': 1687, '3rd': 1688, 'millions': 1689, '#awesome': 1690, 'anniversary': 1691, 'due': 1692, 'lying': 1693, 'involved': 1694, 'coffee': 1695, '#girl': 1696, 'below': 1697, 'however': 1698, 'episode': 1699, 'leader': 1700, 'murdered': 1701, 'effort': 1702, 'arizona': 1703, 'la': 1704, 'mad': 1705, 'solution': 1706, 'search': 1707, '∈': 1708, 'arab': 1709, 'doha': 1710, '12th': 1711, 'europe': 1712, 'jump': 1713, 'limited': 1714, 'grab': 1715, '#bounty': 1716, 'award': 1717, 'caught': 1718, 'cambridge': 1719, '`': 1720, '#onair': 1721, 'busy': 1722, 'quick': 1723, '#spring': 1724, 'mass': 1725, 'example': 1726, 'certain': 1727, '#hits': 1728, 'quote': 1729, 'couldn': 1730, 'green': 1731, 'g': 1732, '#oldies': 1733, 'inc': 1734, 'happening': 1735, 'track': 1736, 'piece': 1737, 'woke': 1738, 'detect': 1739, 'states': 1740, '#trump': 1741, 'genius': 1742, 'moments': 1743, '#saturday': 1744, 'surely': 1745, ';)': 1746, 'killing': 1747, 'include': 1748, '#altcoin': 1749, 'asshole': 1750, 'justice': 1751, 'chris': 1752, '#new': 1753, 'opportunity': 1754, '#royalcyberclub': 1755, 'series': 1756, 'rajasthan': 1757, 'royals': 1758, 'decides': 1759, 'york': 1760, 'symbol': 1761, 'currently': 1762, '#notfeelingit': 1763, '#next': 1764, 'filled': 1765, 'yasss': 1766, 'daughter': 1767, '#support': 1768, 'dry': 1769, '👊': 1770, 'officially': 1771, 'skin': 1772, 'liberals': 1773, 'yea': 1774, 'along': 1775, 'effective': 1776, 'finish': 1777, '#guns': 1778, 'xbl': 1779, 'gl': 1780, 'seas': 1781, 'flat': 1782, 'hat': 1783, 'chinese': 1784, 'computer': 1785, 'planning': 1786, '#metal': 1787, 'bro': 1788, 'plus': 1789, 'da': 1790, 'upset': 1791, 'supporting': 1792, '#sundaymorning': 1793, 'number': 1794, 'nation': 1795, 'later': 1796, 'luxuryhello': 1797, 'third': 1798, '30th': 1799, 'self': 1800, '♥': 1801, '#funniest': 1802, 'idiot': 1803, 'banking': 1804, 'brilliant': 1805, 'british': 1806, 'xbox': 1807, 'spain': 1808, 'beating': 1809, '#contest': 1810, 'highly': 1811, 'fresh': 1812, 'knowing': 1813, 'whether': 1814, 'gives': 1815, 'modern': 1816, 'notificati': 1817, '♫': 1818, '#researchpreneur': 1819, 'brown': 1820, 'generation': 1821, 'starts': 1822, 'ended': 1823, '#image': 1824, 'development': 1825, '#jokeoftheday': 1826, 'dream': 1827, 'jobs': 1828, 'youd': 1829, 'awp': 1830, 'rude': 1831, 'status': 1832, 'letter': 1833, 'bet': 1834, 'block': 1835, 'fee': 1836, '#bitcoincash': 1837, 'shouldn': 1838, 'fashion': 1839, 'dm': 1840, 'tools': 1841, 'discount': 1842, 'DG/DGDG': 1843, 'financial': 1844, 'unknown': 1845, 'dear': 1846, '🔫': 1847, '#decentralized': 1848, 'bags': 1849, '🌹': 1850, 'threats': 1851, 'west': 1852, 'fb': 1853, 'secure': 1854, 'honest': 1855, '🚨': 1856, 'born': 1857, 'debate': 1858, 'recipes': 1859, 'k': 1860, '#country': 1861, '#team': 1862, 'dramatic': 1863, '#japan': 1864, 'murder': 1865, '🐕': 1866, '#contentmarketing': 1867, 'ah': 1868, 'keeping': 1869, 'announce': 1870, 'saturday': 1871, 'april': 1872, 'acting': 1873, '#careers': 1874, 'conference': 1875, 'judge': 1876, 'acceptable': 1877, 'chill': 1878, 'startup': 1879, '#jazz': 1880, '#insurtech': 1881, 'checkout': 1882, 'expected': 1883, 'runs': 1884, 'hearing': 1885, 'apologies': 1886, 'sincere': 1887, 'secret': 1888, 'bomber': 1889, 'congratulations': 1890, 'violent': 1891, 'lunch': 1892, '#startups': 1893, 'participation': 1894, 'toy': 1895, 'promo': 1896, '#bloggersrequired': 1897, '#bloggerssparkle': 1898, '#bloggerssupportingbloggers': 1899, '#grlpwr': 1900, '#readme': 1901, '#secrets': 1902, '#whathappensnext': 1903, '#saywhat': 1904, '#blogginggals': 1905, '#yesshedid': 1906, '#prepareyourselves': 1907, 'announcement': 1908, 'useful': 1909, 'helps': 1910, 'gop': 1911, '#leadership': 1912, 'kit': 1913, '💀': 1914, 'delicious': 1915, 'businesses': 1916, 'constantly': 1917, 'fighting': 1918, 'assad': 1919, 'tweeted': 1920, 'develop': 1921, 'canada': 1922, 'worldwide': 1923, 'guarantee': 1924, 'bounty': 1925, 'local': 1926, 'overview': 1927, 'bulletproof': 1928, '#aircraft': 1929, 'parliament': 1930, 'stormy': 1931, 't-shirts': 1932, 'healthy': 1933, 'directly': 1934, 'flight': 1935, 'standard': 1936, 'date': 1937, 'partners': 1938, 't-shirt': 1939, 'target': 1940, 'grand': 1941, 'football': 1942, 'thousands': 1943, 'laughing': 1944, 'afternoon': 1945, 'caption': 1946, 'turns': 1947, 'armed': 1948, 'apple': 1949, '#videogames': 1950, 'voted': 1951, 'creating': 1952, 'harder': 1953, 'driver': 1954, 'dripping': 1955, 'senior': 1956, 'lack': 1957, 'relationship': 1958, 'tip': 1959, 'nudes': 1960, 'fox': 1961, 'offended': 1962, 'advice': 1963, 'known': 1964, 'noted': 1965, 'tiny': 1966, 'proof': 1967, 'raised': 1968, 'correct': 1969, '#DGDG': 1970, 'eye': 1971, '#annoyed': 1972, 'invite': 1973, '#indiedev': 1974, 'afraid': 1975, '#luxurywatch': 1976, '#luxurylife': 1977, 'voucher': 1978, 'genuine': 1979, '😅': 1980, 'raise': 1981, '#80s': 1982, '#90s': 1983, 'ipl': 1984, 'impact': 1985, 'excellent': 1986, 'ultimate': 1987, 'threat': 1988, '#podernfamily': 1989, 'movies': 1990, 'co': 1991, '#sunday': 1992, 'hillary': 1993, '#dystopiancomedy': 1994, 'band': 1995, 'similar': 1996, 'products': 1997, '★': 1998, 'trumps': 1999, 'graphite': 2000, '☘': 2001, 'recent': 2002, 'director': 2003, '🎂': 2004, 'mine': 2005, '🎁': 2006, '⬅': 2007, 'weapons': 2008, '#night': 2009, 'tells': 2010, 'paris': 2011, 'holding': 2012, '📷': 2013, 'christian': 2014, 'DGDGDG.DGDG': 2015, 'certainly': 2016, 'foundation': 2017, 'trouble': 2018, 'choose': 2019, 'af': 2020, 'term': 2021, 'met': 2022, 'possibly': 2023, 'personality': 2024, 'mood': 2025, 'test': 2026, 'evolve': 2027, 'expire': 2028, 'channel': 2029, 'politicians': 2030, 'congrats': 2031, 'unless': 2032, 'traffic': 2033, 'deleted': 2034, '💖': 2035, 'swear': 2036, '😆': 2037, 'billion': 2038, 'innocent': 2039, 'brexit': 2040, 'disgusting': 2041, '#vintage': 2042, 'felt': 2043, 'failed': 2044, '❄': 2045, 'highest': 2046, 'horse': 2047, 'girlfriend': 2048, 'oil': 2049, 'shoot': 2050, 'everywhere': 2051, 'deserve': 2052, 'published': 2053, 'dogland': 2054, '👀': 2055, 'bunch': 2056, 'benefits': 2057, 'fix': 2058, 'replied': 2059, 'himself': 2060, 'present': 2061, 'aint': 2062, '#uk': 2063, '#worldrecord': 2064, 'cram': 2065, '#24ho': 2066, 'somebody': 2067, 'twice': 2068, 'hero': 2069, 'multiple': 2070, 'valley': 2071, 'healthcare': 2072, 'talks': 2073, '🏾': 2074, 'recognize': 2075, 'brand': 2076, 'actor': 2077, 'advanced': 2078, '#dj': 2079, '#industry40': 2080, 'harsh': 2081, 'destroy': 2082, '#cnn': 2083, '#laughter': 2084, 'trx': 2085, '▪': 2086, 'skills': 2087, 'feat': 2088, 'keeps': 2089, '#googleplay': 2090, 'characters': 2091, 'usual': 2092, 'defense': 2093, 'liked': 2094, '#instagram': 2095, 'applications': 2096, 'artificial': 2097, '🎧': 2098, 'ft': 2099, '😈': 2100, 'waste': 2101, 'racing': 2102, '#altcoins': 2103, 'east': 2104, '🕊': 2105, 'syria': 2106, 'logic': 2107, 'brothers': 2108, '#agile': 2109, 'looked': 2110, 'infographic': 2111, 'flash': 2112, 'policy': 2113, 'feelings': 2114, 'joking': 2115, 'exist': 2116, 'awful': 2117, 'road': 2118, '#irony': 2119, 'soft': 2120, 'strip': 2121, 'junior': 2122, 'revolution': 2123, 'austin': 2124, 'claim': 2125, 'z': 2126, '#writing': 2127, '#poetry': 2128, 'brings': 2129, '#savaus': 2130, 'finished': 2131, 'humans': 2132, 'comedy': 2133, 'twitch': 2134, 'scandal': 2135, 'ending': 2136, 'gorgeous': 2137, 'bucket': 2138, '#espn': 2139, 'modi': 2140, 'ability': 2141, 'spin': 2142, '#michigan': 2143, '#amwriting': 2144, 'boost': 2145, 'research': 2146, '❥': 2147, 'recently': 2148, 'spread': 2149, 'died': 2150, 'sun': 2151, 'ps4': 2152, 'shed': 2153, 'treats': 2154, 't.co/nd2isszilk': 2155, 'posts': 2156, '#stocks': 2157, 'iq': 2158, '\\U0001f92a': 2159, '#profit': 2160, 'potential': 2161, '#follo': 2162, '#marriedlife': 2163, '#desertplan': 2164, '#roadtrip': 2165, '#silverlining': 2166, 'culture': 2167, '#time': 2168, '🌎': 2169, '#book': 2170, 'refuse': 2171, 'hidden': 2172, 'purchase': 2173, 'attempt': 2174, 'decide': 2175, '#song': 2176, 'forever': 2177, '#lastfm': 2178, 'changes': 2179, '#winning': 2180, 'meme': 2181, '#marchmadness': 2182, 'soros': 2183, 'ecosystem': 2184, 'vintage': 2185, 'environment': 2186, 'sending': 2187, 'entire': 2188, 'street': 2189, 'peter': 2190, 'host': 2191, 'current': 2192, '☑': 2193, 'lady': 2194, '🙂': 2195, 'administration': 2196, '#friends': 2197, 'step': 2198, 'scared': 2199, 'steps': 2200, 'whos': 2201, 'betting': 2202, '#ios': 2203, '. . .': 2204, '#bch': 2205, 'officers': 2206, 'epic': 2207, 'tour': 2208, 'developpements': 2209, '#cryptocur': 2210, '#designer': 2211, 'tickets': 2212, 'suspect': 2213, '🐣': 2214, 'decision': 2215, 'risk': 2216, 'pre-ico': 2217, '#forex': 2218, 'mini': 2219, 'ा': 2220, '#emmagonzalez': 2221, '#emma': 2222, '#btu': 2223, 'kidding': 2224, '#blockchaintechnology': 2225, 'crap': 2226, 'positive': 2227, 'workout': 2228, '#ecommerce': 2229, '🎼': 2230, 'roll': 2231, 'spending': 2232, 'politics': 2233, 'offering': 2234, '#brexit': 2235, 'pro': 2236, 'till': 2237, 'announced': 2238, 'fluent': 2239, 'proceedings': 2240, 'madrid': 2241, 'arpaio': 2242, 'libera': 2243, 'क': 2244, 'द': 2245, 'garden': 2246, 'hasnt': 2247, '\\U0001f92f': 2248, 'rs': 2249, '☀': 2250, 'train': 2251, 'trends': 2252, 'hospital': 2253, 'spirit': 2254, 'ladies': 2255, '⇨': 2256, 'gain': 2257, 'diet': 2258, 'plane': 2259, 'bed': 2260, 'several': 2261, 'sounded': 2262, 'attacks': 2263, '#listen': 2264, '#creativity': 2265, '#classes': 2266, '#designing': 2267, '#legos': 2268, 'role': 2269, 'played': 2270, 'analytica': 2271, 'style': 2272, '#mining': 2273, 'park': 2274, 'saw': 2275, 'rocks': 2276, 'further': 2277, 'royale': 2278, '#ps4pro': 2279, '#amazon': 2280, 'operations': 2281, '#vr': 2282, 'republicans': 2283, 'promote': 2284, 'tough': 2285, 'indeed': 2286, 'software': 2287, 'seconds': 2288, 'podcast': 2289, 'source': 2290, 'reveals': 2291, 'title': 2292, '#vegan': 2293, 'winter': 2294, 'career': 2295, 'eating': 2296, 'absolute': 2297, 'peoples': 2298, 'ca': 2299, '#litecoin': 2300, 'provide': 2301, 'haven': 2302, 'assistant': 2303, 'enjoying': 2304, 'spend': 2305, '#سنابات_فهد_ال_حركان': 2306, '#not': 2307, 'boss': 2308, 'non': 2309, 'maga': 2310, '#iiot': 2311, 'sh': 2312, 'broke': 2313, 'somewhat': 2314, 'ltc': 2315, 'wars': 2316, '#exercise': 2317, 'near': 2318, '#movies': 2319, 'featured': 2320, 'nfl': 2321, '#socialmediamarketing': 2322, 'prevention': 2323, 'activists': 2324, 'ride': 2325, 'dinner': 2326, 'trolling': 2327, '#futurist': 2328, 'playlist': 2329, '#austinbombings': 2330, 'flag': 2331, 'standing': 2332, 'shift': 2333, 'tr': 2334, 'currency': 2335, 'daniels': 2336, 'conservative': 2337, '#clothing': 2338, 'cell': 2339, 'anime': 2340, 'clever': 2341, 'powell': 2342, 'bull': 2343, 'mathematics': 2344, 'analyst': 2345, 'fund': 2346, 'base': 2347, 'drugs': 2348, 'integration': 2349, 'duh': 2350, 'victory': 2351, '#insurance': 2352, 'minute': 2353, '#future': 2354, '#xrp': 2355, '#neo': 2356, '#government': 2357, 'leadership': 2358, 'talented': 2359, '#games': 2360, 'meaning': 2361, 'etc': 2362, '#privacy': 2363, 'quiet': 2364, '#fridayfeeling': 2365, 'strongest': 2366, 'subject': 2367, 'junhoe': 2368, 'uploades': 2369, 'yunhyeong': 2370, 'finger': 2371, 'wins': 2372, '#digitaltransformation': 2373, 'camera': 2374, '#mac': 2375, 'trip': 2376, 'd12': 2377, '#brandnew': 2378, '#midwest': 2379, '#underground': 2380, '#spin': 2381, '#bars': 2382, '#swag': 2383, 'experts': 2384, 'harry': 2385, 'remove': 2386, 'machine': 2387, 'gee': 2388, 'urge': 2389, 'switch': 2390, 'shopping': 2391, '#hilarious': 2392, 'parents': 2393, 'basic': 2394, 'expensive': 2395, 'silence': 2396, 'minister': 2397, '📻': 2398, 'DGDG-DGDG': 2399, 'station': 2400, '#analytics': 2401, 'falls': 2402, '#etsy': 2403, 'passive': 2404, '🌸': 2405, '#prizes': 2406, 'babies': 2407, 'goodness': 2408, '#power': 2409, '🇧': 2410, 'sister': 2411, 'realized': 2412, 'classes': 2413, 'register': 2414, 'individual': 2415, '#laugh': 2416, 'charge': 2417, 'putin': 2418, 'terrible': 2419, 'intelligent': 2420, 'pics': 2421, 'becoming': 2422, 'organization': 2423, 'jimmy': 2424, 'attitude': 2425, 'lips': 2426, 'dating': 2427, 'basically': 2428, 'branch': 2429, '#memesdaily': 2430, 'mentally': 2431, '#playlist': 2432, '#ebay': 2433, '🇬': 2434, 'hopefully': 2435, '#management': 2436, 'cup': 2437, 'rock': 2438, '⏩': 2439, '⏪': 2440, '#play': 2441, '#ipad': 2442, 'enjoyed': 2443, '#gamers': 2444, 'wireless': 2445, 'suddenly': 2446, 'refugees': 2447, 'agreement': 2448, 'sentence': 2449, 'chase': 2450, 'crisis': 2451, 'decided': 2452, 'shown': 2453, 'yup': 2454, '#sayings': 2455, '#satire': 2456, 'co-founder': 2457, 'aimed': 2458, 'humanity': 2459, 'taught': 2460, '#pussy': 2461, '#birthday': 2462, 'science': 2463, 'hunting': 2464, 'DGDG.DG': 2465, 'strategy': 2466, 'wondering': 2467, 'earlier': 2468, 'large': 2469, 'investors': 2470, 'meeting': 2471, 'walk': 2472, '😋': 2473, 'gay': 2474, 'growth': 2475, 'satire': 2476, '#cdnpoli': 2477, 'citizens': 2478, 'followed': 2479, 'stable': 2480, 'considered': 2481, 'freedom': 2482, 'jay': 2483, 'asset': 2484, 'commit': 2485, 'wear': 2486, 'shi': 2487, 'lazy': 2488, '#adult': 2489, '#blogging': 2490, '#mannkibaat': 2491, '्': 2492, 'named': 2493, 'distributes': 2494, 'walking': 2495, 'necessary': 2496, 'blocked': 2497, 'bigger': 2498, '#morning': 2499}\n",
      "[9, 1052, 18, 1495, 31, 2, 2, 18, 1712, 21, 2, 97, 6, 623, 2046, 2, 14, 2, 2, 15]\n"
     ]
    }
   ],
   "source": [
    "vocab = vocabulary.Vocabulary(utils.flatten(train_sentences),2500)\n",
    "x_ids = vocab.words_to_ids(train_sentences[0])\n",
    "print(\"x_ids =\", vocab.word_to_id)\n",
    "print(x_ids)"
   ]
  },
  {
   "cell_type": "code",
   "execution_count": null,
   "metadata": {
    "collapsed": true
   },
   "outputs": [],
   "source": [
    "\n"
   ]
  },
  {
   "cell_type": "code",
   "execution_count": 5,
   "metadata": {},
   "outputs": [
    {
     "name": "stdout",
     "output_type": "stream",
     "text": [
      "[[9, 1052, 18, 1495, 31, 2, 2, 18, 1712, 21, 2, 97, 6, 623, 2046, 2, 14, 2, 2, 15], [9, 76, 37, 96, 137, 341, 290, 326, 207, 5, 5], [89, 720, 2, 81, 3, 4, 5, 184], [58, 22, 2, 414, 2, 415, 297, 19, 432, 449, 40, 880, 913, 646, 251, 42, 259, 42, 252, 269, 5], [49, 165, 374, 19, 6, 2, 1178, 7, 13, 1112, 2047, 17, 156, 13, 2, 17, 156, 8, 2, 11, 13, 2, 17, 156, 11, 71, 71, 2, 2], [84, 84, 96, 27, 265, 8, 2257, 624, 11, 84, 84, 478, 674, 675, 2, 2, 2, 2, 2, 1053, 388, 36], [57, 17, 6, 446, 14, 1608, 8, 6, 220, 4, 489, 67, 119, 32, 696, 8, 881, 88, 24, 6, 395, 1609, 5], [9, 68, 8, 882, 774, 355, 44, 2, 27, 2, 88, 4, 367, 62, 1713, 18, 6, 1113, 13, 182, 2, 2, 106, 2, 1238], [27, 17, 185, 120, 77, 958, 7, 67, 2, 3, 5], [291, 7, 12, 110, 16, 78, 53, 176, 2, 4, 1714, 2, 7, 1715, 151, 266, 63, 34, 1316, 4, 479, 5, 177, 1239], [143, 58, 47, 16, 53, 11, 11, 253, 625, 35, 626, 2, 1859, 50, 159, 2, 55, 2, 6, 2258, 5], [3, 3, 52, 16, 56, 10, 1179, 2, 2, 28, 2, 13, 45, 119, 32, 696, 8, 1609, 2, 31, 2259, 2, 8, 1414, 84, 84], [143, 58, 518, 549, 519, 416, 2, 2, 804, 2, 5], [9, 65, 6, 2, 2, 166, 2, 13, 6, 2, 2, 166, 10, 1180, 2, 23, 20, 41, 103, 8, 2, 68, 82, 14, 30, 45, 51, 15], [310, 2, 7, 144, 19, 490, 2, 86, 842, 458, 2, 87, 63, 48, 1496, 254, 11, 25, 33, 108, 11, 2, 275, 11], [9, 12, 914, 10, 2260, 2, 18, 30, 959, 1317, 13, 2, 2, 17, 6, 573, 4, 2, 2, 15], [9, 34, 44, 1497, 375, 28, 10, 95, 1114, 21, 21, 1498, 676, 301, 18, 1240, 279, 81, 13, 627, 586, 1054, 86, 15], [3, 75, 50, 178, 306, 11, 1499, 915, 247, 623, 14, 23, 4], [177, 389, 380, 60, 22, 83, 36, 2, 2, 2, 2, 491, 1610, 2, 1415, 7, 508, 26, 69, 2, 5, 5], [230, 19, 6, 104, 916, 805, 1115, 21, 347, 176, 35, 917, 19, 806, 15, 5, 280, 360]]\n"
     ]
    }
   ],
   "source": [
    "list_of_train_ids = list(map(vocab.words_to_ids, train_sentences))\n",
    "print(list_of_train_ids[0:20])\n",
    "\n",
    "\n",
    "list_of_validation_ids = list(map(vocab.words_to_ids, validation_sentences))\n",
    "\n",
    "list_of_test_ids = list(map(vocab.words_to_ids, test_sentences))\n"
   ]
  },
  {
   "cell_type": "code",
   "execution_count": 6,
   "metadata": {},
   "outputs": [
    {
     "data": {
      "text/plain": [
       "Counter({2: 6,\n",
       "         6: 1,\n",
       "         9: 1,\n",
       "         14: 1,\n",
       "         15: 1,\n",
       "         18: 2,\n",
       "         21: 1,\n",
       "         31: 1,\n",
       "         97: 1,\n",
       "         623: 1,\n",
       "         1052: 1,\n",
       "         1495: 1,\n",
       "         1712: 1,\n",
       "         2046: 1})"
      ]
     },
     "execution_count": 6,
     "metadata": {},
     "output_type": "execute_result"
    }
   ],
   "source": [
    "collections.Counter(list_of_train_ids[0])"
   ]
  },
  {
   "cell_type": "code",
   "execution_count": 7,
   "metadata": {
    "collapsed": true
   },
   "outputs": [],
   "source": [
    "from scipy.sparse import csr_matrix \n",
    "def sparsify_data(list_of_ids):\n",
    "    row_indices = []\n",
    "    col_indices = []\n",
    "    values = []\n",
    "    rows = len(list_of_ids)\n",
    "\n",
    "    for row, x_ids in enumerate(list_of_ids):\n",
    "        x_fdict = collections.Counter(x_ids)\n",
    "        for wordid, count in x_fdict.items():\n",
    "            row_indices.append(row)       \n",
    "            col_indices.append(wordid)  # column is word id\n",
    "            values.append(count)        # value is count\n",
    "    x_sparse = csr_matrix((values, (row_indices, col_indices)),\n",
    "                              shape=[rows, vocab.size])\n",
    "    return x_sparse"
   ]
  },
  {
   "cell_type": "code",
   "execution_count": 8,
   "metadata": {
    "collapsed": true
   },
   "outputs": [],
   "source": [
    "x_train_sparse = sparsify_data(list_of_train_ids)\n",
    "x_validation_sparse = sparsify_data(list_of_validation_ids)\n",
    "x_test_sparse = sparsify_data(list_of_test_ids)\n"
   ]
  },
  {
   "cell_type": "code",
   "execution_count": null,
   "metadata": {
    "collapsed": true
   },
   "outputs": [],
   "source": []
  },
  {
   "cell_type": "code",
   "execution_count": 9,
   "metadata": {},
   "outputs": [
    {
     "name": "stdout",
     "output_type": "stream",
     "text": [
      " acc: 91.41%, recall: 93.33%, precision: 90.20%, f1: 91.74%,\n"
     ]
    }
   ],
   "source": [
    "from sklearn.naive_bayes import MultinomialNB\n",
    "from sklearn.metrics import f1_score, accuracy_score, recall_score, precision_score\n",
    "\n",
    "nb = MultinomialNB(alpha =  1)\n",
    "nb.fit(x_train_sparse, train_labels)\n",
    "y_pred = nb.predict(x_test_sparse)\n",
    "\n",
    "\n",
    "\n",
    "\n",
    "\n",
    "f1 = f1_score(test_labels, y_pred)\n",
    "acc = accuracy_score(test_labels, y_pred)\n",
    "recall = recall_score(test_labels, y_pred)\n",
    "precision = precision_score(test_labels, y_pred)\n",
    "print(\" acc: {:.02%}, recall: {:.02%}, precision: {:.02%}, f1: {:.02%},\".format(acc, recall, precision, f1))\n"
   ]
  },
  {
   "cell_type": "code",
   "execution_count": 10,
   "metadata": {
    "collapsed": true
   },
   "outputs": [],
   "source": [
    "linear_weights = nb.feature_log_prob_[1,:] - nb.feature_log_prob_[0,:]  # populate this with actual values\n",
    "\n",
    "top_negative_features = np.argsort(linear_weights)[0:40]\n",
    "top_positive_features = np.argsort(-linear_weights)[0:40]\n"
   ]
  },
  {
   "cell_type": "code",
   "execution_count": 11,
   "metadata": {},
   "outputs": [
    {
     "name": "stdout",
     "output_type": "stream",
     "text": [
      "Most negative features:\n",
      "  #win (-5.34)\n",
      "  ↴ (-5.27)\n",
      "  #blockchain (-5.04)\n",
      "  #giveaway (-4.99)\n",
      "  ⭐ (-4.90)\n",
      "  #photography (-4.83)\n",
      "  #job (-4.83)\n",
      "  #ico (-4.78)\n",
      "  registration (-4.61)\n",
      "  tokkens (-4.58)\n",
      "  cams (-4.58)\n",
      "  🎮 (-4.52)\n",
      "  🕰 (-4.52)\n",
      "  #health (-4.51)\n",
      "  #hiring (-4.50)\n",
      "  🖥 (-4.50)\n",
      "  💎 (-4.47)\n",
      "  #bitcoin (-4.41)\n",
      "  airdrop (-4.38)\n",
      "  #competition (-4.35)\n",
      "  #education (-4.32)\n",
      "  #cryptocurrency (-4.28)\n",
      "  blockchain (-4.22)\n",
      "  #nowplaying (-4.19)\n",
      "  #news (-4.14)\n",
      "  #luxury (-4.10)\n",
      "  #fortnite (-4.08)\n",
      "  #pop (-4.05)\n",
      "  #careerarc (-4.05)\n",
      "  #live (-4.01)\n",
      "  es (-3.99)\n",
      "  #cybersecurity (-3.99)\n",
      "  telegram (-3.99)\n",
      "  #iot (-3.99)\n",
      "  #elementary (-3.99)\n",
      "  #robotics (-3.97)\n",
      "  bitcoin (-3.97)\n",
      "  #music (-3.96)\n",
      "  #programming (-3.91)\n",
      "  ✔ (-3.89)\n",
      "\n",
      "Most positive features:\n",
      "  #jokes (4.26)\n",
      "  #puns (4.13)\n",
      "  fh__400inst (3.85)\n",
      "  soundtwit (3.85)\n",
      "  isnt (3.79)\n",
      "  font (3.55)\n",
      "  #funnyquotes (3.50)\n",
      "  tone (3.47)\n",
      "  vocalistwithhis (3.47)\n",
      "  jokes (3.31)\n",
      "  #funnysayings (3.31)\n",
      "  shocked (3.27)\n",
      "  #oneliner (3.24)\n",
      "  :@ (3.16)\n",
      "  🤦 (3.16)\n",
      "  #snarky (3.16)\n",
      "  funny (3.12)\n",
      "  mean (3.11)\n",
      "  oh (3.10)\n",
      "  wasn (3.08)\n",
      "  #wrestlemania (3.08)\n",
      "  yeah (3.05)\n",
      "  humor (3.05)\n",
      "  #linkinbio (3.03)\n",
      "  btw (3.03)\n",
      "  lol (3.02)\n",
      "  clearly (3.01)\n",
      "  racist (2.99)\n",
      "  🤷 (2.99)\n",
      "  actually (2.97)\n",
      "  🙃 (2.94)\n",
      "  worse (2.94)\n",
      "  #yankees (2.89)\n",
      "  weird (2.89)\n",
      "  dare (2.83)\n",
      "  blew (2.83)\n",
      "  wouldnt (2.83)\n",
      "  failure (2.83)\n",
      "  yes (2.82)\n",
      "  joke (2.79)\n"
     ]
    }
   ],
   "source": [
    "print(\"Most negative features:\")\n",
    "for idx in top_negative_features:\n",
    "    print(\"  {:s} ({:.02f})\".format(vocab.id_to_word[idx], \n",
    "                                    linear_weights[idx]))\n",
    "print(\"\")\n",
    "print(\"Most positive features:\")\n",
    "for idx in top_positive_features:\n",
    "    print(\"  {:s} ({:.02f})\".format(vocab.id_to_word[idx], \n",
    "                                    linear_weights[idx]))\n",
    "    \n"
   ]
  },
  {
   "cell_type": "markdown",
   "metadata": {},
   "source": [
    "###### "
   ]
  },
  {
   "cell_type": "code",
   "execution_count": null,
   "metadata": {
    "collapsed": true
   },
   "outputs": [],
   "source": []
  },
  {
   "cell_type": "code",
   "execution_count": null,
   "metadata": {
    "collapsed": true
   },
   "outputs": [],
   "source": []
  }
 ],
 "metadata": {
  "kernelspec": {
   "display_name": "Python 3",
   "language": "python",
   "name": "python3"
  },
  "language_info": {
   "codemirror_mode": {
    "name": "ipython",
    "version": 3
   },
   "file_extension": ".py",
   "mimetype": "text/x-python",
   "name": "python",
   "nbconvert_exporter": "python",
   "pygments_lexer": "ipython3",
   "version": "3.6.3"
  }
 },
 "nbformat": 4,
 "nbformat_minor": 2
}
