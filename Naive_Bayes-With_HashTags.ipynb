{
 "cells": [
  {
   "cell_type": "code",
   "execution_count": 12,
   "metadata": {},
   "outputs": [
    {
     "name": "stdout",
     "output_type": "stream",
     "text": [
      "@DouglasLNorton @RealMAGASteve @ricktator417 @CoreyLMJones @RealEagleWings @IWillRedPillU @RodStryker @securefreedom @thebradfordfile @DonnaWR8 @MICHELL59952525 @mike_Zollo @Boyd_2650 I had to check your page &amp; see whether you were cleverly using   or one of these complete jackasses...very nice to see youre the former.|None|1\r\n",
      "@MultaniSaint No I told her its a terrible place with mean   people and she wants nothing to do with it|None|1\r\n",
      "Rather than the usual  , ridicule, shame, and assumption that people have ill intent. Sometimes people screw up. Sometimes people think they are doing enough and are mistaken. Sometimes they need help. https://t.co/aetd8D2TSr|None|1\r\n",
      "@schristakos @TenticalsIn @crypt_ghost @hortaun15 @Troll_Master101 @Unpersuaded112 @Apple Yea that was   and pubg isn’t that good of a game tbh|None|1\r\n",
      "@Ayanfx09 @hshaban The internet desperately needs a   / snark / parody font. &amp; not Comic Sans, either.|None|1\r\n",
      "@asteven79 @JinxTheSavage @Galeon_98 @KOSDFF Yes I know im being   you idiot|None|1\r\n",
      "@nicholasfilipas Of course it is.  Look at my timeline.  You know I am mostly  .|None|1\r\n",
      "@Tracker_TD Obvious   is obvious|None|1\r\n",
      "@ummmno21 Yeah it appears that inside jokes and   are taken as racist remarks....I was recently accused being a racist with a   remark.. I have siblings that are Mexican and Korean smh|None|1\r\n",
      "@meknt_ Yeah, youre CLEARLY talking to all the wrong people here. Well, theres one reason right there. The   is strong with the turtle.|None|1\r\n"
     ]
    }
   ],
   "source": [
    "!tail merged_data_v4.csv"
   ]
  },
  {
   "cell_type": "code",
   "execution_count": 13,
   "metadata": {
    "collapsed": true
   },
   "outputs": [],
   "source": [
    "from __future__ import print_function\n",
    "from __future__ import division\n",
    "import collections\n",
    "import nltk\n",
    "import numpy as np\n",
    "from nltk.tokenize.casual import TweetTokenizer\n",
    "from w266_common import utils, vocabulary\n",
    "import re\n",
    "np.random.seed(266)"
   ]
  },
  {
   "cell_type": "code",
   "execution_count": 14,
   "metadata": {
    "collapsed": true
   },
   "outputs": [],
   "source": [
    "import csv\n",
    "tokenizer = TweetTokenizer()\n",
    "x_data = []\n",
    "labels = []\n",
    "sentences = []\n",
    "     \n",
    "  \n",
    "with open('merged_data_v4.csv', 'r') as csvfile:\n",
    "    linereader = csv.reader(csvfile, delimiter = '|')\n",
    "    for i, row in enumerate(linereader):\n",
    "        if i == 0:\n",
    "            continue\n",
    "        sentence, _, sarcasm = row\n",
    "        sentence = re.sub(\"RT @[^\\s]+:\", \"retweet\", sentence)\n",
    "        #sentences.append(sentence)\n",
    "        tokenized_words = tokenizer.tokenize(sentence)\n",
    "        x_tokens = utils.canonicalize_words(tokenized_words, hashtags =False)\n",
    "        index = np.argwhere(x_tokens==\"sarcasm\")\n",
    "        x_tokens = np.delete(x_tokens, index)\n",
    "        index = np.argwhere(x_tokens==\"sarcastic\")\n",
    "        x_tokens = np.delete(x_tokens, index)\n",
    "        x_data.append(x_tokens)\n",
    "        labels.append(int(sarcasm))\n",
    "\n",
    "\n",
    "shuffle_indices = np.random.permutation(np.arange(len(labels)))\n",
    "train_split_idx = int(0.7 * len(labels))\n",
    "test_split_idx  = int(0.9 * len(labels))\n",
    "\n",
    "train_indices = shuffle_indices[:train_split_idx]\n",
    "validation_indices = shuffle_indices[train_split_idx:test_split_idx]\n",
    "test_indices = shuffle_indices[test_split_idx:]\n",
    "\n",
    "x_data = np.array(x_data)\n",
    "labels = np.array(labels)\n",
    "train_sentences = x_data[train_indices]\n",
    "train_labels= labels[train_indices] \n",
    "validation_sentences = x_data[validation_indices]\n",
    "validation_labels = labels[validation_indices]\n",
    "test_sentences = x_data[test_indices]  \n",
    "test_labels = labels[test_indices]  \n",
    "\n"
   ]
  },
  {
   "cell_type": "code",
   "execution_count": 16,
   "metadata": {},
   "outputs": [
    {
     "name": "stdout",
     "output_type": "stream",
     "text": [
      "x_ids = {'<s>': 0, '</s>': 1, '<unk>': 2, 'ACCOUNT': 3, '.': 4, 'LINK': 5, 'the': 6, ',': 7, 'to': 8, 'retweet': 9, 'a': 10, '!': 11, 'i': 12, 'and': 13, 'of': 14, '…': 15, 'you': 16, 'is': 17, 'in': 18, 'for': 19, '’': 20, '?': 21, ':': 22, 'it': 23, 'on': 24, 'that': 25, '-': 26, 'this': 27, 'with': 28, '...': 29, 'my': 30, 'your': 31, 'be': 32, 'was': 33, 'are': 34, 'DG': 35, 'DGDG': 36, 'not': 37, ')': 38, '(': 39, 'at': 40, 's': 41, '️': 42, '&': 43, 'we': 44, 'all': 45, '/': 46, 'if': 47, 'have': 48, 'just': 49, 'so': 50, 't': 51, 'but': 52, 'like': 53, 'me': 54, 'can': 55, 'being': 56, 'what': 57, 'rt': 58, 'from': 59, 'now': 60, 'out': 61, 'by': 62, 'they': 63, 'our': 64, 'as': 65, 'he': 66, 'people': 67, 'about': 68, 'free': 69, 'no': 70, '😂': 71, 'or': 72, 'get': 73, 'how': 74, 'its': 75, 'do': 76, 'more': 77, 'will': 78, 'know': 79, '#': 80, 'DGDGDGDG': 81, 'one': 82, '$': 83, '*': 84, 'who': 85, 'an': 86, 'when': 87, 'up': 88, 'im': 89, 'DGDGDG': 90, '🔥': 91, '#blockchain': 92, 'good': 93, 'us': 94, 'new': 95, 'follow': 96, 'has': 97, 'here': 98, '#music': 99, 'would': 100, 'love': 101, '#bitcoin': 102, 'time': 103, 'best': 104, 'dont': 105, 'm': 106, 'his': 107, 'great': 108, 'see': 109, 'think': 110, ':/': 111, 'because': 112, 'right': 113, 'really': 114, 'only': 115, 'their': 116, 'need': 117, '#win': 118, 'should': 119, 'way': 120, 'am': 121, 'some': 122, 'there': 123, 'make': 124, 'via': 125, '“': 126, 'day': 127, 'don': 128, '↴': 129, '”': 130, 'well': 131, '#news': 132, 'were': 133, 'today': 134, 'why': 135, 'want': 136, '#funny': 137, 'had': 138, 're': 139, 'been': 140, '..': 141, 'than': 142, 'please': 143, 'thanks': 144, 'check': 145, 'sure': 146, '%': 147, 'her': 148, 'she': 149, 'most': 150, 'them': 151, 'oh': 152, 'very': 153, 'even': 154, 'go': 155, 'back': 156, '#giveaway': 157, '#cryptocurrency': 158, 'any': 159, 'going': 160, 'lol': 161, 'too': 162, 'first': 163, 'work': 164, 'got': 165, 'into': 166, 'never': 167, 'world': 168, '⭐': 169, 'off': 170, 'over': 171, 'game': 172, 'him': 173, 'online': 174, 'win': 175, 'these': 176, '#fashion': 177, 'much': 178, 'did': 179, 'then': 180, 'could': 181, 'say': 182, 'after': 183, '#photography': 184, 'still': 185, 'news': 186, 'said': 187, '#job': 188, 'march': 189, 'someone': 190, 'thats': 191, 'u': 192, 'join': 193, '#love': 194, 'youre': 195, 'those': 196, 'take': 197, 'tell': 198, 'everyone': 199, '#ico': 200, 'twitter': 201, 'use': 202, '+': 203, 'let': 204, 'enter': 205, 'thank': 206, '#lol': 207, 'sex': 208, 'chance': 209, 'cant': 210, 'live': 211, 'other': 212, 'quotes': 213, 'look': 214, 'life': 215, 'better': 216, '#crypto': 217, 'also': 218, 'thought': 219, 'tweet': 220, 'understand': 221, 'team': 222, 'mean': 223, 'again': 224, 'media': 225, '[': 226, 'come': 227, 'keep': 228, 'gun': 229, 'looking': 230, ']': 231, 'read': 232, '>': 233, 'support': 234, 'ever': 235, 'always': 236, 'thing': 237, 'registration': 238, 'yes': 239, 'yeah': 240, 'happy': 241, 'last': 242, ';': 243, 'something': 244, 'cams': 245, 'tokkens': 246, 'every': 247, 'help': 248, 'show': 249, 'white': 250, '🕰': 251, '🎮': 252, '#health': 253, 'left': 254, 'down': 255, 'actually': 256, 'trump': 257, 'many': 258, '🖥': 259, 'which': 260, 'nice': 261, '#hiring': 262, '#business': 263, 'latest': 264, 'account': 265, 'before': 266, 'real': 267, '❤': 268, '💎': 269, 'friends': 270, 'without': 271, 'feel': 272, 'made': 273, 'must': 274, 'job': 275, 'bad': 276, 'didnt': 277, 'give': 278, 'around': 279, '#tech': 280, '#ethereum': 281, 'everything': 282, 'where': 283, 'guy': 284, 'man': 285, '#socialmedia': 286, 'years': 287, '#nra': 288, 'watch': 289, '#jokes': 290, 'hey': 291, 'nothing': 292, 'airdrop': 293, 'click': 294, 'guys': 295, '🤣': 296, '#school': 297, 'hes': 298, 'things': 299, 'funny': 300, 'guns': 301, 'anyone': 302, '@': 303, 'video': 304, '#competition': 305, 'fun': 306, 'worth': 307, 'sorry': 308, 'days': 309, 'wow': 310, '#education': 311, '#ai': 312, 'does': 313, 'anything': 314, 'money': 315, 'crypto': 316, '#breaking': 317, 'wait': 318, '#marchforourlives': 319, 'person': 320, '£': 321, 'little': 322, 'big': 323, 'school': 324, 'r': 325, '#puns': 326, 'next': 327, 'away': 328, 'through': 329, 'top': 330, 'doing': 331, 'accounts': 332, 'two': 333, 'part': 334, 'blockchain': 335, 'may': 336, 'games': 337, 'another': 338, 'needs': 339, 'makes': 340, '#memes': 341, 'since': 342, 'find': 343, 'own': 344, 'using': 345, 'such': 346, 'try': 347, '#nowplaying': 348, 'internet': 349, 'few': 350, 'believe': 351, 'done': 352, 'having': 353, 've': 354, 'while': 355, 'getting': 356, 'says': 357, 'hope': 358, 'share': 359, '#technology': 360, 'community': 361, 'full': 362, 'wrong': 363, 'serious': 364, 'doesnt': 365, 'saying': 366, 'stop': 367, 'tag': 368, '🙄': 369, '😍': 370, '—': 371, 'year': 372, 'week': 373, 'home': 374, 'history': 375, 'god': 376, '#luxury': 377, 'shit': 378, 'kids': 379, 'buy': 380, 'business': 381, '‘': 382, '#fortnite': 383, 'd': 384, 'coming': 385, '\\u200d': 386, 'same': 387, '#fun': 388, '#style': 389, 'comment': 390, '#humor': 391, 'start': 392, 'sense': 393, 'put': 394, 'joke': 395, '#pop': 396, '#rock': 397, 'women': 398, '#careerarc': 399, 'trying': 400, 'morning': 401, 'playing': 402, 'future': 403, 'face': 404, 'care': 405, '#btc': 406, '#life': 407, '#cricket': 408, '#live': 409, 'didn': 410, 'facebook': 411, ':)': 412, 'w': 413, 'es': 414, '#elementary': 415, '#home': 416, 'making': 417, 'already': 418, 'season': 419, 'important': 420, 'data': 421, '#twitter': 422, ':@': 423, '#iot': 424, 'end': 425, 'doesn': 426, 'daily': 427, 'telegram': 428, '#cybersecurity': 429, 'hard': 430, 'old': 431, '#robotics': 432, 'listen': 433, 'once': 434, 'post': 435, 'soundtwit': 436, 'fh__400inst': 437, 'stupid': 438, 'bitcoin': 439, 'giveaway': 440, '#gaming': 441, 'social': 442, 'ok': 443, 'definitely': 444, '#blog': 445, 'point': 446, 'music': 447, 'h': 448, '#programming': 449, '#retweet': 450, 'house': 451, '#kids': 452, 'sale': 453, 'used': 454, 'isnt': 455, 'DGDGDGDGDG': 456, 'night': 457, 'long': 458, 'DG.DGDG': 459, '✔': 460, 'guess': 461, '#art': 462, 'glad': 463, 'ive': 464, '•': 465, 'both': 466, '#bigdata': 467, 'DG.DG': 468, 'song': 469, 'maybe': 470, 'humor': 471, 'amazing': 472, 'totally': 473, 'https': 474, 'change': 475, 'sometimes': 476, 'against': 477, '#rt': 478, '✨': 479, 'htt': 480, 'x': 481, 'words': 482, 'problem': 483, '#fintech': 484, 'group': 485, 'hours': 486, 'lot': 487, '👉': 488, 'smart': 489, 'giving': 490, 'high': 491, '#facebook': 492, 'talk': 493, 'enough': 494, 'call': 495, '#tron': 496, '🤔': 497, 'clearly': 498, 'america': 499, 'price': 500, 'summer': 501, 'international': 502, 'told': 503, '🏻': 504, 'learn': 505, 'true': 506, 'token': 507, 'black': 508, 'isn': 509, 'ill': 510, 'hate': 511, 'fans': 512, 'link': 513, '~': 514, 'service': 515, 'welcome': 516, 'apply': 517, '#interiordesign': 518, '#architecture': 519, 'else': 520, 'tweets': 521, 'article': 522, 'add': 523, 'lets': 524, 'whole': 525, 'perfect': 526, 'cool': 527, 'between': 528, 'young': 529, 'though': 530, 'spring': 531, 'million': 532, 'll': 533, 'course': 534, 'hear': 535, 'play': 536, 'might': 537, 'technology': 538, 'head': 539, '#eth': 540, 'soon': 541, 'public': 542, 'called': 543, 'open': 544, '#free': 545, 'yet': 546, '=': 547, 'ask': 548, '#decoration': 549, 'book': 550, 'less': 551, 'level': 552, 'question': 553, 'ur': 554, '#marketing': 555, 'probably': 556, 'awesome': 557, 'looks': 558, 'during': 559, 'president': 560, 'government': 561, 'gonna': 562, 'boy': 563, 'story': 564, 'hilarious': 565, 'country': 566, 'each': 567, 'kind': 568, 'gets': 569, '–': 570, 'family': 571, 'view': 572, 'reason': 573, 'starting': 574, 'ico': 575, 'place': 576, 'run': 577, '👍': 578, 'bonus': 579, 'under': 580, 'font': 581, 'gift': 582, 'name': 583, 'remember': 584, 'idea': 585, 'david': 586, 'available': 587, 'platform': 588, 'laws': 589, 'dark': 590, 'case': 591, 'least': 592, 'health': 593, 'friend': 594, 'super': 595, 'company': 596, '#funnyquotes': 597, '#anime': 598, 'human': 599, '🏼': 600, 'either': 601, 'project': 602, 'men': 603, 'bring': 604, 'single': 605, 'fake': 606, 'c': 607, 'instead': 608, 'word': 609, 'market': 610, '#ausgp': 611, 'vocalistwithhis': 612, 'official': 613, 'loving': 614, 'ready': 615, 'b': 616, 'thinking': 617, 'children': 618, '#media': 619, 'fucking': 620, 'simply': 621, 'tone': 622, 'second': 623, 'followers': 624, '#fitness': 625, 'easy': 626, 'apparently': 627, 'favorite': 628, 'bit': 629, '#hiphop': 630, 'sunday': 631, '#trx': 632, 'popular': 633, '#science': 634, 'f': 635, 'others': 636, 'until': 637, 'visit': 638, 'almost': 639, 'mind': 640, 'answer': 641, 'control': 642, 'usa': 643, 'australia': 644, 'cricket': 645, 'club': 646, 'times': 647, 'wonder': 648, 'wants': 649, 'knows': 650, '#data': 651, 'questions': 652, '#girls': 653, 'cause': 654, 'camp': 655, '#jobs': 656, 'code': 657, 'n': 658, '#maga': 659, 'works': 660, '♀': 661, 'trading': 662, 'ya': 663, 'random': 664, '#newmusic': 665, 'means': 666, 'global': 667, 'lives': 668, 'digital': 669, 'card': 670, '➡': 671, 'become': 672, 'DGDG/DG': 673, '#follow': 674, '#followme': 675, 'banned': 676, '#airdrop': 677, 'police': 678, 'yourself': 679, 'hurt': 680, 'tech': 681, '#humour': 682, '#tokensale': 683, 'lost': 684, 'arent': 685, '#history': 686, 'fuck': 687, 'sounds': 688, 'ass': 689, 'ends': 690, 'tokens': 691, 'power': 692, '#yoga': 693, 'obvious': 694, '📢': 695, 'able': 696, 'eth': 697, 'girls': 698, 'cryptocurrency': 699, '#travel': 700, 'took': 701, 'uk': 702, 'break': 703, 'party': 704, '#india': 705, '#ripple': 706, 'steve': 707, 'dude': 708, 'india': 709, 'towards': 710, 'myself': 711, 'ht': 712, 'largest': 713, 'war': 714, '<': 715, 'poor': 716, 'DGDG:DGDG': 717, 'miss': 718, 'forward': 719, 'following': 720, 'leave': 721, 'instagram': 722, 'stem': 723, 'possible': 724, '#funnysayings': 725, 'working': 726, 'takes': 727, 'talking': 728, 'DGDG.DGDG': 729, 'jokes': 730, 'comes': 731, 'pretty': 732, 'beautiful': 733, '😜': 734, 'three': 735, 'website': 736, '#satoshi': 737, 'late': 738, 'happen': 739, 'art': 740, 'water': 741, 'spent': 742, 'hit': 743, 'seems': 744, 'kill': 745, 'missed': 746, 'pay': 747, 'plan': 748, 'users': 749, '#radio': 750, '#startup': 751, 'experience': 752, 'terrorist': 753, '#innovation': 754, 'franchise': 755, '#tips': 756, 'o': 757, '🙌': 758, 'far': 759, 'china': 760, 'vs': 761, 'seen': 762, 'seriously': 763, 'shocked': 764, 'proud': 765, 'player': 766, '#security': 767, '▶': 768, 'dreams': 769, 'forget': 770, 'turn': 771, 'minutes': 772, 'hour': 773, 'tonight': 774, '#comedy': 775, 'watching': 776, 'knew': 777, 'exchange': 778, '3d': 779, 'wasnt': 780, '😉': 781, 'heres': 782, '#rap': 783, 'based': 784, 'early': 785, 'fan': 786, 'y': 787, 'calling': 788, 'id': 789, '#np': 790, '#oneliner': 791, 'hands': 792, 'event': 793, 'phone': 794, 'behind': 795, 'sports': 796, 'students': 797, 'groups': 798, 'language': 799, 'obviously': 800, 'shot': 801, 'easter': 802, 'sign': 803, 'fine': 804, 'taking': 805, 'small': 806, 'attention': 807, 'center': 808, '#machinelearning': 809, 'theres': 810, 'wont': 811, 'DG-DG': 812, '#breakingnews': 813, '#game': 814, '#photo': 815, 'violence': 816, 'anymore': 817, 'set': 818, 'sweet': 819, 'nra': 820, 'biggest': 821, 'page': 822, 'lovely': 823, '🏽': 824, 'killer': 825, '#dance': 826, 'wall': 827, '#world': 828, 'protect': 829, 'v': 830, 'happened': 831, 'design': 832, 'lmao': 833, '#quotes': 834, 'intelligence': 835, 'eyes': 836, '#2a': 837, 'incredible': 838, 'heard': 839, '💰': 840, 'body': 841, 'extra': 842, 'act': 843, 'stay': 844, 'absolutely': 845, 'ha': 846, '#snarky': 847, '#spotify': 848, '#success': 849, 'short': 850, 'interesting': 851, '🤦': 852, 'fight': 853, '#datascience': 854, 'match': 855, 'smith': 856, 'death': 857, 'air': 858, 'five': 859, 'side': 860, '🎶': 861, 'heart': 862, 'voice': 863, 'haha': 864, 'american': 865, 'dead': 866, 'tomorrow': 867, 'four': 868, '#hot': 869, '#infosec': 870, 'teacher': 871, 'designer': 872, 'items': 873, '🇺': 874, '#reality': 875, '#sports': 876, 'stuff': 877, '#airdropnew': 878, '#food': 879, 'royal': 880, 'pick': 881, 'stream': 882, 'literally': 883, 'damn': 884, 'hell': 885, '#tshirt': 886, 'bc': 887, 'wanna': 888, 'radio': 889, '#youtube': 890, 'vote': 891, 'went': 892, 'won': 893, 'started': 894, 'opening': 895, 'movie': 896, 'girl': 897, '✅': 898, 'perhaps': 899, 'amazon': 900, 'emoji': 901, '#iphone': 902, 'move': 903, 'rights': 904, 'deal': 905, 'speak': 906, 'e': 907, 'safer': 908, 'australian': 909, 'pushing': 910, '👏': 911, '#weekend': 912, 'cyber': 913, 'found': 914, 'enjoy': 915, 'note': 916, 'picks': 917, 'supposed': 918, 'theyre': 919, 'send': 920, 'personal': 921, 'dumb': 922, 'exactly': 923, 'fire': 924, 'gave': 925, 'august': 926, 'law': 927, 'wish': 928, '#work': 929, '♂': 930, 'united': 931, '#stemcamps': 932, 'list': 933, 'jesus': 934, 'ppl': 935, 'clean': 936, 'btc': 937, 'wasn': 938, 'city': 939, '#easter': 940, '#party': 941, 'past': 942, 'russia': 943, '#wrestlemania': 944, 'ahead': 945, 'class': 946, 'bitch': 947, 'final': 948, 'meet': 949, 'order': 950, 'matter': 951, 'special': 952, 'crazy': 953, '#poshmark': 954, '#shopmycloset': 955, '🇸': 956, 'graphics': 957, 'shocking': 958, 'room': 959, 'text': 960, 'honestly': 961, '#modeling': 962, 'btw': 963, 'tips': 964, 'wanted': 965, 'yay': 966, 'sad': 967, '#twitch': 968, 'society': 969, 'ban': 970, 'national': 971, 'horrible': 972, 'grow': 973, '#linkinbio': 974, 'beat': 975, '#entrepreneur': 976, '👇': 977, '💋': 978, 'smile': 979, 'finally': 980, 'truly': 981, 'review': 982, 'gaming': 983, 'industry': 984, '#social': 985, 'comments': 986, 'across': 987, 'meant': 988, '#branding': 989, 'classic': 990, 'truth': 991, '#ideas': 992, '#digitalmarketing': 993, '#porn': 994, 'believing': 995, '#earn_money': 996, 'ball': 997, '#seo': 998, 'address': 999, 'forgot': 1000, 'paul': 1001, 'system': 1002, 'dogs': 1003, 'grade': 1004, 'sell': 1005, 'birthday': 1006, 'breaking': 1007, 'paper': 1008, 'successful': 1009, 'racist': 1010, 'marketing': 1011, 'security': 1012, 'boys': 1013, 'volume': 1014, 'obama': 1015, 'youtube': 1016, '🤷': 1017, 'killed': 1018, 'details': 1019, 'front': 1020, '#beauty': 1021, 'irony': 1022, 'omg': 1023, 'silly': 1024, 'dad': 1025, 'response': 1026, 'tv': 1027, 'lie': 1028, 'imagine': 1029, 'competition': 1030, 'safe': 1031, 'drive': 1032, 'league': 1033, '🎉': 1034, 'upon': 1035, 'attack': 1036, 'ceo': 1037, '#logo': 1038, 'recommend': 1039, '！': 1040, 'save': 1041, 'mr': 1042, 'agree': 1043, 'telling': 1044, 'facts': 1045, '#sex': 1046, 'manipulating': 1047, 'hot': 1048, 'winner': 1049, 'college': 1050, '#teachingjobs': 1051, 'interested': 1052, '#cute': 1053, 'hogg': 1054, 'luck': 1055, 'car': 1056, 'learning': 1057, 'surprise': 1058, 'cold': 1059, '#dubai': 1060, 'lead': 1061, 'moment': 1062, 'laugh': 1063, 'content': 1064, 'hand': 1065, '😒': 1066, 'different': 1067, 'asking': 1068, 'came': 1069, '#politics': 1070, 'reading': 1071, 'program': 1072, '#eos': 1073, 'john': 1074, 'bio': 1075, 'turned': 1076, 'weekend': 1077, 'sleep': 1078, 'running': 1079, 'okay': 1080, 'fit': 1081, 'stand': 1082, 'total': 1083, '😭': 1084, 'DGDG/DGDG': 1085, 'network': 1086, 'trade': 1087, 'ago': 1088, 'earth': 1089, 'political': 1090, 'credit': 1091, 'light': 1092, 'strong': 1093, 'lots': 1094, 'age': 1095, 'manager': 1096, 'worse': 1097, 'wife': 1098, 'statement': 1099, '#DGDGDG': 1100, '#bigbizpro': 1101, 'massive': 1102, 'month': 1103, 'nobody': 1104, '🌿': 1105, 'worst': 1106, 'fear': 1107, 'decades': 1108, 'living': 1109, 'problems': 1110, '🙃': 1111, 'red': 1112, 'chat': 1113, 'activist': 1114, 'app': 1115, '#podcast': 1116, '#artist': 1117, 'th': 1118, 'wallet': 1119, 'goes': 1120, 'fortnite': 1121, '#ps4': 1122, 'church': 1123, '#nature': 1124, 'info': 1125, 'weeks': 1126, 'information': 1127, 'luxuryliferss': 1128, '#wine': 1129, '💥': 1130, 'woman': 1131, 'weve': 1132, '#yankees': 1133, 'prize': 1134, 'couldnt': 1135, 'heavy': 1136, '#watch': 1137, 'captain': 1138, 'feeling': 1139, '📸': 1140, 'bomb': 1141, 'excited': 1142, 'weird': 1143, 'state': 1144, 'brain': 1145, 'paying': 1146, 'points': 1147, 'position': 1148, 'town': 1149, 'male': 1150, '#today': 1151, '#xbox': 1152, 'featuring': 1153, '#cloud': 1154, '#bethereum': 1155, 'type': 1156, '💪': 1157, 'sir': 1158, 'added': 1159, '👌': 1160, 'building': 1161, 'die': 1162, 'england': 1163, 'commission': 1164, 'everybody': 1165, '#itunes': 1166, 'americans': 1167, 'whatever': 1168, 'low': 1169, 'waiting': 1170, 'gold': 1171, 'cash': 1172, 'original': 1173, 'clear': 1174, 'hashtag': 1175, 'opinion': 1176, 'idiots': 1177, 'race': 1178, 'professional': 1179, 'deep': 1180, 'wouldnt': 1181, 'key': 1182, '#smm': 1183, 'services': 1184, 'character': 1185, 'success': 1186, 'assault': 1187, 'reasons': 1188, '😎': 1189, 'rather': 1190, 'failure': 1191, 'blew': 1192, 'goal': 1193, 'ways': 1194, 'hi': 1195, 'mark': 1196, 'common': 1197, 'bag': 1198, 'cannot': 1199, 'winning': 1200, 'worked': 1201, 'whats': 1202, 'especially': 1203, 'major': 1204, 'months': 1205, 'illegal': 1206, 'results': 1207, 'thread': 1208, 'sound': 1209, 'together': 1210, 'given': 1211, 'posted': 1212, '#livebroadcasting': 1213, 'asked': 1214, 'access': 1215, '#card': 1216, '#flyer': 1217, 'ice': 1218, 'unique': 1219, '◀': 1220, 'line': 1221, 'retro': 1222, 'dare': 1223, 'politician': 1224, '🍀': 1225, 'issues': 1226, '⏬': 1227, '#nsfw': 1228, '#foxnews': 1229, 'straight': 1230, 'amendment': 1231, 'trust': 1232, '😀': 1233, 'edition': 1234, 'box': 1235, 'write': 1236, 'ी': 1237, '#stream': 1238, '#wooplr': 1239, 'germany': 1240, 'genuinely': 1241, '#stem': 1242, 'photo': 1243, 'entered': 1244, 'image': 1245, 'assume': 1246, 'happens': 1247, 'completely': 1248, 'london': 1249, 'complete': 1250, 'getreallux': 1251, 'shop': 1252, '#photos': 1253, 'insert': 1254, 'seem': 1255, '#digital': 1256, '⚡': 1257, 'gb': 1258, 'celebrate': 1259, 'lucky': 1260, 'mom': 1261, 'liberal': 1262, 'donald': 1263, 'weight': 1264, 'pm': 1265, '#realestate': 1266, '#football': 1267, 'stories': 1268, 'campaign': 1269, 'fbi': 1270, 'child': 1271, 'taken': 1272, '#gift': 1273, 'exclusive': 1274, 'folks': 1275, 'quite': 1276, 'teams': 1277, 'cloth-stagram': 1278, 'hello': 1279, 'education': 1280, 'rest': 1281, 'havent': 1282, 'communities': 1283, 'spotify': 1284, 'likes': 1285, 'l': 1286, 'needed': 1287, '#video': 1288, 'energy': 1289, 'missing': 1290, 'players': 1291, '#graphic_design': 1292, '#cover': 1293, '#resume': 1294, '#ads_design': 1295, '#instagram_ads': 1296, '#blogger': 1297, 'todays': 1298, 'dangerous': 1299, 'usually': 1300, 'vocalistwith': 1301, '😱': 1302, 'dog': 1303, 'earn': 1304, 'hair': 1305, '😊': 1306, 'de': 1307, 'loved': 1308, '#xxx': 1309, '#books': 1310, 'cheating': 1311, 'stock': 1312, '{': 1313, 'shenzhen': 1314, 'build': 1315, 'gone': 1316, 'yesterday': 1317, 'btpcrowdsale': 1318, 'likely': 1319, 'shooting': 1320, 'worry': 1321, 'blue': 1322, '->': 1323, 'rules': 1324, 'programming': 1325, 'companies': 1326, 'battle': 1327, 'pass': 1328, 'hits': 1329, 'fast': 1330, 'actual': 1331, 'built': 1332, 'tho': 1333, 'decentralized': 1334, 'conversation': 1335, 'reality': 1336, 'food': 1337, '2nd': 1338, 'force': 1339, 'offer': 1340, '#usa': 1341, 'cuz': 1342, 'books': 1343, 'bullpen': 1344, '#pinstripepride': 1345, 'v-bucks': 1346, '😁': 1347, 'star': 1348, '#weightloss': 1349, 'mouth': 1350, 'shirt': 1351, 'adult': 1352, 'plz': 1353, 'uses': 1354, '#trending': 1355, 'mike': 1356, 'simple': 1357, 'update': 1358, 'download': 1359, 'form': 1360, 'mining': 1361, 'talent': 1362, 'alert': 1363, 'rich': 1364, 'participate': 1365, 'projects': 1366, 'actions': 1367, 'thinks': 1368, 'launch': 1369, '#sexy': 1370, 'quality': 1371, '#author': 1372, 'friday': 1373, '#bitcointalk': 1374, '#xboxone': 1375, 'allowed': 1376, 'realize': 1377, 'lies': 1378, 'fair': 1379, 'russian': 1380, 'bets': 1381, 'investigation': 1382, 'schools': 1383, 'seeing': 1384, '#britishsummertime': 1385, 'prayers': 1386, 'english': 1387, 'fiverrneed': 1388, 'draw': 1389, 'bottle': 1390, 'mobile': 1391, 'goodbye': 1392, 'version': 1393, 'speaking': 1394, '💔': 1395, 'half': 1396, 'ideas': 1397, 'kid': 1398, 'fantastic': 1399, 'DG/DG': 1400, '☝': 1401, 'difficult': 1402, 'create': 1403, 'close': 1404, 'tax': 1405, 'per': 1406, 'except': 1407, 'created': 1408, 'respect': 1409, 'emma': 1410, 'lose': 1411, 'student': 1412, 'office': 1413, 'anywhere': 1414, 'cover': 1415, 'message': 1416, '#diet': 1417, '#lmao': 1418, '#lifestyle': 1419, 'weekly': 1420, '#fiction': 1421, 'kik': 1422, 'cut': 1423, 'crowd': 1424, '#change': 1425, 'film': 1426, '#soundcloud': 1427, '#inspiration': 1428, 'paid': 1429, 'guide': 1430, 'http': 1431, '#deeplearning': 1432, '#stanton': 1433, 'issue': 1434, '::': 1435, 'wine': 1436, 'round': 1437, 'supply': 1438, 'increase': 1439, 'amount': 1440, 'sick': 1441, 'inside': 1442, 'bringing': 1443, 'creative': 1444, 'collection': 1445, 'blog': 1446, 'tired': 1447, '#supercars': 1448, '#cars': 1449, '#writer': 1450, '#women': 1451, 'airport': 1452, 'exciting': 1453, 'report': 1454, 'spot': 1455, 'pop': 1456, 'ground': 1457, 'wearing': 1458, 'election': 1459, 'fall': 1460, 'kinda': 1461, '#viral': 1462, 'fact': 1463, 'alive': 1464, 'thoughts': 1465, 'printed': 1466, 'release': 1467, 'berlin': 1468, 'european': 1469, 'bank': 1470, 'villa': 1471, 'usd': 1472, 'pls': 1473, '#money': 1474, '#gamer': 1475, ':d': 1476, 'appreciate': 1477, '💕': 1478, 'drop': 1479, 'countries': 1480, 'album': 1481, 'customers': 1482, '#design': 1483, 'evil': 1484, 'touch': 1485, '#token': 1486, 'reach': 1487, 'cost': 1488, 'idk': 1489, 'qatar': 1490, '}': 1491, 'choice': 1492, 'powerful': 1493, 'calls': 1494, 'growing': 1495, 'none': 1496, 'repeating': 1497, 'hitler': 1498, 'youll': 1499, '#apple': 1500, 'expect': 1501, 'ones': 1502, 'aren': 1503, 'gotta': 1504, 'argument': 1505, 'middle': 1506, '#nfl': 1507, 'blame': 1508, 'supporters': 1509, 'surprised': 1510, 'baby': 1511, 'sit': 1512, '#artificialintelligence': 1513, '#london': 1514, '#motivation': 1515, 'throw': 1516, 'numbers': 1517, 'videos': 1518, 'yo': 1519, 'within': 1520, 'congress': 1521, '#photooftheday': 1522, 'receive': 1523, 'wit': 1524, 'model': 1525, 'mother': 1526, 'legal': 1527, 'vision': 1528, 'helping': 1529, 'intended': 1530, 'shows': 1531, 'beyond': 1532, 'loss': 1533, '#sales': 1534, 'size': 1535, 'shes': 1536, 'members': 1537, 'sales': 1538, '🙏': 1539, '#like': 1540, 'improve': 1541, 'sides': 1542, '#balltampering': 1543, 'wonderful': 1544, 'often': 1545, '🏘': 1546, 'yall': 1547, 'fitness': 1548, 'anyway': 1549, 'detailed': 1550, 'former': 1551, '#luxurycars': 1552, 'snow': 1553, 'sitting': 1554, 'stage': 1555, '#invest': 1556, 'explain': 1557, 'stars': 1558, 'DGDGDGDGDGDG': 1559, '🚀': 1560, '😘': 1561, '#app': 1562, 'artists': 1563, 'p': 1564, 'normal': 1565, '#burjkhalifa': 1566, '#emaar': 1567, '#luxuryproperty': 1568, '#connect2earth': 1569, '#lifetalks2018': 1570, '#trading': 1571, 'double': 1572, 'bill': 1573, '#wordpress': 1574, 'worlds': 1575, 'copy': 1576, 'training': 1577, '#meme': 1578, 'customer': 1579, 'fancy': 1580, 'weather': 1581, 'cute': 1582, 'main': 1583, '#f1': 1584, 'google': 1585, 'written': 1586, 'profile': 1587, 'drink': 1588, 'cards': 1589, 'coverage': 1590, 'cat': 1591, 'picture': 1592, 'interview': 1593, 'reply': 1594, '🎵': 1595, 'shut': 1596, 'handle': 1597, 'gonzalez': 1598, '🎹': 1599, '💙': 1600, 'coin': 1601, 'ryan': 1602, 'joe': 1603, 'ो': 1604, 'hold': 1605, 'academy': 1606, 'legit': 1607, 'adding': 1608, 'easily': 1609, 'performance': 1610, 'huge': 1611, 'master': 1612, 'leaving': 1613, 'shame': 1614, 'changing': 1615, '#quote': 1616, 'perfectly': 1617, '):': 1618, 'ai': 1619, 'web': 1620, 'pack': 1621, 'ads': 1622, '#ml': 1623, 'south': 1624, '#follome': 1625, '#follwme': 1626, 'father': 1627, 'related': 1628, '#summercamp': 1629, ':-)': 1630, 'land': 1631, 'sack': 1632, 'themselves': 1633, 'focus': 1634, 'nature': 1635, 'lat': 1636, 'tried': 1637, 'blood': 1638, 'contracts': 1639, 'site': 1640, 'catch': 1641, 'soul': 1642, '#shop': 1643, 'greatest': 1644, 'physical': 1645, 'crime': 1646, '#workout': 1647, '#google': 1648, 'monday': 1649, '#coffee': 1650, 'fault': 1651, 'action': 1652, 'lord': 1653, 'king': 1654, 'drawing': 1655, '#mobile': 1656, 'feed': 1657, '#gamedev': 1658, 'received': 1659, 'showing': 1660, 'difference': 1661, '😏': 1662, 'cry': 1663, '😩': 1664, '#android': 1665, 'teachers': 1666, '#giftideas': 1667, '#background_removehttps': 1668, '✈': 1669, '™': 1670, 'favourite': 1671, '1st': 1672, 'putting': 1673, 'sent': 1674, 'including': 1675, '#model': 1676, 'couple': 1677, 'youve': 1678, 'private': 1679, '#nyc': 1680, 'value': 1681, 'longer': 1682, 'corrupt': 1683, 'contest': 1684, 'press': 1685, '#porno': 1686, 'outside': 1687, '3rd': 1688, 'millions': 1689, '#awesome': 1690, 'anniversary': 1691, 'due': 1692, 'lying': 1693, 'involved': 1694, 'coffee': 1695, '#girl': 1696, 'below': 1697, 'however': 1698, 'episode': 1699, 'leader': 1700, 'murdered': 1701, 'effort': 1702, 'arizona': 1703, 'la': 1704, 'mad': 1705, 'solution': 1706, 'search': 1707, '∈': 1708, 'arab': 1709, 'doha': 1710, '12th': 1711, 'europe': 1712, 'jump': 1713, 'limited': 1714, 'grab': 1715, '#bounty': 1716, 'award': 1717, 'caught': 1718, 'cambridge': 1719, '`': 1720, '#onair': 1721, 'busy': 1722, 'quick': 1723, '#spring': 1724, 'mass': 1725, 'example': 1726, 'certain': 1727, '#hits': 1728, 'quote': 1729, 'couldn': 1730, 'green': 1731, 'g': 1732, '#oldies': 1733, 'inc': 1734, 'happening': 1735, 'track': 1736, 'piece': 1737, 'woke': 1738, 'detect': 1739, 'states': 1740, '#trump': 1741, 'genius': 1742, 'moments': 1743, '#saturday': 1744, 'surely': 1745, ';)': 1746, 'killing': 1747, 'include': 1748, '#altcoin': 1749, 'asshole': 1750, 'justice': 1751, 'chris': 1752, '#new': 1753, 'opportunity': 1754, '#royalcyberclub': 1755, 'series': 1756, 'rajasthan': 1757, 'royals': 1758, 'decides': 1759, 'york': 1760, 'symbol': 1761, 'currently': 1762, '#notfeelingit': 1763, '#next': 1764, 'filled': 1765, 'yasss': 1766, 'daughter': 1767, '#support': 1768, 'dry': 1769, '👊': 1770, 'officially': 1771, 'skin': 1772, 'liberals': 1773, 'yea': 1774, 'along': 1775, 'effective': 1776, 'finish': 1777, '#guns': 1778, 'xbl': 1779, 'gl': 1780, 'seas': 1781, 'flat': 1782, 'hat': 1783, 'chinese': 1784, 'computer': 1785, 'planning': 1786, '#metal': 1787, 'bro': 1788, 'plus': 1789, 'da': 1790, 'upset': 1791, 'supporting': 1792, '#sundaymorning': 1793, 'number': 1794, 'nation': 1795, 'later': 1796, 'luxuryhello': 1797, 'third': 1798, '30th': 1799, 'self': 1800, '♥': 1801, '#funniest': 1802, 'idiot': 1803, 'banking': 1804, 'brilliant': 1805, 'british': 1806, 'xbox': 1807, 'spain': 1808, 'beating': 1809, '#contest': 1810, 'highly': 1811, 'fresh': 1812, 'knowing': 1813, 'whether': 1814, 'gives': 1815, 'modern': 1816, 'notificati': 1817, '♫': 1818, '#researchpreneur': 1819, 'brown': 1820, 'generation': 1821, 'starts': 1822, 'ended': 1823, '#image': 1824, 'development': 1825, '#jokeoftheday': 1826, 'dream': 1827, 'jobs': 1828, 'youd': 1829, 'awp': 1830, 'rude': 1831, 'status': 1832, 'letter': 1833, 'bet': 1834, 'block': 1835, 'fee': 1836, '#bitcoincash': 1837, 'shouldn': 1838, 'fashion': 1839, 'dm': 1840, 'tools': 1841, 'discount': 1842, 'DG/DGDG': 1843, 'financial': 1844, 'unknown': 1845, 'dear': 1846, '🔫': 1847, '#decentralized': 1848, 'bags': 1849, '🌹': 1850, 'threats': 1851, 'west': 1852, 'fb': 1853, 'secure': 1854, 'honest': 1855, '🚨': 1856, 'born': 1857, 'debate': 1858, 'recipes': 1859, 'k': 1860, '#country': 1861, '#team': 1862, 'dramatic': 1863, '#japan': 1864, 'murder': 1865, '🐕': 1866, '#contentmarketing': 1867, 'ah': 1868, 'keeping': 1869, 'announce': 1870, 'saturday': 1871, 'april': 1872, 'acting': 1873, '#careers': 1874, 'conference': 1875, 'judge': 1876, 'acceptable': 1877, 'chill': 1878, 'startup': 1879, '#jazz': 1880, '#insurtech': 1881, 'checkout': 1882, 'expected': 1883, 'runs': 1884, 'hearing': 1885, 'apologies': 1886, 'sincere': 1887, 'secret': 1888, 'bomber': 1889, 'congratulations': 1890, 'violent': 1891, 'lunch': 1892, '#startups': 1893, 'participation': 1894, 'toy': 1895, 'promo': 1896, '#bloggersrequired': 1897, '#bloggerssparkle': 1898, '#bloggerssupportingbloggers': 1899, '#grlpwr': 1900, '#readme': 1901, '#secrets': 1902, '#whathappensnext': 1903, '#saywhat': 1904, '#blogginggals': 1905, '#yesshedid': 1906, '#prepareyourselves': 1907, 'announcement': 1908, 'useful': 1909, 'helps': 1910, 'gop': 1911, '#leadership': 1912, 'kit': 1913, '💀': 1914, 'delicious': 1915, 'businesses': 1916, 'constantly': 1917, 'fighting': 1918, 'assad': 1919, 'tweeted': 1920, 'develop': 1921, 'canada': 1922, 'worldwide': 1923, 'guarantee': 1924, 'bounty': 1925, 'local': 1926, 'overview': 1927, 'bulletproof': 1928, '#aircraft': 1929, 'parliament': 1930, 'stormy': 1931, 't-shirts': 1932, 'healthy': 1933, 'directly': 1934, 'flight': 1935, 'standard': 1936, 'date': 1937, 'partners': 1938, 't-shirt': 1939, 'target': 1940, 'grand': 1941, 'football': 1942, 'thousands': 1943, 'laughing': 1944, 'afternoon': 1945, 'caption': 1946, 'turns': 1947, 'armed': 1948, 'apple': 1949, '#videogames': 1950, 'voted': 1951, 'creating': 1952, 'harder': 1953, 'driver': 1954, 'dripping': 1955, 'senior': 1956, 'lack': 1957, 'relationship': 1958, 'tip': 1959, 'nudes': 1960, 'fox': 1961, 'offended': 1962, 'advice': 1963, 'known': 1964, 'noted': 1965, 'tiny': 1966, 'proof': 1967, 'raised': 1968, 'correct': 1969, '#DGDG': 1970, 'eye': 1971, '#annoyed': 1972, 'invite': 1973, '#indiedev': 1974, 'afraid': 1975, '#luxurywatch': 1976, '#luxurylife': 1977, 'voucher': 1978, 'genuine': 1979, '😅': 1980, 'raise': 1981, '#80s': 1982, '#90s': 1983, 'ipl': 1984, 'impact': 1985, 'excellent': 1986, 'ultimate': 1987, 'threat': 1988, '#podernfamily': 1989, 'movies': 1990, 'co': 1991, '#sunday': 1992, 'hillary': 1993, '#dystopiancomedy': 1994, 'band': 1995, 'similar': 1996, 'products': 1997, '★': 1998, 'trumps': 1999, 'graphite': 2000, '☘': 2001, 'recent': 2002, 'director': 2003, '🎂': 2004, 'mine': 2005, '🎁': 2006, '⬅': 2007, 'weapons': 2008, '#night': 2009, 'tells': 2010, 'paris': 2011, 'holding': 2012, '📷': 2013, 'christian': 2014, 'DGDGDG.DGDG': 2015, 'certainly': 2016, 'foundation': 2017, 'trouble': 2018, 'choose': 2019, 'af': 2020, 'term': 2021, 'met': 2022, 'possibly': 2023, 'personality': 2024, 'mood': 2025, 'test': 2026, 'evolve': 2027, 'expire': 2028, 'channel': 2029, 'politicians': 2030, 'congrats': 2031, 'unless': 2032, 'traffic': 2033, 'deleted': 2034, '💖': 2035, 'swear': 2036, '😆': 2037, 'billion': 2038, 'innocent': 2039, 'brexit': 2040, 'disgusting': 2041, '#vintage': 2042, 'felt': 2043, 'failed': 2044, '❄': 2045, 'highest': 2046, 'horse': 2047, 'girlfriend': 2048, 'oil': 2049, 'shoot': 2050, 'everywhere': 2051, 'deserve': 2052, 'published': 2053, 'dogland': 2054, '👀': 2055, 'bunch': 2056, 'benefits': 2057, 'fix': 2058, 'replied': 2059, 'himself': 2060, 'present': 2061, 'aint': 2062, '#uk': 2063, '#worldrecord': 2064, 'cram': 2065, '#24ho': 2066, 'somebody': 2067, 'twice': 2068, 'hero': 2069, 'multiple': 2070, 'valley': 2071, 'healthcare': 2072, 'talks': 2073, '🏾': 2074, 'recognize': 2075, 'brand': 2076, 'actor': 2077, 'advanced': 2078, '#dj': 2079, '#industry40': 2080, 'harsh': 2081, 'destroy': 2082, '#cnn': 2083, '#laughter': 2084, 'trx': 2085, '▪': 2086, 'skills': 2087, 'feat': 2088, 'keeps': 2089, '#googleplay': 2090, 'characters': 2091, 'usual': 2092, 'defense': 2093, 'liked': 2094, '#instagram': 2095, 'applications': 2096, 'artificial': 2097, '🎧': 2098, 'ft': 2099, '😈': 2100, 'waste': 2101, 'racing': 2102, '#altcoins': 2103, 'east': 2104, '🕊': 2105, 'syria': 2106, 'logic': 2107, 'brothers': 2108, '#agile': 2109, 'looked': 2110, 'infographic': 2111, 'flash': 2112, 'policy': 2113, 'feelings': 2114, 'joking': 2115, 'exist': 2116, 'awful': 2117, 'road': 2118, '#irony': 2119, 'soft': 2120, 'strip': 2121, 'junior': 2122, 'revolution': 2123, 'austin': 2124, 'claim': 2125, 'z': 2126, '#writing': 2127, '#poetry': 2128, 'brings': 2129, '#savaus': 2130, 'finished': 2131, 'humans': 2132, 'comedy': 2133, 'twitch': 2134, 'scandal': 2135, 'ending': 2136, 'gorgeous': 2137, 'bucket': 2138, '#espn': 2139, 'modi': 2140, 'ability': 2141, 'spin': 2142, '#michigan': 2143, '#amwriting': 2144, 'boost': 2145, 'research': 2146, '❥': 2147, 'recently': 2148, 'spread': 2149, 'died': 2150, 'sun': 2151, 'ps4': 2152, 'shed': 2153, 'treats': 2154, 't.co/nd2isszilk': 2155, 'posts': 2156, '#stocks': 2157, 'iq': 2158, '\\U0001f92a': 2159, '#profit': 2160, 'potential': 2161, '#follo': 2162, '#marriedlife': 2163, '#desertplan': 2164, '#roadtrip': 2165, '#silverlining': 2166, 'culture': 2167, '#time': 2168, '🌎': 2169, '#book': 2170, 'refuse': 2171, 'hidden': 2172, 'purchase': 2173, 'attempt': 2174, 'decide': 2175, '#song': 2176, 'forever': 2177, '#lastfm': 2178, 'changes': 2179, '#winning': 2180, 'meme': 2181, '#marchmadness': 2182, 'soros': 2183, 'ecosystem': 2184, 'vintage': 2185, 'environment': 2186, 'sending': 2187, 'entire': 2188, 'street': 2189, 'peter': 2190, 'host': 2191, 'current': 2192, '☑': 2193, 'lady': 2194, '🙂': 2195, 'administration': 2196, '#friends': 2197, 'step': 2198, 'scared': 2199, 'steps': 2200, 'whos': 2201, 'betting': 2202, '#ios': 2203, '. . .': 2204, '#bch': 2205, 'officers': 2206, 'epic': 2207, 'tour': 2208, 'developpements': 2209, '#cryptocur': 2210, '#designer': 2211, 'tickets': 2212, 'suspect': 2213, '🐣': 2214, 'decision': 2215, 'risk': 2216, 'pre-ico': 2217, '#forex': 2218, 'mini': 2219, 'ा': 2220, '#emmagonzalez': 2221, '#emma': 2222, '#btu': 2223, 'kidding': 2224, '#blockchaintechnology': 2225, 'crap': 2226, 'positive': 2227, 'workout': 2228, '#ecommerce': 2229, '🎼': 2230, 'roll': 2231, 'spending': 2232, 'politics': 2233, 'offering': 2234, '#brexit': 2235, 'pro': 2236, 'till': 2237, 'announced': 2238, 'fluent': 2239, 'proceedings': 2240, 'madrid': 2241, 'arpaio': 2242, 'libera': 2243, 'क': 2244, 'द': 2245, 'garden': 2246, 'hasnt': 2247, '\\U0001f92f': 2248, 'rs': 2249, '☀': 2250, 'train': 2251, 'trends': 2252, 'hospital': 2253, 'spirit': 2254, 'ladies': 2255, '⇨': 2256, 'gain': 2257, 'diet': 2258, 'plane': 2259, 'bed': 2260, 'several': 2261, 'sounded': 2262, 'attacks': 2263, '#listen': 2264, '#creativity': 2265, '#classes': 2266, '#designing': 2267, '#legos': 2268, 'role': 2269, 'played': 2270, 'analytica': 2271, 'style': 2272, '#mining': 2273, 'park': 2274, 'saw': 2275, 'rocks': 2276, 'further': 2277, 'royale': 2278, '#ps4pro': 2279, '#amazon': 2280, 'operations': 2281, '#vr': 2282, 'republicans': 2283, 'promote': 2284, 'tough': 2285, 'indeed': 2286, 'software': 2287, 'seconds': 2288, 'podcast': 2289, 'source': 2290, 'reveals': 2291, 'title': 2292, '#vegan': 2293, 'winter': 2294, 'career': 2295, 'eating': 2296, 'absolute': 2297, 'peoples': 2298, 'ca': 2299, '#litecoin': 2300, 'provide': 2301, 'haven': 2302, 'assistant': 2303, 'enjoying': 2304, 'spend': 2305, '#سنابات_فهد_ال_حركان': 2306, '#not': 2307, 'boss': 2308, 'non': 2309, 'maga': 2310, '#iiot': 2311, 'sh': 2312, 'broke': 2313, 'somewhat': 2314, 'ltc': 2315, 'wars': 2316, '#exercise': 2317, 'near': 2318, '#movies': 2319, 'featured': 2320, 'nfl': 2321, '#socialmediamarketing': 2322, 'prevention': 2323, 'activists': 2324, 'ride': 2325, 'dinner': 2326, 'trolling': 2327, '#futurist': 2328, 'playlist': 2329, '#austinbombings': 2330, 'flag': 2331, 'standing': 2332, 'shift': 2333, 'tr': 2334, 'currency': 2335, 'daniels': 2336, 'conservative': 2337, '#clothing': 2338, 'cell': 2339, 'anime': 2340, 'clever': 2341, 'powell': 2342, 'bull': 2343, 'mathematics': 2344, 'analyst': 2345, 'fund': 2346, 'base': 2347, 'drugs': 2348, 'integration': 2349, 'duh': 2350, 'victory': 2351, '#insurance': 2352, 'minute': 2353, '#future': 2354, '#xrp': 2355, '#neo': 2356, '#government': 2357, 'leadership': 2358, 'talented': 2359, '#games': 2360, 'meaning': 2361, 'etc': 2362, '#privacy': 2363, 'quiet': 2364, '#fridayfeeling': 2365, 'strongest': 2366, 'subject': 2367, 'junhoe': 2368, 'uploades': 2369, 'yunhyeong': 2370, 'finger': 2371, 'wins': 2372, '#digitaltransformation': 2373, 'camera': 2374, '#mac': 2375, 'trip': 2376, 'd12': 2377, '#brandnew': 2378, '#midwest': 2379, '#underground': 2380, '#spin': 2381, '#bars': 2382, '#swag': 2383, 'experts': 2384, 'harry': 2385, 'remove': 2386, 'machine': 2387, 'gee': 2388, 'urge': 2389, 'switch': 2390, 'shopping': 2391, '#hilarious': 2392, 'parents': 2393, 'basic': 2394, 'expensive': 2395, 'silence': 2396, 'minister': 2397, '📻': 2398, 'DGDG-DGDG': 2399, 'station': 2400, '#analytics': 2401, 'falls': 2402, '#etsy': 2403, 'passive': 2404, '🌸': 2405, '#prizes': 2406, 'babies': 2407, 'goodness': 2408, '#power': 2409, '🇧': 2410, 'sister': 2411, 'realized': 2412, 'classes': 2413, 'register': 2414, 'individual': 2415, '#laugh': 2416, 'charge': 2417, 'putin': 2418, 'terrible': 2419, 'intelligent': 2420, 'pics': 2421, 'becoming': 2422, 'organization': 2423, 'jimmy': 2424, 'attitude': 2425, 'lips': 2426, 'dating': 2427, 'basically': 2428, 'branch': 2429, '#memesdaily': 2430, 'mentally': 2431, '#playlist': 2432, '#ebay': 2433, '🇬': 2434, 'hopefully': 2435, '#management': 2436, 'cup': 2437, 'rock': 2438, '⏩': 2439, '⏪': 2440, '#play': 2441, '#ipad': 2442, 'enjoyed': 2443, '#gamers': 2444, 'wireless': 2445, 'suddenly': 2446, 'refugees': 2447, 'agreement': 2448, 'sentence': 2449, 'chase': 2450, 'crisis': 2451, 'decided': 2452, 'shown': 2453, 'yup': 2454, '#sayings': 2455, '#satire': 2456, 'co-founder': 2457, 'aimed': 2458, 'humanity': 2459, 'taught': 2460, '#pussy': 2461, '#birthday': 2462, 'science': 2463, 'hunting': 2464, 'DGDG.DG': 2465, 'strategy': 2466, 'wondering': 2467, 'earlier': 2468, 'large': 2469, 'investors': 2470, 'meeting': 2471, 'walk': 2472, '😋': 2473, 'gay': 2474, 'growth': 2475, 'satire': 2476, '#cdnpoli': 2477, 'citizens': 2478, 'followed': 2479, 'stable': 2480, 'considered': 2481, 'freedom': 2482, 'jay': 2483, 'asset': 2484, 'commit': 2485, 'wear': 2486, 'shi': 2487, 'lazy': 2488, '#adult': 2489, '#blogging': 2490, '#mannkibaat': 2491, '्': 2492, 'named': 2493, 'distributes': 2494, 'walking': 2495, 'necessary': 2496, 'blocked': 2497, 'bigger': 2498, '#morning': 2499, 'allow': 2500, '#tits': 2501, 'dirty': 2502, 'process': 2503, 'friendly': 2504, 'everyday': 2505, '#tunein': 2506, 'initial': 2507, '#house': 2508, 'village': 2509, 'disappointed': 2510, 'chocolate': 2511, 'begin': 2512, '📈': 2513, 'stick': 2514, 'planet': 2515, 'store': 2516, '🇲': 2517, 'speaks': 2518, 'custom': 2519, 'loves': 2520, 'area': 2521, 'cases': 2522, 'included': 2523, 'victim': 2524, 'injured': 2525, 'became': 2526, 'st': 2527, '#me': 2528, '#ether': 2529, '\\U0001f9df': 2530, '#boobs': 2531, 'wild': 2532, 'parkland': 2533, '#weather': 2534, 'launches': 2535, 'sucks': 2536, 'ratings': 2537, '🌟': 2538, '#cum': 2539, 'sexy': 2540, 'remark': 2541, 'dollar': 2542, 'valid': 2543, 'oracle': 2544, 'wisdom': 2545, '#followers': 2546, 'ticket': 2547, 'rain': 2548, 'bug': 2549, 'shipping': 2550, 'nonsense': 2551, '#deletefacebook': 2552, '#joke': 2553, 'iphone': 2554, 'golden': 2555, 'comic': 2556, 'cops': 2557, 'steal': 2558, 'classy': 2559, 'cheat': 2560, 'device': 2561, 'democrat': 2562, 'importance': 2563, '#sport': 2564, 'seat': 2565, 'board': 2566, '21st': 2567, 'snap': 2568, 'hollywood': 2569, 'emerging': 2570, 'cc': 2571, 'hypocrisy': 2572, 'color': 2573, 'offense': 2574, 'calm': 2575, 'bombs': 2576, '#russian': 2577, 'dealing': 2578, 'simon': 2579, '#conference': 2580, 'cos': 2581, 'appreciated': 2582, '#etsyshop': 2583, '#kawaii': 2584, 'retweeted': 2585, '#leagueoflegends': 2586, '#journalism': 2587, 'summit': 2588, 'daniel': 2589, 'aside': 2590, 'bs': 2591, 'military': 2592, 'knife': 2593, '#guncontrol': 2594, '#gunreformnow': 2595, '#neveragain': 2596, 'shout': 2597, 'general': 2598, 'bullet': 2599, 'partnership': 2600, '#shirt': 2601, 'ho': 2602, 'kitchen': 2603, 'therapy': 2604, 'professor': 2605, 'speech': 2606, 'centre': 2607, 'tackle': 2608, 'solo': 2609, 'italian': 2610, 'district': 2611, 'medical': 2612, 'rising': 2613, 'repeat': 2614, 'fully': 2615, 'fail': 2616, '#retail': 2617, 'finest': 2618, 'mens': 2619, '#people': 2620, 'sugar': 2621, 'balanced': 2622, 'greenbriar': 2623, 'luxury': 2624, 'held': 2625, 'western': 2626, '#dash': 2627, 'releases': 2628, 'attained': 2629, 'wealth': 2630, 'space': 2631, 'opportunities': 2632, 'schnorr': 2633, 'signatures': 2634, 'confidential': 2635, 'falling': 2636, 'options': 2637, 'leaders': 2638, 'zero': 2639, '😝': 2640, 'above': 2641, 'prepaid': 2642, 'refill': 2643, 'reporting': 2644, '😨': 2645, 'loyal': 2646, 'protocol': 2647, 'statistics': 2648, 'cape': 2649, 'extreme': 2650, '#crowdfunding': 2651, 'figure': 2652, 'wake': 2653, 'mental': 2654, 'lisa': 2655, 'erc': 2656, 'tongue': 2657, '#cambridgeanalytica': 2658, 'mate': 2659, '#happiness': 2660, 'confused': 2661, 'matt': 2662, 'zuckerberg': 2663, 'tim': 2664, 'helped': 2665, 'responsible': 2666, 'opinions': 2667, '#banking': 2668, 'nah': 2669, 'mystery': 2670, 'romantic': 2671, 'continue': 2672, 'wise': 2673, 'san': 2674, 'context': 2675, '#d12': 2676, '#thanks': 2677, '💯': 2678, 'windows': 2679, '#thr': 2680, '🏆': 2681, 'bus': 2682, 'terrorism': 2683, 'introduce': 2684, 'cpr': 2685, 'automatically': 2686, 'joy': 2687, '【': 2688, '#horny': 2689, 'khan': 2690, 'praise': 2691, 'rated': 2692, 'pr': 2693, '#sky': 2694, 'angry': 2695, 'pulled': 2696, 'wrote': 2697, 'rolling': 2698, '#infographic': 2699, '#photographer': 2700, 'engineer': 2701, '#gin': 2702, '#prizedraw': 2703, 'sexual': 2704, 'scotland': 2705, 'sing': 2706, 'mission': 2707, 'cryptobank': 2708, 'sector': 2709, '#ux': 2710, 'paradigm': 2711, 'otherwise': 2712, 'regard': 2713, 'faith': 2714, '👑': 2715, 'noticed': 2716, 'travel': 2717, 'honesty': 2718, 'carry': 2719, 'snark': 2720, 'spice': 2721, 'range': 2722, '#freebiefriday': 2723, 'inauguration': 2724, 'brought': 2725, 'disagree': 2726, '😮': 2727, 'prefer': 2728, '#retrogaming': 2729, 'ben': 2730, '#70s': 2731, '#peace': 2732, 'reached': 2733, '#stevesmith': 2734, 'sport': 2735, 'nope': 2736, '#tnw': 2737, 'fly': 2738, '#america': 2739, 'events': 2740, '#jewelry': 2741, 'nearly': 2742, 'bar': 2743, 'systems': 2744, 'prove': 2745, '#thinkbigsundaywithmarsha': 2746, 'cloud': 2747, 'explaining': 2748, '#developer': 2749, 'perfected': 2750, 'fat': 2751, 'progressive': 2752, '#bot': 2753, '#podcasts': 2754, 'cuts': 2755, 'pictures': 2756, 'bless': 2757, 'ath': 2758, 'quickly': 2759, 'allows': 2760, 'goals': 2761, '#ecosystem': 2762, 'driving': 2763, '#2adefenders': 2764, 'mexico': 2765, '🤗': 2766, '#erc20': 2767, 'net': 2768, 'primary': 2769, 'demand': 2770, 'android': 2771, 'porn': 2772, 'gif': 2773, '#ass': 2774, '#friday': 2775, '#prayer': 2776, 'mar': 2777, 'DGDGDG.DG': 2778, 'registering': 2779, '#deals': 2780, '#xvg': 2781, '#market': 2782, '#fragrance': 2783, '#connectx': 2784, 'shouldnt': 2785, '#livepd': 2786, 'theyve': 2787, '🍷': 2788, 'safely': 2789, '#youth': 2790, 'answers': 2791, '#rockon': 2792, '#scotland': 2793, 'prison': 2794, 'xrp': 2795, 'jack': 2796, 'memes': 2797, 'predictions': 2798, 'concept': 2799, 'andrew': 2800, '🌷': 2801, 'promise': 2802, '#brand': 2803, 'yoga': 2804, '✌': 2805, 'expert': 2806, 'crimes': 2807, 'humour': 2808, 'excuse': 2809, 'avoid': 2810, 'analysis': 2811, '19th': 2812, '#truth': 2813, 'according': 2814, '#healthcare': 2815, 'extended': 2816, 'average': 2817, 'exists': 2818, 'shared': 2819, '#american': 2820, 'wtf': 2821, 'े': 2822, 'lower': 2823, 'depends': 2824, 'crying': 2825, 'north': 2826, 'picking': 2827, 'turning': 2828, 'medium': 2829, 'union': 2830, 'families': 2831, 'investment': 2832, '#makeup': 2833, 'amp': 2834, 'glass': 2835, 'propaganda': 2836, '#csgogiveaway': 2837, '☕': 2838, 'fav': 2839, 'puts': 2840, 'entertaining': 2841, 'un': 2842, 'farm': 2843, '#organic': 2844, '#internetradio': 2845, '#hr': 2846, 'treat': 2847, 'patience': 2848, '10x': 2849, 'selection': 2850, 'egg': 2851, 'whose': 2852, 'negative': 2853, 'pull': 2854, 'corporate': 2855, '#tokens': 2856, 'path': 2857, 'criminal': 2858, 'thankful': 2859, 'greater': 2860, 'animal': 2861, 'mention': 2862, 'bbc': 2863, 'relationships': 2864, '#summer': 2865, '#blockc': 2866, '#newsoftheweek': 2867, 'female': 2868, 'session': 2869, '#cryptonews': 2870, 'nintendo': 2871, '#children': 2872, '#streaming': 2873, '#yoomipha': 2874, 'depression': 2875, 'watches': 2876, 'nba': 2877, 'stupidity': 2878, 'otppay': 2879, '#monday': 2880, 'rate': 2881, 'worthy': 2882, 'translate': 2883, 'ex': 2884, '#launch': 2885, 'bought': 2886, 'study': 2887, '💞': 2888, 'era': 2889, 'al': 2890, 'bot': 2891, '#chil': 2892, '#freshsound': 2893, '#ad': 2894, 'smell': 2895, 'resources': 2896, 'court': 2897, 'afford': 2898, 'odds': 2899, 'emojis': 2900, '#smile': 2901, 'besides': 2902, 'jeff': 2903, 'door': 2904, 'hiring': 2905, '#thecountyline': 2906, '#learning': 2907, 'construct': 2908, 'email': 2909, 'sky': 2910, 'anonymous': 2911, 'biased': 2912, 'benefit': 2913, 'teen': 2914, '#fakenews': 2915, 'ignore': 2916, '#community': 2917, '#rnb': 2918, 'agreeing': 2919, 'steel': 2920, 'pure': 2921, 'tests': 2922, 'journalism': 2923, 'crack': 2924, 'giant': 2925, 'augmented': 2926, '#dataviz': 2927, 'reports': 2928, 'full-time': 2929, '#career': 2930, 'tad': 2931, 'conservatives': 2932, 'dj': 2933, 'xd': 2934, 'german': 2935, '#snarkyq': 2936, 'pointing': 2937, '#bbc': 2938, 'bolton': 2939, '💜': 2940, 'hoping': 2941, 'communication': 2942, 'easier': 2943, 'q': 2944, 'bch': 2945, '#jesus': 2946, 'cups': 2947, 'non-stop': 2948, '#subscribe': 2949, '#share': 2950, 'tend': 2951, '#livestreaming': 2952, 'yrs': 2953, 'owners': 2954, 'ashamed': 2955, 'listening': 2956, '😐': 2957, '#windows': 2958, 'warm': 2959, 'connect': 2960, 'van': 2961, 'letters': 2962, 'slow': 2963, '#lovetwitter': 2964, 'bear': 2965, 'educated': 2966, '#dogs': 2967, '#geek': 2968, 'accept': 2969, 'return': 2970, 'recognition': 2971, 'measure': 2972, 'preventive': 2973, 'beauty': 2974, 'activities': 2975, 'solve': 2976, 'ignorant': 2977, 'presidential': 2978, 'candidate': 2979, 'speaker': 2980, 'watched': 2981, 'island': 2982, 'winners': 2983, 'interest': 2984, 'dc': 2985, 'bsc': 2986, 'graduate': 2987, '#futureofwork': 2988, 'army': 2989, '#icomarketi': 2990, 'broken': 2991, 'begins': 2992, '#you': 2993, 'tron': 2994, 'evening': 2995, '#sandpapergate': 2996, '#shopping': 2997, 'beer': 2998, 'led': 2999, 'executive': 3000, 'extremely': 3001, '#event': 3002, 'breaks': 3003, 'backed': 3004, 'ann': 3005, 'ar': 3006, 'mac': 3007, '#camera': 3008, 'tries': 3009, '#block': 3010, 'delivered': 3011, 'fucked': 3012, 'kane': 3013, '#opensource': 3014, '#punintended': 3015, 'federal': 3016, 'attorney': 3017, 'hunt': 3018, 'constitution': 3019, '#online': 3020, '#outfit': 3021, 'safety': 3022, 'models': 3023, 'elementary': 3024, 'ireland': 3025, 'teens': 3026, '#fox': 3027, 'ad': 3028, 'explanation': 3029, 'attended': 3030, '#fact': 3031, 'sebastian': 3032, 'document': 3033, '#justice': 3034, '#telegram': 3035, 'loud': 3036, 'privacy': 3037, 'michael': 3038, 'santa': 3039, 'hiphop': 3040, 'se': 3041, '#blockchai': 3042, 'approach': 3043, '#xboxonex': 3044, '#pc': 3045, 'sea': 3046, 'vital': 3047, '#funquotes': 3048, 'aggressive': 3049, 'everyones': 3050, '#shedsharingsunday': 3051, 'popcorn': 3052, 'answering': 3053, 'rally': 3054, 'ultra': 3055, 'disc': 3056, 'technical': 3057, 'location': 3058, 'gi': 3059, 'womens': 3060, '😕': 3061, '#edinburgh': 3062, '#snow': 3063, '#family': 3064, 'queen': 3065, '】': 3066, 'score': 3067, 'cares': 3068, 'understanding': 3069, 'interactions': 3070, 'pool': 3071, 'batman': 3072, '#like4like': 3073, 'twist': 3074, 'bias': 3075, 'inner': 3076, '#pakistan': 3077, 'treated': 3078, '#happysehundaythe': 3079, 'smiles': 3080, 'expertise': 3081, 'pc': 3082, 'socially': 3083, '🎸': 3084, 'forum': 3085, 'bike': 3086, 'strategies': 3087, 'background': 3088, 'famous': 3089, 'author': 3090, 'passed': 3091, 'whoever': 3092, 'channels': 3093, 'teach': 3094, '#chimaera': 3095, 'advantage': 3096, 'presale': 3097, '#bonus': 3098, 'lil': 3099, 'jason': 3100, 'dick': 3101, 'j': 3102, '#opportunity': 3103, '#tokyo': 3104, 'older': 3105, 'heartbroken': 3106, 'rap': 3107, 'ts': 3108, 'income': 3109, 'disease': 3110, 'exercise': 3111, '#500px': 3112, 'user': 3113, '#romance': 3114, 'son': 3115, 'signed': 3116, 'george': 3117, 'developer': 3118, 'bright': 3119, 'feels': 3120, 'torturing': 3121, 'venerating': 3122, 'cabal': 3123, 'shootings': 3124, '#fbi': 3125, 'attractive': 3126, '#psl2018': 3127, 'lovers': 3128, 'james': 3129, 'unit': 3130, 'xx': 3131, '#thoughts': 3132, 'fill': 3133, 'tiger': 3134, 'woods': 3135, '#giveawayalert': 3136, '#contestalert': 3137, 'texts': 3138, 'faced': 3139, 'border': 3140, 'taste': 3141, 'profit': 3142, 'picked': 3143, 'battery': 3144, 'guidance': 3145, '#asian': 3146, 'tbh': 3147, 'ain': 3148, '#mclaren': 3149, '#donaldtrump': 3150, '‼': 3151, 'permission': 3152, 'eat': 3153, 'rolled': 3154, 'coach': 3155, 'wor': 3156, '#trap': 3157, 'application': 3158, 'bye': 3159, 'binance': 3160, '#3d': 3161, 'closed': 3162, 'eu': 3163, 'member': 3164, '#gold': 3165, '#livestream': 3166, 'sharing': 3167, '#april': 3168, 'product': 3169, 'cars': 3170, 'economy': 3171, 'saudi': 3172, 'prince': 3173, 'work.if': 3174, '#postcard': 3175, '#eddm': 3176, '#direct': 3177, '#gustpost': 3178, '#logodesign': 3179, '#flyers': 3180, '#businesscard': 3181, '#graphics': 3182, 'racism': 3183, 'champ': 3184, 'fuel': 3185, 'troll': 3186, '#legal': 3187, 'predict': 3188, 'require': 3189, 'kimmel': 3190, '_': 3191, 'landscape': 3192, '#now': 3193, 'mix': 3194, 'leads': 3195, 'progress': 3196, 'blacks': 3197, '#edm': 3198, 'giants': 3199, 'contain': 3200, '#podcasting': 3201, 'offensive': 3202, 'hrs': 3203, 'various': 3204, 'inappropriate': 3205, 'stood': 3206, 'drinking': 3207, 'knowledge': 3208, 'rasing': 3209, '#doctailor': 3210, 'loans': 3211, 'basis': 3212, 'frame': 3213, 'regular': 3214, '#fx': 3215, '#DGDGDGDG': 3216, 'changed': 3217, '#eu': 3218, '#auspol': 3219, 'dr': 3220, 'screen': 3221, 'tinder': 3222, 'yours': 3223, 'penny': 3224, 'closes': 3225, 'aware': 3226, 'traditional': 3227, 'restaurant': 3228, '😃': 3229, 'escape': 3230, 'writer': 3231, 'cake': 3232, 'wouldn': 3233, 'mistakes': 3234, 'housing': 3235, 'leading': 3236, 'owner': 3237, 'blatant': 3238, '#csgo': 3239, '#cryptomadness': 3240, 'communit': 3241, '#manga': 3242, 'hotel': 3243, '#clothes': 3244, 'africa': 3245, 'tune': 3246, 'piss': 3247, 'trend': 3248, '#ltc': 3249, 'behavior': 3250, '#wtf': 3251, 'places': 3252, '#wellness': 3253, 'heroes': 3254, 'failing': 3255, 'yep': 3256, '#darkhumor': 3257, '#wealthe': 3258, '😬': 3259, 'DG:DGDG': 3260, 'killers': 3261, '#stormydaniels': 3262, '26th': 3263, 'burn': 3264, 'electric': 3265, 'evolution': 3266, 'edge': 3267, '💿': 3268, 'protesting': 3269, 'muslim': 3270, 'immediately': 3271, 'livestream': 3272, '#formula1': 3273, 'graphic': 3274, 'rifle': 3275, 'gotten': 3276, 'respond': 3277, 'dress': 3278, '#amreading': 3279, '#kindle': 3280, 'useless': 3281, 'kills': 3282, 'emotional': 3283, '#sale': 3284, '#gop': 3285, 'robert': 3286, 'holy': 3287, '#political': 3288, 'checks': 3289, '#cash': 3290, 'wed': 3291, '🗡': 3292, 'chicago': 3293, 'forgive': 3294, 'confident': 3295, 'july': 3296, 'bottom': 3297, 'willing': 3298, 'colors': 3299, 'onion': 3300, 'select': 3301, 'ज': 3302, 'व': 3303, 'ं': 3304, 'ि': 3305, '#men': 3306, 'mans': 3307, '🎾': 3308, 'purpose': 3309, '#saturdaymorning': 3310, '#retropics': 3311, '#oldschoolcool': 3312, '#camgirl': 3313, 'crore': 3314, 'ing': 3315, 'washington': 3316, 'insurance': 3317, 'goodies': 3318, 'hint': 3319, 'martin': 3320, '🆒': 3321, '#milf': 3322, 'ally': 3323, '#landscape': 3324, 'types': 3325, '#mom': 3326, 'zone': 3327, '#space': 3328, 'waves': 3329, 'bureau': 3330, 'county': 3331, 'stress': 3332, '💩': 3333, '#gospel': 3334, 'warming': 3335, '#youththe': 3336, '#mexico': 3337, 'mode': 3338, 'horror': 3339, 'brief': 3340, 'active': 3341, '#neocash': 3342, 'river': 3343, 'pe': 3344, '10k': 3345, 'basketball': 3346, 'govt': 3347, 'agent': 3348, '#homedecor': 3349, '#earth': 3350, 'chose': 3351, 'innovative': 3352, '#company': 3353, 'stocks': 3354, '🖤': 3355, '#reddit': 3356, '#cool': 3357, '#pics': 3358, 'cop': 3359, 'properly': 3360, 'officer': 3361, 'reposting': 3362, '#concert': 3363, '#instagood': 3364, 'issued': 3365, 'goin': 3366, 'audience': 3367, 'faux': 3368, 'robots': 3369, 'notice': 3370, 'replies': 3371, 'slut': 3372, 'cum': 3373, 'wedding': 3374, 'politically': 3375, 'claiming': 3376, 'remarks': 3377, 'doubt': 3378, 'hardware': 3379, '#goals': 3380, 'protection': 3381, 'panel': 3382, 'throat': 3383, 'innovation': 3384, 'marketplace': 3385, 'transparency': 3386, '#advertising': 3387, 'detail': 3388, '#overwatch': 3389, '#soulmusic': 3390, '#techno': 3391, 'stopped': 3392, 'solutions': 3393, 'championship': 3394, '#guncontrolnow': 3395, 'definition': 3396, '.  .': 3397, '#subbotnik': 3398, '. .': 3399, '#presale': 3400, 'referral': 3401, 'peek': 3402, 'supports': 3403, '#apparel': 3404, 'balls': 3405, 'werent': 3406, 'flaws': 3407, 'comfort': 3408, 'weekends': 3409, 'talked': 3410, '#cat': 3411, 'tool': 3412, 'realise': 3413, 'dean': 3414, 'trailer': 3415, 'glasses': 3416, 'cnn': 3417, 'challenges': 3418, 'gov': 3419, 'uploaded': 3420, 'peaceful': 3421, 'elite': 3422, 'sort': 3423, 'deals': 3424, 'DGDGDGDGDGDGDGDGDGDG': 3425, 'isis': 3426, 'artist': 3427, 'husband': 3428, '#album': 3429, 'finance': 3430, 'pain': 3431, 'lyrics': 3432, '#syria': 3433, 'print': 3434, 'DGDGDGDG.DGDG': 3435, '#cricketaustralia': 3436, '#latino': 3437, 'gender': 3438, 'enterprise': 3439, 'task': 3440, 'bjp': 3441, 'prizes': 3442, 'ios': 3443, '►': 3444, 'lowest': 3445, 'videography': 3446, 'assets': 3447, 'ny': 3448, '💝': 3449, '#horseracing': 3450, '#epl': 3451, '#capital': 3452, 'plays': 3453, 'canadian': 3454, 'houses': 3455, 'chart': 3456, 'express': 3457, 'def': 3458, 'professionals': 3459, 'somehow': 3460, 'square': 3461, 'blonde': 3462, 'piano': 3463, 'celebrating': 3464, '#firstdayofspring': 3465, 'colour': 3466, 'crash': 3467, 'hottest': 3468, 'decent': 3469, 'beings': 3470, 'potus': 3471, 'recharge': 3472, 'sees': 3473, 'redbubble': 3474, 'period': 3475, 'objects': 3476, 'announcing': 3477, 'wouldve': 3478, 'clam': 3479, '#4ir': 3480, 'festival': 3481, 'intense': 3482, 'combat': 3483, '#unsigned': 3484, 'pants': 3485, 'walked': 3486, '#mondaymotivation': 3487, 'overwatch': 3488, '😠': 3489, 'concern': 3490, 'selling': 3491, 'learned': 3492, 'offers': 3493, '#investing': 3494, '#iota': 3495, 'flip': 3496, 'drunk': 3497, 'alcohol': 3498, 'wishing': 3499, 'ram': 3500, 'cap': 3501, '#it': 3502, 'proves': 3503, 'tolerate': 3504, 'compilation': 3505, 'slap': 3506, 'butt': 3507, '#commonsensegunlaws': 3508, 'golf': 3509, 'prime': 3510, 'bitcointalk': 3511, '-->': 3512, 'revenge': 3513, 'hitting': 3514, 'duke': 3515, 'creator': 3516, 'ethereum': 3517, 'letting': 3518, 'hahaha': 3519, '#gamedesign': 3520, 'centreville': 3521, 'sayings': 3522, 'treatment': 3523, 'cohen': 3524, 'trudeau': 3525, 'midnight': 3526, 'belgium': 3527, '#coffeetime': 3528, 'hitler-stalin-mao-fidel': 3529, 'castroetc.open': 3530, '#sundaymotivation': 3531, 'eli': 3532, 'shane': 3533, 'reverse': 3534, 'receiving': 3535, '#teaching': 3536, '#malware': 3537, 'draft': 3538, 'schedule': 3539, '\\U0001f9d0': 3540, 'democracy': 3541, 'practice': 3542, 'ka': 3543, 'wh': 3544, 'annual': 3545, '#grow': 3546, '#growthhacking': 3547, 'bitrace': 3548, 'narrative': 3549, 'anytime': 3550, 'concerned': 3551, 'ed': 3552, '#xyo': 3553, 'provides': 3554, 'devices': 3555, '#cry': 3556, '#minsk': 3557, '#trader': 3558, '4k': 3559, 'blu-ray': 3560, 'milk': 3561, 'bodies': 3562, 'region': 3563, 'fixed': 3564, '#latestnews': 3565, 'developing': 3566, '#growth': 3567, 'matters': 3568, 'plants': 3569, 'hurts': 3570, 'responding': 3571, 'fellow': 3572, 'fish': 3573, 'majority': 3574, 'returns': 3575, '#haha': 3576, 'cheeky': 3577, 'item': 3578, 'DGDGDGDG-DGDG-': 3579, 'memories': 3580, 'puppet': 3581, 'forced': 3582, 'increased': 3583, 'prices': 3584, 'beach': 3585, 'dance': 3586, 'hates': 3587, 'jealous': 3588, 'fearless': 3589, 'capable': 3590, 'updates': 3591, 'relatable': 3592, '#microsoft': 3593, 'efforts': 3594, 'offend': 3595, '#girlgamer': 3596, 'theyd': 3597, 'operation': 3598, 'technologies': 3599, 'remix': 3600, '#periscope': 3601, 'guilty': 3602, '#original': 3603, 'honey': 3604, 'follower': 3605, 'stands': 3606, 'balance': 3607, 'neil': 3608, '#ccw': 3609, '#webdesign': 3610, '#ethe': 3611, 'writing': 3612, 'creativity': 3613, 'bundle': 3614, '#diversity': 3615, 'tweeting': 3616, 'disgrace': 3617, 'marched': 3618, 'arrested': 3619, '#p2p': 3620, '#prescientinfo': 3621, '#ny': 3622, '#la': 3623, 'sarah': 3624, 'suggestion': 3625, 'shower': 3626, 'owning': 3627, '#1a': 3628, 'disney': 3629, 'transform': 3630, 'ignorance': 3631, 'irrelevant': 3632, 'fintech': 3633, 'toward': 3634, '#gymrewards': 3635, 'davis': 3636, 'wa': 3637, 'variety': 3638, '🗽': 3639, 'markets': 3640, '#newyork': 3641, 'cheated': 3642, 'tricks': 3643, '-DG.DG': 3644, 'guest': 3645, '#trypod': 3646, '#beautiful': 3647, 'comfy': 3648, 'ltd': 3649, '#robots': 3650, 'globally': 3651, '#python': 3652, 'fyi': 3653, 'accepts': 3654, 'false': 3655, 'requirements': 3656, 'cs': 3657, 'signing': 3658, 'defending': 3659, 'insightful': 3660, 'rapper': 3661, '💫': 3662, 'correctly': 3663, '#tennis': 3664, 'democrats': 3665, 'november': 3666, 'manner': 3667, '#aptask': 3668, 'DGDG-DGDGDGDGDG': 3669, 'hop': 3670, 'scene': 3671, 'elections': 3672, '#california': 3673, '#sv2': 3674, 'pissed': 3675, 'decade': 3676, 'pregnant': 3677, 'studio': 3678, 'joining': 3679, 'photos': 3680, 'staying': 3681, 'signs': 3682, 'tea': 3683, 'innovations': 3684, 'fl': 3685, 'targeted': 3686, 'dan': 3687, 'autistic': 3688, 'satoshi': 3689, 'ne': 3690, 'represent': 3691, 'moves': 3692, '#oldnews': 3693, '#minecraft': 3694, '#exams': 3695, '10th': 3696, 'awards': 3697, 'gm': 3698, 'maintain': 3699, '#god': 3700, 'entrepreneurs': 3701, 'incredibly': 3702, 'planned': 3703, 'treating': 3704, 'beware': 3705, 'blessed': 3706, '#sovietunion': 3707, '#cуббота': 3708, 'annoying': 3709, 'ce': 3710, 'bin': 3711, 'cent': 3712, 'discuss': 3713, 'contact': 3714, '#charity': 3715, 'figured': 3716, 'belief': 3717, 'decisions': 3718, 'champions': 3719, 'harassment': 3720, 'served': 3721, '#vote': 3722, 'threatened': 3723, 'coins': 3724, 'institute': 3725, 'acts': 3726, '💛': 3727, '#java': 3728, 'visa': 3729, 'sexually': 3730, '#dystopia': 3731, 'proper': 3732, '#ar': 3733, 'moron': 3734, 'pump': 3735, 'genieico': 3736, 'pleasure': 3737, 'luv': 3738, 'dose': 3739, 'thx': 3740, 'warning': 3741, 'lane': 3742, '#toronto': 3743, '2v2': 3744, '1nd': 3745, 'staff': 3746, 'laughter': 3747, '#markets': 3748, ':(': 3749, 'although': 3750, '#coaching': 3751, 'dollars': 3752, '#palmsunday': 3753, 'pride': 3754, '#automotive': 3755, 'rape': 3756, 'continues': 3757, '#freespeech': 3758, 'carrying': 3759, 'meets': 3760, 'doctor': 3761, 'wrestling': 3762, '🎥': 3763, 'performing': 3764, 'foot': 3765, 'confuse': 3766, 'mostly': 3767, 'kept': 3768, 'emotionally': 3769, 'nazi': 3770, 'evidence': 3771, 'released': 3772, '💚': 3773, 'anti-gun': 3774, '🏁': 3775, 'dvd': 3776, 'french': 3777, 'surprisingly': 3778, '#performance': 3779, 'mi': 3780, '#musician': 3781, '#big': 3782, 'criticism': 3783, 'insults': 3784, '⏰': 3785, 'playoffs': 3786, '#3dprinting': 3787, 'prints': 3788, '#australia': 3789, 'admit': 3790, 'uber': 3791, 'savage': 3792, 'retail': 3793, '#nigeria': 3794, 'sites': 3795, 'criminals': 3796, 'organized': 3797, 'drug': 3798, '#cooking': 3799, 'speed': 3800, 'limit': 3801, 'sacked': 3802, 'baseball': 3803, 'alone': 3804, 'despite': 3805, '📉': 3806, 'cross': 3807, '#fantasy': 3808, 'bloody': 3809, '🇾': 3810, '🔴': 3811, 'bird': 3812, 'robotina': 3813, 'unarmed': 3814, 'coat': 3815, '💻': 3816, '📹': 3817, '#videography': 3818, '#georgesoros': 3819, '#ginamiller': 3820, 'hire': 3821, 'ridiculous': 3822, 'package': 3823, 'buses': 3824, '#followback': 3825, '#gamersunite': 3826, 'advisor': 3827, 'cryptocurrencies': 3828, 'capturing': 3829, 'oops': 3830, 'deer': 3831, 'deserved': 3832, 'myth': 3833, 'advertising': 3834, 'clarify': 3835, 'witty': 3836, 'sass': 3837, 'gin': 3838, '#verge': 3839, 'robot': 3840, '😑': 3841, '#trumptrain': 3842, '🔜': 3843, 'fr': 3844, 'budget': 3845, 'previous': 3846, '🍌': 3847, '😹': 3848, 'targeting': 3849, 'hehe': 3850, 'partner': 3851, '#wow': 3852, 'protest': 3853, 'sold': 3854, '#teambossygals': 3855, '➽': 3856, 'smoke': 3857, 'proven': 3858, 'ह': 3859, '😫': 3860, 'protecting': 3861, 'em': 3862, '#gdpr': 3863, 'answered': 3864, '#disruption': 3865, '#writers': 3866, 'invest': 3867, '#glutenfree': 3868, 'anti': 3869, 'sincerely': 3870, 'theft': 3871, 'mail': 3872, 'comp': 3873, 'soooo': 3874, 'entertainment': 3875, '#my': 3876, '#ebooks': 3877, '#paginanuova': 3878, '#bluehand': 3879, '#bluehandrising': 3880, '#bluehandfamily': 3881, 'guessed': 3882, '#teen': 3883, 'mf': 3884, 'hussain': 3885, 'climate': 3886, 'collusion': 3887, '#smallbusiness': 3888, '#smallbiz': 3889, '#makeyourownlane': 3890, '#computer': 3891, 'taxes': 3892, 'pre': 3893, 'february': 3894, '#playstation': 3895, '#blues': 3896, 'personally': 3897, 'christ': 3898, 'promises': 3899, 'netflix': 3900, '#urban': 3901, 'everytime': 3902, 'seo': 3903, 'religion': 3904, 'toronto': 3905, 'operator': 3906, 'brokerage': 3907, 'heavily': 3908, '#yr': 3909, 'israel': 3910, 'ashley': 3911, 'covered': 3912, 'ii': 3913, 'blind': 3914, '#study': 3915, 'familiar': 3916, 'scary': 3917, 'feet': 3918, '#dogsoftwitter': 3919, 'economic': 3920, 'funded': 3921, 'gym': 3922, '#belarus': 3923, 'faces': 3924, '⚽': 3925, '#yr45': 3926, 'trophy': 3927, 'dump': 3928, 'casino': 3929, '#help': 3930, 'appeal': 3931, 'tae': 3932, 'kindle': 3933, 'desert': 3934, '#pet': 3935, '⛓': 3936, 'apology': 3937, '💗': 3938, 'en': 3939, '#venturecapital': 3940, 'ransomware': 3941, 'comedic': 3942, 'sleeping': 3943, 'smartphone': 3944, 'dum': 3945, 'swing': 3946, '⃣': 3947, 'dying': 3948, 'emails': 3949, '#software': 3950, 'truck': 3951, 'sponsors': 3952, 'rolls': 3953, '#freecoin': 3954, '#freetoken': 3955, '#breast': 3956, 'overall': 3957, '#breasthealth': 3958, '#animalfats': 3959, '#carbs': 3960, '#sugar': 3961, '#fats': 3962, '#breastcancer': 3963, '#weird': 3964, 'grew': 3965, 'clip': 3966, 'worker': 3967, 'journalists': 3968, 'tape': 3969, 'thebeyondersltd': 3970, 'shoulder': 3971, 'replaced': 3972, 'moore': 3973, 'insulting': 3974, '#georgia': 3975, 'magazine': 3976, 'bray': 3977, '#historical': 3978, '#iartg': 3979, 'triggered': 3980, 'bomoso': 3981, 'beginning': 3982, 'mo4ch': 3983, 'succeed': 3984, 'long-term': 3985, 'mount': 3986, '#tshirtdesign': 3987, '4g': 3988, 'signal': 3989, 'petition': 3990, 'animals': 3991, '\\U0001f92e': 3992, 'neither': 3993, 'thick': 3994, 'includes': 3995, 'precious': 3996, 'hamper': 3997, '#aijobs': 3998, 'ignoring': 3999, 'ours': 4000, 'meddling': 4001, 'stressed': 4002, '#blockcha': 4003, '「': 4004, 'chemistry': 4005, 'matches': 4006, '」': 4007, '#defstar5': 4008, '#pubg': 4009, '#fortnitebattleroyale': 4010, '#seaofthieves': 4011, '#housemusic': 4012, '#vinyl': 4013, 'throwing': 4014, 'focusing': 4015, 'regulatory': 4016, 'knives': 4017, 'bills': 4018, 'assistance': 4019, 'push': 4020, 'certified': 4021, 'bash': 4022, '#hypocrisy': 4023, 'showed': 4024, 'plenty': 4025, 'boots': 4026, 'worried': 4027, 'playful': 4028, 'endorsement': 4029, 'pitch': 4030, 'gods': 4031, '#dl': 4032, 'scoring': 4033, 'sensitive': 4034, 'complain': 4035, 'bleeding': 4036, 'protesters': 4037, 'debugging': 4038, '#javascript': 4039, 'fabricated': 4040, 'tbolton': 4041, 'choosing': 4042, 'rob': 4043, 'compared': 4044, 'apologize': 4045, 'cafe': 4046, 'located': 4047, 'mandatory': 4048, '#npr': 4049, '#spotifyplaylist': 4050, '#followonspotify': 4051, 'six': 4052, 'doctors': 4053, 'cub': 4054, 'separate': 4055, 'liverpool': 4056, 'almighty': 4057, 'scientific': 4058, '#blonde': 4059, 'delivery': 4060, '#turkey': 4061, '#dress': 4062, 'wales': 4063, 'dope': 4064, 'abstract': 4065, '#saturdaynight': 4066, '#good': 4067, 'introduction': 4068, 'launching': 4069, 'colin': 4070, 'responsibility': 4071, 'choices': 4072, 'indian': 4073, 'songs': 4074, 'identity': 4075, '#english': 4076, 'cheesecake': 4077, 'audio': 4078, 'discovered': 4079, 'condition': 4080, 'codes': 4081, 'jumps': 4082, '⚠': 4083, '#featureme': 4084, '#gbefcps': 4085, '#blessings': 4086, '#loveyourself': 4087, 'immigration': 4088, 'attend': 4089, 'betfred': 4090, '#premierleague': 4091, '#cl': 4092, '#efl': 4093, 'cats': 4094, 'yourselves': 4095, 'allowing': 4096, 'holland': 4097, 'muslims': 4098, '#paradigm': 4099, '#interactions': 4100, '#venture': 4101, 'buyout': 4102, 'declined': 4103, 'ether': 4104, 'dash': 4105, '#payments': 4106, 'signature': 4107, 'praised': 4108, 'focused': 4109, 'dropped': 4110, 'buying': 4111, 'merely': 4112, 'catalan': 4113, 'mountain': 4114, 'inspirational': 4115, 'nhl': 4116, '#colinpowelles': 4117, 'inanimate': 4118, 'mess': 4119, 'developers': 4120, 'arrives': 4121, 'perth': 4122, 'fourth': 4123, 'industrial': 4124, '#indiegogo': 4125, 'soldier': 4126, 'sincerity': 4127, 'zones': 4128, '#trends': 4129, '#anonymous': 4130, 'torn': 4131, 'rub': 4132, '#cryptocurrencies': 4133, 'ear': 4134, 'reviews': 4135, 'names': 4136, 'grocery': 4137, 'window': 4138, 'reaction': 4139, 'rpg': 4140, 'emotion': 4141, 'dat': 4142, 'jim': 4143, '#iq': 4144, '#genius': 4145, 'ups': 4146, 'kansas': 4147, 'nations': 4148, 'asses': 4149, 'eight': 4150, 'setting': 4151, '🍕': 4152, 'situation': 4153, 'ton': 4154, '#kidding': 4155, 'nights': 4156, 'thrilled': 4157, '😇': 4158, 'nathan': 4159, 'narendra': 4160, 'mushrooms': 4161, 'overrated': 4162, 'crews': 4163, 'whitelist': 4164, 'payments': 4165, 'beth': 4166, 'diamond': 4167, 'sc': 4168, 'impressive': 4169, 'closer': 4170, '#newyorkcity': 4171, 'consistent': 4172, '#bizarre': 4173, 'huawei': 4174, 'lo': 4175, '#thorecoin': 4176, 'noise': 4177, '#bloggerstribe': 4178, '🇦': 4179, '#punk': 4180, '#band': 4181, '#funnypics': 4182, '🇮': 4183, 'whitepaper': 4184, '#blockch': 4185, '#parents': 4186, 'natural': 4187, 'forest': 4188, 'stating': 4189, 'mikal': 4190, 'leg-spinner': 4191, 'quetta': 4192, 'warne': 4193, '#cri': 4194, 'hopping': 4195, 'navy': 4196, 'invented': 4197, 'publicly': 4198, 'effect': 4199, 'jailing': 4200, '#march': 4201, 'ncaa': 4202, 'hockey': 4203, 'candy': 4204, '#fetish': 4205, 'pizza': 4206, 'currencies': 4207, 'peace': 4208, 'holiday': 4209, 'formula': 4210, '\\U0001f929': 4211, 'entry': 4212, 'chain': 4213, 'hdr': 4214, 'hd': 4215, 'salary': 4216, 'deliver': 4217, 'firm': 4218, 'bombing': 4219, '#technews': 4220, '#investor': 4221, '<DG': 4222, 'url': 4223, 'advocate': 4224, 'authority': 4225, 'description': 4226, 'aims': 4227, 'kyle': 4228, '#quotesoftheday': 4229, '#stuttgart': 4230, '#veterans': 4231, 'mainstream': 4232, 'whoa': 4233, 'stealthcrypto': 4234, 'next-generation': 4235, 'florida': 4236, 'dickhead': 4237, 'leeds': 4238, 'phones': 4239, 'hmmm': 4240, 'sends': 4241, '🤓': 4242, '✊': 4243, 't.co': 4244, '#todays': 4245, 'drake': 4246, '#singing': 4247, 'participating': 4248, 'seasons': 4249, '#indian': 4250, 'shy': 4251, 'overly': 4252, 'filmed': 4253, 'sext': 4254, 'fixing': 4255, 'stronger': 4256, '#veteran': 4257, 'mock': 4258, '#facebookdatabreach': 4259, 'pal': 4260, '#apply': 4261, 'trq': 4262, 'coincrowd-sale': 4263, 'challenge': 4264, '#ibizaislovinit': 4265, '#listelive': 4266, '#80smusic': 4267, '#oldie': 4268, '#nonstop': 4269, 'pic': 4270, 'occasion': 4271, 'stomach': 4272, 'painful': 4273, 'cybersecurity': 4274, 'rocking': 4275, 'reliable': 4276, '#nutrition': 4277, 'floor': 4278, 'detecting': 4279, 'wellbeing': 4280, 'cure': 4281, '#starwars': 4282, 'roman': 4283, 'charity': 4284, 'gp': 4285, '#shoes': 4286, 'wing': 4287, '#chocolate': 4288, 'marches': 4289, 'unbiased': 4290, 'manage': 4291, 'reunion': 4292, 'discern': 4293, 'nor': 4294, 'costs': 4295, '#weekendvibes': 4296, 'survive': 4297, 'richard': 4298, '#ann': 4299, '#tokenssale': 4300, '#computeritservices': 4301, '#cancer': 4302, 'cherry': 4303, 'harvest': 4304, 'distance': 4305, 'anger': 4306, '#sundayfunday': 4307, 'capital': 4308, '#coding': 4309, 'beliefs': 4310, 'attacked': 4311, 'clinton': 4312, 'shocker': 4313, '#cartoon': 4314, '#dystopian': 4315, 'rise': 4316, 'wishes': 4317, '#pslfinalinkarachi': 4318, 'gig': 4319, 'literal': 4320, '#automation': 4321, 'consultancy': 4322, 'expand': 4323, 'tutorial': 4324, 'streaming': 4325, 'outrage': 4326, '#housing': 4327, '#ausvsa': 4328, '#freebie': 4329, '#sweepstakes': 4330, 'nyc': 4331, 'pressure': 4332, 'hierarchy': 4333, 'degrees': 4334, 'hmm': 4335, '➖': 4336, 'quit': 4337, '#msm': 4338, 'crown': 4339, '#miami': 4340, '#day': 4341, 'douglas': 4342, 'pitching': 4343, 'tokenintelligence': 4344, 'delightful': 4345, 'chips': 4346, '🎙': 4347, 'meter': 4348, 'brother': 4349, 'va': 4350, 'quiz': 4351, 'manufacturing': 4352, 'scores': 4353, 'sunshine': 4354, 'russians': 4355, 'scandals': 4356, 'initiative': 4357, 'minority': 4358, '#stupid': 4359, '#dank': 4360, '#earthhour': 4361, 'participants': 4362, '🍺': 4363, 'novel': 4364, 'assholes': 4365, 'contract': 4366, 'expecting': 4367, 'iconic': 4368, '#tuesdaythoughts': 4369, '#snapchat': 4370, 'friendships': 4371, 'coz': 4372, 'mistake': 4373, 'survival': 4374, 'pair': 4375, 'phil': 4376, '#instrumental': 4377, '😄': 4378, 'condemn': 4379, '#newupdate': 4380, '#wwe': 4381, 'tree': 4382, '👈': 4383, 'deposit': 4384, '#finance': 4385, 'bout': 4386, 'roy': 4387, 'strict': 4388, 'logical': 4389, '#coins': 4390, 'sochi': 4391, 'mins': 4392, 'mesh': 4393, '#transportation': 4394, '#millionaire': 4395, 'indies': 4396, '#ussr': 4397, '#минск': 4398, '#школа': 4399, 'fuckin': 4400, '#alt': 4401, 'tours': 4402, '#viberate': 4403, 'floris': 4404, 'talal': 4405, 'corruption': 4406, 'cows': 4407, 'linda': 4408, 'setup': 4409, 'bat': 4410, 'grid': 4411, 'plot': 4412, 'immune': 4413, 'scully': 4414, '#rikknives': 4415, 'eventually': 4416, 'uneducated': 4417, 'britain': 4418, 'conspiracy': 4419, '#onpoli': 4420, 'awww': 4421, 'ik': 4422, '#chicago': 4423, 'apart': 4424, 'pleased': 4425, 'liking': 4426, 'console': 4427, 'leaves': 4428, 'load': 4429, 'expression': 4430, 'maker': 4431, 'accused': 4432, 'banning': 4433, 'tribute': 4434, 'contents': 4435, 'poll': 4436, 'estimates': 4437, 'nicer': 4438, 'believes': 4439, 'responsive': 4440, '#internet': 4441, 'comfortable': 4442, 'raising': 4443, 'kb': 4444, 'convey': 4445, '#drawing': 4446, 'studying': 4447, 'considering': 4448, '25th': 4449, 'jacket': 4450, '#christmas': 4451, 'accurate': 4452, 'posting': 4453, 'wick': 4454, '#brunette': 4455, 'gosh': 4456, 'cities': 4457, 'flow': 4458, '#china': 4459, '#cheats': 4460, '📣': 4461, 'cto': 4462, 'tl': 4463, 'fabulous': 4464, 'aka': 4465, 'cast': 4466, 'shah': 4467, '❣': 4468, '#edchat': 4469, 'ring': 4470, '#commodity': 4471, '#weekly': 4472, '#outlook': 4473, 'tgt': 4474, 'moved': 4475, 'struggle': 4476, 'dailybrian': 4477, 'alex': 4478, '#congress': 4479, '#advice': 4480, '<-': 4481, '#gadgets': 4482, 'pill': 4483, 'drills': 4484, 'episodes': 4485, '#economy': 4486, 'totes': 4487, 'प': 4488, 'य': 4489, 'र': 4490, 'saved': 4491, 'suggest': 4492, 'offered': 4493, '#update': 4494, 'visual': 4495, 'summary': 4496, 'minds': 4497, 'fc': 4498, 'anxiety': 4499, 'whilst': 4500, 'hannity': 4501, 'identify': 4502, 'roe': 4503, 'wade.why': 4504, 'provider': 4505, 'rule': 4506, 'stated': 4507, '#stupidity': 4508, 'voting': 4509, '#sassy': 4510, 'adventure': 4511, 'thus': 4512, 'bigotry': 4513, '#onlinemarketing': 4514, '#essentia': 4515, 'daddy': 4516, 'memory': 4517, '#moon': 4518, 'providing': 4519, 'victims': 4520, '#xlm': 4521, '#winelover': 4522, '👣': 4523, '#group': 4524, '#pornstar': 4525, '#happy': 4526, 'promotion': 4527, 'positivity': 4528, 'pun': 4529, '#kaye_menner': 4530, 'photoshopped': 4531, 'wheel': 4532, 'danger': 4533, '#smartcontract': 4534, 'solidarity': 4535, 'breakfast': 4536, '🙈': 4537, 'wrap': 4538, '#coin': 4539, '😔': 4540, 'invitation': 4541, 'pet': 4542, 'hr': 4543, 'vid': 4544, 'ga': 4545, 'lake': 4546, 'inspired': 4547, 'rose': 4548, '#dragonball': 4549, '#oppai': 4550, 'contribute': 4551, 'sin': 4552, 'instant': 4553, 'penis': 4554, 'influence': 4555, '#ito': 4556, 'checked': 4557, 'marching': 4558, 'ourselves': 4559, 'editor': 4560, '#wealthmigrate': 4561, '#bible': 4562, 'bullets': 4563, '#binance': 4564, 'DG-DGDG': 4565, 'sappy': 4566, 'performs': 4567, 'horny': 4568, 'emergency': 4569, 'mueller': 4570, 'keys': 4571, 'sharp': 4572, '🎞': 4573, '📀': 4574, '📽': 4575, '🎬': 4576, '📼': 4577, '#editing': 4578, '#floorplan': 4579, '#site': 4580, '#residential': 4581, '#commercial': 4582, '#maggots': 4583, 'suits': 4584, 'serial': 4585, '#smh': 4586, 'slightly': 4587, '27th': 4588, 'wanting': 4589, 'serve': 4590, 'vibes': 4591, 'subscribe': 4592, 'hide': 4593, 'affair': 4594, '#creative': 4595, 'formule': 4596, '#australiangp': 4597, '#ausgp2018': 4598, '#formule1': 4599, '#verstappen': 4600, 'pibbleblockchain': 4601, 'monetized': 4602, '#pib': 4603, '#pibble': 4604, 'interior': 4605, 'snarky': 4606, '#concours': 4607, '#urbaninstatweet': 4608, '#fiverr': 4609, 'pages': 4610, 'smarter': 4611, 'opposite': 4612, 'aqu': 4613, '#vitamins': 4614, 'impossible': 4615, '#successful': 4616, 'therefore': 4617, 'attacking': 4618, 'secured': 4619, 'miles': 4620, 'mile': 4621, 'jafa': 4622, '📲': 4623, '#nem': 4624, 'civilians': 4625, 'tha': 4626, 'bhai': 4627, 'mo': 4628, '#redcoin': 4629, 'realised': 4630, 'values': 4631, 'accepted': 4632, 'salt': 4633, 'counting': 4634, 'critical': 4635, '#trance': 4636, 'sadly': 4637, 'blown': 4638, 'programme': 4639, '🤑': 4640, 'rewards': 4641, 'pastor': 4642, 'shaking': 4643, 'boarding': 4644, 'marvel': 4645, 'photography': 4646, 'smiling': 4647, 'weapon': 4648, 'causes': 4649, '#language': 4650, 'enemy': 4651, 'fights': 4652, 'tw': 4653, 'fool': 4654, 'loses': 4655, 'cook': 4656, 'threw': 4657, '#snowday': 4658, 'assuming': 4659, 'ripple': 4660, 'required': 4661, '#background_remove': 4662, 'listing': 4663, '#forestfriday': 4664, 'shoulders': 4665, '#saas': 4666, 'journey': 4667, 'angel': 4668, 'teaching': 4669, 'trezor': 4670, 'cousin': 4671, 'hydro-quebec': 4672, 'melbourne': 4673, 'reference': 4674, 'unlike': 4675, '#film': 4676, 'marijuana': 4677, 'underrated': 4678, '#bancroft': 4679, 'vettel': 4680, 'lewis': 4681, 'pushed': 4682, 'central': 4683, '#laptop': 4684, 'poster': 4685, 'fed': 4686, 'bullshit': 4687, '#amazing': 4688, 'classics': 4689, 'parental': 4690, '50s': 4691, 'winds': 4692, '#healthyliving': 4693, 'sets': 4694, 'lights': 4695, 'outstanding': 4696, 'stellar': 4697, 'insane': 4698, 'masters': 4699, 'punjabi': 4700, 'stunning': 4701, '🍒': 4702, 'frustrating': 4703, '#folk': 4704, 'itself': 4705, '#code': 4706, '#program': 4707, 'shock': 4708, 'matchday': 4709, '#city': 4710, '#aviation': 4711, 'anthony': 4712, '#clouds': 4713, 'shouting': 4714, 'challenged': 4715, '#snap': 4716, 'shots': 4717, '#feedly': 4718, 'display': 4719, 'throws': 4720, 'hiding': 4721, '#mother': 4722, 'awkward': 4723, '#kunst': 4724, 'normally': 4725, 'advance': 4726, 'trilogy': 4727, 'lied': 4728, 'kunal': 4729, 'bulls': 4730, 'disabled': 4731, 'consider': 4732, 'waterproof': 4733, 'outfit': 4734, 'scott': 4735, 'concert': 4736, '💃': 4737, 'abuse': 4738, 'manipulated': 4739, '#preico': 4740, 'outdoors': 4741, 'extinction': 4742, 'resting': 4743, 'imma': 4744, 'remind': 4745, 'thru': 4746, 'broad': 4747, 'millie': 4748, 'hydro': 4749, 'impression': 4750, '#goodmusic': 4751, 'haters': 4752, 'illuminati': 4753, '#development': 4754, '#greens': 4755, '#garden': 4756, '#pun': 4757, '#forever21': 4758, 'hacked': 4759, 'requestsyour': 4760, 'connectedhttps': 4761, 't.co/gulmsgzzn7white': 4762, 'aussie': 4763, 'experienced': 4764, 'pope': 4765, '®': 4766, 'faster': 4767, '#hea': 4768, '#boys': 4769, 'sparking': 4770, 'billionaire': 4771, 'wood': 4772, 'arabic': 4773, 'jordan': 4774, 'hats': 4775, '😡': 4776, 'population': 4777, 'silent': 4778, 'pioneer': 4779, '#mondaymorning': 4780, '#ceo': 4781, '❞': 4782, 'salty': 4783, '#retro': 4784, 'hang': 4785, 'commercials': 4786, 'targets': 4787, 'reveal': 4788, '#rrbc': 4789, 'hosting': 4790, 'fusion': 4791, 'topics': 4792, 'gap': 4793, 'debut': 4794, '#dogtraining': 4795, '#dogslife': 4796, '#puppy': 4797, '#adopt': 4798, 'pos': 4799, 'kevin': 4800, '#decor': 4801, 'happiness': 4802, 'gifts': 4803, 'brina': 4804, 'mexican': 4805, '🌶': 4806, '#rnc': 4807, 'workload': 4808, 'vouchers': 4809, 'athletes': 4810, '🚗': 4811, '#president': 4812, 'combination': 4813, '#devops': 4814, '#havefun': 4815, 'friendship': 4816, 'fam': 4817, '#lego': 4818, 'recorded': 4819, 'parking': 4820, 'heck': 4821, 'estate': 4822, 'officials': 4823, 'logo': 4824, 'crave': 4825, 'barrel': 4826, '#worldtbday': 4827, 'pruitt': 4828, '#ausvssa': 4829, 'marketmonkeyuk': 4830, 'libyan': 4831, 'races': 4832, 'malta': 4833, 'editing': 4834, '🐰': 4835, 'elected': 4836, 'meal': 4837, 'tick': 4838, '#well': 4839, '(DG': 4840, 'bathroom': 4841, 'worries': 4842, '#equi': 4843, 'views': 4844, 'halts': 4845, '😻': 4846, 'gasp': 4847, '🥁': 4848, 'abt': 4849, 'meansget': 4850, 'surprises': 4851, 'ap': 4852, 'discussion': 4853, '#germany': 4854, '#linux': 4855, '#babes': 4856, 'television': 4857, 'equally': 4858, 'donny': 4859, '#funwallart': 4860, 'agb': 4861, 'nielsen': 4862, 'openly': 4863, 'commercial': 4864, 'ahhh': 4865, '#sexchat': 4866, '#bestfriends': 4867, 'roof': 4868, 'lange': 4869, '⠀': 4870, '#linkedin': 4871, 'bizarre': 4872, 'invited': 4873, 'singing': 4874, '#nascar': 4875, '#followforfollow': 4876, 'nail': 4877, 'charles': 4878, 'furniture': 4879, 'sink': 4880, 'slumber': 4881, 'copper': 4882, '👎': 4883, 'beast': 4884, 'trap': 4885, 'wind': 4886, 'sean': 4887, '#laughs': 4888, '#rofl': 4889, '#iphonex': 4890, 'viewers': 4891, 'douchebag': 4892, 'southgate': 4893, 'seemed': 4894, '#picoftheday': 4895, '#deepthoughtsfromthe80s': 4896, 'texas': 4897, 'ana': 4898, 'unfair': 4899, 'ranking': 4900, 'completed': 4901, 'ueno': 4902, '#parenting': 4903, 'sources': 4904, 'selfishness': 4905, 'schoolers': 4906, 'foreign': 4907, 'tony': 4908, 'tories': 4909, 'yard': 4910, '#hear': 4911, '#tshirts': 4912, '#amazonprime': 4913, 'dragging': 4914, 'joined': 4915, '#virtualreality': 4916, '#entertainment': 4917, '#esports': 4918, '#attraction': 4919, 'lte': 4920, 'huh': 4921, '#abhi9quotes': 4922, 'clock': 4923, 'amateur': 4924, 'electronics': 4925, 'interference': 4926, 'spectrum': 4927, 'beloved': 4928, 'property': 4929, 'timing': 4930, '#uae': 4931, 'scenes': 4932, 'scratch': 4933, '4am': 4934, 'listed': 4935, 'trusted': 4936, '#thrive': 4937, 'ni': 4938, 'baglietto': 4939, '46m': 4940, 'superyacht': 4941, 'trans': 4942, 'retweets': 4943, 'permanent': 4944, 'academia': 4945, 'premiere': 4946, 'manmade': 4947, 'floa': 4948, '#mpgvip': 4949, 'discography': 4950, '#bigdatahttps': 4951, '#application': 4952, 'savings': 4953, 'sensible': 4954, 'steak': 4955, 'subs': 4956, '#pic': 4957, '#picture': 4958, 'pleasant': 4959, 'automatic': 4960, 'vehicles': 4961, 'ronda': 4962, 'rousey': 4963, 'nurse': 4964, 'pakistan': 4965, 'disproportionately': 4966, 'entirely': 4967, '#politicstoday': 4968, 'filter': 4969, 'heels': 4970, '#photoshoot': 4971, 'announces': 4972, 'launched': 4973, 'wet': 4974, 'horribly': 4975, '#musichttps': 4976, '#internetofthings': 4977, '#smartcity': 4978, '#zerofucksgiven': 4979, 'purposely': 4980, 'journalist': 4981, 'storm': 4982, 'japan': 4983, 'korea': 4984, '#laughteristhebestmedicine': 4985, 'headache': 4986, 'hashtags': 4987, 'xvg': 4988, 'jeffbullas': 4989, 'demonstration': 4990, 'segment': 4991, 'persona': 4992, 'dancing': 4993, 'distribution': 4994, 'semester': 4995, 'mindless': 4996, 'josh': 4997, 'neighborhood': 4998, '#healthylifestyle': 4999}\n",
      "[9, 1052, 18, 1495, 31, 3352, 3353, 18, 1712, 21, 2, 97, 6, 623, 2046, 2, 14, 3950, 2, 15]\n"
     ]
    }
   ],
   "source": [
    "vocab = vocabulary.Vocabulary(utils.flatten(train_sentences),5000)\n",
    "x_ids = vocab.words_to_ids(train_sentences[0])\n",
    "print(\"x_ids =\", vocab.word_to_id)\n",
    "print(x_ids)"
   ]
  },
  {
   "cell_type": "code",
   "execution_count": null,
   "metadata": {
    "collapsed": true
   },
   "outputs": [],
   "source": [
    "\n"
   ]
  },
  {
   "cell_type": "code",
   "execution_count": 17,
   "metadata": {},
   "outputs": [
    {
     "name": "stdout",
     "output_type": "stream",
     "text": [
      "[[9, 1052, 18, 1495, 31, 3352, 3353, 18, 1712, 21, 2, 97, 6, 623, 2046, 2, 14, 3950, 2, 15], [9, 76, 37, 96, 137, 341, 290, 326, 207, 5, 5], [89, 720, 2, 81, 3, 4, 5, 184], [58, 22, 2, 414, 2, 415, 297, 19, 432, 449, 40, 880, 913, 646, 251, 42, 259, 42, 252, 269, 5], [49, 165, 374, 19, 6, 3951, 1178, 7, 13, 1112, 2047, 17, 156, 13, 2, 17, 156, 8, 2, 11, 13, 2, 17, 156, 11, 71, 71, 2, 4875], [84, 84, 96, 27, 265, 8, 2257, 624, 11, 84, 84, 478, 674, 675, 2546, 2, 2, 2, 4876, 1053, 388, 36], [57, 17, 6, 446, 14, 1608, 8, 6, 220, 4, 489, 67, 119, 32, 696, 8, 881, 88, 24, 6, 395, 1609, 5], [9, 68, 8, 882, 774, 355, 44, 2, 27, 2897, 88, 4, 367, 62, 1713, 18, 6, 1113, 13, 182, 2, 2, 106, 2, 1238], [27, 17, 185, 120, 77, 958, 7, 67, 2, 3, 5], [291, 7, 12, 110, 16, 78, 53, 176, 2, 4, 1714, 3354, 7, 1715, 151, 266, 63, 34, 1316, 4, 479, 5, 177, 1239], [143, 58, 47, 16, 53, 11, 11, 253, 625, 35, 626, 2, 1859, 50, 159, 2, 55, 4877, 6, 2258, 5], [3, 3, 52, 16, 56, 10, 1179, 2, 2, 28, 3952, 13, 45, 119, 32, 696, 8, 1609, 2898, 31, 2259, 2547, 8, 1414, 84, 84], [143, 58, 518, 549, 519, 416, 2, 4878, 804, 4879, 5], [9, 65, 6, 2548, 3953, 166, 2, 13, 6, 2, 4880, 166, 10, 1180, 4881, 23, 20, 41, 103, 8, 2, 68, 82, 14, 30, 45, 51, 15], [310, 2, 7, 144, 19, 490, 2, 86, 842, 458, 2, 87, 63, 48, 1496, 254, 11, 25, 33, 108, 11, 2, 275, 11], [9, 12, 914, 10, 2260, 2549, 18, 30, 959, 1317, 13, 2, 4882, 17, 6, 573, 4, 2, 2, 15], [9, 34, 44, 1497, 375, 28, 10, 95, 1114, 21, 21, 1498, 676, 301, 18, 1240, 279, 81, 13, 627, 586, 1054, 86, 15], [3, 75, 50, 178, 306, 11, 1499, 915, 247, 623, 14, 23, 4], [177, 389, 380, 60, 22, 83, 36, 2, 2, 2, 2, 491, 1610, 2548, 1415, 7, 508, 26, 69, 2550, 5, 5], [230, 19, 6, 104, 916, 805, 1115, 21, 347, 176, 35, 917, 19, 806, 15, 5, 280, 360]]\n"
     ]
    }
   ],
   "source": [
    "list_of_train_ids = list(map(vocab.words_to_ids, train_sentences))\n",
    "print(list_of_train_ids[0:20])\n",
    "\n",
    "\n",
    "list_of_validation_ids = list(map(vocab.words_to_ids, validation_sentences))\n",
    "\n",
    "list_of_test_ids = list(map(vocab.words_to_ids, test_sentences))\n"
   ]
  },
  {
   "cell_type": "code",
   "execution_count": 18,
   "metadata": {},
   "outputs": [
    {
     "data": {
      "text/plain": [
       "Counter({2: 3,\n",
       "         6: 1,\n",
       "         9: 1,\n",
       "         14: 1,\n",
       "         15: 1,\n",
       "         18: 2,\n",
       "         21: 1,\n",
       "         31: 1,\n",
       "         97: 1,\n",
       "         623: 1,\n",
       "         1052: 1,\n",
       "         1495: 1,\n",
       "         1712: 1,\n",
       "         2046: 1,\n",
       "         3352: 1,\n",
       "         3353: 1,\n",
       "         3950: 1})"
      ]
     },
     "execution_count": 18,
     "metadata": {},
     "output_type": "execute_result"
    }
   ],
   "source": [
    "collections.Counter(list_of_train_ids[0])"
   ]
  },
  {
   "cell_type": "code",
   "execution_count": 19,
   "metadata": {
    "collapsed": true
   },
   "outputs": [],
   "source": [
    "from scipy.sparse import csr_matrix \n",
    "def sparsify_data(list_of_ids):\n",
    "    row_indices = []\n",
    "    col_indices = []\n",
    "    values = []\n",
    "    rows = len(list_of_ids)\n",
    "\n",
    "    for row, x_ids in enumerate(list_of_ids):\n",
    "        x_fdict = collections.Counter(x_ids)\n",
    "        for wordid, count in x_fdict.items():\n",
    "            row_indices.append(row)       \n",
    "            col_indices.append(wordid)  # column is word id\n",
    "            values.append(count)        # value is count\n",
    "    x_sparse = csr_matrix((values, (row_indices, col_indices)),\n",
    "                              shape=[rows, vocab.size])\n",
    "    return x_sparse"
   ]
  },
  {
   "cell_type": "code",
   "execution_count": 20,
   "metadata": {
    "collapsed": true
   },
   "outputs": [],
   "source": [
    "x_train_sparse = sparsify_data(list_of_train_ids)\n",
    "x_validation_sparse = sparsify_data(list_of_validation_ids)\n",
    "x_test_sparse = sparsify_data(list_of_test_ids)\n"
   ]
  },
  {
   "cell_type": "code",
   "execution_count": null,
   "metadata": {
    "collapsed": true
   },
   "outputs": [],
   "source": []
  },
  {
   "cell_type": "code",
   "execution_count": 38,
   "metadata": {},
   "outputs": [
    {
     "name": "stdout",
     "output_type": "stream",
     "text": [
      " acc: 92.15%, recall: 94.20%, precision: 90.78%, f1: 92.46%,\n"
     ]
    }
   ],
   "source": [
    "from sklearn.naive_bayes import MultinomialNB\n",
    "from sklearn.metrics import f1_score, accuracy_score, recall_score, precision_score\n",
    "\n",
    "nb = MultinomialNB(alpha =  0.1)\n",
    "nb.fit(x_train_sparse, train_labels)\n",
    "y_pred = nb.predict(x_test_sparse)\n",
    "\n",
    "\n",
    "\n",
    "\n",
    "\n",
    "f1 = f1_score(test_labels, y_pred)\n",
    "acc = accuracy_score(test_labels, y_pred)\n",
    "recall = recall_score(test_labels, y_pred)\n",
    "precision = precision_score(test_labels, y_pred)\n",
    "print(\" acc: {:.02%}, recall: {:.02%}, precision: {:.02%}, f1: {:.02%},\".format(acc, recall, precision, f1))\n"
   ]
  },
  {
   "cell_type": "code",
   "execution_count": 31,
   "metadata": {
    "collapsed": true
   },
   "outputs": [],
   "source": [
    "linear_weights = nb.feature_log_prob_[1,:] - nb.feature_log_prob_[0,:]  # populate this with actual values\n",
    "\n",
    "top_negative_features = np.argsort(linear_weights)[0:100]\n",
    "top_positive_features = np.argsort(-linear_weights)[0:100]\n"
   ]
  },
  {
   "cell_type": "code",
   "execution_count": 32,
   "metadata": {},
   "outputs": [
    {
     "name": "stdout",
     "output_type": "stream",
     "text": [
      "Most negative features:\n",
      "  #win (-5.34)\n",
      "  ↴ (-5.27)\n",
      "  #blockchain (-5.04)\n",
      "  #giveaway (-4.98)\n",
      "  ⭐ (-4.90)\n",
      "  #photography (-4.83)\n",
      "  #job (-4.83)\n",
      "  #ico (-4.78)\n",
      "  registration (-4.61)\n",
      "  tokkens (-4.58)\n",
      "  cams (-4.58)\n",
      "  🎮 (-4.52)\n",
      "  🕰 (-4.52)\n",
      "  #health (-4.51)\n",
      "  🖥 (-4.50)\n",
      "  #hiring (-4.50)\n",
      "  💎 (-4.46)\n",
      "  #bitcoin (-4.41)\n",
      "  airdrop (-4.37)\n",
      "  #competition (-4.35)\n",
      "  #education (-4.32)\n",
      "  #cryptocurrency (-4.28)\n",
      "  blockchain (-4.22)\n",
      "  #nowplaying (-4.18)\n",
      "  #news (-4.13)\n",
      "  #luxury (-4.10)\n",
      "  #fortnite (-4.08)\n",
      "  #careerarc (-4.05)\n",
      "  #pop (-4.05)\n",
      "  #live (-4.01)\n",
      "  #cybersecurity (-3.99)\n",
      "  es (-3.99)\n",
      "  telegram (-3.99)\n",
      "  #iot (-3.99)\n",
      "  #elementary (-3.99)\n",
      "  #robotics (-3.97)\n",
      "  bitcoin (-3.97)\n",
      "  #music (-3.96)\n",
      "  #programming (-3.91)\n",
      "  ✔ (-3.89)\n",
      "  #bigdata (-3.89)\n",
      "  #fintech (-3.86)\n",
      "  #tron (-3.84)\n",
      "  token (-3.82)\n",
      "  #business (-3.79)\n",
      "  #architecture (-3.77)\n",
      "  #interiordesign (-3.77)\n",
      "  #eth (-3.75)\n",
      "  #free (-3.75)\n",
      "  #fashion (-3.74)\n",
      "  #tech (-3.72)\n",
      "  #ethereum (-3.72)\n",
      "  #decoration (-3.72)\n",
      "  ico (-3.67)\n",
      "  enter (-3.63)\n",
      "  #anime (-3.61)\n",
      "  #ai (-3.60)\n",
      "  #media (-3.58)\n",
      "  #ausgp (-3.58)\n",
      "  £ (-3.57)\n",
      "  #crypto (-3.55)\n",
      "  #hiphop (-3.55)\n",
      "  #trx (-3.55)\n",
      "  ➡ (-3.52)\n",
      "  camp (-3.52)\n",
      "  #jobs (-3.52)\n",
      "  #girls (-3.52)\n",
      "  tokens (-3.49)\n",
      "  #tokensale (-3.49)\n",
      "  #yoga (-3.49)\n",
      "  #airdrop (-3.49)\n",
      "  📢 (-3.49)\n",
      "  #history (-3.49)\n",
      "  cryptocurrency (-3.46)\n",
      "  DGDG:DGDG (-3.46)\n",
      "  #satoshi (-3.42)\n",
      "  rt (-3.39)\n",
      "  #startup (-3.39)\n",
      "  #security (-3.39)\n",
      "  #radio (-3.39)\n",
      "  3d (-3.35)\n",
      "  #np (-3.35)\n",
      "  #rock (-3.33)\n",
      "  #btc (-3.32)\n",
      "  #machinelearning (-3.32)\n",
      "  #breakingnews (-3.32)\n",
      "  #game (-3.32)\n",
      "  #dance (-3.32)\n",
      "  #world (-3.32)\n",
      "  💰 (-3.32)\n",
      "  #infosec (-3.28)\n",
      "  #datascience (-3.28)\n",
      "  items (-3.28)\n",
      "  #sports (-3.28)\n",
      "  #home (-3.28)\n",
      "  #airdropnew (-3.28)\n",
      "  #success (-3.28)\n",
      "  #socialmedia (-3.26)\n",
      "  giveaway (-3.26)\n",
      "  #youtube (-3.24)\n",
      "\n",
      "Most positive features:\n",
      "  #jokes (4.26)\n",
      "  #puns (4.13)\n",
      "  soundtwit (3.85)\n",
      "  fh__400inst (3.85)\n",
      "  isnt (3.79)\n",
      "  font (3.55)\n",
      "  #funnyquotes (3.50)\n",
      "  vocalistwithhis (3.47)\n",
      "  tone (3.47)\n",
      "  #funnysayings (3.31)\n",
      "  jokes (3.31)\n",
      "  shocked (3.27)\n",
      "  #oneliner (3.24)\n",
      "  #snarky (3.16)\n",
      "  🤦 (3.16)\n",
      "  :@ (3.16)\n",
      "  funny (3.12)\n",
      "  mean (3.11)\n",
      "  oh (3.10)\n",
      "  #wrestlemania (3.08)\n",
      "  wasn (3.08)\n",
      "  humor (3.06)\n",
      "  yeah (3.06)\n",
      "  btw (3.03)\n",
      "  #linkinbio (3.03)\n",
      "  lol (3.03)\n",
      "  clearly (3.01)\n",
      "  racist (2.99)\n",
      "  🤷 (2.99)\n",
      "  actually (2.98)\n",
      "  worse (2.94)\n",
      "  🙃 (2.94)\n",
      "  weird (2.89)\n",
      "  #yankees (2.89)\n",
      "  blew (2.83)\n",
      "  dare (2.83)\n",
      "  wouldnt (2.83)\n",
      "  failure (2.83)\n",
      "  yes (2.82)\n",
      "  joke (2.80)\n",
      "  happens (2.78)\n",
      "  insert (2.78)\n",
      "  gb (2.78)\n",
      "  genuinely (2.78)\n",
      "  assume (2.78)\n",
      "  quite (2.78)\n",
      "  😱 (2.78)\n",
      "  vocalistwith (2.78)\n",
      "  bullpen (2.72)\n",
      "  #pinstripepride (2.72)\n",
      "  actual (2.72)\n",
      "  bit (2.72)\n",
      "  thats (2.70)\n",
      "  kinda (2.65)\n",
      "  evil (2.65)\n",
      "  #humour (2.65)\n",
      "  #stanton (2.65)\n",
      "  😂 (2.63)\n",
      "  #funny (2.63)\n",
      "  handle (2.58)\n",
      "  saying (2.58)\n",
      "  middle (2.58)\n",
      "  legit (2.58)\n",
      "  😜 (2.58)\n",
      "  intended (2.58)\n",
      "  explain (2.58)\n",
      "  shut (2.58)\n",
      "  tweets (2.51)\n",
      "  though (2.51)\n",
      "  fault (2.51)\n",
      "  #follwme (2.51)\n",
      "  monday (2.51)\n",
      "  obviously (2.51)\n",
      "  #humor (2.51)\n",
      "  fine (2.47)\n",
      "  being (2.45)\n",
      "  hilarious (2.43)\n",
      "  #funniest (2.43)\n",
      "  dry (2.43)\n",
      "  yea (2.43)\n",
      "  asshole (2.43)\n",
      "  rude (2.43)\n",
      "  #next (2.43)\n",
      "  detect (2.43)\n",
      "  upset (2.43)\n",
      "  #notfeelingit (2.43)\n",
      "  surely (2.43)\n",
      "  #jokeoftheday (2.43)\n",
      "  hell (2.39)\n",
      "  sorry (2.36)\n",
      "  dumb (2.34)\n",
      "  bomber (2.34)\n",
      "  ah (2.34)\n",
      "  either (2.34)\n",
      "  #bloggersrequired (2.34)\n",
      "  bitch (2.34)\n",
      "  runs (2.34)\n",
      "  ppl (2.34)\n",
      "  sincere (2.34)\n",
      "  #annoyed (2.34)\n"
     ]
    }
   ],
   "source": [
    "print(\"Most negative features:\")\n",
    "for idx in top_negative_features:\n",
    "    print(\"  {:s} ({:.02f})\".format(vocab.id_to_word[idx], \n",
    "                                    linear_weights[idx]))\n",
    "print(\"\")\n",
    "print(\"Most positive features:\")\n",
    "for idx in top_positive_features:\n",
    "    print(\"  {:s} ({:.02f})\".format(vocab.id_to_word[idx], \n",
    "                                    linear_weights[idx]))\n",
    "    \n"
   ]
  },
  {
   "cell_type": "markdown",
   "metadata": {},
   "source": [
    "###### "
   ]
  },
  {
   "cell_type": "code",
   "execution_count": 25,
   "metadata": {},
   "outputs": [
    {
     "data": {
      "text/plain": [
       "[[28.690114576726558, 878],\n",
       " [20.33003586508525, 1347],\n",
       " [18.977145797523974, 293],\n",
       " [14.698275028445835, 1052],\n",
       " [14.208647072061297, 398],\n",
       " [13.731909665790454, 926],\n",
       " [13.044595796006831, 739],\n",
       " [13.010838669014362, 650],\n",
       " [11.629467758252588, 1196],\n",
       " [11.420560812188086, 1280],\n",
       " [11.042143505634144, 1134],\n",
       " [10.148719725777056, 462],\n",
       " [9.617576189762957, 211],\n",
       " [9.5488658665071853, 299],\n",
       " [9.5389881197696837, 487],\n",
       " [9.3927456985670119, 229],\n",
       " [8.9532812981314436, 150],\n",
       " [8.8012122156537487, 1186],\n",
       " [8.6591488587658034, 675],\n",
       " [8.4642346640941355, 572],\n",
       " [8.0031789081454576, 191],\n",
       " [7.8791992023561761, 454],\n",
       " [7.4346608409658188, 798],\n",
       " [7.2314671115133535, 894],\n",
       " [7.1870417306194128, 1019],\n",
       " [7.0601376204359099, 1128],\n",
       " [6.9318023766118699, 107],\n",
       " [6.8061754426091454, 956],\n",
       " [6.1266888406586588, 96],\n",
       " [6.1199595265395317, 396],\n",
       " [5.8452572114740917, 639],\n",
       " [5.7980974554012903, 1231],\n",
       " [5.7539827542498188, 748],\n",
       " [5.5528226159246543, 174],\n",
       " [5.4729822200263811, 479],\n",
       " [4.8809849173323556, 939],\n",
       " [4.6827662790301758, 1295],\n",
       " [4.6767738936558487, 1181],\n",
       " [4.5296012418019274, 1209],\n",
       " [4.5005416658533761, 87],\n",
       " [4.5005416658533761, 348],\n",
       " [4.5005416658533761, 616],\n",
       " [4.4613150501602234, 1284],\n",
       " [4.3656997244981994, 520],\n",
       " [4.2932356471832236, 978],\n",
       " [4.2664712655992503, 31],\n",
       " [4.134096028104949, 741],\n",
       " [4.1296037420554796, 979],\n",
       " [3.9938267014018578, 589],\n",
       " [3.9590619780323664, 1109],\n",
       " [3.9288554723438409, 54],\n",
       " [3.8858540956889698, 1144],\n",
       " [3.7833416141102418, 513],\n",
       " [3.7735637757494089, 693],\n",
       " [3.7192811504886976, 508],\n",
       " [3.6426071787813612, 84],\n",
       " [3.4849316505109016, 279],\n",
       " [3.256290807142193, 936],\n",
       " [3.1491761312101687, 927],\n",
       " [3.1342383797039979, 133],\n",
       " [3.126568131653471, 916],\n",
       " [2.9607642251496031, 37],\n",
       " [2.8352084292179143, 296],\n",
       " [2.5213301641410197, 1202],\n",
       " [2.5040136158927595, 568],\n",
       " [2.2785020894760422, 1281],\n",
       " [2.2785020894760422, 1338],\n",
       " [2.1678167336411462, 471],\n",
       " [2.1397220109997761, 1239],\n",
       " [2.0642501420923622, 86],\n",
       " [2.0229404962519482, 702],\n",
       " [1.9783149596091505, 210],\n",
       " [1.959746377282066, 1033],\n",
       " [1.9208613456734156, 728],\n",
       " [1.8498983512776803, 217],\n",
       " [1.8006417955837435, 1232],\n",
       " [1.7468208170379569, 923],\n",
       " [1.7211000017634888, 298],\n",
       " [1.7100405810951571, 3],\n",
       " [1.688472201173397, 1065],\n",
       " [1.6700312075587931, 505],\n",
       " [1.6536702754486043, 872],\n",
       " [1.6484745354293704, 637],\n",
       " [1.6062121970282419, 1113],\n",
       " [1.5643193460458065, 153],\n",
       " [1.497648384379886, 1036],\n",
       " [1.4585943169067548, 732],\n",
       " [1.3750229315923832, 308],\n",
       " [1.3631669233831474, 1191],\n",
       " [1.353452722127372, 591],\n",
       " [1.2962022454347846, 1044],\n",
       " [1.2885072897314132, 146],\n",
       " [1.1547327287754285, 430],\n",
       " [1.1011485305797066, 263],\n",
       " [1.0748917667655462, 733],\n",
       " [1.0594573972243495, 481],\n",
       " [0.94590999506732487, 900],\n",
       " [0.83054167251628996, 1214],\n",
       " [0.80463488188817678, 1110],\n",
       " [0.73297201034418435, 219],\n",
       " [0.6528784664092484, 12],\n",
       " [0.53038322002517191, 974],\n",
       " [0.50505265539524657, 835],\n",
       " [0.49028411520241377, 1062],\n",
       " [0.48473153965367999, 685],\n",
       " [0.39511118378210597, 558],\n",
       " [0.28057066045334977, 605],\n",
       " [0.23537841068320908, 1269],\n",
       " [0.18278191802922095, 955],\n",
       " [0.1173481326449064, 159],\n",
       " [0.071430701226802285, 910]]"
      ]
     },
     "execution_count": 25,
     "metadata": {},
     "output_type": "execute_result"
    }
   ],
   "source": [
    "predictions = nb.predict(x_test_sparse)\n",
    "wrong = predictions != test_labels\n",
    "logits = nb.predict_log_proba(x_test_sparse)\n",
    "\n",
    "def incorrect_confidence(wrong, logits, predictions):\n",
    "    indeces = np.where(wrong)\n",
    "    wrong_predictions = predictions[indeces]\n",
    "    wrong_logits = logits[indeces]\n",
    "    \n",
    "    return [[wrong_logits[i][value] - wrong_logits[i][1-value], indeces[0][i]] for i, value in enumerate(wrong_predictions)]\n",
    "\n",
    "sorted(incorrect_confidence(wrong, logits, predictions), key = lambda logit: -logit[0])\n"
   ]
  },
  {
   "cell_type": "code",
   "execution_count": 26,
   "metadata": {},
   "outputs": [
    {
     "name": "stdout",
     "output_type": "stream",
     "text": [
      "['what' 'is' 'with' 'that' '?' 'theyre' 'only' 'going' 'to' 'blame' 'the'\n",
      " 'guns' 'now' '?' 'no' 'people' '?' 'at' 'all' '?' 'oh' 'yeah' 'they'\n",
      " 'will' 'blame' 'trump' '.' 'there' 'is' 'no' 'agenda' 'though' '...'\n",
      " 'LINK']\n",
      "0\n",
      "1\n"
     ]
    }
   ],
   "source": [
    "index = 878\n",
    "print(test_sentences[index])\n",
    "print(test_labels[index])\n",
    "print(predictions[index])"
   ]
  },
  {
   "cell_type": "code",
   "execution_count": 27,
   "metadata": {},
   "outputs": [
    {
     "name": "stdout",
     "output_type": "stream",
     "text": [
      "['retweet' 'not' 'sure' 'about' 'the' 'cricket' 'ball' ',' 'but' 'bancroft'\n",
      " '’' 's' 'balls' 'must' 'be' 'reverse-swinging' 'quiet' 'a' 'bit' 'after'\n",
      " 'yesterday' '’' 's' 'events' '.' '😂' '😂' '😂' '…']\n",
      "0\n",
      "1\n"
     ]
    }
   ],
   "source": [
    "index = 1347\n",
    "print(test_sentences[index])\n",
    "print(test_labels[index])\n",
    "print(predictions[index])"
   ]
  },
  {
   "cell_type": "code",
   "execution_count": 28,
   "metadata": {},
   "outputs": [
    {
     "name": "stdout",
     "output_type": "stream",
     "text": [
      "['when' 'history' 'isn' '’' 't' 'being' 'altered' 'by' 'federal' 'govt'\n",
      " 'education' 'how' 'do' 'i' 'know' 'i' 'heard' 'mrs' 'obama' 'say' 'it'\n",
      " 'right' 'out' 'of' 'her' 'mouth' 'using' 'the' 'word' '(' '(' '(' '#alter'\n",
      " '#history' ')' ')' ')' 'main' 'while' 'in' 'history' 'this' 'was' 'taught'\n",
      " '#vtsen' 'LINK']\n",
      "0\n",
      "1\n"
     ]
    }
   ],
   "source": [
    "index = 293\n",
    "print(test_sentences[index])\n",
    "print(test_labels[index])\n",
    "print(predictions[index])"
   ]
  },
  {
   "cell_type": "code",
   "execution_count": 29,
   "metadata": {},
   "outputs": [
    {
     "name": "stdout",
     "output_type": "stream",
     "text": [
      "['i' 'genuinely' 'feel' 'sorry' 'for' 'someone' 'that' 'has' 'been'\n",
      " 'attacked' 'by' 'a' 'random' 'hacker' '.' 'i' 'have' 'to' 'deal' 'with'\n",
      " 'you' ',' 'bryan' 'and' 'the' 'switch' ';' 'the' 'beauty' 'of' 'the'\n",
      " 'script' 'writer' '.' 'you' 'think' 'youre' 'a' '@' '%' '!' '$' 'ing'\n",
      " 'alert' 'box' '!' '#security']\n",
      "0\n",
      "1\n"
     ]
    }
   ],
   "source": [
    "index = 1052\n",
    "print(test_sentences[index])\n",
    "print(test_labels[index])\n",
    "print(predictions[index])"
   ]
  },
  {
   "cell_type": "code",
   "execution_count": 30,
   "metadata": {},
   "outputs": [
    {
     "name": "stdout",
     "output_type": "stream",
     "text": [
      "['data' 'science' 'form' 'scratch' 'vs' 'python' 'for' 'data' 'analysis'\n",
      " '?' 'LINK' '#datascience' 'what' 'do' 'you' 'guys' 'think' '?' 'i' 'read'\n",
      " 'the' 'first' 'DG' 'chapters' 'of' 'scratch' 'and' 'maybe' 'it' 'was' 'me'\n",
      " 'but' 'i' 'felt' 'he' 'was' 'just' 'putting' 'out' 'code' 'and' 'not'\n",
      " 'explaining' 'it' '.' 'is' 'data' 'analysis' 'just' 'as' 'good' '?' 'subm'\n",
      " '…']\n",
      "0\n",
      "1\n"
     ]
    }
   ],
   "source": [
    "index = 398\n",
    "print(test_sentences[index])\n",
    "print(test_labels[index])\n",
    "print(predictions[index])"
   ]
  },
  {
   "cell_type": "code",
   "execution_count": 34,
   "metadata": {},
   "outputs": [
    {
     "name": "stdout",
     "output_type": "stream",
     "text": [
      "\n",
      "Most positive emoji features:\n",
      "  🤦 (3.16)\n",
      "  🤷 (2.99)\n",
      "  🙃 (2.94)\n",
      "  😱 (2.78)\n",
      "  😂 (2.63)\n"
     ]
    }
   ],
   "source": [
    "top_emojis = [\"🤦\",\"🤷\",\"🙃\",\"😱\",\"😂\"]\n",
    "print(\"\")\n",
    "print(\"Most positive emoji features:\")\n",
    "for idx in top_positive_features:\n",
    "    word = vocab.id_to_word[idx]\n",
    "    if word in top_emojis:\n",
    "        print(\"  {:s} ({:.02f})\".format(vocab.id_to_word[idx], \n",
    "                                    linear_weights[idx]))\n"
   ]
  },
  {
   "cell_type": "code",
   "execution_count": null,
   "metadata": {
    "collapsed": true
   },
   "outputs": [],
   "source": []
  }
 ],
 "metadata": {
  "kernelspec": {
   "display_name": "Python 3",
   "language": "python",
   "name": "python3"
  },
  "language_info": {
   "codemirror_mode": {
    "name": "ipython",
    "version": 3
   },
   "file_extension": ".py",
   "mimetype": "text/x-python",
   "name": "python",
   "nbconvert_exporter": "python",
   "pygments_lexer": "ipython3",
   "version": "3.6.3"
  }
 },
 "nbformat": 4,
 "nbformat_minor": 2
}
